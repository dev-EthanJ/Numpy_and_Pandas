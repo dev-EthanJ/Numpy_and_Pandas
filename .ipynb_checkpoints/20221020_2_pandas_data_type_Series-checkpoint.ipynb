{
 "cells": [
  {
   "cell_type": "markdown",
   "id": "0fe122b7",
   "metadata": {},
   "source": [
    "# pandas Series Data type 판다스 시리즈 자료형"
   ]
  },
  {
   "cell_type": "markdown",
   "id": "ecb1e29f",
   "metadata": {},
   "source": [
    "## 0. Pandas\n",
    "- 데이터 처리 및 분석을 위한 라이브러리\n",
    "- 대용량 데이터를 안정적이면서도 간편하게 처리\n",
    "- 서로 다른 데이터타입으로 열단위들을 구성할 수 있음\n",
    "(참고) Numpy : 전체 배열 원소를 동일한 타입으로 제한\n",
    "- 주요 기능\n",
    "    - 데이터 입출력 : csv, excel, RDB, JSON 등 다양한 포맷의 데이터를 효율적으로 처리할 수 있는 형식을 사용\n",
    "    - 데이터 가공 : 분리, 결합, 계층, 피봇 등\n",
    "    - 통계 분석 처리등"
   ]
  },
  {
   "cell_type": "code",
   "execution_count": 1,
   "id": "9a2d735f",
   "metadata": {},
   "outputs": [],
   "source": [
    "#pandas library, Series, DataFrame namespace 불러오기\n",
    "\n",
    "import pandas as pd"
   ]
  },
  {
   "cell_type": "markdown",
   "id": "bcbe03e3",
   "metadata": {},
   "source": [
    "## 1. Series Data type\n",
    "\n",
    "- 1차원 배열과 유사한 자료형\n",
    "    \n",
    "- 색인(index) : 행 번호\n",
    "    \n",
    "    - 각각의 데이터에 부여하는 속성으로 기본값은 0부터 1씩 증가하는 숫자 지정\n",
    "        \n",
    "    - index 파라미터를 통해 새로운 값으로 변경 가능\n",
    "    \n",
    "    - 리스트, 튜플 타입으로 새로운 값을 전달해야하며 다차원 자료형은 사용할 수 없음\n",
    "    \n",
    "    - 전달하는 색인의 개수와 데이터의 개수가 일치해야 함\n",
    "\n",
    "- 각각의 색인과 데이터가 매핑되어 있으므로 dictionary 자료형과 유사\n",
    "\n",
    "- dict + index\n",
    "\n",
    "- 여러 가지 데이터 타입 사용 가능\n",
    "    \n",
    "<img src=\"img/series_example.png\" width=\"250\" align=\"center\">"
   ]
  },
  {
   "cell_type": "markdown",
   "id": "40def89f",
   "metadata": {},
   "source": [
    "<br>\n",
    "\n",
    "- Series 생성"
   ]
  },
  {
   "cell_type": "code",
   "execution_count": 2,
   "id": "01f529a5",
   "metadata": {},
   "outputs": [
    {
     "name": "stderr",
     "output_type": "stream",
     "text": [
      "C:\\Users\\EthanJ\\AppData\\Local\\Temp\\ipykernel_1760\\2031691219.py:1: FutureWarning: The default dtype for empty Series will be 'object' instead of 'float64' in a future version. Specify a dtype explicitly to silence this warning.\n",
      "  pd.Series()\n"
     ]
    },
    {
     "data": {
      "text/plain": [
       "Series([], dtype: float64)"
      ]
     },
     "execution_count": 2,
     "metadata": {},
     "output_type": "execute_result"
    }
   ],
   "source": [
    "pd.Series()"
   ]
  },
  {
   "cell_type": "markdown",
   "id": "d1111e0d",
   "metadata": {},
   "source": [
    "### 1.1. Series 생성\n",
    "- 하나의 값(숫자, 문자) 또는 자료형(리스트, 튜플, np 배열)으로 데이터 전달\n",
    "\n",
    "### 1.2. Series 속성\n",
    "- 속성은 소괄호를 붙이지 않음\n",
    "- index : series 객체의 인덱스 배열을 반환\n",
    "- values : series 객체의 데이터(값) 배열을 반환\n",
    "- name : series 객체의 이름을 반환\n",
    "- dtype : series 객체의 데이터 타입을 반환\n",
    "- size : series 객체의 데이터 개수(길이)를 반환\n",
    "- shape : series 객체의 구조(행, 열, 차원)를 반환"
   ]
  },
  {
   "cell_type": "markdown",
   "id": "694153cc",
   "metadata": {},
   "source": [
    "<br>\n",
    "\n",
    "- 숫자 10을 data로 가지고 있는 Series\n",
    "\n",
    "- data 해석 > \n",
    "\n",
    "1. 왼쪽 0: 자동으로 생성되는 기본 index 번호 > 0부터 시작\n",
    "    \n",
    "2. 오른쪽 10: 입력한 data value"
   ]
  },
  {
   "cell_type": "code",
   "execution_count": 3,
   "id": "32cacf51",
   "metadata": {},
   "outputs": [
    {
     "data": {
      "text/plain": [
       "0    10\n",
       "dtype: int64"
      ]
     },
     "execution_count": 3,
     "metadata": {},
     "output_type": "execute_result"
    }
   ],
   "source": [
    "sre_1 = pd.Series(10)\n",
    "\n",
    "sre_1"
   ]
  },
  {
   "cell_type": "code",
   "execution_count": 4,
   "id": "9bb79215",
   "metadata": {},
   "outputs": [
    {
     "data": {
      "text/plain": [
       "10"
      ]
     },
     "execution_count": 4,
     "metadata": {},
     "output_type": "execute_result"
    }
   ],
   "source": [
    "# 값을 얻을때는 인덱싱이나 슬라이싱을 활용함\n",
    "sre_1[0]"
   ]
  },
  {
   "cell_type": "code",
   "execution_count": 5,
   "id": "2c7adb6d",
   "metadata": {},
   "outputs": [
    {
     "data": {
      "text/plain": [
       "array([10], dtype=int64)"
      ]
     },
     "execution_count": 5,
     "metadata": {},
     "output_type": "execute_result"
    }
   ],
   "source": [
    "# data 내부에 저장된  value 확인\n",
    "sre_1.values"
   ]
  },
  {
   "cell_type": "code",
   "execution_count": 6,
   "id": "b13d2cba",
   "metadata": {},
   "outputs": [
    {
     "data": {
      "text/plain": [
       "RangeIndex(start=0, stop=1, step=1)"
      ]
     },
     "execution_count": 6,
     "metadata": {},
     "output_type": "execute_result"
    }
   ],
   "source": [
    "# index 번호 확인\n",
    "# RangeIndex: dafault로 생성되는 index번호를 사용하는 경우 부여됨\n",
    "sre_1.index"
   ]
  },
  {
   "cell_type": "code",
   "execution_count": 7,
   "id": "a0ed009e",
   "metadata": {},
   "outputs": [
    {
     "data": {
      "text/plain": [
       "0    abc\n",
       "dtype: object"
      ]
     },
     "execution_count": 7,
     "metadata": {},
     "output_type": "execute_result"
    }
   ],
   "source": [
    "# 문자\n",
    "sre_2 = pd.Series(\"abc\")\n",
    "sre_2"
   ]
  },
  {
   "cell_type": "code",
   "execution_count": 8,
   "id": "3c29065d",
   "metadata": {},
   "outputs": [
    {
     "data": {
      "text/plain": [
       "array(['abc'], dtype=object)"
      ]
     },
     "execution_count": 8,
     "metadata": {},
     "output_type": "execute_result"
    }
   ],
   "source": [
    "# data check\n",
    "sre_2.values"
   ]
  },
  {
   "cell_type": "code",
   "execution_count": 9,
   "id": "44a07e05",
   "metadata": {},
   "outputs": [
    {
     "data": {
      "text/plain": [
       "RangeIndex(start=0, stop=1, step=1)"
      ]
     },
     "execution_count": 9,
     "metadata": {},
     "output_type": "execute_result"
    }
   ],
   "source": [
    "# index check\n",
    "sre_2.index"
   ]
  },
  {
   "cell_type": "code",
   "execution_count": 10,
   "id": "9b4bb983",
   "metadata": {},
   "outputs": [
    {
     "data": {
      "text/plain": [
       "0    10\n",
       "1    20\n",
       "2    30\n",
       "dtype: int64"
      ]
     },
     "execution_count": 10,
     "metadata": {},
     "output_type": "execute_result"
    }
   ],
   "source": [
    "# 리스트 자료형 Input\n",
    "sre_3 = pd.Series([10, 20, 30])\n",
    "sre_3"
   ]
  },
  {
   "cell_type": "code",
   "execution_count": 11,
   "id": "618b6561",
   "metadata": {},
   "outputs": [
    {
     "data": {
      "text/plain": [
       "array([10, 20, 30], dtype=int64)"
      ]
     },
     "execution_count": 11,
     "metadata": {},
     "output_type": "execute_result"
    }
   ],
   "source": [
    "# data check\n",
    "sre_3.values # NumPy.ndarray"
   ]
  },
  {
   "cell_type": "code",
   "execution_count": 12,
   "id": "c1d83a49",
   "metadata": {},
   "outputs": [
    {
     "data": {
      "text/plain": [
       "RangeIndex(start=0, stop=3, step=1)"
      ]
     },
     "execution_count": 12,
     "metadata": {},
     "output_type": "execute_result"
    }
   ],
   "source": [
    "# index check\n",
    "# 0 이상 3 미만 RangeIndex: 0, 1, 2\n",
    "sre_3.index"
   ]
  },
  {
   "cell_type": "code",
   "execution_count": 13,
   "id": "f4cd33de",
   "metadata": {},
   "outputs": [
    {
     "data": {
      "text/plain": [
       "0         10.3\n",
       "1         test\n",
       "2         2000\n",
       "3    [1, 2, 3]\n",
       "dtype: object"
      ]
     },
     "execution_count": 13,
     "metadata": {},
     "output_type": "execute_result"
    }
   ],
   "source": [
    "# item data type이 서로 다른 list data type input\n",
    "sre_4 = pd.Series([10.3, \"test\", 2000, [1, 2, 3]])\n",
    "sre_4"
   ]
  },
  {
   "cell_type": "code",
   "execution_count": 14,
   "id": "037e36b1",
   "metadata": {},
   "outputs": [],
   "source": [
    "# data type 특정지을 수 없을때 > dtype: object"
   ]
  },
  {
   "cell_type": "code",
   "execution_count": 15,
   "id": "e5583ea3",
   "metadata": {},
   "outputs": [
    {
     "data": {
      "text/plain": [
       "array([10.3, 'test', 2000, list([1, 2, 3])], dtype=object)"
      ]
     },
     "execution_count": 15,
     "metadata": {},
     "output_type": "execute_result"
    }
   ],
   "source": [
    "# data check\n",
    "sre_4.values"
   ]
  },
  {
   "cell_type": "code",
   "execution_count": 16,
   "id": "a25aad57",
   "metadata": {},
   "outputs": [
    {
     "data": {
      "text/plain": [
       "RangeIndex(start=0, stop=4, step=1)"
      ]
     },
     "execution_count": 16,
     "metadata": {},
     "output_type": "execute_result"
    }
   ],
   "source": [
    "# index check\n",
    "sre_4.index"
   ]
  },
  {
   "cell_type": "code",
   "execution_count": 17,
   "id": "ab8af0ef",
   "metadata": {},
   "outputs": [
    {
     "data": {
      "text/plain": [
       "a    10\n",
       "b    20\n",
       "c    30\n",
       "dtype: int64"
      ]
     },
     "execution_count": 17,
     "metadata": {},
     "output_type": "execute_result"
    }
   ],
   "source": [
    "# dict data type > 자동으로 라벨 부여, key > index, value > data\n",
    "sre_5 = pd.Series({'a':10, 'b':20, 'c':30})\n",
    "sre_5"
   ]
  },
  {
   "cell_type": "code",
   "execution_count": 18,
   "id": "088662c2",
   "metadata": {},
   "outputs": [
    {
     "data": {
      "text/plain": [
       "array([10, 20, 30], dtype=int64)"
      ]
     },
     "execution_count": 18,
     "metadata": {},
     "output_type": "execute_result"
    }
   ],
   "source": [
    "# data check\n",
    "sre_5.values"
   ]
  },
  {
   "cell_type": "code",
   "execution_count": 19,
   "id": "001a0574",
   "metadata": {},
   "outputs": [
    {
     "data": {
      "text/plain": [
       "Index(['a', 'b', 'c'], dtype='object')"
      ]
     },
     "execution_count": 19,
     "metadata": {},
     "output_type": "execute_result"
    }
   ],
   "source": [
    "# index check\n",
    "sre_5.index"
   ]
  },
  {
   "cell_type": "code",
   "execution_count": 20,
   "id": "56eb6445",
   "metadata": {},
   "outputs": [
    {
     "data": {
      "text/plain": [
       "10"
      ]
     },
     "execution_count": 20,
     "metadata": {},
     "output_type": "execute_result"
    }
   ],
   "source": [
    "# int index 병행 사용 가능\n",
    "sre_5[0]"
   ]
  },
  {
   "cell_type": "code",
   "execution_count": 21,
   "id": "9068c5b6",
   "metadata": {},
   "outputs": [
    {
     "data": {
      "text/plain": [
       "10"
      ]
     },
     "execution_count": 21,
     "metadata": {},
     "output_type": "execute_result"
    }
   ],
   "source": [
    "sre_5['a']"
   ]
  },
  {
   "cell_type": "code",
   "execution_count": 23,
   "id": "44d865d1",
   "metadata": {},
   "outputs": [
    {
     "data": {
      "text/plain": [
       "Index(['a', 'b', 'c'], dtype='object')"
      ]
     },
     "execution_count": 23,
     "metadata": {},
     "output_type": "execute_result"
    }
   ],
   "source": [
    "# 인덱스 새롭게 지정하기\n",
    "# 인덱스 속성(길이)을 참조하여 리스트, 튜플 타입으로 전달\n",
    "# 라벨 인덱스가 없던 경우 > 새롭게 라벨 인덱스 부여\n",
    "# 라벨 인덱스가 있던 경우 > 기존에 있던 라벨 인덱스에 덮어씌우기\n",
    "\n",
    "sre_5.index"
   ]
  },
  {
   "cell_type": "code",
   "execution_count": 24,
   "id": "343a9407",
   "metadata": {},
   "outputs": [
    {
     "data": {
      "text/plain": [
       "RangeIndex(start=0, stop=4, step=1)"
      ]
     },
     "execution_count": 24,
     "metadata": {},
     "output_type": "execute_result"
    }
   ],
   "source": [
    "# 컴퓨터 자동 부여 인덱스\n",
    "\n",
    "sre_4.index"
   ]
  },
  {
   "cell_type": "code",
   "execution_count": 25,
   "id": "ea3ba835",
   "metadata": {},
   "outputs": [
    {
     "data": {
      "text/plain": [
       "0    1.0\n",
       "1    2.0\n",
       "2    3.0\n",
       "3    4.0\n",
       "4    5.0\n",
       "dtype: float64"
      ]
     },
     "execution_count": 25,
     "metadata": {},
     "output_type": "execute_result"
    }
   ],
   "source": [
    "# tuple로도 생성 가능\n",
    "se_6 = pd.Series((1, 2, 3, 4, 5.0))\n",
    "se_6"
   ]
  },
  {
   "cell_type": "code",
   "execution_count": 28,
   "id": "f2890bdd",
   "metadata": {},
   "outputs": [
    {
     "data": {
      "text/plain": [
       "2018    1.0\n",
       "2019    2.0\n",
       "2020    3.0\n",
       "2021    4.0\n",
       "2022    5.0\n",
       "dtype: float64"
      ]
     },
     "execution_count": 28,
     "metadata": {},
     "output_type": "execute_result"
    }
   ],
   "source": [
    "# index를 새롭게 지정할 때 > RangeIndex범위만큼 길이를 가지는 리스트를 사용\n",
    "# 행 개수(data 개수)와 동일한 길이를 전달해야 한다\n",
    "se_6.index = [2018, 2019, 2020, 2021, 2022]\n",
    "se_6"
   ]
  },
  {
   "cell_type": "code",
   "execution_count": 29,
   "id": "be3974be",
   "metadata": {},
   "outputs": [
    {
     "data": {
      "text/plain": [
       "2021"
      ]
     },
     "execution_count": 29,
     "metadata": {},
     "output_type": "execute_result"
    }
   ],
   "source": [
    "# index를 지정하여 객체 생성\n",
    "# index 객체에 대해서 item reference는 가능\n",
    "se_6.index[3]"
   ]
  },
  {
   "cell_type": "code",
   "execution_count": 30,
   "id": "6e224874",
   "metadata": {},
   "outputs": [
    {
     "ename": "TypeError",
     "evalue": "Index does not support mutable operations",
     "output_type": "error",
     "traceback": [
      "\u001b[1;31m---------------------------------------------------------------------------\u001b[0m",
      "\u001b[1;31mTypeError\u001b[0m                                 Traceback (most recent call last)",
      "Input \u001b[1;32mIn [30]\u001b[0m, in \u001b[0;36m<cell line: 2>\u001b[1;34m()\u001b[0m\n\u001b[0;32m      1\u001b[0m \u001b[38;5;66;03m# index 객체 내부의 단일 라벨 인덱스만 수정하는 것은 불가능\u001b[39;00m\n\u001b[1;32m----> 2\u001b[0m se_6\u001b[38;5;241m.\u001b[39mindex[\u001b[38;5;241m-\u001b[39m\u001b[38;5;241m1\u001b[39m] \u001b[38;5;241m=\u001b[39m \u001b[38;5;241m2023\u001b[39m\n",
      "File \u001b[1;32mC:\\ProgramData\\Anaconda3\\lib\\site-packages\\pandas\\core\\indexes\\base.py:5021\u001b[0m, in \u001b[0;36mIndex.__setitem__\u001b[1;34m(self, key, value)\u001b[0m\n\u001b[0;32m   5019\u001b[0m \u001b[38;5;129m@final\u001b[39m\n\u001b[0;32m   5020\u001b[0m \u001b[38;5;28;01mdef\u001b[39;00m \u001b[38;5;21m__setitem__\u001b[39m(\u001b[38;5;28mself\u001b[39m, key, value):\n\u001b[1;32m-> 5021\u001b[0m     \u001b[38;5;28;01mraise\u001b[39;00m \u001b[38;5;167;01mTypeError\u001b[39;00m(\u001b[38;5;124m\"\u001b[39m\u001b[38;5;124mIndex does not support mutable operations\u001b[39m\u001b[38;5;124m\"\u001b[39m)\n",
      "\u001b[1;31mTypeError\u001b[0m: Index does not support mutable operations"
     ]
    }
   ],
   "source": [
    "# index 객체 내부의 단일 라벨 인덱스만 수정하는 것은 불가능\n",
    "se_6.index[-1] = 2023"
   ]
  },
  {
   "cell_type": "code",
   "execution_count": 31,
   "id": "fa2e3072",
   "metadata": {},
   "outputs": [
    {
     "data": {
      "text/plain": [
       "2018    1.0\n",
       "2019    2.0\n",
       "2020    3.0\n",
       "2021    4.0\n",
       "2023    5.0\n",
       "dtype: float64"
      ]
     },
     "execution_count": 31,
     "metadata": {},
     "output_type": "execute_result"
    }
   ],
   "source": [
    "# index 라벨링 수정 시 전체 인덱스를 대입해줘야 한다.\n",
    "se_6.index = [2018, 2019, 2020, 2021, 2023]\n",
    "\n",
    "se_6"
   ]
  },
  {
   "cell_type": "code",
   "execution_count": 32,
   "id": "d850778f",
   "metadata": {},
   "outputs": [
    {
     "data": {
      "text/plain": [
       "mon    10\n",
       "tue    20\n",
       "wed    30\n",
       "thu    40\n",
       "dtype: int64"
      ]
     },
     "execution_count": 32,
     "metadata": {},
     "output_type": "execute_result"
    }
   ],
   "source": [
    "# dict없이 Series에 라벨 index 부여하고 싶은 경우\n",
    "# Series() 생성 시 index를 parameter로 넘겨서 처리 가능\n",
    "# > pd.Series(data, index=[...])\n",
    "\n",
    "se_7 = pd.Series([10, 20, 30, 40], index = [\"mon\", \"tue\", \"wed\",\"thu\"])\n",
    "se_7"
   ]
  },
  {
   "cell_type": "code",
   "execution_count": 35,
   "id": "d5f6c102",
   "metadata": {},
   "outputs": [
    {
     "data": {
      "text/plain": [
       "array([10, 20, 30, 40], dtype=int64)"
      ]
     },
     "execution_count": 35,
     "metadata": {},
     "output_type": "execute_result"
    }
   ],
   "source": [
    "se_7.values"
   ]
  },
  {
   "cell_type": "code",
   "execution_count": 36,
   "id": "3ec66685",
   "metadata": {},
   "outputs": [
    {
     "data": {
      "text/plain": [
       "Index(['mon', 'tue', 'wed', 'thu'], dtype='object')"
      ]
     },
     "execution_count": 36,
     "metadata": {},
     "output_type": "execute_result"
    }
   ],
   "source": [
    "se_7.index"
   ]
  },
  {
   "cell_type": "code",
   "execution_count": 37,
   "id": "c8edf760",
   "metadata": {},
   "outputs": [
    {
     "data": {
      "text/plain": [
       "40"
      ]
     },
     "execution_count": 37,
     "metadata": {},
     "output_type": "execute_result"
    }
   ],
   "source": [
    "# 자동 부여된 숫자 인덱스도 여전히 사용 가능\n",
    "se_7[3]"
   ]
  },
  {
   "cell_type": "code",
   "execution_count": 38,
   "id": "0e7c5c20",
   "metadata": {},
   "outputs": [
    {
     "data": {
      "text/plain": [
       "40"
      ]
     },
     "execution_count": 38,
     "metadata": {},
     "output_type": "execute_result"
    }
   ],
   "source": [
    "se_7[\"thu\"]"
   ]
  },
  {
   "cell_type": "markdown",
   "id": "56777b59",
   "metadata": {},
   "source": [
    "### 1.3. dict 자료형과 유사한 Series 자료형"
   ]
  },
  {
   "cell_type": "code",
   "execution_count": 39,
   "id": "1d1be635",
   "metadata": {},
   "outputs": [
    {
     "name": "stdout",
     "output_type": "stream",
     "text": [
      "{'서울': 100, '경기': 200, '강원': 300, '부산': 400}\n",
      "서울    100\n",
      "경기    200\n",
      "강원    300\n",
      "부산    400\n",
      "dtype: int64\n"
     ]
    }
   ],
   "source": [
    "# dictionary 자료형으로 Series 생성\n",
    "data = {'서울':100, '경기':200, '강원':300, '부산':400}\n",
    "sample = pd.Series(data)\n",
    "\n",
    "print(data)\n",
    "print(sample)"
   ]
  },
  {
   "cell_type": "code",
   "execution_count": 40,
   "id": "aca6379d",
   "metadata": {},
   "outputs": [
    {
     "name": "stdout",
     "output_type": "stream",
     "text": [
      "True\n",
      "True\n"
     ]
    }
   ],
   "source": [
    "# Series 객체와 in 연산자\n",
    "# dict와 유사: in 연산자를 사용해 내부 요소 검사 시\n",
    "# key value에 해당하는 라벨을 이용해 해당 요소가 있는지 없는지 여부를 bool typedmfh cnffur\n",
    "print(\"서울\" in sample)\n",
    "print(\"강원\" in sample)"
   ]
  },
  {
   "cell_type": "code",
   "execution_count": 45,
   "id": "d6173e59",
   "metadata": {},
   "outputs": [
    {
     "name": "stdout",
     "output_type": "stream",
     "text": [
      "100\n",
      "200\n",
      "300\n",
      "400\n",
      "-------\n",
      "100\n",
      "200\n",
      "300\n",
      "400\n"
     ]
    }
   ],
   "source": [
    "# for문에서 in연산자로 접근: Series의 value값 reference\n",
    "\n",
    "for item in sample:\n",
    "    print(item)\n",
    "print(\"-------\")\n",
    "for value in sample.values:\n",
    "    print(value)"
   ]
  },
  {
   "cell_type": "code",
   "execution_count": 46,
   "id": "8c847fcb",
   "metadata": {},
   "outputs": [
    {
     "data": {
      "text/plain": [
       "서울    100.0\n",
       "경기    200.0\n",
       "강원    300.0\n",
       "제주      NaN\n",
       "dtype: float64"
      ]
     },
     "execution_count": 46,
     "metadata": {},
     "output_type": "execute_result"
    }
   ],
   "source": [
    "# 서울, 경기, 강원, 부산 > 서울, 경기, 강원, 제주로 label indexing 변경\n",
    "# 지정한 index 기준으로 Series 생성\n",
    "# 사용하는 index에 없는 값은 Series에 NaN값으로 저장\n",
    "\n",
    "# NaN: Not a Number > numpy에서 해당 위치가 비었음을 의미하는 자료(null)\n",
    "# None: Python 기본 자료형에서 값이 없음을 의미하는 자료\n",
    "index_2 = ['서울', '경기', '강원', '제주']\n",
    "sample_2 = pd.Series(data, index=index_2)\n",
    "sample_2"
   ]
  },
  {
   "cell_type": "code",
   "execution_count": 47,
   "id": "cb980a01",
   "metadata": {},
   "outputs": [
    {
     "data": {
      "text/plain": [
       "{'서울': 100, '경기': 200, '강원': 300, '부산': 400}"
      ]
     },
     "execution_count": 47,
     "metadata": {},
     "output_type": "execute_result"
    }
   ],
   "source": [
    "data"
   ]
  },
  {
   "cell_type": "markdown",
   "id": "03cd283a",
   "metadata": {},
   "source": [
    "### 1.4. 인덱싱(indexing)\n",
    "\n",
    "- 하나의 특정 값을 선택하거나 변경\n",
    "\n",
    "- 참조하는 index: 기본 숫자 index, label index\n",
    "\n",
    "- 새로운 index를 설정해도, 기본 숫자 index 사용 가능"
   ]
  },
  {
   "cell_type": "code",
   "execution_count": 50,
   "id": "370286b4",
   "metadata": {},
   "outputs": [
    {
     "data": {
      "text/plain": [
       "a    10\n",
       "b    20\n",
       "c    30\n",
       "dtype: int64"
      ]
     },
     "execution_count": 50,
     "metadata": {},
     "output_type": "execute_result"
    }
   ],
   "source": [
    "se6_data = {'a':10, 'b':20, 'c':30}\n",
    "se_6 = pd.Series(se6_data)\n",
    "se_6"
   ]
  },
  {
   "cell_type": "code",
   "execution_count": 51,
   "id": "52eda147",
   "metadata": {},
   "outputs": [
    {
     "name": "stdout",
     "output_type": "stream",
     "text": [
      "a\n",
      "10\n"
     ]
    }
   ],
   "source": [
    "# Series `se_6`의 첫 번째 data > index 0으로 조회\n",
    "# Series instance[index번호 or label숫자]\n",
    "print(se_6.index[0])\n",
    "print(se_6[0])"
   ]
  },
  {
   "cell_type": "code",
   "execution_count": 52,
   "id": "770b6389",
   "metadata": {},
   "outputs": [
    {
     "data": {
      "text/plain": [
       "10"
      ]
     },
     "execution_count": 52,
     "metadata": {},
     "output_type": "execute_result"
    }
   ],
   "source": [
    "# Series `se_6`에 매칭된 data 조회\n",
    "se_6['a']"
   ]
  },
  {
   "cell_type": "code",
   "execution_count": 53,
   "id": "f7bd7cf1",
   "metadata": {},
   "outputs": [
    {
     "data": {
      "text/plain": [
       "mon    10\n",
       "tue    20\n",
       "wed    30\n",
       "thu    40\n",
       "dtype: int64"
      ]
     },
     "execution_count": 53,
     "metadata": {},
     "output_type": "execute_result"
    }
   ],
   "source": [
    "# 요일-int 매칭 data 조회\n",
    "se_7"
   ]
  },
  {
   "cell_type": "code",
   "execution_count": 54,
   "id": "4a9f024f",
   "metadata": {},
   "outputs": [
    {
     "data": {
      "text/plain": [
       "mon     10\n",
       "tue     20\n",
       "wed    700\n",
       "thu     40\n",
       "dtype: int64"
      ]
     },
     "execution_count": 54,
     "metadata": {},
     "output_type": "execute_result"
    }
   ],
   "source": [
    "# Series `se_7`의 인덱스 `tue`에 해당하는 value data를 변경\n",
    "# index(labeling)은 개별적으로 하나하나 변경 불가능\n",
    "# index에 매칭된 data는 개별 data별 변경 가능\n",
    "se_7[2] = 700\n",
    "se_7"
   ]
  },
  {
   "cell_type": "code",
   "execution_count": 61,
   "id": "1218abda",
   "metadata": {},
   "outputs": [
    {
     "data": {
      "text/plain": [
       "mon     10\n",
       "wed    700\n",
       "dtype: int64"
      ]
     },
     "execution_count": 61,
     "metadata": {},
     "output_type": "execute_result"
    }
   ],
   "source": [
    "# Series에서 원하는 행(row)만 조회하기: 조회 할 row명을 list로 묶어서 전달\n",
    "# Series `se_7`에서 `wed`, `mon` label 조회\n",
    "# 이중list를 사용해 조회해야 함 > se_7['wed', 'mon'] > Error\n",
    "se_7[['mon', 'wed']]"
   ]
  },
  {
   "cell_type": "code",
   "execution_count": 58,
   "id": "f1be0b11",
   "metadata": {},
   "outputs": [
    {
     "ename": "KeyError",
     "evalue": "'key of type tuple not found and not a MultiIndex'",
     "output_type": "error",
     "traceback": [
      "\u001b[1;31m---------------------------------------------------------------------------\u001b[0m",
      "\u001b[1;31mKeyError\u001b[0m                                  Traceback (most recent call last)",
      "Input \u001b[1;32mIn [58]\u001b[0m, in \u001b[0;36m<cell line: 2>\u001b[1;34m()\u001b[0m\n\u001b[0;32m      1\u001b[0m \u001b[38;5;66;03m# 여러개의 index를 조회할 때 > list만 대입할 수 있다\u001b[39;00m\n\u001b[1;32m----> 2\u001b[0m \u001b[43mse_7\u001b[49m\u001b[43m[\u001b[49m\u001b[43m(\u001b[49m\u001b[38;5;124;43m'\u001b[39;49m\u001b[38;5;124;43mmon\u001b[39;49m\u001b[38;5;124;43m'\u001b[39;49m\u001b[43m,\u001b[49m\u001b[43m \u001b[49m\u001b[38;5;124;43m'\u001b[39;49m\u001b[38;5;124;43mwed\u001b[39;49m\u001b[38;5;124;43m'\u001b[39;49m\u001b[43m)\u001b[49m\u001b[43m]\u001b[49m\n",
      "File \u001b[1;32mC:\\ProgramData\\Anaconda3\\lib\\site-packages\\pandas\\core\\series.py:984\u001b[0m, in \u001b[0;36mSeries.__getitem__\u001b[1;34m(self, key)\u001b[0m\n\u001b[0;32m    981\u001b[0m     key \u001b[38;5;241m=\u001b[39m np\u001b[38;5;241m.\u001b[39masarray(key, dtype\u001b[38;5;241m=\u001b[39m\u001b[38;5;28mbool\u001b[39m)\n\u001b[0;32m    982\u001b[0m     \u001b[38;5;28;01mreturn\u001b[39;00m \u001b[38;5;28mself\u001b[39m\u001b[38;5;241m.\u001b[39m_get_values(key)\n\u001b[1;32m--> 984\u001b[0m \u001b[38;5;28;01mreturn\u001b[39;00m \u001b[38;5;28;43mself\u001b[39;49m\u001b[38;5;241;43m.\u001b[39;49m\u001b[43m_get_with\u001b[49m\u001b[43m(\u001b[49m\u001b[43mkey\u001b[49m\u001b[43m)\u001b[49m\n",
      "File \u001b[1;32mC:\\ProgramData\\Anaconda3\\lib\\site-packages\\pandas\\core\\series.py:999\u001b[0m, in \u001b[0;36mSeries._get_with\u001b[1;34m(self, key)\u001b[0m\n\u001b[0;32m    994\u001b[0m     \u001b[38;5;28;01mraise\u001b[39;00m \u001b[38;5;167;01mTypeError\u001b[39;00m(\n\u001b[0;32m    995\u001b[0m         \u001b[38;5;124m\"\u001b[39m\u001b[38;5;124mIndexing a Series with DataFrame is not \u001b[39m\u001b[38;5;124m\"\u001b[39m\n\u001b[0;32m    996\u001b[0m         \u001b[38;5;124m\"\u001b[39m\u001b[38;5;124msupported, use the appropriate DataFrame column\u001b[39m\u001b[38;5;124m\"\u001b[39m\n\u001b[0;32m    997\u001b[0m     )\n\u001b[0;32m    998\u001b[0m \u001b[38;5;28;01melif\u001b[39;00m \u001b[38;5;28misinstance\u001b[39m(key, \u001b[38;5;28mtuple\u001b[39m):\n\u001b[1;32m--> 999\u001b[0m     \u001b[38;5;28;01mreturn\u001b[39;00m \u001b[38;5;28;43mself\u001b[39;49m\u001b[38;5;241;43m.\u001b[39;49m\u001b[43m_get_values_tuple\u001b[49m\u001b[43m(\u001b[49m\u001b[43mkey\u001b[49m\u001b[43m)\u001b[49m\n\u001b[0;32m   1001\u001b[0m \u001b[38;5;28;01melif\u001b[39;00m \u001b[38;5;129;01mnot\u001b[39;00m is_list_like(key):\n\u001b[0;32m   1002\u001b[0m     \u001b[38;5;66;03m# e.g. scalars that aren't recognized by lib.is_scalar, GH#32684\u001b[39;00m\n\u001b[0;32m   1003\u001b[0m     \u001b[38;5;28;01mreturn\u001b[39;00m \u001b[38;5;28mself\u001b[39m\u001b[38;5;241m.\u001b[39mloc[key]\n",
      "File \u001b[1;32mC:\\ProgramData\\Anaconda3\\lib\\site-packages\\pandas\\core\\series.py:1034\u001b[0m, in \u001b[0;36mSeries._get_values_tuple\u001b[1;34m(self, key)\u001b[0m\n\u001b[0;32m   1031\u001b[0m     \u001b[38;5;28;01mreturn\u001b[39;00m result\n\u001b[0;32m   1033\u001b[0m \u001b[38;5;28;01mif\u001b[39;00m \u001b[38;5;129;01mnot\u001b[39;00m \u001b[38;5;28misinstance\u001b[39m(\u001b[38;5;28mself\u001b[39m\u001b[38;5;241m.\u001b[39mindex, MultiIndex):\n\u001b[1;32m-> 1034\u001b[0m     \u001b[38;5;28;01mraise\u001b[39;00m \u001b[38;5;167;01mKeyError\u001b[39;00m(\u001b[38;5;124m\"\u001b[39m\u001b[38;5;124mkey of type tuple not found and not a MultiIndex\u001b[39m\u001b[38;5;124m\"\u001b[39m)\n\u001b[0;32m   1036\u001b[0m \u001b[38;5;66;03m# If key is contained, would have returned by now\u001b[39;00m\n\u001b[0;32m   1037\u001b[0m indexer, new_index \u001b[38;5;241m=\u001b[39m \u001b[38;5;28mself\u001b[39m\u001b[38;5;241m.\u001b[39mindex\u001b[38;5;241m.\u001b[39mget_loc_level(key)\n",
      "\u001b[1;31mKeyError\u001b[0m: 'key of type tuple not found and not a MultiIndex'"
     ]
    }
   ],
   "source": [
    "# 여러개의 index를 조회할 때 > list만 대입할 수 있다\n",
    "se_7[('mon', 'wed')]"
   ]
  },
  {
   "cell_type": "markdown",
   "id": "c4e267bf",
   "metadata": {},
   "source": [
    "### 1.5. 슬라이싱(Slicing)\n",
    "- Series객체[시작인덱스 : 끝인덱스 : 간격]\n",
    "- 특정 범위의 값을 선택하거나 변경\n",
    "- 기본 숫자 인덱스 또는 새로운 인덱스 모두 사용 가능\n",
    "- 기본 숫자 인덱스를 사용해서 슬라이싱 할 때는 끝 인덱스 미포함\n",
    "- 라벨 인덱스를 사용해서 슬라이싱 할 때 끝 인덱스까지 모두 포함"
   ]
  },
  {
   "cell_type": "code",
   "execution_count": 62,
   "id": "1c318bd7",
   "metadata": {},
   "outputs": [
    {
     "data": {
      "text/plain": [
       "a    10\n",
       "b    20\n",
       "c    30\n",
       "d    40\n",
       "e    50\n",
       "dtype: int64"
      ]
     },
     "execution_count": 62,
     "metadata": {},
     "output_type": "execute_result"
    }
   ],
   "source": [
    "# index 0에서 index 2(포함)까지 조회\n",
    "se_1 = pd.Series([10, 20, 30, 40, 50], index=list('abcde'))\n",
    "se_1"
   ]
  },
  {
   "cell_type": "code",
   "execution_count": 63,
   "id": "97d1e851",
   "metadata": {},
   "outputs": [
    {
     "data": {
      "text/plain": [
       "a    10\n",
       "b    20\n",
       "dtype: int64"
      ]
     },
     "execution_count": 63,
     "metadata": {},
     "output_type": "execute_result"
    }
   ],
   "source": [
    "# RangeIndex: 0, 1\n",
    "se_1[0:2]"
   ]
  },
  {
   "cell_type": "code",
   "execution_count": 64,
   "id": "0ee334f3",
   "metadata": {},
   "outputs": [
    {
     "data": {
      "text/plain": [
       "a    10\n",
       "b    20\n",
       "c    30\n",
       "dtype: int64"
      ]
     },
     "execution_count": 64,
     "metadata": {},
     "output_type": "execute_result"
    }
   ],
   "source": [
    "# lable 'a' to label 'c' ('c' 포함)\n",
    "se_1['a':'c']"
   ]
  },
  {
   "cell_type": "code",
   "execution_count": 65,
   "id": "13af610d",
   "metadata": {},
   "outputs": [
    {
     "data": {
      "text/plain": [
       "a    10\n",
       "c    30\n",
       "dtype: int64"
      ]
     },
     "execution_count": 65,
     "metadata": {},
     "output_type": "execute_result"
    }
   ],
   "source": [
    "# 0부터 3까지 3포함 2개 간격\n",
    "se_1[0:4:2]"
   ]
  },
  {
   "cell_type": "code",
   "execution_count": 67,
   "id": "38f14412",
   "metadata": {},
   "outputs": [
    {
     "data": {
      "text/plain": [
       "b    20\n",
       "d    40\n",
       "dtype: int64"
      ]
     },
     "execution_count": 67,
     "metadata": {},
     "output_type": "execute_result"
    }
   ],
   "source": [
    "# index 'b' to 'd' (contains 'd') step=2\n",
    "se_1['b':'d':2]"
   ]
  },
  {
   "cell_type": "markdown",
   "id": "8f2390b2",
   "metadata": {},
   "source": [
    "### 1.6. 조건 색인(Boolean Indexing)\n",
    "\n",
    "- 객체에 벡터와 스칼라 연산을 적용하여 True인 데이터만 반환\n",
    "\n",
    "<img src=\"img/conditional_index.png\" width=\"700\" align=\"center\">"
   ]
  },
  {
   "cell_type": "code",
   "execution_count": 68,
   "id": "e7ef3c1a",
   "metadata": {},
   "outputs": [
    {
     "data": {
      "text/plain": [
       "0     10\n",
       "1     -3\n",
       "2     14\n",
       "3     70\n",
       "4    -44\n",
       "5    -18\n",
       "6     -5\n",
       "7      1\n",
       "8     -2\n",
       "9     12\n",
       "10     5\n",
       "dtype: int64"
      ]
     },
     "execution_count": 68,
     "metadata": {},
     "output_type": "execute_result"
    }
   ],
   "source": [
    "# 양수와 음수 데이터를 저장하고 있는 Series 생성\n",
    "se_2 = pd.Series([10, -3, 14, 70, -44, -18, -5, 1, -2, 12, 5])\n",
    "se_2"
   ]
  },
  {
   "cell_type": "code",
   "execution_count": 69,
   "id": "2d2d2778",
   "metadata": {},
   "outputs": [
    {
     "data": {
      "text/plain": [
       "0     False\n",
       "1      True\n",
       "2     False\n",
       "3     False\n",
       "4      True\n",
       "5      True\n",
       "6      True\n",
       "7     False\n",
       "8      True\n",
       "9     False\n",
       "10    False\n",
       "dtype: bool"
      ]
     },
     "execution_count": 69,
     "metadata": {},
     "output_type": "execute_result"
    }
   ],
   "source": [
    "# 음수인 data는 True로, 양수인 data는 False로 결과 return\n",
    "se_2 < 0"
   ]
  },
  {
   "cell_type": "code",
   "execution_count": 70,
   "id": "c22dda10",
   "metadata": {},
   "outputs": [
    {
     "data": {
      "text/plain": [
       "1    -3\n",
       "4   -44\n",
       "5   -18\n",
       "6    -5\n",
       "8    -2\n",
       "dtype: int64"
      ]
     },
     "execution_count": 70,
     "metadata": {},
     "output_type": "execute_result"
    }
   ],
   "source": [
    "# 조건색인으로 `se_2` data중 음수만 남기기\n",
    "se_2[se_2 < 0]"
   ]
  },
  {
   "cell_type": "code",
   "execution_count": 72,
   "id": "860e3b42",
   "metadata": {},
   "outputs": [
    {
     "data": {
      "text/plain": [
       "7     1\n",
       "10    5\n",
       "dtype: int64"
      ]
     },
     "execution_count": 72,
     "metadata": {},
     "output_type": "execute_result"
    }
   ],
   "source": [
    "# 두 개 이상의 조건 병렬형태로 처리하기.\n",
    "# 양수이면서 10보다 작은 값만 조건식으로 남기기\n",
    "se_2[(se_2 > 0) & (se_2 < 10)]"
   ]
  },
  {
   "cell_type": "markdown",
   "id": "538d687e",
   "metadata": {},
   "source": [
    "### 1.9. 산술연산\n",
    "- series 객체와 스칼라 값의 산술연산 => BroadCasting\n",
    "- series 객체 간의 산술연산\n",
    "    - 인덱스의 라벨이 동일한 것끼리 연산 수행, 공통으로 존재하지 않는 경우 NaN 반환\n",
    "    - 라벨이 없는 경우 차례대로 연산 수행, 개수가 동일하지 않는 경우 NaN 반환\n",
    "    - fill_value 인자를 통해 NaN이 아닌 특정 값으로 대체 가능\n",
    "    <img src=\"img/series_math.png\" width=\"500\" align=\"center\">\n",
    "- 연산의 종류\n",
    "    - 더하기 : +, add() 메서드\n",
    "    - 빼기 : -, sub() 메서드\n",
    "    - 곱하기 : *, mul() 메서드\n",
    "    - 나머지만 반환 : %\n",
    "    - 몫만 반환 : //"
   ]
  },
  {
   "cell_type": "code",
   "execution_count": 73,
   "id": "173ae9cb",
   "metadata": {},
   "outputs": [],
   "source": [
    "# sr_1 -> 라벨 : a, b, c, d -> 데이터 4개 [1, 2, 3, 4]\n",
    "# sr_2 -> 라벨 : a, c, d, e, f, g -> 데이터 6개 [10, 20, 30, 40, 50, 60]\n",
    "sr_1 = pd.Series([1, 2, 3, 4], index=list('abcd'))\n",
    "sr_2 = pd.Series([10, 20, 30, 40, 50, 60], index=list('acdefg'))"
   ]
  },
  {
   "cell_type": "code",
   "execution_count": 74,
   "id": "999829a7",
   "metadata": {},
   "outputs": [
    {
     "data": {
      "text/plain": [
       "a    1\n",
       "b    2\n",
       "c    3\n",
       "d    4\n",
       "dtype: int64"
      ]
     },
     "execution_count": 74,
     "metadata": {},
     "output_type": "execute_result"
    }
   ],
   "source": [
    "sr_1"
   ]
  },
  {
   "cell_type": "code",
   "execution_count": 76,
   "id": "9975ede5",
   "metadata": {},
   "outputs": [
    {
     "data": {
      "text/plain": [
       "a    10\n",
       "c    20\n",
       "d    30\n",
       "e    40\n",
       "f    50\n",
       "g    60\n",
       "dtype: int64"
      ]
     },
     "execution_count": 76,
     "metadata": {},
     "output_type": "execute_result"
    }
   ],
   "source": [
    "sr_2"
   ]
  },
  {
   "cell_type": "code",
   "execution_count": 77,
   "id": "a2386927",
   "metadata": {},
   "outputs": [
    {
     "data": {
      "text/plain": [
       "a     3\n",
       "b     6\n",
       "c     9\n",
       "d    12\n",
       "dtype: int64"
      ]
     },
     "execution_count": 77,
     "metadata": {},
     "output_type": "execute_result"
    }
   ],
   "source": [
    "# Series object와 scarla값의 산술 연산\n",
    "sr_1 * 3"
   ]
  },
  {
   "cell_type": "code",
   "execution_count": 78,
   "id": "c75924d2",
   "metadata": {},
   "outputs": [
    {
     "data": {
      "text/plain": [
       "a    11.0\n",
       "b     NaN\n",
       "c    23.0\n",
       "d    34.0\n",
       "e     NaN\n",
       "f     NaN\n",
       "g     NaN\n",
       "dtype: float64"
      ]
     },
     "execution_count": 78,
     "metadata": {},
     "output_type": "execute_result"
    }
   ],
   "source": [
    "# Series끼리 더하기 > 공통 label a, c, d에만 value부여 > 한 Series에만 존재하는 label value = `NaN`\n",
    "sr_1 + sr_2"
   ]
  },
  {
   "cell_type": "code",
   "execution_count": 81,
   "id": "52ff9d0f",
   "metadata": {},
   "outputs": [
    {
     "data": {
      "text/plain": [
       "a    11.0\n",
       "b     NaN\n",
       "c    23.0\n",
       "d    34.0\n",
       "e     NaN\n",
       "f     NaN\n",
       "g     NaN\n",
       "dtype: float64"
      ]
     },
     "execution_count": 81,
     "metadata": {},
     "output_type": "execute_result"
    }
   ],
   "source": [
    "# `fill_vaule parameter`: 공통으로 존재하지 않는 라벨에 대해서 NaN값을 적용하지 않고 특정 값으로 대체 사용 가능\n",
    "# pandas.Series() method를 이용할 때 parameter로 넘겨줄 수 있음\n",
    "sr_1.add(sr_2)"
   ]
  },
  {
   "cell_type": "code",
   "execution_count": null,
   "id": "9f319fcd",
   "metadata": {},
   "outputs": [],
   "source": []
  }
 ],
 "metadata": {
  "kernelspec": {
   "display_name": "Python 3 (ipykernel)",
   "language": "python",
   "name": "python3"
  },
  "language_info": {
   "codemirror_mode": {
    "name": "ipython",
    "version": 3
   },
   "file_extension": ".py",
   "mimetype": "text/x-python",
   "name": "python",
   "nbconvert_exporter": "python",
   "pygments_lexer": "ipython3",
   "version": "3.9.12"
  }
 },
 "nbformat": 4,
 "nbformat_minor": 5
}
