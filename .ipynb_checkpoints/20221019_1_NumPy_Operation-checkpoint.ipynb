{
 "cells": [
  {
   "cell_type": "markdown",
   "id": "31138fa1",
   "metadata": {},
   "source": [
    "# NumPy Operation 넘파이 연산"
   ]
  },
  {
   "cell_type": "code",
   "execution_count": 1,
   "id": "f0021c44",
   "metadata": {},
   "outputs": [],
   "source": [
    "import numpy as np"
   ]
  },
  {
   "cell_type": "markdown",
   "id": "0a1e0685",
   "metadata": {},
   "source": [
    "## 1. 산술연산\n",
    "\n",
    "1. 더하기: `+`, `add()`\n",
    "\n",
    "2. 빼기: `-`, `subtract()`\n",
    "\n",
    "3. 나누기: `/`, `divide()`\n",
    "\n",
    "4. 곱하기: `*`, `multiply()`\n",
    "\n",
    "5. 지수곱: `exp()`\n",
    "\n",
    "6. 제곱근: `sqru()`\n",
    "\n",
    "7. 로그: `log()`\n",
    "\n",
    "8. 내적(행렬곱): `dot()`"
   ]
  },
  {
   "cell_type": "code",
   "execution_count": 2,
   "id": "eb35fe7f",
   "metadata": {},
   "outputs": [],
   "source": [
    "# Numpy 객체 정보를 확인하기 위한 사용자 함수 정의 : 객체타입, 구조, 차원, 데이터타입\n",
    "def np_print(arr):\n",
    "    text=\"\"\"\n",
    "    type : {}\n",
    "    shape : {}\n",
    "    dimension : {}\n",
    "    dtype : {}\n",
    "    data : \\n {}\"\"\".format(type(arr), arr.shape, arr.ndim, arr.dtype, arr)\n",
    "    print(text)"
   ]
  },
  {
   "cell_type": "markdown",
   "id": "a281125b",
   "metadata": {},
   "source": [
    "<br>\n",
    "\n",
    "- 1 $\\leq x <$ 10 지정범위에서 1씩 증가하는 숫자를 데이터로 가진 3행 * 3열 배열"
   ]
  },
  {
   "cell_type": "code",
   "execution_count": 3,
   "id": "43061c3f",
   "metadata": {},
   "outputs": [
    {
     "name": "stdout",
     "output_type": "stream",
     "text": [
      "\n",
      "    type : <class 'numpy.ndarray'>\n",
      "    shape : (3, 3)\n",
      "    dimension : 2\n",
      "    dtype : int32\n",
      "    data : \n",
      " [[1 2 3]\n",
      " [4 5 6]\n",
      " [7 8 9]]\n"
     ]
    }
   ],
   "source": [
    "arr_10 = np.arange(1, 10).reshape(3, 3)\n",
    "\n",
    "np_print(arr_10)"
   ]
  },
  {
   "cell_type": "markdown",
   "id": "73597632",
   "metadata": {},
   "source": [
    "<br>\n",
    "\n",
    "- $4 \\leq x < 13$, 1씩 증가하는 정수 data, 3 rows X 3 columns 배열"
   ]
  },
  {
   "cell_type": "code",
   "execution_count": 4,
   "id": "972c2d2f",
   "metadata": {},
   "outputs": [
    {
     "name": "stdout",
     "output_type": "stream",
     "text": [
      "\n",
      "    type : <class 'numpy.ndarray'>\n",
      "    shape : (3, 3)\n",
      "    dimension : 2\n",
      "    dtype : int32\n",
      "    data : \n",
      " [[ 4  5  6]\n",
      " [ 7  8  9]\n",
      " [10 11 12]]\n"
     ]
    }
   ],
   "source": [
    "arr_13 = np.arange(4, 13).reshape(3, 3)\n",
    "\n",
    "np_print(arr_13)"
   ]
  },
  {
   "cell_type": "markdown",
   "id": "117e7958",
   "metadata": {},
   "source": [
    "<br>\n",
    "\n",
    "- $10 \\leq x < 22$, `x += 1`, (3, 4) 배열"
   ]
  },
  {
   "cell_type": "code",
   "execution_count": 5,
   "id": "feacfd84",
   "metadata": {},
   "outputs": [
    {
     "name": "stdout",
     "output_type": "stream",
     "text": [
      "\n",
      "    type : <class 'numpy.ndarray'>\n",
      "    shape : (3, 4)\n",
      "    dimension : 2\n",
      "    dtype : int32\n",
      "    data : \n",
      " [[10 11 12 13]\n",
      " [14 15 16 17]\n",
      " [18 19 20 21]]\n"
     ]
    }
   ],
   "source": [
    "arr_22 = np.arange(10, 22).reshape(3, 4)\n",
    "\n",
    "np_print(arr_22)"
   ]
  },
  {
   "cell_type": "markdown",
   "id": "06f87fb0",
   "metadata": {},
   "source": [
    "<br>\n",
    "\n",
    "### 1.1. 더하기\n",
    "\n",
    "- 산술연산자: `arr1 + arr2`\n",
    "\n",
    "- numpy method: `np.add(arr1, arr2)`"
   ]
  },
  {
   "cell_type": "code",
   "execution_count": 6,
   "id": "c04f4e7e",
   "metadata": {},
   "outputs": [
    {
     "name": "stdout",
     "output_type": "stream",
     "text": [
      "\n",
      "    type : <class 'numpy.ndarray'>\n",
      "    shape : (3, 3)\n",
      "    dimension : 2\n",
      "    dtype : int32\n",
      "    data : \n",
      " [[1 2 3]\n",
      " [4 5 6]\n",
      " [7 8 9]]\n",
      "\n",
      "    type : <class 'numpy.ndarray'>\n",
      "    shape : (3, 3)\n",
      "    dimension : 2\n",
      "    dtype : int32\n",
      "    data : \n",
      " [[ 4  5  6]\n",
      " [ 7  8  9]\n",
      " [10 11 12]]\n"
     ]
    }
   ],
   "source": [
    "np_print(arr_10)\n",
    "\n",
    "np_print(arr_13)"
   ]
  },
  {
   "cell_type": "markdown",
   "id": "03c815b6",
   "metadata": {},
   "source": [
    "<br>\n",
    "\n",
    "- 산술연산자: `arr1 + arr2`"
   ]
  },
  {
   "cell_type": "code",
   "execution_count": 7,
   "id": "ba04c1e2",
   "metadata": {},
   "outputs": [
    {
     "data": {
      "text/plain": [
       "array([[ 5,  7,  9],\n",
       "       [11, 13, 15],\n",
       "       [17, 19, 21]])"
      ]
     },
     "execution_count": 7,
     "metadata": {},
     "output_type": "execute_result"
    }
   ],
   "source": [
    "arr_10 + arr_13"
   ]
  },
  {
   "cell_type": "markdown",
   "id": "999571eb",
   "metadata": {},
   "source": [
    "<br>\n",
    "\n",
    "- numpy method: `np.add(arr1, arr2)`"
   ]
  },
  {
   "cell_type": "code",
   "execution_count": 8,
   "id": "702a0e82",
   "metadata": {},
   "outputs": [
    {
     "data": {
      "text/plain": [
       "array([[ 5,  7,  9],\n",
       "       [11, 13, 15],\n",
       "       [17, 19, 21]])"
      ]
     },
     "execution_count": 8,
     "metadata": {},
     "output_type": "execute_result"
    }
   ],
   "source": [
    "np.add(arr_10, arr_13)"
   ]
  },
  {
   "cell_type": "markdown",
   "id": "370c1a44",
   "metadata": {},
   "source": [
    "<br>\n",
    "\n",
    "- `shape`$(x_1, x_2, ..., x_n)$이 다른 `ndarray`끼리 더하기 연산 > **VauleError**"
   ]
  },
  {
   "cell_type": "code",
   "execution_count": 9,
   "id": "54d0ff98",
   "metadata": {},
   "outputs": [
    {
     "ename": "ValueError",
     "evalue": "operands could not be broadcast together with shapes (3,3) (3,4) ",
     "output_type": "error",
     "traceback": [
      "\u001b[1;31m---------------------------------------------------------------------------\u001b[0m",
      "\u001b[1;31mValueError\u001b[0m                                Traceback (most recent call last)",
      "\u001b[1;32m~\\AppData\\Local\\Temp\\ipykernel_8440\\1923253017.py\u001b[0m in \u001b[0;36m<module>\u001b[1;34m\u001b[0m\n\u001b[1;32m----> 1\u001b[1;33m \u001b[0mnp\u001b[0m\u001b[1;33m.\u001b[0m\u001b[0madd\u001b[0m\u001b[1;33m(\u001b[0m\u001b[0marr_10\u001b[0m\u001b[1;33m,\u001b[0m \u001b[0marr_22\u001b[0m\u001b[1;33m)\u001b[0m\u001b[1;33m\u001b[0m\u001b[1;33m\u001b[0m\u001b[0m\n\u001b[0m",
      "\u001b[1;31mValueError\u001b[0m: operands could not be broadcast together with shapes (3,3) (3,4) "
     ]
    }
   ],
   "source": [
    "np.add(arr_10, arr_22)"
   ]
  },
  {
   "cell_type": "markdown",
   "id": "974e1e90",
   "metadata": {},
   "source": [
    "### 1.2. 빼기\n",
    "\n",
    "- 산술연산자: `arr1 - arr2`\n",
    "\n",
    "- numpy method `np.subtract(arr1, arr2)`\n",
    "\n",
    "\n",
    "<br>\n",
    "\n",
    "- 산술연산자: `arr1 - arr2`"
   ]
  },
  {
   "cell_type": "code",
   "execution_count": 10,
   "id": "34615b34",
   "metadata": {},
   "outputs": [
    {
     "data": {
      "text/plain": [
       "array([[-3, -3, -3],\n",
       "       [-3, -3, -3],\n",
       "       [-3, -3, -3]])"
      ]
     },
     "execution_count": 10,
     "metadata": {},
     "output_type": "execute_result"
    }
   ],
   "source": [
    "arr_10 - arr_13"
   ]
  },
  {
   "cell_type": "markdown",
   "id": "8f9ae60d",
   "metadata": {},
   "source": [
    "<br>\n",
    "\n",
    "- numpy method: `np.subtract(arr1, arr2)`"
   ]
  },
  {
   "cell_type": "code",
   "execution_count": 11,
   "id": "f1c9d4e0",
   "metadata": {},
   "outputs": [
    {
     "data": {
      "text/plain": [
       "array([[3, 3, 3],\n",
       "       [3, 3, 3],\n",
       "       [3, 3, 3]])"
      ]
     },
     "execution_count": 11,
     "metadata": {},
     "output_type": "execute_result"
    }
   ],
   "source": [
    "np.subtract(arr_13, arr_10)"
   ]
  },
  {
   "cell_type": "markdown",
   "id": "76ac9ddd",
   "metadata": {},
   "source": [
    "<br>\n",
    "\n",
    "- `-`, `np.subtract()` > parameter 순서에 따라 결과 다름   \n",
    "\n",
    "<br>\n",
    "\n",
    "`np.subtract(a, b) == a - b` $\\neq$ `np.subtract(b, a) == b - a`"
   ]
  },
  {
   "cell_type": "code",
   "execution_count": 12,
   "id": "e7d66341",
   "metadata": {},
   "outputs": [
    {
     "data": {
      "text/plain": [
       "array([[-3, -3, -3],\n",
       "       [-3, -3, -3],\n",
       "       [-3, -3, -3]])"
      ]
     },
     "execution_count": 12,
     "metadata": {},
     "output_type": "execute_result"
    }
   ],
   "source": [
    "np.subtract(arr_10, arr_13)"
   ]
  },
  {
   "cell_type": "markdown",
   "id": "18e44c8d",
   "metadata": {},
   "source": [
    "<br>\n",
    "\n",
    "### 1.3. 나누기\n",
    "\n",
    "- 산술연산자: `arr1 / arr2`\n",
    "\n",
    "- numpy method: `np.divide(arr1, arr2)`\n",
    "\n",
    "<br>\n",
    "\n",
    "- 산술연산자: `arr1 / arr2`"
   ]
  },
  {
   "cell_type": "code",
   "execution_count": 13,
   "id": "b9c75f5e",
   "metadata": {},
   "outputs": [
    {
     "name": "stdout",
     "output_type": "stream",
     "text": [
      "\n",
      "    type : <class 'numpy.ndarray'>\n",
      "    shape : (3, 3)\n",
      "    dimension : 2\n",
      "    dtype : int32\n",
      "    data : \n",
      " [[1 2 3]\n",
      " [4 5 6]\n",
      " [7 8 9]]\n",
      "\n",
      "    type : <class 'numpy.ndarray'>\n",
      "    shape : (3, 3)\n",
      "    dimension : 2\n",
      "    dtype : int32\n",
      "    data : \n",
      " [[ 4  5  6]\n",
      " [ 7  8  9]\n",
      " [10 11 12]]\n"
     ]
    }
   ],
   "source": [
    "np_print(arr_10)\n",
    "\n",
    "np_print(arr_13)"
   ]
  },
  {
   "cell_type": "code",
   "execution_count": 14,
   "id": "753f410d",
   "metadata": {},
   "outputs": [
    {
     "data": {
      "text/plain": [
       "array([[0.25      , 0.4       , 0.5       ],\n",
       "       [0.57142857, 0.625     , 0.66666667],\n",
       "       [0.7       , 0.72727273, 0.75      ]])"
      ]
     },
     "execution_count": 14,
     "metadata": {},
     "output_type": "execute_result"
    }
   ],
   "source": [
    "arr_10 / arr_13"
   ]
  },
  {
   "cell_type": "markdown",
   "id": "dd621808",
   "metadata": {},
   "source": [
    ": $x \\rightarrow \\infty$에서, $\\frac{x}{x-3} \\rightarrow 1$\n",
    "\n",
    "<br>\n",
    "\n",
    "- numpy method: `np.divide(arr1, arr2)`"
   ]
  },
  {
   "cell_type": "code",
   "execution_count": 15,
   "id": "489ce281",
   "metadata": {},
   "outputs": [
    {
     "data": {
      "text/plain": [
       "array([[4.        , 2.5       , 2.        ],\n",
       "       [1.75      , 1.6       , 1.5       ],\n",
       "       [1.42857143, 1.375     , 1.33333333]])"
      ]
     },
     "execution_count": 15,
     "metadata": {},
     "output_type": "execute_result"
    }
   ],
   "source": [
    "np.divide(arr_13, arr_10)"
   ]
  },
  {
   "cell_type": "markdown",
   "id": "e79bc10b",
   "metadata": {},
   "source": [
    ": $x \\rightarrow \\infty$에서, $\\frac{x - 3}{x} \\rightarrow 1$"
   ]
  },
  {
   "cell_type": "markdown",
   "id": "0d4e1dc9",
   "metadata": {},
   "source": [
    "<br>\n",
    "\n",
    "### 1.4. 곱하기\n",
    "\n",
    "- `ndarry` 곱하기: `arr1[i][j] * arr2[i][j] == result[i][j]`\n",
    "\n",
    "- 산술연산자: `arr1 * arr2`\n",
    "\n",
    "- numpy method: `np.multiply(arr1, arr2)`"
   ]
  },
  {
   "cell_type": "markdown",
   "id": "051f005a",
   "metadata": {},
   "source": [
    "<br>\n",
    "\n",
    "- 산술연산자: `arr1 * arr2`"
   ]
  },
  {
   "cell_type": "code",
   "execution_count": 16,
   "id": "a98dac07",
   "metadata": {},
   "outputs": [
    {
     "data": {
      "text/plain": [
       "array([[  4,  10,  18],\n",
       "       [ 28,  40,  54],\n",
       "       [ 70,  88, 108]])"
      ]
     },
     "execution_count": 16,
     "metadata": {},
     "output_type": "execute_result"
    }
   ],
   "source": [
    "arr_10 * arr_13"
   ]
  },
  {
   "cell_type": "code",
   "execution_count": 17,
   "id": "4a13226d",
   "metadata": {},
   "outputs": [
    {
     "data": {
      "text/plain": [
       "array([[  4,  10,  18],\n",
       "       [ 28,  40,  54],\n",
       "       [ 70,  88, 108]])"
      ]
     },
     "execution_count": 17,
     "metadata": {},
     "output_type": "execute_result"
    }
   ],
   "source": [
    "arr_13 * arr_10"
   ]
  },
  {
   "cell_type": "markdown",
   "id": "8ca58658",
   "metadata": {},
   "source": [
    "<br>\n",
    "\n",
    "- numpy method: `np.multiply(arr1, arr2)`"
   ]
  },
  {
   "cell_type": "code",
   "execution_count": 18,
   "id": "07cc8b22",
   "metadata": {},
   "outputs": [
    {
     "data": {
      "text/plain": [
       "array([[  4,  10,  18],\n",
       "       [ 28,  40,  54],\n",
       "       [ 70,  88, 108]])"
      ]
     },
     "execution_count": 18,
     "metadata": {},
     "output_type": "execute_result"
    }
   ],
   "source": [
    "np.multiply(arr_10, arr_13)"
   ]
  },
  {
   "cell_type": "markdown",
   "id": "ad114b2e",
   "metadata": {},
   "source": [
    "<br>\n",
    "\n",
    "### 1.5. 지수곱 표현\n",
    "\n",
    "- 지수(exponent): 부동 소수점(floating point)으로 숫자를 거듭제곱을 사용해 표현   \n",
    "2.14e+2$ = 2.14 \\times 10^2 = 214$, 2.98e-8$ = 2.98 \\times 10^{-8} = 0.0000000298$ \n",
    "\n",
    "- numpy method: `np.exp(arr)`: 밑 = 자연상수 $e$인 지수함수 $y = e^x$   \n",
    "\\> $x =$ `arr[i][j]`일 때의 $y$값"
   ]
  },
  {
   "cell_type": "markdown",
   "id": "ceb84bf5",
   "metadata": {},
   "source": [
    "<br>\n",
    "\n",
    "- 지수곱 numpy method: `np.exp(arr)`"
   ]
  },
  {
   "cell_type": "code",
   "execution_count": 19,
   "id": "ae66d38e",
   "metadata": {},
   "outputs": [
    {
     "name": "stdout",
     "output_type": "stream",
     "text": [
      "\n",
      "    type : <class 'numpy.ndarray'>\n",
      "    shape : (3, 3)\n",
      "    dimension : 2\n",
      "    dtype : int32\n",
      "    data : \n",
      " [[1 2 3]\n",
      " [4 5 6]\n",
      " [7 8 9]]\n"
     ]
    },
    {
     "data": {
      "text/plain": [
       "array([[2.71828183e+00, 7.38905610e+00, 2.00855369e+01],\n",
       "       [5.45981500e+01, 1.48413159e+02, 4.03428793e+02],\n",
       "       [1.09663316e+03, 2.98095799e+03, 8.10308393e+03]])"
      ]
     },
     "execution_count": 19,
     "metadata": {},
     "output_type": "execute_result"
    }
   ],
   "source": [
    "np_print(arr_10)\n",
    "\n",
    "np.exp(arr_10)"
   ]
  },
  {
   "cell_type": "markdown",
   "id": "3a29f315",
   "metadata": {},
   "source": [
    "<br>\n",
    "\n",
    "### 1.6. 제곱근\n",
    "\n",
    "- numpy method: `np.sqrt(arr)`\n",
    "\n",
    "![sqrt](https://github.com/insung-ethan-j/Numpy_and_Pandas/blob/49ad1db57b6ce921ab1b3391f071422e061a5900/img/sqrt.gif?raw=true)"
   ]
  },
  {
   "cell_type": "markdown",
   "id": "7de8268f",
   "metadata": {},
   "source": [
    "- **n이하의 소수 개수** 구하기 > **n의 제곱근이하의 소수 개수**와 동일   \n",
    ":소인수분해시, 제곱근이 중심이 되어 양쪽이 곱대칭 > 제곱근까지의 소수만 계산\n",
    "<br>\n",
    "\n",
    "- \"_에라토스테네스의 체_\": n 이하의 소수 개수 구하기    \n",
    ":$2 \\leq x \\leq n$, $x = $소수, $x$의 배수를 제외하면 > n 이하의 소수만 남는다\n",
    "\n"
   ]
  },
  {
   "cell_type": "code",
   "execution_count": 20,
   "id": "db433570",
   "metadata": {},
   "outputs": [
    {
     "data": {
      "text/plain": [
       "array([[1.        , 1.41421356, 1.73205081],\n",
       "       [2.        , 2.23606798, 2.44948974],\n",
       "       [2.64575131, 2.82842712, 3.        ]])"
      ]
     },
     "execution_count": 20,
     "metadata": {},
     "output_type": "execute_result"
    }
   ],
   "source": [
    "np.sqrt(arr_10)"
   ]
  },
  {
   "cell_type": "markdown",
   "id": "8645a9bd",
   "metadata": {},
   "source": [
    "### 1.7. 내적(행렬곱)\n",
    "\n",
    "- numpy method: `np.dot(arr1, arr2)` $= {A_1}{A_2} = (arr1_{ij}) \\times (arr2_{ij}) $\n",
    "\n",
    "![dot_product](https://github.com/insung-ethan-j/Numpy_and_Pandas/blob/49ad1db57b6ce921ab1b3391f071422e061a5900/img/dotProduct.png?raw=true)"
   ]
  },
  {
   "cell_type": "code",
   "execution_count": 21,
   "id": "9e605109",
   "metadata": {},
   "outputs": [
    {
     "name": "stdout",
     "output_type": "stream",
     "text": [
      "\n",
      "    type : <class 'numpy.ndarray'>\n",
      "    shape : (3, 3)\n",
      "    dimension : 2\n",
      "    dtype : int32\n",
      "    data : \n",
      " [[ 48  54  60]\n",
      " [111 126 141]\n",
      " [174 198 222]]\n"
     ]
    }
   ],
   "source": [
    "np_print(np.dot(arr_10, arr_13))"
   ]
  },
  {
   "cell_type": "markdown",
   "id": "0920e186",
   "metadata": {},
   "source": [
    "<br>\n",
    "\n",
    "## 2. Numpy 배열 연산\n",
    "\n",
    "### 2.1. 비교 연산\n",
    "\n",
    "1. item\n",
    "   \n",
    "   - 값에 대한 비교: `==`, `!=`\n",
    "   \n",
    "   - 크기에 대한 비교 : `>`, `<`, `>=`, `<=`\n",
    "   \n",
    "2. 배열\n",
    "\n",
    "    - 두 배열 전체에 대한 비교: `np.array_equal(arr1, arr2)`\n"
   ]
  },
  {
   "cell_type": "markdown",
   "id": "2aa58230",
   "metadata": {},
   "source": [
    "<br>\n",
    "\n",
    "- 값에 대한 비교: `==`, `!=`\n",
    "\n",
    "    - 두 배열 item에 대하여 값이 동일한지 비교\n",
    "\n",
    "    - return value: 각 item마다의 비교 결과(bool type)가 item인 배열"
   ]
  },
  {
   "cell_type": "code",
   "execution_count": 22,
   "id": "3611a27b",
   "metadata": {},
   "outputs": [
    {
     "data": {
      "text/plain": [
       "array([[False, False, False],\n",
       "       [False, False, False],\n",
       "       [False, False, False]])"
      ]
     },
     "execution_count": 22,
     "metadata": {},
     "output_type": "execute_result"
    }
   ],
   "source": [
    "arr_10 == arr_13"
   ]
  },
  {
   "cell_type": "code",
   "execution_count": 23,
   "id": "9bff3c36",
   "metadata": {},
   "outputs": [
    {
     "data": {
      "text/plain": [
       "array([[ True,  True,  True],\n",
       "       [ True,  True,  True],\n",
       "       [ True,  True,  True]])"
      ]
     },
     "execution_count": 23,
     "metadata": {},
     "output_type": "execute_result"
    }
   ],
   "source": [
    "arr_10 != arr_13"
   ]
  },
  {
   "cell_type": "markdown",
   "id": "696ef2b8",
   "metadata": {},
   "source": [
    "<br>\n",
    "\n",
    "- `shape`이 같은 배열에 대해서만 비교 가능"
   ]
  },
  {
   "cell_type": "code",
   "execution_count": 24,
   "id": "8aceca31",
   "metadata": {},
   "outputs": [
    {
     "name": "stderr",
     "output_type": "stream",
     "text": [
      "C:\\Users\\EthanJ\\AppData\\Local\\Temp\\ipykernel_8440\\2882259080.py:1: DeprecationWarning: elementwise comparison failed; this will raise an error in the future.\n",
      "  arr_10 == arr_22\n"
     ]
    },
    {
     "data": {
      "text/plain": [
       "False"
      ]
     },
     "execution_count": 24,
     "metadata": {},
     "output_type": "execute_result"
    }
   ],
   "source": [
    "arr_10 == arr_22"
   ]
  },
  {
   "cell_type": "markdown",
   "id": "7b41edc3",
   "metadata": {},
   "source": [
    "<br>\n",
    "\n",
    "- 크기에 대한 비교: 배열의 item별로 각각 비교 > bool type 배열 return"
   ]
  },
  {
   "cell_type": "code",
   "execution_count": 25,
   "id": "3ffa4c5b",
   "metadata": {},
   "outputs": [
    {
     "data": {
      "text/plain": [
       "array([[ True,  True,  True],\n",
       "       [ True,  True,  True],\n",
       "       [ True,  True,  True]])"
      ]
     },
     "execution_count": 25,
     "metadata": {},
     "output_type": "execute_result"
    }
   ],
   "source": [
    "arr_13 > arr_10"
   ]
  },
  {
   "cell_type": "markdown",
   "id": "66ee8675",
   "metadata": {},
   "source": [
    "<br>\n",
    "\n",
    "- 두 배열 전체에 대한 비교: `np.array_equal(arr1, arr2)`    \n",
    "\\> return single value(bool type)"
   ]
  },
  {
   "cell_type": "code",
   "execution_count": 26,
   "id": "a2505200",
   "metadata": {},
   "outputs": [
    {
     "data": {
      "text/plain": [
       "False"
      ]
     },
     "execution_count": 26,
     "metadata": {},
     "output_type": "execute_result"
    }
   ],
   "source": [
    "np.array_equal(arr_10, arr_13)"
   ]
  },
  {
   "cell_type": "markdown",
   "id": "839d9366",
   "metadata": {},
   "source": [
    "<br>\n",
    "\n",
    "## 3. 집계 함수\n",
    "\n",
    "- `ndarry`에 대해 집계 함수를 적용할 때 > 반드시 설정된 기준`axis`에 따라 연산 수행\n",
    "\n",
    "<br>\n",
    "\n",
    "- default: `axis=None`: 전체 데이터를 1차원 배열로 간주, 집계 함수의 연산 범위를 전체 배열로 지정\n",
    "\n",
    "<br>\n",
    "\n",
    "![axis_none](https://github.com/insung-ethan-j/Numpy_and_Pandas/blob/49ad1db57b6ce921ab1b3391f071422e061a5900/img/axis_none.jpg?raw=true)\n",
    "\n",
    "<br>\n",
    "\n",
    "- `axis=0`: 행(row)의 축방향, $\\downarrow$, **column 기준**으로 동일한 열에 있는 요소를 하나의 그룹으로 묶어 집계 함수의 연산 범위로 지정\n",
    "\n",
    "![axis_0](https://github.com/insung-ethan-j/Numpy_and_Pandas/blob/49ad1db57b6ce921ab1b3391f071422e061a5900/img/axis_0.jpg?raw=true)\n",
    "\n",
    "<br>\n",
    "\n",
    "- `axis=1`: 열(column)의 축방향, $\\rightarrow$, **row 기준**으로 동일한 행에 있는 요소를 하나의 그룹으로 묶어 집계 함수의 연산 범위로 지정\n",
    "\n",
    "![axis_1](https://github.com/insung-ethan-j/Numpy_and_Pandas/blob/49ad1db57b6ce921ab1b3391f071422e061a5900/img/axis_1.jpg?raw=true)\n",
    "\n",
    "<br>\n",
    "\n",
    "\n",
    "- **집계 함수** : 배열 obj에 대한 method로 사용하거나, Numpy의 method로 사용 \n",
    "\n",
    "1. 합계 : `.sum()`\n",
    "\n",
    "2. 최소값 : `.min()`\n",
    "\n",
    "3. 최대값 : `.max()`\n",
    "\n",
    "4. 누적 합계 : `.cumsum()`\n",
    "\n",
    "5. 평균 : `.mean()`\n",
    "\n",
    "6. 중앙값 : `.median()`   \n",
    "\\> 크기 순으로 나열된 데이터에 대해 중앙에 위치하는 값\n",
    "\n",
    "7. 상관계수 : `.corrcoef()`   \n",
    "\\> 데이터 간의 상관관계를 나타내는 수치($-1 \\leq r \\leq 1$)\n",
    "       \n",
    "8. 표준편차 : `.std()`   \n",
    "\\> $\\sigma$, 분산의 제곱근, 각 데이터가 평균으로부터 흩어져 있는 정도\n",
    "       \n",
    "9. 고유값 : `.unique()`"
   ]
  },
  {
   "cell_type": "code",
   "execution_count": 27,
   "id": "e97014d9",
   "metadata": {},
   "outputs": [
    {
     "name": "stdout",
     "output_type": "stream",
     "text": [
      "\n",
      "    type : <class 'numpy.ndarray'>\n",
      "    shape : (3, 3)\n",
      "    dimension : 2\n",
      "    dtype : int32\n",
      "    data : \n",
      " [[1 2 3]\n",
      " [4 5 6]\n",
      " [7 8 9]]\n"
     ]
    }
   ],
   "source": [
    "np_print(arr_10)"
   ]
  },
  {
   "cell_type": "markdown",
   "id": "038ab958",
   "metadata": {},
   "source": [
    "### 3.1. 합계"
   ]
  },
  {
   "cell_type": "markdown",
   "id": "d83fad55",
   "metadata": {},
   "source": [
    "합계: 전체 기준 > 모든 요소에 대한 합\n",
    "\n",
    "1. ndarry method: `arr.sum()`\n",
    "\n",
    "2. numpy method: `np.sum(arr)`"
   ]
  },
  {
   "cell_type": "code",
   "execution_count": 28,
   "id": "a4deeeed",
   "metadata": {},
   "outputs": [
    {
     "data": {
      "text/plain": [
       "45"
      ]
     },
     "execution_count": 28,
     "metadata": {},
     "output_type": "execute_result"
    }
   ],
   "source": [
    "arr_10.sum()"
   ]
  },
  {
   "cell_type": "code",
   "execution_count": 29,
   "id": "a98b7bab",
   "metadata": {},
   "outputs": [
    {
     "data": {
      "text/plain": [
       "45"
      ]
     },
     "execution_count": 29,
     "metadata": {},
     "output_type": "execute_result"
    }
   ],
   "source": [
    "np.sum(arr_10)"
   ]
  },
  {
   "cell_type": "markdown",
   "id": "baafcee6",
   "metadata": {},
   "source": [
    "<br>\n",
    "\n",
    "- `axis=1`: 열의 축방향, $\\rightarrow$, row별, 행별 합계\n",
    "\n",
    "- `arr.sum()`, `np.sum(arr)` optional parameter: `axis=1`\n",
    "\n",
    "- return: \\[0번 row의 합, 1번 row의 합, 2번 row의 합, ..., n번 row의 합\\]"
   ]
  },
  {
   "cell_type": "code",
   "execution_count": 30,
   "id": "02eb9f2a",
   "metadata": {},
   "outputs": [
    {
     "name": "stdout",
     "output_type": "stream",
     "text": [
      "\n",
      "    type : <class 'numpy.ndarray'>\n",
      "    shape : (3, 3)\n",
      "    dimension : 2\n",
      "    dtype : int32\n",
      "    data : \n",
      " [[1 2 3]\n",
      " [4 5 6]\n",
      " [7 8 9]]\n",
      "[ 6 15 24]\n",
      "[ 6 15 24]\n"
     ]
    }
   ],
   "source": [
    "np_print(arr_10)\n",
    "\n",
    "print(arr_10.sum(axis=1))\n",
    "print(np.sum(arr_10, axis=1))"
   ]
  },
  {
   "cell_type": "markdown",
   "id": "098c2f74",
   "metadata": {},
   "source": [
    "<br>\n",
    "\n",
    "- `axis=0`: 행의 축 방향, $\\downarrow$, 열별, column별 합산 \n",
    "\n",
    "- `arr.sum()`, `np.sum(arr)` optinal parameter: `axis=0`\n",
    "\n",
    "- return: \\[index 0 column sum, index 1, ..., index n-2, index n-1\\]"
   ]
  },
  {
   "cell_type": "code",
   "execution_count": 31,
   "id": "73763e95",
   "metadata": {},
   "outputs": [
    {
     "name": "stdout",
     "output_type": "stream",
     "text": [
      "[12 15 18]\n",
      "[12 15 18]\n",
      "45\n"
     ]
    }
   ],
   "source": [
    "print(arr_10.sum(axis=0))\n",
    "print(np.sum(arr_10, axis=0))\n",
    "\n",
    "print(np.sum(arr_10))"
   ]
  },
  {
   "cell_type": "markdown",
   "id": "cfe0659d",
   "metadata": {},
   "source": [
    "<br>\n",
    "\n",
    "### 3.2. 최소값"
   ]
  },
  {
   "cell_type": "markdown",
   "id": "be29e6de",
   "metadata": {},
   "source": [
    "1. ndarray method: `arr.min()`\n",
    "    \n",
    "2. numpy method: `np.min(arr)`\n",
    "\n",
    "<br>\n",
    "\n",
    "- 전체 기준 최소값: `axis=None` (default)"
   ]
  },
  {
   "cell_type": "code",
   "execution_count": 32,
   "id": "d2c3be3b",
   "metadata": {},
   "outputs": [
    {
     "name": "stdout",
     "output_type": "stream",
     "text": [
      "\n",
      "    type : <class 'numpy.ndarray'>\n",
      "    shape : (3, 4)\n",
      "    dimension : 2\n",
      "    dtype : int32\n",
      "    data : \n",
      " [[10 11 12 13]\n",
      " [14 15 16 17]\n",
      " [18 19 20 21]]\n",
      "10\n",
      "10\n"
     ]
    }
   ],
   "source": [
    "np_print(arr_22)\n",
    "\n",
    "print(arr_22.min())\n",
    "\n",
    "print(np.min(arr_22))"
   ]
  },
  {
   "cell_type": "markdown",
   "id": "df9838bb",
   "metadata": {},
   "source": [
    "<br>\n",
    "\n",
    "- c.f. Python list에서 최소값 찾기"
   ]
  },
  {
   "cell_type": "code",
   "execution_count": 33,
   "id": "1989e400",
   "metadata": {},
   "outputs": [
    {
     "data": {
      "text/plain": [
       "1"
      ]
     },
     "execution_count": 33,
     "metadata": {},
     "output_type": "execute_result"
    }
   ],
   "source": [
    "x_list = [1, 2, 3, 4]\n",
    "\n",
    "min(x_list)"
   ]
  },
  {
   "cell_type": "markdown",
   "id": "4701b7ff",
   "metadata": {},
   "source": [
    "<br>\n",
    "\n",
    "- `axis=1`: column의 축방향, $\\rightarrow$, row 단위 기준\n",
    "\n",
    "- `arr.min(axis=1)`, `np.min(arr, axis=1)`: row별 최소값 찾기\n",
    "\n",
    "- return값 > \\[index 0 row min, index 1 row min, ... index n-1 row min\\]"
   ]
  },
  {
   "cell_type": "code",
   "execution_count": 34,
   "id": "dc22a0fb",
   "metadata": {},
   "outputs": [
    {
     "name": "stdout",
     "output_type": "stream",
     "text": [
      "\n",
      "    type : <class 'numpy.ndarray'>\n",
      "    shape : (3, 3)\n",
      "    dimension : 2\n",
      "    dtype : int32\n",
      "    data : \n",
      " [[1 2 3]\n",
      " [4 5 6]\n",
      " [7 8 9]]\n",
      "[1 4 7]\n",
      "[1 4 7]\n"
     ]
    }
   ],
   "source": [
    "np_print(arr_10)\n",
    "\n",
    "print(arr_10.min(axis=1))\n",
    "print(np.min(arr_10, axis=1))"
   ]
  },
  {
   "cell_type": "markdown",
   "id": "fca1b80c",
   "metadata": {},
   "source": [
    "<br>\n",
    "\n",
    "- `axis=0`: row의 축방향, $\\downarrow$, 열 기준, column 기준\n",
    "\n",
    "- `arr.min(axis=0)`, `np.min(arr, axis=0)`: 열 기준 최소값 찾기\n",
    "\n",
    "- return값 > \\[0번 column min, 1번 column min, ... n-1번 column min\\]"
   ]
  },
  {
   "cell_type": "code",
   "execution_count": 35,
   "id": "c73e147f",
   "metadata": {},
   "outputs": [
    {
     "name": "stdout",
     "output_type": "stream",
     "text": [
      "\n",
      "    type : <class 'numpy.ndarray'>\n",
      "    shape : (3, 4)\n",
      "    dimension : 2\n",
      "    dtype : int32\n",
      "    data : \n",
      " [[10 11 12 13]\n",
      " [14 15 16 17]\n",
      " [18 19 20 21]]\n",
      "[10 11 12 13]\n",
      "[10 11 12 13]\n"
     ]
    }
   ],
   "source": [
    "np_print(arr_22)\n",
    "\n",
    "print(arr_22.min(axis=0))\n",
    "print(np.min(arr_22, axis=0))"
   ]
  },
  {
   "cell_type": "markdown",
   "id": "93eb4fa2",
   "metadata": {},
   "source": [
    "<br>\n",
    "\n",
    "### 3.3. 최대값"
   ]
  },
  {
   "cell_type": "markdown",
   "id": "862eeb59",
   "metadata": {},
   "source": [
    "1. ndarray method: `arr.max()`\n",
    "\n",
    "2. numpy method: `np.max(arr)`"
   ]
  },
  {
   "cell_type": "markdown",
   "id": "abc143a4",
   "metadata": {},
   "source": [
    "<br>\n",
    "\n",
    "- `axis=None` (default): 전체 기준"
   ]
  },
  {
   "cell_type": "code",
   "execution_count": 36,
   "id": "c16bff7a",
   "metadata": {},
   "outputs": [
    {
     "name": "stdout",
     "output_type": "stream",
     "text": [
      "21\n",
      "21\n"
     ]
    }
   ],
   "source": [
    "print(arr_22.max())\n",
    "\n",
    "print(np.max(arr_22))"
   ]
  },
  {
   "cell_type": "markdown",
   "id": "855f0192",
   "metadata": {},
   "source": [
    "<br>\n",
    "\n",
    "- `axis=1`: column 축 방향, $\\rightarrow$, row 단위 기준"
   ]
  },
  {
   "cell_type": "code",
   "execution_count": 37,
   "id": "8652930f",
   "metadata": {},
   "outputs": [
    {
     "name": "stdout",
     "output_type": "stream",
     "text": [
      "\n",
      "    type : <class 'numpy.ndarray'>\n",
      "    shape : (3, 4)\n",
      "    dimension : 2\n",
      "    dtype : int32\n",
      "    data : \n",
      " [[10 11 12 13]\n",
      " [14 15 16 17]\n",
      " [18 19 20 21]]\n",
      "[13 17 21]\n"
     ]
    }
   ],
   "source": [
    "np_print(arr_22)\n",
    "\n",
    "print(arr_22.max(axis=1))"
   ]
  },
  {
   "cell_type": "markdown",
   "id": "910af90d",
   "metadata": {},
   "source": [
    "<br>\n",
    "\n",
    "- `axis=0`: row 축 방향, $\\downarrow$, column 단위"
   ]
  },
  {
   "cell_type": "code",
   "execution_count": 38,
   "id": "03e693e4",
   "metadata": {},
   "outputs": [
    {
     "name": "stdout",
     "output_type": "stream",
     "text": [
      "\n",
      "    type : <class 'numpy.ndarray'>\n",
      "    shape : (3, 3)\n",
      "    dimension : 2\n",
      "    dtype : int32\n",
      "    data : \n",
      " [[ 4  5  6]\n",
      " [ 7  8  9]\n",
      " [10 11 12]]\n",
      "[10 11 12]\n"
     ]
    }
   ],
   "source": [
    "np_print(arr_13)\n",
    "\n",
    "print(np.max(arr_13, axis=0))"
   ]
  },
  {
   "cell_type": "markdown",
   "id": "dca613b9",
   "metadata": {},
   "source": [
    "<br>\n",
    "\n",
    "### 3.4. 누적 합계"
   ]
  },
  {
   "cell_type": "markdown",
   "id": "dbfeddc8",
   "metadata": {},
   "source": [
    "1. ndarray method: `arr.cumsum()`\n",
    "\n",
    "2. numpy method: `np.cumsum(arr)`\n",
    "   \n",
    " \\> return: 누적합 item을 가진 `ndarray`\n",
    "\n",
    "<br>\n",
    "\n",
    "- default: `axis=None`: 배열 전체를 1차원 배열로 본 기준 > return 1차원 배열"
   ]
  },
  {
   "cell_type": "code",
   "execution_count": 39,
   "id": "ffed2e2d",
   "metadata": {},
   "outputs": [
    {
     "name": "stdout",
     "output_type": "stream",
     "text": [
      "\n",
      "    type : <class 'numpy.ndarray'>\n",
      "    shape : (3, 3)\n",
      "    dimension : 2\n",
      "    dtype : int32\n",
      "    data : \n",
      " [[ 4  5  6]\n",
      " [ 7  8  9]\n",
      " [10 11 12]]\n",
      "[ 4  9 15 22 30 39 49 60 72]\n",
      "[ 4  9 15 22 30 39 49 60 72]\n"
     ]
    }
   ],
   "source": [
    "np_print(arr_13)\n",
    "\n",
    "print(arr_13.cumsum())\n",
    "print(np.cumsum(arr_13))"
   ]
  },
  {
   "cell_type": "markdown",
   "id": "cccc236d",
   "metadata": {},
   "source": [
    "<br>\n",
    "\n",
    "- `axis=1`: column의 축 방향, $\\rightarrow$, row 단위"
   ]
  },
  {
   "cell_type": "code",
   "execution_count": 40,
   "id": "c7599abb",
   "metadata": {},
   "outputs": [
    {
     "name": "stdout",
     "output_type": "stream",
     "text": [
      "\n",
      "    type : <class 'numpy.ndarray'>\n",
      "    shape : (3, 3)\n",
      "    dimension : 2\n",
      "    dtype : int32\n",
      "    data : \n",
      " [[1 2 3]\n",
      " [4 5 6]\n",
      " [7 8 9]]\n",
      "\n",
      "    type : <class 'numpy.ndarray'>\n",
      "    shape : (3, 3)\n",
      "    dimension : 2\n",
      "    dtype : int32\n",
      "    data : \n",
      " [[ 1  3  6]\n",
      " [ 4  9 15]\n",
      " [ 7 15 24]]\n"
     ]
    }
   ],
   "source": [
    "np_print(arr_10)\n",
    "\n",
    "np_print(arr_10.cumsum(axis=1))"
   ]
  },
  {
   "cell_type": "markdown",
   "id": "016ccd5a",
   "metadata": {},
   "source": [
    "<br>\n",
    "\n",
    "- `axis=0`: row의 축 방향, $\\downarrow$, column 기준 연산"
   ]
  },
  {
   "cell_type": "code",
   "execution_count": 41,
   "id": "e11653dc",
   "metadata": {},
   "outputs": [
    {
     "name": "stdout",
     "output_type": "stream",
     "text": [
      "\n",
      "    type : <class 'numpy.ndarray'>\n",
      "    shape : (3, 3)\n",
      "    dimension : 2\n",
      "    dtype : int32\n",
      "    data : \n",
      " [[ 1  2  3]\n",
      " [ 5  7  9]\n",
      " [12 15 18]]\n"
     ]
    }
   ],
   "source": [
    "np_print(np.cumsum(arr_10, axis=0))"
   ]
  },
  {
   "cell_type": "markdown",
   "id": "4d4be888",
   "metadata": {},
   "source": [
    "<br>\n",
    "\n",
    "### 3.5. 평균(mean, average)"
   ]
  },
  {
   "cell_type": "markdown",
   "id": "536aefb3",
   "metadata": {},
   "source": [
    "1. ndarray method: `arr.mean()`\n",
    "\n",
    "2. numpy method: `np.mean(arr)`"
   ]
  },
  {
   "cell_type": "markdown",
   "id": "550eec0c",
   "metadata": {},
   "source": [
    "<br>\n",
    "\n",
    "- default: `axis=None`: 전체를 1차원 배열로 본 기준 > return: single value"
   ]
  },
  {
   "cell_type": "code",
   "execution_count": 42,
   "id": "e02d6693",
   "metadata": {
    "scrolled": true
   },
   "outputs": [
    {
     "name": "stdout",
     "output_type": "stream",
     "text": [
      "\n",
      "    type : <class 'numpy.ndarray'>\n",
      "    shape : (3, 3)\n",
      "    dimension : 2\n",
      "    dtype : int32\n",
      "    data : \n",
      " [[1 2 3]\n",
      " [4 5 6]\n",
      " [7 8 9]]\n",
      "5.0\n",
      "5.0\n"
     ]
    }
   ],
   "source": [
    "np_print(arr_10)\n",
    "\n",
    "print(arr_10.mean())\n",
    "print(np.mean(arr_10))"
   ]
  },
  {
   "cell_type": "markdown",
   "id": "8efa9253",
   "metadata": {},
   "source": [
    "<br>\n",
    "\n",
    "- `axis=1`: $\\rightarrow$, row 단위 기준   \n",
    "\\> return: \\[row index 0 mean, row index 1 mean, ..., row index n-1 mean]"
   ]
  },
  {
   "cell_type": "code",
   "execution_count": 43,
   "id": "7874cda4",
   "metadata": {},
   "outputs": [
    {
     "data": {
      "text/plain": [
       "array([2., 5., 8.])"
      ]
     },
     "execution_count": 43,
     "metadata": {},
     "output_type": "execute_result"
    }
   ],
   "source": [
    "arr_10.mean(axis=1)"
   ]
  },
  {
   "cell_type": "markdown",
   "id": "bdc96ebc",
   "metadata": {},
   "source": [
    "<br>\n",
    "\n",
    "- `axis=0`: $\\downarrow$, column 기준"
   ]
  },
  {
   "cell_type": "code",
   "execution_count": 44,
   "id": "d89fc5c0",
   "metadata": {},
   "outputs": [
    {
     "data": {
      "text/plain": [
       "array([4., 5., 6.])"
      ]
     },
     "execution_count": 44,
     "metadata": {},
     "output_type": "execute_result"
    }
   ],
   "source": [
    "np.mean(arr_10, axis=0)"
   ]
  },
  {
   "cell_type": "markdown",
   "id": "c96c311c",
   "metadata": {},
   "source": [
    "<br>\n",
    "\n",
    "### 3.6. 중앙값(median)"
   ]
  },
  {
   "cell_type": "markdown",
   "id": "a4174371",
   "metadata": {},
   "source": [
    "- numpy method: `np.median(arr)`\n",
    "\n",
    "  \\> arr method ~~`arr.median()`~~ 사용 불가\n",
    "\n",
    "<br>\n",
    "\n",
    "- 첫, 끝 index 합이 짝수일 때 중앙값: index (`(첫 index + 끝 index) / 2`) value\n",
    "\n",
    "- 첫, 끝 index 합이 홀수일 때 중앙값: \n",
    "\n",
    "$$\\textbf{index} \\: n.5 = \\frac{(\\textbf{index} \\: n \\: \\textbf{value}) + (\\textbf{index} \\: n+1 \\: \\textbf{value})}{2}$$"
   ]
  },
  {
   "cell_type": "markdown",
   "id": "78ce3873",
   "metadata": {},
   "source": [
    "<br>\n",
    "\n",
    "- 열의 축 방향, $\\rightarrow$, row 단위 기준 중앙값: `np.median(arr, asix=1)`"
   ]
  },
  {
   "cell_type": "code",
   "execution_count": 45,
   "id": "781209f2",
   "metadata": {},
   "outputs": [
    {
     "name": "stdout",
     "output_type": "stream",
     "text": [
      "\n",
      "    type : <class 'numpy.ndarray'>\n",
      "    shape : (3, 3)\n",
      "    dimension : 2\n",
      "    dtype : int32\n",
      "    data : \n",
      " [[ 4  5  6]\n",
      " [ 7  8  9]\n",
      " [10 11 12]]\n",
      "[ 5.  8. 11.]\n"
     ]
    }
   ],
   "source": [
    "np_print(arr_13)\n",
    "\n",
    "print(np.median(arr_13, axis=1))"
   ]
  },
  {
   "cell_type": "markdown",
   "id": "6b112a9c",
   "metadata": {},
   "source": [
    "<br>\n",
    "\n",
    "- 행의 축 방향, $\\downarrow$, column 단위 기준 중앙값: `np.median(arr, axis=0)`"
   ]
  },
  {
   "cell_type": "code",
   "execution_count": 46,
   "id": "0eaada10",
   "metadata": {},
   "outputs": [
    {
     "data": {
      "text/plain": [
       "array([7., 8., 9.])"
      ]
     },
     "execution_count": 46,
     "metadata": {},
     "output_type": "execute_result"
    }
   ],
   "source": [
    "np.median(arr_13, axis=0)"
   ]
  },
  {
   "cell_type": "markdown",
   "id": "4998073e",
   "metadata": {},
   "source": [
    "<br>\n",
    "\n",
    "### 3.7. 상관계수(correlation coefficient)"
   ]
  },
  {
   "cell_type": "markdown",
   "id": "9b9ddf61",
   "metadata": {},
   "source": [
    "- 상관계수: 두 data간의 상관관계(positive or negative)를 수치화: $-1 \\leq r \\leq 1$\n",
    "\n",
    "- numpy method: `np.corrcoef(arr1, arr2)`\n",
    "\n",
    "<br>\n",
    "\n",
    "e.g.\n",
    "\n",
    "- **성적**에 대해 `사교육비`와 `공부시간`의 추세선간, data간의 관계    \n",
    "\n",
    "- 지표 **A**에 대해 `B` data set과 `C` data set의 영향력간, data간의 관계"
   ]
  },
  {
   "cell_type": "markdown",
   "id": "62f1a881",
   "metadata": {},
   "source": [
    "<br>\n",
    "\n",
    "- 서로 다른 배열 2개를 활용한 상관계수 matrix\n",
    "\n",
    "- return: 대칭형 matrix > 주대각선을 경계로 상-하위 삼각형 중 하나만 선택\n",
    "\n",
    "- 주대각선: 자기 자신과의 상관관계 > 항상 $r = 1$"
   ]
  },
  {
   "cell_type": "code",
   "execution_count": 47,
   "id": "06d15d1d",
   "metadata": {},
   "outputs": [
    {
     "name": "stdout",
     "output_type": "stream",
     "text": [
      "\n",
      "    type : <class 'numpy.ndarray'>\n",
      "    shape : (6,)\n",
      "    dimension : 1\n",
      "    dtype : float64\n",
      "    data : \n",
      " [ 1.244538    0.43969942  0.34158317  0.67551314  2.69822542 -0.93179038]\n",
      "\n",
      "    type : <class 'numpy.ndarray'>\n",
      "    shape : (6,)\n",
      "    dimension : 1\n",
      "    dtype : float64\n",
      "    data : \n",
      " [-0.75880626 -1.3142966  -0.11631531 -1.22291898  0.55405489  0.32813294]\n"
     ]
    }
   ],
   "source": [
    "matrix_a = np.random.normal(size=6)\n",
    "matrix_b = np.random.normal(size=6)\n",
    "\n",
    "np_print(matrix_a)\n",
    "np_print(matrix_b)"
   ]
  },
  {
   "cell_type": "code",
   "execution_count": 48,
   "id": "298f847d",
   "metadata": {
    "scrolled": false
   },
   "outputs": [
    {
     "name": "stdout",
     "output_type": "stream",
     "text": [
      "[[1.         0.14427326]\n",
      " [0.14427326 1.        ]]\n"
     ]
    }
   ],
   "source": [
    "print(np.corrcoef(matrix_a, matrix_b))"
   ]
  },
  {
   "cell_type": "code",
   "execution_count": 49,
   "id": "8b95f248",
   "metadata": {},
   "outputs": [
    {
     "name": "stdout",
     "output_type": "stream",
     "text": [
      "[[ 1.       -0.168355]\n",
      " [-0.168355  1.      ]]\n"
     ]
    }
   ],
   "source": [
    "print(np.corrcoef(matrix_a, np.flip(matrix_b)))"
   ]
  },
  {
   "cell_type": "markdown",
   "id": "407b17cc",
   "metadata": {},
   "source": [
    "- $\\left| r \\right| \\leq 0.3$: 관계가 거의 없는 두 data set\n",
    "- $\\left|r \\right| \\geq 0.9$: 같은 data set인지 check 필요\n",
    "\n",
    "<br>\n",
    "\n",
    "- 3개의 배열을 이용한 상관계수 구하기 불가능"
   ]
  },
  {
   "cell_type": "markdown",
   "id": "75bd254b",
   "metadata": {},
   "source": [
    "### 3.8. 표준편차 $\\sigma$ (Standard Deviation)\n",
    "\n",
    "1. ndarray method: `arr.std()`\n",
    "\n",
    "2. numpy method: `np.std(arr)`"
   ]
  },
  {
   "cell_type": "markdown",
   "id": "125df7af",
   "metadata": {},
   "source": [
    "<br>\n",
    "\n",
    "- 전체를 1차원 배열로 본 표준편차(default): `axis=None`"
   ]
  },
  {
   "cell_type": "code",
   "execution_count": 50,
   "id": "f0a60ea1",
   "metadata": {},
   "outputs": [
    {
     "name": "stdout",
     "output_type": "stream",
     "text": [
      "\n",
      "    type : <class 'numpy.ndarray'>\n",
      "    shape : (3, 3)\n",
      "    dimension : 2\n",
      "    dtype : int32\n",
      "    data : \n",
      " [[1 2 3]\n",
      " [4 5 6]\n",
      " [7 8 9]]\n",
      "2.581988897471611\n",
      "2.581988897471611\n"
     ]
    }
   ],
   "source": [
    "np_print(arr_10)\n",
    "\n",
    "print(arr_10.std())\n",
    "print(np.std(arr_10))"
   ]
  },
  {
   "cell_type": "markdown",
   "id": "4fdc5247",
   "metadata": {},
   "source": [
    "<br>\n",
    "\n",
    "- 열의 축 방향, $\\rightarrow$, row 단위 기준: `axis=1`"
   ]
  },
  {
   "cell_type": "code",
   "execution_count": 51,
   "id": "be7be57e",
   "metadata": {},
   "outputs": [
    {
     "name": "stdout",
     "output_type": "stream",
     "text": [
      "[0.81649658 0.81649658 0.81649658]\n",
      "[0.81649658 0.81649658 0.81649658]\n"
     ]
    }
   ],
   "source": [
    "print(arr_10.std(axis=1))\n",
    "\n",
    "print(np.std(arr_10, axis=1))"
   ]
  },
  {
   "cell_type": "markdown",
   "id": "44f30f3b",
   "metadata": {},
   "source": [
    "<br>\n",
    "\n",
    "- 행의 축 방향, $\\downarrow$, column 단위 기준: `axis=0`"
   ]
  },
  {
   "cell_type": "code",
   "execution_count": 52,
   "id": "09b5b84b",
   "metadata": {},
   "outputs": [
    {
     "name": "stdout",
     "output_type": "stream",
     "text": [
      "[2.44948974 2.44948974 2.44948974]\n",
      "[2.44948974 2.44948974 2.44948974]\n"
     ]
    }
   ],
   "source": [
    "print(arr_10.std(axis=0))\n",
    "\n",
    "print(np.std(arr_10, axis=0))"
   ]
  },
  {
   "cell_type": "markdown",
   "id": "4390f598",
   "metadata": {},
   "source": [
    "<br>\n",
    "\n",
    "## 4. 브로드캐스팅(Broadcasting)\n",
    "\n",
    "- 서로 다른 shape의 배열에 연산을 수행할 때, numpy에서 배열을 다루는 방법\n",
    "\n",
    "- Condition   \n",
    "> 배열의 row 개수: $r_1, r_2$, column 개수: $c_1, c_2$   \n",
    "$r_1 = r_2, c_1 = c_2 \\: or \\: r_1, r_2, c_1, c_2 = 1$\n",
    "\n",
    "1. 배열과 스칼라값 간의 연산\n",
    "\n",
    "2. 서로 다른 shape의 배열 간의 연산\n",
    "\n",
    "![broadcast.png](https://github.com/insung-ethan-j/Numpy_and_Pandas/blob/49ad1db57b6ce921ab1b3391f071422e061a5900/img/broadcast.png?raw=true)"
   ]
  },
  {
   "cell_type": "markdown",
   "id": "9991ead2",
   "metadata": {},
   "source": [
    "### 4.1. 배열과 스칼라값 간의 연산 (single value, scalar)\n",
    "\n",
    "- scalar value를 배열의 구조로 변형하여 배열 간의 연산 수행"
   ]
  },
  {
   "cell_type": "code",
   "execution_count": 53,
   "id": "c102bba8",
   "metadata": {},
   "outputs": [
    {
     "name": "stdout",
     "output_type": "stream",
     "text": [
      "\n",
      "    type : <class 'numpy.ndarray'>\n",
      "    shape : (3, 3)\n",
      "    dimension : 2\n",
      "    dtype : int32\n",
      "    data : \n",
      " [[1 2 3]\n",
      " [4 5 6]\n",
      " [7 8 9]]\n"
     ]
    }
   ],
   "source": [
    "np_print(arr_10)"
   ]
  },
  {
   "cell_type": "markdown",
   "id": "1aacb170",
   "metadata": {},
   "source": [
    "<br>\n",
    "\n",
    "- `arr_10 + 10`: scalar value `10` > 연산 대상 배열 shape과 동일한 배열로 변형"
   ]
  },
  {
   "cell_type": "code",
   "execution_count": 54,
   "id": "dda98555",
   "metadata": {
    "scrolled": true
   },
   "outputs": [
    {
     "name": "stdout",
     "output_type": "stream",
     "text": [
      "\n",
      "    type : <class 'numpy.ndarray'>\n",
      "    shape : (3, 3)\n",
      "    dimension : 2\n",
      "    dtype : int32\n",
      "    data : \n",
      " [[10 10 10]\n",
      " [10 10 10]\n",
      " [10 10 10]]\n"
     ]
    }
   ],
   "source": [
    "scalar_arr = np.full_like(arr_10, 10)\n",
    "\n",
    "np_print(scalar_arr)"
   ]
  },
  {
   "cell_type": "markdown",
   "id": "ddeba9a2",
   "metadata": {},
   "source": [
    "<br>\n",
    "\n",
    "- `arr + scalar` vs. `arr + np.full_like(arr, scalar)` > equivalent!"
   ]
  },
  {
   "cell_type": "code",
   "execution_count": 55,
   "id": "22d20c0c",
   "metadata": {},
   "outputs": [
    {
     "name": "stdout",
     "output_type": "stream",
     "text": [
      "\n",
      "    type : <class 'numpy.ndarray'>\n",
      "    shape : (3, 3)\n",
      "    dimension : 2\n",
      "    dtype : int32\n",
      "    data : \n",
      " [[11 12 13]\n",
      " [14 15 16]\n",
      " [17 18 19]]\n",
      "\n",
      "    type : <class 'numpy.ndarray'>\n",
      "    shape : (3, 3)\n",
      "    dimension : 2\n",
      "    dtype : int32\n",
      "    data : \n",
      " [[11 12 13]\n",
      " [14 15 16]\n",
      " [17 18 19]]\n"
     ]
    }
   ],
   "source": [
    "np_print(arr_10 + scalar_arr)\n",
    "\n",
    "np_print(arr_10 + 10)"
   ]
  },
  {
   "cell_type": "markdown",
   "id": "897daa2a",
   "metadata": {},
   "source": [
    "<br>\n",
    "\n",
    "### 4.2. 서로 다른 구조의 배열 간의 연산\n",
    "\n",
    "- 두 배열 중 더 긴 length(행, 열 각각)을 기준 > 새로운 shape 배열 생성\n",
    "\n",
    "- 확장된 row, column > 기존 배열과 동일한 데이터로 구성"
   ]
  },
  {
   "cell_type": "code",
   "execution_count": 56,
   "id": "4990b446",
   "metadata": {},
   "outputs": [
    {
     "name": "stdout",
     "output_type": "stream",
     "text": [
      "\n",
      "    type : <class 'numpy.ndarray'>\n",
      "    shape : (1, 4)\n",
      "    dimension : 2\n",
      "    dtype : int32\n",
      "    data : \n",
      " [[1 2 3 4]]\n",
      "\n",
      "    type : <class 'numpy.ndarray'>\n",
      "    shape : (4, 1)\n",
      "    dimension : 2\n",
      "    dtype : int32\n",
      "    data : \n",
      " [[1]\n",
      " [2]\n",
      " [3]\n",
      " [4]]\n"
     ]
    }
   ],
   "source": [
    "arr_x = np.arange(1, 5).reshape(1, 4)\n",
    "arr_y = np.arange(1, 5).reshape(4, 1)\n",
    "\n",
    "np_print(arr_x)\n",
    "np_print(arr_y)"
   ]
  },
  {
   "cell_type": "markdown",
   "id": "606f545e",
   "metadata": {},
   "source": [
    "<br>\n",
    "\n",
    "- 배열끼리 추가 method: `np.append(arr1, arr2, axis=None)`\n",
    "\n",
    "    - 행의 축 방향, $\\downarrow$, column 기준 추가: `axis=0`"
   ]
  },
  {
   "cell_type": "code",
   "execution_count": 57,
   "id": "6c1baa72",
   "metadata": {},
   "outputs": [
    {
     "name": "stdout",
     "output_type": "stream",
     "text": [
      "\n",
      "    type : <class 'numpy.ndarray'>\n",
      "    shape : (2, 4)\n",
      "    dimension : 2\n",
      "    dtype : int32\n",
      "    data : \n",
      " [[1 2 3 4]\n",
      " [1 2 3 4]]\n",
      "\n",
      "    type : <class 'numpy.ndarray'>\n",
      "    shape : (4, 4)\n",
      "    dimension : 2\n",
      "    dtype : int32\n",
      "    data : \n",
      " [[1 2 3 4]\n",
      " [1 2 3 4]\n",
      " [1 2 3 4]\n",
      " [1 2 3 4]]\n"
     ]
    }
   ],
   "source": [
    "apd_x = np.append(arr_x, arr_x, axis=0)\n",
    "\n",
    "np_print(apd_x)\n",
    "# 4행으로 확장\n",
    "full_x = np.append(apd_x, apd_x, axis=0)\n",
    "\n",
    "np_print(full_x)"
   ]
  },
  {
   "cell_type": "markdown",
   "id": "2ec2447a",
   "metadata": {},
   "source": [
    "<br>\n",
    "\n",
    "- `shape=(4, 1)` 배열 > 4열까지 확장: `axis=1`"
   ]
  },
  {
   "cell_type": "code",
   "execution_count": 58,
   "id": "2f7c23eb",
   "metadata": {},
   "outputs": [
    {
     "name": "stdout",
     "output_type": "stream",
     "text": [
      "\n",
      "    type : <class 'numpy.ndarray'>\n",
      "    shape : (4, 4)\n",
      "    dimension : 2\n",
      "    dtype : int32\n",
      "    data : \n",
      " [[1 1 1 1]\n",
      " [2 2 2 2]\n",
      " [3 3 3 3]\n",
      " [4 4 4 4]]\n"
     ]
    }
   ],
   "source": [
    "apd_y = np.append(arr_y, arr_y, axis=1)\n",
    "full_y = np.append(apd_y, apd_y, axis=1)\n",
    "\n",
    "np_print(full_y)"
   ]
  },
  {
   "cell_type": "markdown",
   "id": "54d87d67",
   "metadata": {},
   "source": [
    "<br>\n",
    "\n",
    "- `(4, 4) + (4, 4)` vs. `(1, 4) + (4, 1)` > **equivalent**"
   ]
  },
  {
   "cell_type": "code",
   "execution_count": 59,
   "id": "cda9c729",
   "metadata": {},
   "outputs": [
    {
     "name": "stdout",
     "output_type": "stream",
     "text": [
      "\n",
      "    type : <class 'numpy.ndarray'>\n",
      "    shape : (4, 4)\n",
      "    dimension : 2\n",
      "    dtype : int32\n",
      "    data : \n",
      " [[2 3 4 5]\n",
      " [3 4 5 6]\n",
      " [4 5 6 7]\n",
      " [5 6 7 8]]\n",
      "\n",
      "    type : <class 'numpy.ndarray'>\n",
      "    shape : (4, 4)\n",
      "    dimension : 2\n",
      "    dtype : int32\n",
      "    data : \n",
      " [[2 3 4 5]\n",
      " [3 4 5 6]\n",
      " [4 5 6 7]\n",
      " [5 6 7 8]]\n"
     ]
    }
   ],
   "source": [
    "np_print(full_x + full_y)\n",
    "\n",
    "np_print(arr_x + arr_y)"
   ]
  },
  {
   "cell_type": "markdown",
   "id": "b4869786",
   "metadata": {},
   "source": [
    "## 5. 벡터 연산(vector operation)\n",
    "\n",
    "- item에 대한 연산: **vector 연산**으로 처리 > for loop보다 월등히 뛰어난 처리 속도"
   ]
  },
  {
   "cell_type": "markdown",
   "id": "21a0088b",
   "metadata": {},
   "source": [
    "<br>\n",
    "\n",
    "- 0부터 시작, 1,000,000개(1 million) int item을 가진 배열 생성"
   ]
  },
  {
   "cell_type": "code",
   "execution_count": 60,
   "id": "4abbff07",
   "metadata": {},
   "outputs": [
    {
     "name": "stdout",
     "output_type": "stream",
     "text": [
      "\n",
      "    type : <class 'numpy.ndarray'>\n",
      "    shape : (1000000,)\n",
      "    dimension : 1\n",
      "    dtype : int32\n",
      "    data : \n",
      " [941499  43912 496817 ... 805065 219783 370785]\n"
     ]
    }
   ],
   "source": [
    "arr_huge = np.random.randint(1000000, size=1000000)\n",
    "\n",
    "np_print(arr_huge)"
   ]
  },
  {
   "cell_type": "markdown",
   "id": "13947200",
   "metadata": {},
   "source": [
    "<br>\n",
    "\n",
    "- `%%time`: 해당 셀을 수행하는데 소요된 시간을 표기해주는 jupyter notebook 명령어\n",
    "\n",
    "- 셀의 가장 상단에 위치해야 함\n",
    "\n",
    "- $1s = 1,000ms = 1,000,000\\mu s$   \n",
    "(1초 = 1,000 밀리세컨드 = 1,000,000 마이크로세컨드)\n"
   ]
  },
  {
   "cell_type": "markdown",
   "id": "c3330692",
   "metadata": {},
   "source": [
    "<br>\n",
    "\n",
    "- for loop를 통한 합계 연산"
   ]
  },
  {
   "cell_type": "code",
   "execution_count": 61,
   "id": "f6fa4948",
   "metadata": {
    "scrolled": true
   },
   "outputs": [
    {
     "name": "stdout",
     "output_type": "stream",
     "text": [
      "1826370066\n",
      "Wall time: 297 ms\n"
     ]
    },
    {
     "name": "stderr",
     "output_type": "stream",
     "text": [
      "<timed exec>:3: RuntimeWarning: overflow encountered in long_scalars\n"
     ]
    }
   ],
   "source": [
    "%%time\n",
    "\n",
    "total = 0\n",
    "for item in arr_huge:\n",
    "    total += item\n",
    "\n",
    "print(total)"
   ]
  },
  {
   "cell_type": "markdown",
   "id": "2e0d4eca",
   "metadata": {},
   "source": [
    "<br>\n",
    "\n",
    "- 벡터연산을 통한 합계 연산"
   ]
  },
  {
   "cell_type": "code",
   "execution_count": 62,
   "id": "fbc5b348",
   "metadata": {},
   "outputs": [
    {
     "name": "stdout",
     "output_type": "stream",
     "text": [
      "1826370066\n",
      "Wall time: 1.02 ms\n"
     ]
    }
   ],
   "source": [
    "%%time\n",
    "\n",
    "print(np.sum(arr_huge))"
   ]
  }
 ],
 "metadata": {
  "kernelspec": {
   "display_name": "Python 3 (ipykernel)",
   "language": "python",
   "name": "python3"
  },
  "language_info": {
   "codemirror_mode": {
    "name": "ipython",
    "version": 3
   },
   "file_extension": ".py",
   "mimetype": "text/x-python",
   "name": "python",
   "nbconvert_exporter": "python",
   "pygments_lexer": "ipython3",
   "version": "3.9.13"
  }
 },
 "nbformat": 4,
 "nbformat_minor": 5
}
