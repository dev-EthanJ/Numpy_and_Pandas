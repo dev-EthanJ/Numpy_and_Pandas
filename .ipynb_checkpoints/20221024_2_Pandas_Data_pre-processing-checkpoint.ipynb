{
 "cells": [
  {
   "cell_type": "markdown",
   "id": "f81d6fb2",
   "metadata": {},
   "source": [
    "# Pandas Data pre-processing <br> 판다스 데이터 전처리"
   ]
  },
  {
   "cell_type": "markdown",
   "id": "77bb6873",
   "metadata": {},
   "source": [
    "## 1. Hierarchical Indexing 계층 색인 \n",
    "\n",
    "- 행, 열의 각 축에 대해 다중 단계(계층)를 지정하여 데이터에 차원을 설정\n",
    "\n",
    "- index에 다차원 리스트를 전달하면 계층 색인을 지정할 수 있음\n",
    "\n",
    "- 데이터 구조를 재배열하거나 pivot 테이블과 같은 group 기반 작업에 유용\n",
    "\n",
    "- 재배열 method\n",
    "\n",
    "    - stack() : column을 row로 pivot\n",
    "\n",
    "    - unstack() : row를 column으로 pivo"
   ]
  },
  {
   "cell_type": "code",
   "execution_count": 1,
   "id": "368fd3ff",
   "metadata": {},
   "outputs": [],
   "source": [
    "import pandas as pd\n",
    "import numpy as np"
   ]
  },
  {
   "cell_type": "markdown",
   "id": "61c19243",
   "metadata": {},
   "source": [
    "<br>\n",
    "\n",
    "### 1.1. Series Hierarchical Indexing 시리즈 계층 색인\n",
    "\n",
    "- index에 `다차원 리스트`(아이템 2개)를 전달\n",
    "\n",
    "- `다차원리스트[0]`: 상위계층\n",
    "\n",
    "- 상위계층 작성시 주의점 : 각 계층별로 속하는 하위계층 값의 개수만큼 계층명 작성\n",
    "\n",
    "- 상위계층 리스트 개수 = 하위계층 리스트 개수\n",
    "\n",
    "- `다차원리스트[1]`: 하위계층"
   ]
  },
  {
   "cell_type": "markdown",
   "id": "f5291a59",
   "metadata": {},
   "source": [
    "<br>\n",
    "\n",
    "- row index\n",
    "\n",
    "    - 상위계층 : `a`, `b`, `c`, `d`\n",
    "\n",
    "    - 하위계층 : `a(1, 2, 3)`, `b(1, 2)`, `c(1, 2, 3, 4)`, `d(1)`"
   ]
  },
  {
   "cell_type": "code",
   "execution_count": 2,
   "id": "012fbbf5",
   "metadata": {
    "scrolled": true
   },
   "outputs": [
    {
     "data": {
      "text/plain": [
       "a  1    0\n",
       "   2    1\n",
       "   3    2\n",
       "b  1    3\n",
       "   2    4\n",
       "c  1    5\n",
       "   2    6\n",
       "   3    7\n",
       "   4    8\n",
       "d  1    9\n",
       "dtype: int32"
      ]
     },
     "execution_count": 2,
     "metadata": {},
     "output_type": "execute_result"
    }
   ],
   "source": [
    "hier_sr = pd.Series(np.arange(10),\n",
    "                   index=[['a', 'a', 'a', 'b', 'b', 'c', 'c', 'c', 'c', 'd'],\n",
    "                         [1, 2, 3, 1, 2, 1, 2, 3, 4, 1]])\n",
    "\n",
    "hier_sr"
   ]
  },
  {
   "cell_type": "markdown",
   "id": "82ae80a8",
   "metadata": {},
   "source": [
    "<br>\n",
    "\n",
    "- Index 확인"
   ]
  },
  {
   "cell_type": "code",
   "execution_count": 3,
   "id": "038eabc9",
   "metadata": {
    "scrolled": true
   },
   "outputs": [
    {
     "data": {
      "text/plain": [
       "MultiIndex([('a', 1),\n",
       "            ('a', 2),\n",
       "            ('a', 3),\n",
       "            ('b', 1),\n",
       "            ('b', 2),\n",
       "            ('c', 1),\n",
       "            ('c', 2),\n",
       "            ('c', 3),\n",
       "            ('c', 4),\n",
       "            ('d', 1)],\n",
       "           )"
      ]
     },
     "execution_count": 3,
     "metadata": {},
     "output_type": "execute_result"
    }
   ],
   "source": [
    "hier_sr.index"
   ]
  },
  {
   "cell_type": "markdown",
   "id": "fd006f1b",
   "metadata": {},
   "source": [
    "<br>\n",
    "\n",
    "- 상위 index(상위 계층) 접근\n",
    "    \n",
    "    - 계층 색인이 적용된 객체의 상위 index에 접근: 일반적인 `Series indexing`으로 접근"
   ]
  },
  {
   "cell_type": "code",
   "execution_count": 4,
   "id": "55c8ddd0",
   "metadata": {},
   "outputs": [
    {
     "data": {
      "text/plain": [
       "1    5\n",
       "2    6\n",
       "3    7\n",
       "4    8\n",
       "dtype: int32"
      ]
     },
     "execution_count": 4,
     "metadata": {},
     "output_type": "execute_result"
    }
   ],
   "source": [
    "hier_sr['c']"
   ]
  },
  {
   "cell_type": "markdown",
   "id": "bf1a9be2",
   "metadata": {},
   "source": [
    "<br>\n",
    "\n",
    "- 계층색인에 대한 slicing: `stop index`도 포함 \n",
    "    \n",
    "    - `['b':'d']` 입력 > `'b', 'c', 'd'` 조회"
   ]
  },
  {
   "cell_type": "code",
   "execution_count": 5,
   "id": "52cd3c61",
   "metadata": {},
   "outputs": [
    {
     "data": {
      "text/plain": [
       "b  1    3\n",
       "   2    4\n",
       "c  1    5\n",
       "   2    6\n",
       "   3    7\n",
       "   4    8\n",
       "d  1    9\n",
       "dtype: int32"
      ]
     },
     "execution_count": 5,
     "metadata": {},
     "output_type": "execute_result"
    }
   ],
   "source": [
    "hier_sr['b':'d']"
   ]
  },
  {
   "cell_type": "markdown",
   "id": "e74786a3",
   "metadata": {},
   "source": [
    "<br>\n",
    "\n",
    "- 하위 Index(계층)에 접근\n",
    "\n",
    "    - `object[상위 Index 범위, 하위 Index 범위]`"
   ]
  },
  {
   "cell_type": "markdown",
   "id": "31fc9cf7",
   "metadata": {},
   "source": [
    "- 전체 상위 Index 범위, 하위 label index = 2인 data만 추출"
   ]
  },
  {
   "cell_type": "code",
   "execution_count": 6,
   "id": "ca5f032f",
   "metadata": {},
   "outputs": [
    {
     "data": {
      "text/plain": [
       "a    1\n",
       "b    4\n",
       "c    6\n",
       "dtype: int32"
      ]
     },
     "execution_count": 6,
     "metadata": {},
     "output_type": "execute_result"
    }
   ],
   "source": [
    "hier_sr[:, 2]"
   ]
  },
  {
   "cell_type": "markdown",
   "id": "90ebcee4",
   "metadata": {},
   "source": [
    "<br>\n",
    "\n",
    "- 하위 Index Slicing: `df.loc` method 사용\n",
    "    \n",
    "    - user custom index로 stop index 지정: stop index 포함 반환"
   ]
  },
  {
   "cell_type": "code",
   "execution_count": 7,
   "id": "8c930140",
   "metadata": {},
   "outputs": [
    {
     "data": {
      "text/plain": [
       "2    6\n",
       "3    7\n",
       "4    8\n",
       "dtype: int32"
      ]
     },
     "execution_count": 7,
     "metadata": {},
     "output_type": "execute_result"
    }
   ],
   "source": [
    "hier_sr['c'].loc[2:4]"
   ]
  },
  {
   "cell_type": "markdown",
   "id": "b9d5816c",
   "metadata": {},
   "source": [
    "### 1.2. `obj.unstack()`\n",
    "\n",
    "- `the lowest row` 계층을 `MutiIndex`의 `low columns`로 적용하여 상위 계층으로 올림\n",
    "\n",
    "- `Series` object > `DataFrame` object로 재배열\n",
    "\n",
    "- `NaN`: 기존에는 없던 row 계층에 대한 값"
   ]
  },
  {
   "cell_type": "markdown",
   "id": "d61ab197",
   "metadata": {},
   "source": [
    "- 현재 2중 row 계층, columns는 index 존재하지 않음 (0 계층)"
   ]
  },
  {
   "cell_type": "code",
   "execution_count": 8,
   "id": "5b540571",
   "metadata": {},
   "outputs": [
    {
     "data": {
      "text/plain": [
       "a  1    0\n",
       "   2    1\n",
       "   3    2\n",
       "b  1    3\n",
       "   2    4\n",
       "c  1    5\n",
       "   2    6\n",
       "   3    7\n",
       "   4    8\n",
       "d  1    9\n",
       "dtype: int32"
      ]
     },
     "execution_count": 8,
     "metadata": {},
     "output_type": "execute_result"
    }
   ],
   "source": [
    "hier_sr"
   ]
  },
  {
   "cell_type": "code",
   "execution_count": 9,
   "id": "cfd45d94",
   "metadata": {},
   "outputs": [
    {
     "data": {
      "text/html": [
       "<div>\n",
       "<style scoped>\n",
       "    .dataframe tbody tr th:only-of-type {\n",
       "        vertical-align: middle;\n",
       "    }\n",
       "\n",
       "    .dataframe tbody tr th {\n",
       "        vertical-align: top;\n",
       "    }\n",
       "\n",
       "    .dataframe thead th {\n",
       "        text-align: right;\n",
       "    }\n",
       "</style>\n",
       "<table border=\"1\" class=\"dataframe\">\n",
       "  <thead>\n",
       "    <tr style=\"text-align: right;\">\n",
       "      <th></th>\n",
       "      <th>1</th>\n",
       "      <th>2</th>\n",
       "      <th>3</th>\n",
       "      <th>4</th>\n",
       "    </tr>\n",
       "  </thead>\n",
       "  <tbody>\n",
       "    <tr>\n",
       "      <th>a</th>\n",
       "      <td>0.0</td>\n",
       "      <td>1.0</td>\n",
       "      <td>2.0</td>\n",
       "      <td>NaN</td>\n",
       "    </tr>\n",
       "    <tr>\n",
       "      <th>b</th>\n",
       "      <td>3.0</td>\n",
       "      <td>4.0</td>\n",
       "      <td>NaN</td>\n",
       "      <td>NaN</td>\n",
       "    </tr>\n",
       "    <tr>\n",
       "      <th>c</th>\n",
       "      <td>5.0</td>\n",
       "      <td>6.0</td>\n",
       "      <td>7.0</td>\n",
       "      <td>8.0</td>\n",
       "    </tr>\n",
       "    <tr>\n",
       "      <th>d</th>\n",
       "      <td>9.0</td>\n",
       "      <td>NaN</td>\n",
       "      <td>NaN</td>\n",
       "      <td>NaN</td>\n",
       "    </tr>\n",
       "  </tbody>\n",
       "</table>\n",
       "</div>"
      ],
      "text/plain": [
       "     1    2    3    4\n",
       "a  0.0  1.0  2.0  NaN\n",
       "b  3.0  4.0  NaN  NaN\n",
       "c  5.0  6.0  7.0  8.0\n",
       "d  9.0  NaN  NaN  NaN"
      ]
     },
     "execution_count": 9,
     "metadata": {},
     "output_type": "execute_result"
    }
   ],
   "source": [
    "unstk_df = hier_sr.unstack()\n",
    "\n",
    "unstk_df"
   ]
  },
  {
   "cell_type": "markdown",
   "id": "64ca2f27",
   "metadata": {},
   "source": [
    "<br>\n",
    "\n",
    "### 1.3. `obj.stack()`\n",
    "\n",
    "- `columns`에 할당된 값을 > `MultiIndex`의 `lower row index`로 내려서 재배열\n",
    "\n",
    "- `DataFrame` object > `Series` object"
   ]
  },
  {
   "cell_type": "code",
   "execution_count": 10,
   "id": "090c399c",
   "metadata": {},
   "outputs": [
    {
     "data": {
      "text/plain": [
       "a  1    0.0\n",
       "   2    1.0\n",
       "   3    2.0\n",
       "b  1    3.0\n",
       "   2    4.0\n",
       "c  1    5.0\n",
       "   2    6.0\n",
       "   3    7.0\n",
       "   4    8.0\n",
       "d  1    9.0\n",
       "dtype: float64"
      ]
     },
     "execution_count": 10,
     "metadata": {},
     "output_type": "execute_result"
    }
   ],
   "source": [
    "unstk_df.stack()"
   ]
  },
  {
   "cell_type": "markdown",
   "id": "a9c97b71",
   "metadata": {},
   "source": [
    "### 1.4. `DataFrame` 계층 색인"
   ]
  },
  {
   "cell_type": "markdown",
   "id": "594e49f0",
   "metadata": {},
   "source": [
    "- row index: `2017['a', 'b']`, `2018['a', 'b']`\n",
    "\n",
    "- column index: `'서울'['강남', '잠실']`, `'경기'['분당', '수원', '판교']`"
   ]
  },
  {
   "cell_type": "code",
   "execution_count": 11,
   "id": "e41ea70d",
   "metadata": {},
   "outputs": [
    {
     "data": {
      "text/html": [
       "<div>\n",
       "<style scoped>\n",
       "    .dataframe tbody tr th:only-of-type {\n",
       "        vertical-align: middle;\n",
       "    }\n",
       "\n",
       "    .dataframe tbody tr th {\n",
       "        vertical-align: top;\n",
       "    }\n",
       "\n",
       "    .dataframe thead tr th {\n",
       "        text-align: left;\n",
       "    }\n",
       "</style>\n",
       "<table border=\"1\" class=\"dataframe\">\n",
       "  <thead>\n",
       "    <tr>\n",
       "      <th></th>\n",
       "      <th></th>\n",
       "      <th colspan=\"2\" halign=\"left\">서울</th>\n",
       "      <th colspan=\"3\" halign=\"left\">경기</th>\n",
       "    </tr>\n",
       "    <tr>\n",
       "      <th></th>\n",
       "      <th></th>\n",
       "      <th>강남</th>\n",
       "      <th>잠실</th>\n",
       "      <th>분당</th>\n",
       "      <th>수원</th>\n",
       "      <th>판교</th>\n",
       "    </tr>\n",
       "  </thead>\n",
       "  <tbody>\n",
       "    <tr>\n",
       "      <th rowspan=\"2\" valign=\"top\">2017</th>\n",
       "      <th>a</th>\n",
       "      <td>10</td>\n",
       "      <td>8</td>\n",
       "      <td>10</td>\n",
       "      <td>7</td>\n",
       "      <td>6</td>\n",
       "    </tr>\n",
       "    <tr>\n",
       "      <th>b</th>\n",
       "      <td>9</td>\n",
       "      <td>4</td>\n",
       "      <td>10</td>\n",
       "      <td>9</td>\n",
       "      <td>19</td>\n",
       "    </tr>\n",
       "    <tr>\n",
       "      <th rowspan=\"2\" valign=\"top\">2018</th>\n",
       "      <th>a</th>\n",
       "      <td>13</td>\n",
       "      <td>9</td>\n",
       "      <td>1</td>\n",
       "      <td>12</td>\n",
       "      <td>16</td>\n",
       "    </tr>\n",
       "    <tr>\n",
       "      <th>b</th>\n",
       "      <td>11</td>\n",
       "      <td>14</td>\n",
       "      <td>16</td>\n",
       "      <td>14</td>\n",
       "      <td>19</td>\n",
       "    </tr>\n",
       "  </tbody>\n",
       "</table>\n",
       "</div>"
      ],
      "text/plain": [
       "        서울      경기        \n",
       "        강남  잠실  분당  수원  판교\n",
       "2017 a  10   8  10   7   6\n",
       "     b   9   4  10   9  19\n",
       "2018 a  13   9   1  12  16\n",
       "     b  11  14  16  14  19"
      ]
     },
     "execution_count": 11,
     "metadata": {},
     "output_type": "execute_result"
    }
   ],
   "source": [
    "area_df = pd.DataFrame(np.random.randint(1, 21, (20)).reshape(4,5),\n",
    "                     index=[[2017, 2017, 2018, 2018],\n",
    "                           ['a', 'b', 'a', 'b']],\n",
    "                     columns=[['서울', '서울', '경기', '경기', '경기'],\n",
    "                             ['강남', '잠실', '분당', '수원', '판교']])\n",
    "\n",
    "area_df"
   ]
  },
  {
   "cell_type": "markdown",
   "id": "23110253",
   "metadata": {},
   "source": [
    "<br>\n",
    "\n",
    "- `columns`의 Higher Index 접근: 일반적인 DataFrame columns indexing 방식: `df[column]`"
   ]
  },
  {
   "cell_type": "code",
   "execution_count": 12,
   "id": "e6232430",
   "metadata": {
    "scrolled": true
   },
   "outputs": [
    {
     "data": {
      "text/html": [
       "<div>\n",
       "<style scoped>\n",
       "    .dataframe tbody tr th:only-of-type {\n",
       "        vertical-align: middle;\n",
       "    }\n",
       "\n",
       "    .dataframe tbody tr th {\n",
       "        vertical-align: top;\n",
       "    }\n",
       "\n",
       "    .dataframe thead th {\n",
       "        text-align: right;\n",
       "    }\n",
       "</style>\n",
       "<table border=\"1\" class=\"dataframe\">\n",
       "  <thead>\n",
       "    <tr style=\"text-align: right;\">\n",
       "      <th></th>\n",
       "      <th></th>\n",
       "      <th>강남</th>\n",
       "      <th>잠실</th>\n",
       "    </tr>\n",
       "  </thead>\n",
       "  <tbody>\n",
       "    <tr>\n",
       "      <th rowspan=\"2\" valign=\"top\">2017</th>\n",
       "      <th>a</th>\n",
       "      <td>10</td>\n",
       "      <td>8</td>\n",
       "    </tr>\n",
       "    <tr>\n",
       "      <th>b</th>\n",
       "      <td>9</td>\n",
       "      <td>4</td>\n",
       "    </tr>\n",
       "    <tr>\n",
       "      <th rowspan=\"2\" valign=\"top\">2018</th>\n",
       "      <th>a</th>\n",
       "      <td>13</td>\n",
       "      <td>9</td>\n",
       "    </tr>\n",
       "    <tr>\n",
       "      <th>b</th>\n",
       "      <td>11</td>\n",
       "      <td>14</td>\n",
       "    </tr>\n",
       "  </tbody>\n",
       "</table>\n",
       "</div>"
      ],
      "text/plain": [
       "        강남  잠실\n",
       "2017 a  10   8\n",
       "     b   9   4\n",
       "2018 a  13   9\n",
       "     b  11  14"
      ]
     },
     "execution_count": 12,
     "metadata": {},
     "output_type": "execute_result"
    }
   ],
   "source": [
    "area_df['서울']"
   ]
  },
  {
   "cell_type": "markdown",
   "id": "24c1e2a5",
   "metadata": {},
   "source": [
    "<br>\n",
    "\n",
    "- 이중 계층 columns > 이중 indexing으로 하나의 item 추출 가능 `df[col1][col2]`"
   ]
  },
  {
   "cell_type": "code",
   "execution_count": 13,
   "id": "b9e935f0",
   "metadata": {},
   "outputs": [
    {
     "data": {
      "text/plain": [
       "2017  a    10\n",
       "      b     9\n",
       "2018  a    13\n",
       "      b    11\n",
       "Name: 강남, dtype: int32"
      ]
     },
     "execution_count": 13,
     "metadata": {},
     "output_type": "execute_result"
    }
   ],
   "source": [
    "area_df['서울']['강남']"
   ]
  },
  {
   "cell_type": "markdown",
   "id": "9fee9965",
   "metadata": {},
   "source": [
    "<br>\n",
    "\n",
    "- 한 번에 두 계층 index 지정: `tuple`로 전달"
   ]
  },
  {
   "cell_type": "code",
   "execution_count": 14,
   "id": "a9df3486",
   "metadata": {},
   "outputs": [
    {
     "data": {
      "text/plain": [
       "2017  a    10\n",
       "      b     9\n",
       "2018  a    13\n",
       "      b    11\n",
       "Name: (서울, 강남), dtype: int32"
      ]
     },
     "execution_count": 14,
     "metadata": {},
     "output_type": "execute_result"
    }
   ],
   "source": [
    "area_df[('서울', '강남')]"
   ]
  },
  {
   "cell_type": "markdown",
   "id": "ea0e02fd",
   "metadata": {},
   "source": [
    "<br>\n",
    "\n",
    "- row의 상위 계층 접근: `df.loc[row]`"
   ]
  },
  {
   "cell_type": "code",
   "execution_count": 15,
   "id": "8f24ef78",
   "metadata": {},
   "outputs": [
    {
     "data": {
      "text/html": [
       "<div>\n",
       "<style scoped>\n",
       "    .dataframe tbody tr th:only-of-type {\n",
       "        vertical-align: middle;\n",
       "    }\n",
       "\n",
       "    .dataframe tbody tr th {\n",
       "        vertical-align: top;\n",
       "    }\n",
       "\n",
       "    .dataframe thead tr th {\n",
       "        text-align: left;\n",
       "    }\n",
       "</style>\n",
       "<table border=\"1\" class=\"dataframe\">\n",
       "  <thead>\n",
       "    <tr>\n",
       "      <th></th>\n",
       "      <th colspan=\"2\" halign=\"left\">서울</th>\n",
       "      <th colspan=\"3\" halign=\"left\">경기</th>\n",
       "    </tr>\n",
       "    <tr>\n",
       "      <th></th>\n",
       "      <th>강남</th>\n",
       "      <th>잠실</th>\n",
       "      <th>분당</th>\n",
       "      <th>수원</th>\n",
       "      <th>판교</th>\n",
       "    </tr>\n",
       "  </thead>\n",
       "  <tbody>\n",
       "    <tr>\n",
       "      <th>a</th>\n",
       "      <td>10</td>\n",
       "      <td>8</td>\n",
       "      <td>10</td>\n",
       "      <td>7</td>\n",
       "      <td>6</td>\n",
       "    </tr>\n",
       "    <tr>\n",
       "      <th>b</th>\n",
       "      <td>9</td>\n",
       "      <td>4</td>\n",
       "      <td>10</td>\n",
       "      <td>9</td>\n",
       "      <td>19</td>\n",
       "    </tr>\n",
       "  </tbody>\n",
       "</table>\n",
       "</div>"
      ],
      "text/plain": [
       "   서울     경기       \n",
       "   강남 잠실  분당 수원  판교\n",
       "a  10  8  10  7   6\n",
       "b   9  4  10  9  19"
      ]
     },
     "execution_count": 15,
     "metadata": {},
     "output_type": "execute_result"
    }
   ],
   "source": [
    "area_df.loc[2017]"
   ]
  },
  {
   "cell_type": "markdown",
   "id": "b2ff4f90",
   "metadata": {},
   "source": [
    "<br>\n",
    "\n",
    "- 이중 계층 row index item 접근\n",
    "\n",
    "    1. `df.loc[idx1].loc[idx2]`\n",
    "    \n",
    "    2. `df.loc[(idx1, idx2)]`"
   ]
  },
  {
   "cell_type": "code",
   "execution_count": 16,
   "id": "282f2eb3",
   "metadata": {},
   "outputs": [
    {
     "data": {
      "text/plain": [
       "서울  강남    10\n",
       "    잠실     8\n",
       "경기  분당    10\n",
       "    수원     7\n",
       "    판교     6\n",
       "Name: a, dtype: int32"
      ]
     },
     "execution_count": 16,
     "metadata": {},
     "output_type": "execute_result"
    }
   ],
   "source": [
    "area_df.loc[2017].loc['a']"
   ]
  },
  {
   "cell_type": "code",
   "execution_count": 17,
   "id": "3e6363c2",
   "metadata": {},
   "outputs": [
    {
     "data": {
      "text/plain": [
       "서울  강남    10\n",
       "    잠실     8\n",
       "경기  분당    10\n",
       "    수원     7\n",
       "    판교     6\n",
       "Name: (2017, a), dtype: int32"
      ]
     },
     "execution_count": 17,
     "metadata": {},
     "output_type": "execute_result"
    }
   ],
   "source": [
    "area_df.loc[(2017, 'a')]"
   ]
  },
  {
   "cell_type": "markdown",
   "id": "5eb5915e",
   "metadata": {},
   "source": [
    "<br>\n",
    "\n",
    "- `columns` 하위 계층 index: '분당'~'수원' data 추출\n",
    "    \n",
    "- DataFrame `columns silcing`: `row slicing result`에만 columns slicing 적용 가능"
   ]
  },
  {
   "cell_type": "code",
   "execution_count": 18,
   "id": "dd274be1",
   "metadata": {},
   "outputs": [
    {
     "data": {
      "text/html": [
       "<div>\n",
       "<style scoped>\n",
       "    .dataframe tbody tr th:only-of-type {\n",
       "        vertical-align: middle;\n",
       "    }\n",
       "\n",
       "    .dataframe tbody tr th {\n",
       "        vertical-align: top;\n",
       "    }\n",
       "\n",
       "    .dataframe thead th {\n",
       "        text-align: right;\n",
       "    }\n",
       "</style>\n",
       "<table border=\"1\" class=\"dataframe\">\n",
       "  <thead>\n",
       "    <tr style=\"text-align: right;\">\n",
       "      <th></th>\n",
       "      <th></th>\n",
       "      <th>분당</th>\n",
       "      <th>수원</th>\n",
       "    </tr>\n",
       "  </thead>\n",
       "  <tbody>\n",
       "    <tr>\n",
       "      <th rowspan=\"2\" valign=\"top\">2017</th>\n",
       "      <th>a</th>\n",
       "      <td>10</td>\n",
       "      <td>7</td>\n",
       "    </tr>\n",
       "    <tr>\n",
       "      <th>b</th>\n",
       "      <td>10</td>\n",
       "      <td>9</td>\n",
       "    </tr>\n",
       "    <tr>\n",
       "      <th rowspan=\"2\" valign=\"top\">2018</th>\n",
       "      <th>a</th>\n",
       "      <td>1</td>\n",
       "      <td>12</td>\n",
       "    </tr>\n",
       "    <tr>\n",
       "      <th>b</th>\n",
       "      <td>16</td>\n",
       "      <td>14</td>\n",
       "    </tr>\n",
       "  </tbody>\n",
       "</table>\n",
       "</div>"
      ],
      "text/plain": [
       "        분당  수원\n",
       "2017 a  10   7\n",
       "     b  10   9\n",
       "2018 a   1  12\n",
       "     b  16  14"
      ]
     },
     "execution_count": 18,
     "metadata": {},
     "output_type": "execute_result"
    }
   ],
   "source": [
    "area_df['경기'].loc[:, '분당':'수원']"
   ]
  },
  {
   "cell_type": "markdown",
   "id": "08543485",
   "metadata": {},
   "source": [
    "<br>\n",
    "\n",
    "- DataFrame `row 최하위 Index` > `columns Index` 재배열"
   ]
  },
  {
   "cell_type": "code",
   "execution_count": 19,
   "id": "bbce5f7f",
   "metadata": {},
   "outputs": [
    {
     "data": {
      "text/html": [
       "<div>\n",
       "<style scoped>\n",
       "    .dataframe tbody tr th:only-of-type {\n",
       "        vertical-align: middle;\n",
       "    }\n",
       "\n",
       "    .dataframe tbody tr th {\n",
       "        vertical-align: top;\n",
       "    }\n",
       "\n",
       "    .dataframe thead tr th {\n",
       "        text-align: left;\n",
       "    }\n",
       "</style>\n",
       "<table border=\"1\" class=\"dataframe\">\n",
       "  <thead>\n",
       "    <tr>\n",
       "      <th></th>\n",
       "      <th></th>\n",
       "      <th colspan=\"2\" halign=\"left\">서울</th>\n",
       "      <th colspan=\"3\" halign=\"left\">경기</th>\n",
       "    </tr>\n",
       "    <tr>\n",
       "      <th></th>\n",
       "      <th></th>\n",
       "      <th>강남</th>\n",
       "      <th>잠실</th>\n",
       "      <th>분당</th>\n",
       "      <th>수원</th>\n",
       "      <th>판교</th>\n",
       "    </tr>\n",
       "  </thead>\n",
       "  <tbody>\n",
       "    <tr>\n",
       "      <th rowspan=\"2\" valign=\"top\">2017</th>\n",
       "      <th>a</th>\n",
       "      <td>10</td>\n",
       "      <td>8</td>\n",
       "      <td>10</td>\n",
       "      <td>7</td>\n",
       "      <td>6</td>\n",
       "    </tr>\n",
       "    <tr>\n",
       "      <th>b</th>\n",
       "      <td>9</td>\n",
       "      <td>4</td>\n",
       "      <td>10</td>\n",
       "      <td>9</td>\n",
       "      <td>19</td>\n",
       "    </tr>\n",
       "    <tr>\n",
       "      <th rowspan=\"2\" valign=\"top\">2018</th>\n",
       "      <th>a</th>\n",
       "      <td>13</td>\n",
       "      <td>9</td>\n",
       "      <td>1</td>\n",
       "      <td>12</td>\n",
       "      <td>16</td>\n",
       "    </tr>\n",
       "    <tr>\n",
       "      <th>b</th>\n",
       "      <td>11</td>\n",
       "      <td>14</td>\n",
       "      <td>16</td>\n",
       "      <td>14</td>\n",
       "      <td>19</td>\n",
       "    </tr>\n",
       "  </tbody>\n",
       "</table>\n",
       "</div>"
      ],
      "text/plain": [
       "        서울      경기        \n",
       "        강남  잠실  분당  수원  판교\n",
       "2017 a  10   8  10   7   6\n",
       "     b   9   4  10   9  19\n",
       "2018 a  13   9   1  12  16\n",
       "     b  11  14  16  14  19"
      ]
     },
     "execution_count": 19,
     "metadata": {},
     "output_type": "execute_result"
    }
   ],
   "source": [
    "area_df"
   ]
  },
  {
   "cell_type": "code",
   "execution_count": 20,
   "id": "2376eaa3",
   "metadata": {},
   "outputs": [
    {
     "data": {
      "text/html": [
       "<div>\n",
       "<style scoped>\n",
       "    .dataframe tbody tr th:only-of-type {\n",
       "        vertical-align: middle;\n",
       "    }\n",
       "\n",
       "    .dataframe tbody tr th {\n",
       "        vertical-align: top;\n",
       "    }\n",
       "\n",
       "    .dataframe thead tr th {\n",
       "        text-align: left;\n",
       "    }\n",
       "</style>\n",
       "<table border=\"1\" class=\"dataframe\">\n",
       "  <thead>\n",
       "    <tr>\n",
       "      <th></th>\n",
       "      <th colspan=\"4\" halign=\"left\">서울</th>\n",
       "      <th colspan=\"6\" halign=\"left\">경기</th>\n",
       "    </tr>\n",
       "    <tr>\n",
       "      <th></th>\n",
       "      <th colspan=\"2\" halign=\"left\">강남</th>\n",
       "      <th colspan=\"2\" halign=\"left\">잠실</th>\n",
       "      <th colspan=\"2\" halign=\"left\">분당</th>\n",
       "      <th colspan=\"2\" halign=\"left\">수원</th>\n",
       "      <th colspan=\"2\" halign=\"left\">판교</th>\n",
       "    </tr>\n",
       "    <tr>\n",
       "      <th></th>\n",
       "      <th>a</th>\n",
       "      <th>b</th>\n",
       "      <th>a</th>\n",
       "      <th>b</th>\n",
       "      <th>a</th>\n",
       "      <th>b</th>\n",
       "      <th>a</th>\n",
       "      <th>b</th>\n",
       "      <th>a</th>\n",
       "      <th>b</th>\n",
       "    </tr>\n",
       "  </thead>\n",
       "  <tbody>\n",
       "    <tr>\n",
       "      <th>2017</th>\n",
       "      <td>10</td>\n",
       "      <td>9</td>\n",
       "      <td>8</td>\n",
       "      <td>4</td>\n",
       "      <td>10</td>\n",
       "      <td>10</td>\n",
       "      <td>7</td>\n",
       "      <td>9</td>\n",
       "      <td>6</td>\n",
       "      <td>19</td>\n",
       "    </tr>\n",
       "    <tr>\n",
       "      <th>2018</th>\n",
       "      <td>13</td>\n",
       "      <td>11</td>\n",
       "      <td>9</td>\n",
       "      <td>14</td>\n",
       "      <td>1</td>\n",
       "      <td>16</td>\n",
       "      <td>12</td>\n",
       "      <td>14</td>\n",
       "      <td>16</td>\n",
       "      <td>19</td>\n",
       "    </tr>\n",
       "  </tbody>\n",
       "</table>\n",
       "</div>"
      ],
      "text/plain": [
       "      서울             경기                    \n",
       "      강남     잠실      분당      수원      판교    \n",
       "       a   b  a   b   a   b   a   b   a   b\n",
       "2017  10   9  8   4  10  10   7   9   6  19\n",
       "2018  13  11  9  14   1  16  12  14  16  19"
      ]
     },
     "execution_count": 20,
     "metadata": {},
     "output_type": "execute_result"
    }
   ],
   "source": [
    "area_df.unstack()"
   ]
  },
  {
   "cell_type": "markdown",
   "id": "e42f7aeb",
   "metadata": {},
   "source": [
    "<br>\n",
    "\n",
    "- DataFrame `columns 최하위 index` > `row 하위 index` 재배열"
   ]
  },
  {
   "cell_type": "code",
   "execution_count": 21,
   "id": "867bc2d9",
   "metadata": {},
   "outputs": [
    {
     "data": {
      "text/html": [
       "<div>\n",
       "<style scoped>\n",
       "    .dataframe tbody tr th:only-of-type {\n",
       "        vertical-align: middle;\n",
       "    }\n",
       "\n",
       "    .dataframe tbody tr th {\n",
       "        vertical-align: top;\n",
       "    }\n",
       "\n",
       "    .dataframe thead th {\n",
       "        text-align: right;\n",
       "    }\n",
       "</style>\n",
       "<table border=\"1\" class=\"dataframe\">\n",
       "  <thead>\n",
       "    <tr style=\"text-align: right;\">\n",
       "      <th></th>\n",
       "      <th></th>\n",
       "      <th></th>\n",
       "      <th>경기</th>\n",
       "      <th>서울</th>\n",
       "    </tr>\n",
       "  </thead>\n",
       "  <tbody>\n",
       "    <tr>\n",
       "      <th rowspan=\"10\" valign=\"top\">2017</th>\n",
       "      <th rowspan=\"5\" valign=\"top\">a</th>\n",
       "      <th>강남</th>\n",
       "      <td>NaN</td>\n",
       "      <td>10.0</td>\n",
       "    </tr>\n",
       "    <tr>\n",
       "      <th>분당</th>\n",
       "      <td>10.0</td>\n",
       "      <td>NaN</td>\n",
       "    </tr>\n",
       "    <tr>\n",
       "      <th>수원</th>\n",
       "      <td>7.0</td>\n",
       "      <td>NaN</td>\n",
       "    </tr>\n",
       "    <tr>\n",
       "      <th>잠실</th>\n",
       "      <td>NaN</td>\n",
       "      <td>8.0</td>\n",
       "    </tr>\n",
       "    <tr>\n",
       "      <th>판교</th>\n",
       "      <td>6.0</td>\n",
       "      <td>NaN</td>\n",
       "    </tr>\n",
       "    <tr>\n",
       "      <th rowspan=\"5\" valign=\"top\">b</th>\n",
       "      <th>강남</th>\n",
       "      <td>NaN</td>\n",
       "      <td>9.0</td>\n",
       "    </tr>\n",
       "    <tr>\n",
       "      <th>분당</th>\n",
       "      <td>10.0</td>\n",
       "      <td>NaN</td>\n",
       "    </tr>\n",
       "    <tr>\n",
       "      <th>수원</th>\n",
       "      <td>9.0</td>\n",
       "      <td>NaN</td>\n",
       "    </tr>\n",
       "    <tr>\n",
       "      <th>잠실</th>\n",
       "      <td>NaN</td>\n",
       "      <td>4.0</td>\n",
       "    </tr>\n",
       "    <tr>\n",
       "      <th>판교</th>\n",
       "      <td>19.0</td>\n",
       "      <td>NaN</td>\n",
       "    </tr>\n",
       "    <tr>\n",
       "      <th rowspan=\"10\" valign=\"top\">2018</th>\n",
       "      <th rowspan=\"5\" valign=\"top\">a</th>\n",
       "      <th>강남</th>\n",
       "      <td>NaN</td>\n",
       "      <td>13.0</td>\n",
       "    </tr>\n",
       "    <tr>\n",
       "      <th>분당</th>\n",
       "      <td>1.0</td>\n",
       "      <td>NaN</td>\n",
       "    </tr>\n",
       "    <tr>\n",
       "      <th>수원</th>\n",
       "      <td>12.0</td>\n",
       "      <td>NaN</td>\n",
       "    </tr>\n",
       "    <tr>\n",
       "      <th>잠실</th>\n",
       "      <td>NaN</td>\n",
       "      <td>9.0</td>\n",
       "    </tr>\n",
       "    <tr>\n",
       "      <th>판교</th>\n",
       "      <td>16.0</td>\n",
       "      <td>NaN</td>\n",
       "    </tr>\n",
       "    <tr>\n",
       "      <th rowspan=\"5\" valign=\"top\">b</th>\n",
       "      <th>강남</th>\n",
       "      <td>NaN</td>\n",
       "      <td>11.0</td>\n",
       "    </tr>\n",
       "    <tr>\n",
       "      <th>분당</th>\n",
       "      <td>16.0</td>\n",
       "      <td>NaN</td>\n",
       "    </tr>\n",
       "    <tr>\n",
       "      <th>수원</th>\n",
       "      <td>14.0</td>\n",
       "      <td>NaN</td>\n",
       "    </tr>\n",
       "    <tr>\n",
       "      <th>잠실</th>\n",
       "      <td>NaN</td>\n",
       "      <td>14.0</td>\n",
       "    </tr>\n",
       "    <tr>\n",
       "      <th>판교</th>\n",
       "      <td>19.0</td>\n",
       "      <td>NaN</td>\n",
       "    </tr>\n",
       "  </tbody>\n",
       "</table>\n",
       "</div>"
      ],
      "text/plain": [
       "             경기    서울\n",
       "2017 a 강남   NaN  10.0\n",
       "       분당  10.0   NaN\n",
       "       수원   7.0   NaN\n",
       "       잠실   NaN   8.0\n",
       "       판교   6.0   NaN\n",
       "     b 강남   NaN   9.0\n",
       "       분당  10.0   NaN\n",
       "       수원   9.0   NaN\n",
       "       잠실   NaN   4.0\n",
       "       판교  19.0   NaN\n",
       "2018 a 강남   NaN  13.0\n",
       "       분당   1.0   NaN\n",
       "       수원  12.0   NaN\n",
       "       잠실   NaN   9.0\n",
       "       판교  16.0   NaN\n",
       "     b 강남   NaN  11.0\n",
       "       분당  16.0   NaN\n",
       "       수원  14.0   NaN\n",
       "       잠실   NaN  14.0\n",
       "       판교  19.0   NaN"
      ]
     },
     "execution_count": 21,
     "metadata": {},
     "output_type": "execute_result"
    }
   ],
   "source": [
    "area_df.stack()"
   ]
  },
  {
   "cell_type": "markdown",
   "id": "47f63066",
   "metadata": {},
   "source": [
    "### 1.5. `df.swaplevel()`\n",
    "\n",
    "- 계층(`level index`)의 `int index` 또는 `label index`를 사용하여 상하위간 교환\n",
    "\n",
    "- `df.swaplevel(key1, key2, axis=0)`: `row index`의 `key1`과 `key2`에 해당하는 계층 교환\n",
    "    \n",
    "    - default: `axis=0`: `row index` 교환\n",
    "    \n",
    "    - `axis=1`: `columns index` 교환"
   ]
  },
  {
   "cell_type": "code",
   "execution_count": 22,
   "id": "ff0ea71a",
   "metadata": {
    "scrolled": true
   },
   "outputs": [
    {
     "data": {
      "text/html": [
       "<div>\n",
       "<style scoped>\n",
       "    .dataframe tbody tr th:only-of-type {\n",
       "        vertical-align: middle;\n",
       "    }\n",
       "\n",
       "    .dataframe tbody tr th {\n",
       "        vertical-align: top;\n",
       "    }\n",
       "\n",
       "    .dataframe thead tr th {\n",
       "        text-align: left;\n",
       "    }\n",
       "</style>\n",
       "<table border=\"1\" class=\"dataframe\">\n",
       "  <thead>\n",
       "    <tr>\n",
       "      <th></th>\n",
       "      <th></th>\n",
       "      <th colspan=\"2\" halign=\"left\">서울</th>\n",
       "      <th colspan=\"3\" halign=\"left\">경기</th>\n",
       "    </tr>\n",
       "    <tr>\n",
       "      <th></th>\n",
       "      <th></th>\n",
       "      <th>강남</th>\n",
       "      <th>잠실</th>\n",
       "      <th>분당</th>\n",
       "      <th>수원</th>\n",
       "      <th>판교</th>\n",
       "    </tr>\n",
       "  </thead>\n",
       "  <tbody>\n",
       "    <tr>\n",
       "      <th>a</th>\n",
       "      <th>2017</th>\n",
       "      <td>10</td>\n",
       "      <td>8</td>\n",
       "      <td>10</td>\n",
       "      <td>7</td>\n",
       "      <td>6</td>\n",
       "    </tr>\n",
       "    <tr>\n",
       "      <th>b</th>\n",
       "      <th>2017</th>\n",
       "      <td>9</td>\n",
       "      <td>4</td>\n",
       "      <td>10</td>\n",
       "      <td>9</td>\n",
       "      <td>19</td>\n",
       "    </tr>\n",
       "    <tr>\n",
       "      <th>a</th>\n",
       "      <th>2018</th>\n",
       "      <td>13</td>\n",
       "      <td>9</td>\n",
       "      <td>1</td>\n",
       "      <td>12</td>\n",
       "      <td>16</td>\n",
       "    </tr>\n",
       "    <tr>\n",
       "      <th>b</th>\n",
       "      <th>2018</th>\n",
       "      <td>11</td>\n",
       "      <td>14</td>\n",
       "      <td>16</td>\n",
       "      <td>14</td>\n",
       "      <td>19</td>\n",
       "    </tr>\n",
       "  </tbody>\n",
       "</table>\n",
       "</div>"
      ],
      "text/plain": [
       "        서울      경기        \n",
       "        강남  잠실  분당  수원  판교\n",
       "a 2017  10   8  10   7   6\n",
       "b 2017   9   4  10   9  19\n",
       "a 2018  13   9   1  12  16\n",
       "b 2018  11  14  16  14  19"
      ]
     },
     "execution_count": 22,
     "metadata": {},
     "output_type": "execute_result"
    }
   ],
   "source": [
    "area_df.swaplevel(1, 0)"
   ]
  },
  {
   "cell_type": "code",
   "execution_count": 23,
   "id": "8cc29600",
   "metadata": {},
   "outputs": [
    {
     "data": {
      "text/html": [
       "<div>\n",
       "<style scoped>\n",
       "    .dataframe tbody tr th:only-of-type {\n",
       "        vertical-align: middle;\n",
       "    }\n",
       "\n",
       "    .dataframe tbody tr th {\n",
       "        vertical-align: top;\n",
       "    }\n",
       "\n",
       "    .dataframe thead tr th {\n",
       "        text-align: left;\n",
       "    }\n",
       "</style>\n",
       "<table border=\"1\" class=\"dataframe\">\n",
       "  <thead>\n",
       "    <tr>\n",
       "      <th></th>\n",
       "      <th></th>\n",
       "      <th colspan=\"2\" halign=\"left\">서울</th>\n",
       "      <th colspan=\"3\" halign=\"left\">경기</th>\n",
       "    </tr>\n",
       "    <tr>\n",
       "      <th></th>\n",
       "      <th></th>\n",
       "      <th>강남</th>\n",
       "      <th>잠실</th>\n",
       "      <th>분당</th>\n",
       "      <th>수원</th>\n",
       "      <th>판교</th>\n",
       "    </tr>\n",
       "  </thead>\n",
       "  <tbody>\n",
       "    <tr>\n",
       "      <th>a</th>\n",
       "      <th>2017</th>\n",
       "      <td>10</td>\n",
       "      <td>8</td>\n",
       "      <td>10</td>\n",
       "      <td>7</td>\n",
       "      <td>6</td>\n",
       "    </tr>\n",
       "    <tr>\n",
       "      <th>b</th>\n",
       "      <th>2017</th>\n",
       "      <td>9</td>\n",
       "      <td>4</td>\n",
       "      <td>10</td>\n",
       "      <td>9</td>\n",
       "      <td>19</td>\n",
       "    </tr>\n",
       "    <tr>\n",
       "      <th>a</th>\n",
       "      <th>2018</th>\n",
       "      <td>13</td>\n",
       "      <td>9</td>\n",
       "      <td>1</td>\n",
       "      <td>12</td>\n",
       "      <td>16</td>\n",
       "    </tr>\n",
       "    <tr>\n",
       "      <th>b</th>\n",
       "      <th>2018</th>\n",
       "      <td>11</td>\n",
       "      <td>14</td>\n",
       "      <td>16</td>\n",
       "      <td>14</td>\n",
       "      <td>19</td>\n",
       "    </tr>\n",
       "  </tbody>\n",
       "</table>\n",
       "</div>"
      ],
      "text/plain": [
       "        서울      경기        \n",
       "        강남  잠실  분당  수원  판교\n",
       "a 2017  10   8  10   7   6\n",
       "b 2017   9   4  10   9  19\n",
       "a 2018  13   9   1  12  16\n",
       "b 2018  11  14  16  14  19"
      ]
     },
     "execution_count": 23,
     "metadata": {},
     "output_type": "execute_result"
    }
   ],
   "source": [
    "area_df.swaplevel(0, 1)"
   ]
  },
  {
   "cell_type": "code",
   "execution_count": 24,
   "id": "83fbc82c",
   "metadata": {},
   "outputs": [
    {
     "data": {
      "text/html": [
       "<div>\n",
       "<style scoped>\n",
       "    .dataframe tbody tr th:only-of-type {\n",
       "        vertical-align: middle;\n",
       "    }\n",
       "\n",
       "    .dataframe tbody tr th {\n",
       "        vertical-align: top;\n",
       "    }\n",
       "\n",
       "    .dataframe thead tr th {\n",
       "        text-align: left;\n",
       "    }\n",
       "</style>\n",
       "<table border=\"1\" class=\"dataframe\">\n",
       "  <thead>\n",
       "    <tr>\n",
       "      <th></th>\n",
       "      <th></th>\n",
       "      <th>강남</th>\n",
       "      <th>잠실</th>\n",
       "      <th>분당</th>\n",
       "      <th>수원</th>\n",
       "      <th>판교</th>\n",
       "    </tr>\n",
       "    <tr>\n",
       "      <th></th>\n",
       "      <th></th>\n",
       "      <th>서울</th>\n",
       "      <th>서울</th>\n",
       "      <th>경기</th>\n",
       "      <th>경기</th>\n",
       "      <th>경기</th>\n",
       "    </tr>\n",
       "  </thead>\n",
       "  <tbody>\n",
       "    <tr>\n",
       "      <th rowspan=\"2\" valign=\"top\">2017</th>\n",
       "      <th>a</th>\n",
       "      <td>10</td>\n",
       "      <td>8</td>\n",
       "      <td>10</td>\n",
       "      <td>7</td>\n",
       "      <td>6</td>\n",
       "    </tr>\n",
       "    <tr>\n",
       "      <th>b</th>\n",
       "      <td>9</td>\n",
       "      <td>4</td>\n",
       "      <td>10</td>\n",
       "      <td>9</td>\n",
       "      <td>19</td>\n",
       "    </tr>\n",
       "    <tr>\n",
       "      <th rowspan=\"2\" valign=\"top\">2018</th>\n",
       "      <th>a</th>\n",
       "      <td>13</td>\n",
       "      <td>9</td>\n",
       "      <td>1</td>\n",
       "      <td>12</td>\n",
       "      <td>16</td>\n",
       "    </tr>\n",
       "    <tr>\n",
       "      <th>b</th>\n",
       "      <td>11</td>\n",
       "      <td>14</td>\n",
       "      <td>16</td>\n",
       "      <td>14</td>\n",
       "      <td>19</td>\n",
       "    </tr>\n",
       "  </tbody>\n",
       "</table>\n",
       "</div>"
      ],
      "text/plain": [
       "        강남  잠실  분당  수원  판교\n",
       "        서울  서울  경기  경기  경기\n",
       "2017 a  10   8  10   7   6\n",
       "     b   9   4  10   9  19\n",
       "2018 a  13   9   1  12  16\n",
       "     b  11  14  16  14  19"
      ]
     },
     "execution_count": 24,
     "metadata": {},
     "output_type": "execute_result"
    }
   ],
   "source": [
    "area_df.swaplevel(1, 0, axis=1)"
   ]
  },
  {
   "cell_type": "markdown",
   "id": "b85ddaf5",
   "metadata": {},
   "source": [
    "## 2. Sorting 정렬\n",
    "\n",
    "- `obj.sort_index(axis=0, ascending=True)`: `index`를 기준으로 정렬\n",
    "\n",
    "    - `DataFrame`, `Series` object 적용 가능\n",
    "    \n",
    "        - parameter default: `axis=0, ascending=True`: `row index`기준, 오름차순 정렬\n",
    "    \n",
    "        - `axis=1`: `columns index` 기준 정렬, `ascending=False`: 내림차순 정렬\n",
    "    \n",
    "\n",
    "<br>\n",
    "\n",
    "- `obj.sort_values(by, axis=0, ascending=True)`: `value`값을 기준으로 정렬\n",
    "    \n",
    "    - `DataFrame`, `Series` object 적용 가능\n",
    "    \n",
    "        - parameter `by=[' ']`: 정렬의 기준이 되는 인덱스를 `str` 또는 `list of str`로 전달\n",
    "            - `axis=0`: default, `columns`을 기준으로 `row label index`를 정렬,   \n",
    "            기준값으로 `by=`에 `columns label index` 전달\n",
    "            \n",
    "            - `axis=1`: `row`를 기준으로 `columns label index`를 정렬,   \n",
    "            기준값으로 `by=`에 `row label index` 전달"
   ]
  },
  {
   "cell_type": "code",
   "execution_count": 25,
   "id": "09058128",
   "metadata": {},
   "outputs": [
    {
     "data": {
      "text/plain": [
       "g    2\n",
       "a    3\n",
       "c    1\n",
       "f    7\n",
       "d    0\n",
       "dtype: int64"
      ]
     },
     "execution_count": 25,
     "metadata": {},
     "output_type": "execute_result"
    }
   ],
   "source": [
    "st_sr = pd.Series([2, 3, 1, 7, 0], index=list('gacfd'))\n",
    "\n",
    "st_sr"
   ]
  },
  {
   "cell_type": "markdown",
   "id": "d5868dfd",
   "metadata": {},
   "source": [
    "<br>\n",
    "\n",
    "- `index` 기준 정렬"
   ]
  },
  {
   "cell_type": "code",
   "execution_count": 26,
   "id": "9e42625b",
   "metadata": {
    "scrolled": true
   },
   "outputs": [
    {
     "data": {
      "text/plain": [
       "a    3\n",
       "c    1\n",
       "d    0\n",
       "f    7\n",
       "g    2\n",
       "dtype: int64"
      ]
     },
     "execution_count": 26,
     "metadata": {},
     "output_type": "execute_result"
    }
   ],
   "source": [
    "st_sr.sort_index()"
   ]
  },
  {
   "cell_type": "code",
   "execution_count": 27,
   "id": "893be180",
   "metadata": {},
   "outputs": [
    {
     "data": {
      "text/plain": [
       "g    2\n",
       "f    7\n",
       "d    0\n",
       "c    1\n",
       "a    3\n",
       "dtype: int64"
      ]
     },
     "execution_count": 27,
     "metadata": {},
     "output_type": "execute_result"
    }
   ],
   "source": [
    "st_sr.sort_index(ascending=False)"
   ]
  },
  {
   "cell_type": "markdown",
   "id": "4470cb97",
   "metadata": {},
   "source": [
    "<br>\n",
    "\n",
    "- `obj.sort_index()`: 결과 object return > 원본 영향 X"
   ]
  },
  {
   "cell_type": "code",
   "execution_count": 28,
   "id": "c1c3bc68",
   "metadata": {
    "scrolled": true
   },
   "outputs": [
    {
     "data": {
      "text/plain": [
       "g    2\n",
       "a    3\n",
       "c    1\n",
       "f    7\n",
       "d    0\n",
       "dtype: int64"
      ]
     },
     "execution_count": 28,
     "metadata": {},
     "output_type": "execute_result"
    }
   ],
   "source": [
    "st_sr"
   ]
  },
  {
   "cell_type": "markdown",
   "id": "1b94cca8",
   "metadata": {},
   "source": [
    "<br>\n",
    "\n",
    "- `values`기준 정렬"
   ]
  },
  {
   "cell_type": "code",
   "execution_count": 29,
   "id": "1596548f",
   "metadata": {},
   "outputs": [
    {
     "data": {
      "text/plain": [
       "d    0\n",
       "c    1\n",
       "g    2\n",
       "a    3\n",
       "f    7\n",
       "dtype: int64"
      ]
     },
     "execution_count": 29,
     "metadata": {},
     "output_type": "execute_result"
    }
   ],
   "source": [
    "st_sr.sort_values()"
   ]
  },
  {
   "cell_type": "code",
   "execution_count": 30,
   "id": "e347d30c",
   "metadata": {
    "scrolled": true
   },
   "outputs": [
    {
     "data": {
      "text/plain": [
       "f    7\n",
       "a    3\n",
       "g    2\n",
       "c    1\n",
       "d    0\n",
       "dtype: int64"
      ]
     },
     "execution_count": 30,
     "metadata": {},
     "output_type": "execute_result"
    }
   ],
   "source": [
    "st_sr.sort_values(ascending=False)"
   ]
  },
  {
   "cell_type": "code",
   "execution_count": 31,
   "id": "3c51bb06",
   "metadata": {},
   "outputs": [],
   "source": [
    "np.random.seed(4)"
   ]
  },
  {
   "cell_type": "markdown",
   "id": "ca612da7",
   "metadata": {},
   "source": [
    "<br>\n",
    "\n",
    "- `DataFrame` 생성"
   ]
  },
  {
   "cell_type": "code",
   "execution_count": 32,
   "id": "09304a35",
   "metadata": {},
   "outputs": [
    {
     "data": {
      "text/html": [
       "<div>\n",
       "<style scoped>\n",
       "    .dataframe tbody tr th:only-of-type {\n",
       "        vertical-align: middle;\n",
       "    }\n",
       "\n",
       "    .dataframe tbody tr th {\n",
       "        vertical-align: top;\n",
       "    }\n",
       "\n",
       "    .dataframe thead th {\n",
       "        text-align: right;\n",
       "    }\n",
       "</style>\n",
       "<table border=\"1\" class=\"dataframe\">\n",
       "  <thead>\n",
       "    <tr style=\"text-align: right;\">\n",
       "      <th></th>\n",
       "      <th>C</th>\n",
       "      <th>B</th>\n",
       "      <th>A</th>\n",
       "      <th>D</th>\n",
       "      <th>E</th>\n",
       "    </tr>\n",
       "  </thead>\n",
       "  <tbody>\n",
       "    <tr>\n",
       "      <th>d</th>\n",
       "      <td>14</td>\n",
       "      <td>5</td>\n",
       "      <td>1</td>\n",
       "      <td>8</td>\n",
       "      <td>8</td>\n",
       "    </tr>\n",
       "    <tr>\n",
       "      <th>b</th>\n",
       "      <td>18</td>\n",
       "      <td>9</td>\n",
       "      <td>7</td>\n",
       "      <td>13</td>\n",
       "      <td>8</td>\n",
       "    </tr>\n",
       "    <tr>\n",
       "      <th>c</th>\n",
       "      <td>4</td>\n",
       "      <td>18</td>\n",
       "      <td>12</td>\n",
       "      <td>6</td>\n",
       "      <td>10</td>\n",
       "    </tr>\n",
       "    <tr>\n",
       "      <th>a</th>\n",
       "      <td>3</td>\n",
       "      <td>0</td>\n",
       "      <td>9</td>\n",
       "      <td>6</td>\n",
       "      <td>6</td>\n",
       "    </tr>\n",
       "  </tbody>\n",
       "</table>\n",
       "</div>"
      ],
      "text/plain": [
       "    C   B   A   D   E\n",
       "d  14   5   1   8   8\n",
       "b  18   9   7  13   8\n",
       "c   4  18  12   6  10\n",
       "a   3   0   9   6   6"
      ]
     },
     "execution_count": 32,
     "metadata": {},
     "output_type": "execute_result"
    }
   ],
   "source": [
    "sort_df = pd.DataFrame(np.random.randint(20, size=(4, 5)),\n",
    "                      index=list('dbca'),\n",
    "                      columns=list('CBADE'))\n",
    "\n",
    "sort_df"
   ]
  },
  {
   "cell_type": "markdown",
   "id": "b41d28ed",
   "metadata": {},
   "source": [
    "<br>\n",
    "\n",
    "- `row label index`기준 오름차순 정렬: default: `axis=0`"
   ]
  },
  {
   "cell_type": "code",
   "execution_count": 33,
   "id": "f3452201",
   "metadata": {},
   "outputs": [
    {
     "data": {
      "text/html": [
       "<div>\n",
       "<style scoped>\n",
       "    .dataframe tbody tr th:only-of-type {\n",
       "        vertical-align: middle;\n",
       "    }\n",
       "\n",
       "    .dataframe tbody tr th {\n",
       "        vertical-align: top;\n",
       "    }\n",
       "\n",
       "    .dataframe thead th {\n",
       "        text-align: right;\n",
       "    }\n",
       "</style>\n",
       "<table border=\"1\" class=\"dataframe\">\n",
       "  <thead>\n",
       "    <tr style=\"text-align: right;\">\n",
       "      <th></th>\n",
       "      <th>C</th>\n",
       "      <th>B</th>\n",
       "      <th>A</th>\n",
       "      <th>D</th>\n",
       "      <th>E</th>\n",
       "    </tr>\n",
       "  </thead>\n",
       "  <tbody>\n",
       "    <tr>\n",
       "      <th>a</th>\n",
       "      <td>3</td>\n",
       "      <td>0</td>\n",
       "      <td>9</td>\n",
       "      <td>6</td>\n",
       "      <td>6</td>\n",
       "    </tr>\n",
       "    <tr>\n",
       "      <th>b</th>\n",
       "      <td>18</td>\n",
       "      <td>9</td>\n",
       "      <td>7</td>\n",
       "      <td>13</td>\n",
       "      <td>8</td>\n",
       "    </tr>\n",
       "    <tr>\n",
       "      <th>c</th>\n",
       "      <td>4</td>\n",
       "      <td>18</td>\n",
       "      <td>12</td>\n",
       "      <td>6</td>\n",
       "      <td>10</td>\n",
       "    </tr>\n",
       "    <tr>\n",
       "      <th>d</th>\n",
       "      <td>14</td>\n",
       "      <td>5</td>\n",
       "      <td>1</td>\n",
       "      <td>8</td>\n",
       "      <td>8</td>\n",
       "    </tr>\n",
       "  </tbody>\n",
       "</table>\n",
       "</div>"
      ],
      "text/plain": [
       "    C   B   A   D   E\n",
       "a   3   0   9   6   6\n",
       "b  18   9   7  13   8\n",
       "c   4  18  12   6  10\n",
       "d  14   5   1   8   8"
      ]
     },
     "execution_count": 33,
     "metadata": {},
     "output_type": "execute_result"
    }
   ],
   "source": [
    "sort_df.sort_index()"
   ]
  },
  {
   "cell_type": "code",
   "execution_count": 34,
   "id": "78da3124",
   "metadata": {},
   "outputs": [
    {
     "data": {
      "text/html": [
       "<div>\n",
       "<style scoped>\n",
       "    .dataframe tbody tr th:only-of-type {\n",
       "        vertical-align: middle;\n",
       "    }\n",
       "\n",
       "    .dataframe tbody tr th {\n",
       "        vertical-align: top;\n",
       "    }\n",
       "\n",
       "    .dataframe thead th {\n",
       "        text-align: right;\n",
       "    }\n",
       "</style>\n",
       "<table border=\"1\" class=\"dataframe\">\n",
       "  <thead>\n",
       "    <tr style=\"text-align: right;\">\n",
       "      <th></th>\n",
       "      <th>C</th>\n",
       "      <th>B</th>\n",
       "      <th>A</th>\n",
       "      <th>D</th>\n",
       "      <th>E</th>\n",
       "    </tr>\n",
       "  </thead>\n",
       "  <tbody>\n",
       "    <tr>\n",
       "      <th>d</th>\n",
       "      <td>14</td>\n",
       "      <td>5</td>\n",
       "      <td>1</td>\n",
       "      <td>8</td>\n",
       "      <td>8</td>\n",
       "    </tr>\n",
       "    <tr>\n",
       "      <th>c</th>\n",
       "      <td>4</td>\n",
       "      <td>18</td>\n",
       "      <td>12</td>\n",
       "      <td>6</td>\n",
       "      <td>10</td>\n",
       "    </tr>\n",
       "    <tr>\n",
       "      <th>b</th>\n",
       "      <td>18</td>\n",
       "      <td>9</td>\n",
       "      <td>7</td>\n",
       "      <td>13</td>\n",
       "      <td>8</td>\n",
       "    </tr>\n",
       "    <tr>\n",
       "      <th>a</th>\n",
       "      <td>3</td>\n",
       "      <td>0</td>\n",
       "      <td>9</td>\n",
       "      <td>6</td>\n",
       "      <td>6</td>\n",
       "    </tr>\n",
       "  </tbody>\n",
       "</table>\n",
       "</div>"
      ],
      "text/plain": [
       "    C   B   A   D   E\n",
       "d  14   5   1   8   8\n",
       "c   4  18  12   6  10\n",
       "b  18   9   7  13   8\n",
       "a   3   0   9   6   6"
      ]
     },
     "execution_count": 34,
     "metadata": {},
     "output_type": "execute_result"
    }
   ],
   "source": [
    "sort_df.sort_index(ascending=False)"
   ]
  },
  {
   "cell_type": "markdown",
   "id": "eaefbbd8",
   "metadata": {},
   "source": [
    "<br>\n",
    "\n",
    "- `columns label index` 기준 정렬: `axis=1`"
   ]
  },
  {
   "cell_type": "code",
   "execution_count": 35,
   "id": "bd963ffe",
   "metadata": {},
   "outputs": [
    {
     "data": {
      "text/html": [
       "<div>\n",
       "<style scoped>\n",
       "    .dataframe tbody tr th:only-of-type {\n",
       "        vertical-align: middle;\n",
       "    }\n",
       "\n",
       "    .dataframe tbody tr th {\n",
       "        vertical-align: top;\n",
       "    }\n",
       "\n",
       "    .dataframe thead th {\n",
       "        text-align: right;\n",
       "    }\n",
       "</style>\n",
       "<table border=\"1\" class=\"dataframe\">\n",
       "  <thead>\n",
       "    <tr style=\"text-align: right;\">\n",
       "      <th></th>\n",
       "      <th>A</th>\n",
       "      <th>B</th>\n",
       "      <th>C</th>\n",
       "      <th>D</th>\n",
       "      <th>E</th>\n",
       "    </tr>\n",
       "  </thead>\n",
       "  <tbody>\n",
       "    <tr>\n",
       "      <th>d</th>\n",
       "      <td>1</td>\n",
       "      <td>5</td>\n",
       "      <td>14</td>\n",
       "      <td>8</td>\n",
       "      <td>8</td>\n",
       "    </tr>\n",
       "    <tr>\n",
       "      <th>b</th>\n",
       "      <td>7</td>\n",
       "      <td>9</td>\n",
       "      <td>18</td>\n",
       "      <td>13</td>\n",
       "      <td>8</td>\n",
       "    </tr>\n",
       "    <tr>\n",
       "      <th>c</th>\n",
       "      <td>12</td>\n",
       "      <td>18</td>\n",
       "      <td>4</td>\n",
       "      <td>6</td>\n",
       "      <td>10</td>\n",
       "    </tr>\n",
       "    <tr>\n",
       "      <th>a</th>\n",
       "      <td>9</td>\n",
       "      <td>0</td>\n",
       "      <td>3</td>\n",
       "      <td>6</td>\n",
       "      <td>6</td>\n",
       "    </tr>\n",
       "  </tbody>\n",
       "</table>\n",
       "</div>"
      ],
      "text/plain": [
       "    A   B   C   D   E\n",
       "d   1   5  14   8   8\n",
       "b   7   9  18  13   8\n",
       "c  12  18   4   6  10\n",
       "a   9   0   3   6   6"
      ]
     },
     "execution_count": 35,
     "metadata": {},
     "output_type": "execute_result"
    }
   ],
   "source": [
    "sort_df.sort_index(axis=1)"
   ]
  },
  {
   "cell_type": "code",
   "execution_count": 36,
   "id": "9988f8e6",
   "metadata": {},
   "outputs": [
    {
     "data": {
      "text/html": [
       "<div>\n",
       "<style scoped>\n",
       "    .dataframe tbody tr th:only-of-type {\n",
       "        vertical-align: middle;\n",
       "    }\n",
       "\n",
       "    .dataframe tbody tr th {\n",
       "        vertical-align: top;\n",
       "    }\n",
       "\n",
       "    .dataframe thead th {\n",
       "        text-align: right;\n",
       "    }\n",
       "</style>\n",
       "<table border=\"1\" class=\"dataframe\">\n",
       "  <thead>\n",
       "    <tr style=\"text-align: right;\">\n",
       "      <th></th>\n",
       "      <th>E</th>\n",
       "      <th>D</th>\n",
       "      <th>C</th>\n",
       "      <th>B</th>\n",
       "      <th>A</th>\n",
       "    </tr>\n",
       "  </thead>\n",
       "  <tbody>\n",
       "    <tr>\n",
       "      <th>d</th>\n",
       "      <td>8</td>\n",
       "      <td>8</td>\n",
       "      <td>14</td>\n",
       "      <td>5</td>\n",
       "      <td>1</td>\n",
       "    </tr>\n",
       "    <tr>\n",
       "      <th>b</th>\n",
       "      <td>8</td>\n",
       "      <td>13</td>\n",
       "      <td>18</td>\n",
       "      <td>9</td>\n",
       "      <td>7</td>\n",
       "    </tr>\n",
       "    <tr>\n",
       "      <th>c</th>\n",
       "      <td>10</td>\n",
       "      <td>6</td>\n",
       "      <td>4</td>\n",
       "      <td>18</td>\n",
       "      <td>12</td>\n",
       "    </tr>\n",
       "    <tr>\n",
       "      <th>a</th>\n",
       "      <td>6</td>\n",
       "      <td>6</td>\n",
       "      <td>3</td>\n",
       "      <td>0</td>\n",
       "      <td>9</td>\n",
       "    </tr>\n",
       "  </tbody>\n",
       "</table>\n",
       "</div>"
      ],
      "text/plain": [
       "    E   D   C   B   A\n",
       "d   8   8  14   5   1\n",
       "b   8  13  18   9   7\n",
       "c  10   6   4  18  12\n",
       "a   6   6   3   0   9"
      ]
     },
     "execution_count": 36,
     "metadata": {},
     "output_type": "execute_result"
    }
   ],
   "source": [
    "sort_df.sort_index(axis=1, ascending=False)"
   ]
  },
  {
   "cell_type": "markdown",
   "id": "608c4961",
   "metadata": {},
   "source": [
    "<br>\n",
    "\n",
    "- `columns label index`기준 내림차순 정렬 후, `row label index`기준 오름차순 정렬"
   ]
  },
  {
   "cell_type": "code",
   "execution_count": 37,
   "id": "9fdd6063",
   "metadata": {},
   "outputs": [
    {
     "data": {
      "text/html": [
       "<div>\n",
       "<style scoped>\n",
       "    .dataframe tbody tr th:only-of-type {\n",
       "        vertical-align: middle;\n",
       "    }\n",
       "\n",
       "    .dataframe tbody tr th {\n",
       "        vertical-align: top;\n",
       "    }\n",
       "\n",
       "    .dataframe thead th {\n",
       "        text-align: right;\n",
       "    }\n",
       "</style>\n",
       "<table border=\"1\" class=\"dataframe\">\n",
       "  <thead>\n",
       "    <tr style=\"text-align: right;\">\n",
       "      <th></th>\n",
       "      <th>E</th>\n",
       "      <th>D</th>\n",
       "      <th>C</th>\n",
       "      <th>B</th>\n",
       "      <th>A</th>\n",
       "    </tr>\n",
       "  </thead>\n",
       "  <tbody>\n",
       "    <tr>\n",
       "      <th>a</th>\n",
       "      <td>6</td>\n",
       "      <td>6</td>\n",
       "      <td>3</td>\n",
       "      <td>0</td>\n",
       "      <td>9</td>\n",
       "    </tr>\n",
       "    <tr>\n",
       "      <th>b</th>\n",
       "      <td>8</td>\n",
       "      <td>13</td>\n",
       "      <td>18</td>\n",
       "      <td>9</td>\n",
       "      <td>7</td>\n",
       "    </tr>\n",
       "    <tr>\n",
       "      <th>c</th>\n",
       "      <td>10</td>\n",
       "      <td>6</td>\n",
       "      <td>4</td>\n",
       "      <td>18</td>\n",
       "      <td>12</td>\n",
       "    </tr>\n",
       "    <tr>\n",
       "      <th>d</th>\n",
       "      <td>8</td>\n",
       "      <td>8</td>\n",
       "      <td>14</td>\n",
       "      <td>5</td>\n",
       "      <td>1</td>\n",
       "    </tr>\n",
       "  </tbody>\n",
       "</table>\n",
       "</div>"
      ],
      "text/plain": [
       "    E   D   C   B   A\n",
       "a   6   6   3   0   9\n",
       "b   8  13  18   9   7\n",
       "c  10   6   4  18  12\n",
       "d   8   8  14   5   1"
      ]
     },
     "execution_count": 37,
     "metadata": {},
     "output_type": "execute_result"
    }
   ],
   "source": [
    "sort_df.sort_index(axis=1, ascending=False).sort_index()"
   ]
  },
  {
   "cell_type": "markdown",
   "id": "cfc94942",
   "metadata": {},
   "source": [
    "<br>\n",
    "\n",
    "- `obj.sort_index`: sorted된 object return > 원본 영향 X"
   ]
  },
  {
   "cell_type": "code",
   "execution_count": 38,
   "id": "dd98cd90",
   "metadata": {},
   "outputs": [
    {
     "data": {
      "text/html": [
       "<div>\n",
       "<style scoped>\n",
       "    .dataframe tbody tr th:only-of-type {\n",
       "        vertical-align: middle;\n",
       "    }\n",
       "\n",
       "    .dataframe tbody tr th {\n",
       "        vertical-align: top;\n",
       "    }\n",
       "\n",
       "    .dataframe thead th {\n",
       "        text-align: right;\n",
       "    }\n",
       "</style>\n",
       "<table border=\"1\" class=\"dataframe\">\n",
       "  <thead>\n",
       "    <tr style=\"text-align: right;\">\n",
       "      <th></th>\n",
       "      <th>C</th>\n",
       "      <th>B</th>\n",
       "      <th>A</th>\n",
       "      <th>D</th>\n",
       "      <th>E</th>\n",
       "    </tr>\n",
       "  </thead>\n",
       "  <tbody>\n",
       "    <tr>\n",
       "      <th>d</th>\n",
       "      <td>14</td>\n",
       "      <td>5</td>\n",
       "      <td>1</td>\n",
       "      <td>8</td>\n",
       "      <td>8</td>\n",
       "    </tr>\n",
       "    <tr>\n",
       "      <th>b</th>\n",
       "      <td>18</td>\n",
       "      <td>9</td>\n",
       "      <td>7</td>\n",
       "      <td>13</td>\n",
       "      <td>8</td>\n",
       "    </tr>\n",
       "    <tr>\n",
       "      <th>c</th>\n",
       "      <td>4</td>\n",
       "      <td>18</td>\n",
       "      <td>12</td>\n",
       "      <td>6</td>\n",
       "      <td>10</td>\n",
       "    </tr>\n",
       "    <tr>\n",
       "      <th>a</th>\n",
       "      <td>3</td>\n",
       "      <td>0</td>\n",
       "      <td>9</td>\n",
       "      <td>6</td>\n",
       "      <td>6</td>\n",
       "    </tr>\n",
       "  </tbody>\n",
       "</table>\n",
       "</div>"
      ],
      "text/plain": [
       "    C   B   A   D   E\n",
       "d  14   5   1   8   8\n",
       "b  18   9   7  13   8\n",
       "c   4  18  12   6  10\n",
       "a   3   0   9   6   6"
      ]
     },
     "execution_count": 38,
     "metadata": {},
     "output_type": "execute_result"
    }
   ],
   "source": [
    "sort_df"
   ]
  },
  {
   "cell_type": "markdown",
   "id": "c521c6dd",
   "metadata": {},
   "source": [
    "<br>\n",
    "\n",
    "- `values` 기준 정렬\n",
    "\n",
    "    - `row`단위 정렬: `obj.sort_values(axis=0, by='columns label')`"
   ]
  },
  {
   "cell_type": "code",
   "execution_count": 39,
   "id": "27f2b032",
   "metadata": {},
   "outputs": [
    {
     "data": {
      "text/html": [
       "<div>\n",
       "<style scoped>\n",
       "    .dataframe tbody tr th:only-of-type {\n",
       "        vertical-align: middle;\n",
       "    }\n",
       "\n",
       "    .dataframe tbody tr th {\n",
       "        vertical-align: top;\n",
       "    }\n",
       "\n",
       "    .dataframe thead th {\n",
       "        text-align: right;\n",
       "    }\n",
       "</style>\n",
       "<table border=\"1\" class=\"dataframe\">\n",
       "  <thead>\n",
       "    <tr style=\"text-align: right;\">\n",
       "      <th></th>\n",
       "      <th>C</th>\n",
       "      <th>B</th>\n",
       "      <th>A</th>\n",
       "      <th>D</th>\n",
       "      <th>E</th>\n",
       "    </tr>\n",
       "  </thead>\n",
       "  <tbody>\n",
       "    <tr>\n",
       "      <th>c</th>\n",
       "      <td>4</td>\n",
       "      <td>18</td>\n",
       "      <td>12</td>\n",
       "      <td>6</td>\n",
       "      <td>10</td>\n",
       "    </tr>\n",
       "    <tr>\n",
       "      <th>a</th>\n",
       "      <td>3</td>\n",
       "      <td>0</td>\n",
       "      <td>9</td>\n",
       "      <td>6</td>\n",
       "      <td>6</td>\n",
       "    </tr>\n",
       "    <tr>\n",
       "      <th>d</th>\n",
       "      <td>14</td>\n",
       "      <td>5</td>\n",
       "      <td>1</td>\n",
       "      <td>8</td>\n",
       "      <td>8</td>\n",
       "    </tr>\n",
       "    <tr>\n",
       "      <th>b</th>\n",
       "      <td>18</td>\n",
       "      <td>9</td>\n",
       "      <td>7</td>\n",
       "      <td>13</td>\n",
       "      <td>8</td>\n",
       "    </tr>\n",
       "  </tbody>\n",
       "</table>\n",
       "</div>"
      ],
      "text/plain": [
       "    C   B   A   D   E\n",
       "c   4  18  12   6  10\n",
       "a   3   0   9   6   6\n",
       "d  14   5   1   8   8\n",
       "b  18   9   7  13   8"
      ]
     },
     "execution_count": 39,
     "metadata": {},
     "output_type": "execute_result"
    }
   ],
   "source": [
    "sort_df.sort_values(axis=0, by='D')"
   ]
  },
  {
   "cell_type": "code",
   "execution_count": 40,
   "id": "8cc9e567",
   "metadata": {},
   "outputs": [
    {
     "data": {
      "text/html": [
       "<div>\n",
       "<style scoped>\n",
       "    .dataframe tbody tr th:only-of-type {\n",
       "        vertical-align: middle;\n",
       "    }\n",
       "\n",
       "    .dataframe tbody tr th {\n",
       "        vertical-align: top;\n",
       "    }\n",
       "\n",
       "    .dataframe thead th {\n",
       "        text-align: right;\n",
       "    }\n",
       "</style>\n",
       "<table border=\"1\" class=\"dataframe\">\n",
       "  <thead>\n",
       "    <tr style=\"text-align: right;\">\n",
       "      <th></th>\n",
       "      <th>C</th>\n",
       "      <th>B</th>\n",
       "      <th>A</th>\n",
       "      <th>D</th>\n",
       "      <th>E</th>\n",
       "    </tr>\n",
       "  </thead>\n",
       "  <tbody>\n",
       "    <tr>\n",
       "      <th>c</th>\n",
       "      <td>4</td>\n",
       "      <td>18</td>\n",
       "      <td>12</td>\n",
       "      <td>6</td>\n",
       "      <td>10</td>\n",
       "    </tr>\n",
       "    <tr>\n",
       "      <th>a</th>\n",
       "      <td>3</td>\n",
       "      <td>0</td>\n",
       "      <td>9</td>\n",
       "      <td>6</td>\n",
       "      <td>6</td>\n",
       "    </tr>\n",
       "    <tr>\n",
       "      <th>b</th>\n",
       "      <td>18</td>\n",
       "      <td>9</td>\n",
       "      <td>7</td>\n",
       "      <td>13</td>\n",
       "      <td>8</td>\n",
       "    </tr>\n",
       "    <tr>\n",
       "      <th>d</th>\n",
       "      <td>14</td>\n",
       "      <td>5</td>\n",
       "      <td>1</td>\n",
       "      <td>8</td>\n",
       "      <td>8</td>\n",
       "    </tr>\n",
       "  </tbody>\n",
       "</table>\n",
       "</div>"
      ],
      "text/plain": [
       "    C   B   A   D   E\n",
       "c   4  18  12   6  10\n",
       "a   3   0   9   6   6\n",
       "b  18   9   7  13   8\n",
       "d  14   5   1   8   8"
      ]
     },
     "execution_count": 40,
     "metadata": {},
     "output_type": "execute_result"
    }
   ],
   "source": [
    "sort_df.sort_values(by='A', ascending=False)"
   ]
  },
  {
   "cell_type": "markdown",
   "id": "acdd1172",
   "metadata": {},
   "source": [
    "<br>\n",
    "\n",
    "- `row label`의 `values`를 기준으로 정렬: 정렬 단위=`columns`, `axis=1`, `by='row label'`"
   ]
  },
  {
   "cell_type": "code",
   "execution_count": 41,
   "id": "50579f3f",
   "metadata": {},
   "outputs": [
    {
     "data": {
      "text/html": [
       "<div>\n",
       "<style scoped>\n",
       "    .dataframe tbody tr th:only-of-type {\n",
       "        vertical-align: middle;\n",
       "    }\n",
       "\n",
       "    .dataframe tbody tr th {\n",
       "        vertical-align: top;\n",
       "    }\n",
       "\n",
       "    .dataframe thead th {\n",
       "        text-align: right;\n",
       "    }\n",
       "</style>\n",
       "<table border=\"1\" class=\"dataframe\">\n",
       "  <thead>\n",
       "    <tr style=\"text-align: right;\">\n",
       "      <th></th>\n",
       "      <th>A</th>\n",
       "      <th>B</th>\n",
       "      <th>D</th>\n",
       "      <th>E</th>\n",
       "      <th>C</th>\n",
       "    </tr>\n",
       "  </thead>\n",
       "  <tbody>\n",
       "    <tr>\n",
       "      <th>d</th>\n",
       "      <td>1</td>\n",
       "      <td>5</td>\n",
       "      <td>8</td>\n",
       "      <td>8</td>\n",
       "      <td>14</td>\n",
       "    </tr>\n",
       "    <tr>\n",
       "      <th>b</th>\n",
       "      <td>7</td>\n",
       "      <td>9</td>\n",
       "      <td>13</td>\n",
       "      <td>8</td>\n",
       "      <td>18</td>\n",
       "    </tr>\n",
       "    <tr>\n",
       "      <th>c</th>\n",
       "      <td>12</td>\n",
       "      <td>18</td>\n",
       "      <td>6</td>\n",
       "      <td>10</td>\n",
       "      <td>4</td>\n",
       "    </tr>\n",
       "    <tr>\n",
       "      <th>a</th>\n",
       "      <td>9</td>\n",
       "      <td>0</td>\n",
       "      <td>6</td>\n",
       "      <td>6</td>\n",
       "      <td>3</td>\n",
       "    </tr>\n",
       "  </tbody>\n",
       "</table>\n",
       "</div>"
      ],
      "text/plain": [
       "    A   B   D   E   C\n",
       "d   1   5   8   8  14\n",
       "b   7   9  13   8  18\n",
       "c  12  18   6  10   4\n",
       "a   9   0   6   6   3"
      ]
     },
     "execution_count": 41,
     "metadata": {},
     "output_type": "execute_result"
    }
   ],
   "source": [
    "sort_df.sort_values(by='d', axis=1)"
   ]
  },
  {
   "cell_type": "code",
   "execution_count": 42,
   "id": "7152c254",
   "metadata": {},
   "outputs": [
    {
     "data": {
      "text/html": [
       "<div>\n",
       "<style scoped>\n",
       "    .dataframe tbody tr th:only-of-type {\n",
       "        vertical-align: middle;\n",
       "    }\n",
       "\n",
       "    .dataframe tbody tr th {\n",
       "        vertical-align: top;\n",
       "    }\n",
       "\n",
       "    .dataframe thead th {\n",
       "        text-align: right;\n",
       "    }\n",
       "</style>\n",
       "<table border=\"1\" class=\"dataframe\">\n",
       "  <thead>\n",
       "    <tr style=\"text-align: right;\">\n",
       "      <th></th>\n",
       "      <th>B</th>\n",
       "      <th>A</th>\n",
       "      <th>E</th>\n",
       "      <th>D</th>\n",
       "      <th>C</th>\n",
       "    </tr>\n",
       "  </thead>\n",
       "  <tbody>\n",
       "    <tr>\n",
       "      <th>d</th>\n",
       "      <td>5</td>\n",
       "      <td>1</td>\n",
       "      <td>8</td>\n",
       "      <td>8</td>\n",
       "      <td>14</td>\n",
       "    </tr>\n",
       "    <tr>\n",
       "      <th>b</th>\n",
       "      <td>9</td>\n",
       "      <td>7</td>\n",
       "      <td>8</td>\n",
       "      <td>13</td>\n",
       "      <td>18</td>\n",
       "    </tr>\n",
       "    <tr>\n",
       "      <th>c</th>\n",
       "      <td>18</td>\n",
       "      <td>12</td>\n",
       "      <td>10</td>\n",
       "      <td>6</td>\n",
       "      <td>4</td>\n",
       "    </tr>\n",
       "    <tr>\n",
       "      <th>a</th>\n",
       "      <td>0</td>\n",
       "      <td>9</td>\n",
       "      <td>6</td>\n",
       "      <td>6</td>\n",
       "      <td>3</td>\n",
       "    </tr>\n",
       "  </tbody>\n",
       "</table>\n",
       "</div>"
      ],
      "text/plain": [
       "    B   A   E   D   C\n",
       "d   5   1   8   8  14\n",
       "b   9   7   8  13  18\n",
       "c  18  12  10   6   4\n",
       "a   0   9   6   6   3"
      ]
     },
     "execution_count": 42,
     "metadata": {},
     "output_type": "execute_result"
    }
   ],
   "source": [
    "sort_df.sort_values(by='c', axis=1, ascending=False)"
   ]
  },
  {
   "cell_type": "markdown",
   "id": "00cc3fb0",
   "metadata": {},
   "source": [
    "<br>\n",
    "\n",
    "- `by=` 기준 `label index` 두 개 이상: `by=[list of 'str'(label index)]`\n",
    "    \n",
    "    - Sort Priority: `by=`으로 전달 된 list의 `label index` 순서대로 우선 순위\n",
    "        \n",
    "        - 1순위 `label index` value가 같으면 > 2순위 `label index` value로 정렬"
   ]
  },
  {
   "cell_type": "code",
   "execution_count": 43,
   "id": "44c6079b",
   "metadata": {},
   "outputs": [
    {
     "data": {
      "text/html": [
       "<div>\n",
       "<style scoped>\n",
       "    .dataframe tbody tr th:only-of-type {\n",
       "        vertical-align: middle;\n",
       "    }\n",
       "\n",
       "    .dataframe tbody tr th {\n",
       "        vertical-align: top;\n",
       "    }\n",
       "\n",
       "    .dataframe thead th {\n",
       "        text-align: right;\n",
       "    }\n",
       "</style>\n",
       "<table border=\"1\" class=\"dataframe\">\n",
       "  <thead>\n",
       "    <tr style=\"text-align: right;\">\n",
       "      <th></th>\n",
       "      <th>C</th>\n",
       "      <th>B</th>\n",
       "      <th>A</th>\n",
       "      <th>D</th>\n",
       "      <th>E</th>\n",
       "    </tr>\n",
       "  </thead>\n",
       "  <tbody>\n",
       "    <tr>\n",
       "      <th>a</th>\n",
       "      <td>3</td>\n",
       "      <td>0</td>\n",
       "      <td>9</td>\n",
       "      <td>6</td>\n",
       "      <td>6</td>\n",
       "    </tr>\n",
       "    <tr>\n",
       "      <th>d</th>\n",
       "      <td>14</td>\n",
       "      <td>5</td>\n",
       "      <td>1</td>\n",
       "      <td>8</td>\n",
       "      <td>8</td>\n",
       "    </tr>\n",
       "    <tr>\n",
       "      <th>b</th>\n",
       "      <td>18</td>\n",
       "      <td>9</td>\n",
       "      <td>7</td>\n",
       "      <td>13</td>\n",
       "      <td>8</td>\n",
       "    </tr>\n",
       "    <tr>\n",
       "      <th>c</th>\n",
       "      <td>4</td>\n",
       "      <td>18</td>\n",
       "      <td>12</td>\n",
       "      <td>6</td>\n",
       "      <td>10</td>\n",
       "    </tr>\n",
       "  </tbody>\n",
       "</table>\n",
       "</div>"
      ],
      "text/plain": [
       "    C   B   A   D   E\n",
       "a   3   0   9   6   6\n",
       "d  14   5   1   8   8\n",
       "b  18   9   7  13   8\n",
       "c   4  18  12   6  10"
      ]
     },
     "execution_count": 43,
     "metadata": {},
     "output_type": "execute_result"
    }
   ],
   "source": [
    "sort_df.sort_values(by=['E', 'D'], axis=0)"
   ]
  },
  {
   "cell_type": "markdown",
   "id": "9cfe57d1",
   "metadata": {},
   "source": [
    "<br>\n",
    "\n",
    "- 각각 `ascending=` parameter를 다르게 설정하고 싶다면: `list of 'bool'`로 전달"
   ]
  },
  {
   "cell_type": "code",
   "execution_count": 44,
   "id": "2a3ec910",
   "metadata": {},
   "outputs": [
    {
     "data": {
      "text/html": [
       "<div>\n",
       "<style scoped>\n",
       "    .dataframe tbody tr th:only-of-type {\n",
       "        vertical-align: middle;\n",
       "    }\n",
       "\n",
       "    .dataframe tbody tr th {\n",
       "        vertical-align: top;\n",
       "    }\n",
       "\n",
       "    .dataframe thead th {\n",
       "        text-align: right;\n",
       "    }\n",
       "</style>\n",
       "<table border=\"1\" class=\"dataframe\">\n",
       "  <thead>\n",
       "    <tr style=\"text-align: right;\">\n",
       "      <th></th>\n",
       "      <th>B</th>\n",
       "      <th>C</th>\n",
       "      <th>E</th>\n",
       "      <th>D</th>\n",
       "      <th>A</th>\n",
       "    </tr>\n",
       "  </thead>\n",
       "  <tbody>\n",
       "    <tr>\n",
       "      <th>d</th>\n",
       "      <td>5</td>\n",
       "      <td>14</td>\n",
       "      <td>8</td>\n",
       "      <td>8</td>\n",
       "      <td>1</td>\n",
       "    </tr>\n",
       "    <tr>\n",
       "      <th>b</th>\n",
       "      <td>9</td>\n",
       "      <td>18</td>\n",
       "      <td>8</td>\n",
       "      <td>13</td>\n",
       "      <td>7</td>\n",
       "    </tr>\n",
       "    <tr>\n",
       "      <th>c</th>\n",
       "      <td>18</td>\n",
       "      <td>4</td>\n",
       "      <td>10</td>\n",
       "      <td>6</td>\n",
       "      <td>12</td>\n",
       "    </tr>\n",
       "    <tr>\n",
       "      <th>a</th>\n",
       "      <td>0</td>\n",
       "      <td>3</td>\n",
       "      <td>6</td>\n",
       "      <td>6</td>\n",
       "      <td>9</td>\n",
       "    </tr>\n",
       "  </tbody>\n",
       "</table>\n",
       "</div>"
      ],
      "text/plain": [
       "    B   C   E   D   A\n",
       "d   5  14   8   8   1\n",
       "b   9  18   8  13   7\n",
       "c  18   4  10   6  12\n",
       "a   0   3   6   6   9"
      ]
     },
     "execution_count": 44,
     "metadata": {},
     "output_type": "execute_result"
    }
   ],
   "source": [
    "sort_df.sort_values(by=['a', 'c'], axis=1, ascending=[True, False])"
   ]
  },
  {
   "cell_type": "markdown",
   "id": "1abe8d62",
   "metadata": {},
   "source": [
    "### > 연습문제\n",
    "\n",
    "1. 아래의 DataFrame 생성하시오.\n",
    "\n",
    "- 학생들의 점수는 50 이상 100 미만의 무작위 정수 값을 생성하여 사용\n",
    "\n",
    "![df_sort](https://github.com/dev-EthanJ/Numpy_and_Pandas/blob/0f6b725452a60114b7dbcad4442d63764677f11c/img/df_sort_practice1.PNG?raw=true)"
   ]
  },
  {
   "cell_type": "markdown",
   "id": "633667d5",
   "metadata": {},
   "source": [
    "1.1. `2차원 list`"
   ]
  },
  {
   "cell_type": "code",
   "execution_count": 45,
   "id": "145a8777",
   "metadata": {
    "scrolled": true
   },
   "outputs": [
    {
     "data": {
      "text/html": [
       "<div>\n",
       "<style scoped>\n",
       "    .dataframe tbody tr th:only-of-type {\n",
       "        vertical-align: middle;\n",
       "    }\n",
       "\n",
       "    .dataframe tbody tr th {\n",
       "        vertical-align: top;\n",
       "    }\n",
       "\n",
       "    .dataframe thead tr th {\n",
       "        text-align: left;\n",
       "    }\n",
       "</style>\n",
       "<table border=\"1\" class=\"dataframe\">\n",
       "  <thead>\n",
       "    <tr>\n",
       "      <th></th>\n",
       "      <th colspan=\"2\" halign=\"left\">2016</th>\n",
       "      <th colspan=\"2\" halign=\"left\">2017</th>\n",
       "    </tr>\n",
       "    <tr>\n",
       "      <th></th>\n",
       "      <th>영어</th>\n",
       "      <th>수학</th>\n",
       "      <th>영어</th>\n",
       "      <th>수학</th>\n",
       "    </tr>\n",
       "  </thead>\n",
       "  <tbody>\n",
       "    <tr>\n",
       "      <th>Kim</th>\n",
       "      <td>52</td>\n",
       "      <td>96</td>\n",
       "      <td>80</td>\n",
       "      <td>58</td>\n",
       "    </tr>\n",
       "    <tr>\n",
       "      <th>Park</th>\n",
       "      <td>99</td>\n",
       "      <td>52</td>\n",
       "      <td>73</td>\n",
       "      <td>82</td>\n",
       "    </tr>\n",
       "    <tr>\n",
       "      <th>Lee</th>\n",
       "      <td>90</td>\n",
       "      <td>92</td>\n",
       "      <td>95</td>\n",
       "      <td>83</td>\n",
       "    </tr>\n",
       "    <tr>\n",
       "      <th>Jung</th>\n",
       "      <td>82</td>\n",
       "      <td>95</td>\n",
       "      <td>78</td>\n",
       "      <td>53</td>\n",
       "    </tr>\n",
       "    <tr>\n",
       "      <th>Moon</th>\n",
       "      <td>65</td>\n",
       "      <td>84</td>\n",
       "      <td>81</td>\n",
       "      <td>67</td>\n",
       "    </tr>\n",
       "  </tbody>\n",
       "</table>\n",
       "</div>"
      ],
      "text/plain": [
       "     2016     2017    \n",
       "       영어  수학   영어  수학\n",
       "Kim    52  96   80  58\n",
       "Park   99  52   73  82\n",
       "Lee    90  92   95  83\n",
       "Jung   82  95   78  53\n",
       "Moon   65  84   81  67"
      ]
     },
     "execution_count": 45,
     "metadata": {},
     "output_type": "execute_result"
    }
   ],
   "source": [
    "columns_list = [[2016, 2016, 2017, 2017], ['영어', '수학', '영어', '수학']]\n",
    "\n",
    "row_list = ['Kim', 'Park', 'Lee', 'Jung', 'Moon']\n",
    "\n",
    "score_df1 = pd.DataFrame(np.random.randint(50, 100, size=(5,4)),\n",
    "                         columns=columns_list,\n",
    "                         index=row_list)\n",
    "\n",
    "score_df1"
   ]
  },
  {
   "cell_type": "code",
   "execution_count": 46,
   "id": "c4687b35",
   "metadata": {},
   "outputs": [
    {
     "data": {
      "text/html": [
       "<div>\n",
       "<style scoped>\n",
       "    .dataframe tbody tr th:only-of-type {\n",
       "        vertical-align: middle;\n",
       "    }\n",
       "\n",
       "    .dataframe tbody tr th {\n",
       "        vertical-align: top;\n",
       "    }\n",
       "\n",
       "    .dataframe thead tr th {\n",
       "        text-align: left;\n",
       "    }\n",
       "\n",
       "    .dataframe thead tr:last-of-type th {\n",
       "        text-align: right;\n",
       "    }\n",
       "</style>\n",
       "<table border=\"1\" class=\"dataframe\">\n",
       "  <thead>\n",
       "    <tr>\n",
       "      <th>년도</th>\n",
       "      <th colspan=\"2\" halign=\"left\">2016</th>\n",
       "      <th colspan=\"2\" halign=\"left\">2017</th>\n",
       "    </tr>\n",
       "    <tr>\n",
       "      <th>과목</th>\n",
       "      <th>영어</th>\n",
       "      <th>수학</th>\n",
       "      <th>영어</th>\n",
       "      <th>수학</th>\n",
       "    </tr>\n",
       "    <tr>\n",
       "      <th>학생명</th>\n",
       "      <th></th>\n",
       "      <th></th>\n",
       "      <th></th>\n",
       "      <th></th>\n",
       "    </tr>\n",
       "  </thead>\n",
       "  <tbody>\n",
       "    <tr>\n",
       "      <th>Kim</th>\n",
       "      <td>52</td>\n",
       "      <td>96</td>\n",
       "      <td>80</td>\n",
       "      <td>58</td>\n",
       "    </tr>\n",
       "    <tr>\n",
       "      <th>Park</th>\n",
       "      <td>99</td>\n",
       "      <td>52</td>\n",
       "      <td>73</td>\n",
       "      <td>82</td>\n",
       "    </tr>\n",
       "    <tr>\n",
       "      <th>Lee</th>\n",
       "      <td>90</td>\n",
       "      <td>92</td>\n",
       "      <td>95</td>\n",
       "      <td>83</td>\n",
       "    </tr>\n",
       "    <tr>\n",
       "      <th>Jung</th>\n",
       "      <td>82</td>\n",
       "      <td>95</td>\n",
       "      <td>78</td>\n",
       "      <td>53</td>\n",
       "    </tr>\n",
       "    <tr>\n",
       "      <th>Moon</th>\n",
       "      <td>65</td>\n",
       "      <td>84</td>\n",
       "      <td>81</td>\n",
       "      <td>67</td>\n",
       "    </tr>\n",
       "  </tbody>\n",
       "</table>\n",
       "</div>"
      ],
      "text/plain": [
       "년도   2016     2017    \n",
       "과목     영어  수학   영어  수학\n",
       "학생명                   \n",
       "Kim    52  96   80  58\n",
       "Park   99  52   73  82\n",
       "Lee    90  92   95  83\n",
       "Jung   82  95   78  53\n",
       "Moon   65  84   81  67"
      ]
     },
     "execution_count": 46,
     "metadata": {},
     "output_type": "execute_result"
    }
   ],
   "source": [
    "score_df1.columns.rename(['년도', '과목'], inplace=True)\n",
    "score_df1.index.rename('학생명', inplace=True)\n",
    "\n",
    "score_df1"
   ]
  },
  {
   "cell_type": "markdown",
   "id": "ca0bae79",
   "metadata": {},
   "source": [
    "<br>\n",
    "\n",
    "1.2. `pd.MultiIndex.from_tuples(list of tuple, names=[list of 'index name'])`"
   ]
  },
  {
   "cell_type": "code",
   "execution_count": 47,
   "id": "535bcd31",
   "metadata": {},
   "outputs": [
    {
     "data": {
      "text/html": [
       "<div>\n",
       "<style scoped>\n",
       "    .dataframe tbody tr th:only-of-type {\n",
       "        vertical-align: middle;\n",
       "    }\n",
       "\n",
       "    .dataframe tbody tr th {\n",
       "        vertical-align: top;\n",
       "    }\n",
       "\n",
       "    .dataframe thead tr th {\n",
       "        text-align: left;\n",
       "    }\n",
       "\n",
       "    .dataframe thead tr:last-of-type th {\n",
       "        text-align: right;\n",
       "    }\n",
       "</style>\n",
       "<table border=\"1\" class=\"dataframe\">\n",
       "  <thead>\n",
       "    <tr>\n",
       "      <th>년도</th>\n",
       "      <th colspan=\"2\" halign=\"left\">2016</th>\n",
       "      <th colspan=\"2\" halign=\"left\">2017</th>\n",
       "    </tr>\n",
       "    <tr>\n",
       "      <th>과목</th>\n",
       "      <th>영어</th>\n",
       "      <th>수학</th>\n",
       "      <th>영어</th>\n",
       "      <th>수학</th>\n",
       "    </tr>\n",
       "    <tr>\n",
       "      <th>학생명</th>\n",
       "      <th></th>\n",
       "      <th></th>\n",
       "      <th></th>\n",
       "      <th></th>\n",
       "    </tr>\n",
       "  </thead>\n",
       "  <tbody>\n",
       "    <tr>\n",
       "      <th>Kim</th>\n",
       "      <td>98</td>\n",
       "      <td>67</td>\n",
       "      <td>75</td>\n",
       "      <td>59</td>\n",
       "    </tr>\n",
       "    <tr>\n",
       "      <th>Park</th>\n",
       "      <td>98</td>\n",
       "      <td>62</td>\n",
       "      <td>73</td>\n",
       "      <td>80</td>\n",
       "    </tr>\n",
       "    <tr>\n",
       "      <th>Lee</th>\n",
       "      <td>72</td>\n",
       "      <td>53</td>\n",
       "      <td>61</td>\n",
       "      <td>73</td>\n",
       "    </tr>\n",
       "    <tr>\n",
       "      <th>Jung</th>\n",
       "      <td>56</td>\n",
       "      <td>89</td>\n",
       "      <td>95</td>\n",
       "      <td>92</td>\n",
       "    </tr>\n",
       "    <tr>\n",
       "      <th>Moon</th>\n",
       "      <td>57</td>\n",
       "      <td>59</td>\n",
       "      <td>68</td>\n",
       "      <td>98</td>\n",
       "    </tr>\n",
       "  </tbody>\n",
       "</table>\n",
       "</div>"
      ],
      "text/plain": [
       "년도   2016     2017    \n",
       "과목     영어  수학   영어  수학\n",
       "학생명                   \n",
       "Kim    98  67   75  59\n",
       "Park   98  62   73  80\n",
       "Lee    72  53   61  73\n",
       "Jung   56  89   95  92\n",
       "Moon   57  59   68  98"
      ]
     },
     "execution_count": 47,
     "metadata": {},
     "output_type": "execute_result"
    }
   ],
   "source": [
    "columns_list_tuple = [(2016, '영어'), (2016, '수학'), (2017, '영어'), (2017, '수학')]\n",
    "columns_index = pd.MultiIndex.from_tuples(columns_list_tuple, names=['년도', '과목'])\n",
    "\n",
    "row_index = pd.Index(['Kim', 'Park', 'Lee', 'Jung', 'Moon'], name='학생명')\n",
    "score_df2 = pd.DataFrame(np.random.randint(50, 100, size=(5, 4)),\n",
    "                        columns=columns_index,\n",
    "                        index=row_index)\n",
    "\n",
    "score_df2"
   ]
  },
  {
   "cell_type": "markdown",
   "id": "911a4e2b",
   "metadata": {},
   "source": [
    "<br>\n",
    "\n",
    "1.3. `pd.MultiIndex.from_product([lists of each level label index])`"
   ]
  },
  {
   "cell_type": "code",
   "execution_count": 48,
   "id": "d228082a",
   "metadata": {},
   "outputs": [
    {
     "name": "stdout",
     "output_type": "stream",
     "text": [
      "MultiIndex([(2016, '영어'),\n",
      "            (2016, '수학'),\n",
      "            (2017, '영어'),\n",
      "            (2017, '수학')],\n",
      "           names=['년도', '과목'])\n"
     ]
    },
    {
     "data": {
      "text/html": [
       "<div>\n",
       "<style scoped>\n",
       "    .dataframe tbody tr th:only-of-type {\n",
       "        vertical-align: middle;\n",
       "    }\n",
       "\n",
       "    .dataframe tbody tr th {\n",
       "        vertical-align: top;\n",
       "    }\n",
       "\n",
       "    .dataframe thead tr th {\n",
       "        text-align: left;\n",
       "    }\n",
       "\n",
       "    .dataframe thead tr:last-of-type th {\n",
       "        text-align: right;\n",
       "    }\n",
       "</style>\n",
       "<table border=\"1\" class=\"dataframe\">\n",
       "  <thead>\n",
       "    <tr>\n",
       "      <th>년도</th>\n",
       "      <th colspan=\"2\" halign=\"left\">2016</th>\n",
       "      <th colspan=\"2\" halign=\"left\">2017</th>\n",
       "    </tr>\n",
       "    <tr>\n",
       "      <th>과목</th>\n",
       "      <th>영어</th>\n",
       "      <th>수학</th>\n",
       "      <th>영어</th>\n",
       "      <th>수학</th>\n",
       "    </tr>\n",
       "    <tr>\n",
       "      <th>학생명</th>\n",
       "      <th></th>\n",
       "      <th></th>\n",
       "      <th></th>\n",
       "      <th></th>\n",
       "    </tr>\n",
       "  </thead>\n",
       "  <tbody>\n",
       "    <tr>\n",
       "      <th>Kim</th>\n",
       "      <td>71</td>\n",
       "      <td>80</td>\n",
       "      <td>65</td>\n",
       "      <td>86</td>\n",
       "    </tr>\n",
       "    <tr>\n",
       "      <th>Park</th>\n",
       "      <td>77</td>\n",
       "      <td>93</td>\n",
       "      <td>58</td>\n",
       "      <td>87</td>\n",
       "    </tr>\n",
       "    <tr>\n",
       "      <th>Lee</th>\n",
       "      <td>58</td>\n",
       "      <td>89</td>\n",
       "      <td>82</td>\n",
       "      <td>80</td>\n",
       "    </tr>\n",
       "    <tr>\n",
       "      <th>Jung</th>\n",
       "      <td>54</td>\n",
       "      <td>61</td>\n",
       "      <td>58</td>\n",
       "      <td>86</td>\n",
       "    </tr>\n",
       "    <tr>\n",
       "      <th>Moon</th>\n",
       "      <td>81</td>\n",
       "      <td>90</td>\n",
       "      <td>67</td>\n",
       "      <td>64</td>\n",
       "    </tr>\n",
       "  </tbody>\n",
       "</table>\n",
       "</div>"
      ],
      "text/plain": [
       "년도   2016     2017    \n",
       "과목     영어  수학   영어  수학\n",
       "학생명                   \n",
       "Kim    71  80   65  86\n",
       "Park   77  93   58  87\n",
       "Lee    58  89   82  80\n",
       "Jung   54  61   58  86\n",
       "Moon   81  90   67  64"
      ]
     },
     "execution_count": 48,
     "metadata": {},
     "output_type": "execute_result"
    }
   ],
   "source": [
    "columns_level_list = [[2016, 2017], ['영어', '수학']]\n",
    "columns_index = pd.MultiIndex.from_product(columns_level_list, names=['년도', '과목'])\n",
    "print(columns_index)\n",
    "\n",
    "row_index = pd.Index(['Kim', 'Park', 'Lee', 'Jung', 'Moon'], name='학생명')\n",
    "score_df = pd.DataFrame(np.random.randint(50, 100, size=(5, 4)),\n",
    "                       columns=columns_index,\n",
    "                       index=row_index)\n",
    "\n",
    "score_df"
   ]
  },
  {
   "cell_type": "markdown",
   "id": "ad6b5b03",
   "metadata": {},
   "source": [
    "<br>\n",
    "\n",
    "2. 2016년 data만 별도의 DataFrame으로 분리 저장하시오. (deep copy)"
   ]
  },
  {
   "cell_type": "code",
   "execution_count": 49,
   "id": "f63e249c",
   "metadata": {},
   "outputs": [
    {
     "data": {
      "text/html": [
       "<div>\n",
       "<style scoped>\n",
       "    .dataframe tbody tr th:only-of-type {\n",
       "        vertical-align: middle;\n",
       "    }\n",
       "\n",
       "    .dataframe tbody tr th {\n",
       "        vertical-align: top;\n",
       "    }\n",
       "\n",
       "    .dataframe thead th {\n",
       "        text-align: right;\n",
       "    }\n",
       "</style>\n",
       "<table border=\"1\" class=\"dataframe\">\n",
       "  <thead>\n",
       "    <tr style=\"text-align: right;\">\n",
       "      <th>과목</th>\n",
       "      <th>영어</th>\n",
       "      <th>수학</th>\n",
       "    </tr>\n",
       "    <tr>\n",
       "      <th>학생명</th>\n",
       "      <th></th>\n",
       "      <th></th>\n",
       "    </tr>\n",
       "  </thead>\n",
       "  <tbody>\n",
       "    <tr>\n",
       "      <th>Kim</th>\n",
       "      <td>71</td>\n",
       "      <td>80</td>\n",
       "    </tr>\n",
       "    <tr>\n",
       "      <th>Park</th>\n",
       "      <td>77</td>\n",
       "      <td>93</td>\n",
       "    </tr>\n",
       "    <tr>\n",
       "      <th>Lee</th>\n",
       "      <td>58</td>\n",
       "      <td>89</td>\n",
       "    </tr>\n",
       "    <tr>\n",
       "      <th>Jung</th>\n",
       "      <td>54</td>\n",
       "      <td>61</td>\n",
       "    </tr>\n",
       "    <tr>\n",
       "      <th>Moon</th>\n",
       "      <td>81</td>\n",
       "      <td>90</td>\n",
       "    </tr>\n",
       "  </tbody>\n",
       "</table>\n",
       "</div>"
      ],
      "text/plain": [
       "과목    영어  수학\n",
       "학생명         \n",
       "Kim   71  80\n",
       "Park  77  93\n",
       "Lee   58  89\n",
       "Jung  54  61\n",
       "Moon  81  90"
      ]
     },
     "execution_count": 49,
     "metadata": {},
     "output_type": "execute_result"
    }
   ],
   "source": [
    "df_2016 = score_df[2016].copy()\n",
    "\n",
    "df_2016"
   ]
  },
  {
   "cell_type": "markdown",
   "id": "9054bb8a",
   "metadata": {},
   "source": [
    "<br>\n",
    "\n",
    "3. 2번의 `DataFrame`에 대해 학생명 기준 sort by ascending"
   ]
  },
  {
   "cell_type": "code",
   "execution_count": 50,
   "id": "e853edd4",
   "metadata": {},
   "outputs": [
    {
     "data": {
      "text/html": [
       "<div>\n",
       "<style scoped>\n",
       "    .dataframe tbody tr th:only-of-type {\n",
       "        vertical-align: middle;\n",
       "    }\n",
       "\n",
       "    .dataframe tbody tr th {\n",
       "        vertical-align: top;\n",
       "    }\n",
       "\n",
       "    .dataframe thead th {\n",
       "        text-align: right;\n",
       "    }\n",
       "</style>\n",
       "<table border=\"1\" class=\"dataframe\">\n",
       "  <thead>\n",
       "    <tr style=\"text-align: right;\">\n",
       "      <th>과목</th>\n",
       "      <th>영어</th>\n",
       "      <th>수학</th>\n",
       "    </tr>\n",
       "    <tr>\n",
       "      <th>학생명</th>\n",
       "      <th></th>\n",
       "      <th></th>\n",
       "    </tr>\n",
       "  </thead>\n",
       "  <tbody>\n",
       "    <tr>\n",
       "      <th>Jung</th>\n",
       "      <td>54</td>\n",
       "      <td>61</td>\n",
       "    </tr>\n",
       "    <tr>\n",
       "      <th>Kim</th>\n",
       "      <td>71</td>\n",
       "      <td>80</td>\n",
       "    </tr>\n",
       "    <tr>\n",
       "      <th>Lee</th>\n",
       "      <td>58</td>\n",
       "      <td>89</td>\n",
       "    </tr>\n",
       "    <tr>\n",
       "      <th>Moon</th>\n",
       "      <td>81</td>\n",
       "      <td>90</td>\n",
       "    </tr>\n",
       "    <tr>\n",
       "      <th>Park</th>\n",
       "      <td>77</td>\n",
       "      <td>93</td>\n",
       "    </tr>\n",
       "  </tbody>\n",
       "</table>\n",
       "</div>"
      ],
      "text/plain": [
       "과목    영어  수학\n",
       "학생명         \n",
       "Jung  54  61\n",
       "Kim   71  80\n",
       "Lee   58  89\n",
       "Moon  81  90\n",
       "Park  77  93"
      ]
     },
     "execution_count": 50,
     "metadata": {},
     "output_type": "execute_result"
    }
   ],
   "source": [
    "df_2016.sort_index()"
   ]
  },
  {
   "cell_type": "markdown",
   "id": "86e01b73",
   "metadata": {},
   "source": [
    "<br>\n",
    "\n",
    "4. 2번의 `DataFrame`에 대해 영어 점수 내림차순, 동점자의 경우 수학 점수 오름차순 정렬."
   ]
  },
  {
   "cell_type": "code",
   "execution_count": 51,
   "id": "8cde1734",
   "metadata": {
    "scrolled": true
   },
   "outputs": [
    {
     "data": {
      "text/html": [
       "<div>\n",
       "<style scoped>\n",
       "    .dataframe tbody tr th:only-of-type {\n",
       "        vertical-align: middle;\n",
       "    }\n",
       "\n",
       "    .dataframe tbody tr th {\n",
       "        vertical-align: top;\n",
       "    }\n",
       "\n",
       "    .dataframe thead th {\n",
       "        text-align: right;\n",
       "    }\n",
       "</style>\n",
       "<table border=\"1\" class=\"dataframe\">\n",
       "  <thead>\n",
       "    <tr style=\"text-align: right;\">\n",
       "      <th>과목</th>\n",
       "      <th>영어</th>\n",
       "      <th>수학</th>\n",
       "    </tr>\n",
       "    <tr>\n",
       "      <th>학생명</th>\n",
       "      <th></th>\n",
       "      <th></th>\n",
       "    </tr>\n",
       "  </thead>\n",
       "  <tbody>\n",
       "    <tr>\n",
       "      <th>Moon</th>\n",
       "      <td>81</td>\n",
       "      <td>90</td>\n",
       "    </tr>\n",
       "    <tr>\n",
       "      <th>Park</th>\n",
       "      <td>77</td>\n",
       "      <td>93</td>\n",
       "    </tr>\n",
       "    <tr>\n",
       "      <th>Kim</th>\n",
       "      <td>71</td>\n",
       "      <td>80</td>\n",
       "    </tr>\n",
       "    <tr>\n",
       "      <th>Lee</th>\n",
       "      <td>58</td>\n",
       "      <td>89</td>\n",
       "    </tr>\n",
       "    <tr>\n",
       "      <th>Jung</th>\n",
       "      <td>54</td>\n",
       "      <td>61</td>\n",
       "    </tr>\n",
       "  </tbody>\n",
       "</table>\n",
       "</div>"
      ],
      "text/plain": [
       "과목    영어  수학\n",
       "학생명         \n",
       "Moon  81  90\n",
       "Park  77  93\n",
       "Kim   71  80\n",
       "Lee   58  89\n",
       "Jung  54  61"
      ]
     },
     "execution_count": 51,
     "metadata": {},
     "output_type": "execute_result"
    }
   ],
   "source": [
    "df_2016.sort_values(by=['영어', '수학'], ascending=[False, True])"
   ]
  },
  {
   "cell_type": "markdown",
   "id": "7d28b3fa",
   "metadata": {},
   "source": [
    "## 3. Data merge 데이터 합병\n",
    "\n",
    "- `pandas.merge(left_df, right_df)`\n",
    "\n",
    "- 두 개의 `DataFrame`에 대해 특정 `columns`를 기준으로 합치기\n",
    "\n",
    "    - parameter\n",
    "\n",
    "        - default: `how='inner'`: 합치는 방식, `'inner', 'left', 'right', 'outer'`\n",
    "            \n",
    "        - default: `on=None`: 합치는 기준, 공통으로 존재하는 `column label`"
   ]
  },
  {
   "cell_type": "markdown",
   "id": "770d5f43",
   "metadata": {},
   "source": [
    "<br>\n",
    "\n",
    "- DataFrame `df_name` = 고객번호 `no` + 고객명 `name`\n",
    "    \n",
    "    - `pd.DataFrame(dict)`: `key` > column label, `value` > unpacking list and set values "
   ]
  },
  {
   "cell_type": "code",
   "execution_count": 52,
   "id": "da0a3df6",
   "metadata": {},
   "outputs": [
    {
     "data": {
      "text/html": [
       "<div>\n",
       "<style scoped>\n",
       "    .dataframe tbody tr th:only-of-type {\n",
       "        vertical-align: middle;\n",
       "    }\n",
       "\n",
       "    .dataframe tbody tr th {\n",
       "        vertical-align: top;\n",
       "    }\n",
       "\n",
       "    .dataframe thead th {\n",
       "        text-align: right;\n",
       "    }\n",
       "</style>\n",
       "<table border=\"1\" class=\"dataframe\">\n",
       "  <thead>\n",
       "    <tr style=\"text-align: right;\">\n",
       "      <th></th>\n",
       "      <th>no</th>\n",
       "      <th>name</th>\n",
       "    </tr>\n",
       "  </thead>\n",
       "  <tbody>\n",
       "    <tr>\n",
       "      <th>0</th>\n",
       "      <td>30</td>\n",
       "      <td>김파썬</td>\n",
       "    </tr>\n",
       "    <tr>\n",
       "      <th>1</th>\n",
       "      <td>31</td>\n",
       "      <td>이장고</td>\n",
       "    </tr>\n",
       "    <tr>\n",
       "      <th>2</th>\n",
       "      <td>32</td>\n",
       "      <td>박판다</td>\n",
       "    </tr>\n",
       "    <tr>\n",
       "      <th>3</th>\n",
       "      <td>33</td>\n",
       "      <td>최넘파</td>\n",
       "    </tr>\n",
       "    <tr>\n",
       "      <th>4</th>\n",
       "      <td>34</td>\n",
       "      <td>강주피</td>\n",
       "    </tr>\n",
       "  </tbody>\n",
       "</table>\n",
       "</div>"
      ],
      "text/plain": [
       "   no name\n",
       "0  30  김파썬\n",
       "1  31  이장고\n",
       "2  32  박판다\n",
       "3  33  최넘파\n",
       "4  34  강주피"
      ]
     },
     "execution_count": 52,
     "metadata": {},
     "output_type": "execute_result"
    }
   ],
   "source": [
    "df_name = pd.DataFrame({'no':[30, 31, 32, 33, 34],\n",
    "                        'name':[\"김파썬\", \"이장고\", \"박판다\", \"최넘파\", \"강주피\"]})\n",
    "\n",
    "df_name"
   ]
  },
  {
   "cell_type": "markdown",
   "id": "bfbd0784",
   "metadata": {},
   "source": [
    "<br>\n",
    "\n",
    "- DataFrame `df_amt` = 고객번호 `no` + 주문수량 `amount`\n",
    "    \n",
    "    - 다른 고객번호 일부 지정"
   ]
  },
  {
   "cell_type": "code",
   "execution_count": 53,
   "id": "a193ccaa",
   "metadata": {
    "scrolled": true
   },
   "outputs": [
    {
     "data": {
      "text/html": [
       "<div>\n",
       "<style scoped>\n",
       "    .dataframe tbody tr th:only-of-type {\n",
       "        vertical-align: middle;\n",
       "    }\n",
       "\n",
       "    .dataframe tbody tr th {\n",
       "        vertical-align: top;\n",
       "    }\n",
       "\n",
       "    .dataframe thead th {\n",
       "        text-align: right;\n",
       "    }\n",
       "</style>\n",
       "<table border=\"1\" class=\"dataframe\">\n",
       "  <thead>\n",
       "    <tr style=\"text-align: right;\">\n",
       "      <th></th>\n",
       "      <th>no</th>\n",
       "      <th>amount</th>\n",
       "    </tr>\n",
       "  </thead>\n",
       "  <tbody>\n",
       "    <tr>\n",
       "      <th>0</th>\n",
       "      <td>30</td>\n",
       "      <td>100</td>\n",
       "    </tr>\n",
       "    <tr>\n",
       "      <th>1</th>\n",
       "      <td>32</td>\n",
       "      <td>40</td>\n",
       "    </tr>\n",
       "    <tr>\n",
       "      <th>2</th>\n",
       "      <td>33</td>\n",
       "      <td>130</td>\n",
       "    </tr>\n",
       "    <tr>\n",
       "      <th>3</th>\n",
       "      <td>40</td>\n",
       "      <td>40</td>\n",
       "    </tr>\n",
       "    <tr>\n",
       "      <th>4</th>\n",
       "      <td>41</td>\n",
       "      <td>60</td>\n",
       "    </tr>\n",
       "  </tbody>\n",
       "</table>\n",
       "</div>"
      ],
      "text/plain": [
       "   no  amount\n",
       "0  30     100\n",
       "1  32      40\n",
       "2  33     130\n",
       "3  40      40\n",
       "4  41      60"
      ]
     },
     "execution_count": 53,
     "metadata": {},
     "output_type": "execute_result"
    }
   ],
   "source": [
    "df_amt = pd.DataFrame({'no':[30, 32, 33, 40, 41],\n",
    "                       'amount':[100, 40, 130, 40, 60]})\n",
    "\n",
    "df_amt"
   ]
  },
  {
   "cell_type": "markdown",
   "id": "e7fb3fa7",
   "metadata": {},
   "source": [
    "<br>\n",
    "\n",
    "### 3.1. parameter `how='inner'`"
   ]
  },
  {
   "cell_type": "markdown",
   "id": "c4224a48",
   "metadata": {},
   "source": [
    "<br>\n",
    "\n",
    "- default: `how='inner'`: common columns만 merge"
   ]
  },
  {
   "cell_type": "code",
   "execution_count": 54,
   "id": "67b98adc",
   "metadata": {
    "scrolled": true
   },
   "outputs": [
    {
     "data": {
      "text/html": [
       "<div>\n",
       "<style scoped>\n",
       "    .dataframe tbody tr th:only-of-type {\n",
       "        vertical-align: middle;\n",
       "    }\n",
       "\n",
       "    .dataframe tbody tr th {\n",
       "        vertical-align: top;\n",
       "    }\n",
       "\n",
       "    .dataframe thead th {\n",
       "        text-align: right;\n",
       "    }\n",
       "</style>\n",
       "<table border=\"1\" class=\"dataframe\">\n",
       "  <thead>\n",
       "    <tr style=\"text-align: right;\">\n",
       "      <th></th>\n",
       "      <th>no</th>\n",
       "      <th>name</th>\n",
       "      <th>amount</th>\n",
       "    </tr>\n",
       "  </thead>\n",
       "  <tbody>\n",
       "    <tr>\n",
       "      <th>0</th>\n",
       "      <td>30</td>\n",
       "      <td>김파썬</td>\n",
       "      <td>100</td>\n",
       "    </tr>\n",
       "    <tr>\n",
       "      <th>1</th>\n",
       "      <td>32</td>\n",
       "      <td>박판다</td>\n",
       "      <td>40</td>\n",
       "    </tr>\n",
       "    <tr>\n",
       "      <th>2</th>\n",
       "      <td>33</td>\n",
       "      <td>최넘파</td>\n",
       "      <td>130</td>\n",
       "    </tr>\n",
       "  </tbody>\n",
       "</table>\n",
       "</div>"
      ],
      "text/plain": [
       "   no name  amount\n",
       "0  30  김파썬     100\n",
       "1  32  박판다      40\n",
       "2  33  최넘파     130"
      ]
     },
     "execution_count": 54,
     "metadata": {},
     "output_type": "execute_result"
    }
   ],
   "source": [
    "pd.merge(df_name, df_amt)"
   ]
  },
  {
   "cell_type": "markdown",
   "id": "57f7ad5b",
   "metadata": {},
   "source": [
    "<br>\n",
    "\n",
    "- `how='outer'`: common columns 기준\n",
    "    \n",
    "- 교집합이 아닌 부분: `NaN`으로 처리 (누락 X)\n",
    "    \n",
    "    - 합집합 형태로 만듦"
   ]
  },
  {
   "cell_type": "code",
   "execution_count": 55,
   "id": "ed7bc629",
   "metadata": {},
   "outputs": [
    {
     "data": {
      "text/html": [
       "<div>\n",
       "<style scoped>\n",
       "    .dataframe tbody tr th:only-of-type {\n",
       "        vertical-align: middle;\n",
       "    }\n",
       "\n",
       "    .dataframe tbody tr th {\n",
       "        vertical-align: top;\n",
       "    }\n",
       "\n",
       "    .dataframe thead th {\n",
       "        text-align: right;\n",
       "    }\n",
       "</style>\n",
       "<table border=\"1\" class=\"dataframe\">\n",
       "  <thead>\n",
       "    <tr style=\"text-align: right;\">\n",
       "      <th></th>\n",
       "      <th>no</th>\n",
       "      <th>name</th>\n",
       "      <th>amount</th>\n",
       "    </tr>\n",
       "  </thead>\n",
       "  <tbody>\n",
       "    <tr>\n",
       "      <th>0</th>\n",
       "      <td>30</td>\n",
       "      <td>김파썬</td>\n",
       "      <td>100.0</td>\n",
       "    </tr>\n",
       "    <tr>\n",
       "      <th>1</th>\n",
       "      <td>31</td>\n",
       "      <td>이장고</td>\n",
       "      <td>NaN</td>\n",
       "    </tr>\n",
       "    <tr>\n",
       "      <th>2</th>\n",
       "      <td>32</td>\n",
       "      <td>박판다</td>\n",
       "      <td>40.0</td>\n",
       "    </tr>\n",
       "    <tr>\n",
       "      <th>3</th>\n",
       "      <td>33</td>\n",
       "      <td>최넘파</td>\n",
       "      <td>130.0</td>\n",
       "    </tr>\n",
       "    <tr>\n",
       "      <th>4</th>\n",
       "      <td>34</td>\n",
       "      <td>강주피</td>\n",
       "      <td>NaN</td>\n",
       "    </tr>\n",
       "    <tr>\n",
       "      <th>5</th>\n",
       "      <td>40</td>\n",
       "      <td>NaN</td>\n",
       "      <td>40.0</td>\n",
       "    </tr>\n",
       "    <tr>\n",
       "      <th>6</th>\n",
       "      <td>41</td>\n",
       "      <td>NaN</td>\n",
       "      <td>60.0</td>\n",
       "    </tr>\n",
       "  </tbody>\n",
       "</table>\n",
       "</div>"
      ],
      "text/plain": [
       "   no name  amount\n",
       "0  30  김파썬   100.0\n",
       "1  31  이장고     NaN\n",
       "2  32  박판다    40.0\n",
       "3  33  최넘파   130.0\n",
       "4  34  강주피     NaN\n",
       "5  40  NaN    40.0\n",
       "6  41  NaN    60.0"
      ]
     },
     "execution_count": 55,
     "metadata": {},
     "output_type": "execute_result"
    }
   ],
   "source": [
    "pd.merge(df_name, df_amt, how='outer')"
   ]
  },
  {
   "cell_type": "markdown",
   "id": "1714fd16",
   "metadata": {},
   "source": [
    "<br>\n",
    "\n",
    "- `how='left'`: first parameter `left_df`의 data와 교집합 data 결합"
   ]
  },
  {
   "cell_type": "code",
   "execution_count": 56,
   "id": "6d88e040",
   "metadata": {},
   "outputs": [
    {
     "data": {
      "text/html": [
       "<div>\n",
       "<style scoped>\n",
       "    .dataframe tbody tr th:only-of-type {\n",
       "        vertical-align: middle;\n",
       "    }\n",
       "\n",
       "    .dataframe tbody tr th {\n",
       "        vertical-align: top;\n",
       "    }\n",
       "\n",
       "    .dataframe thead th {\n",
       "        text-align: right;\n",
       "    }\n",
       "</style>\n",
       "<table border=\"1\" class=\"dataframe\">\n",
       "  <thead>\n",
       "    <tr style=\"text-align: right;\">\n",
       "      <th></th>\n",
       "      <th>no</th>\n",
       "      <th>name</th>\n",
       "      <th>amount</th>\n",
       "    </tr>\n",
       "  </thead>\n",
       "  <tbody>\n",
       "    <tr>\n",
       "      <th>0</th>\n",
       "      <td>30</td>\n",
       "      <td>김파썬</td>\n",
       "      <td>100.0</td>\n",
       "    </tr>\n",
       "    <tr>\n",
       "      <th>1</th>\n",
       "      <td>31</td>\n",
       "      <td>이장고</td>\n",
       "      <td>NaN</td>\n",
       "    </tr>\n",
       "    <tr>\n",
       "      <th>2</th>\n",
       "      <td>32</td>\n",
       "      <td>박판다</td>\n",
       "      <td>40.0</td>\n",
       "    </tr>\n",
       "    <tr>\n",
       "      <th>3</th>\n",
       "      <td>33</td>\n",
       "      <td>최넘파</td>\n",
       "      <td>130.0</td>\n",
       "    </tr>\n",
       "    <tr>\n",
       "      <th>4</th>\n",
       "      <td>34</td>\n",
       "      <td>강주피</td>\n",
       "      <td>NaN</td>\n",
       "    </tr>\n",
       "  </tbody>\n",
       "</table>\n",
       "</div>"
      ],
      "text/plain": [
       "   no name  amount\n",
       "0  30  김파썬   100.0\n",
       "1  31  이장고     NaN\n",
       "2  32  박판다    40.0\n",
       "3  33  최넘파   130.0\n",
       "4  34  강주피     NaN"
      ]
     },
     "execution_count": 56,
     "metadata": {},
     "output_type": "execute_result"
    }
   ],
   "source": [
    "pd.merge(df_name, df_amt, how='left')"
   ]
  },
  {
   "cell_type": "markdown",
   "id": "95966373",
   "metadata": {},
   "source": [
    "<br>\n",
    "\n",
    "- `how='right'`: second parameter `right_df`의 data와 교집합 data 결합"
   ]
  },
  {
   "cell_type": "code",
   "execution_count": 57,
   "id": "c0f80983",
   "metadata": {
    "scrolled": true
   },
   "outputs": [
    {
     "data": {
      "text/html": [
       "<div>\n",
       "<style scoped>\n",
       "    .dataframe tbody tr th:only-of-type {\n",
       "        vertical-align: middle;\n",
       "    }\n",
       "\n",
       "    .dataframe tbody tr th {\n",
       "        vertical-align: top;\n",
       "    }\n",
       "\n",
       "    .dataframe thead th {\n",
       "        text-align: right;\n",
       "    }\n",
       "</style>\n",
       "<table border=\"1\" class=\"dataframe\">\n",
       "  <thead>\n",
       "    <tr style=\"text-align: right;\">\n",
       "      <th></th>\n",
       "      <th>no</th>\n",
       "      <th>name</th>\n",
       "      <th>amount</th>\n",
       "    </tr>\n",
       "  </thead>\n",
       "  <tbody>\n",
       "    <tr>\n",
       "      <th>0</th>\n",
       "      <td>30</td>\n",
       "      <td>김파썬</td>\n",
       "      <td>100</td>\n",
       "    </tr>\n",
       "    <tr>\n",
       "      <th>1</th>\n",
       "      <td>32</td>\n",
       "      <td>박판다</td>\n",
       "      <td>40</td>\n",
       "    </tr>\n",
       "    <tr>\n",
       "      <th>2</th>\n",
       "      <td>33</td>\n",
       "      <td>최넘파</td>\n",
       "      <td>130</td>\n",
       "    </tr>\n",
       "    <tr>\n",
       "      <th>3</th>\n",
       "      <td>40</td>\n",
       "      <td>NaN</td>\n",
       "      <td>40</td>\n",
       "    </tr>\n",
       "    <tr>\n",
       "      <th>4</th>\n",
       "      <td>41</td>\n",
       "      <td>NaN</td>\n",
       "      <td>60</td>\n",
       "    </tr>\n",
       "  </tbody>\n",
       "</table>\n",
       "</div>"
      ],
      "text/plain": [
       "   no name  amount\n",
       "0  30  김파썬     100\n",
       "1  32  박판다      40\n",
       "2  33  최넘파     130\n",
       "3  40  NaN      40\n",
       "4  41  NaN      60"
      ]
     },
     "execution_count": 57,
     "metadata": {},
     "output_type": "execute_result"
    }
   ],
   "source": [
    "pd.merge(df_name, df_amt, how='right')"
   ]
  },
  {
   "cell_type": "markdown",
   "id": "891f94d8",
   "metadata": {},
   "source": [
    "- 공통 컬럼이 두 개 이상인 경우"
   ]
  },
  {
   "cell_type": "code",
   "execution_count": 58,
   "id": "9ecbab47",
   "metadata": {},
   "outputs": [
    {
     "data": {
      "text/html": [
       "<div>\n",
       "<style scoped>\n",
       "    .dataframe tbody tr th:only-of-type {\n",
       "        vertical-align: middle;\n",
       "    }\n",
       "\n",
       "    .dataframe tbody tr th {\n",
       "        vertical-align: top;\n",
       "    }\n",
       "\n",
       "    .dataframe thead th {\n",
       "        text-align: right;\n",
       "    }\n",
       "</style>\n",
       "<table border=\"1\" class=\"dataframe\">\n",
       "  <thead>\n",
       "    <tr style=\"text-align: right;\">\n",
       "      <th></th>\n",
       "      <th>고객명</th>\n",
       "      <th>날짜</th>\n",
       "      <th>정보</th>\n",
       "    </tr>\n",
       "  </thead>\n",
       "  <tbody>\n",
       "    <tr>\n",
       "      <th>0</th>\n",
       "      <td>김파이썬</td>\n",
       "      <td>2022-10-22</td>\n",
       "      <td>010</td>\n",
       "    </tr>\n",
       "    <tr>\n",
       "      <th>1</th>\n",
       "      <td>이장고</td>\n",
       "      <td>2022-10-23</td>\n",
       "      <td>011</td>\n",
       "    </tr>\n",
       "    <tr>\n",
       "      <th>2</th>\n",
       "      <td>박팬더스</td>\n",
       "      <td>2022-10-24</td>\n",
       "      <td>019</td>\n",
       "    </tr>\n",
       "  </tbody>\n",
       "</table>\n",
       "</div>"
      ],
      "text/plain": [
       "    고객명          날짜   정보\n",
       "0  김파이썬  2022-10-22  010\n",
       "1   이장고  2022-10-23  011\n",
       "2  박팬더스  2022-10-24  019"
      ]
     },
     "execution_count": 58,
     "metadata": {},
     "output_type": "execute_result"
    }
   ],
   "source": [
    "df_date_phone = pd.DataFrame({'고객명':['김파이썬', '이장고', '박팬더스'],\n",
    "                   '날짜':['2022-10-22', '2022-10-23', '2022-10-24'],\n",
    "                   '정보':['010', '011', '019']})\n",
    "df_date_phone"
   ]
  },
  {
   "cell_type": "code",
   "execution_count": 59,
   "id": "a54b3270",
   "metadata": {},
   "outputs": [
    {
     "data": {
      "text/html": [
       "<div>\n",
       "<style scoped>\n",
       "    .dataframe tbody tr th:only-of-type {\n",
       "        vertical-align: middle;\n",
       "    }\n",
       "\n",
       "    .dataframe tbody tr th {\n",
       "        vertical-align: top;\n",
       "    }\n",
       "\n",
       "    .dataframe thead th {\n",
       "        text-align: right;\n",
       "    }\n",
       "</style>\n",
       "<table border=\"1\" class=\"dataframe\">\n",
       "  <thead>\n",
       "    <tr style=\"text-align: right;\">\n",
       "      <th></th>\n",
       "      <th>고객명</th>\n",
       "      <th>정보</th>\n",
       "    </tr>\n",
       "  </thead>\n",
       "  <tbody>\n",
       "    <tr>\n",
       "      <th>0</th>\n",
       "      <td>김파이썬</td>\n",
       "      <td>F</td>\n",
       "    </tr>\n",
       "    <tr>\n",
       "      <th>1</th>\n",
       "      <td>박팬더스</td>\n",
       "      <td>M</td>\n",
       "    </tr>\n",
       "    <tr>\n",
       "      <th>2</th>\n",
       "      <td>최넘파이</td>\n",
       "      <td>M</td>\n",
       "    </tr>\n",
       "  </tbody>\n",
       "</table>\n",
       "</div>"
      ],
      "text/plain": [
       "    고객명 정보\n",
       "0  김파이썬  F\n",
       "1  박팬더스  M\n",
       "2  최넘파이  M"
      ]
     },
     "execution_count": 59,
     "metadata": {},
     "output_type": "execute_result"
    }
   ],
   "source": [
    "df_sex = pd.DataFrame({'고객명':['김파이썬', '박팬더스', '최넘파이'],\n",
    "                   '정보':['F', 'M', 'M']})\n",
    "df_sex"
   ]
  },
  {
   "cell_type": "markdown",
   "id": "5bcc4ea5",
   "metadata": {},
   "source": [
    "<br>\n",
    "\n",
    "- 공통 `columns index` 2개 이상: parameter가 없으면 > 결과도 없다"
   ]
  },
  {
   "cell_type": "code",
   "execution_count": 60,
   "id": "cf63dc1b",
   "metadata": {},
   "outputs": [
    {
     "data": {
      "text/html": [
       "<div>\n",
       "<style scoped>\n",
       "    .dataframe tbody tr th:only-of-type {\n",
       "        vertical-align: middle;\n",
       "    }\n",
       "\n",
       "    .dataframe tbody tr th {\n",
       "        vertical-align: top;\n",
       "    }\n",
       "\n",
       "    .dataframe thead th {\n",
       "        text-align: right;\n",
       "    }\n",
       "</style>\n",
       "<table border=\"1\" class=\"dataframe\">\n",
       "  <thead>\n",
       "    <tr style=\"text-align: right;\">\n",
       "      <th></th>\n",
       "      <th>고객명</th>\n",
       "      <th>날짜</th>\n",
       "      <th>정보</th>\n",
       "    </tr>\n",
       "  </thead>\n",
       "  <tbody>\n",
       "  </tbody>\n",
       "</table>\n",
       "</div>"
      ],
      "text/plain": [
       "Empty DataFrame\n",
       "Columns: [고객명, 날짜, 정보]\n",
       "Index: []"
      ]
     },
     "execution_count": 60,
     "metadata": {},
     "output_type": "execute_result"
    }
   ],
   "source": [
    "pd.merge(df_date_phone, df_sex)"
   ]
  },
  {
   "cell_type": "markdown",
   "id": "de5282a7",
   "metadata": {},
   "source": [
    "<br>\n",
    "\n",
    "### 3.2. `on`, `left_on`, `right_on`\n",
    "\n",
    "- `on` parameter: 공통된 `columns index`가 여럿인 경우, 결합 `기준 column`을 지정"
   ]
  },
  {
   "cell_type": "markdown",
   "id": "93adb364",
   "metadata": {},
   "source": [
    "- `pd.merge()` 기준 column: `on='고객명'`\n",
    "    \n",
    "- common column: `정보`\n",
    "    \n",
    "- default: `how='inner'`"
   ]
  },
  {
   "cell_type": "code",
   "execution_count": 61,
   "id": "478d2e11",
   "metadata": {},
   "outputs": [
    {
     "data": {
      "text/html": [
       "<div>\n",
       "<style scoped>\n",
       "    .dataframe tbody tr th:only-of-type {\n",
       "        vertical-align: middle;\n",
       "    }\n",
       "\n",
       "    .dataframe tbody tr th {\n",
       "        vertical-align: top;\n",
       "    }\n",
       "\n",
       "    .dataframe thead th {\n",
       "        text-align: right;\n",
       "    }\n",
       "</style>\n",
       "<table border=\"1\" class=\"dataframe\">\n",
       "  <thead>\n",
       "    <tr style=\"text-align: right;\">\n",
       "      <th></th>\n",
       "      <th>고객명</th>\n",
       "      <th>날짜</th>\n",
       "      <th>정보_x</th>\n",
       "      <th>정보_y</th>\n",
       "    </tr>\n",
       "  </thead>\n",
       "  <tbody>\n",
       "    <tr>\n",
       "      <th>0</th>\n",
       "      <td>김파이썬</td>\n",
       "      <td>2022-10-22</td>\n",
       "      <td>010</td>\n",
       "      <td>F</td>\n",
       "    </tr>\n",
       "    <tr>\n",
       "      <th>1</th>\n",
       "      <td>박팬더스</td>\n",
       "      <td>2022-10-24</td>\n",
       "      <td>019</td>\n",
       "      <td>M</td>\n",
       "    </tr>\n",
       "  </tbody>\n",
       "</table>\n",
       "</div>"
      ],
      "text/plain": [
       "    고객명          날짜 정보_x 정보_y\n",
       "0  김파이썬  2022-10-22  010    F\n",
       "1  박팬더스  2022-10-24  019    M"
      ]
     },
     "execution_count": 61,
     "metadata": {},
     "output_type": "execute_result"
    }
   ],
   "source": [
    "pd.merge(df_date_phone, df_sex, on='고객명')"
   ]
  },
  {
   "cell_type": "markdown",
   "id": "efb11597",
   "metadata": {},
   "source": [
    "<br>\n",
    "\n",
    "- `left_on`, `right_on` : 두 개의 DataFrame에 대해서 서로 다른 기준 `columns index`을 지정\n",
    "- e.g. 동일한 속성의 자료를 저장하는 컬럼인데 표기하는 이름이 다른 경우"
   ]
  },
  {
   "cell_type": "code",
   "execution_count": 62,
   "id": "f562c865",
   "metadata": {},
   "outputs": [
    {
     "data": {
      "text/html": [
       "<div>\n",
       "<style scoped>\n",
       "    .dataframe tbody tr th:only-of-type {\n",
       "        vertical-align: middle;\n",
       "    }\n",
       "\n",
       "    .dataframe tbody tr th {\n",
       "        vertical-align: top;\n",
       "    }\n",
       "\n",
       "    .dataframe thead th {\n",
       "        text-align: right;\n",
       "    }\n",
       "</style>\n",
       "<table border=\"1\" class=\"dataframe\">\n",
       "  <thead>\n",
       "    <tr style=\"text-align: right;\">\n",
       "      <th></th>\n",
       "      <th>고객이름</th>\n",
       "      <th>날짜</th>\n",
       "      <th>구매금액</th>\n",
       "    </tr>\n",
       "  </thead>\n",
       "  <tbody>\n",
       "    <tr>\n",
       "      <th>0</th>\n",
       "      <td>김파이썬</td>\n",
       "      <td>2020-01-01</td>\n",
       "      <td>1</td>\n",
       "    </tr>\n",
       "    <tr>\n",
       "      <th>1</th>\n",
       "      <td>박팬더스</td>\n",
       "      <td>2020-02-01</td>\n",
       "      <td>2</td>\n",
       "    </tr>\n",
       "    <tr>\n",
       "      <th>2</th>\n",
       "      <td>강주피터</td>\n",
       "      <td>2020-02-15</td>\n",
       "      <td>3</td>\n",
       "    </tr>\n",
       "  </tbody>\n",
       "</table>\n",
       "</div>"
      ],
      "text/plain": [
       "   고객이름          날짜  구매금액\n",
       "0  김파이썬  2020-01-01     1\n",
       "1  박팬더스  2020-02-01     2\n",
       "2  강주피터  2020-02-15     3"
      ]
     },
     "execution_count": 62,
     "metadata": {},
     "output_type": "execute_result"
    }
   ],
   "source": [
    "df_date_price = pd.DataFrame({'고객이름':['김파이썬', '박팬더스', '강주피터'],\n",
    "                   '날짜':['2020-01-01', '2020-02-01', '2020-02-15'],\n",
    "                   '구매금액':[1, 2, 3]})\n",
    "df_date_price"
   ]
  },
  {
   "cell_type": "code",
   "execution_count": 63,
   "id": "1904df5b",
   "metadata": {},
   "outputs": [
    {
     "data": {
      "text/html": [
       "<div>\n",
       "<style scoped>\n",
       "    .dataframe tbody tr th:only-of-type {\n",
       "        vertical-align: middle;\n",
       "    }\n",
       "\n",
       "    .dataframe tbody tr th {\n",
       "        vertical-align: top;\n",
       "    }\n",
       "\n",
       "    .dataframe thead th {\n",
       "        text-align: right;\n",
       "    }\n",
       "</style>\n",
       "<table border=\"1\" class=\"dataframe\">\n",
       "  <thead>\n",
       "    <tr style=\"text-align: right;\">\n",
       "      <th></th>\n",
       "      <th>고객명</th>\n",
       "      <th>성별</th>\n",
       "    </tr>\n",
       "  </thead>\n",
       "  <tbody>\n",
       "    <tr>\n",
       "      <th>0</th>\n",
       "      <td>김파이썬</td>\n",
       "      <td>F</td>\n",
       "    </tr>\n",
       "    <tr>\n",
       "      <th>1</th>\n",
       "      <td>박팬더스</td>\n",
       "      <td>M</td>\n",
       "    </tr>\n",
       "  </tbody>\n",
       "</table>\n",
       "</div>"
      ],
      "text/plain": [
       "    고객명 성별\n",
       "0  김파이썬  F\n",
       "1  박팬더스  M"
      ]
     },
     "execution_count": 63,
     "metadata": {},
     "output_type": "execute_result"
    }
   ],
   "source": [
    "df_sex = pd.DataFrame({'고객명':['김파이썬', '박팬더스'],\n",
    "                   '성별':['F', 'M']})\n",
    "df_sex"
   ]
  },
  {
   "cell_type": "markdown",
   "id": "b2cf1fc4",
   "metadata": {},
   "source": [
    "<br>\n",
    "\n",
    "- `pd.merge(df_date_price, df_sex)` > `common columns` 없음: Error\n",
    "\n",
    "<br>\n",
    "\n",
    "- left_df(`df_date_price`), right_df(`df_sex`)에서 `common columns` 각각 지정"
   ]
  },
  {
   "cell_type": "code",
   "execution_count": 64,
   "id": "887911ac",
   "metadata": {},
   "outputs": [
    {
     "data": {
      "text/html": [
       "<div>\n",
       "<style scoped>\n",
       "    .dataframe tbody tr th:only-of-type {\n",
       "        vertical-align: middle;\n",
       "    }\n",
       "\n",
       "    .dataframe tbody tr th {\n",
       "        vertical-align: top;\n",
       "    }\n",
       "\n",
       "    .dataframe thead th {\n",
       "        text-align: right;\n",
       "    }\n",
       "</style>\n",
       "<table border=\"1\" class=\"dataframe\">\n",
       "  <thead>\n",
       "    <tr style=\"text-align: right;\">\n",
       "      <th></th>\n",
       "      <th>고객이름</th>\n",
       "      <th>날짜</th>\n",
       "      <th>구매금액</th>\n",
       "      <th>고객명</th>\n",
       "      <th>성별</th>\n",
       "    </tr>\n",
       "  </thead>\n",
       "  <tbody>\n",
       "    <tr>\n",
       "      <th>0</th>\n",
       "      <td>김파이썬</td>\n",
       "      <td>2020-01-01</td>\n",
       "      <td>1</td>\n",
       "      <td>김파이썬</td>\n",
       "      <td>F</td>\n",
       "    </tr>\n",
       "    <tr>\n",
       "      <th>1</th>\n",
       "      <td>박팬더스</td>\n",
       "      <td>2020-02-01</td>\n",
       "      <td>2</td>\n",
       "      <td>박팬더스</td>\n",
       "      <td>M</td>\n",
       "    </tr>\n",
       "  </tbody>\n",
       "</table>\n",
       "</div>"
      ],
      "text/plain": [
       "   고객이름          날짜  구매금액   고객명 성별\n",
       "0  김파이썬  2020-01-01     1  김파이썬  F\n",
       "1  박팬더스  2020-02-01     2  박팬더스  M"
      ]
     },
     "execution_count": 64,
     "metadata": {},
     "output_type": "execute_result"
    }
   ],
   "source": [
    "df_client = pd.merge(df_date_price, df_sex, left_on='고객이름', right_on='고객명')\n",
    "\n",
    "df_client"
   ]
  },
  {
   "cell_type": "code",
   "execution_count": 65,
   "id": "d9be17af",
   "metadata": {},
   "outputs": [
    {
     "data": {
      "text/html": [
       "<div>\n",
       "<style scoped>\n",
       "    .dataframe tbody tr th:only-of-type {\n",
       "        vertical-align: middle;\n",
       "    }\n",
       "\n",
       "    .dataframe tbody tr th {\n",
       "        vertical-align: top;\n",
       "    }\n",
       "\n",
       "    .dataframe thead th {\n",
       "        text-align: right;\n",
       "    }\n",
       "</style>\n",
       "<table border=\"1\" class=\"dataframe\">\n",
       "  <thead>\n",
       "    <tr style=\"text-align: right;\">\n",
       "      <th></th>\n",
       "      <th>고객이름</th>\n",
       "      <th>날짜</th>\n",
       "      <th>구매금액</th>\n",
       "      <th>성별</th>\n",
       "    </tr>\n",
       "  </thead>\n",
       "  <tbody>\n",
       "    <tr>\n",
       "      <th>0</th>\n",
       "      <td>김파이썬</td>\n",
       "      <td>2020-01-01</td>\n",
       "      <td>1</td>\n",
       "      <td>F</td>\n",
       "    </tr>\n",
       "    <tr>\n",
       "      <th>1</th>\n",
       "      <td>박팬더스</td>\n",
       "      <td>2020-02-01</td>\n",
       "      <td>2</td>\n",
       "      <td>M</td>\n",
       "    </tr>\n",
       "  </tbody>\n",
       "</table>\n",
       "</div>"
      ],
      "text/plain": [
       "   고객이름          날짜  구매금액 성별\n",
       "0  김파이썬  2020-01-01     1  F\n",
       "1  박팬더스  2020-02-01     2  M"
      ]
     },
     "execution_count": 65,
     "metadata": {},
     "output_type": "execute_result"
    }
   ],
   "source": [
    "df_client = df_client.drop('고객명', axis=1)\n",
    "\n",
    "df_client"
   ]
  },
  {
   "cell_type": "markdown",
   "id": "cff95a96",
   "metadata": {},
   "source": [
    "## 4. Data Concatenate 데이터 연결 `pd.concat()`\n",
    "\n",
    "- `특정 key`를 기준으로 데이터를 합치지 않고, `row`, `column` 기준으로 데이터를 연결   \n",
    "\\> data crawling에서 많이 사용됨\n",
    "\n",
    "- main parameter\n",
    "\n",
    "    - `axis`: default: `axis=0` 행의 축 방향, $\\downarrow$, `column`을 key로 합친다.   \n",
    "      `axis=1`: 열의 축 방향, $\\rightarrow$, `row`를 key로 합친다.\n",
    "    \n",
    "    - `join`: DataFrame끼리 연결할 때, 합치는 방법, default: `outer`, `inner`\n",
    "    \n",
    "    - `ignore_index`: 합친 후 기존 인덱스를 유지 또는 새로운 인덱스를 지정"
   ]
  },
  {
   "cell_type": "markdown",
   "id": "09f33970",
   "metadata": {},
   "source": [
    "<br>\n",
    "\n",
    "- `'a', 'c'`만 공통 `label index`로 가지고 있는 `Series`"
   ]
  },
  {
   "cell_type": "code",
   "execution_count": 66,
   "id": "2949e8eb",
   "metadata": {},
   "outputs": [
    {
     "name": "stdout",
     "output_type": "stream",
     "text": [
      "a    1\n",
      "b    2\n",
      "c    3\n",
      "dtype: int64\n",
      "a    5\n",
      "c    6\n",
      "e    7\n",
      "f    8\n",
      "dtype: int64\n"
     ]
    }
   ],
   "source": [
    "sr_1 = pd.Series([1, 2, 3], index=list('abc'))\n",
    "sr_2 = pd.Series([5, 6, 7, 8], index=list('acef'))\n",
    "\n",
    "print(sr_1)\n",
    "print(sr_2)"
   ]
  },
  {
   "cell_type": "markdown",
   "id": "8fcf4576",
   "metadata": {},
   "source": [
    "<br>\n",
    "\n",
    "- `pd.concat(list of DataFrame)`\n",
    "\n",
    "    - default: `axis=0`: 행의 축 방향 $\\downarrow$\n",
    "\n",
    "    - 첫 번째로 전달된 `first_obj`가 위에, 두 번째로 전달된 `second_obj`가 아래로 연결\n",
    "\n",
    "    - `label index`는 기존 값 유지"
   ]
  },
  {
   "cell_type": "code",
   "execution_count": 67,
   "id": "f16cfb10",
   "metadata": {},
   "outputs": [
    {
     "data": {
      "text/plain": [
       "a    1\n",
       "b    2\n",
       "c    3\n",
       "a    5\n",
       "c    6\n",
       "e    7\n",
       "f    8\n",
       "dtype: int64"
      ]
     },
     "execution_count": 67,
     "metadata": {},
     "output_type": "execute_result"
    }
   ],
   "source": [
    "pd.concat([sr_1, sr_2])"
   ]
  },
  {
   "cell_type": "markdown",
   "id": "ffbfe617",
   "metadata": {},
   "source": [
    "<br>\n",
    "\n",
    "- 새로운 index로 초기화: optional parameter `ignore_index=True`"
   ]
  },
  {
   "cell_type": "code",
   "execution_count": 68,
   "id": "c059484e",
   "metadata": {},
   "outputs": [
    {
     "data": {
      "text/plain": [
       "0    1\n",
       "1    2\n",
       "2    3\n",
       "3    5\n",
       "4    6\n",
       "5    7\n",
       "6    8\n",
       "dtype: int64"
      ]
     },
     "execution_count": 68,
     "metadata": {},
     "output_type": "execute_result"
    }
   ],
   "source": [
    "pd.concat([sr_1, sr_2], ignore_index=True)"
   ]
  },
  {
   "cell_type": "code",
   "execution_count": 69,
   "id": "56107f2c",
   "metadata": {},
   "outputs": [
    {
     "name": "stdout",
     "output_type": "stream",
     "text": [
      "a    1\n",
      "b    2\n",
      "c    3\n",
      "dtype: int64 a    5\n",
      "c    6\n",
      "e    7\n",
      "f    8\n",
      "dtype: int64\n"
     ]
    }
   ],
   "source": [
    "print(sr_1, sr_2)"
   ]
  },
  {
   "cell_type": "markdown",
   "id": "c8bf7696",
   "metadata": {},
   "source": [
    "<br>\n",
    "\n",
    "- `axis=1`: 열의 축 방향, $\\rightarrow$, row 단위 연결\n",
    "    \n",
    "    - columns 길이(row 개수)가 다른 경우"
   ]
  },
  {
   "cell_type": "code",
   "execution_count": 70,
   "id": "1ad4baa1",
   "metadata": {},
   "outputs": [
    {
     "data": {
      "text/html": [
       "<div>\n",
       "<style scoped>\n",
       "    .dataframe tbody tr th:only-of-type {\n",
       "        vertical-align: middle;\n",
       "    }\n",
       "\n",
       "    .dataframe tbody tr th {\n",
       "        vertical-align: top;\n",
       "    }\n",
       "\n",
       "    .dataframe thead th {\n",
       "        text-align: right;\n",
       "    }\n",
       "</style>\n",
       "<table border=\"1\" class=\"dataframe\">\n",
       "  <thead>\n",
       "    <tr style=\"text-align: right;\">\n",
       "      <th></th>\n",
       "      <th>0</th>\n",
       "      <th>1</th>\n",
       "    </tr>\n",
       "  </thead>\n",
       "  <tbody>\n",
       "    <tr>\n",
       "      <th>a</th>\n",
       "      <td>1.0</td>\n",
       "      <td>5.0</td>\n",
       "    </tr>\n",
       "    <tr>\n",
       "      <th>b</th>\n",
       "      <td>2.0</td>\n",
       "      <td>NaN</td>\n",
       "    </tr>\n",
       "    <tr>\n",
       "      <th>c</th>\n",
       "      <td>3.0</td>\n",
       "      <td>6.0</td>\n",
       "    </tr>\n",
       "    <tr>\n",
       "      <th>e</th>\n",
       "      <td>NaN</td>\n",
       "      <td>7.0</td>\n",
       "    </tr>\n",
       "    <tr>\n",
       "      <th>f</th>\n",
       "      <td>NaN</td>\n",
       "      <td>8.0</td>\n",
       "    </tr>\n",
       "  </tbody>\n",
       "</table>\n",
       "</div>"
      ],
      "text/plain": [
       "     0    1\n",
       "a  1.0  5.0\n",
       "b  2.0  NaN\n",
       "c  3.0  6.0\n",
       "e  NaN  7.0\n",
       "f  NaN  8.0"
      ]
     },
     "execution_count": 70,
     "metadata": {},
     "output_type": "execute_result"
    }
   ],
   "source": [
    "pd.concat([sr_1, sr_2], axis=1)"
   ]
  },
  {
   "cell_type": "markdown",
   "id": "bac8662f",
   "metadata": {},
   "source": [
    "<br>\n",
    "\n",
    "- `column label index` 설정하며 연결: `keys` parameter에 `colums label index` list 전달"
   ]
  },
  {
   "cell_type": "code",
   "execution_count": 71,
   "id": "b05e66bd",
   "metadata": {},
   "outputs": [
    {
     "data": {
      "text/html": [
       "<div>\n",
       "<style scoped>\n",
       "    .dataframe tbody tr th:only-of-type {\n",
       "        vertical-align: middle;\n",
       "    }\n",
       "\n",
       "    .dataframe tbody tr th {\n",
       "        vertical-align: top;\n",
       "    }\n",
       "\n",
       "    .dataframe thead th {\n",
       "        text-align: right;\n",
       "    }\n",
       "</style>\n",
       "<table border=\"1\" class=\"dataframe\">\n",
       "  <thead>\n",
       "    <tr style=\"text-align: right;\">\n",
       "      <th></th>\n",
       "      <th>c1</th>\n",
       "      <th>c2</th>\n",
       "    </tr>\n",
       "  </thead>\n",
       "  <tbody>\n",
       "    <tr>\n",
       "      <th>a</th>\n",
       "      <td>1.0</td>\n",
       "      <td>5.0</td>\n",
       "    </tr>\n",
       "    <tr>\n",
       "      <th>b</th>\n",
       "      <td>2.0</td>\n",
       "      <td>NaN</td>\n",
       "    </tr>\n",
       "    <tr>\n",
       "      <th>c</th>\n",
       "      <td>3.0</td>\n",
       "      <td>6.0</td>\n",
       "    </tr>\n",
       "    <tr>\n",
       "      <th>e</th>\n",
       "      <td>NaN</td>\n",
       "      <td>7.0</td>\n",
       "    </tr>\n",
       "    <tr>\n",
       "      <th>f</th>\n",
       "      <td>NaN</td>\n",
       "      <td>8.0</td>\n",
       "    </tr>\n",
       "  </tbody>\n",
       "</table>\n",
       "</div>"
      ],
      "text/plain": [
       "    c1   c2\n",
       "a  1.0  5.0\n",
       "b  2.0  NaN\n",
       "c  3.0  6.0\n",
       "e  NaN  7.0\n",
       "f  NaN  8.0"
      ]
     },
     "execution_count": 71,
     "metadata": {},
     "output_type": "execute_result"
    }
   ],
   "source": [
    "pd.concat([sr_1, sr_2], axis=1, keys=['c1', 'c2'], sort=False)"
   ]
  },
  {
   "cell_type": "markdown",
   "id": "040fad74",
   "metadata": {},
   "source": [
    "<br>\n",
    "\n",
    "### > 연습문제 "
   ]
  },
  {
   "cell_type": "code",
   "execution_count": 72,
   "id": "e1b452cd",
   "metadata": {
    "scrolled": true
   },
   "outputs": [
    {
     "data": {
      "text/html": [
       "<div>\n",
       "<style scoped>\n",
       "    .dataframe tbody tr th:only-of-type {\n",
       "        vertical-align: middle;\n",
       "    }\n",
       "\n",
       "    .dataframe tbody tr th {\n",
       "        vertical-align: top;\n",
       "    }\n",
       "\n",
       "    .dataframe thead th {\n",
       "        text-align: right;\n",
       "    }\n",
       "</style>\n",
       "<table border=\"1\" class=\"dataframe\">\n",
       "  <thead>\n",
       "    <tr style=\"text-align: right;\">\n",
       "      <th></th>\n",
       "      <th>고객명</th>\n",
       "      <th>날짜</th>\n",
       "      <th>구매금액</th>\n",
       "    </tr>\n",
       "  </thead>\n",
       "  <tbody>\n",
       "    <tr>\n",
       "      <th>0</th>\n",
       "      <td>김파이썬</td>\n",
       "      <td>2022-10-22</td>\n",
       "      <td>1</td>\n",
       "    </tr>\n",
       "    <tr>\n",
       "      <th>1</th>\n",
       "      <td>이장고</td>\n",
       "      <td>2022-10-23</td>\n",
       "      <td>2</td>\n",
       "    </tr>\n",
       "    <tr>\n",
       "      <th>2</th>\n",
       "      <td>박팬더스</td>\n",
       "      <td>2022-12-14</td>\n",
       "      <td>3</td>\n",
       "    </tr>\n",
       "  </tbody>\n",
       "</table>\n",
       "</div>"
      ],
      "text/plain": [
       "    고객명          날짜  구매금액\n",
       "0  김파이썬  2022-10-22     1\n",
       "1   이장고  2022-10-23     2\n",
       "2  박팬더스  2022-12-14     3"
      ]
     },
     "execution_count": 72,
     "metadata": {},
     "output_type": "execute_result"
    }
   ],
   "source": [
    "df_date_price = pd.DataFrame({'고객명':['김파이썬', '이장고', '박팬더스'],\n",
    "                   '날짜':['2022-10-22', '2022-10-23', '2022-12-14'],\n",
    "                   '구매금액':[1, 2, 3]})\n",
    "df_date_price"
   ]
  },
  {
   "cell_type": "code",
   "execution_count": 73,
   "id": "18d2674d",
   "metadata": {},
   "outputs": [
    {
     "data": {
      "text/html": [
       "<div>\n",
       "<style scoped>\n",
       "    .dataframe tbody tr th:only-of-type {\n",
       "        vertical-align: middle;\n",
       "    }\n",
       "\n",
       "    .dataframe tbody tr th {\n",
       "        vertical-align: top;\n",
       "    }\n",
       "\n",
       "    .dataframe thead th {\n",
       "        text-align: right;\n",
       "    }\n",
       "</style>\n",
       "<table border=\"1\" class=\"dataframe\">\n",
       "  <thead>\n",
       "    <tr style=\"text-align: right;\">\n",
       "      <th></th>\n",
       "      <th>고객명</th>\n",
       "      <th>성별</th>\n",
       "    </tr>\n",
       "  </thead>\n",
       "  <tbody>\n",
       "    <tr>\n",
       "      <th>0</th>\n",
       "      <td>김파이썬</td>\n",
       "      <td>F</td>\n",
       "    </tr>\n",
       "    <tr>\n",
       "      <th>1</th>\n",
       "      <td>최넘파이</td>\n",
       "      <td>M</td>\n",
       "    </tr>\n",
       "  </tbody>\n",
       "</table>\n",
       "</div>"
      ],
      "text/plain": [
       "    고객명 성별\n",
       "0  김파이썬  F\n",
       "1  최넘파이  M"
      ]
     },
     "execution_count": 73,
     "metadata": {},
     "output_type": "execute_result"
    }
   ],
   "source": [
    "df_sex = pd.DataFrame({'고객명':['김파이썬', '최넘파이'],\n",
    "                   '성별':['F', 'M']})\n",
    "df_sex"
   ]
  },
  {
   "cell_type": "markdown",
   "id": "6505b68a",
   "metadata": {},
   "source": [
    "<br>\n",
    "\n",
    "1. 행의 축 방향으로 DataFrame 연결:row 개수 증가"
   ]
  },
  {
   "cell_type": "code",
   "execution_count": 74,
   "id": "f1c2be99",
   "metadata": {},
   "outputs": [
    {
     "data": {
      "text/html": [
       "<div>\n",
       "<style scoped>\n",
       "    .dataframe tbody tr th:only-of-type {\n",
       "        vertical-align: middle;\n",
       "    }\n",
       "\n",
       "    .dataframe tbody tr th {\n",
       "        vertical-align: top;\n",
       "    }\n",
       "\n",
       "    .dataframe thead th {\n",
       "        text-align: right;\n",
       "    }\n",
       "</style>\n",
       "<table border=\"1\" class=\"dataframe\">\n",
       "  <thead>\n",
       "    <tr style=\"text-align: right;\">\n",
       "      <th></th>\n",
       "      <th>고객명</th>\n",
       "      <th>날짜</th>\n",
       "      <th>구매금액</th>\n",
       "      <th>성별</th>\n",
       "    </tr>\n",
       "  </thead>\n",
       "  <tbody>\n",
       "    <tr>\n",
       "      <th>0</th>\n",
       "      <td>김파이썬</td>\n",
       "      <td>2022-10-22</td>\n",
       "      <td>1.0</td>\n",
       "      <td>NaN</td>\n",
       "    </tr>\n",
       "    <tr>\n",
       "      <th>1</th>\n",
       "      <td>이장고</td>\n",
       "      <td>2022-10-23</td>\n",
       "      <td>2.0</td>\n",
       "      <td>NaN</td>\n",
       "    </tr>\n",
       "    <tr>\n",
       "      <th>2</th>\n",
       "      <td>박팬더스</td>\n",
       "      <td>2022-12-14</td>\n",
       "      <td>3.0</td>\n",
       "      <td>NaN</td>\n",
       "    </tr>\n",
       "    <tr>\n",
       "      <th>0</th>\n",
       "      <td>김파이썬</td>\n",
       "      <td>NaN</td>\n",
       "      <td>NaN</td>\n",
       "      <td>F</td>\n",
       "    </tr>\n",
       "    <tr>\n",
       "      <th>1</th>\n",
       "      <td>최넘파이</td>\n",
       "      <td>NaN</td>\n",
       "      <td>NaN</td>\n",
       "      <td>M</td>\n",
       "    </tr>\n",
       "  </tbody>\n",
       "</table>\n",
       "</div>"
      ],
      "text/plain": [
       "    고객명          날짜  구매금액   성별\n",
       "0  김파이썬  2022-10-22   1.0  NaN\n",
       "1   이장고  2022-10-23   2.0  NaN\n",
       "2  박팬더스  2022-12-14   3.0  NaN\n",
       "0  김파이썬         NaN   NaN    F\n",
       "1  최넘파이         NaN   NaN    M"
      ]
     },
     "execution_count": 74,
     "metadata": {},
     "output_type": "execute_result"
    }
   ],
   "source": [
    "pd.concat([df_date_price, df_sex], axis=0)"
   ]
  },
  {
   "cell_type": "markdown",
   "id": "9812fc29",
   "metadata": {},
   "source": [
    "<br>\n",
    "\n",
    "2. 열의 축 방향으로 DataFrame 연결: columns 개수 증가"
   ]
  },
  {
   "cell_type": "code",
   "execution_count": 75,
   "id": "c505da0e",
   "metadata": {},
   "outputs": [
    {
     "data": {
      "text/html": [
       "<div>\n",
       "<style scoped>\n",
       "    .dataframe tbody tr th:only-of-type {\n",
       "        vertical-align: middle;\n",
       "    }\n",
       "\n",
       "    .dataframe tbody tr th {\n",
       "        vertical-align: top;\n",
       "    }\n",
       "\n",
       "    .dataframe thead th {\n",
       "        text-align: right;\n",
       "    }\n",
       "</style>\n",
       "<table border=\"1\" class=\"dataframe\">\n",
       "  <thead>\n",
       "    <tr style=\"text-align: right;\">\n",
       "      <th></th>\n",
       "      <th>고객명</th>\n",
       "      <th>날짜</th>\n",
       "      <th>구매금액</th>\n",
       "      <th>고객명</th>\n",
       "      <th>성별</th>\n",
       "    </tr>\n",
       "  </thead>\n",
       "  <tbody>\n",
       "    <tr>\n",
       "      <th>0</th>\n",
       "      <td>김파이썬</td>\n",
       "      <td>2022-10-22</td>\n",
       "      <td>1</td>\n",
       "      <td>김파이썬</td>\n",
       "      <td>F</td>\n",
       "    </tr>\n",
       "    <tr>\n",
       "      <th>1</th>\n",
       "      <td>이장고</td>\n",
       "      <td>2022-10-23</td>\n",
       "      <td>2</td>\n",
       "      <td>최넘파이</td>\n",
       "      <td>M</td>\n",
       "    </tr>\n",
       "    <tr>\n",
       "      <th>2</th>\n",
       "      <td>박팬더스</td>\n",
       "      <td>2022-12-14</td>\n",
       "      <td>3</td>\n",
       "      <td>NaN</td>\n",
       "      <td>NaN</td>\n",
       "    </tr>\n",
       "  </tbody>\n",
       "</table>\n",
       "</div>"
      ],
      "text/plain": [
       "    고객명          날짜  구매금액   고객명   성별\n",
       "0  김파이썬  2022-10-22     1  김파이썬    F\n",
       "1   이장고  2022-10-23     2  최넘파이    M\n",
       "2  박팬더스  2022-12-14     3   NaN  NaN"
      ]
     },
     "execution_count": 75,
     "metadata": {},
     "output_type": "execute_result"
    }
   ],
   "source": [
    "pd.concat([df_date_price, df_sex], axis=1)"
   ]
  },
  {
   "cell_type": "markdown",
   "id": "7ee48925",
   "metadata": {},
   "source": [
    "## 5. Data 집계\n",
    "\n",
    "1. `df.groupby('columns label')`\n",
    "\n",
    "    - 특정 속성(`columns label`)을 기준으로 묶어서 다양한 집계 함수 적용\n",
    "\n",
    "    - 대표적인 집계 함수\n",
    "        \n",
    "        - `.sum()` : 총합\n",
    "        \n",
    "        - `.mean()` : 평균값\n",
    "        \n",
    "        - `.min()` : 최소값\n",
    "        \n",
    "        - `.max()` : 최대값\n",
    "        \n",
    "        - `.count()` : 개수\n",
    "        \n",
    "        - `.std()` : 표준편차\n",
    "\n",
    "\n",
    "\n",
    "2. pivot table \n",
    "\n",
    "- `df.pivot('columns label' to be row, 'colmns label' to be column, 'columns label' to be tuple values, 집계함수)`\n",
    "\n",
    "    - 일차원으로 columns, row가 단순 나열된 형식: 데이터 파악에 부적합 > `df.pivot()`을 통해 hierarchical indexing 및 형태 변경을 수행"
   ]
  },
  {
   "cell_type": "code",
   "execution_count": 76,
   "id": "3e69e6c2",
   "metadata": {},
   "outputs": [
    {
     "data": {
      "text/html": [
       "<div>\n",
       "<style scoped>\n",
       "    .dataframe tbody tr th:only-of-type {\n",
       "        vertical-align: middle;\n",
       "    }\n",
       "\n",
       "    .dataframe tbody tr th {\n",
       "        vertical-align: top;\n",
       "    }\n",
       "\n",
       "    .dataframe thead th {\n",
       "        text-align: right;\n",
       "    }\n",
       "</style>\n",
       "<table border=\"1\" class=\"dataframe\">\n",
       "  <thead>\n",
       "    <tr style=\"text-align: right;\">\n",
       "      <th></th>\n",
       "      <th>도시</th>\n",
       "      <th>자치구</th>\n",
       "      <th>연도</th>\n",
       "      <th>남자인구</th>\n",
       "      <th>여자인구</th>\n",
       "      <th>총인구</th>\n",
       "    </tr>\n",
       "  </thead>\n",
       "  <tbody>\n",
       "    <tr>\n",
       "      <th>0</th>\n",
       "      <td>서울</td>\n",
       "      <td>강남구</td>\n",
       "      <td>2013</td>\n",
       "      <td>73</td>\n",
       "      <td>92</td>\n",
       "      <td>165</td>\n",
       "    </tr>\n",
       "    <tr>\n",
       "      <th>1</th>\n",
       "      <td>서울</td>\n",
       "      <td>강남구</td>\n",
       "      <td>2014</td>\n",
       "      <td>139</td>\n",
       "      <td>55</td>\n",
       "      <td>194</td>\n",
       "    </tr>\n",
       "    <tr>\n",
       "      <th>2</th>\n",
       "      <td>서울</td>\n",
       "      <td>강남구</td>\n",
       "      <td>2015</td>\n",
       "      <td>123</td>\n",
       "      <td>83</td>\n",
       "      <td>206</td>\n",
       "    </tr>\n",
       "    <tr>\n",
       "      <th>3</th>\n",
       "      <td>서울</td>\n",
       "      <td>강남구</td>\n",
       "      <td>2016</td>\n",
       "      <td>147</td>\n",
       "      <td>150</td>\n",
       "      <td>297</td>\n",
       "    </tr>\n",
       "    <tr>\n",
       "      <th>4</th>\n",
       "      <td>서울</td>\n",
       "      <td>강남구</td>\n",
       "      <td>2017</td>\n",
       "      <td>57</td>\n",
       "      <td>133</td>\n",
       "      <td>190</td>\n",
       "    </tr>\n",
       "    <tr>\n",
       "      <th>5</th>\n",
       "      <td>서울</td>\n",
       "      <td>서대문구</td>\n",
       "      <td>2013</td>\n",
       "      <td>95</td>\n",
       "      <td>111</td>\n",
       "      <td>206</td>\n",
       "    </tr>\n",
       "    <tr>\n",
       "      <th>6</th>\n",
       "      <td>서울</td>\n",
       "      <td>서대문구</td>\n",
       "      <td>2014</td>\n",
       "      <td>149</td>\n",
       "      <td>150</td>\n",
       "      <td>299</td>\n",
       "    </tr>\n",
       "    <tr>\n",
       "      <th>7</th>\n",
       "      <td>서울</td>\n",
       "      <td>서대문구</td>\n",
       "      <td>2015</td>\n",
       "      <td>106</td>\n",
       "      <td>77</td>\n",
       "      <td>183</td>\n",
       "    </tr>\n",
       "    <tr>\n",
       "      <th>8</th>\n",
       "      <td>서울</td>\n",
       "      <td>서대문구</td>\n",
       "      <td>2016</td>\n",
       "      <td>56</td>\n",
       "      <td>109</td>\n",
       "      <td>165</td>\n",
       "    </tr>\n",
       "    <tr>\n",
       "      <th>9</th>\n",
       "      <td>서울</td>\n",
       "      <td>서대문구</td>\n",
       "      <td>2017</td>\n",
       "      <td>82</td>\n",
       "      <td>96</td>\n",
       "      <td>178</td>\n",
       "    </tr>\n",
       "    <tr>\n",
       "      <th>10</th>\n",
       "      <td>서울</td>\n",
       "      <td>종로구</td>\n",
       "      <td>2013</td>\n",
       "      <td>121</td>\n",
       "      <td>68</td>\n",
       "      <td>189</td>\n",
       "    </tr>\n",
       "    <tr>\n",
       "      <th>11</th>\n",
       "      <td>서울</td>\n",
       "      <td>종로구</td>\n",
       "      <td>2014</td>\n",
       "      <td>107</td>\n",
       "      <td>55</td>\n",
       "      <td>162</td>\n",
       "    </tr>\n",
       "    <tr>\n",
       "      <th>12</th>\n",
       "      <td>서울</td>\n",
       "      <td>종로구</td>\n",
       "      <td>2015</td>\n",
       "      <td>50</td>\n",
       "      <td>79</td>\n",
       "      <td>129</td>\n",
       "    </tr>\n",
       "    <tr>\n",
       "      <th>13</th>\n",
       "      <td>서울</td>\n",
       "      <td>종로구</td>\n",
       "      <td>2016</td>\n",
       "      <td>100</td>\n",
       "      <td>80</td>\n",
       "      <td>180</td>\n",
       "    </tr>\n",
       "    <tr>\n",
       "      <th>14</th>\n",
       "      <td>서울</td>\n",
       "      <td>종로구</td>\n",
       "      <td>2017</td>\n",
       "      <td>105</td>\n",
       "      <td>91</td>\n",
       "      <td>196</td>\n",
       "    </tr>\n",
       "    <tr>\n",
       "      <th>15</th>\n",
       "      <td>서울</td>\n",
       "      <td>영등포구</td>\n",
       "      <td>2013</td>\n",
       "      <td>146</td>\n",
       "      <td>113</td>\n",
       "      <td>259</td>\n",
       "    </tr>\n",
       "    <tr>\n",
       "      <th>16</th>\n",
       "      <td>서울</td>\n",
       "      <td>영등포구</td>\n",
       "      <td>2014</td>\n",
       "      <td>127</td>\n",
       "      <td>117</td>\n",
       "      <td>244</td>\n",
       "    </tr>\n",
       "    <tr>\n",
       "      <th>17</th>\n",
       "      <td>서울</td>\n",
       "      <td>영등포구</td>\n",
       "      <td>2015</td>\n",
       "      <td>70</td>\n",
       "      <td>72</td>\n",
       "      <td>142</td>\n",
       "    </tr>\n",
       "    <tr>\n",
       "      <th>18</th>\n",
       "      <td>서울</td>\n",
       "      <td>영등포구</td>\n",
       "      <td>2016</td>\n",
       "      <td>141</td>\n",
       "      <td>136</td>\n",
       "      <td>277</td>\n",
       "    </tr>\n",
       "    <tr>\n",
       "      <th>19</th>\n",
       "      <td>서울</td>\n",
       "      <td>영등포구</td>\n",
       "      <td>2017</td>\n",
       "      <td>145</td>\n",
       "      <td>124</td>\n",
       "      <td>269</td>\n",
       "    </tr>\n",
       "    <tr>\n",
       "      <th>20</th>\n",
       "      <td>서울</td>\n",
       "      <td>송파구</td>\n",
       "      <td>2013</td>\n",
       "      <td>90</td>\n",
       "      <td>130</td>\n",
       "      <td>220</td>\n",
       "    </tr>\n",
       "    <tr>\n",
       "      <th>21</th>\n",
       "      <td>서울</td>\n",
       "      <td>송파구</td>\n",
       "      <td>2014</td>\n",
       "      <td>121</td>\n",
       "      <td>66</td>\n",
       "      <td>187</td>\n",
       "    </tr>\n",
       "    <tr>\n",
       "      <th>22</th>\n",
       "      <td>서울</td>\n",
       "      <td>송파구</td>\n",
       "      <td>2015</td>\n",
       "      <td>62</td>\n",
       "      <td>121</td>\n",
       "      <td>183</td>\n",
       "    </tr>\n",
       "    <tr>\n",
       "      <th>23</th>\n",
       "      <td>서울</td>\n",
       "      <td>송파구</td>\n",
       "      <td>2016</td>\n",
       "      <td>80</td>\n",
       "      <td>92</td>\n",
       "      <td>172</td>\n",
       "    </tr>\n",
       "    <tr>\n",
       "      <th>24</th>\n",
       "      <td>서울</td>\n",
       "      <td>송파구</td>\n",
       "      <td>2017</td>\n",
       "      <td>62</td>\n",
       "      <td>150</td>\n",
       "      <td>212</td>\n",
       "    </tr>\n",
       "    <tr>\n",
       "      <th>25</th>\n",
       "      <td>서울</td>\n",
       "      <td>도봉구</td>\n",
       "      <td>2013</td>\n",
       "      <td>113</td>\n",
       "      <td>138</td>\n",
       "      <td>251</td>\n",
       "    </tr>\n",
       "    <tr>\n",
       "      <th>26</th>\n",
       "      <td>서울</td>\n",
       "      <td>도봉구</td>\n",
       "      <td>2014</td>\n",
       "      <td>145</td>\n",
       "      <td>140</td>\n",
       "      <td>285</td>\n",
       "    </tr>\n",
       "    <tr>\n",
       "      <th>27</th>\n",
       "      <td>서울</td>\n",
       "      <td>도봉구</td>\n",
       "      <td>2015</td>\n",
       "      <td>56</td>\n",
       "      <td>139</td>\n",
       "      <td>195</td>\n",
       "    </tr>\n",
       "    <tr>\n",
       "      <th>28</th>\n",
       "      <td>서울</td>\n",
       "      <td>도봉구</td>\n",
       "      <td>2016</td>\n",
       "      <td>60</td>\n",
       "      <td>71</td>\n",
       "      <td>131</td>\n",
       "    </tr>\n",
       "    <tr>\n",
       "      <th>29</th>\n",
       "      <td>서울</td>\n",
       "      <td>도봉구</td>\n",
       "      <td>2017</td>\n",
       "      <td>111</td>\n",
       "      <td>62</td>\n",
       "      <td>173</td>\n",
       "    </tr>\n",
       "    <tr>\n",
       "      <th>30</th>\n",
       "      <td>서울</td>\n",
       "      <td>동작구</td>\n",
       "      <td>2013</td>\n",
       "      <td>120</td>\n",
       "      <td>117</td>\n",
       "      <td>237</td>\n",
       "    </tr>\n",
       "    <tr>\n",
       "      <th>31</th>\n",
       "      <td>서울</td>\n",
       "      <td>동작구</td>\n",
       "      <td>2014</td>\n",
       "      <td>94</td>\n",
       "      <td>108</td>\n",
       "      <td>202</td>\n",
       "    </tr>\n",
       "    <tr>\n",
       "      <th>32</th>\n",
       "      <td>서울</td>\n",
       "      <td>동작구</td>\n",
       "      <td>2015</td>\n",
       "      <td>74</td>\n",
       "      <td>139</td>\n",
       "      <td>213</td>\n",
       "    </tr>\n",
       "    <tr>\n",
       "      <th>33</th>\n",
       "      <td>서울</td>\n",
       "      <td>동작구</td>\n",
       "      <td>2016</td>\n",
       "      <td>87</td>\n",
       "      <td>84</td>\n",
       "      <td>171</td>\n",
       "    </tr>\n",
       "    <tr>\n",
       "      <th>34</th>\n",
       "      <td>서울</td>\n",
       "      <td>동작구</td>\n",
       "      <td>2017</td>\n",
       "      <td>79</td>\n",
       "      <td>134</td>\n",
       "      <td>213</td>\n",
       "    </tr>\n",
       "    <tr>\n",
       "      <th>35</th>\n",
       "      <td>부산</td>\n",
       "      <td>해운대구</td>\n",
       "      <td>2013</td>\n",
       "      <td>124</td>\n",
       "      <td>103</td>\n",
       "      <td>227</td>\n",
       "    </tr>\n",
       "    <tr>\n",
       "      <th>36</th>\n",
       "      <td>부산</td>\n",
       "      <td>해운대구</td>\n",
       "      <td>2014</td>\n",
       "      <td>101</td>\n",
       "      <td>144</td>\n",
       "      <td>245</td>\n",
       "    </tr>\n",
       "    <tr>\n",
       "      <th>37</th>\n",
       "      <td>부산</td>\n",
       "      <td>해운대구</td>\n",
       "      <td>2015</td>\n",
       "      <td>115</td>\n",
       "      <td>70</td>\n",
       "      <td>185</td>\n",
       "    </tr>\n",
       "    <tr>\n",
       "      <th>38</th>\n",
       "      <td>부산</td>\n",
       "      <td>해운대구</td>\n",
       "      <td>2016</td>\n",
       "      <td>134</td>\n",
       "      <td>126</td>\n",
       "      <td>260</td>\n",
       "    </tr>\n",
       "    <tr>\n",
       "      <th>39</th>\n",
       "      <td>부산</td>\n",
       "      <td>해운대구</td>\n",
       "      <td>2017</td>\n",
       "      <td>146</td>\n",
       "      <td>72</td>\n",
       "      <td>218</td>\n",
       "    </tr>\n",
       "    <tr>\n",
       "      <th>40</th>\n",
       "      <td>부산</td>\n",
       "      <td>수영구</td>\n",
       "      <td>2013</td>\n",
       "      <td>134</td>\n",
       "      <td>94</td>\n",
       "      <td>228</td>\n",
       "    </tr>\n",
       "    <tr>\n",
       "      <th>41</th>\n",
       "      <td>부산</td>\n",
       "      <td>수영구</td>\n",
       "      <td>2014</td>\n",
       "      <td>74</td>\n",
       "      <td>138</td>\n",
       "      <td>212</td>\n",
       "    </tr>\n",
       "    <tr>\n",
       "      <th>42</th>\n",
       "      <td>부산</td>\n",
       "      <td>수영구</td>\n",
       "      <td>2015</td>\n",
       "      <td>69</td>\n",
       "      <td>81</td>\n",
       "      <td>150</td>\n",
       "    </tr>\n",
       "    <tr>\n",
       "      <th>43</th>\n",
       "      <td>부산</td>\n",
       "      <td>수영구</td>\n",
       "      <td>2016</td>\n",
       "      <td>81</td>\n",
       "      <td>148</td>\n",
       "      <td>229</td>\n",
       "    </tr>\n",
       "    <tr>\n",
       "      <th>44</th>\n",
       "      <td>부산</td>\n",
       "      <td>수영구</td>\n",
       "      <td>2017</td>\n",
       "      <td>144</td>\n",
       "      <td>98</td>\n",
       "      <td>242</td>\n",
       "    </tr>\n",
       "    <tr>\n",
       "      <th>45</th>\n",
       "      <td>부산</td>\n",
       "      <td>동래구</td>\n",
       "      <td>2013</td>\n",
       "      <td>83</td>\n",
       "      <td>65</td>\n",
       "      <td>148</td>\n",
       "    </tr>\n",
       "    <tr>\n",
       "      <th>46</th>\n",
       "      <td>부산</td>\n",
       "      <td>동래구</td>\n",
       "      <td>2014</td>\n",
       "      <td>139</td>\n",
       "      <td>87</td>\n",
       "      <td>226</td>\n",
       "    </tr>\n",
       "    <tr>\n",
       "      <th>47</th>\n",
       "      <td>부산</td>\n",
       "      <td>동래구</td>\n",
       "      <td>2015</td>\n",
       "      <td>147</td>\n",
       "      <td>115</td>\n",
       "      <td>262</td>\n",
       "    </tr>\n",
       "    <tr>\n",
       "      <th>48</th>\n",
       "      <td>부산</td>\n",
       "      <td>동래구</td>\n",
       "      <td>2016</td>\n",
       "      <td>61</td>\n",
       "      <td>102</td>\n",
       "      <td>163</td>\n",
       "    </tr>\n",
       "    <tr>\n",
       "      <th>49</th>\n",
       "      <td>부산</td>\n",
       "      <td>동래구</td>\n",
       "      <td>2017</td>\n",
       "      <td>132</td>\n",
       "      <td>105</td>\n",
       "      <td>237</td>\n",
       "    </tr>\n",
       "  </tbody>\n",
       "</table>\n",
       "</div>"
      ],
      "text/plain": [
       "    도시   자치구    연도  남자인구  여자인구  총인구\n",
       "0   서울   강남구  2013    73    92  165\n",
       "1   서울   강남구  2014   139    55  194\n",
       "2   서울   강남구  2015   123    83  206\n",
       "3   서울   강남구  2016   147   150  297\n",
       "4   서울   강남구  2017    57   133  190\n",
       "5   서울  서대문구  2013    95   111  206\n",
       "6   서울  서대문구  2014   149   150  299\n",
       "7   서울  서대문구  2015   106    77  183\n",
       "8   서울  서대문구  2016    56   109  165\n",
       "9   서울  서대문구  2017    82    96  178\n",
       "10  서울   종로구  2013   121    68  189\n",
       "11  서울   종로구  2014   107    55  162\n",
       "12  서울   종로구  2015    50    79  129\n",
       "13  서울   종로구  2016   100    80  180\n",
       "14  서울   종로구  2017   105    91  196\n",
       "15  서울  영등포구  2013   146   113  259\n",
       "16  서울  영등포구  2014   127   117  244\n",
       "17  서울  영등포구  2015    70    72  142\n",
       "18  서울  영등포구  2016   141   136  277\n",
       "19  서울  영등포구  2017   145   124  269\n",
       "20  서울   송파구  2013    90   130  220\n",
       "21  서울   송파구  2014   121    66  187\n",
       "22  서울   송파구  2015    62   121  183\n",
       "23  서울   송파구  2016    80    92  172\n",
       "24  서울   송파구  2017    62   150  212\n",
       "25  서울   도봉구  2013   113   138  251\n",
       "26  서울   도봉구  2014   145   140  285\n",
       "27  서울   도봉구  2015    56   139  195\n",
       "28  서울   도봉구  2016    60    71  131\n",
       "29  서울   도봉구  2017   111    62  173\n",
       "30  서울   동작구  2013   120   117  237\n",
       "31  서울   동작구  2014    94   108  202\n",
       "32  서울   동작구  2015    74   139  213\n",
       "33  서울   동작구  2016    87    84  171\n",
       "34  서울   동작구  2017    79   134  213\n",
       "35  부산  해운대구  2013   124   103  227\n",
       "36  부산  해운대구  2014   101   144  245\n",
       "37  부산  해운대구  2015   115    70  185\n",
       "38  부산  해운대구  2016   134   126  260\n",
       "39  부산  해운대구  2017   146    72  218\n",
       "40  부산   수영구  2013   134    94  228\n",
       "41  부산   수영구  2014    74   138  212\n",
       "42  부산   수영구  2015    69    81  150\n",
       "43  부산   수영구  2016    81   148  229\n",
       "44  부산   수영구  2017   144    98  242\n",
       "45  부산   동래구  2013    83    65  148\n",
       "46  부산   동래구  2014   139    87  226\n",
       "47  부산   동래구  2015   147   115  262\n",
       "48  부산   동래구  2016    61   102  163\n",
       "49  부산   동래구  2017   132   105  237"
      ]
     },
     "execution_count": 76,
     "metadata": {},
     "output_type": "execute_result"
    }
   ],
   "source": [
    "pop_data = pd.read_excel('data/인구수예제.xlsx')\n",
    "\n",
    "pop_data"
   ]
  },
  {
   "cell_type": "code",
   "execution_count": 77,
   "id": "f7956f2d",
   "metadata": {},
   "outputs": [
    {
     "data": {
      "text/plain": [
       "(50, 6)"
      ]
     },
     "execution_count": 77,
     "metadata": {},
     "output_type": "execute_result"
    }
   ],
   "source": [
    "pop_data.shape"
   ]
  },
  {
   "cell_type": "markdown",
   "id": "5aa3475a",
   "metadata": {},
   "source": [
    "<br>\n",
    "\n",
    "- `int index`기반 상위 5개 data만 추출: `df.head()`"
   ]
  },
  {
   "cell_type": "code",
   "execution_count": 78,
   "id": "2c57dc43",
   "metadata": {},
   "outputs": [
    {
     "data": {
      "text/html": [
       "<div>\n",
       "<style scoped>\n",
       "    .dataframe tbody tr th:only-of-type {\n",
       "        vertical-align: middle;\n",
       "    }\n",
       "\n",
       "    .dataframe tbody tr th {\n",
       "        vertical-align: top;\n",
       "    }\n",
       "\n",
       "    .dataframe thead th {\n",
       "        text-align: right;\n",
       "    }\n",
       "</style>\n",
       "<table border=\"1\" class=\"dataframe\">\n",
       "  <thead>\n",
       "    <tr style=\"text-align: right;\">\n",
       "      <th></th>\n",
       "      <th>도시</th>\n",
       "      <th>자치구</th>\n",
       "      <th>연도</th>\n",
       "      <th>남자인구</th>\n",
       "      <th>여자인구</th>\n",
       "      <th>총인구</th>\n",
       "    </tr>\n",
       "  </thead>\n",
       "  <tbody>\n",
       "    <tr>\n",
       "      <th>0</th>\n",
       "      <td>서울</td>\n",
       "      <td>강남구</td>\n",
       "      <td>2013</td>\n",
       "      <td>73</td>\n",
       "      <td>92</td>\n",
       "      <td>165</td>\n",
       "    </tr>\n",
       "    <tr>\n",
       "      <th>1</th>\n",
       "      <td>서울</td>\n",
       "      <td>강남구</td>\n",
       "      <td>2014</td>\n",
       "      <td>139</td>\n",
       "      <td>55</td>\n",
       "      <td>194</td>\n",
       "    </tr>\n",
       "    <tr>\n",
       "      <th>2</th>\n",
       "      <td>서울</td>\n",
       "      <td>강남구</td>\n",
       "      <td>2015</td>\n",
       "      <td>123</td>\n",
       "      <td>83</td>\n",
       "      <td>206</td>\n",
       "    </tr>\n",
       "    <tr>\n",
       "      <th>3</th>\n",
       "      <td>서울</td>\n",
       "      <td>강남구</td>\n",
       "      <td>2016</td>\n",
       "      <td>147</td>\n",
       "      <td>150</td>\n",
       "      <td>297</td>\n",
       "    </tr>\n",
       "    <tr>\n",
       "      <th>4</th>\n",
       "      <td>서울</td>\n",
       "      <td>강남구</td>\n",
       "      <td>2017</td>\n",
       "      <td>57</td>\n",
       "      <td>133</td>\n",
       "      <td>190</td>\n",
       "    </tr>\n",
       "  </tbody>\n",
       "</table>\n",
       "</div>"
      ],
      "text/plain": [
       "   도시  자치구    연도  남자인구  여자인구  총인구\n",
       "0  서울  강남구  2013    73    92  165\n",
       "1  서울  강남구  2014   139    55  194\n",
       "2  서울  강남구  2015   123    83  206\n",
       "3  서울  강남구  2016   147   150  297\n",
       "4  서울  강남구  2017    57   133  190"
      ]
     },
     "execution_count": 78,
     "metadata": {},
     "output_type": "execute_result"
    }
   ],
   "source": [
    "pop_data.head()"
   ]
  },
  {
   "cell_type": "markdown",
   "id": "526696cb",
   "metadata": {},
   "source": [
    "<br>\n",
    "\n",
    "- 하위 5개 data만 추출: `df.tail()`"
   ]
  },
  {
   "cell_type": "code",
   "execution_count": 79,
   "id": "98d85717",
   "metadata": {},
   "outputs": [
    {
     "data": {
      "text/html": [
       "<div>\n",
       "<style scoped>\n",
       "    .dataframe tbody tr th:only-of-type {\n",
       "        vertical-align: middle;\n",
       "    }\n",
       "\n",
       "    .dataframe tbody tr th {\n",
       "        vertical-align: top;\n",
       "    }\n",
       "\n",
       "    .dataframe thead th {\n",
       "        text-align: right;\n",
       "    }\n",
       "</style>\n",
       "<table border=\"1\" class=\"dataframe\">\n",
       "  <thead>\n",
       "    <tr style=\"text-align: right;\">\n",
       "      <th></th>\n",
       "      <th>도시</th>\n",
       "      <th>자치구</th>\n",
       "      <th>연도</th>\n",
       "      <th>남자인구</th>\n",
       "      <th>여자인구</th>\n",
       "      <th>총인구</th>\n",
       "    </tr>\n",
       "  </thead>\n",
       "  <tbody>\n",
       "    <tr>\n",
       "      <th>45</th>\n",
       "      <td>부산</td>\n",
       "      <td>동래구</td>\n",
       "      <td>2013</td>\n",
       "      <td>83</td>\n",
       "      <td>65</td>\n",
       "      <td>148</td>\n",
       "    </tr>\n",
       "    <tr>\n",
       "      <th>46</th>\n",
       "      <td>부산</td>\n",
       "      <td>동래구</td>\n",
       "      <td>2014</td>\n",
       "      <td>139</td>\n",
       "      <td>87</td>\n",
       "      <td>226</td>\n",
       "    </tr>\n",
       "    <tr>\n",
       "      <th>47</th>\n",
       "      <td>부산</td>\n",
       "      <td>동래구</td>\n",
       "      <td>2015</td>\n",
       "      <td>147</td>\n",
       "      <td>115</td>\n",
       "      <td>262</td>\n",
       "    </tr>\n",
       "    <tr>\n",
       "      <th>48</th>\n",
       "      <td>부산</td>\n",
       "      <td>동래구</td>\n",
       "      <td>2016</td>\n",
       "      <td>61</td>\n",
       "      <td>102</td>\n",
       "      <td>163</td>\n",
       "    </tr>\n",
       "    <tr>\n",
       "      <th>49</th>\n",
       "      <td>부산</td>\n",
       "      <td>동래구</td>\n",
       "      <td>2017</td>\n",
       "      <td>132</td>\n",
       "      <td>105</td>\n",
       "      <td>237</td>\n",
       "    </tr>\n",
       "  </tbody>\n",
       "</table>\n",
       "</div>"
      ],
      "text/plain": [
       "    도시  자치구    연도  남자인구  여자인구  총인구\n",
       "45  부산  동래구  2013    83    65  148\n",
       "46  부산  동래구  2014   139    87  226\n",
       "47  부산  동래구  2015   147   115  262\n",
       "48  부산  동래구  2016    61   102  163\n",
       "49  부산  동래구  2017   132   105  237"
      ]
     },
     "execution_count": 79,
     "metadata": {},
     "output_type": "execute_result"
    }
   ],
   "source": [
    "pop_data.tail()"
   ]
  },
  {
   "cell_type": "markdown",
   "id": "5d0187ae",
   "metadata": {},
   "source": [
    "<br>\n",
    "\n",
    "- 상위 n개 data 추출: `df.head(n)`"
   ]
  },
  {
   "cell_type": "code",
   "execution_count": 80,
   "id": "b8bb7f7e",
   "metadata": {},
   "outputs": [
    {
     "data": {
      "text/html": [
       "<div>\n",
       "<style scoped>\n",
       "    .dataframe tbody tr th:only-of-type {\n",
       "        vertical-align: middle;\n",
       "    }\n",
       "\n",
       "    .dataframe tbody tr th {\n",
       "        vertical-align: top;\n",
       "    }\n",
       "\n",
       "    .dataframe thead th {\n",
       "        text-align: right;\n",
       "    }\n",
       "</style>\n",
       "<table border=\"1\" class=\"dataframe\">\n",
       "  <thead>\n",
       "    <tr style=\"text-align: right;\">\n",
       "      <th></th>\n",
       "      <th>도시</th>\n",
       "      <th>자치구</th>\n",
       "      <th>연도</th>\n",
       "      <th>남자인구</th>\n",
       "      <th>여자인구</th>\n",
       "      <th>총인구</th>\n",
       "    </tr>\n",
       "  </thead>\n",
       "  <tbody>\n",
       "    <tr>\n",
       "      <th>0</th>\n",
       "      <td>서울</td>\n",
       "      <td>강남구</td>\n",
       "      <td>2013</td>\n",
       "      <td>73</td>\n",
       "      <td>92</td>\n",
       "      <td>165</td>\n",
       "    </tr>\n",
       "    <tr>\n",
       "      <th>1</th>\n",
       "      <td>서울</td>\n",
       "      <td>강남구</td>\n",
       "      <td>2014</td>\n",
       "      <td>139</td>\n",
       "      <td>55</td>\n",
       "      <td>194</td>\n",
       "    </tr>\n",
       "    <tr>\n",
       "      <th>2</th>\n",
       "      <td>서울</td>\n",
       "      <td>강남구</td>\n",
       "      <td>2015</td>\n",
       "      <td>123</td>\n",
       "      <td>83</td>\n",
       "      <td>206</td>\n",
       "    </tr>\n",
       "    <tr>\n",
       "      <th>3</th>\n",
       "      <td>서울</td>\n",
       "      <td>강남구</td>\n",
       "      <td>2016</td>\n",
       "      <td>147</td>\n",
       "      <td>150</td>\n",
       "      <td>297</td>\n",
       "    </tr>\n",
       "    <tr>\n",
       "      <th>4</th>\n",
       "      <td>서울</td>\n",
       "      <td>강남구</td>\n",
       "      <td>2017</td>\n",
       "      <td>57</td>\n",
       "      <td>133</td>\n",
       "      <td>190</td>\n",
       "    </tr>\n",
       "    <tr>\n",
       "      <th>5</th>\n",
       "      <td>서울</td>\n",
       "      <td>서대문구</td>\n",
       "      <td>2013</td>\n",
       "      <td>95</td>\n",
       "      <td>111</td>\n",
       "      <td>206</td>\n",
       "    </tr>\n",
       "    <tr>\n",
       "      <th>6</th>\n",
       "      <td>서울</td>\n",
       "      <td>서대문구</td>\n",
       "      <td>2014</td>\n",
       "      <td>149</td>\n",
       "      <td>150</td>\n",
       "      <td>299</td>\n",
       "    </tr>\n",
       "    <tr>\n",
       "      <th>7</th>\n",
       "      <td>서울</td>\n",
       "      <td>서대문구</td>\n",
       "      <td>2015</td>\n",
       "      <td>106</td>\n",
       "      <td>77</td>\n",
       "      <td>183</td>\n",
       "    </tr>\n",
       "    <tr>\n",
       "      <th>8</th>\n",
       "      <td>서울</td>\n",
       "      <td>서대문구</td>\n",
       "      <td>2016</td>\n",
       "      <td>56</td>\n",
       "      <td>109</td>\n",
       "      <td>165</td>\n",
       "    </tr>\n",
       "    <tr>\n",
       "      <th>9</th>\n",
       "      <td>서울</td>\n",
       "      <td>서대문구</td>\n",
       "      <td>2017</td>\n",
       "      <td>82</td>\n",
       "      <td>96</td>\n",
       "      <td>178</td>\n",
       "    </tr>\n",
       "  </tbody>\n",
       "</table>\n",
       "</div>"
      ],
      "text/plain": [
       "   도시   자치구    연도  남자인구  여자인구  총인구\n",
       "0  서울   강남구  2013    73    92  165\n",
       "1  서울   강남구  2014   139    55  194\n",
       "2  서울   강남구  2015   123    83  206\n",
       "3  서울   강남구  2016   147   150  297\n",
       "4  서울   강남구  2017    57   133  190\n",
       "5  서울  서대문구  2013    95   111  206\n",
       "6  서울  서대문구  2014   149   150  299\n",
       "7  서울  서대문구  2015   106    77  183\n",
       "8  서울  서대문구  2016    56   109  165\n",
       "9  서울  서대문구  2017    82    96  178"
      ]
     },
     "execution_count": 80,
     "metadata": {},
     "output_type": "execute_result"
    }
   ],
   "source": [
    "pop_data.head(10)"
   ]
  },
  {
   "cell_type": "markdown",
   "id": "fdfea6cb",
   "metadata": {},
   "source": [
    "### 5.1. `df.groupby(column name)`"
   ]
  },
  {
   "cell_type": "markdown",
   "id": "d49a5cf9",
   "metadata": {},
   "source": [
    "<br>\n",
    "\n",
    "- `'자치구'` 별 `'남자인구'`, `'여자인구'`의 5개년 총합"
   ]
  },
  {
   "cell_type": "code",
   "execution_count": 81,
   "id": "7944e144",
   "metadata": {},
   "outputs": [
    {
     "data": {
      "text/html": [
       "<div>\n",
       "<style scoped>\n",
       "    .dataframe tbody tr th:only-of-type {\n",
       "        vertical-align: middle;\n",
       "    }\n",
       "\n",
       "    .dataframe tbody tr th {\n",
       "        vertical-align: top;\n",
       "    }\n",
       "\n",
       "    .dataframe thead th {\n",
       "        text-align: right;\n",
       "    }\n",
       "</style>\n",
       "<table border=\"1\" class=\"dataframe\">\n",
       "  <thead>\n",
       "    <tr style=\"text-align: right;\">\n",
       "      <th></th>\n",
       "      <th>남자인구</th>\n",
       "      <th>여자인구</th>\n",
       "    </tr>\n",
       "    <tr>\n",
       "      <th>자치구</th>\n",
       "      <th></th>\n",
       "      <th></th>\n",
       "    </tr>\n",
       "  </thead>\n",
       "  <tbody>\n",
       "    <tr>\n",
       "      <th>강남구</th>\n",
       "      <td>539</td>\n",
       "      <td>513</td>\n",
       "    </tr>\n",
       "    <tr>\n",
       "      <th>도봉구</th>\n",
       "      <td>485</td>\n",
       "      <td>550</td>\n",
       "    </tr>\n",
       "    <tr>\n",
       "      <th>동래구</th>\n",
       "      <td>562</td>\n",
       "      <td>474</td>\n",
       "    </tr>\n",
       "    <tr>\n",
       "      <th>동작구</th>\n",
       "      <td>454</td>\n",
       "      <td>582</td>\n",
       "    </tr>\n",
       "    <tr>\n",
       "      <th>서대문구</th>\n",
       "      <td>488</td>\n",
       "      <td>543</td>\n",
       "    </tr>\n",
       "    <tr>\n",
       "      <th>송파구</th>\n",
       "      <td>415</td>\n",
       "      <td>559</td>\n",
       "    </tr>\n",
       "    <tr>\n",
       "      <th>수영구</th>\n",
       "      <td>502</td>\n",
       "      <td>559</td>\n",
       "    </tr>\n",
       "    <tr>\n",
       "      <th>영등포구</th>\n",
       "      <td>629</td>\n",
       "      <td>562</td>\n",
       "    </tr>\n",
       "    <tr>\n",
       "      <th>종로구</th>\n",
       "      <td>483</td>\n",
       "      <td>373</td>\n",
       "    </tr>\n",
       "    <tr>\n",
       "      <th>해운대구</th>\n",
       "      <td>620</td>\n",
       "      <td>515</td>\n",
       "    </tr>\n",
       "  </tbody>\n",
       "</table>\n",
       "</div>"
      ],
      "text/plain": [
       "      남자인구  여자인구\n",
       "자치구             \n",
       "강남구    539   513\n",
       "도봉구    485   550\n",
       "동래구    562   474\n",
       "동작구    454   582\n",
       "서대문구   488   543\n",
       "송파구    415   559\n",
       "수영구    502   559\n",
       "영등포구   629   562\n",
       "종로구    483   373\n",
       "해운대구   620   515"
      ]
     },
     "execution_count": 81,
     "metadata": {},
     "output_type": "execute_result"
    }
   ],
   "source": [
    "pop_data.groupby('자치구')[['남자인구', '여자인구']].sum()"
   ]
  },
  {
   "cell_type": "markdown",
   "id": "d7e912f8",
   "metadata": {},
   "source": [
    "<br>\n",
    "\n",
    "- `'도시'`별 `'남자인구', '여자인구'`총합"
   ]
  },
  {
   "cell_type": "code",
   "execution_count": 82,
   "id": "128f30c0",
   "metadata": {},
   "outputs": [
    {
     "data": {
      "text/html": [
       "<div>\n",
       "<style scoped>\n",
       "    .dataframe tbody tr th:only-of-type {\n",
       "        vertical-align: middle;\n",
       "    }\n",
       "\n",
       "    .dataframe tbody tr th {\n",
       "        vertical-align: top;\n",
       "    }\n",
       "\n",
       "    .dataframe thead th {\n",
       "        text-align: right;\n",
       "    }\n",
       "</style>\n",
       "<table border=\"1\" class=\"dataframe\">\n",
       "  <thead>\n",
       "    <tr style=\"text-align: right;\">\n",
       "      <th></th>\n",
       "      <th>남자인구</th>\n",
       "      <th>여자인구</th>\n",
       "    </tr>\n",
       "    <tr>\n",
       "      <th>도시</th>\n",
       "      <th></th>\n",
       "      <th></th>\n",
       "    </tr>\n",
       "  </thead>\n",
       "  <tbody>\n",
       "    <tr>\n",
       "      <th>부산</th>\n",
       "      <td>1684</td>\n",
       "      <td>1548</td>\n",
       "    </tr>\n",
       "    <tr>\n",
       "      <th>서울</th>\n",
       "      <td>3493</td>\n",
       "      <td>3682</td>\n",
       "    </tr>\n",
       "  </tbody>\n",
       "</table>\n",
       "</div>"
      ],
      "text/plain": [
       "    남자인구  여자인구\n",
       "도시            \n",
       "부산  1684  1548\n",
       "서울  3493  3682"
      ]
     },
     "execution_count": 82,
     "metadata": {},
     "output_type": "execute_result"
    }
   ],
   "source": [
    "pop_data.groupby('도시')[['남자인구', '여자인구']].sum()"
   ]
  },
  {
   "cell_type": "markdown",
   "id": "6058decb",
   "metadata": {},
   "source": [
    "<br>\n",
    "\n",
    "- 집계 기준 2개: `'연도', '도시'`\n",
    "    \n",
    "    - `columns label index` 미지정시 > 집계 `기준 column`제외 나머지 전부 추출"
   ]
  },
  {
   "cell_type": "code",
   "execution_count": 83,
   "id": "1bb9c272",
   "metadata": {},
   "outputs": [
    {
     "data": {
      "text/html": [
       "<div>\n",
       "<style scoped>\n",
       "    .dataframe tbody tr th:only-of-type {\n",
       "        vertical-align: middle;\n",
       "    }\n",
       "\n",
       "    .dataframe tbody tr th {\n",
       "        vertical-align: top;\n",
       "    }\n",
       "\n",
       "    .dataframe thead th {\n",
       "        text-align: right;\n",
       "    }\n",
       "</style>\n",
       "<table border=\"1\" class=\"dataframe\">\n",
       "  <thead>\n",
       "    <tr style=\"text-align: right;\">\n",
       "      <th></th>\n",
       "      <th></th>\n",
       "      <th>남자인구</th>\n",
       "      <th>여자인구</th>\n",
       "      <th>총인구</th>\n",
       "    </tr>\n",
       "    <tr>\n",
       "      <th>연도</th>\n",
       "      <th>도시</th>\n",
       "      <th></th>\n",
       "      <th></th>\n",
       "      <th></th>\n",
       "    </tr>\n",
       "  </thead>\n",
       "  <tbody>\n",
       "    <tr>\n",
       "      <th rowspan=\"2\" valign=\"top\">2013</th>\n",
       "      <th>부산</th>\n",
       "      <td>341</td>\n",
       "      <td>262</td>\n",
       "      <td>603</td>\n",
       "    </tr>\n",
       "    <tr>\n",
       "      <th>서울</th>\n",
       "      <td>758</td>\n",
       "      <td>769</td>\n",
       "      <td>1527</td>\n",
       "    </tr>\n",
       "    <tr>\n",
       "      <th rowspan=\"2\" valign=\"top\">2014</th>\n",
       "      <th>부산</th>\n",
       "      <td>314</td>\n",
       "      <td>369</td>\n",
       "      <td>683</td>\n",
       "    </tr>\n",
       "    <tr>\n",
       "      <th>서울</th>\n",
       "      <td>882</td>\n",
       "      <td>691</td>\n",
       "      <td>1573</td>\n",
       "    </tr>\n",
       "    <tr>\n",
       "      <th rowspan=\"2\" valign=\"top\">2015</th>\n",
       "      <th>부산</th>\n",
       "      <td>331</td>\n",
       "      <td>266</td>\n",
       "      <td>597</td>\n",
       "    </tr>\n",
       "    <tr>\n",
       "      <th>서울</th>\n",
       "      <td>541</td>\n",
       "      <td>710</td>\n",
       "      <td>1251</td>\n",
       "    </tr>\n",
       "    <tr>\n",
       "      <th rowspan=\"2\" valign=\"top\">2016</th>\n",
       "      <th>부산</th>\n",
       "      <td>276</td>\n",
       "      <td>376</td>\n",
       "      <td>652</td>\n",
       "    </tr>\n",
       "    <tr>\n",
       "      <th>서울</th>\n",
       "      <td>671</td>\n",
       "      <td>722</td>\n",
       "      <td>1393</td>\n",
       "    </tr>\n",
       "    <tr>\n",
       "      <th rowspan=\"2\" valign=\"top\">2017</th>\n",
       "      <th>부산</th>\n",
       "      <td>422</td>\n",
       "      <td>275</td>\n",
       "      <td>697</td>\n",
       "    </tr>\n",
       "    <tr>\n",
       "      <th>서울</th>\n",
       "      <td>641</td>\n",
       "      <td>790</td>\n",
       "      <td>1431</td>\n",
       "    </tr>\n",
       "  </tbody>\n",
       "</table>\n",
       "</div>"
      ],
      "text/plain": [
       "         남자인구  여자인구   총인구\n",
       "연도   도시                  \n",
       "2013 부산   341   262   603\n",
       "     서울   758   769  1527\n",
       "2014 부산   314   369   683\n",
       "     서울   882   691  1573\n",
       "2015 부산   331   266   597\n",
       "     서울   541   710  1251\n",
       "2016 부산   276   376   652\n",
       "     서울   671   722  1393\n",
       "2017 부산   422   275   697\n",
       "     서울   641   790  1431"
      ]
     },
     "execution_count": 83,
     "metadata": {},
     "output_type": "execute_result"
    }
   ],
   "source": [
    "pop_data.groupby(['연도', '도시']).sum()"
   ]
  },
  {
   "cell_type": "markdown",
   "id": "495d15f9",
   "metadata": {},
   "source": [
    "<br>\n",
    "\n",
    "- `'도시', '연도'`별 `'총인구'` 평균"
   ]
  },
  {
   "cell_type": "code",
   "execution_count": 84,
   "id": "bf7e17b2",
   "metadata": {},
   "outputs": [
    {
     "data": {
      "text/html": [
       "<div>\n",
       "<style scoped>\n",
       "    .dataframe tbody tr th:only-of-type {\n",
       "        vertical-align: middle;\n",
       "    }\n",
       "\n",
       "    .dataframe tbody tr th {\n",
       "        vertical-align: top;\n",
       "    }\n",
       "\n",
       "    .dataframe thead th {\n",
       "        text-align: right;\n",
       "    }\n",
       "</style>\n",
       "<table border=\"1\" class=\"dataframe\">\n",
       "  <thead>\n",
       "    <tr style=\"text-align: right;\">\n",
       "      <th></th>\n",
       "      <th></th>\n",
       "      <th>총인구</th>\n",
       "    </tr>\n",
       "    <tr>\n",
       "      <th>도시</th>\n",
       "      <th>연도</th>\n",
       "      <th></th>\n",
       "    </tr>\n",
       "  </thead>\n",
       "  <tbody>\n",
       "    <tr>\n",
       "      <th rowspan=\"5\" valign=\"top\">부산</th>\n",
       "      <th>2013</th>\n",
       "      <td>201.000000</td>\n",
       "    </tr>\n",
       "    <tr>\n",
       "      <th>2014</th>\n",
       "      <td>227.666667</td>\n",
       "    </tr>\n",
       "    <tr>\n",
       "      <th>2015</th>\n",
       "      <td>199.000000</td>\n",
       "    </tr>\n",
       "    <tr>\n",
       "      <th>2016</th>\n",
       "      <td>217.333333</td>\n",
       "    </tr>\n",
       "    <tr>\n",
       "      <th>2017</th>\n",
       "      <td>232.333333</td>\n",
       "    </tr>\n",
       "    <tr>\n",
       "      <th rowspan=\"5\" valign=\"top\">서울</th>\n",
       "      <th>2013</th>\n",
       "      <td>218.142857</td>\n",
       "    </tr>\n",
       "    <tr>\n",
       "      <th>2014</th>\n",
       "      <td>224.714286</td>\n",
       "    </tr>\n",
       "    <tr>\n",
       "      <th>2015</th>\n",
       "      <td>178.714286</td>\n",
       "    </tr>\n",
       "    <tr>\n",
       "      <th>2016</th>\n",
       "      <td>199.000000</td>\n",
       "    </tr>\n",
       "    <tr>\n",
       "      <th>2017</th>\n",
       "      <td>204.428571</td>\n",
       "    </tr>\n",
       "  </tbody>\n",
       "</table>\n",
       "</div>"
      ],
      "text/plain": [
       "                총인구\n",
       "도시 연도              \n",
       "부산 2013  201.000000\n",
       "   2014  227.666667\n",
       "   2015  199.000000\n",
       "   2016  217.333333\n",
       "   2017  232.333333\n",
       "서울 2013  218.142857\n",
       "   2014  224.714286\n",
       "   2015  178.714286\n",
       "   2016  199.000000\n",
       "   2017  204.428571"
      ]
     },
     "execution_count": 84,
     "metadata": {},
     "output_type": "execute_result"
    }
   ],
   "source": [
    "pop_data.groupby(['도시', '연도'])[['총인구']].mean()"
   ]
  },
  {
   "cell_type": "markdown",
   "id": "fa12b7e5",
   "metadata": {},
   "source": [
    "<br>\n",
    "\n",
    "- 데이터 파악에 쉽게 row index `unstack()`: 가장 낮은 `row label index`를 `column index`로"
   ]
  },
  {
   "cell_type": "code",
   "execution_count": 85,
   "id": "d287be1d",
   "metadata": {},
   "outputs": [
    {
     "data": {
      "text/html": [
       "<div>\n",
       "<style scoped>\n",
       "    .dataframe tbody tr th:only-of-type {\n",
       "        vertical-align: middle;\n",
       "    }\n",
       "\n",
       "    .dataframe tbody tr th {\n",
       "        vertical-align: top;\n",
       "    }\n",
       "\n",
       "    .dataframe thead tr th {\n",
       "        text-align: left;\n",
       "    }\n",
       "\n",
       "    .dataframe thead tr:last-of-type th {\n",
       "        text-align: right;\n",
       "    }\n",
       "</style>\n",
       "<table border=\"1\" class=\"dataframe\">\n",
       "  <thead>\n",
       "    <tr>\n",
       "      <th></th>\n",
       "      <th colspan=\"5\" halign=\"left\">총인구</th>\n",
       "    </tr>\n",
       "    <tr>\n",
       "      <th>연도</th>\n",
       "      <th>2013</th>\n",
       "      <th>2014</th>\n",
       "      <th>2015</th>\n",
       "      <th>2016</th>\n",
       "      <th>2017</th>\n",
       "    </tr>\n",
       "    <tr>\n",
       "      <th>도시</th>\n",
       "      <th></th>\n",
       "      <th></th>\n",
       "      <th></th>\n",
       "      <th></th>\n",
       "      <th></th>\n",
       "    </tr>\n",
       "  </thead>\n",
       "  <tbody>\n",
       "    <tr>\n",
       "      <th>부산</th>\n",
       "      <td>201.000000</td>\n",
       "      <td>227.666667</td>\n",
       "      <td>199.000000</td>\n",
       "      <td>217.333333</td>\n",
       "      <td>232.333333</td>\n",
       "    </tr>\n",
       "    <tr>\n",
       "      <th>서울</th>\n",
       "      <td>218.142857</td>\n",
       "      <td>224.714286</td>\n",
       "      <td>178.714286</td>\n",
       "      <td>199.000000</td>\n",
       "      <td>204.428571</td>\n",
       "    </tr>\n",
       "  </tbody>\n",
       "</table>\n",
       "</div>"
      ],
      "text/plain": [
       "           총인구                                                \n",
       "연도        2013        2014        2015        2016        2017\n",
       "도시                                                            \n",
       "부산  201.000000  227.666667  199.000000  217.333333  232.333333\n",
       "서울  218.142857  224.714286  178.714286  199.000000  204.428571"
      ]
     },
     "execution_count": 85,
     "metadata": {},
     "output_type": "execute_result"
    }
   ],
   "source": [
    "pop_data.groupby(['도시', '연도'])[['총인구']].mean().unstack()"
   ]
  },
  {
   "cell_type": "markdown",
   "id": "47e916fa",
   "metadata": {},
   "source": [
    "<br>\n",
    "\n",
    "- `'도시'` row label index `unstack()`: MultiIndex의 0번째 index 올림: `unstack(0)`"
   ]
  },
  {
   "cell_type": "code",
   "execution_count": 86,
   "id": "01550552",
   "metadata": {},
   "outputs": [
    {
     "data": {
      "text/html": [
       "<div>\n",
       "<style scoped>\n",
       "    .dataframe tbody tr th:only-of-type {\n",
       "        vertical-align: middle;\n",
       "    }\n",
       "\n",
       "    .dataframe tbody tr th {\n",
       "        vertical-align: top;\n",
       "    }\n",
       "\n",
       "    .dataframe thead tr th {\n",
       "        text-align: left;\n",
       "    }\n",
       "\n",
       "    .dataframe thead tr:last-of-type th {\n",
       "        text-align: right;\n",
       "    }\n",
       "</style>\n",
       "<table border=\"1\" class=\"dataframe\">\n",
       "  <thead>\n",
       "    <tr>\n",
       "      <th></th>\n",
       "      <th colspan=\"2\" halign=\"left\">총인구</th>\n",
       "    </tr>\n",
       "    <tr>\n",
       "      <th>도시</th>\n",
       "      <th>부산</th>\n",
       "      <th>서울</th>\n",
       "    </tr>\n",
       "    <tr>\n",
       "      <th>연도</th>\n",
       "      <th></th>\n",
       "      <th></th>\n",
       "    </tr>\n",
       "  </thead>\n",
       "  <tbody>\n",
       "    <tr>\n",
       "      <th>2013</th>\n",
       "      <td>201.000000</td>\n",
       "      <td>218.142857</td>\n",
       "    </tr>\n",
       "    <tr>\n",
       "      <th>2014</th>\n",
       "      <td>227.666667</td>\n",
       "      <td>224.714286</td>\n",
       "    </tr>\n",
       "    <tr>\n",
       "      <th>2015</th>\n",
       "      <td>199.000000</td>\n",
       "      <td>178.714286</td>\n",
       "    </tr>\n",
       "    <tr>\n",
       "      <th>2016</th>\n",
       "      <td>217.333333</td>\n",
       "      <td>199.000000</td>\n",
       "    </tr>\n",
       "    <tr>\n",
       "      <th>2017</th>\n",
       "      <td>232.333333</td>\n",
       "      <td>204.428571</td>\n",
       "    </tr>\n",
       "  </tbody>\n",
       "</table>\n",
       "</div>"
      ],
      "text/plain": [
       "             총인구            \n",
       "도시            부산          서울\n",
       "연도                          \n",
       "2013  201.000000  218.142857\n",
       "2014  227.666667  224.714286\n",
       "2015  199.000000  178.714286\n",
       "2016  217.333333  199.000000\n",
       "2017  232.333333  204.428571"
      ]
     },
     "execution_count": 86,
     "metadata": {},
     "output_type": "execute_result"
    }
   ],
   "source": [
    "pop_data.groupby(['도시', '연도'])[['총인구']].mean().unstack(0)"
   ]
  },
  {
   "cell_type": "markdown",
   "id": "d98058b5",
   "metadata": {},
   "source": [
    "<br>\n",
    "\n",
    "## 6.통계\n",
    "\n",
    "- 주요 통계 함수\n",
    "\n",
    "    - `obj.value_count()`: 각 고유값의 중복개수\n",
    "\n",
    "    - `obj.count()`: NaN 값을 제외한 값의 개수\n",
    "\n",
    "    - `obj.describe()`: 각 컬럼에 대한 **기술통계-요약통계** 계산(count, mean, std, min, 1사분위수, 중위값, 3사분위수, max)\n",
    "    \n",
    "    - `obj.min()`, `obj.max()`: 최소, 최대 값\n",
    "    \n",
    "    - `obj.sum()`: 총 합\n",
    "    \n",
    "    - `obj.cumsum()`: 누적합\n",
    "    \n",
    "    - `obj.mean()`: 평균\n",
    "    \n",
    "    - `obj.median()`: 중위값, 전체 데이터를 나열 했을 때 중간에 위치한 값\n",
    "    \n",
    "    - `obj.var()`: 분산, $\\sigma^2$, 데이터가 전체적으로 흩어진 정도, 편차제곱의 평균\n",
    "    \n",
    "    - `obj.std()`: 표준편차, 분산의 양의 제곱근: $\\sigma$\n",
    "    \n",
    "- 주요 parameter\n",
    "\n",
    "    - `axis`: 연산의 기준이 되는 축, default:`axis=0` > 행의 축 방향($\\downarrow$), `axis=1` > 열의 축 방향($\\rightarrow$)\n",
    "    \n",
    "    - `skipna`: NaN 값을 제외할지 여부를 설정, default:`skipna=True`"
   ]
  },
  {
   "cell_type": "code",
   "execution_count": 87,
   "id": "73cb245a",
   "metadata": {},
   "outputs": [
    {
     "data": {
      "text/html": [
       "<div>\n",
       "<style scoped>\n",
       "    .dataframe tbody tr th:only-of-type {\n",
       "        vertical-align: middle;\n",
       "    }\n",
       "\n",
       "    .dataframe tbody tr th {\n",
       "        vertical-align: top;\n",
       "    }\n",
       "\n",
       "    .dataframe thead tr th {\n",
       "        text-align: left;\n",
       "    }\n",
       "\n",
       "    .dataframe thead tr:last-of-type th {\n",
       "        text-align: right;\n",
       "    }\n",
       "</style>\n",
       "<table border=\"1\" class=\"dataframe\">\n",
       "  <thead>\n",
       "    <tr>\n",
       "      <th>연도</th>\n",
       "      <th colspan=\"2\" halign=\"left\">2016</th>\n",
       "      <th colspan=\"2\" halign=\"left\">2017</th>\n",
       "    </tr>\n",
       "    <tr>\n",
       "      <th>과목</th>\n",
       "      <th>영어</th>\n",
       "      <th>수학</th>\n",
       "      <th>영어</th>\n",
       "      <th>수학</th>\n",
       "    </tr>\n",
       "    <tr>\n",
       "      <th>학생명</th>\n",
       "      <th></th>\n",
       "      <th></th>\n",
       "      <th></th>\n",
       "      <th></th>\n",
       "    </tr>\n",
       "  </thead>\n",
       "  <tbody>\n",
       "    <tr>\n",
       "      <th>Kim</th>\n",
       "      <td>59</td>\n",
       "      <td>54</td>\n",
       "      <td>53</td>\n",
       "      <td>54</td>\n",
       "    </tr>\n",
       "    <tr>\n",
       "      <th>Park</th>\n",
       "      <td>89</td>\n",
       "      <td>56</td>\n",
       "      <td>90</td>\n",
       "      <td>82</td>\n",
       "    </tr>\n",
       "    <tr>\n",
       "      <th>Lee</th>\n",
       "      <td>53</td>\n",
       "      <td>93</td>\n",
       "      <td>72</td>\n",
       "      <td>94</td>\n",
       "    </tr>\n",
       "    <tr>\n",
       "      <th>Jung</th>\n",
       "      <td>92</td>\n",
       "      <td>67</td>\n",
       "      <td>77</td>\n",
       "      <td>83</td>\n",
       "    </tr>\n",
       "    <tr>\n",
       "      <th>Moon</th>\n",
       "      <td>93</td>\n",
       "      <td>72</td>\n",
       "      <td>65</td>\n",
       "      <td>63</td>\n",
       "    </tr>\n",
       "  </tbody>\n",
       "</table>\n",
       "</div>"
      ],
      "text/plain": [
       "연도   2016     2017    \n",
       "과목     영어  수학   영어  수학\n",
       "학생명                   \n",
       "Kim    59  54   53  54\n",
       "Park   89  56   90  82\n",
       "Lee    53  93   72  94\n",
       "Jung   92  67   77  83\n",
       "Moon   93  72   65  63"
      ]
     },
     "execution_count": 87,
     "metadata": {},
     "output_type": "execute_result"
    }
   ],
   "source": [
    "my_index = pd.Index(['Kim', 'Park', 'Lee', 'Jung', 'Moon'], name='학생명')\n",
    "my_columns = pd.MultiIndex.from_product([[2016, 2017], ['영어', '수학']],\n",
    "                                       names=['연도', '과목'])\n",
    "\n",
    "df_score = pd.DataFrame(np.random.randint(50, 100, (5, 4)),\n",
    "                  index=my_index, columns=my_columns)\n",
    "df_score"
   ]
  },
  {
   "cell_type": "markdown",
   "id": "7ab18b1e",
   "metadata": {},
   "source": [
    "<br>\n",
    "\n",
    "1. `obj.describe()`: 기술통계-요약통계"
   ]
  },
  {
   "cell_type": "code",
   "execution_count": 88,
   "id": "578b771e",
   "metadata": {},
   "outputs": [
    {
     "data": {
      "text/html": [
       "<div>\n",
       "<style scoped>\n",
       "    .dataframe tbody tr th:only-of-type {\n",
       "        vertical-align: middle;\n",
       "    }\n",
       "\n",
       "    .dataframe tbody tr th {\n",
       "        vertical-align: top;\n",
       "    }\n",
       "\n",
       "    .dataframe thead tr th {\n",
       "        text-align: left;\n",
       "    }\n",
       "</style>\n",
       "<table border=\"1\" class=\"dataframe\">\n",
       "  <thead>\n",
       "    <tr>\n",
       "      <th>연도</th>\n",
       "      <th colspan=\"2\" halign=\"left\">2016</th>\n",
       "      <th colspan=\"2\" halign=\"left\">2017</th>\n",
       "    </tr>\n",
       "    <tr>\n",
       "      <th>과목</th>\n",
       "      <th>영어</th>\n",
       "      <th>수학</th>\n",
       "      <th>영어</th>\n",
       "      <th>수학</th>\n",
       "    </tr>\n",
       "  </thead>\n",
       "  <tbody>\n",
       "    <tr>\n",
       "      <th>count</th>\n",
       "      <td>5.000000</td>\n",
       "      <td>5.000000</td>\n",
       "      <td>5.000000</td>\n",
       "      <td>5.000000</td>\n",
       "    </tr>\n",
       "    <tr>\n",
       "      <th>mean</th>\n",
       "      <td>77.200000</td>\n",
       "      <td>68.400000</td>\n",
       "      <td>71.400000</td>\n",
       "      <td>75.200000</td>\n",
       "    </tr>\n",
       "    <tr>\n",
       "      <th>std</th>\n",
       "      <td>19.524344</td>\n",
       "      <td>15.662056</td>\n",
       "      <td>13.758634</td>\n",
       "      <td>16.269604</td>\n",
       "    </tr>\n",
       "    <tr>\n",
       "      <th>min</th>\n",
       "      <td>53.000000</td>\n",
       "      <td>54.000000</td>\n",
       "      <td>53.000000</td>\n",
       "      <td>54.000000</td>\n",
       "    </tr>\n",
       "    <tr>\n",
       "      <th>25%</th>\n",
       "      <td>59.000000</td>\n",
       "      <td>56.000000</td>\n",
       "      <td>65.000000</td>\n",
       "      <td>63.000000</td>\n",
       "    </tr>\n",
       "    <tr>\n",
       "      <th>50%</th>\n",
       "      <td>89.000000</td>\n",
       "      <td>67.000000</td>\n",
       "      <td>72.000000</td>\n",
       "      <td>82.000000</td>\n",
       "    </tr>\n",
       "    <tr>\n",
       "      <th>75%</th>\n",
       "      <td>92.000000</td>\n",
       "      <td>72.000000</td>\n",
       "      <td>77.000000</td>\n",
       "      <td>83.000000</td>\n",
       "    </tr>\n",
       "    <tr>\n",
       "      <th>max</th>\n",
       "      <td>93.000000</td>\n",
       "      <td>93.000000</td>\n",
       "      <td>90.000000</td>\n",
       "      <td>94.000000</td>\n",
       "    </tr>\n",
       "  </tbody>\n",
       "</table>\n",
       "</div>"
      ],
      "text/plain": [
       "연도          2016                  2017           \n",
       "과목            영어         수학         영어         수학\n",
       "count   5.000000   5.000000   5.000000   5.000000\n",
       "mean   77.200000  68.400000  71.400000  75.200000\n",
       "std    19.524344  15.662056  13.758634  16.269604\n",
       "min    53.000000  54.000000  53.000000  54.000000\n",
       "25%    59.000000  56.000000  65.000000  63.000000\n",
       "50%    89.000000  67.000000  72.000000  82.000000\n",
       "75%    92.000000  72.000000  77.000000  83.000000\n",
       "max    93.000000  93.000000  90.000000  94.000000"
      ]
     },
     "execution_count": 88,
     "metadata": {},
     "output_type": "execute_result"
    }
   ],
   "source": [
    "df_score.describe()"
   ]
  },
  {
   "cell_type": "markdown",
   "id": "91f868fa",
   "metadata": {},
   "source": [
    "<br>\n",
    "\n",
    "- `'2017'` column index만 분리해서 저장"
   ]
  },
  {
   "cell_type": "code",
   "execution_count": 89,
   "id": "66ff5cfc",
   "metadata": {},
   "outputs": [
    {
     "data": {
      "text/html": [
       "<div>\n",
       "<style scoped>\n",
       "    .dataframe tbody tr th:only-of-type {\n",
       "        vertical-align: middle;\n",
       "    }\n",
       "\n",
       "    .dataframe tbody tr th {\n",
       "        vertical-align: top;\n",
       "    }\n",
       "\n",
       "    .dataframe thead tr th {\n",
       "        text-align: left;\n",
       "    }\n",
       "\n",
       "    .dataframe thead tr:last-of-type th {\n",
       "        text-align: right;\n",
       "    }\n",
       "</style>\n",
       "<table border=\"1\" class=\"dataframe\">\n",
       "  <thead>\n",
       "    <tr>\n",
       "      <th>연도</th>\n",
       "      <th colspan=\"2\" halign=\"left\">2017</th>\n",
       "    </tr>\n",
       "    <tr>\n",
       "      <th>과목</th>\n",
       "      <th>영어</th>\n",
       "      <th>수학</th>\n",
       "    </tr>\n",
       "    <tr>\n",
       "      <th>학생명</th>\n",
       "      <th></th>\n",
       "      <th></th>\n",
       "    </tr>\n",
       "  </thead>\n",
       "  <tbody>\n",
       "    <tr>\n",
       "      <th>Kim</th>\n",
       "      <td>53</td>\n",
       "      <td>54</td>\n",
       "    </tr>\n",
       "    <tr>\n",
       "      <th>Park</th>\n",
       "      <td>90</td>\n",
       "      <td>82</td>\n",
       "    </tr>\n",
       "    <tr>\n",
       "      <th>Lee</th>\n",
       "      <td>72</td>\n",
       "      <td>94</td>\n",
       "    </tr>\n",
       "    <tr>\n",
       "      <th>Jung</th>\n",
       "      <td>77</td>\n",
       "      <td>83</td>\n",
       "    </tr>\n",
       "    <tr>\n",
       "      <th>Moon</th>\n",
       "      <td>65</td>\n",
       "      <td>63</td>\n",
       "    </tr>\n",
       "  </tbody>\n",
       "</table>\n",
       "</div>"
      ],
      "text/plain": [
       "연도   2017    \n",
       "과목     영어  수학\n",
       "학생명          \n",
       "Kim    53  54\n",
       "Park   90  82\n",
       "Lee    72  94\n",
       "Jung   77  83\n",
       "Moon   65  63"
      ]
     },
     "execution_count": 89,
     "metadata": {},
     "output_type": "execute_result"
    }
   ],
   "source": [
    "df_2017 = df_score[[2017]].copy()\n",
    "\n",
    "df_2017"
   ]
  },
  {
   "cell_type": "code",
   "execution_count": 90,
   "id": "713ed99b",
   "metadata": {},
   "outputs": [
    {
     "data": {
      "text/plain": [
       "(5, 2)"
      ]
     },
     "execution_count": 90,
     "metadata": {},
     "output_type": "execute_result"
    }
   ],
   "source": [
    "df_2017.shape"
   ]
  },
  {
   "cell_type": "markdown",
   "id": "040fcaf3",
   "metadata": {},
   "source": [
    "<br>\n",
    "\n",
    "2. `obj.count()`: `NaN`을 제외한 data의 개수\n",
    "\n",
    "- 축 기준 설정: default: `axis=0`:행의 축 방향, 열별 행 개수\n",
    "\n",
    "    - `axis=1`: 열의 축 방향, 행별 열 개수"
   ]
  },
  {
   "cell_type": "code",
   "execution_count": 91,
   "id": "aa206fe1",
   "metadata": {
    "scrolled": true
   },
   "outputs": [
    {
     "data": {
      "text/plain": [
       "연도    과목\n",
       "2017  영어    5\n",
       "      수학    5\n",
       "dtype: int64"
      ]
     },
     "execution_count": 91,
     "metadata": {},
     "output_type": "execute_result"
    }
   ],
   "source": [
    "df_2017.count()"
   ]
  },
  {
   "cell_type": "code",
   "execution_count": 92,
   "id": "56b93163",
   "metadata": {},
   "outputs": [
    {
     "data": {
      "text/plain": [
       "학생명\n",
       "Kim     2\n",
       "Park    2\n",
       "Lee     2\n",
       "Jung    2\n",
       "Moon    2\n",
       "dtype: int64"
      ]
     },
     "execution_count": 92,
     "metadata": {},
     "output_type": "execute_result"
    }
   ],
   "source": [
    "df_2017.count(axis=1)"
   ]
  },
  {
   "cell_type": "markdown",
   "id": "149658a6",
   "metadata": {},
   "source": [
    "<br>\n",
    "\n",
    "- 엑셀 데이터(`.xlsx`) Loading"
   ]
  },
  {
   "cell_type": "code",
   "execution_count": 93,
   "id": "57c8adf9",
   "metadata": {},
   "outputs": [
    {
     "data": {
      "text/html": [
       "<div>\n",
       "<style scoped>\n",
       "    .dataframe tbody tr th:only-of-type {\n",
       "        vertical-align: middle;\n",
       "    }\n",
       "\n",
       "    .dataframe tbody tr th {\n",
       "        vertical-align: top;\n",
       "    }\n",
       "\n",
       "    .dataframe thead th {\n",
       "        text-align: right;\n",
       "    }\n",
       "</style>\n",
       "<table border=\"1\" class=\"dataframe\">\n",
       "  <thead>\n",
       "    <tr style=\"text-align: right;\">\n",
       "      <th></th>\n",
       "      <th>도시</th>\n",
       "      <th>자치구</th>\n",
       "      <th>연도</th>\n",
       "      <th>남자인구</th>\n",
       "      <th>여자인구</th>\n",
       "      <th>총인구</th>\n",
       "    </tr>\n",
       "  </thead>\n",
       "  <tbody>\n",
       "    <tr>\n",
       "      <th>0</th>\n",
       "      <td>서울</td>\n",
       "      <td>강남구</td>\n",
       "      <td>2013</td>\n",
       "      <td>73</td>\n",
       "      <td>92</td>\n",
       "      <td>165</td>\n",
       "    </tr>\n",
       "    <tr>\n",
       "      <th>1</th>\n",
       "      <td>서울</td>\n",
       "      <td>강남구</td>\n",
       "      <td>2014</td>\n",
       "      <td>139</td>\n",
       "      <td>55</td>\n",
       "      <td>194</td>\n",
       "    </tr>\n",
       "    <tr>\n",
       "      <th>2</th>\n",
       "      <td>서울</td>\n",
       "      <td>강남구</td>\n",
       "      <td>2015</td>\n",
       "      <td>123</td>\n",
       "      <td>83</td>\n",
       "      <td>206</td>\n",
       "    </tr>\n",
       "    <tr>\n",
       "      <th>3</th>\n",
       "      <td>서울</td>\n",
       "      <td>강남구</td>\n",
       "      <td>2016</td>\n",
       "      <td>147</td>\n",
       "      <td>150</td>\n",
       "      <td>297</td>\n",
       "    </tr>\n",
       "    <tr>\n",
       "      <th>4</th>\n",
       "      <td>서울</td>\n",
       "      <td>강남구</td>\n",
       "      <td>2017</td>\n",
       "      <td>57</td>\n",
       "      <td>133</td>\n",
       "      <td>190</td>\n",
       "    </tr>\n",
       "    <tr>\n",
       "      <th>5</th>\n",
       "      <td>서울</td>\n",
       "      <td>서대문구</td>\n",
       "      <td>2013</td>\n",
       "      <td>95</td>\n",
       "      <td>111</td>\n",
       "      <td>206</td>\n",
       "    </tr>\n",
       "    <tr>\n",
       "      <th>6</th>\n",
       "      <td>서울</td>\n",
       "      <td>서대문구</td>\n",
       "      <td>2014</td>\n",
       "      <td>149</td>\n",
       "      <td>150</td>\n",
       "      <td>299</td>\n",
       "    </tr>\n",
       "    <tr>\n",
       "      <th>7</th>\n",
       "      <td>서울</td>\n",
       "      <td>서대문구</td>\n",
       "      <td>2015</td>\n",
       "      <td>106</td>\n",
       "      <td>77</td>\n",
       "      <td>183</td>\n",
       "    </tr>\n",
       "    <tr>\n",
       "      <th>8</th>\n",
       "      <td>서울</td>\n",
       "      <td>서대문구</td>\n",
       "      <td>2016</td>\n",
       "      <td>56</td>\n",
       "      <td>109</td>\n",
       "      <td>165</td>\n",
       "    </tr>\n",
       "    <tr>\n",
       "      <th>9</th>\n",
       "      <td>서울</td>\n",
       "      <td>서대문구</td>\n",
       "      <td>2017</td>\n",
       "      <td>82</td>\n",
       "      <td>96</td>\n",
       "      <td>178</td>\n",
       "    </tr>\n",
       "    <tr>\n",
       "      <th>10</th>\n",
       "      <td>서울</td>\n",
       "      <td>종로구</td>\n",
       "      <td>2013</td>\n",
       "      <td>121</td>\n",
       "      <td>68</td>\n",
       "      <td>189</td>\n",
       "    </tr>\n",
       "    <tr>\n",
       "      <th>11</th>\n",
       "      <td>서울</td>\n",
       "      <td>종로구</td>\n",
       "      <td>2014</td>\n",
       "      <td>107</td>\n",
       "      <td>55</td>\n",
       "      <td>162</td>\n",
       "    </tr>\n",
       "    <tr>\n",
       "      <th>12</th>\n",
       "      <td>서울</td>\n",
       "      <td>종로구</td>\n",
       "      <td>2015</td>\n",
       "      <td>50</td>\n",
       "      <td>79</td>\n",
       "      <td>129</td>\n",
       "    </tr>\n",
       "    <tr>\n",
       "      <th>13</th>\n",
       "      <td>서울</td>\n",
       "      <td>종로구</td>\n",
       "      <td>2016</td>\n",
       "      <td>100</td>\n",
       "      <td>80</td>\n",
       "      <td>180</td>\n",
       "    </tr>\n",
       "    <tr>\n",
       "      <th>14</th>\n",
       "      <td>서울</td>\n",
       "      <td>종로구</td>\n",
       "      <td>2017</td>\n",
       "      <td>105</td>\n",
       "      <td>91</td>\n",
       "      <td>196</td>\n",
       "    </tr>\n",
       "    <tr>\n",
       "      <th>15</th>\n",
       "      <td>서울</td>\n",
       "      <td>영등포구</td>\n",
       "      <td>2013</td>\n",
       "      <td>146</td>\n",
       "      <td>113</td>\n",
       "      <td>259</td>\n",
       "    </tr>\n",
       "    <tr>\n",
       "      <th>16</th>\n",
       "      <td>서울</td>\n",
       "      <td>영등포구</td>\n",
       "      <td>2014</td>\n",
       "      <td>127</td>\n",
       "      <td>117</td>\n",
       "      <td>244</td>\n",
       "    </tr>\n",
       "    <tr>\n",
       "      <th>17</th>\n",
       "      <td>서울</td>\n",
       "      <td>영등포구</td>\n",
       "      <td>2015</td>\n",
       "      <td>70</td>\n",
       "      <td>72</td>\n",
       "      <td>142</td>\n",
       "    </tr>\n",
       "    <tr>\n",
       "      <th>18</th>\n",
       "      <td>서울</td>\n",
       "      <td>영등포구</td>\n",
       "      <td>2016</td>\n",
       "      <td>141</td>\n",
       "      <td>136</td>\n",
       "      <td>277</td>\n",
       "    </tr>\n",
       "    <tr>\n",
       "      <th>19</th>\n",
       "      <td>서울</td>\n",
       "      <td>영등포구</td>\n",
       "      <td>2017</td>\n",
       "      <td>145</td>\n",
       "      <td>124</td>\n",
       "      <td>269</td>\n",
       "    </tr>\n",
       "    <tr>\n",
       "      <th>20</th>\n",
       "      <td>서울</td>\n",
       "      <td>송파구</td>\n",
       "      <td>2013</td>\n",
       "      <td>90</td>\n",
       "      <td>130</td>\n",
       "      <td>220</td>\n",
       "    </tr>\n",
       "    <tr>\n",
       "      <th>21</th>\n",
       "      <td>서울</td>\n",
       "      <td>송파구</td>\n",
       "      <td>2014</td>\n",
       "      <td>121</td>\n",
       "      <td>66</td>\n",
       "      <td>187</td>\n",
       "    </tr>\n",
       "    <tr>\n",
       "      <th>22</th>\n",
       "      <td>서울</td>\n",
       "      <td>송파구</td>\n",
       "      <td>2015</td>\n",
       "      <td>62</td>\n",
       "      <td>121</td>\n",
       "      <td>183</td>\n",
       "    </tr>\n",
       "    <tr>\n",
       "      <th>23</th>\n",
       "      <td>서울</td>\n",
       "      <td>송파구</td>\n",
       "      <td>2016</td>\n",
       "      <td>80</td>\n",
       "      <td>92</td>\n",
       "      <td>172</td>\n",
       "    </tr>\n",
       "    <tr>\n",
       "      <th>24</th>\n",
       "      <td>서울</td>\n",
       "      <td>송파구</td>\n",
       "      <td>2017</td>\n",
       "      <td>62</td>\n",
       "      <td>150</td>\n",
       "      <td>212</td>\n",
       "    </tr>\n",
       "    <tr>\n",
       "      <th>25</th>\n",
       "      <td>서울</td>\n",
       "      <td>도봉구</td>\n",
       "      <td>2013</td>\n",
       "      <td>113</td>\n",
       "      <td>138</td>\n",
       "      <td>251</td>\n",
       "    </tr>\n",
       "    <tr>\n",
       "      <th>26</th>\n",
       "      <td>서울</td>\n",
       "      <td>도봉구</td>\n",
       "      <td>2014</td>\n",
       "      <td>145</td>\n",
       "      <td>140</td>\n",
       "      <td>285</td>\n",
       "    </tr>\n",
       "    <tr>\n",
       "      <th>27</th>\n",
       "      <td>서울</td>\n",
       "      <td>도봉구</td>\n",
       "      <td>2015</td>\n",
       "      <td>56</td>\n",
       "      <td>139</td>\n",
       "      <td>195</td>\n",
       "    </tr>\n",
       "    <tr>\n",
       "      <th>28</th>\n",
       "      <td>서울</td>\n",
       "      <td>도봉구</td>\n",
       "      <td>2016</td>\n",
       "      <td>60</td>\n",
       "      <td>71</td>\n",
       "      <td>131</td>\n",
       "    </tr>\n",
       "    <tr>\n",
       "      <th>29</th>\n",
       "      <td>서울</td>\n",
       "      <td>도봉구</td>\n",
       "      <td>2017</td>\n",
       "      <td>111</td>\n",
       "      <td>62</td>\n",
       "      <td>173</td>\n",
       "    </tr>\n",
       "    <tr>\n",
       "      <th>30</th>\n",
       "      <td>서울</td>\n",
       "      <td>동작구</td>\n",
       "      <td>2013</td>\n",
       "      <td>120</td>\n",
       "      <td>117</td>\n",
       "      <td>237</td>\n",
       "    </tr>\n",
       "    <tr>\n",
       "      <th>31</th>\n",
       "      <td>서울</td>\n",
       "      <td>동작구</td>\n",
       "      <td>2014</td>\n",
       "      <td>94</td>\n",
       "      <td>108</td>\n",
       "      <td>202</td>\n",
       "    </tr>\n",
       "    <tr>\n",
       "      <th>32</th>\n",
       "      <td>서울</td>\n",
       "      <td>동작구</td>\n",
       "      <td>2015</td>\n",
       "      <td>74</td>\n",
       "      <td>139</td>\n",
       "      <td>213</td>\n",
       "    </tr>\n",
       "    <tr>\n",
       "      <th>33</th>\n",
       "      <td>서울</td>\n",
       "      <td>동작구</td>\n",
       "      <td>2016</td>\n",
       "      <td>87</td>\n",
       "      <td>84</td>\n",
       "      <td>171</td>\n",
       "    </tr>\n",
       "    <tr>\n",
       "      <th>34</th>\n",
       "      <td>서울</td>\n",
       "      <td>동작구</td>\n",
       "      <td>2017</td>\n",
       "      <td>79</td>\n",
       "      <td>134</td>\n",
       "      <td>213</td>\n",
       "    </tr>\n",
       "    <tr>\n",
       "      <th>35</th>\n",
       "      <td>부산</td>\n",
       "      <td>해운대구</td>\n",
       "      <td>2013</td>\n",
       "      <td>124</td>\n",
       "      <td>103</td>\n",
       "      <td>227</td>\n",
       "    </tr>\n",
       "    <tr>\n",
       "      <th>36</th>\n",
       "      <td>부산</td>\n",
       "      <td>해운대구</td>\n",
       "      <td>2014</td>\n",
       "      <td>101</td>\n",
       "      <td>144</td>\n",
       "      <td>245</td>\n",
       "    </tr>\n",
       "    <tr>\n",
       "      <th>37</th>\n",
       "      <td>부산</td>\n",
       "      <td>해운대구</td>\n",
       "      <td>2015</td>\n",
       "      <td>115</td>\n",
       "      <td>70</td>\n",
       "      <td>185</td>\n",
       "    </tr>\n",
       "    <tr>\n",
       "      <th>38</th>\n",
       "      <td>부산</td>\n",
       "      <td>해운대구</td>\n",
       "      <td>2016</td>\n",
       "      <td>134</td>\n",
       "      <td>126</td>\n",
       "      <td>260</td>\n",
       "    </tr>\n",
       "    <tr>\n",
       "      <th>39</th>\n",
       "      <td>부산</td>\n",
       "      <td>해운대구</td>\n",
       "      <td>2017</td>\n",
       "      <td>146</td>\n",
       "      <td>72</td>\n",
       "      <td>218</td>\n",
       "    </tr>\n",
       "    <tr>\n",
       "      <th>40</th>\n",
       "      <td>부산</td>\n",
       "      <td>수영구</td>\n",
       "      <td>2013</td>\n",
       "      <td>134</td>\n",
       "      <td>94</td>\n",
       "      <td>228</td>\n",
       "    </tr>\n",
       "    <tr>\n",
       "      <th>41</th>\n",
       "      <td>부산</td>\n",
       "      <td>수영구</td>\n",
       "      <td>2014</td>\n",
       "      <td>74</td>\n",
       "      <td>138</td>\n",
       "      <td>212</td>\n",
       "    </tr>\n",
       "    <tr>\n",
       "      <th>42</th>\n",
       "      <td>부산</td>\n",
       "      <td>수영구</td>\n",
       "      <td>2015</td>\n",
       "      <td>69</td>\n",
       "      <td>81</td>\n",
       "      <td>150</td>\n",
       "    </tr>\n",
       "    <tr>\n",
       "      <th>43</th>\n",
       "      <td>부산</td>\n",
       "      <td>수영구</td>\n",
       "      <td>2016</td>\n",
       "      <td>81</td>\n",
       "      <td>148</td>\n",
       "      <td>229</td>\n",
       "    </tr>\n",
       "    <tr>\n",
       "      <th>44</th>\n",
       "      <td>부산</td>\n",
       "      <td>수영구</td>\n",
       "      <td>2017</td>\n",
       "      <td>144</td>\n",
       "      <td>98</td>\n",
       "      <td>242</td>\n",
       "    </tr>\n",
       "    <tr>\n",
       "      <th>45</th>\n",
       "      <td>부산</td>\n",
       "      <td>동래구</td>\n",
       "      <td>2013</td>\n",
       "      <td>83</td>\n",
       "      <td>65</td>\n",
       "      <td>148</td>\n",
       "    </tr>\n",
       "    <tr>\n",
       "      <th>46</th>\n",
       "      <td>부산</td>\n",
       "      <td>동래구</td>\n",
       "      <td>2014</td>\n",
       "      <td>139</td>\n",
       "      <td>87</td>\n",
       "      <td>226</td>\n",
       "    </tr>\n",
       "    <tr>\n",
       "      <th>47</th>\n",
       "      <td>부산</td>\n",
       "      <td>동래구</td>\n",
       "      <td>2015</td>\n",
       "      <td>147</td>\n",
       "      <td>115</td>\n",
       "      <td>262</td>\n",
       "    </tr>\n",
       "    <tr>\n",
       "      <th>48</th>\n",
       "      <td>부산</td>\n",
       "      <td>동래구</td>\n",
       "      <td>2016</td>\n",
       "      <td>61</td>\n",
       "      <td>102</td>\n",
       "      <td>163</td>\n",
       "    </tr>\n",
       "    <tr>\n",
       "      <th>49</th>\n",
       "      <td>부산</td>\n",
       "      <td>동래구</td>\n",
       "      <td>2017</td>\n",
       "      <td>132</td>\n",
       "      <td>105</td>\n",
       "      <td>237</td>\n",
       "    </tr>\n",
       "  </tbody>\n",
       "</table>\n",
       "</div>"
      ],
      "text/plain": [
       "    도시   자치구    연도  남자인구  여자인구  총인구\n",
       "0   서울   강남구  2013    73    92  165\n",
       "1   서울   강남구  2014   139    55  194\n",
       "2   서울   강남구  2015   123    83  206\n",
       "3   서울   강남구  2016   147   150  297\n",
       "4   서울   강남구  2017    57   133  190\n",
       "5   서울  서대문구  2013    95   111  206\n",
       "6   서울  서대문구  2014   149   150  299\n",
       "7   서울  서대문구  2015   106    77  183\n",
       "8   서울  서대문구  2016    56   109  165\n",
       "9   서울  서대문구  2017    82    96  178\n",
       "10  서울   종로구  2013   121    68  189\n",
       "11  서울   종로구  2014   107    55  162\n",
       "12  서울   종로구  2015    50    79  129\n",
       "13  서울   종로구  2016   100    80  180\n",
       "14  서울   종로구  2017   105    91  196\n",
       "15  서울  영등포구  2013   146   113  259\n",
       "16  서울  영등포구  2014   127   117  244\n",
       "17  서울  영등포구  2015    70    72  142\n",
       "18  서울  영등포구  2016   141   136  277\n",
       "19  서울  영등포구  2017   145   124  269\n",
       "20  서울   송파구  2013    90   130  220\n",
       "21  서울   송파구  2014   121    66  187\n",
       "22  서울   송파구  2015    62   121  183\n",
       "23  서울   송파구  2016    80    92  172\n",
       "24  서울   송파구  2017    62   150  212\n",
       "25  서울   도봉구  2013   113   138  251\n",
       "26  서울   도봉구  2014   145   140  285\n",
       "27  서울   도봉구  2015    56   139  195\n",
       "28  서울   도봉구  2016    60    71  131\n",
       "29  서울   도봉구  2017   111    62  173\n",
       "30  서울   동작구  2013   120   117  237\n",
       "31  서울   동작구  2014    94   108  202\n",
       "32  서울   동작구  2015    74   139  213\n",
       "33  서울   동작구  2016    87    84  171\n",
       "34  서울   동작구  2017    79   134  213\n",
       "35  부산  해운대구  2013   124   103  227\n",
       "36  부산  해운대구  2014   101   144  245\n",
       "37  부산  해운대구  2015   115    70  185\n",
       "38  부산  해운대구  2016   134   126  260\n",
       "39  부산  해운대구  2017   146    72  218\n",
       "40  부산   수영구  2013   134    94  228\n",
       "41  부산   수영구  2014    74   138  212\n",
       "42  부산   수영구  2015    69    81  150\n",
       "43  부산   수영구  2016    81   148  229\n",
       "44  부산   수영구  2017   144    98  242\n",
       "45  부산   동래구  2013    83    65  148\n",
       "46  부산   동래구  2014   139    87  226\n",
       "47  부산   동래구  2015   147   115  262\n",
       "48  부산   동래구  2016    61   102  163\n",
       "49  부산   동래구  2017   132   105  237"
      ]
     },
     "execution_count": 93,
     "metadata": {},
     "output_type": "execute_result"
    }
   ],
   "source": [
    "pop_data = pd.read_excel('data/인구수예제.xlsx')\n",
    "\n",
    "pop_data"
   ]
  },
  {
   "cell_type": "markdown",
   "id": "bde17fcb",
   "metadata": {},
   "source": [
    "<br>\n",
    "\n",
    "3. `obj.value_counts()`: 범주형 데이터(문자열 등)에 대한 각 고유값의 개수"
   ]
  },
  {
   "cell_type": "code",
   "execution_count": 94,
   "id": "03ed6bbf",
   "metadata": {},
   "outputs": [
    {
     "data": {
      "text/plain": [
       "서울    35\n",
       "부산    15\n",
       "Name: 도시, dtype: int64"
      ]
     },
     "execution_count": 94,
     "metadata": {},
     "output_type": "execute_result"
    }
   ],
   "source": [
    "pop_data['도시'].value_counts()"
   ]
  },
  {
   "cell_type": "markdown",
   "id": "230b60bb",
   "metadata": {},
   "source": [
    "<br>\n",
    "\n",
    "4. `obj.sum()`: 해당 열, 행의 총합을 계산\n",
    "    \n",
    "    - default: `axis=0`: 행의 축 방향, column별 총합, `axis=1`: 열의 축 방향, row별 총합"
   ]
  },
  {
   "cell_type": "code",
   "execution_count": 95,
   "id": "85353015",
   "metadata": {},
   "outputs": [
    {
     "data": {
      "text/plain": [
       "연도    과목\n",
       "2017  영어    357\n",
       "      수학    376\n",
       "dtype: int64"
      ]
     },
     "execution_count": 95,
     "metadata": {},
     "output_type": "execute_result"
    }
   ],
   "source": [
    "# axis=0: 과목별 총합\n",
    "df_2017.sum()"
   ]
  },
  {
   "cell_type": "code",
   "execution_count": 96,
   "id": "987856ff",
   "metadata": {},
   "outputs": [
    {
     "data": {
      "text/plain": [
       "학생명\n",
       "Kim     107\n",
       "Park    172\n",
       "Lee     166\n",
       "Jung    160\n",
       "Moon    128\n",
       "dtype: int64"
      ]
     },
     "execution_count": 96,
     "metadata": {},
     "output_type": "execute_result"
    }
   ],
   "source": [
    "# axis=1: 학생별 총합\n",
    "df_2017.sum(axis=1)"
   ]
  },
  {
   "cell_type": "markdown",
   "id": "65b5d6bb",
   "metadata": {},
   "source": [
    "<br>\n",
    "\n",
    "5. `obj.mean()`: 해당 열, 행의 평균\n",
    "    \n",
    "    - default: `axis=0`: 행의 축 방향, 열별 평균, `axis=1`: 열의 축 방향, 행별 평균"
   ]
  },
  {
   "cell_type": "code",
   "execution_count": 97,
   "id": "382d7b71",
   "metadata": {},
   "outputs": [
    {
     "data": {
      "text/plain": [
       "연도    과목\n",
       "2017  영어    71.4\n",
       "      수학    75.2\n",
       "dtype: float64"
      ]
     },
     "execution_count": 97,
     "metadata": {},
     "output_type": "execute_result"
    }
   ],
   "source": [
    "# default: axis=0: 과목별 평균\n",
    "df_2017.mean()"
   ]
  },
  {
   "cell_type": "code",
   "execution_count": 98,
   "id": "dfded22e",
   "metadata": {},
   "outputs": [
    {
     "data": {
      "text/plain": [
       "학생명\n",
       "Kim     53.5\n",
       "Park    86.0\n",
       "Lee     83.0\n",
       "Jung    80.0\n",
       "Moon    64.0\n",
       "dtype: float64"
      ]
     },
     "execution_count": 98,
     "metadata": {},
     "output_type": "execute_result"
    }
   ],
   "source": [
    "# axis=1: 학생별 평균\n",
    "df_2017.mean(axis=1)"
   ]
  },
  {
   "cell_type": "markdown",
   "id": "4b527ee9",
   "metadata": {},
   "source": [
    "### > 연습문제"
   ]
  },
  {
   "cell_type": "code",
   "execution_count": 99,
   "id": "93d748e5",
   "metadata": {},
   "outputs": [
    {
     "data": {
      "text/html": [
       "<div>\n",
       "<style scoped>\n",
       "    .dataframe tbody tr th:only-of-type {\n",
       "        vertical-align: middle;\n",
       "    }\n",
       "\n",
       "    .dataframe tbody tr th {\n",
       "        vertical-align: top;\n",
       "    }\n",
       "\n",
       "    .dataframe thead tr th {\n",
       "        text-align: left;\n",
       "    }\n",
       "\n",
       "    .dataframe thead tr:last-of-type th {\n",
       "        text-align: right;\n",
       "    }\n",
       "</style>\n",
       "<table border=\"1\" class=\"dataframe\">\n",
       "  <thead>\n",
       "    <tr>\n",
       "      <th>연도</th>\n",
       "      <th colspan=\"2\" halign=\"left\">2016</th>\n",
       "      <th colspan=\"2\" halign=\"left\">2017</th>\n",
       "    </tr>\n",
       "    <tr>\n",
       "      <th>과목</th>\n",
       "      <th>영어</th>\n",
       "      <th>수학</th>\n",
       "      <th>영어</th>\n",
       "      <th>수학</th>\n",
       "    </tr>\n",
       "    <tr>\n",
       "      <th>학생명</th>\n",
       "      <th></th>\n",
       "      <th></th>\n",
       "      <th></th>\n",
       "      <th></th>\n",
       "    </tr>\n",
       "  </thead>\n",
       "  <tbody>\n",
       "    <tr>\n",
       "      <th>Kim</th>\n",
       "      <td>59</td>\n",
       "      <td>54</td>\n",
       "      <td>53</td>\n",
       "      <td>54</td>\n",
       "    </tr>\n",
       "    <tr>\n",
       "      <th>Park</th>\n",
       "      <td>89</td>\n",
       "      <td>56</td>\n",
       "      <td>90</td>\n",
       "      <td>82</td>\n",
       "    </tr>\n",
       "    <tr>\n",
       "      <th>Lee</th>\n",
       "      <td>53</td>\n",
       "      <td>93</td>\n",
       "      <td>72</td>\n",
       "      <td>94</td>\n",
       "    </tr>\n",
       "    <tr>\n",
       "      <th>Jung</th>\n",
       "      <td>92</td>\n",
       "      <td>67</td>\n",
       "      <td>77</td>\n",
       "      <td>83</td>\n",
       "    </tr>\n",
       "    <tr>\n",
       "      <th>Moon</th>\n",
       "      <td>93</td>\n",
       "      <td>72</td>\n",
       "      <td>65</td>\n",
       "      <td>63</td>\n",
       "    </tr>\n",
       "  </tbody>\n",
       "</table>\n",
       "</div>"
      ],
      "text/plain": [
       "연도   2016     2017    \n",
       "과목     영어  수학   영어  수학\n",
       "학생명                   \n",
       "Kim    59  54   53  54\n",
       "Park   89  56   90  82\n",
       "Lee    53  93   72  94\n",
       "Jung   92  67   77  83\n",
       "Moon   93  72   65  63"
      ]
     },
     "execution_count": 99,
     "metadata": {},
     "output_type": "execute_result"
    }
   ],
   "source": [
    "df_score"
   ]
  },
  {
   "cell_type": "markdown",
   "id": "e8802f6e",
   "metadata": {},
   "source": [
    "<br>\n",
    "\n",
    "1. 2016, 2017년도별, 과목별 평균 성적"
   ]
  },
  {
   "cell_type": "code",
   "execution_count": 100,
   "id": "6a73f73d",
   "metadata": {},
   "outputs": [
    {
     "data": {
      "text/plain": [
       "연도    과목\n",
       "2016  영어    77.2\n",
       "      수학    68.4\n",
       "2017  영어    71.4\n",
       "      수학    75.2\n",
       "dtype: float64"
      ]
     },
     "execution_count": 100,
     "metadata": {},
     "output_type": "execute_result"
    }
   ],
   "source": [
    "df_mean = df_score[[2016, 2017]].mean(axis=0)\n",
    "\n",
    "df_mean"
   ]
  },
  {
   "cell_type": "markdown",
   "id": "143a49f7",
   "metadata": {},
   "source": [
    "<br>\n",
    "\n",
    "2. `1번`결과의 년도별, 과목별 평균의 row > 연도, column > 과목이 되도록 수정"
   ]
  },
  {
   "cell_type": "code",
   "execution_count": 101,
   "id": "5558a425",
   "metadata": {},
   "outputs": [
    {
     "data": {
      "text/html": [
       "<div>\n",
       "<style scoped>\n",
       "    .dataframe tbody tr th:only-of-type {\n",
       "        vertical-align: middle;\n",
       "    }\n",
       "\n",
       "    .dataframe tbody tr th {\n",
       "        vertical-align: top;\n",
       "    }\n",
       "\n",
       "    .dataframe thead th {\n",
       "        text-align: right;\n",
       "    }\n",
       "</style>\n",
       "<table border=\"1\" class=\"dataframe\">\n",
       "  <thead>\n",
       "    <tr style=\"text-align: right;\">\n",
       "      <th>과목</th>\n",
       "      <th>수학</th>\n",
       "      <th>영어</th>\n",
       "    </tr>\n",
       "    <tr>\n",
       "      <th>연도</th>\n",
       "      <th></th>\n",
       "      <th></th>\n",
       "    </tr>\n",
       "  </thead>\n",
       "  <tbody>\n",
       "    <tr>\n",
       "      <th>2016</th>\n",
       "      <td>68.4</td>\n",
       "      <td>77.2</td>\n",
       "    </tr>\n",
       "    <tr>\n",
       "      <th>2017</th>\n",
       "      <td>75.2</td>\n",
       "      <td>71.4</td>\n",
       "    </tr>\n",
       "  </tbody>\n",
       "</table>\n",
       "</div>"
      ],
      "text/plain": [
       "과목      수학    영어\n",
       "연도              \n",
       "2016  68.4  77.2\n",
       "2017  75.2  71.4"
      ]
     },
     "execution_count": 101,
     "metadata": {},
     "output_type": "execute_result"
    }
   ],
   "source": [
    "df_mean.unstack(1)"
   ]
  },
  {
   "cell_type": "markdown",
   "id": "82381e9c",
   "metadata": {},
   "source": [
    "<br>\n",
    "\n",
    "3. 학생별 전체 평균"
   ]
  },
  {
   "cell_type": "code",
   "execution_count": 102,
   "id": "45e8e777",
   "metadata": {},
   "outputs": [
    {
     "data": {
      "text/plain": [
       "학생명\n",
       "Kim     55.00\n",
       "Park    79.25\n",
       "Lee     78.00\n",
       "Jung    79.75\n",
       "Moon    73.25\n",
       "dtype: float64"
      ]
     },
     "execution_count": 102,
     "metadata": {},
     "output_type": "execute_result"
    }
   ],
   "source": [
    "df_score.mean(axis=1)"
   ]
  },
  {
   "cell_type": "markdown",
   "id": "7c84d534",
   "metadata": {},
   "source": [
    "## 7. 날짜 형식"
   ]
  },
  {
   "cell_type": "markdown",
   "id": "2e36a23b",
   "metadata": {},
   "source": [
    "### 7.1. 날짜 데이터: str 타입"
   ]
  },
  {
   "cell_type": "code",
   "execution_count": 103,
   "id": "47cf5df9",
   "metadata": {},
   "outputs": [],
   "source": [
    "str_date = ['2022/11/01', '2022.10.31', '2021-10-09']"
   ]
  },
  {
   "cell_type": "code",
   "execution_count": 104,
   "id": "d5bd82ed",
   "metadata": {},
   "outputs": [
    {
     "data": {
      "text/plain": [
       "0    2022/11/01\n",
       "1    2022.10.31\n",
       "2    2021-10-09\n",
       "dtype: object"
      ]
     },
     "execution_count": 104,
     "metadata": {},
     "output_type": "execute_result"
    }
   ],
   "source": [
    "# Series로 저장\n",
    "pd.Series(str_date)"
   ]
  },
  {
   "cell_type": "markdown",
   "id": "5f63d714",
   "metadata": {},
   "source": [
    "<br>\n",
    "\n",
    "1. str 타입을 `datetime` 타입으로 변환 후 pandas 저장\n",
    "\n",
    "- `pd.to_datetime()`"
   ]
  },
  {
   "cell_type": "code",
   "execution_count": 105,
   "id": "75f2fec6",
   "metadata": {},
   "outputs": [
    {
     "data": {
      "text/plain": [
       "DatetimeIndex(['2022-11-01', '2022-10-31', '2021-10-09'], dtype='datetime64[ns]', freq=None)"
      ]
     },
     "execution_count": 105,
     "metadata": {},
     "output_type": "execute_result"
    }
   ],
   "source": [
    "pd.to_datetime(str_date)"
   ]
  },
  {
   "cell_type": "code",
   "execution_count": 106,
   "id": "e473db1c",
   "metadata": {},
   "outputs": [
    {
     "data": {
      "text/plain": [
       "pandas.core.indexes.datetimes.DatetimeIndex"
      ]
     },
     "execution_count": 106,
     "metadata": {},
     "output_type": "execute_result"
    }
   ],
   "source": [
    "type(pd.to_datetime(str_date))"
   ]
  },
  {
   "cell_type": "markdown",
   "id": "fb68189e",
   "metadata": {},
   "source": [
    "<br>\n",
    "\n",
    "2. str 타입으로 저장 후 data type 변경   \n",
    "\n",
    "- `Series.dtype`: dtype 확인\n",
    "\n",
    "- `Series.astype()`: dtype 변경"
   ]
  },
  {
   "cell_type": "code",
   "execution_count": 107,
   "id": "2f27bdec",
   "metadata": {},
   "outputs": [
    {
     "data": {
      "text/plain": [
       "0   2022-11-01\n",
       "1   2022-10-31\n",
       "2   2021-10-09\n",
       "dtype: datetime64[ns]"
      ]
     },
     "execution_count": 107,
     "metadata": {},
     "output_type": "execute_result"
    }
   ],
   "source": [
    "pd.Series(str_date).astype('datetime64')"
   ]
  },
  {
   "cell_type": "markdown",
   "id": "9b28321f",
   "metadata": {},
   "source": [
    "<br>\n",
    "\n",
    "### 7.2. 날짜 데이터: `timestamp` 타입\n",
    "\n",
    "- `timestamp`: 기준시각(1970.01.01 00:00:00 UTC)로부터 몇 초가 경과했는지 표기 =`UNIX 시간`"
   ]
  },
  {
   "cell_type": "code",
   "execution_count": 108,
   "id": "b0102bd9",
   "metadata": {},
   "outputs": [
    {
     "data": {
      "text/plain": [
       "0    1234000\n",
       "1    1256000\n",
       "2    1278000\n",
       "3    1290000\n",
       "4    1234567\n",
       "dtype: int64"
      ]
     },
     "execution_count": 108,
     "metadata": {},
     "output_type": "execute_result"
    }
   ],
   "source": [
    "stamp_date = [1234000, 1256000, 1278000, 1290000, 1234567]\n",
    "\n",
    "pd.Series(stamp_date)"
   ]
  },
  {
   "cell_type": "markdown",
   "id": "b7c2faf9",
   "metadata": {},
   "source": [
    "<br>\n",
    "\n",
    "- `datetime` 타입으로 변환 후 저장\n",
    "- `timestampe`의 기본 `unit=ns`(nano seconds) 나노세컨즈: 10억분의 1초\n",
    "- optional parameter `unit` default: `ns`, days: `D`, seconds :`s`, milli seconds: `ms`, micro seconds: `us`"
   ]
  },
  {
   "cell_type": "code",
   "execution_count": 109,
   "id": "57711eec",
   "metadata": {},
   "outputs": [
    {
     "data": {
      "text/plain": [
       "0   1970-01-01 00:00:00.001234000\n",
       "1   1970-01-01 00:00:00.001256000\n",
       "2   1970-01-01 00:00:00.001278000\n",
       "3   1970-01-01 00:00:00.001290000\n",
       "4   1970-01-01 00:00:00.001234567\n",
       "dtype: datetime64[ns]"
      ]
     },
     "execution_count": 109,
     "metadata": {},
     "output_type": "execute_result"
    }
   ],
   "source": [
    "pd.Series(pd.to_datetime(stamp_date))"
   ]
  },
  {
   "cell_type": "markdown",
   "id": "e57b97a2",
   "metadata": {},
   "source": [
    "<br>\n",
    "\n",
    "- `unit='s'`: 초"
   ]
  },
  {
   "cell_type": "code",
   "execution_count": 110,
   "id": "a11fce12",
   "metadata": {},
   "outputs": [
    {
     "data": {
      "text/plain": [
       "0   1970-01-15 06:46:40\n",
       "1   1970-01-15 12:53:20\n",
       "2   1970-01-15 19:00:00\n",
       "3   1970-01-15 22:20:00\n",
       "4   1970-01-15 06:56:07\n",
       "dtype: datetime64[ns]"
      ]
     },
     "execution_count": 110,
     "metadata": {},
     "output_type": "execute_result"
    }
   ],
   "source": [
    "pd.Series(pd.to_datetime(stamp_date, unit='s'))"
   ]
  },
  {
   "cell_type": "markdown",
   "id": "03fa1bb1",
   "metadata": {},
   "source": [
    "<br>\n",
    "\n",
    "- `unit='D'`: 날짜 > 2038년 문제"
   ]
  },
  {
   "cell_type": "code",
   "execution_count": 111,
   "id": "c5b059c7",
   "metadata": {
    "scrolled": true
   },
   "outputs": [
    {
     "ename": "OutOfBoundsDatetime",
     "evalue": "cannot convert input 1234000 with the unit 'D'",
     "output_type": "error",
     "traceback": [
      "\u001b[1;31m---------------------------------------------------------------------------\u001b[0m",
      "\u001b[1;31mOverflowError\u001b[0m                             Traceback (most recent call last)",
      "\u001b[1;32m~\\anaconda3\\lib\\site-packages\\pandas\\_libs\\tslib.pyx\u001b[0m in \u001b[0;36mpandas._libs.tslib.array_with_unit_to_datetime\u001b[1;34m()\u001b[0m\n",
      "\u001b[1;32m~\\anaconda3\\lib\\site-packages\\pandas\\_libs\\tslibs\\conversion.pyx\u001b[0m in \u001b[0;36mpandas._libs.tslibs.conversion.cast_from_unit\u001b[1;34m()\u001b[0m\n",
      "\u001b[1;31mOverflowError\u001b[0m: int too big to convert",
      "\nDuring handling of the above exception, another exception occurred:\n",
      "\u001b[1;31mOutOfBoundsDatetime\u001b[0m                       Traceback (most recent call last)",
      "\u001b[1;32m~\\AppData\\Local\\Temp\\ipykernel_596\\2430875186.py\u001b[0m in \u001b[0;36m<module>\u001b[1;34m\u001b[0m\n\u001b[1;32m----> 1\u001b[1;33m \u001b[0mpd\u001b[0m\u001b[1;33m.\u001b[0m\u001b[0mSeries\u001b[0m\u001b[1;33m(\u001b[0m\u001b[0mpd\u001b[0m\u001b[1;33m.\u001b[0m\u001b[0mto_datetime\u001b[0m\u001b[1;33m(\u001b[0m\u001b[0mstamp_date\u001b[0m\u001b[1;33m,\u001b[0m \u001b[0munit\u001b[0m\u001b[1;33m=\u001b[0m\u001b[1;34m'D'\u001b[0m\u001b[1;33m)\u001b[0m\u001b[1;33m)\u001b[0m\u001b[1;33m\u001b[0m\u001b[1;33m\u001b[0m\u001b[0m\n\u001b[0m",
      "\u001b[1;32m~\\anaconda3\\lib\\site-packages\\pandas\\core\\tools\\datetimes.py\u001b[0m in \u001b[0;36mto_datetime\u001b[1;34m(arg, errors, dayfirst, yearfirst, utc, format, exact, unit, infer_datetime_format, origin, cache)\u001b[0m\n\u001b[0;32m   1074\u001b[0m             \u001b[0mresult\u001b[0m \u001b[1;33m=\u001b[0m \u001b[0m_convert_and_box_cache\u001b[0m\u001b[1;33m(\u001b[0m\u001b[0marg\u001b[0m\u001b[1;33m,\u001b[0m \u001b[0mcache_array\u001b[0m\u001b[1;33m)\u001b[0m\u001b[1;33m\u001b[0m\u001b[1;33m\u001b[0m\u001b[0m\n\u001b[0;32m   1075\u001b[0m         \u001b[1;32melse\u001b[0m\u001b[1;33m:\u001b[0m\u001b[1;33m\u001b[0m\u001b[1;33m\u001b[0m\u001b[0m\n\u001b[1;32m-> 1076\u001b[1;33m             \u001b[0mresult\u001b[0m \u001b[1;33m=\u001b[0m \u001b[0mconvert_listlike\u001b[0m\u001b[1;33m(\u001b[0m\u001b[0marg\u001b[0m\u001b[1;33m,\u001b[0m \u001b[0mformat\u001b[0m\u001b[1;33m)\u001b[0m\u001b[1;33m\u001b[0m\u001b[1;33m\u001b[0m\u001b[0m\n\u001b[0m\u001b[0;32m   1077\u001b[0m     \u001b[1;32melse\u001b[0m\u001b[1;33m:\u001b[0m\u001b[1;33m\u001b[0m\u001b[1;33m\u001b[0m\u001b[0m\n\u001b[0;32m   1078\u001b[0m         \u001b[0mresult\u001b[0m \u001b[1;33m=\u001b[0m \u001b[0mconvert_listlike\u001b[0m\u001b[1;33m(\u001b[0m\u001b[0mnp\u001b[0m\u001b[1;33m.\u001b[0m\u001b[0marray\u001b[0m\u001b[1;33m(\u001b[0m\u001b[1;33m[\u001b[0m\u001b[0marg\u001b[0m\u001b[1;33m]\u001b[0m\u001b[1;33m)\u001b[0m\u001b[1;33m,\u001b[0m \u001b[0mformat\u001b[0m\u001b[1;33m)\u001b[0m\u001b[1;33m[\u001b[0m\u001b[1;36m0\u001b[0m\u001b[1;33m]\u001b[0m\u001b[1;33m\u001b[0m\u001b[1;33m\u001b[0m\u001b[0m\n",
      "\u001b[1;32m~\\anaconda3\\lib\\site-packages\\pandas\\core\\tools\\datetimes.py\u001b[0m in \u001b[0;36m_convert_listlike_datetimes\u001b[1;34m(arg, format, name, tz, unit, errors, infer_datetime_format, dayfirst, yearfirst, exact)\u001b[0m\n\u001b[0;32m    355\u001b[0m         \u001b[1;32mif\u001b[0m \u001b[0mformat\u001b[0m \u001b[1;32mis\u001b[0m \u001b[1;32mnot\u001b[0m \u001b[1;32mNone\u001b[0m\u001b[1;33m:\u001b[0m\u001b[1;33m\u001b[0m\u001b[1;33m\u001b[0m\u001b[0m\n\u001b[0;32m    356\u001b[0m             \u001b[1;32mraise\u001b[0m \u001b[0mValueError\u001b[0m\u001b[1;33m(\u001b[0m\u001b[1;34m\"cannot specify both format and unit\"\u001b[0m\u001b[1;33m)\u001b[0m\u001b[1;33m\u001b[0m\u001b[1;33m\u001b[0m\u001b[0m\n\u001b[1;32m--> 357\u001b[1;33m         \u001b[1;32mreturn\u001b[0m \u001b[0m_to_datetime_with_unit\u001b[0m\u001b[1;33m(\u001b[0m\u001b[0marg\u001b[0m\u001b[1;33m,\u001b[0m \u001b[0munit\u001b[0m\u001b[1;33m,\u001b[0m \u001b[0mname\u001b[0m\u001b[1;33m,\u001b[0m \u001b[0mtz\u001b[0m\u001b[1;33m,\u001b[0m \u001b[0merrors\u001b[0m\u001b[1;33m)\u001b[0m\u001b[1;33m\u001b[0m\u001b[1;33m\u001b[0m\u001b[0m\n\u001b[0m\u001b[0;32m    358\u001b[0m     \u001b[1;32melif\u001b[0m \u001b[0mgetattr\u001b[0m\u001b[1;33m(\u001b[0m\u001b[0marg\u001b[0m\u001b[1;33m,\u001b[0m \u001b[1;34m\"ndim\"\u001b[0m\u001b[1;33m,\u001b[0m \u001b[1;36m1\u001b[0m\u001b[1;33m)\u001b[0m \u001b[1;33m>\u001b[0m \u001b[1;36m1\u001b[0m\u001b[1;33m:\u001b[0m\u001b[1;33m\u001b[0m\u001b[1;33m\u001b[0m\u001b[0m\n\u001b[0;32m    359\u001b[0m         raise TypeError(\n",
      "\u001b[1;32m~\\anaconda3\\lib\\site-packages\\pandas\\core\\tools\\datetimes.py\u001b[0m in \u001b[0;36m_to_datetime_with_unit\u001b[1;34m(arg, unit, name, tz, errors)\u001b[0m\n\u001b[0;32m    528\u001b[0m     \u001b[1;32melse\u001b[0m\u001b[1;33m:\u001b[0m\u001b[1;33m\u001b[0m\u001b[1;33m\u001b[0m\u001b[0m\n\u001b[0;32m    529\u001b[0m         \u001b[0marg\u001b[0m \u001b[1;33m=\u001b[0m \u001b[0mnp\u001b[0m\u001b[1;33m.\u001b[0m\u001b[0masarray\u001b[0m\u001b[1;33m(\u001b[0m\u001b[0marg\u001b[0m\u001b[1;33m)\u001b[0m\u001b[1;33m\u001b[0m\u001b[1;33m\u001b[0m\u001b[0m\n\u001b[1;32m--> 530\u001b[1;33m         \u001b[0marr\u001b[0m\u001b[1;33m,\u001b[0m \u001b[0mtz_parsed\u001b[0m \u001b[1;33m=\u001b[0m \u001b[0mtslib\u001b[0m\u001b[1;33m.\u001b[0m\u001b[0marray_with_unit_to_datetime\u001b[0m\u001b[1;33m(\u001b[0m\u001b[0marg\u001b[0m\u001b[1;33m,\u001b[0m \u001b[0munit\u001b[0m\u001b[1;33m,\u001b[0m \u001b[0merrors\u001b[0m\u001b[1;33m=\u001b[0m\u001b[0merrors\u001b[0m\u001b[1;33m)\u001b[0m\u001b[1;33m\u001b[0m\u001b[1;33m\u001b[0m\u001b[0m\n\u001b[0m\u001b[0;32m    531\u001b[0m \u001b[1;33m\u001b[0m\u001b[0m\n\u001b[0;32m    532\u001b[0m     \u001b[1;32mif\u001b[0m \u001b[0merrors\u001b[0m \u001b[1;33m==\u001b[0m \u001b[1;34m\"ignore\"\u001b[0m\u001b[1;33m:\u001b[0m\u001b[1;33m\u001b[0m\u001b[1;33m\u001b[0m\u001b[0m\n",
      "\u001b[1;32m~\\anaconda3\\lib\\site-packages\\pandas\\_libs\\tslib.pyx\u001b[0m in \u001b[0;36mpandas._libs.tslib.array_with_unit_to_datetime\u001b[1;34m()\u001b[0m\n",
      "\u001b[1;31mOutOfBoundsDatetime\u001b[0m: cannot convert input 1234000 with the unit 'D'"
     ]
    }
   ],
   "source": [
    "pd.Series(pd.to_datetime(stamp_date, unit='D'))"
   ]
  },
  {
   "cell_type": "markdown",
   "id": "2cfe9b3c",
   "metadata": {},
   "source": [
    "<br>\n",
    "\n",
    "- `unit='ms'`: 밀리세컨즈"
   ]
  },
  {
   "cell_type": "code",
   "execution_count": 112,
   "id": "327697ec",
   "metadata": {},
   "outputs": [
    {
     "data": {
      "text/plain": [
       "0   1970-01-01 00:20:34.000\n",
       "1   1970-01-01 00:20:56.000\n",
       "2   1970-01-01 00:21:18.000\n",
       "3   1970-01-01 00:21:30.000\n",
       "4   1970-01-01 00:20:34.567\n",
       "dtype: datetime64[ns]"
      ]
     },
     "execution_count": 112,
     "metadata": {},
     "output_type": "execute_result"
    }
   ],
   "source": [
    "pd.Series(pd.to_datetime(stamp_date, unit='ms'))"
   ]
  },
  {
   "cell_type": "markdown",
   "id": "9e54b626",
   "metadata": {},
   "source": [
    "<br>\n",
    "\n",
    "- default: `unit-='us'`: 나노세컨즈"
   ]
  },
  {
   "cell_type": "code",
   "execution_count": 113,
   "id": "2d5cf5cc",
   "metadata": {},
   "outputs": [
    {
     "data": {
      "text/plain": [
       "0   1970-01-01 00:00:01.234000\n",
       "1   1970-01-01 00:00:01.256000\n",
       "2   1970-01-01 00:00:01.278000\n",
       "3   1970-01-01 00:00:01.290000\n",
       "4   1970-01-01 00:00:01.234567\n",
       "dtype: datetime64[ns]"
      ]
     },
     "execution_count": 113,
     "metadata": {},
     "output_type": "execute_result"
    }
   ],
   "source": [
    "pd.Series(pd.to_datetime(stamp_date, unit='us'))"
   ]
  },
  {
   "cell_type": "markdown",
   "id": "7f26a68b",
   "metadata": {},
   "source": [
    "## 8. label 형식 통일\n",
    "\n",
    "- data encoding 작업에 포함"
   ]
  },
  {
   "cell_type": "markdown",
   "id": "b1651b2c",
   "metadata": {},
   "source": [
    "<br>\n",
    "\n",
    "- `map()`\n",
    "\n",
    "- dict 타입으로 encoding map을 생성해서 적용\n",
    "\n",
    "- gender: `0`=남자, `1`=여자"
   ]
  },
  {
   "cell_type": "code",
   "execution_count": 114,
   "id": "5fa49f88",
   "metadata": {},
   "outputs": [
    {
     "data": {
      "text/html": [
       "<div>\n",
       "<style scoped>\n",
       "    .dataframe tbody tr th:only-of-type {\n",
       "        vertical-align: middle;\n",
       "    }\n",
       "\n",
       "    .dataframe tbody tr th {\n",
       "        vertical-align: top;\n",
       "    }\n",
       "\n",
       "    .dataframe thead th {\n",
       "        text-align: right;\n",
       "    }\n",
       "</style>\n",
       "<table border=\"1\" class=\"dataframe\">\n",
       "  <thead>\n",
       "    <tr style=\"text-align: right;\">\n",
       "      <th></th>\n",
       "      <th>gender</th>\n",
       "    </tr>\n",
       "  </thead>\n",
       "  <tbody>\n",
       "    <tr>\n",
       "      <th>0</th>\n",
       "      <td>0</td>\n",
       "    </tr>\n",
       "    <tr>\n",
       "      <th>1</th>\n",
       "      <td>1</td>\n",
       "    </tr>\n",
       "    <tr>\n",
       "      <th>2</th>\n",
       "      <td>0</td>\n",
       "    </tr>\n",
       "    <tr>\n",
       "      <th>3</th>\n",
       "      <td>0</td>\n",
       "    </tr>\n",
       "    <tr>\n",
       "      <th>4</th>\n",
       "      <td>0</td>\n",
       "    </tr>\n",
       "    <tr>\n",
       "      <th>5</th>\n",
       "      <td>1</td>\n",
       "    </tr>\n",
       "  </tbody>\n",
       "</table>\n",
       "</div>"
      ],
      "text/plain": [
       "   gender\n",
       "0       0\n",
       "1       1\n",
       "2       0\n",
       "3       0\n",
       "4       0\n",
       "5       1"
      ]
     },
     "execution_count": 114,
     "metadata": {},
     "output_type": "execute_result"
    }
   ],
   "source": [
    "gender_df = pd.DataFrame({'gender':[0, 1, 0, 0, 0, 1]})\n",
    "gender_map = {0:'Male', 1:'Female'}\n",
    "\n",
    "gender_df"
   ]
  },
  {
   "cell_type": "markdown",
   "id": "bcdb48af",
   "metadata": {},
   "source": [
    "<br>\n",
    "\n",
    "- `gender_df` 변수의 `gender` column값을 `map`함수를 이용해 `0`은 `M`으로, `1`은 `F`로 변환"
   ]
  },
  {
   "cell_type": "code",
   "execution_count": 115,
   "id": "792edc98",
   "metadata": {},
   "outputs": [
    {
     "data": {
      "text/plain": [
       "0      Male\n",
       "1    Female\n",
       "2      Male\n",
       "3      Male\n",
       "4      Male\n",
       "5    Female\n",
       "Name: gender, dtype: object"
      ]
     },
     "execution_count": 115,
     "metadata": {},
     "output_type": "execute_result"
    }
   ],
   "source": [
    "gender_df['gender'].map(gender_map)"
   ]
  },
  {
   "cell_type": "markdown",
   "id": "4dd0bb9d",
   "metadata": {},
   "source": [
    "<br>\n",
    "\n",
    "- Python 내장함수 `replace()`도 사용 가능"
   ]
  },
  {
   "cell_type": "code",
   "execution_count": 116,
   "id": "6ca4e786",
   "metadata": {},
   "outputs": [
    {
     "data": {
      "text/plain": [
       "0      Male\n",
       "1    Female\n",
       "2      Male\n",
       "3      Male\n",
       "4      Male\n",
       "5    Female\n",
       "Name: gender, dtype: object"
      ]
     },
     "execution_count": 116,
     "metadata": {},
     "output_type": "execute_result"
    }
   ],
   "source": [
    "gender_df['gender'].replace(0, \"Male\").replace(1, \"Female\")"
   ]
  },
  {
   "cell_type": "code",
   "execution_count": 117,
   "id": "fca716ac",
   "metadata": {},
   "outputs": [
    {
     "data": {
      "text/plain": [
       "0      Male\n",
       "1    Female\n",
       "2      Male\n",
       "3      Male\n",
       "4      Male\n",
       "5    Female\n",
       "Name: gender, dtype: object"
      ]
     },
     "execution_count": 117,
     "metadata": {},
     "output_type": "execute_result"
    }
   ],
   "source": [
    "gender_df['gender'].replace([0, 1], ['Male', 'Female'])"
   ]
  },
  {
   "cell_type": "code",
   "execution_count": 118,
   "id": "686dc830",
   "metadata": {},
   "outputs": [
    {
     "data": {
      "text/plain": [
       "0      Male\n",
       "1    Female\n",
       "2      Male\n",
       "3      Male\n",
       "4      Male\n",
       "5    Female\n",
       "Name: gender, dtype: object"
      ]
     },
     "execution_count": 118,
     "metadata": {},
     "output_type": "execute_result"
    }
   ],
   "source": [
    "gender_df['gender'].replace(gender_map)"
   ]
  },
  {
   "cell_type": "markdown",
   "id": "3da35039",
   "metadata": {},
   "source": [
    "<br>\n",
    "\n",
    "## 9. 문자 형식(대소문자, 기호 등) 통일"
   ]
  },
  {
   "cell_type": "code",
   "execution_count": 119,
   "id": "de29401a",
   "metadata": {},
   "outputs": [
    {
     "data": {
      "text/html": [
       "<div>\n",
       "<style scoped>\n",
       "    .dataframe tbody tr th:only-of-type {\n",
       "        vertical-align: middle;\n",
       "    }\n",
       "\n",
       "    .dataframe tbody tr th {\n",
       "        vertical-align: top;\n",
       "    }\n",
       "\n",
       "    .dataframe thead th {\n",
       "        text-align: right;\n",
       "    }\n",
       "</style>\n",
       "<table border=\"1\" class=\"dataframe\">\n",
       "  <thead>\n",
       "    <tr style=\"text-align: right;\">\n",
       "      <th></th>\n",
       "      <th>Name</th>\n",
       "      <th>Age</th>\n",
       "    </tr>\n",
       "  </thead>\n",
       "  <tbody>\n",
       "    <tr>\n",
       "      <th>0</th>\n",
       "      <td>Jane</td>\n",
       "      <td>18</td>\n",
       "    </tr>\n",
       "    <tr>\n",
       "      <th>1</th>\n",
       "      <td>Albert</td>\n",
       "      <td>19</td>\n",
       "    </tr>\n",
       "    <tr>\n",
       "      <th>2</th>\n",
       "      <td>John</td>\n",
       "      <td>21</td>\n",
       "    </tr>\n",
       "  </tbody>\n",
       "</table>\n",
       "</div>"
      ],
      "text/plain": [
       "     Name  Age\n",
       "0    Jane   18\n",
       "1  Albert   19\n",
       "2    John   21"
      ]
     },
     "execution_count": 119,
     "metadata": {},
     "output_type": "execute_result"
    }
   ],
   "source": [
    "my_data = {'Name':['Jane', 'Albert', 'John'],\n",
    "          'Age':[18, 19, 21]}\n",
    "\n",
    "my_df = pd.DataFrame(my_data)\n",
    "my_df"
   ]
  },
  {
   "cell_type": "markdown",
   "id": "62a8d3a0",
   "metadata": {},
   "source": [
    "<br>\n",
    "\n",
    "- column name을 소문자로 바꾸는 방법: `str.lower()`\n",
    "\n",
    "- 빈 list에 소문자로 변경한 column을 모두 적재한 뒤 대입"
   ]
  },
  {
   "cell_type": "code",
   "execution_count": 120,
   "id": "0a916e78",
   "metadata": {},
   "outputs": [
    {
     "name": "stdout",
     "output_type": "stream",
     "text": [
      "name\n",
      "age\n"
     ]
    }
   ],
   "source": [
    "my_df1 = my_df.copy()\n",
    "\n",
    "new_cols = list()\n",
    "\n",
    "for col in my_df.columns:\n",
    "    print(col.lower())\n",
    "    new_cols.append(col.lower())"
   ]
  },
  {
   "cell_type": "code",
   "execution_count": 121,
   "id": "748138a6",
   "metadata": {},
   "outputs": [
    {
     "data": {
      "text/plain": [
       "['name', 'age']"
      ]
     },
     "execution_count": 121,
     "metadata": {},
     "output_type": "execute_result"
    }
   ],
   "source": [
    "new_cols"
   ]
  },
  {
   "cell_type": "code",
   "execution_count": 122,
   "id": "017f8915",
   "metadata": {},
   "outputs": [
    {
     "data": {
      "text/html": [
       "<div>\n",
       "<style scoped>\n",
       "    .dataframe tbody tr th:only-of-type {\n",
       "        vertical-align: middle;\n",
       "    }\n",
       "\n",
       "    .dataframe tbody tr th {\n",
       "        vertical-align: top;\n",
       "    }\n",
       "\n",
       "    .dataframe thead th {\n",
       "        text-align: right;\n",
       "    }\n",
       "</style>\n",
       "<table border=\"1\" class=\"dataframe\">\n",
       "  <thead>\n",
       "    <tr style=\"text-align: right;\">\n",
       "      <th></th>\n",
       "      <th>name</th>\n",
       "      <th>age</th>\n",
       "    </tr>\n",
       "  </thead>\n",
       "  <tbody>\n",
       "    <tr>\n",
       "      <th>0</th>\n",
       "      <td>Jane</td>\n",
       "      <td>18</td>\n",
       "    </tr>\n",
       "    <tr>\n",
       "      <th>1</th>\n",
       "      <td>Albert</td>\n",
       "      <td>19</td>\n",
       "    </tr>\n",
       "    <tr>\n",
       "      <th>2</th>\n",
       "      <td>John</td>\n",
       "      <td>21</td>\n",
       "    </tr>\n",
       "  </tbody>\n",
       "</table>\n",
       "</div>"
      ],
      "text/plain": [
       "     name  age\n",
       "0    Jane   18\n",
       "1  Albert   19\n",
       "2    John   21"
      ]
     },
     "execution_count": 122,
     "metadata": {},
     "output_type": "execute_result"
    }
   ],
   "source": [
    "my_df1.columns = new_cols\n",
    "\n",
    "my_df1"
   ]
  },
  {
   "cell_type": "markdown",
   "id": "9219f51a",
   "metadata": {},
   "source": [
    "<br>\n",
    "\n",
    "- `columns`에 바로 `upper()`적용 가능: `df.columns.str.upper()`"
   ]
  },
  {
   "cell_type": "code",
   "execution_count": 123,
   "id": "e187ed0a",
   "metadata": {},
   "outputs": [
    {
     "data": {
      "text/html": [
       "<div>\n",
       "<style scoped>\n",
       "    .dataframe tbody tr th:only-of-type {\n",
       "        vertical-align: middle;\n",
       "    }\n",
       "\n",
       "    .dataframe tbody tr th {\n",
       "        vertical-align: top;\n",
       "    }\n",
       "\n",
       "    .dataframe thead th {\n",
       "        text-align: right;\n",
       "    }\n",
       "</style>\n",
       "<table border=\"1\" class=\"dataframe\">\n",
       "  <thead>\n",
       "    <tr style=\"text-align: right;\">\n",
       "      <th></th>\n",
       "      <th>NAME</th>\n",
       "      <th>AGE</th>\n",
       "    </tr>\n",
       "  </thead>\n",
       "  <tbody>\n",
       "    <tr>\n",
       "      <th>0</th>\n",
       "      <td>Jane</td>\n",
       "      <td>18</td>\n",
       "    </tr>\n",
       "    <tr>\n",
       "      <th>1</th>\n",
       "      <td>Albert</td>\n",
       "      <td>19</td>\n",
       "    </tr>\n",
       "    <tr>\n",
       "      <th>2</th>\n",
       "      <td>John</td>\n",
       "      <td>21</td>\n",
       "    </tr>\n",
       "  </tbody>\n",
       "</table>\n",
       "</div>"
      ],
      "text/plain": [
       "     NAME  AGE\n",
       "0    Jane   18\n",
       "1  Albert   19\n",
       "2    John   21"
      ]
     },
     "execution_count": 123,
     "metadata": {},
     "output_type": "execute_result"
    }
   ],
   "source": [
    "my_df2 = my_df.copy()\n",
    "\n",
    "my_df2.columns = my_df2.columns.str.upper()\n",
    "my_df2"
   ]
  },
  {
   "cell_type": "markdown",
   "id": "d3aa350e",
   "metadata": {},
   "source": [
    "<br>\n",
    "\n",
    "- 내부 item (`NAME` column)의 모든 data를 소문자로 통일\n",
    "\n",
    "- column `age`: 정수 자료 > exclude\n",
    "\n",
    "- `obj.apply(method)`: 해당 method의 return value로 내부 data를 일괄적으로 변환"
   ]
  },
  {
   "cell_type": "code",
   "execution_count": 124,
   "id": "72ca71e2",
   "metadata": {},
   "outputs": [],
   "source": [
    "def change_lower(value):\n",
    "    return value.lower()"
   ]
  },
  {
   "cell_type": "code",
   "execution_count": 125,
   "id": "f0f4b83a",
   "metadata": {},
   "outputs": [
    {
     "data": {
      "text/plain": [
       "0      jane\n",
       "1    albert\n",
       "2      john\n",
       "Name: NAME, dtype: object"
      ]
     },
     "execution_count": 125,
     "metadata": {},
     "output_type": "execute_result"
    }
   ],
   "source": [
    "my_df2['NAME'].apply(change_lower)"
   ]
  },
  {
   "cell_type": "markdown",
   "id": "64e2cd6c",
   "metadata": {},
   "source": [
    "<br>\n",
    "\n",
    "- `.apply()`는 `map`으로 대체 가능"
   ]
  },
  {
   "cell_type": "code",
   "execution_count": 126,
   "id": "1b5fb249",
   "metadata": {},
   "outputs": [
    {
     "data": {
      "text/html": [
       "<div>\n",
       "<style scoped>\n",
       "    .dataframe tbody tr th:only-of-type {\n",
       "        vertical-align: middle;\n",
       "    }\n",
       "\n",
       "    .dataframe tbody tr th {\n",
       "        vertical-align: top;\n",
       "    }\n",
       "\n",
       "    .dataframe thead th {\n",
       "        text-align: right;\n",
       "    }\n",
       "</style>\n",
       "<table border=\"1\" class=\"dataframe\">\n",
       "  <thead>\n",
       "    <tr style=\"text-align: right;\">\n",
       "      <th></th>\n",
       "      <th>NAME</th>\n",
       "      <th>AGE</th>\n",
       "    </tr>\n",
       "  </thead>\n",
       "  <tbody>\n",
       "    <tr>\n",
       "      <th>0</th>\n",
       "      <td>Jane</td>\n",
       "      <td>18</td>\n",
       "    </tr>\n",
       "    <tr>\n",
       "      <th>1</th>\n",
       "      <td>Albert</td>\n",
       "      <td>19</td>\n",
       "    </tr>\n",
       "    <tr>\n",
       "      <th>2</th>\n",
       "      <td>John</td>\n",
       "      <td>21</td>\n",
       "    </tr>\n",
       "  </tbody>\n",
       "</table>\n",
       "</div>"
      ],
      "text/plain": [
       "     NAME  AGE\n",
       "0    Jane   18\n",
       "1  Albert   19\n",
       "2    John   21"
      ]
     },
     "execution_count": 126,
     "metadata": {},
     "output_type": "execute_result"
    }
   ],
   "source": [
    "my_df2"
   ]
  },
  {
   "cell_type": "code",
   "execution_count": 127,
   "id": "310258d2",
   "metadata": {},
   "outputs": [
    {
     "data": {
      "text/plain": [
       "0      jane\n",
       "1    albert\n",
       "2      john\n",
       "Name: NAME, dtype: object"
      ]
     },
     "execution_count": 127,
     "metadata": {},
     "output_type": "execute_result"
    }
   ],
   "source": [
    "my_df2['NAME'].map(change_lower)"
   ]
  },
  {
   "cell_type": "markdown",
   "id": "033fa1a7",
   "metadata": {},
   "source": [
    "<br>\n",
    "\n",
    "- `AGE` column의 value를 20기준으로 return하는 `is_adult()`함수 정의 후 `.apply()`로 적용"
   ]
  },
  {
   "cell_type": "code",
   "execution_count": 128,
   "id": "aa4e9168",
   "metadata": {},
   "outputs": [],
   "source": [
    "def is_adult(value: int) -> str :\n",
    "    if value >= 20:\n",
    "        return \"성인\"\n",
    "    else:\n",
    "        return \"미성년자\"    "
   ]
  },
  {
   "cell_type": "code",
   "execution_count": 129,
   "id": "d99c63fe",
   "metadata": {},
   "outputs": [
    {
     "data": {
      "text/plain": [
       "0    미성년자\n",
       "1    미성년자\n",
       "2      성인\n",
       "Name: AGE, dtype: object"
      ]
     },
     "execution_count": 129,
     "metadata": {},
     "output_type": "execute_result"
    }
   ],
   "source": [
    "my_df2['AGE'].map(is_adult)"
   ]
  },
  {
   "cell_type": "markdown",
   "id": "80d9b5e4",
   "metadata": {},
   "source": [
    "## 10. data value에 대한 처리\n",
    "\n",
    "- 결측값(NaN)\n",
    "\n",
    "- 이상치(예측 범위 밖의 value)\n",
    "\n",
    "- 단순 중복 data\n",
    "\n",
    "- 동일한 의미, 다른 명칭의 중복 data\n",
    "\n",
    "- 중복 속성\n",
    "    \n",
    "    - 다중공선성: 통계학의 회귀분석에서 독립변수들 간에 강한 상관관계가 나타나는 문제\n",
    "\n",
    "- 불규칙한 data 수집(differs in step, unit)"
   ]
  },
  {
   "cell_type": "markdown",
   "id": "fa54276a",
   "metadata": {},
   "source": [
    "<br>\n",
    "\n",
    "- Data Loading"
   ]
  },
  {
   "cell_type": "code",
   "execution_count": 130,
   "id": "ff89cd4c",
   "metadata": {},
   "outputs": [
    {
     "data": {
      "text/html": [
       "<div>\n",
       "<style scoped>\n",
       "    .dataframe tbody tr th:only-of-type {\n",
       "        vertical-align: middle;\n",
       "    }\n",
       "\n",
       "    .dataframe tbody tr th {\n",
       "        vertical-align: top;\n",
       "    }\n",
       "\n",
       "    .dataframe thead th {\n",
       "        text-align: right;\n",
       "    }\n",
       "</style>\n",
       "<table border=\"1\" class=\"dataframe\">\n",
       "  <thead>\n",
       "    <tr style=\"text-align: right;\">\n",
       "      <th></th>\n",
       "      <th>math</th>\n",
       "      <th>english</th>\n",
       "      <th>science</th>\n",
       "    </tr>\n",
       "  </thead>\n",
       "  <tbody>\n",
       "    <tr>\n",
       "      <th>0</th>\n",
       "      <td>70.0</td>\n",
       "      <td>NaN</td>\n",
       "      <td>NaN</td>\n",
       "    </tr>\n",
       "    <tr>\n",
       "      <th>1</th>\n",
       "      <td>75.0</td>\n",
       "      <td>65.0</td>\n",
       "      <td>80.0</td>\n",
       "    </tr>\n",
       "    <tr>\n",
       "      <th>2</th>\n",
       "      <td>NaN</td>\n",
       "      <td>NaN</td>\n",
       "      <td>NaN</td>\n",
       "    </tr>\n",
       "    <tr>\n",
       "      <th>3</th>\n",
       "      <td>56.0</td>\n",
       "      <td>89.0</td>\n",
       "      <td>NaN</td>\n",
       "    </tr>\n",
       "    <tr>\n",
       "      <th>4</th>\n",
       "      <td>89.0</td>\n",
       "      <td>95.0</td>\n",
       "      <td>83.0</td>\n",
       "    </tr>\n",
       "    <tr>\n",
       "      <th>5</th>\n",
       "      <td>90.0</td>\n",
       "      <td>100.0</td>\n",
       "      <td>89.0</td>\n",
       "    </tr>\n",
       "  </tbody>\n",
       "</table>\n",
       "</div>"
      ],
      "text/plain": [
       "   math  english  science\n",
       "0  70.0      NaN      NaN\n",
       "1  75.0     65.0     80.0\n",
       "2   NaN      NaN      NaN\n",
       "3  56.0     89.0      NaN\n",
       "4  89.0     95.0     83.0\n",
       "5  90.0    100.0     89.0"
      ]
     },
     "execution_count": 130,
     "metadata": {},
     "output_type": "execute_result"
    }
   ],
   "source": [
    "this_sample = pd.read_csv('data/csv_exam_nan.csv')\n",
    "\n",
    "this_sample"
   ]
  },
  {
   "cell_type": "markdown",
   "id": "01669e68",
   "metadata": {},
   "source": [
    "### 10.1. 결측치 처리 - 삭제, 선택\n",
    "\n",
    "1. 결측치`NaN`가 하나라도 있는 레코드 삭제\n",
    "\n",
    "2. 모든 값이 결측인 레코드 삭제\n",
    "\n",
    "3. 결측치가 하나라도 있는 데이터만 선택"
   ]
  },
  {
   "cell_type": "markdown",
   "id": "3e705b50",
   "metadata": {},
   "source": [
    "<br>\n",
    "\n",
    "1. 결측치가 하나 이상인 레코드(row) 삭제\n",
    "\n",
    "- `df.dropna(how='any')`\n",
    "\n",
    "- `df.dropna()` parameter default: `how='any'` > 하나라도 `NaN`이면 row 삭제\n",
    "\n",
    "- optional parameter: `inplace=True or False` > 원본 data에 반영 여부 결정"
   ]
  },
  {
   "cell_type": "code",
   "execution_count": 131,
   "id": "bcf5d5b1",
   "metadata": {},
   "outputs": [
    {
     "data": {
      "text/html": [
       "<div>\n",
       "<style scoped>\n",
       "    .dataframe tbody tr th:only-of-type {\n",
       "        vertical-align: middle;\n",
       "    }\n",
       "\n",
       "    .dataframe tbody tr th {\n",
       "        vertical-align: top;\n",
       "    }\n",
       "\n",
       "    .dataframe thead th {\n",
       "        text-align: right;\n",
       "    }\n",
       "</style>\n",
       "<table border=\"1\" class=\"dataframe\">\n",
       "  <thead>\n",
       "    <tr style=\"text-align: right;\">\n",
       "      <th></th>\n",
       "      <th>math</th>\n",
       "      <th>english</th>\n",
       "      <th>science</th>\n",
       "    </tr>\n",
       "  </thead>\n",
       "  <tbody>\n",
       "    <tr>\n",
       "      <th>1</th>\n",
       "      <td>75.0</td>\n",
       "      <td>65.0</td>\n",
       "      <td>80.0</td>\n",
       "    </tr>\n",
       "    <tr>\n",
       "      <th>4</th>\n",
       "      <td>89.0</td>\n",
       "      <td>95.0</td>\n",
       "      <td>83.0</td>\n",
       "    </tr>\n",
       "    <tr>\n",
       "      <th>5</th>\n",
       "      <td>90.0</td>\n",
       "      <td>100.0</td>\n",
       "      <td>89.0</td>\n",
       "    </tr>\n",
       "  </tbody>\n",
       "</table>\n",
       "</div>"
      ],
      "text/plain": [
       "   math  english  science\n",
       "1  75.0     65.0     80.0\n",
       "4  89.0     95.0     83.0\n",
       "5  90.0    100.0     89.0"
      ]
     },
     "execution_count": 131,
     "metadata": {},
     "output_type": "execute_result"
    }
   ],
   "source": [
    "this_sample.dropna()"
   ]
  },
  {
   "cell_type": "markdown",
   "id": "c408d466",
   "metadata": {},
   "source": [
    "<br>\n",
    "\n",
    "2. 모든 값이 `NaN`인 record만 삭제: `how='all'`"
   ]
  },
  {
   "cell_type": "code",
   "execution_count": 132,
   "id": "53326f75",
   "metadata": {},
   "outputs": [
    {
     "data": {
      "text/html": [
       "<div>\n",
       "<style scoped>\n",
       "    .dataframe tbody tr th:only-of-type {\n",
       "        vertical-align: middle;\n",
       "    }\n",
       "\n",
       "    .dataframe tbody tr th {\n",
       "        vertical-align: top;\n",
       "    }\n",
       "\n",
       "    .dataframe thead th {\n",
       "        text-align: right;\n",
       "    }\n",
       "</style>\n",
       "<table border=\"1\" class=\"dataframe\">\n",
       "  <thead>\n",
       "    <tr style=\"text-align: right;\">\n",
       "      <th></th>\n",
       "      <th>math</th>\n",
       "      <th>english</th>\n",
       "      <th>science</th>\n",
       "    </tr>\n",
       "  </thead>\n",
       "  <tbody>\n",
       "    <tr>\n",
       "      <th>0</th>\n",
       "      <td>70.0</td>\n",
       "      <td>NaN</td>\n",
       "      <td>NaN</td>\n",
       "    </tr>\n",
       "    <tr>\n",
       "      <th>1</th>\n",
       "      <td>75.0</td>\n",
       "      <td>65.0</td>\n",
       "      <td>80.0</td>\n",
       "    </tr>\n",
       "    <tr>\n",
       "      <th>3</th>\n",
       "      <td>56.0</td>\n",
       "      <td>89.0</td>\n",
       "      <td>NaN</td>\n",
       "    </tr>\n",
       "    <tr>\n",
       "      <th>4</th>\n",
       "      <td>89.0</td>\n",
       "      <td>95.0</td>\n",
       "      <td>83.0</td>\n",
       "    </tr>\n",
       "    <tr>\n",
       "      <th>5</th>\n",
       "      <td>90.0</td>\n",
       "      <td>100.0</td>\n",
       "      <td>89.0</td>\n",
       "    </tr>\n",
       "  </tbody>\n",
       "</table>\n",
       "</div>"
      ],
      "text/plain": [
       "   math  english  science\n",
       "0  70.0      NaN      NaN\n",
       "1  75.0     65.0     80.0\n",
       "3  56.0     89.0      NaN\n",
       "4  89.0     95.0     83.0\n",
       "5  90.0    100.0     89.0"
      ]
     },
     "execution_count": 132,
     "metadata": {},
     "output_type": "execute_result"
    }
   ],
   "source": [
    "this_sample.dropna(how='all')"
   ]
  },
  {
   "cell_type": "markdown",
   "id": "b3a3ec2a",
   "metadata": {},
   "source": [
    "<br>\n",
    "\n",
    "3.결측치가 하나라도 있는 data만 선택 > 조건색인 활용\n",
    "\n",
    "- `obj.isnull()`: `NaN`인 cell은 `True`, 아닌 셀은 `False`로 출력"
   ]
  },
  {
   "cell_type": "code",
   "execution_count": 133,
   "id": "f66b6a62",
   "metadata": {},
   "outputs": [
    {
     "data": {
      "text/html": [
       "<div>\n",
       "<style scoped>\n",
       "    .dataframe tbody tr th:only-of-type {\n",
       "        vertical-align: middle;\n",
       "    }\n",
       "\n",
       "    .dataframe tbody tr th {\n",
       "        vertical-align: top;\n",
       "    }\n",
       "\n",
       "    .dataframe thead th {\n",
       "        text-align: right;\n",
       "    }\n",
       "</style>\n",
       "<table border=\"1\" class=\"dataframe\">\n",
       "  <thead>\n",
       "    <tr style=\"text-align: right;\">\n",
       "      <th></th>\n",
       "      <th>math</th>\n",
       "      <th>english</th>\n",
       "      <th>science</th>\n",
       "    </tr>\n",
       "  </thead>\n",
       "  <tbody>\n",
       "    <tr>\n",
       "      <th>0</th>\n",
       "      <td>False</td>\n",
       "      <td>True</td>\n",
       "      <td>True</td>\n",
       "    </tr>\n",
       "    <tr>\n",
       "      <th>1</th>\n",
       "      <td>False</td>\n",
       "      <td>False</td>\n",
       "      <td>False</td>\n",
       "    </tr>\n",
       "    <tr>\n",
       "      <th>2</th>\n",
       "      <td>True</td>\n",
       "      <td>True</td>\n",
       "      <td>True</td>\n",
       "    </tr>\n",
       "    <tr>\n",
       "      <th>3</th>\n",
       "      <td>False</td>\n",
       "      <td>False</td>\n",
       "      <td>True</td>\n",
       "    </tr>\n",
       "    <tr>\n",
       "      <th>4</th>\n",
       "      <td>False</td>\n",
       "      <td>False</td>\n",
       "      <td>False</td>\n",
       "    </tr>\n",
       "    <tr>\n",
       "      <th>5</th>\n",
       "      <td>False</td>\n",
       "      <td>False</td>\n",
       "      <td>False</td>\n",
       "    </tr>\n",
       "  </tbody>\n",
       "</table>\n",
       "</div>"
      ],
      "text/plain": [
       "    math  english  science\n",
       "0  False     True     True\n",
       "1  False    False    False\n",
       "2   True     True     True\n",
       "3  False    False     True\n",
       "4  False    False    False\n",
       "5  False    False    False"
      ]
     },
     "execution_count": 133,
     "metadata": {},
     "output_type": "execute_result"
    }
   ],
   "source": [
    "this_sample.isnull()"
   ]
  },
  {
   "cell_type": "markdown",
   "id": "0a651b6b",
   "metadata": {},
   "source": [
    "<br>\n",
    "\n",
    "- `obj.isnull().any(axis=0)`: 해당 column에 `isnull()`의 결과값이 `True`인 셀이 있는지 체크\n",
    "\n",
    "    - default: `axis=0`: column 단위 기준\n",
    "\n",
    "    - `axis=1`: row 단위 기준"
   ]
  },
  {
   "cell_type": "code",
   "execution_count": 134,
   "id": "d7ecc606",
   "metadata": {},
   "outputs": [
    {
     "data": {
      "text/plain": [
       "math       True\n",
       "english    True\n",
       "science    True\n",
       "dtype: bool"
      ]
     },
     "execution_count": 134,
     "metadata": {},
     "output_type": "execute_result"
    }
   ],
   "source": [
    "this_sample.isnull().any()"
   ]
  },
  {
   "cell_type": "code",
   "execution_count": 135,
   "id": "8803937e",
   "metadata": {},
   "outputs": [
    {
     "data": {
      "text/plain": [
       "0     True\n",
       "1    False\n",
       "2     True\n",
       "3     True\n",
       "4    False\n",
       "5    False\n",
       "dtype: bool"
      ]
     },
     "execution_count": 135,
     "metadata": {},
     "output_type": "execute_result"
    }
   ],
   "source": [
    "this_sample.isnull().any(axis=1)"
   ]
  },
  {
   "cell_type": "markdown",
   "id": "7d89eccb",
   "metadata": {},
   "source": [
    "<br>\n",
    "\n",
    "- column별 `axis=0` 결측치 개수 총합"
   ]
  },
  {
   "cell_type": "code",
   "execution_count": 136,
   "id": "fabe4229",
   "metadata": {},
   "outputs": [
    {
     "data": {
      "text/plain": [
       "math       1\n",
       "english    2\n",
       "science    3\n",
       "dtype: int64"
      ]
     },
     "execution_count": 136,
     "metadata": {},
     "output_type": "execute_result"
    }
   ],
   "source": [
    "this_sample.isnull().sum()"
   ]
  },
  {
   "cell_type": "markdown",
   "id": "913ce056",
   "metadata": {},
   "source": [
    "<br>\n",
    "\n",
    "- 결측치가 하나라도 있는 record(row) 선택"
   ]
  },
  {
   "cell_type": "code",
   "execution_count": 137,
   "id": "c5c0b412",
   "metadata": {},
   "outputs": [
    {
     "data": {
      "text/html": [
       "<div>\n",
       "<style scoped>\n",
       "    .dataframe tbody tr th:only-of-type {\n",
       "        vertical-align: middle;\n",
       "    }\n",
       "\n",
       "    .dataframe tbody tr th {\n",
       "        vertical-align: top;\n",
       "    }\n",
       "\n",
       "    .dataframe thead th {\n",
       "        text-align: right;\n",
       "    }\n",
       "</style>\n",
       "<table border=\"1\" class=\"dataframe\">\n",
       "  <thead>\n",
       "    <tr style=\"text-align: right;\">\n",
       "      <th></th>\n",
       "      <th>math</th>\n",
       "      <th>english</th>\n",
       "      <th>science</th>\n",
       "    </tr>\n",
       "  </thead>\n",
       "  <tbody>\n",
       "    <tr>\n",
       "      <th>0</th>\n",
       "      <td>70.0</td>\n",
       "      <td>NaN</td>\n",
       "      <td>NaN</td>\n",
       "    </tr>\n",
       "    <tr>\n",
       "      <th>2</th>\n",
       "      <td>NaN</td>\n",
       "      <td>NaN</td>\n",
       "      <td>NaN</td>\n",
       "    </tr>\n",
       "    <tr>\n",
       "      <th>3</th>\n",
       "      <td>56.0</td>\n",
       "      <td>89.0</td>\n",
       "      <td>NaN</td>\n",
       "    </tr>\n",
       "  </tbody>\n",
       "</table>\n",
       "</div>"
      ],
      "text/plain": [
       "   math  english  science\n",
       "0  70.0      NaN      NaN\n",
       "2   NaN      NaN      NaN\n",
       "3  56.0     89.0      NaN"
      ]
     },
     "execution_count": 137,
     "metadata": {},
     "output_type": "execute_result"
    }
   ],
   "source": [
    "this_sample[this_sample.isnull().any(axis=1)]"
   ]
  },
  {
   "cell_type": "markdown",
   "id": "fa921180",
   "metadata": {},
   "source": [
    "### 10.2. 결측치 처리 - 대체값\n",
    "\n",
    "- 연속형 : 임의값(0 등...), mean, median, 예측값, 도메인지식 활용\n",
    "\n",
    "- 명목형 : mode(최빈값), 예측값, 도메인지식 활용"
   ]
  },
  {
   "cell_type": "markdown",
   "id": "3cce27b4",
   "metadata": {},
   "source": [
    "<br>\n",
    "\n",
    "- 연속형: 임의의 값으로 대체\n",
    "    \n",
    "    - `df.fillna(value)`"
   ]
  },
  {
   "cell_type": "code",
   "execution_count": 138,
   "id": "f77ae366",
   "metadata": {
    "scrolled": true
   },
   "outputs": [
    {
     "data": {
      "text/html": [
       "<div>\n",
       "<style scoped>\n",
       "    .dataframe tbody tr th:only-of-type {\n",
       "        vertical-align: middle;\n",
       "    }\n",
       "\n",
       "    .dataframe tbody tr th {\n",
       "        vertical-align: top;\n",
       "    }\n",
       "\n",
       "    .dataframe thead th {\n",
       "        text-align: right;\n",
       "    }\n",
       "</style>\n",
       "<table border=\"1\" class=\"dataframe\">\n",
       "  <thead>\n",
       "    <tr style=\"text-align: right;\">\n",
       "      <th></th>\n",
       "      <th>math</th>\n",
       "      <th>english</th>\n",
       "      <th>science</th>\n",
       "    </tr>\n",
       "  </thead>\n",
       "  <tbody>\n",
       "    <tr>\n",
       "      <th>0</th>\n",
       "      <td>70.0</td>\n",
       "      <td>0.0</td>\n",
       "      <td>0.0</td>\n",
       "    </tr>\n",
       "    <tr>\n",
       "      <th>1</th>\n",
       "      <td>75.0</td>\n",
       "      <td>65.0</td>\n",
       "      <td>80.0</td>\n",
       "    </tr>\n",
       "    <tr>\n",
       "      <th>2</th>\n",
       "      <td>0.0</td>\n",
       "      <td>0.0</td>\n",
       "      <td>0.0</td>\n",
       "    </tr>\n",
       "    <tr>\n",
       "      <th>3</th>\n",
       "      <td>56.0</td>\n",
       "      <td>89.0</td>\n",
       "      <td>0.0</td>\n",
       "    </tr>\n",
       "    <tr>\n",
       "      <th>4</th>\n",
       "      <td>89.0</td>\n",
       "      <td>95.0</td>\n",
       "      <td>83.0</td>\n",
       "    </tr>\n",
       "    <tr>\n",
       "      <th>5</th>\n",
       "      <td>90.0</td>\n",
       "      <td>100.0</td>\n",
       "      <td>89.0</td>\n",
       "    </tr>\n",
       "  </tbody>\n",
       "</table>\n",
       "</div>"
      ],
      "text/plain": [
       "   math  english  science\n",
       "0  70.0      0.0      0.0\n",
       "1  75.0     65.0     80.0\n",
       "2   0.0      0.0      0.0\n",
       "3  56.0     89.0      0.0\n",
       "4  89.0     95.0     83.0\n",
       "5  90.0    100.0     89.0"
      ]
     },
     "execution_count": 138,
     "metadata": {},
     "output_type": "execute_result"
    }
   ],
   "source": [
    "sample = this_sample\n",
    "\n",
    "sample.fillna(0)"
   ]
  },
  {
   "cell_type": "markdown",
   "id": "c9b48692",
   "metadata": {},
   "source": [
    "<br>\n",
    "\n",
    "- `obj.mean()`: 전체 데이터의 평균값\n",
    "    \n",
    "    - `df.mean()`: DataFrame의 column별 평균값, `NaN` 무시`"
   ]
  },
  {
   "cell_type": "code",
   "execution_count": 139,
   "id": "ddd9e4e7",
   "metadata": {},
   "outputs": [
    {
     "data": {
      "text/plain": [
       "math       76.00\n",
       "english    87.25\n",
       "science    84.00\n",
       "dtype: float64"
      ]
     },
     "execution_count": 139,
     "metadata": {},
     "output_type": "execute_result"
    }
   ],
   "source": [
    "sample.mean()"
   ]
  },
  {
   "cell_type": "markdown",
   "id": "ae7560f6",
   "metadata": {},
   "source": [
    "<br>\n",
    "\n",
    "- `df.values.mean()`: arr타입 연산, `NaN`값이 하나라도 있으면 결과도 `NaN`\n",
    "    \n",
    "    - `sample.values.mean()`: 전체 평균을 구할 수 있지만 `NaN`\n",
    "        \n",
    "        - `df.fillna(0)`: 결측치 보완 > `obj.mean()` 평균 구하기"
   ]
  },
  {
   "cell_type": "code",
   "execution_count": 140,
   "id": "9ccd995a",
   "metadata": {},
   "outputs": [
    {
     "data": {
      "text/html": [
       "<div>\n",
       "<style scoped>\n",
       "    .dataframe tbody tr th:only-of-type {\n",
       "        vertical-align: middle;\n",
       "    }\n",
       "\n",
       "    .dataframe tbody tr th {\n",
       "        vertical-align: top;\n",
       "    }\n",
       "\n",
       "    .dataframe thead th {\n",
       "        text-align: right;\n",
       "    }\n",
       "</style>\n",
       "<table border=\"1\" class=\"dataframe\">\n",
       "  <thead>\n",
       "    <tr style=\"text-align: right;\">\n",
       "      <th></th>\n",
       "      <th>math</th>\n",
       "      <th>english</th>\n",
       "      <th>science</th>\n",
       "    </tr>\n",
       "  </thead>\n",
       "  <tbody>\n",
       "    <tr>\n",
       "      <th>0</th>\n",
       "      <td>70.0</td>\n",
       "      <td>54.5</td>\n",
       "      <td>54.5</td>\n",
       "    </tr>\n",
       "    <tr>\n",
       "      <th>1</th>\n",
       "      <td>75.0</td>\n",
       "      <td>65.0</td>\n",
       "      <td>80.0</td>\n",
       "    </tr>\n",
       "    <tr>\n",
       "      <th>2</th>\n",
       "      <td>54.5</td>\n",
       "      <td>54.5</td>\n",
       "      <td>54.5</td>\n",
       "    </tr>\n",
       "    <tr>\n",
       "      <th>3</th>\n",
       "      <td>56.0</td>\n",
       "      <td>89.0</td>\n",
       "      <td>54.5</td>\n",
       "    </tr>\n",
       "    <tr>\n",
       "      <th>4</th>\n",
       "      <td>89.0</td>\n",
       "      <td>95.0</td>\n",
       "      <td>83.0</td>\n",
       "    </tr>\n",
       "    <tr>\n",
       "      <th>5</th>\n",
       "      <td>90.0</td>\n",
       "      <td>100.0</td>\n",
       "      <td>89.0</td>\n",
       "    </tr>\n",
       "  </tbody>\n",
       "</table>\n",
       "</div>"
      ],
      "text/plain": [
       "   math  english  science\n",
       "0  70.0     54.5     54.5\n",
       "1  75.0     65.0     80.0\n",
       "2  54.5     54.5     54.5\n",
       "3  56.0     89.0     54.5\n",
       "4  89.0     95.0     83.0\n",
       "5  90.0    100.0     89.0"
      ]
     },
     "execution_count": 140,
     "metadata": {},
     "output_type": "execute_result"
    }
   ],
   "source": [
    "tot_avg = sample.fillna(0).values.mean()\n",
    "\n",
    "sample.fillna(tot_avg)"
   ]
  },
  {
   "cell_type": "markdown",
   "id": "aa2ab0b6",
   "metadata": {},
   "source": [
    "<br>\n",
    "\n",
    "- `obj.mean()`: 결측치가 존재하는 속성(column)의 평균 값\n",
    "    \n",
    "    - `df.mean()`: 컬럼별 평균 > indexing으로 과목별 평균 추출"
   ]
  },
  {
   "cell_type": "code",
   "execution_count": 141,
   "id": "d737d3e2",
   "metadata": {},
   "outputs": [
    {
     "name": "stdout",
     "output_type": "stream",
     "text": [
      "76.0\n",
      "87.25\n",
      "84.0\n"
     ]
    }
   ],
   "source": [
    "print(sample.mean()[0])\n",
    "print(sample.mean()[1])\n",
    "print(sample.mean()[2])"
   ]
  },
  {
   "cell_type": "markdown",
   "id": "a697ba84",
   "metadata": {},
   "source": [
    "<br>\n",
    "\n",
    "- `math` column 지정 후 평균 구하기"
   ]
  },
  {
   "cell_type": "code",
   "execution_count": 142,
   "id": "c0c504c4",
   "metadata": {},
   "outputs": [
    {
     "data": {
      "text/plain": [
       "76.0"
      ]
     },
     "execution_count": 142,
     "metadata": {},
     "output_type": "execute_result"
    }
   ],
   "source": [
    "# 컬럼 지정 후 평균 구하기\n",
    "sample['math'].mean()"
   ]
  },
  {
   "cell_type": "markdown",
   "id": "4df091b6",
   "metadata": {},
   "source": [
    "<br>\n",
    "\n",
    "- `obj.fillna()`로 결측치 대신 각 column의 평균값 넣기"
   ]
  },
  {
   "cell_type": "code",
   "execution_count": 143,
   "id": "cdfa0e8a",
   "metadata": {},
   "outputs": [
    {
     "data": {
      "text/plain": [
       "Index(['math', 'english', 'science'], dtype='object')"
      ]
     },
     "execution_count": 143,
     "metadata": {},
     "output_type": "execute_result"
    }
   ],
   "source": [
    "sample.columns"
   ]
  },
  {
   "cell_type": "code",
   "execution_count": 144,
   "id": "5cc31b5e",
   "metadata": {},
   "outputs": [
    {
     "name": "stdout",
     "output_type": "stream",
     "text": [
      "0    70.0\n",
      "1    75.0\n",
      "2    76.0\n",
      "3    56.0\n",
      "4    89.0\n",
      "5    90.0\n",
      "Name: math, dtype: float64\n",
      "0     87.25\n",
      "1     65.00\n",
      "2     87.25\n",
      "3     89.00\n",
      "4     95.00\n",
      "5    100.00\n",
      "Name: english, dtype: float64\n",
      "0    84.0\n",
      "1    80.0\n",
      "2    84.0\n",
      "3    84.0\n",
      "4    83.0\n",
      "5    89.0\n",
      "Name: science, dtype: float64\n"
     ]
    }
   ],
   "source": [
    "for col in sample.columns:\n",
    "    print(sample[col].fillna(sample[col].mean()))"
   ]
  },
  {
   "cell_type": "markdown",
   "id": "8bc61a7a",
   "metadata": {},
   "source": [
    "<br>\n",
    "\n",
    "- `obj.median()`: 전체 데이터에 대한 중위값\n",
    "    \n",
    "    - `Series`나 `DataFrame`은 벡터연산시 자동으로 `NaN`배제\n",
    "    \n",
    "        - 전체 데이터의 중위값을 구하기 위해 먼저 `Series`로 바꿔줌\n",
    "        \n",
    "        - `obj.reshape(obj.size)`: 1차원 배열크기로 변경"
   ]
  },
  {
   "cell_type": "code",
   "execution_count": 147,
   "id": "23813cd5",
   "metadata": {},
   "outputs": [
    {
     "data": {
      "text/plain": [
       "0      70.0\n",
       "1       NaN\n",
       "2       NaN\n",
       "3      75.0\n",
       "4      65.0\n",
       "5      80.0\n",
       "6       NaN\n",
       "7       NaN\n",
       "8       NaN\n",
       "9      56.0\n",
       "10     89.0\n",
       "11      NaN\n",
       "12     89.0\n",
       "13     95.0\n",
       "14     83.0\n",
       "15     90.0\n",
       "16    100.0\n",
       "17     89.0\n",
       "dtype: float64"
      ]
     },
     "execution_count": 147,
     "metadata": {},
     "output_type": "execute_result"
    }
   ],
   "source": [
    "sample_1dim = pd.Series(sample.values.reshape(sample.size))\n",
    "\n",
    "sample_1dim"
   ]
  },
  {
   "cell_type": "code",
   "execution_count": 148,
   "id": "4bec4d2b",
   "metadata": {},
   "outputs": [
    {
     "data": {
      "text/plain": [
       "86.0"
      ]
     },
     "execution_count": 148,
     "metadata": {},
     "output_type": "execute_result"
    }
   ],
   "source": [
    "sample_median = sample_1dim.median()\n",
    "\n",
    "sample_median"
   ]
  },
  {
   "cell_type": "code",
   "execution_count": 149,
   "id": "139447b1",
   "metadata": {},
   "outputs": [
    {
     "data": {
      "text/html": [
       "<div>\n",
       "<style scoped>\n",
       "    .dataframe tbody tr th:only-of-type {\n",
       "        vertical-align: middle;\n",
       "    }\n",
       "\n",
       "    .dataframe tbody tr th {\n",
       "        vertical-align: top;\n",
       "    }\n",
       "\n",
       "    .dataframe thead th {\n",
       "        text-align: right;\n",
       "    }\n",
       "</style>\n",
       "<table border=\"1\" class=\"dataframe\">\n",
       "  <thead>\n",
       "    <tr style=\"text-align: right;\">\n",
       "      <th></th>\n",
       "      <th>math</th>\n",
       "      <th>english</th>\n",
       "      <th>science</th>\n",
       "    </tr>\n",
       "  </thead>\n",
       "  <tbody>\n",
       "    <tr>\n",
       "      <th>0</th>\n",
       "      <td>70.0</td>\n",
       "      <td>86.0</td>\n",
       "      <td>86.0</td>\n",
       "    </tr>\n",
       "    <tr>\n",
       "      <th>1</th>\n",
       "      <td>75.0</td>\n",
       "      <td>65.0</td>\n",
       "      <td>80.0</td>\n",
       "    </tr>\n",
       "    <tr>\n",
       "      <th>2</th>\n",
       "      <td>86.0</td>\n",
       "      <td>86.0</td>\n",
       "      <td>86.0</td>\n",
       "    </tr>\n",
       "    <tr>\n",
       "      <th>3</th>\n",
       "      <td>56.0</td>\n",
       "      <td>89.0</td>\n",
       "      <td>86.0</td>\n",
       "    </tr>\n",
       "    <tr>\n",
       "      <th>4</th>\n",
       "      <td>89.0</td>\n",
       "      <td>95.0</td>\n",
       "      <td>83.0</td>\n",
       "    </tr>\n",
       "    <tr>\n",
       "      <th>5</th>\n",
       "      <td>90.0</td>\n",
       "      <td>100.0</td>\n",
       "      <td>89.0</td>\n",
       "    </tr>\n",
       "  </tbody>\n",
       "</table>\n",
       "</div>"
      ],
      "text/plain": [
       "   math  english  science\n",
       "0  70.0     86.0     86.0\n",
       "1  75.0     65.0     80.0\n",
       "2  86.0     86.0     86.0\n",
       "3  56.0     89.0     86.0\n",
       "4  89.0     95.0     83.0\n",
       "5  90.0    100.0     89.0"
      ]
     },
     "execution_count": 149,
     "metadata": {},
     "output_type": "execute_result"
    }
   ],
   "source": [
    "sample.fillna(sample_median)"
   ]
  },
  {
   "cell_type": "markdown",
   "id": "0ea41a45",
   "metadata": {},
   "source": [
    "<br>\n",
    "\n",
    "- `mode`: 범주형 data에서 최빈값 사용\n",
    "    \n",
    "    - `obj.descrive()`: 통계분석, 기술통계\n",
    "        \n",
    "    - `obj.value_counts()`: 고유값(value)의 counter"
   ]
  },
  {
   "cell_type": "code",
   "execution_count": 150,
   "id": "9e5849d7",
   "metadata": {},
   "outputs": [
    {
     "data": {
      "text/html": [
       "<div>\n",
       "<style scoped>\n",
       "    .dataframe tbody tr th:only-of-type {\n",
       "        vertical-align: middle;\n",
       "    }\n",
       "\n",
       "    .dataframe tbody tr th {\n",
       "        vertical-align: top;\n",
       "    }\n",
       "\n",
       "    .dataframe thead th {\n",
       "        text-align: right;\n",
       "    }\n",
       "</style>\n",
       "<table border=\"1\" class=\"dataframe\">\n",
       "  <thead>\n",
       "    <tr style=\"text-align: right;\">\n",
       "      <th></th>\n",
       "      <th>label</th>\n",
       "    </tr>\n",
       "  </thead>\n",
       "  <tbody>\n",
       "    <tr>\n",
       "      <th>0</th>\n",
       "      <td>A</td>\n",
       "    </tr>\n",
       "    <tr>\n",
       "      <th>1</th>\n",
       "      <td>B</td>\n",
       "    </tr>\n",
       "    <tr>\n",
       "      <th>2</th>\n",
       "      <td>B</td>\n",
       "    </tr>\n",
       "    <tr>\n",
       "      <th>3</th>\n",
       "      <td>C</td>\n",
       "    </tr>\n",
       "    <tr>\n",
       "      <th>4</th>\n",
       "      <td>C</td>\n",
       "    </tr>\n",
       "    <tr>\n",
       "      <th>5</th>\n",
       "      <td>C</td>\n",
       "    </tr>\n",
       "    <tr>\n",
       "      <th>6</th>\n",
       "      <td>D</td>\n",
       "    </tr>\n",
       "  </tbody>\n",
       "</table>\n",
       "</div>"
      ],
      "text/plain": [
       "  label\n",
       "0     A\n",
       "1     B\n",
       "2     B\n",
       "3     C\n",
       "4     C\n",
       "5     C\n",
       "6     D"
      ]
     },
     "execution_count": 150,
     "metadata": {},
     "output_type": "execute_result"
    }
   ],
   "source": [
    "df = pd.DataFrame({'label':['A', 'B', 'B', 'C', 'C', 'C', 'D']})\n",
    "df"
   ]
  },
  {
   "cell_type": "markdown",
   "id": "a631cc68",
   "metadata": {},
   "source": [
    "<br>\n",
    "\n",
    "- `obj.describe()`: 범주형 데이터 통계분석시\n",
    "    \n",
    "    - `count`: 총 데이터 item의 개수\n",
    "        \n",
    "    - `unique`: 고유값(value)이 몇 개인지\n",
    "        \n",
    "    - `top`: 가장 많이 존재하는 item\n",
    "        \n",
    "    - `freq`: `top` item의 빈도(개수)"
   ]
  },
  {
   "cell_type": "code",
   "execution_count": 151,
   "id": "4a7b05e8",
   "metadata": {},
   "outputs": [
    {
     "data": {
      "text/html": [
       "<div>\n",
       "<style scoped>\n",
       "    .dataframe tbody tr th:only-of-type {\n",
       "        vertical-align: middle;\n",
       "    }\n",
       "\n",
       "    .dataframe tbody tr th {\n",
       "        vertical-align: top;\n",
       "    }\n",
       "\n",
       "    .dataframe thead th {\n",
       "        text-align: right;\n",
       "    }\n",
       "</style>\n",
       "<table border=\"1\" class=\"dataframe\">\n",
       "  <thead>\n",
       "    <tr style=\"text-align: right;\">\n",
       "      <th></th>\n",
       "      <th>label</th>\n",
       "    </tr>\n",
       "  </thead>\n",
       "  <tbody>\n",
       "    <tr>\n",
       "      <th>count</th>\n",
       "      <td>7</td>\n",
       "    </tr>\n",
       "    <tr>\n",
       "      <th>unique</th>\n",
       "      <td>4</td>\n",
       "    </tr>\n",
       "    <tr>\n",
       "      <th>top</th>\n",
       "      <td>C</td>\n",
       "    </tr>\n",
       "    <tr>\n",
       "      <th>freq</th>\n",
       "      <td>3</td>\n",
       "    </tr>\n",
       "  </tbody>\n",
       "</table>\n",
       "</div>"
      ],
      "text/plain": [
       "       label\n",
       "count      7\n",
       "unique     4\n",
       "top        C\n",
       "freq       3"
      ]
     },
     "execution_count": 151,
     "metadata": {},
     "output_type": "execute_result"
    }
   ],
   "source": [
    "df.describe()"
   ]
  },
  {
   "cell_type": "markdown",
   "id": "fb8f7e0e",
   "metadata": {},
   "source": [
    "<br>\n",
    "\n",
    "- `column label` 지정: `Series` 추출\n",
    "    \n",
    "    - `obj.value_counts`: 각 범주형 data별 개수 추출"
   ]
  },
  {
   "cell_type": "code",
   "execution_count": 152,
   "id": "dc1be722",
   "metadata": {},
   "outputs": [
    {
     "data": {
      "text/plain": [
       "C    3\n",
       "B    2\n",
       "A    1\n",
       "D    1\n",
       "Name: label, dtype: int64"
      ]
     },
     "execution_count": 152,
     "metadata": {},
     "output_type": "execute_result"
    }
   ],
   "source": [
    "df.label.value_counts()"
   ]
  },
  {
   "cell_type": "code",
   "execution_count": 153,
   "id": "8cdd381d",
   "metadata": {},
   "outputs": [],
   "source": [
    "from collections import Counter"
   ]
  },
  {
   "cell_type": "markdown",
   "id": "9917051b",
   "metadata": {},
   "source": [
    "1. `collections` library `Counter` import\n",
    "\n",
    "2. `Counter()`를 이용해서 `Counter` type data 생성\n",
    "\n",
    "3. `Counter.most_common()`: return `[(value1, count1), (value2, count2), ...]`"
   ]
  },
  {
   "cell_type": "code",
   "execution_count": 154,
   "id": "0ac8ac9c",
   "metadata": {},
   "outputs": [
    {
     "data": {
      "text/plain": [
       "Counter({'red': 2, 'blue': 3, 'pink': 1})"
      ]
     },
     "execution_count": 154,
     "metadata": {},
     "output_type": "execute_result"
    }
   ],
   "source": [
    "colors = ['red', 'blue', 'pink', 'blue', 'blue', 'red']\n",
    "\n",
    "counter = Counter(colors)\n",
    "counter"
   ]
  },
  {
   "cell_type": "code",
   "execution_count": 155,
   "id": "bb957957",
   "metadata": {},
   "outputs": [
    {
     "data": {
      "text/plain": [
       "[('blue', 3), ('red', 2), ('pink', 1)]"
      ]
     },
     "execution_count": 155,
     "metadata": {},
     "output_type": "execute_result"
    }
   ],
   "source": [
    "counter.most_common()"
   ]
  },
  {
   "cell_type": "markdown",
   "id": "4c935910",
   "metadata": {},
   "source": [
    "<br>\n",
    "\n",
    "- `DataFrame.column`을 `Counter()`의 parameter로 사용 가능"
   ]
  },
  {
   "cell_type": "code",
   "execution_count": 156,
   "id": "c6bfcf6a",
   "metadata": {},
   "outputs": [
    {
     "data": {
      "text/plain": [
       "[('C', 3), ('B', 2), ('A', 1), ('D', 1)]"
      ]
     },
     "execution_count": 156,
     "metadata": {},
     "output_type": "execute_result"
    }
   ],
   "source": [
    "Counter(df.label).most_common()"
   ]
  },
  {
   "cell_type": "markdown",
   "id": "3831abdd",
   "metadata": {},
   "source": [
    "<br>\n",
    "\n",
    "## 11. 데이터 단위 통일\n",
    "\n",
    "### 11.1 표준화(Standardization)\n",
    "\n",
    "- 평균을 기준으로 얼마나 떨어져 있는지를 파악\n",
    "\n",
    "- sklearn에서 제공하는 전처리 클래스\n",
    "\n",
    "- preprocessing 클래스\n",
    "\n",
    "    - `scale()` : 전체 자료의 분포를 평균 0, 표준편차 1이 되도록 스케일링\n",
    "\n",
    "    - `minmax_scale()` : 최대/최소값이 각각 1, 0이 되도록 스케일링\n",
    "\n",
    "    - `StandardScaler()` : scaler() 함수와 동일한 동작"
   ]
  },
  {
   "cell_type": "markdown",
   "id": "132fd145",
   "metadata": {},
   "source": [
    "- 표준화 : (요소값(하나의 데이터) - 평균) / 표준편차\n",
    "\n",
    "- 몸무게 vs 키\n",
    "    \n",
    "    - 표준화 결과 : 몸무게 < 0, 키 > 0\n",
    "    \n",
    "        - 해석 : 몸무게는 평균 이하, 키는 평균 이상"
   ]
  },
  {
   "cell_type": "markdown",
   "id": "118f8437",
   "metadata": {},
   "source": [
    "<br>\n",
    "\n",
    "- 전처리 기능 제공 `sklearn` library 및 module 가져오기"
   ]
  },
  {
   "cell_type": "code",
   "execution_count": 157,
   "id": "fb358d5c",
   "metadata": {},
   "outputs": [],
   "source": [
    "from sklearn.preprocessing import scale, minmax_scale"
   ]
  },
  {
   "cell_type": "markdown",
   "id": "bffe1508",
   "metadata": {},
   "source": [
    "<br>\n",
    "\n",
    "- $-3 \\leq x \\leq 5$인 정수 x를 가지는 9 X 1 배열 생성"
   ]
  },
  {
   "cell_type": "code",
   "execution_count": 158,
   "id": "defa2c09",
   "metadata": {},
   "outputs": [
    {
     "data": {
      "text/plain": [
       "array([[-3],\n",
       "       [-2],\n",
       "       [-1],\n",
       "       [ 0],\n",
       "       [ 1],\n",
       "       [ 2],\n",
       "       [ 3],\n",
       "       [ 4],\n",
       "       [ 5]])"
      ]
     },
     "execution_count": 158,
     "metadata": {},
     "output_type": "execute_result"
    }
   ],
   "source": [
    "arr_x = (np.arange(9)-3).reshape(-1, 1)\n",
    "\n",
    "arr_x"
   ]
  },
  {
   "cell_type": "markdown",
   "id": "f7b758a0",
   "metadata": {},
   "source": [
    "<br>\n",
    "\n",
    "- `arr_x`, `scale(arr_x)`, `minmax_scale(arr_x)`를 column으로 가지는 `DataFrame`생성"
   ]
  },
  {
   "cell_type": "code",
   "execution_count": 159,
   "id": "675418d2",
   "metadata": {},
   "outputs": [
    {
     "data": {
      "text/plain": [
       "numpy.ndarray"
      ]
     },
     "execution_count": 159,
     "metadata": {},
     "output_type": "execute_result"
    }
   ],
   "source": [
    "type(arr_x)"
   ]
  },
  {
   "cell_type": "code",
   "execution_count": 160,
   "id": "c16aa865",
   "metadata": {},
   "outputs": [
    {
     "data": {
      "text/plain": [
       "array([[-1.54919334],\n",
       "       [-1.161895  ],\n",
       "       [-0.77459667],\n",
       "       [-0.38729833],\n",
       "       [ 0.        ],\n",
       "       [ 0.38729833],\n",
       "       [ 0.77459667],\n",
       "       [ 1.161895  ],\n",
       "       [ 1.54919334]])"
      ]
     },
     "execution_count": 160,
     "metadata": {},
     "output_type": "execute_result"
    }
   ],
   "source": [
    "scale(arr_x)"
   ]
  },
  {
   "cell_type": "code",
   "execution_count": 161,
   "id": "c88c545c",
   "metadata": {},
   "outputs": [
    {
     "data": {
      "text/plain": [
       "array([[0.   ],\n",
       "       [0.125],\n",
       "       [0.25 ],\n",
       "       [0.375],\n",
       "       [0.5  ],\n",
       "       [0.625],\n",
       "       [0.75 ],\n",
       "       [0.875],\n",
       "       [1.   ]])"
      ]
     },
     "execution_count": 161,
     "metadata": {},
     "output_type": "execute_result"
    }
   ],
   "source": [
    "minmax_scale(arr_x)"
   ]
  },
  {
   "cell_type": "markdown",
   "id": "72e4e5f7",
   "metadata": {},
   "source": [
    "<br>\n",
    "\n",
    "- `np.hstack([obj1, obj2, ...])`: 가로축 방향으로 붙임\n",
    "\n",
    "- `np.vstack([obj1, obj2, ...])`: 세로축 방향으로 붙임"
   ]
  },
  {
   "cell_type": "code",
   "execution_count": 162,
   "id": "ac8f3956",
   "metadata": {},
   "outputs": [
    {
     "data": {
      "text/html": [
       "<div>\n",
       "<style scoped>\n",
       "    .dataframe tbody tr th:only-of-type {\n",
       "        vertical-align: middle;\n",
       "    }\n",
       "\n",
       "    .dataframe tbody tr th {\n",
       "        vertical-align: top;\n",
       "    }\n",
       "\n",
       "    .dataframe thead th {\n",
       "        text-align: right;\n",
       "    }\n",
       "</style>\n",
       "<table border=\"1\" class=\"dataframe\">\n",
       "  <thead>\n",
       "    <tr style=\"text-align: right;\">\n",
       "      <th></th>\n",
       "      <th>arr_x</th>\n",
       "      <th>scale</th>\n",
       "      <th>minmax_scale</th>\n",
       "    </tr>\n",
       "  </thead>\n",
       "  <tbody>\n",
       "    <tr>\n",
       "      <th>0</th>\n",
       "      <td>-3.0</td>\n",
       "      <td>-1.549193</td>\n",
       "      <td>0.000</td>\n",
       "    </tr>\n",
       "    <tr>\n",
       "      <th>1</th>\n",
       "      <td>-2.0</td>\n",
       "      <td>-1.161895</td>\n",
       "      <td>0.125</td>\n",
       "    </tr>\n",
       "    <tr>\n",
       "      <th>2</th>\n",
       "      <td>-1.0</td>\n",
       "      <td>-0.774597</td>\n",
       "      <td>0.250</td>\n",
       "    </tr>\n",
       "    <tr>\n",
       "      <th>3</th>\n",
       "      <td>0.0</td>\n",
       "      <td>-0.387298</td>\n",
       "      <td>0.375</td>\n",
       "    </tr>\n",
       "    <tr>\n",
       "      <th>4</th>\n",
       "      <td>1.0</td>\n",
       "      <td>0.000000</td>\n",
       "      <td>0.500</td>\n",
       "    </tr>\n",
       "    <tr>\n",
       "      <th>5</th>\n",
       "      <td>2.0</td>\n",
       "      <td>0.387298</td>\n",
       "      <td>0.625</td>\n",
       "    </tr>\n",
       "    <tr>\n",
       "      <th>6</th>\n",
       "      <td>3.0</td>\n",
       "      <td>0.774597</td>\n",
       "      <td>0.750</td>\n",
       "    </tr>\n",
       "    <tr>\n",
       "      <th>7</th>\n",
       "      <td>4.0</td>\n",
       "      <td>1.161895</td>\n",
       "      <td>0.875</td>\n",
       "    </tr>\n",
       "    <tr>\n",
       "      <th>8</th>\n",
       "      <td>5.0</td>\n",
       "      <td>1.549193</td>\n",
       "      <td>1.000</td>\n",
       "    </tr>\n",
       "  </tbody>\n",
       "</table>\n",
       "</div>"
      ],
      "text/plain": [
       "   arr_x     scale  minmax_scale\n",
       "0   -3.0 -1.549193         0.000\n",
       "1   -2.0 -1.161895         0.125\n",
       "2   -1.0 -0.774597         0.250\n",
       "3    0.0 -0.387298         0.375\n",
       "4    1.0  0.000000         0.500\n",
       "5    2.0  0.387298         0.625\n",
       "6    3.0  0.774597         0.750\n",
       "7    4.0  1.161895         0.875\n",
       "8    5.0  1.549193         1.000"
      ]
     },
     "execution_count": 162,
     "metadata": {},
     "output_type": "execute_result"
    }
   ],
   "source": [
    "my_df = pd.DataFrame(np.hstack([arr_x, scale(arr_x), minmax_scale(arr_x)]),\n",
    "                     columns=['arr_x', 'scale', 'minmax_scale'])\n",
    "\n",
    "my_df"
   ]
  },
  {
   "cell_type": "code",
   "execution_count": 163,
   "id": "3d7005f6",
   "metadata": {},
   "outputs": [
    {
     "data": {
      "text/plain": [
       "arr_x           2.738613\n",
       "scale           1.060660\n",
       "minmax_scale    0.342327\n",
       "dtype: float64"
      ]
     },
     "execution_count": 163,
     "metadata": {},
     "output_type": "execute_result"
    }
   ],
   "source": [
    "my_df.std()"
   ]
  }
 ],
 "metadata": {
  "kernelspec": {
   "display_name": "Python 3 (ipykernel)",
   "language": "python",
   "name": "python3"
  },
  "language_info": {
   "codemirror_mode": {
    "name": "ipython",
    "version": 3
   },
   "file_extension": ".py",
   "mimetype": "text/x-python",
   "name": "python",
   "nbconvert_exporter": "python",
   "pygments_lexer": "ipython3",
   "version": "3.9.13"
  }
 },
 "nbformat": 4,
 "nbformat_minor": 5
}
