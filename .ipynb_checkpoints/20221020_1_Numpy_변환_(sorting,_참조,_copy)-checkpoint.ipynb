{
 "cells": [
  {
   "cell_type": "markdown",
   "id": "e30ad6e6",
   "metadata": {},
   "source": [
    "# Numpty 변환 (sorting, 참조, copy)"
   ]
  },
  {
   "cell_type": "code",
   "execution_count": 1,
   "id": "4eca03e9",
   "metadata": {},
   "outputs": [],
   "source": [
    "import numpy as np\n",
    "\n",
    "def np_print(nparr):\n",
    "    print('''\n",
    "    type : {}\n",
    "    shape : {}\n",
    "    dimension : {}\n",
    "    dtype : {}\n",
    "    data :\\n {}\n",
    "    '''.format(type(nparr), nparr.shape, nparr.ndim, nparr.dtype, nparr))"
   ]
  },
  {
   "cell_type": "markdown",
   "id": "9b365d7a",
   "metadata": {},
   "source": [
    "## 1. 배열 정렬\n",
    "- sort(axis = -1) 메서드 : axis를 기준으로 요소를 오름차순 정렬\n",
    "    - 기본값(axis = -1) : 현재 배열의 마지막 axis\n",
    "    - axis = 0 : 열 단위 정렬\n",
    "    - axis = 1 : 행 단위 정렬\n",
    "    - 원본 객체에 정렬 결과가 반영됨\n",
    "- np.sort(axis = -1) : axis를 기준으로 요소를 오름차순 정렬\n",
    "    - 기본값(axis = -1) : 현재 배열의 마지막 axis\n",
    "    - axis = 0 : 열 단위 정렬\n",
    "    - axis = 1 : 행 단위 정렬\n",
    "    - 정렬된 새로운 배열을 반환함\n",
    "- np.argsort(arr) : 정렬 순서를 반환\n",
    "    - 기본값(axis = -1) : 현재 배열의 마지막 axis\n",
    "    - axis = 0 : 열 단위 정렬\n",
    "    - axis = 1 : 행 단위 정렬"
   ]
  },
  {
   "cell_type": "markdown",
   "id": "ad5be985",
   "metadata": {},
   "source": [
    "- 1차원 배열 생성"
   ]
  },
  {
   "cell_type": "code",
   "execution_count": 2,
   "id": "786bca09",
   "metadata": {},
   "outputs": [
    {
     "name": "stdout",
     "output_type": "stream",
     "text": [
      "\n",
      "    type : <class 'numpy.ndarray'>\n",
      "    shape : (5,)\n",
      "    dimension : 1\n",
      "    dtype : int32\n",
      "    data :\n",
      " [0 1 2 3 4]\n",
      "    \n"
     ]
    }
   ],
   "source": [
    "ndarr_1d = np.arange(0, 5)\n",
    "\n",
    "np_print(ndarr_1d)"
   ]
  },
  {
   "cell_type": "markdown",
   "id": "0c4427db",
   "metadata": {},
   "source": [
    "- reverse"
   ]
  },
  {
   "cell_type": "code",
   "execution_count": 3,
   "id": "5240aaad",
   "metadata": {},
   "outputs": [
    {
     "data": {
      "text/plain": [
       "array([4, 3, 2, 1, 0])"
      ]
     },
     "execution_count": 3,
     "metadata": {},
     "output_type": "execute_result"
    }
   ],
   "source": [
    "ndarr_1d[::-1]"
   ]
  },
  {
   "cell_type": "markdown",
   "id": "916d8dba",
   "metadata": {},
   "source": [
    "<br>\n",
    "\n",
    "- 난수 패턴 고정"
   ]
  },
  {
   "cell_type": "code",
   "execution_count": 17,
   "id": "307cdaae",
   "metadata": {},
   "outputs": [],
   "source": [
    "np.random.seed(20)"
   ]
  },
  {
   "cell_type": "code",
   "execution_count": 18,
   "id": "512d125a",
   "metadata": {},
   "outputs": [
    {
     "name": "stdout",
     "output_type": "stream",
     "text": [
      "\n",
      "    type : <class 'numpy.ndarray'>\n",
      "    shape : (5,)\n",
      "    dimension : 1\n",
      "    dtype : int32\n",
      "    data :\n",
      " [3 9 4 6 7]\n",
      "    \n"
     ]
    }
   ],
   "source": [
    "ndarr_a = np.random.randint(0, 10, size=(5))\n",
    "\n",
    "np_print(ndarr_a)"
   ]
  },
  {
   "cell_type": "markdown",
   "id": "7c20f188",
   "metadata": {},
   "source": [
    "### 1.1. `np.sort(ndarr, axis=-1)`\n",
    "- sort(axis = -1) 메서드 : axis를 기준으로 요소를 오름차순 정렬\n",
    "    - 기본값(axis = -1) : 현재 배열의 마지막 axis\n",
    "    - axis = 0 : 열 단위 정렬\n",
    "    - axis = 1 : 행 단위 정렬\n",
    "    - 원본 객체에 정렬 결과가 반영됨"
   ]
  },
  {
   "cell_type": "markdown",
   "id": "9d30899a",
   "metadata": {},
   "source": [
    "<br>\n",
    "\n",
    "`np.sort(data)` > 원본 반영 X"
   ]
  },
  {
   "cell_type": "code",
   "execution_count": 10,
   "id": "3faf1425",
   "metadata": {},
   "outputs": [
    {
     "name": "stdout",
     "output_type": "stream",
     "text": [
      "\n",
      "    type : <class 'numpy.ndarray'>\n",
      "    shape : (5,)\n",
      "    dimension : 1\n",
      "    dtype : int32\n",
      "    data :\n",
      " [3 4 6 7 9]\n",
      "    \n",
      "\n",
      "    type : <class 'numpy.ndarray'>\n",
      "    shape : (5,)\n",
      "    dimension : 1\n",
      "    dtype : int32\n",
      "    data :\n",
      " [3 9 4 6 7]\n",
      "    \n"
     ]
    }
   ],
   "source": [
    "np_print(np.sort(ndarr_a))\n",
    "\n",
    "np_print(ndarr_a)"
   ]
  },
  {
   "cell_type": "markdown",
   "id": "ff0179a9",
   "metadata": {},
   "source": [
    "<br>\n",
    "\n",
    "### 1.2. `ndarr.sort()` > 원본 자료 변경"
   ]
  },
  {
   "cell_type": "code",
   "execution_count": 13,
   "id": "84721a4a",
   "metadata": {},
   "outputs": [
    {
     "name": "stdout",
     "output_type": "stream",
     "text": [
      "\n",
      "    type : <class 'numpy.ndarray'>\n",
      "    shape : (5,)\n",
      "    dimension : 1\n",
      "    dtype : int32\n",
      "    data :\n",
      " [3 4 6 7 9]\n",
      "    \n"
     ]
    }
   ],
   "source": [
    "ndarr_a.sort()\n",
    "\n",
    "np_print(ndarr_a)"
   ]
  },
  {
   "cell_type": "markdown",
   "id": "f4be001b",
   "metadata": {},
   "source": [
    "<br>"
   ]
  },
  {
   "cell_type": "markdown",
   "id": "9e13704f",
   "metadata": {},
   "source": [
    "### 1.3. `np.argsort(ndarr)`\n",
    "\n",
    "- 내부의 item들을 오름차순 정렬하기 위해서 > 현재 배열에서 가져와야 하는 data index 배열로 보여줌"
   ]
  },
  {
   "cell_type": "code",
   "execution_count": 19,
   "id": "4fff86c2",
   "metadata": {
    "scrolled": true
   },
   "outputs": [
    {
     "name": "stdout",
     "output_type": "stream",
     "text": [
      "\n",
      "    type : <class 'numpy.ndarray'>\n",
      "    shape : (5,)\n",
      "    dimension : 1\n",
      "    dtype : int32\n",
      "    data :\n",
      " [2 0 6 8 5]\n",
      "    \n"
     ]
    }
   ],
   "source": [
    "ndarr_b = np.random.randint(0, 10, size=(5))\n",
    "\n",
    "np_print(ndarr_b)"
   ]
  },
  {
   "cell_type": "code",
   "execution_count": 21,
   "id": "74bae5d7",
   "metadata": {
    "scrolled": true
   },
   "outputs": [
    {
     "name": "stdout",
     "output_type": "stream",
     "text": [
      "\n",
      "    type : <class 'numpy.ndarray'>\n",
      "    shape : (5,)\n",
      "    dimension : 1\n",
      "    dtype : int32\n",
      "    data :\n",
      " [2 0 6 8 5]\n",
      "    \n"
     ]
    }
   ],
   "source": [
    "np.argsort(ndarr_b)"
   ]
  },
  {
   "cell_type": "markdown",
   "id": "25dc13a7",
   "metadata": {},
   "source": [
    "<br>\n",
    "\n",
    "- 0이상 1미만, 무작위 실수값, 3 * 3 배열 2개 생성"
   ]
  },
  {
   "cell_type": "code",
   "execution_count": 22,
   "id": "36c793e2",
   "metadata": {},
   "outputs": [
    {
     "name": "stdout",
     "output_type": "stream",
     "text": [
      "\n",
      "    type : <class 'numpy.ndarray'>\n",
      "    shape : (3, 3)\n",
      "    dimension : 2\n",
      "    dtype : float64\n",
      "    data :\n",
      " [[0.65795147 0.19385022 0.2723164 ]\n",
      " [0.71860593 0.78300361 0.85032764]\n",
      " [0.77524489 0.03666431 0.11669374]]\n",
      "    \n",
      "\n",
      "    type : <class 'numpy.ndarray'>\n",
      "    shape : (3, 3)\n",
      "    dimension : 2\n",
      "    dtype : float64\n",
      "    data :\n",
      " [[0.7512807  0.23921822 0.25480601]\n",
      " [0.85762553 0.94977903 0.56168686]\n",
      " [0.17878052 0.77025193 0.49238104]]\n",
      "    \n"
     ]
    }
   ],
   "source": [
    "ndarr_x = np.random.random(size=(3, 3))\n",
    "ndarr_y = np.random.random(size=(3, 3))\n",
    "\n",
    "np_print(ndarr_x)\n",
    "np_print(ndarr_y)"
   ]
  },
  {
   "cell_type": "markdown",
   "id": "40c2dd1b",
   "metadata": {},
   "source": [
    "### 1.4. 행단위, 열단위 정렬\n",
    "\n",
    "- 2차원 배열의 경우\n",
    "\n",
    "기본값 axis = -1 \n",
    "\n",
    "현재 배열의 axis = 0, 1 \n",
    "\n",
    "마지막 axis = 1 (열별 정렬)\n",
    "\n",
    "<img src='img/sortaxis1.jpg' width='200' height='200' align='left'>"
   ]
  },
  {
   "cell_type": "markdown",
   "id": "b987a6d2",
   "metadata": {},
   "source": [
    "1. 기본 방향`axis=-1` > row, 행별 정렬"
   ]
  },
  {
   "cell_type": "code",
   "execution_count": 31,
   "id": "8b695054",
   "metadata": {
    "scrolled": true
   },
   "outputs": [
    {
     "name": "stdout",
     "output_type": "stream",
     "text": [
      "\n",
      "    type : <class 'numpy.ndarray'>\n",
      "    shape : (3, 3)\n",
      "    dimension : 2\n",
      "    dtype : float64\n",
      "    data :\n",
      " [[0.65795147 0.19385022 0.2723164 ]\n",
      " [0.71860593 0.78300361 0.85032764]\n",
      " [0.77524489 0.03666431 0.11669374]]\n",
      "    \n",
      "\n",
      "    type : <class 'numpy.ndarray'>\n",
      "    shape : (3, 3)\n",
      "    dimension : 2\n",
      "    dtype : float64\n",
      "    data :\n",
      " [[0.19385022 0.2723164  0.65795147]\n",
      " [0.71860593 0.78300361 0.85032764]\n",
      " [0.03666431 0.11669374 0.77524489]]\n",
      "    \n"
     ]
    }
   ],
   "source": [
    "np_print(ndarr_x)\n",
    "\n",
    "np_print(np.sort(ndarr_x))"
   ]
  },
  {
   "cell_type": "markdown",
   "id": "91078ce6",
   "metadata": {},
   "source": [
    "2. `axis = 0` > column, 열별 정렬\n",
    "\n",
    "<img src='img/sortaxis0.jpg' width='200' height='200' align='left'>`"
   ]
  },
  {
   "cell_type": "code",
   "execution_count": 32,
   "id": "e3cadeb9",
   "metadata": {},
   "outputs": [
    {
     "name": "stdout",
     "output_type": "stream",
     "text": [
      "\n",
      "    type : <class 'numpy.ndarray'>\n",
      "    shape : (3, 3)\n",
      "    dimension : 2\n",
      "    dtype : float64\n",
      "    data :\n",
      " [[0.65795147 0.19385022 0.2723164 ]\n",
      " [0.71860593 0.78300361 0.85032764]\n",
      " [0.77524489 0.03666431 0.11669374]]\n",
      "    \n",
      "\n",
      "    type : <class 'numpy.ndarray'>\n",
      "    shape : (3, 3)\n",
      "    dimension : 2\n",
      "    dtype : float64\n",
      "    data :\n",
      " [[0.65795147 0.03666431 0.11669374]\n",
      " [0.71860593 0.19385022 0.2723164 ]\n",
      " [0.77524489 0.78300361 0.85032764]]\n",
      "    \n"
     ]
    }
   ],
   "source": [
    "np_print(ndarr_x)\n",
    "\n",
    "np_print(np.sort(ndarr_x, axis=0))"
   ]
  },
  {
   "cell_type": "markdown",
   "id": "66271e14",
   "metadata": {},
   "source": [
    "## 2. 인덱싱(Indexing), 슬라이싱(Slicing)\n",
    "\n",
    "<br>\n",
    "\n",
    "### 2.1. 인덱싱(Indexing) : 하나의 요소에 대해 참조\n",
    "\n",
    "- 각 차원에 따라 배열이 참조하는 인덱스의 개수가 다름\n",
    "\n",
    "    - 1차원 배열 : 인덱스 1개\n",
    "    \n",
    "    - 2차원 배열 : 인덱스 2개\n",
    "    \n",
    "    - 3차원 배열 : 인덱스 3개\n",
    "\n",
    "- 인덱싱으로 참조한 요소에 대해 수정 가능\n",
    "\n",
    "- 인덱스 배열을 전달하여 여러 개의 요소 참조"
   ]
  },
  {
   "cell_type": "markdown",
   "id": "b41b3411",
   "metadata": {},
   "source": [
    "<br>\n",
    "\n",
    "- 0 ~ 23, 정수 data"
   ]
  },
  {
   "cell_type": "code",
   "execution_count": 33,
   "id": "5f746721",
   "metadata": {},
   "outputs": [
    {
     "name": "stdout",
     "output_type": "stream",
     "text": [
      "\n",
      "    type : <class 'numpy.ndarray'>\n",
      "    shape : (24,)\n",
      "    dimension : 1\n",
      "    dtype : int32\n",
      "    data :\n",
      " [ 0  1  2  3  4  5  6  7  8  9 10 11 12 13 14 15 16 17 18 19 20 21 22 23]\n",
      "    \n"
     ]
    }
   ],
   "source": [
    "ndarr_i = np.arange(0, 24)\n",
    "\n",
    "np_print(ndarr_i)"
   ]
  },
  {
   "cell_type": "markdown",
   "id": "fd70b9a7",
   "metadata": {},
   "source": [
    "<br>\n",
    "\n",
    "- 1차원 배열 인덱싱 > index 1 item 접근"
   ]
  },
  {
   "cell_type": "code",
   "execution_count": 35,
   "id": "93de7f8d",
   "metadata": {},
   "outputs": [
    {
     "data": {
      "text/plain": [
       "1"
      ]
     },
     "execution_count": 35,
     "metadata": {},
     "output_type": "execute_result"
    }
   ],
   "source": [
    "ndarr_i[1]"
   ]
  },
  {
   "cell_type": "markdown",
   "id": "f7205289",
   "metadata": {},
   "source": [
    "<br>\n",
    "\n",
    "- 1차원 배열 인덱싱 > last index item 접근"
   ]
  },
  {
   "cell_type": "code",
   "execution_count": 36,
   "id": "cdacf37c",
   "metadata": {},
   "outputs": [
    {
     "data": {
      "text/plain": [
       "23"
      ]
     },
     "execution_count": 36,
     "metadata": {},
     "output_type": "execute_result"
    }
   ],
   "source": [
    "ndarr_i[-1]"
   ]
  },
  {
   "cell_type": "markdown",
   "id": "ebf67240",
   "metadata": {},
   "source": [
    "<br>\n",
    "\n",
    "- 1차원 배열 인덱싱 > item value 수정"
   ]
  },
  {
   "cell_type": "code",
   "execution_count": 37,
   "id": "1143df8b",
   "metadata": {},
   "outputs": [
    {
     "name": "stdout",
     "output_type": "stream",
     "text": [
      "[  0   1   2   3   4   5   6   7   8   9  10  11  12  13  14  15  16  17\n",
      "  18  19  20  21  22 100]\n"
     ]
    }
   ],
   "source": [
    "ndarr_i[-1] = 100\n",
    "\n",
    "print(ndarr_i)"
   ]
  },
  {
   "cell_type": "markdown",
   "id": "629e69c8",
   "metadata": {},
   "source": [
    "<br>\n",
    "\n",
    "- 배열 `ndarr_i` > 4 X 6 형태의 2차원 배열 만들기"
   ]
  },
  {
   "cell_type": "code",
   "execution_count": 42,
   "id": "cea75a4c",
   "metadata": {},
   "outputs": [
    {
     "name": "stdout",
     "output_type": "stream",
     "text": [
      "\n",
      "    type : <class 'numpy.ndarray'>\n",
      "    shape : (4, 6)\n",
      "    dimension : 2\n",
      "    dtype : int32\n",
      "    data :\n",
      " [[  0   1   2   3   4   5]\n",
      " [  6   7   8   9  10  11]\n",
      " [ 12  13  14  15  16  17]\n",
      " [ 18  19  20  21  22 100]]\n",
      "    \n"
     ]
    }
   ],
   "source": [
    "ndarr_2d = ndarr_i.reshape(4, 6)\n",
    "\n",
    "np_print(ndarr_2d)"
   ]
  },
  {
   "cell_type": "markdown",
   "id": "053725ce",
   "metadata": {},
   "source": [
    "<br>\n",
    "\n",
    "- 2차원 배열 indexing > (2차원 배열)[행 index][열 index]\n",
    "\n",
    "<br>\n",
    "\n",
    "- 하나의 행에 접근 > 첫 번째 행 index == 0"
   ]
  },
  {
   "cell_type": "code",
   "execution_count": 43,
   "id": "a9c4aff5",
   "metadata": {},
   "outputs": [
    {
     "data": {
      "text/plain": [
       "array([0, 1, 2, 3, 4, 5])"
      ]
     },
     "execution_count": 43,
     "metadata": {},
     "output_type": "execute_result"
    }
   ],
   "source": [
    "ndarr_2d[0]"
   ]
  },
  {
   "cell_type": "code",
   "execution_count": 44,
   "id": "24f8a75d",
   "metadata": {},
   "outputs": [
    {
     "data": {
      "text/plain": [
       "2"
      ]
     },
     "execution_count": 44,
     "metadata": {},
     "output_type": "execute_result"
    }
   ],
   "source": [
    "ndarr_2d[0][2]"
   ]
  },
  {
   "cell_type": "markdown",
   "id": "8e30de60",
   "metadata": {},
   "source": [
    "<br>\n",
    "\n",
    "- 하나의 열에 접근 > 모든 행에 대해서 하나의 열에 접근 > `ndarr[:, index n]`   \n",
    ": 모든 행에 대해(첫 번째 parameter == `:`), index n에 접근 > return `ndim=1` `ndarray`"
   ]
  },
  {
   "cell_type": "code",
   "execution_count": 50,
   "id": "e63b116f",
   "metadata": {},
   "outputs": [
    {
     "name": "stdout",
     "output_type": "stream",
     "text": [
      "\n",
      "    type : <class 'numpy.ndarray'>\n",
      "    shape : (4,)\n",
      "    dimension : 1\n",
      "    dtype : int32\n",
      "    data :\n",
      " [ 1  7 13 19]\n",
      "    \n"
     ]
    }
   ],
   "source": [
    "np_print(ndarr_2d[:, 1])"
   ]
  },
  {
   "cell_type": "markdown",
   "id": "7ade5ad8",
   "metadata": {},
   "source": [
    "<br>\n",
    "\n",
    "- 2차원 배열 하나의 값에 접근: `ndarr[row index][column index]` ==  `ndarr[row index, column index]`"
   ]
  },
  {
   "cell_type": "code",
   "execution_count": 49,
   "id": "ca0ded95",
   "metadata": {},
   "outputs": [
    {
     "name": "stdout",
     "output_type": "stream",
     "text": [
      "14\n",
      "14\n"
     ]
    }
   ],
   "source": [
    "print(ndarr_2d[2][2])\n",
    "\n",
    "print(ndarr_2d[2, 2])"
   ]
  },
  {
   "cell_type": "markdown",
   "id": "e1425ce9",
   "metadata": {},
   "source": [
    "<br>\n",
    "\n",
    "- 2차원 배열 여러개의 행 조회"
   ]
  },
  {
   "cell_type": "code",
   "execution_count": 54,
   "id": "9ab0c9c0",
   "metadata": {},
   "outputs": [
    {
     "data": {
      "text/plain": [
       "array([[  0,   1,   2,   3,   4,   5],\n",
       "       [ 18,  19,  20,  21,  22, 100]])"
      ]
     },
     "execution_count": 54,
     "metadata": {},
     "output_type": "execute_result"
    }
   ],
   "source": [
    "ndarr_2d[[0, 3]]"
   ]
  },
  {
   "cell_type": "markdown",
   "id": "780a4b02",
   "metadata": {},
   "source": [
    "<br>\n",
    "\n",
    "- 2차원 배열 여러개의 열 조회"
   ]
  },
  {
   "cell_type": "code",
   "execution_count": 53,
   "id": "43ab23c9",
   "metadata": {},
   "outputs": [
    {
     "data": {
      "text/plain": [
       "array([[ 0,  2],\n",
       "       [ 6,  8],\n",
       "       [12, 14],\n",
       "       [18, 20]])"
      ]
     },
     "execution_count": 53,
     "metadata": {},
     "output_type": "execute_result"
    }
   ],
   "source": [
    "ndarr_2d[:, [0, 2]]"
   ]
  },
  {
   "cell_type": "markdown",
   "id": "cb1cef3b",
   "metadata": {},
   "source": [
    "<br>\n",
    "\n",
    "- 0번, 2번 row > 3번, 5번 col 조회"
   ]
  },
  {
   "cell_type": "code",
   "execution_count": 58,
   "id": "0e3ee116",
   "metadata": {},
   "outputs": [
    {
     "name": "stdout",
     "output_type": "stream",
     "text": [
      "[[ 3  5]\n",
      " [15 17]]\n"
     ]
    }
   ],
   "source": [
    "print(ndarr_2d[[0, 2], :][:, [3, 5]])"
   ]
  },
  {
   "cell_type": "markdown",
   "id": "2c1b4dd2",
   "metadata": {},
   "source": [
    "<br>\n",
    "\n",
    "- 2차원 배열 indexing을 통한 value 수정\n",
    "\n",
    "- 하나의 row/column에 대해 모두 동일한 value로 수정 > 전달하는 value를 scalar value로 전달\n",
    "\n",
    "- 서로 다른 값으로 수정 > 배열 shape에 맞춰서 data 전달\n",
    "\n",
    "<br>\n",
    "\n",
    "- 하나의 값(scalar value)로 수정"
   ]
  },
  {
   "cell_type": "code",
   "execution_count": 61,
   "id": "c1be36a9",
   "metadata": {},
   "outputs": [
    {
     "name": "stdout",
     "output_type": "stream",
     "text": [
      "\n",
      "    type : <class 'numpy.ndarray'>\n",
      "    shape : (4, 6)\n",
      "    dimension : 2\n",
      "    dtype : int32\n",
      "    data :\n",
      " [[  0   1   2   3   4   5]\n",
      " [  6   7   8   9  10  11]\n",
      " [  9   9   9   9   9   9]\n",
      " [ 18  19  20  21  22 100]]\n",
      "    \n"
     ]
    }
   ],
   "source": [
    "ndarr_2d[2] = 9\n",
    "\n",
    "np_print(ndarr_2d)"
   ]
  },
  {
   "cell_type": "markdown",
   "id": "a9b20219",
   "metadata": {},
   "source": [
    "<br>\n",
    "\n",
    "- 3차원 배열 생성\n",
    "\n",
    "- shape == `(page(면, 층), row, column)`\n",
    "\n",
    "<br>\n",
    "\n",
    "- `size=(2, 4, 3)` 배열"
   ]
  },
  {
   "cell_type": "code",
   "execution_count": 75,
   "id": "0baaf6fc",
   "metadata": {},
   "outputs": [
    {
     "name": "stdout",
     "output_type": "stream",
     "text": [
      "\n",
      "    type : <class 'numpy.ndarray'>\n",
      "    shape : (2, 4, 3)\n",
      "    dimension : 3\n",
      "    dtype : int32\n",
      "    data :\n",
      " [[[ 0  1  2]\n",
      "  [ 3  4  5]\n",
      "  [ 6  7  8]\n",
      "  [ 9 10 11]]\n",
      "\n",
      " [[12 13 14]\n",
      "  [15 16 17]\n",
      "  [18 19 20]\n",
      "  [21 22 23]]]\n",
      "    \n"
     ]
    }
   ],
   "source": [
    "ndarr_24 = np.arange(24)\n",
    "\n",
    "ndarr_3d = ndarr_24.reshape(2, 4, 3)\n",
    "\n",
    "np_print(ndarr_3d)"
   ]
  },
  {
   "cell_type": "markdown",
   "id": "1336cc79",
   "metadata": {},
   "source": [
    "<br>\n",
    "\n",
    "- 3차원 배열 인덱싱: `ndarr[면, 행, 열]`\n",
    "    \n",
    "<br>\n",
    "\n",
    "- index 0 면(page)에 접근"
   ]
  },
  {
   "cell_type": "code",
   "execution_count": 65,
   "id": "e1c0ec1d",
   "metadata": {},
   "outputs": [
    {
     "data": {
      "text/plain": [
       "array([[ 0,  1,  2],\n",
       "       [ 3,  4,  5],\n",
       "       [ 6,  7,  8],\n",
       "       [ 9, 10, 11]])"
      ]
     },
     "execution_count": 65,
     "metadata": {},
     "output_type": "execute_result"
    }
   ],
   "source": [
    "ndarr_3d[0]"
   ]
  },
  {
   "cell_type": "markdown",
   "id": "55572cc1",
   "metadata": {},
   "source": [
    "<br>\n",
    "\n",
    "- 0번 면, 1번 행 접근"
   ]
  },
  {
   "cell_type": "code",
   "execution_count": 67,
   "id": "3be0f3e2",
   "metadata": {},
   "outputs": [
    {
     "data": {
      "text/plain": [
       "array([3, 4, 5])"
      ]
     },
     "execution_count": 67,
     "metadata": {},
     "output_type": "execute_result"
    }
   ],
   "source": [
    "ndarr_3d[0,1]"
   ]
  },
  {
   "cell_type": "markdown",
   "id": "f2c64a93",
   "metadata": {},
   "source": [
    "<br>\n",
    "\n",
    "- 0번 면, 1번 행, 0번 열 접근"
   ]
  },
  {
   "cell_type": "code",
   "execution_count": 68,
   "id": "961c5bf2",
   "metadata": {},
   "outputs": [
    {
     "data": {
      "text/plain": [
       "3"
      ]
     },
     "execution_count": 68,
     "metadata": {},
     "output_type": "execute_result"
    }
   ],
   "source": [
    "ndarr_3d[0][1][0]"
   ]
  },
  {
   "cell_type": "markdown",
   "id": "a2e49baf",
   "metadata": {},
   "source": [
    "<br>\n",
    "\n",
    "- 3차원 배열도 배열 인덱싱으로 value 수정 가능\n",
    "\n",
    "<br>\n",
    "\n",
    "- 스칼라 연산을 통한 single value로 수정\n",
    "\n",
    "- `ndarr_3d`의 1번 면 > value == 0으로 일괄 변경"
   ]
  },
  {
   "cell_type": "code",
   "execution_count": 76,
   "id": "98871e0e",
   "metadata": {},
   "outputs": [
    {
     "name": "stdout",
     "output_type": "stream",
     "text": [
      "\n",
      "    type : <class 'numpy.ndarray'>\n",
      "    shape : (2, 4, 3)\n",
      "    dimension : 3\n",
      "    dtype : int32\n",
      "    data :\n",
      " [[[ 0  1  2]\n",
      "  [ 3  4  5]\n",
      "  [ 6  7  8]\n",
      "  [ 9 10 11]]\n",
      "\n",
      " [[ 0  0  0]\n",
      "  [ 0  0  0]\n",
      "  [ 0  0  0]\n",
      "  [ 0  0  0]]]\n",
      "    \n"
     ]
    }
   ],
   "source": [
    "ndarr_3d[1][:][:] = 0\n",
    "\n",
    "np_print(ndarr_3d)"
   ]
  },
  {
   "cell_type": "markdown",
   "id": "f04bd477",
   "metadata": {},
   "source": [
    "<br>\n",
    "\n",
    "- 하나의 면에 대해 서로 다른 값으로 수정\n",
    "\n",
    "- 1번 면, 1번 행 > `[1, 2, 3]` 수정"
   ]
  },
  {
   "cell_type": "code",
   "execution_count": 80,
   "id": "84375cb4",
   "metadata": {},
   "outputs": [
    {
     "name": "stdout",
     "output_type": "stream",
     "text": [
      "\n",
      "    type : <class 'numpy.ndarray'>\n",
      "    shape : (2, 4, 3)\n",
      "    dimension : 3\n",
      "    dtype : int32\n",
      "    data :\n",
      " [[[ 0  1  2]\n",
      "  [ 3  4  5]\n",
      "  [ 6  7  8]\n",
      "  [ 9 10 11]]\n",
      "\n",
      " [[ 0  0  0]\n",
      "  [ 1  2  3]\n",
      "  [ 0  0  0]\n",
      "  [ 0  0  0]]]\n",
      "    \n"
     ]
    }
   ],
   "source": [
    "#ndarr_3d[1][1][:] = [1, 2, 3]\n",
    "ndarr_3d[1, 1] = [1, 2, 3]\n",
    "\n",
    "np_print(ndarr_3d)"
   ]
  },
  {
   "cell_type": "markdown",
   "id": "db933855",
   "metadata": {},
   "source": [
    "<br>\n",
    "\n",
    "- 3 X 4 배열 대입"
   ]
  },
  {
   "cell_type": "code",
   "execution_count": 82,
   "id": "3558943f",
   "metadata": {},
   "outputs": [
    {
     "name": "stdout",
     "output_type": "stream",
     "text": [
      "\n",
      "    type : <class 'numpy.ndarray'>\n",
      "    shape : (2, 4, 3)\n",
      "    dimension : 3\n",
      "    dtype : int32\n",
      "    data :\n",
      " [[[  0   1   2]\n",
      "  [  3   4   5]\n",
      "  [  6   7   8]\n",
      "  [  9  10  11]]\n",
      "\n",
      " [[ 10  20  30]\n",
      "  [ 40  50  60]\n",
      "  [ 70  80  90]\n",
      "  [100 110 120]]]\n",
      "    \n"
     ]
    }
   ],
   "source": [
    "ndarr_3d[1] = [[10, 20, 30],\n",
    "           [40, 50, 60],\n",
    "           [70, 80, 90],\n",
    "           [100, 110, 120]\n",
    "        ]\n",
    "\n",
    "np_print(ndarr_3d)"
   ]
  },
  {
   "cell_type": "markdown",
   "id": "769065fc",
   "metadata": {},
   "source": [
    "<br>\n",
    "\n",
    "- 인덱스 배열을 전달하여 여러개의 요소 참조\n",
    "\n",
    "- 기존 indexing 방법: `[page, row, col]`"
   ]
  },
  {
   "cell_type": "markdown",
   "id": "8b64343f",
   "metadata": {},
   "source": [
    "<br>\n",
    "\n",
    "- 여러 개의 indexing을 배열로 전달\n",
    "\n",
    "<br>\n",
    "\n",
    "- 배열 `[(0행, 0열), (1행, 1열), (2행, 2열)]` 추출\n",
    "\n",
    "- 3차원 배열 > `[page, [[0, 1, 2], [0, 1, 2]]`"
   ]
  },
  {
   "cell_type": "code",
   "execution_count": 83,
   "id": "bb4c62cb",
   "metadata": {},
   "outputs": [
    {
     "data": {
      "text/plain": [
       "array([0, 4, 8])"
      ]
     },
     "execution_count": 83,
     "metadata": {},
     "output_type": "execute_result"
    }
   ],
   "source": [
    "ndarr_3d[0][[0, 1, 2], [0, 1, 2]]"
   ]
  },
  {
   "cell_type": "markdown",
   "id": "8f3ee909",
   "metadata": {},
   "source": [
    "<br>\n",
    "\n",
    "- `ndarr_3d[면, 행, 열]` > 만약 여러 단위를 조회시 이중리스트로 입력\n",
    "\n",
    "- 삼중리스트 입력시 > 이중리스트 요소를 반복"
   ]
  },
  {
   "cell_type": "code",
   "execution_count": 84,
   "id": "d28955d3",
   "metadata": {},
   "outputs": [
    {
     "name": "stdout",
     "output_type": "stream",
     "text": [
      "\n",
      "    type : <class 'numpy.ndarray'>\n",
      "    shape : (2, 3, 3)\n",
      "    dimension : 3\n",
      "    dtype : int32\n",
      "    data :\n",
      " [[[ 0  1  2]\n",
      "  [ 3  4  5]\n",
      "  [ 6  7  8]]\n",
      "\n",
      " [[ 0  1  2]\n",
      "  [ 6  7  8]\n",
      "  [ 9 10 11]]]\n",
      "    \n",
      "\n",
      "    type : <class 'numpy.ndarray'>\n",
      "    shape : (2, 3, 3)\n",
      "    dimension : 3\n",
      "    dtype : int32\n",
      "    data :\n",
      " [[[ 0  1  2]\n",
      "  [ 3  4  5]\n",
      "  [ 6  7  8]]\n",
      "\n",
      " [[10 20 30]\n",
      "  [40 50 60]\n",
      "  [70 80 90]]]\n",
      "    \n"
     ]
    }
   ],
   "source": [
    "np_print(ndarr_3d[0, [[0, 1, 2], [0, 2, 3]]])\n",
    "\n",
    "np_print(ndarr_3d[0:, [0, 1, 2]])"
   ]
  },
  {
   "cell_type": "markdown",
   "id": "22bc48ac",
   "metadata": {},
   "source": [
    "<br>\n",
    "\n",
    "### 2.2 슬라이싱 : 여러 개의 요소에 대해 참조\n",
    "\n",
    "- axis 별로 범위 지정\n",
    "    \n",
    "    - from_index : 시작 인덱스(포함), 0일 경우 생략 가능\n",
    "    \n",
    "    - to_index : 종료 인덱스(미포함), 마지막 인덱스일 경우 생략 가능\n",
    "    \n",
    "    - step : 연속되지 않은 범위의 경우 간격 지정\n",
    "\n",
    "- 열만 조회하는 경우 : 전체 행에 슬라이싱으로 접근 후 특정 열을 조회"
   ]
  },
  {
   "cell_type": "markdown",
   "id": "f23cf483",
   "metadata": {},
   "source": [
    "<br>\n",
    "\n",
    "- 0부터  23까지 1씩 증가하는 정수 data를 가지는 1차원 배열 생성"
   ]
  },
  {
   "cell_type": "code",
   "execution_count": 85,
   "id": "dd2e6db9",
   "metadata": {},
   "outputs": [
    {
     "name": "stdout",
     "output_type": "stream",
     "text": [
      "\n",
      "    type : <class 'numpy.ndarray'>\n",
      "    shape : (24,)\n",
      "    dimension : 1\n",
      "    dtype : int32\n",
      "    data :\n",
      " [ 0  1  2  3  4  5  6  7  8  9 10 11 12 13 14 15 16 17 18 19 20 21 22 23]\n",
      "    \n"
     ]
    }
   ],
   "source": [
    "ndarr_1d = np.arange(0, 24)\n",
    "\n",
    "np_print(ndarr_1d)"
   ]
  },
  {
   "cell_type": "markdown",
   "id": "884c4ef4",
   "metadata": {},
   "source": [
    "<br>\n",
    "\n",
    "- 1차원 배열 slicing\n",
    "\n",
    "- 1번부터 4번까지 접근"
   ]
  },
  {
   "cell_type": "code",
   "execution_count": 86,
   "id": "af819e57",
   "metadata": {},
   "outputs": [
    {
     "data": {
      "text/plain": [
       "array([1, 2, 3, 4])"
      ]
     },
     "execution_count": 86,
     "metadata": {},
     "output_type": "execute_result"
    }
   ],
   "source": [
    "ndarr_1d[1:5]"
   ]
  },
  {
   "cell_type": "markdown",
   "id": "ff291737",
   "metadata": {},
   "source": [
    "<br>\n",
    "\n",
    "- index 1부터 index 14까지 step 2로 접근"
   ]
  },
  {
   "cell_type": "code",
   "execution_count": 88,
   "id": "27f2401f",
   "metadata": {},
   "outputs": [
    {
     "data": {
      "text/plain": [
       "array([ 1,  3,  5,  7,  9, 11, 13])"
      ]
     },
     "execution_count": 88,
     "metadata": {},
     "output_type": "execute_result"
    }
   ],
   "source": [
    "ndarr_1d[1:15:2]"
   ]
  },
  {
   "cell_type": "markdown",
   "id": "ca27c68f",
   "metadata": {},
   "source": [
    "<br>\n",
    "\n",
    "- 6 X 4, 2차원 배열 생성"
   ]
  },
  {
   "cell_type": "code",
   "execution_count": 89,
   "id": "e178fd44",
   "metadata": {},
   "outputs": [
    {
     "name": "stdout",
     "output_type": "stream",
     "text": [
      "\n",
      "    type : <class 'numpy.ndarray'>\n",
      "    shape : (6, 4)\n",
      "    dimension : 2\n",
      "    dtype : int32\n",
      "    data :\n",
      " [[ 0  1  2  3]\n",
      " [ 4  5  6  7]\n",
      " [ 8  9 10 11]\n",
      " [12 13 14 15]\n",
      " [16 17 18 19]\n",
      " [20 21 22 23]]\n",
      "    \n"
     ]
    }
   ],
   "source": [
    "ndarr_2d = ndarr_1d.reshape(6, 4)\n",
    "\n",
    "np_print(ndarr_2d)"
   ]
  },
  {
   "cell_type": "markdown",
   "id": "7e4e139e",
   "metadata": {},
   "source": [
    "<br>\n",
    "\n",
    "- 2차원 배열 slicing > `ndarr[row(:col:step)]`"
   ]
  },
  {
   "cell_type": "code",
   "execution_count": 90,
   "id": "b8c8d491",
   "metadata": {},
   "outputs": [
    {
     "data": {
      "text/plain": [
       "array([[ 0,  1,  2,  3],\n",
       "       [ 4,  5,  6,  7],\n",
       "       [ 8,  9, 10, 11],\n",
       "       [12, 13, 14, 15]])"
      ]
     },
     "execution_count": 90,
     "metadata": {},
     "output_type": "execute_result"
    }
   ],
   "source": [
    "ndarr_2d[0:4]"
   ]
  },
  {
   "cell_type": "markdown",
   "id": "f4d4e555",
   "metadata": {},
   "source": [
    "<br>\n",
    "\n",
    "- 1행부터 4행, 2열부터 3열 접근"
   ]
  },
  {
   "cell_type": "code",
   "execution_count": 92,
   "id": "5924f479",
   "metadata": {},
   "outputs": [
    {
     "data": {
      "text/plain": [
       "array([[ 6,  7],\n",
       "       [10, 11],\n",
       "       [14, 15],\n",
       "       [18, 19]])"
      ]
     },
     "execution_count": 92,
     "metadata": {},
     "output_type": "execute_result"
    }
   ],
   "source": [
    "ndarr_2d[1:5, 2:4]"
   ]
  },
  {
   "cell_type": "markdown",
   "id": "9131537d",
   "metadata": {},
   "source": [
    "<br>\n",
    "\n",
    "- 2차원 배열 slicing을 통한 value 수정"
   ]
  },
  {
   "cell_type": "code",
   "execution_count": 93,
   "id": "2d44fc2f",
   "metadata": {},
   "outputs": [
    {
     "name": "stdout",
     "output_type": "stream",
     "text": [
      "\n",
      "    type : <class 'numpy.ndarray'>\n",
      "    shape : (4, 2)\n",
      "    dimension : 2\n",
      "    dtype : int32\n",
      "    data :\n",
      " [[ 6  7]\n",
      " [10 11]\n",
      " [14 15]\n",
      " [18 19]]\n",
      "    \n"
     ]
    }
   ],
   "source": [
    "new_ndarr = ndarr_2d[1:5, 2:4]\n",
    "\n",
    "np_print(new_ndarr)"
   ]
  },
  {
   "cell_type": "markdown",
   "id": "8bcd68b5",
   "metadata": {},
   "source": [
    "<br>\n",
    "\n",
    "- 0번 행, 마지막 열 제외 모든 item을 99로 수정"
   ]
  },
  {
   "cell_type": "code",
   "execution_count": 95,
   "id": "5c53c7d9",
   "metadata": {},
   "outputs": [
    {
     "name": "stdout",
     "output_type": "stream",
     "text": [
      "\n",
      "    type : <class 'numpy.ndarray'>\n",
      "    shape : (4, 2)\n",
      "    dimension : 2\n",
      "    dtype : int32\n",
      "    data :\n",
      " [[ 6  7]\n",
      " [99 11]\n",
      " [99 15]\n",
      " [99 19]]\n",
      "    \n"
     ]
    }
   ],
   "source": [
    "new_ndarr[1:,:-1] = 99\n",
    "\n",
    "np_print(new_ndarr)"
   ]
  },
  {
   "cell_type": "markdown",
   "id": "590f2499",
   "metadata": {},
   "source": [
    "<br>\n",
    "\n",
    "- 슬라이싱 > shallow copy 취급"
   ]
  },
  {
   "cell_type": "code",
   "execution_count": 96,
   "id": "cd662231",
   "metadata": {},
   "outputs": [
    {
     "name": "stdout",
     "output_type": "stream",
     "text": [
      "\n",
      "    type : <class 'numpy.ndarray'>\n",
      "    shape : (4, 2)\n",
      "    dimension : 2\n",
      "    dtype : int32\n",
      "    data :\n",
      " [[1 1]\n",
      " [1 1]\n",
      " [1 1]\n",
      " [1 1]]\n",
      "    \n",
      "\n",
      "    type : <class 'numpy.ndarray'>\n",
      "    shape : (4, 2)\n",
      "    dimension : 2\n",
      "    dtype : int32\n",
      "    data :\n",
      " [[1 1]\n",
      " [1 1]\n",
      " [1 1]\n",
      " [1 1]]\n",
      "    \n"
     ]
    }
   ],
   "source": [
    "sliced_ndarr = new_ndarr\n",
    "\n",
    "sliced_ndarr[::] = 1\n",
    "\n",
    "np_print(sliced_ndarr)\n",
    "\n",
    "np_print(new_ndarr)"
   ]
  },
  {
   "cell_type": "markdown",
   "id": "1f0cef44",
   "metadata": {},
   "source": [
    "<br>\n",
    "\n",
    "- 2차원 배열 slicing: 연속되지 않은 범위의 열에 대한 인덱싱\n",
    "    \n",
    "1. 전체 행에 대해서 접근\n",
    "\n",
    "2. 여러 개의 열 indexing 배열 전달\n",
    "\n",
    "<br>\n",
    "\n",
    "- `ndarr_2d`의 전체 행 + 1, 3번째 열 > `ndarr_2d[row, column]"
   ]
  },
  {
   "cell_type": "code",
   "execution_count": 100,
   "id": "a9ae445c",
   "metadata": {},
   "outputs": [
    {
     "name": "stdout",
     "output_type": "stream",
     "text": [
      "\n",
      "    type : <class 'numpy.ndarray'>\n",
      "    shape : (4, 6)\n",
      "    dimension : 2\n",
      "    dtype : int32\n",
      "    data :\n",
      " [[ 0  1  2  3  4  5]\n",
      " [ 6  7  8  9 10 11]\n",
      " [12 13 14 15 16 17]\n",
      " [18 19 20 21 22 23]]\n",
      "    \n",
      "\n",
      "    type : <class 'numpy.ndarray'>\n",
      "    shape : (4, 2)\n",
      "    dimension : 2\n",
      "    dtype : int32\n",
      "    data :\n",
      " [[ 1  3]\n",
      " [ 7  9]\n",
      " [13 15]\n",
      " [19 21]]\n",
      "    \n"
     ]
    }
   ],
   "source": [
    "ndarr_2d = np.arange(24).reshape(4, 6)\n",
    "\n",
    "np_print(ndarr_2d)\n",
    "\n",
    "np_print(ndarr_2d[:, [1, 3]])"
   ]
  },
  {
   "cell_type": "markdown",
   "id": "5a7d5135",
   "metadata": {},
   "source": [
    "- **연습문제**\n",
    "\n",
    "아래 정보는 학생들의 학번, 영어 성적, 국어 성적, 수학 성적 정보 입니다.\n",
    "\n",
    "해당 정보를 첫번째 행(row)에 학번, 두번째 행에 영어 성적, 세번째 행에 국어 성적, 네번째 행에 수학 성적을 저장한 배열로 만들고\n",
    "\n",
    "학생별로 영어 성적을 오름차순 기준으로 각 열(column)을 정렬하세요.\n",
    "\n",
    "<img src='img/sort_q1.png' align='left'>"
   ]
  },
  {
   "cell_type": "code",
   "execution_count": 122,
   "id": "b5d0a201",
   "metadata": {},
   "outputs": [],
   "source": [
    "data = [[1, 2, 3, 4],\n",
    "       [70, 97, 45, 56],\n",
    "       [87, 84, 33, 67],\n",
    "       [46, 80, 75, 78]]\n",
    "\n",
    "score_ndarr = np.array(data)"
   ]
  },
  {
   "cell_type": "code",
   "execution_count": 123,
   "id": "d93bc867",
   "metadata": {},
   "outputs": [
    {
     "name": "stdout",
     "output_type": "stream",
     "text": [
      "\n",
      "    type : <class 'numpy.ndarray'>\n",
      "    shape : (4,)\n",
      "    dimension : 1\n",
      "    dtype : int64\n",
      "    data :\n",
      " [2 3 0 1]\n",
      "    \n"
     ]
    }
   ],
   "source": [
    "order_ndarr = np.argsort(score_ndarr[1, :], axis=0)\n",
    "\n",
    "np_print(order_ndarr)"
   ]
  },
  {
   "cell_type": "code",
   "execution_count": 126,
   "id": "0e99a91f",
   "metadata": {},
   "outputs": [
    {
     "name": "stdout",
     "output_type": "stream",
     "text": [
      "\n",
      "    type : <class 'numpy.ndarray'>\n",
      "    shape : (4, 4)\n",
      "    dimension : 2\n",
      "    dtype : int32\n",
      "    data :\n",
      " [[ 3  4  1  2]\n",
      " [45 56 70 97]\n",
      " [33 67 87 84]\n",
      " [75 78 46 80]]\n",
      "    \n"
     ]
    }
   ],
   "source": [
    "\"\"\"\n",
    "tmp_ndarr = np.arange(0, 16).reshape(4, 4)\n",
    "i = 0\n",
    "\n",
    "for order in order_ndarr:\n",
    "    tmp_ndarr[:,i] = score_ndarr[:, order]\n",
    "    i += 1\n",
    "    \n",
    "score_ndarr = tmp_ndarr.copy()\n",
    "\"\"\"\n",
    "score_ndarr[:, order_ndarr]\n",
    "\n",
    "np_print(score_ndarr)"
   ]
  },
  {
   "cell_type": "markdown",
   "id": "76494f85",
   "metadata": {},
   "source": [
    "### 2.3. 조건 색인(boolean indexing)\n",
    "\n",
    "- 배열의 item에 대해 조건을 적용 > True or False return\n",
    "\n",
    "- return True인 item, 조건을 만족하는 item만 조회 가능"
   ]
  },
  {
   "cell_type": "markdown",
   "id": "61064185",
   "metadata": {},
   "source": [
    "<br>\n",
    "\n",
    "- scarla 연산 > 10보다 큰 요소 조회"
   ]
  },
  {
   "cell_type": "code",
   "execution_count": 195,
   "id": "5a6c22c4",
   "metadata": {},
   "outputs": [
    {
     "name": "stdout",
     "output_type": "stream",
     "text": [
      "\n",
      "    type : <class 'numpy.ndarray'>\n",
      "    shape : (6, 4)\n",
      "    dimension : 2\n",
      "    dtype : int32\n",
      "    data :\n",
      " [[ 0  1  2  3]\n",
      " [ 4  5  6  7]\n",
      " [ 8  9 10 11]\n",
      " [12 13 14 15]\n",
      " [16 17 18 19]\n",
      " [20 21 22 23]]\n",
      "    \n"
     ]
    }
   ],
   "source": [
    "bool_ndarr = ndarr_2d.reshape(6, 4)\n",
    "\n",
    "np_print(bool_ndarr)"
   ]
  },
  {
   "cell_type": "code",
   "execution_count": 135,
   "id": "6847ae0b",
   "metadata": {},
   "outputs": [
    {
     "data": {
      "text/plain": [
       "array([[False, False, False, False],\n",
       "       [False, False, False, False],\n",
       "       [False, False, False,  True],\n",
       "       [ True,  True,  True,  True],\n",
       "       [ True,  True,  True,  True],\n",
       "       [ True,  True,  True,  True]])"
      ]
     },
     "execution_count": 135,
     "metadata": {},
     "output_type": "execute_result"
    }
   ],
   "source": [
    "bool_ndarr > 10"
   ]
  },
  {
   "cell_type": "markdown",
   "id": "968809ba",
   "metadata": {},
   "source": [
    "<br>\n",
    "\n",
    "- boolean indexing: `data[data를 포함한 조건식]`"
   ]
  },
  {
   "cell_type": "code",
   "execution_count": 136,
   "id": "79e6e800",
   "metadata": {},
   "outputs": [
    {
     "data": {
      "text/plain": [
       "array([11, 12, 13, 14, 15, 16, 17, 18, 19, 20, 21, 22, 23])"
      ]
     },
     "execution_count": 136,
     "metadata": {},
     "output_type": "execute_result"
    }
   ],
   "source": [
    "bool_ndarr[bool_ndarr > 10]"
   ]
  },
  {
   "cell_type": "code",
   "execution_count": 137,
   "id": "386c47a2",
   "metadata": {},
   "outputs": [
    {
     "data": {
      "text/plain": [
       "13"
      ]
     },
     "execution_count": 137,
     "metadata": {},
     "output_type": "execute_result"
    }
   ],
   "source": [
    "bool_ndarr[bool_ndarr > 10].size"
   ]
  },
  {
   "cell_type": "markdown",
   "id": "24488b6b",
   "metadata": {},
   "source": [
    "<br>\n",
    "\n",
    "- boolean indexing > `bool_ndarr`에서 짝수인 자료만 남기기\n",
    "\n",
    "- 2개 이상의 조건 > 각 조건 ( ) bracket 걸고, and = &, or = |로 연결"
   ]
  },
  {
   "cell_type": "code",
   "execution_count": 151,
   "id": "62f289e9",
   "metadata": {},
   "outputs": [
    {
     "data": {
      "text/plain": [
       "array([ 2,  4,  6,  8, 10, 12, 14, 16, 18, 20, 22])"
      ]
     },
     "execution_count": 151,
     "metadata": {},
     "output_type": "execute_result"
    }
   ],
   "source": [
    "bool_ndarr[(bool_ndarr % 2 == 0) & (bool_ndarr != 0)]"
   ]
  },
  {
   "cell_type": "code",
   "execution_count": 246,
   "id": "ac4302a8",
   "metadata": {},
   "outputs": [
    {
     "name": "stdout",
     "output_type": "stream",
     "text": [
      "0, 1847702808432\n",
      "1, 1847702808592\n",
      "2, 1847702807984\n",
      "3, 1847702808592\n",
      "4, 1847702807984\n",
      "5, 1847702808592\n",
      "6, 1847702807984\n",
      "7, 1847702808304\n",
      "8, 1847702808592\n",
      "9, 1847702808304\n",
      "10, 1847702808592\n",
      "11, 1847702808304\n",
      "12, 1847702808592\n",
      "13, 1847702808304\n",
      "14, 1847702808592\n",
      "15, 1847702808304\n",
      "16, 1847702808592\n",
      "17, 1847702808304\n",
      "18, 1847702808592\n",
      "19, 1847702808304\n",
      "20, 1847702808592\n",
      "21, 1847702808304\n",
      "22, 1847702808592\n",
      "23, 1847702808304\n",
      "-----------------------------------------------\n",
      "0, 1847702808464\n",
      "1, 1847702807760\n",
      "2, 1847702807760\n",
      "3, 1847702808464\n",
      "4, 1847702808464\n",
      "5, 1847702807760\n",
      "6, 1847702807760\n",
      "7, 1847702808464\n",
      "8, 1847702808464\n",
      "9, 1847702807760\n",
      "10, 1847702807760\n",
      "11, 1847702808464\n",
      "12, 1847702808464\n",
      "13, 1847702807760\n",
      "14, 1847702807760\n",
      "15, 1847702808464\n",
      "16, 1847702808464\n",
      "17, 1847702807760\n",
      "18, 1847702807760\n",
      "19, 1847702808464\n",
      "20, 1847702808464\n",
      "21, 1847702807760\n",
      "22, 1847702807760\n",
      "23, 1847702808464\n",
      "\n",
      "    type : <class 'numpy.ndarray'>\n",
      "    shape : (6, 4)\n",
      "    dimension : 2\n",
      "    dtype : int32\n",
      "    data :\n",
      " [[ 0  1  2  3]\n",
      " [ 4  5  6  7]\n",
      " [ 8  9 10 11]\n",
      " [12 13 14 15]\n",
      " [16 17 18 19]\n",
      " [20 21 22 23]]\n",
      "    \n"
     ]
    }
   ],
   "source": [
    "import numpy as np\n",
    "\n",
    "bool_ndarr = np.arange(24).reshape(6, 4)\n",
    "\n",
    "for i in range(6):\n",
    "    for j in range(4):\n",
    "        print(\"%s, %s\" %(bool_ndarr[i][j], id(bool_ndarr[i][j])))\n",
    "          \n",
    "print(\"-----------------------------------------------\")            \n",
    "            \n",
    "for row in bool_ndarr:\n",
    "    for item in row:\n",
    "        print(\"%s, %s\" %(item, id(item)))\n",
    "        TorF = item in bool_ndarr[bool_ndarr % 2 == 0]\n",
    "        \n",
    "        if TorF == True:\n",
    "            pass\n",
    "        \n",
    "        if TorF == False:\n",
    "            item = 0\n",
    "            \n",
    "        \n",
    "np_print(bool_ndarr)"
   ]
  },
  {
   "cell_type": "markdown",
   "id": "e791eba8",
   "metadata": {},
   "source": [
    "\\> **연습문제**\n",
    "\n",
    "조건색인을 활용해 공무원시험의 합격자 평균을 구해주세요.\n",
    "\n",
    "합격점수는 60점 이상입니다.\n",
    "\n",
    "아래는 시험 점수 결과입니다.\n",
    "\n",
    "`[31, 30, 55, 34, 83, 75, 86, 60, 94, 80, 42, 37, 73, 80, 30, 65, 34, 55, 56, 51]`"
   ]
  },
  {
   "cell_type": "code",
   "execution_count": 211,
   "id": "275a055c",
   "metadata": {},
   "outputs": [],
   "source": [
    "score_arr = np.array([31, 30, 55, 34, 83, 75, 86, 60, 94, 80, 42, 37, 73, 80, 30, 65, 34, 55, 56, 51])"
   ]
  },
  {
   "cell_type": "code",
   "execution_count": 214,
   "id": "c8b71714",
   "metadata": {},
   "outputs": [
    {
     "name": "stdout",
     "output_type": "stream",
     "text": [
      "77.33333333333333\n"
     ]
    }
   ],
   "source": [
    "total_sco = 0\n",
    "n_pass = 0\n",
    "ave_sco = 0\n",
    "\n",
    "pass_arr = score_arr[score_arr >= 60]\n",
    "\n",
    "for score in pass_arr: \n",
    "    total_sco += score\n",
    "    n_pass += 1\n",
    "        \n",
    "ave_sco = total_sco / n_pass\n",
    "print(ave_sco)"
   ]
  },
  {
   "cell_type": "markdown",
   "id": "7b34cd6b",
   "metadata": {},
   "source": [
    "<br>\n",
    "\n",
    "## 3. 배열 복사\n",
    "\n",
    "- indexing, slicing된 배열 > 원본 배열과 종속적인 object (shallow copy)\n",
    "\n",
    "- `ndarr[:]`, `ndarr.copy()` , `np.copy(ndarr)` > 원본 배열과 독립적인 배열 object 생성 (deep copy)"
   ]
  },
  {
   "cell_type": "code",
   "execution_count": 215,
   "id": "075cc2a7",
   "metadata": {},
   "outputs": [],
   "source": [
    "ndarr_a1 = [1, 2, 3]\n",
    "ndarr_a2 = [1, 2, 3]"
   ]
  },
  {
   "cell_type": "markdown",
   "id": "78c74861",
   "metadata": {},
   "source": [
    "<br>\n",
    "\n",
    "- shallow copy"
   ]
  },
  {
   "cell_type": "code",
   "execution_count": 217,
   "id": "17662f84",
   "metadata": {},
   "outputs": [],
   "source": [
    "b = ndarr_a1"
   ]
  },
  {
   "cell_type": "markdown",
   "id": "994fc89f",
   "metadata": {},
   "source": [
    "<br>\n",
    "\n",
    "- deep copy(1) : slicing`[:]`"
   ]
  },
  {
   "cell_type": "code",
   "execution_count": 219,
   "id": "b3b7bb3a",
   "metadata": {},
   "outputs": [],
   "source": [
    "c = ndarr_a2[:]"
   ]
  },
  {
   "cell_type": "code",
   "execution_count": 221,
   "id": "6b9633cf",
   "metadata": {},
   "outputs": [
    {
     "name": "stdout",
     "output_type": "stream",
     "text": [
      "[10, 2, 3] \n",
      " [1, 2, 3]\n"
     ]
    }
   ],
   "source": [
    "b[0] = 10\n",
    "c[0] = 10\n",
    "\n",
    "print(ndarr_a1, \"\\n\", ndarr_a2)"
   ]
  },
  {
   "cell_type": "markdown",
   "id": "7a464996",
   "metadata": {},
   "source": [
    "<br>\n",
    "\n",
    "- 0부터 3까지 step = 1, 2 X 2 배열 생성"
   ]
  },
  {
   "cell_type": "code",
   "execution_count": 222,
   "id": "d963bb4e",
   "metadata": {},
   "outputs": [
    {
     "name": "stdout",
     "output_type": "stream",
     "text": [
      "[[0 1]\n",
      " [2 3]]\n"
     ]
    }
   ],
   "source": [
    "ndarr_i = np.arange(0, 4).reshape(2, 2)\n",
    "\n",
    "print(ndarr_i)"
   ]
  },
  {
   "cell_type": "markdown",
   "id": "6ebd39a7",
   "metadata": {},
   "source": [
    "<br>\n",
    "\n",
    "- deep copy(2): `ndarr.copy()`"
   ]
  },
  {
   "cell_type": "code",
   "execution_count": 224,
   "id": "973262de",
   "metadata": {},
   "outputs": [
    {
     "name": "stdout",
     "output_type": "stream",
     "text": [
      "[[10  1]\n",
      " [ 2  3]]\n",
      "[[0 1]\n",
      " [2 3]]\n"
     ]
    }
   ],
   "source": [
    "ndarr_3 = ndarr_i.copy()\n",
    "\n",
    "ndarr_3[0][0] = 10\n",
    "\n",
    "print(ndarr_3)\n",
    "print(ndarr_i)"
   ]
  },
  {
   "cell_type": "markdown",
   "id": "e5b077b4",
   "metadata": {},
   "source": [
    "<br>\n",
    "\n",
    "## 4. 배열 변환\n",
    "\n",
    "### 4.1. 전치(Transpose)\n",
    "\n",
    "- 배열의 행/열 인덱스가 바뀌는 변환\n",
    "\n",
    "- `ndarr.T` > 행/열 인덱스가 바뀐 새로운 배열 return, 원본 영향 X\n",
    "\n",
    "<img src='img/transpose.png' width='200' height='200' align='left'>"
   ]
  },
  {
   "cell_type": "markdown",
   "id": "e4589d64",
   "metadata": {},
   "source": [
    "<br>\n",
    "\n",
    "- 1이상 12이하, 3 X 4 shape 배열 생성"
   ]
  },
  {
   "cell_type": "code",
   "execution_count": 227,
   "id": "92d62c17",
   "metadata": {},
   "outputs": [
    {
     "data": {
      "text/plain": [
       "array([[ 1,  2,  3,  4],\n",
       "       [ 5,  6,  7,  8],\n",
       "       [ 9, 10, 11, 12]])"
      ]
     },
     "execution_count": 227,
     "metadata": {},
     "output_type": "execute_result"
    }
   ],
   "source": [
    "ndarr_m = np.arange(1, 13).reshape(3, 4)\n",
    "\n",
    "ndarr_m"
   ]
  },
  {
   "cell_type": "code",
   "execution_count": 228,
   "id": "8c0d6a26",
   "metadata": {},
   "outputs": [
    {
     "data": {
      "text/plain": [
       "array([[ 1,  5,  9],\n",
       "       [ 2,  6, 10],\n",
       "       [ 3,  7, 11],\n",
       "       [ 4,  8, 12]])"
      ]
     },
     "execution_count": 228,
     "metadata": {},
     "output_type": "execute_result"
    }
   ],
   "source": [
    "ndarr_m.T"
   ]
  },
  {
   "cell_type": "code",
   "execution_count": 229,
   "id": "c640d6a4",
   "metadata": {},
   "outputs": [
    {
     "data": {
      "text/plain": [
       "array([[ 1,  2,  3,  4],\n",
       "       [ 5,  6,  7,  8],\n",
       "       [ 9, 10, 11, 12]])"
      ]
     },
     "execution_count": 229,
     "metadata": {},
     "output_type": "execute_result"
    }
   ],
   "source": [
    "ndarr_m"
   ]
  },
  {
   "cell_type": "markdown",
   "id": "2ed73328",
   "metadata": {},
   "source": [
    "<br>\n",
    "\n",
    "### 4.2. 배열 형태 변경\n",
    "\n",
    "- `ndarr.ravel()`, `np.ravel(ndarr)`\n",
    "\n",
    "    - 다차원 배열을 1차원 배열로 변환\n",
    "    \n",
    "    - `np.ravel(ndarr)` : 1차원으로 변환되는 결과는 원본 배열에 반영되지 않음\n",
    "        \n",
    "    - `ndarr.ravel()` : 1차원으로 변환하는 배열의 요소가 변경되면 원본 배열에도 반영됨\n",
    "        \n",
    "- `ndarr.reshape(new_shape)`, `np.reshape(ndarr, new_shape)`\n",
    "\n",
    "    - 원본 배열 객체의 구조(shape)를 변경\n",
    "    \n",
    "    - 변경하려는 구조의 전체 요소 개수와 원본 배열의 전체 요소 개수가 동일해야 함\n",
    "    \n",
    "    - 변경하려는 구조의 튜플 중 하나의 원소는 -1로 대체할 수 있고 다른 하나의 원소를 기준으로 계산되어 사용됨\n",
    "    \n",
    "    - `reshape()` 메서드가 반환하는 배열의 요소가 변경되면 원본 배열에도 반영됨"
   ]
  },
  {
   "cell_type": "markdown",
   "id": "a52755f7",
   "metadata": {},
   "source": [
    "<br>\n",
    "\n",
    "- 다차원 배열을 1차원 배열로 전환"
   ]
  },
  {
   "cell_type": "code",
   "execution_count": 231,
   "id": "f1260459",
   "metadata": {},
   "outputs": [],
   "source": [
    "ndarr_ra = ndarr_m.ravel()"
   ]
  },
  {
   "cell_type": "code",
   "execution_count": 232,
   "id": "0d5e0003",
   "metadata": {},
   "outputs": [
    {
     "data": {
      "text/plain": [
       "array([[ 1,  2,  3,  4],\n",
       "       [ 5,  6,  7,  8],\n",
       "       [ 9, 10, 11, 12]])"
      ]
     },
     "execution_count": 232,
     "metadata": {},
     "output_type": "execute_result"
    }
   ],
   "source": [
    "ndarr_m"
   ]
  },
  {
   "cell_type": "code",
   "execution_count": 233,
   "id": "9fee75c7",
   "metadata": {
    "scrolled": true
   },
   "outputs": [
    {
     "data": {
      "text/plain": [
       "array([ 1,  2,  3,  4,  5,  6,  7,  8,  9, 10, 11, 12])"
      ]
     },
     "execution_count": 233,
     "metadata": {},
     "output_type": "execute_result"
    }
   ],
   "source": [
    "ndarr_ra"
   ]
  },
  {
   "cell_type": "markdown",
   "id": "3728b474",
   "metadata": {},
   "source": [
    "<br>\n",
    "\n",
    "- `ndarr.ravel()` 전환 후 값 수정하면 > 원본도 수정: shallow copy"
   ]
  },
  {
   "cell_type": "code",
   "execution_count": 238,
   "id": "438b5d34",
   "metadata": {},
   "outputs": [
    {
     "name": "stdout",
     "output_type": "stream",
     "text": [
      "[[ 1  2  3 40]\n",
      " [ 5  6  7  8]\n",
      " [ 9 10 11 12]]\n",
      "[ 1  2  3 40  5  6  7  8  9 10 11 12]\n"
     ]
    }
   ],
   "source": [
    "ndarr_ra[3] = 40\n",
    "\n",
    "print(ndarr_m)\n",
    "print(ndarr_ra)"
   ]
  },
  {
   "cell_type": "markdown",
   "id": "6a88480c",
   "metadata": {},
   "source": [
    "<br>\n",
    "\n",
    "- `ndarr_m` > 6 X 2\n",
    "\n",
    "- 하나의 축`shape item`에 `-1` 사용시 > 나머지 축 자동 계산"
   ]
  },
  {
   "cell_type": "code",
   "execution_count": 240,
   "id": "dffe4be8",
   "metadata": {},
   "outputs": [
    {
     "data": {
      "text/plain": [
       "array([[ 1,  2],\n",
       "       [ 3, 40],\n",
       "       [ 5,  6],\n",
       "       [ 7,  8],\n",
       "       [ 9, 10],\n",
       "       [11, 12]])"
      ]
     },
     "execution_count": 240,
     "metadata": {},
     "output_type": "execute_result"
    }
   ],
   "source": [
    "ndarr_re = ndarr_m.reshape(-1, 2)\n",
    "\n",
    "ndarr_re"
   ]
  },
  {
   "cell_type": "markdown",
   "id": "5405a154",
   "metadata": {},
   "source": [
    "<br>\n",
    "\n",
    "- `ndarr.reshape()` 변환 후 > 값 수정 시 > 원본값 수정 > shallow copy"
   ]
  },
  {
   "cell_type": "code",
   "execution_count": 241,
   "id": "9abc5c41",
   "metadata": {},
   "outputs": [
    {
     "data": {
      "text/plain": [
       "array([[100, 200,   3,  40],\n",
       "       [  5,   6,   7,   8],\n",
       "       [  9,  10,  11,  12]])"
      ]
     },
     "execution_count": 241,
     "metadata": {},
     "output_type": "execute_result"
    }
   ],
   "source": [
    "ndarr_re[0] = [100, 200]\n",
    "\n",
    "ndarr_m"
   ]
  },
  {
   "cell_type": "markdown",
   "id": "3afcf4b4",
   "metadata": {},
   "source": [
    "<br>\n",
    "\n",
    "## 5. 요소(item) 변환\n",
    "\n",
    "### 5.1. item 변경\n",
    "\n",
    "- `ndarr.resize(new_shape)`, `np.resize(ndarr, new_shape)`\n",
    "\n",
    "    - 배열 메서드를 사용하면 원본 변경, np 함수를 사용하면 새로운 배열 반환\n",
    "    \n",
    "    - 배열의 구조(shape)를 변경하며 원본 배열의 요소 수와 동일하지 않아도 변경 가능\n",
    "    \n",
    "    1. 변경되는 배열의 요소 수가 동일할 경우 : reshape() 메서드와 동일한 결과\n",
    "    \n",
    "    2. 변경되는 배열의 요소 수가 더 많을 경우\n",
    "        \n",
    "        - np.resize(arr, new_shape) : 원본을 변경하지 않고, 모자란 부분을 기존 배열 값에서 복사해서 추가\n",
    "        \n",
    "        - arr.resize(new_shape) : 원본을 변경하고, 모자란 부분을 0으로 채움\n",
    "        \n",
    "        - 공통적으로 new_shape은 튜플로 추가\n",
    "    \n",
    "    3. 변경되는 배열의 요소 수가 더 작을 경우 : 마지막 남은 요소 삭제"
   ]
  },
  {
   "cell_type": "markdown",
   "id": "dc88ac3d",
   "metadata": {},
   "source": [
    "<br>\n",
    "\n",
    "- 1이상 10미만 random int 3 X 5 배열 생성"
   ]
  },
  {
   "cell_type": "code",
   "execution_count": 266,
   "id": "2ce3838e",
   "metadata": {},
   "outputs": [
    {
     "name": "stdout",
     "output_type": "stream",
     "text": [
      "[[9 2 1 9 6]\n",
      " [1 7 6 5 3]\n",
      " [5 6 4 8 2]]\n"
     ]
    }
   ],
   "source": [
    "ndarr_1 = np.random.randint(1, 10, (3, 5))\n",
    "\n",
    "print(ndarr_1)"
   ]
  },
  {
   "cell_type": "markdown",
   "id": "2b037ad5",
   "metadata": {},
   "source": [
    "<br>\n",
    "\n",
    "1. 변경되는 배열의 item수가 동일한 경우 > `ndarr.reshape()`와 동일하게 동작"
   ]
  },
  {
   "cell_type": "code",
   "execution_count": 267,
   "id": "128baebc",
   "metadata": {},
   "outputs": [
    {
     "name": "stdout",
     "output_type": "stream",
     "text": [
      "[[9 2 1]\n",
      " [9 6 1]\n",
      " [7 6 5]\n",
      " [3 5 6]\n",
      " [4 8 2]]\n"
     ]
    }
   ],
   "source": [
    "ndarr_1.resize(5, 3)\n",
    "\n",
    "print(ndarr_1)"
   ]
  },
  {
   "cell_type": "markdown",
   "id": "08f7dd7b",
   "metadata": {},
   "source": [
    "<br>\n",
    "\n",
    "2. 변경 후 배열의 item수가 더 많은 경우"
   ]
  },
  {
   "cell_type": "code",
   "execution_count": 268,
   "id": "7efa6ca0",
   "metadata": {},
   "outputs": [
    {
     "name": "stdout",
     "output_type": "stream",
     "text": [
      "\n",
      "    type : <class 'numpy.ndarray'>\n",
      "    shape : (8, 3)\n",
      "    dimension : 2\n",
      "    dtype : int32\n",
      "    data :\n",
      " [[9 2 1]\n",
      " [9 6 1]\n",
      " [7 6 5]\n",
      " [3 5 6]\n",
      " [4 8 2]\n",
      " [9 2 1]\n",
      " [9 6 1]\n",
      " [7 6 5]]\n",
      "    \n"
     ]
    }
   ],
   "source": [
    "ndarr_2 = np.resize(ndarr_1, (8, 3))\n",
    "\n",
    "np_print(ndarr_2)"
   ]
  },
  {
   "cell_type": "markdown",
   "id": "be5e0364",
   "metadata": {},
   "source": [
    "<br>\n",
    "\n",
    "- parameter `refcheck=Fasle` > 크기가 다를 때 0으로 item 초기화"
   ]
  },
  {
   "cell_type": "code",
   "execution_count": 270,
   "id": "66f03efe",
   "metadata": {},
   "outputs": [
    {
     "name": "stdout",
     "output_type": "stream",
     "text": [
      "\n",
      "    type : <class 'numpy.ndarray'>\n",
      "    shape : (8, 3)\n",
      "    dimension : 2\n",
      "    dtype : int32\n",
      "    data :\n",
      " [[9 2 1]\n",
      " [9 6 1]\n",
      " [7 6 5]\n",
      " [3 5 6]\n",
      " [4 8 2]\n",
      " [0 0 0]\n",
      " [0 0 0]\n",
      " [0 0 0]]\n",
      "    \n"
     ]
    }
   ],
   "source": [
    "ndarr_1.resize((8, 3), refcheck=False)\n",
    "\n",
    "np_print(ndarr_1)"
   ]
  },
  {
   "cell_type": "markdown",
   "id": "15158042",
   "metadata": {},
   "source": [
    "<br>\n",
    "\n",
    "3. 변경되는 배열의 item수가 더 적은 경우 > 마지막 요소를 삭제"
   ]
  },
  {
   "cell_type": "code",
   "execution_count": null,
   "id": "c1924ef6",
   "metadata": {},
   "outputs": [],
   "source": []
  },
  {
   "cell_type": "markdown",
   "id": "4f59d75f",
   "metadata": {},
   "source": [
    "### 5.2. item 추가: `np.append(arr, values)`, `np.insert(arr, idx, values)`\n",
    "\n",
    "- `np.append(arr, values, axis=None)`\n",
    "    - arr 마지막에 values를 추가\n",
    "    - axis 지정하지 않는 경우(기본값) : 1차원 배열로 변형되어 결합\n",
    "    - axis = 0 : 행 방향으로 결합 (단, 열의 개수가 동일해야 함)\n",
    "    - axis = 1 : 열 방향으로 결합 (단, 행의 개수가 동일해야 함)\n",
    "    - 원본 배열들에 반영되지 않음"
   ]
  },
  {
   "cell_type": "markdown",
   "id": "f13dad83",
   "metadata": {},
   "source": [
    "- 1이상 10미만 step=1 3 X 3 배열 ndarr_a\n",
    "- 10이상 19미만 step=1 3 X 3 배열 ndarr_b"
   ]
  },
  {
   "cell_type": "code",
   "execution_count": 272,
   "id": "dd5ef162",
   "metadata": {},
   "outputs": [
    {
     "name": "stdout",
     "output_type": "stream",
     "text": [
      "\n",
      "    type : <class 'numpy.ndarray'>\n",
      "    shape : (3, 3)\n",
      "    dimension : 2\n",
      "    dtype : int32\n",
      "    data :\n",
      " [[1 2 3]\n",
      " [4 5 6]\n",
      " [7 8 9]]\n",
      "    \n",
      "\n",
      "    type : <class 'numpy.ndarray'>\n",
      "    shape : (3, 3)\n",
      "    dimension : 2\n",
      "    dtype : int32\n",
      "    data :\n",
      " [[10 11 12]\n",
      " [13 14 15]\n",
      " [16 17 18]]\n",
      "    \n"
     ]
    }
   ],
   "source": [
    "ndarr_a = np.arange(1, 10).reshape(3, 3)\n",
    "ndarr_b = np.arange(10, 19).reshape(3, 3)\n",
    "\n",
    "np_print(ndarr_a)\n",
    "np_print(ndarr_b)"
   ]
  },
  {
   "cell_type": "markdown",
   "id": "cdc9240c",
   "metadata": {},
   "source": [
    "<br>\n",
    "\n",
    "- **2개의 배열 결합**\n",
    "    \n",
    "1. `axis` 지정하지 않은 경우 > `np.append(ndarr1, ndarr2)`: `axis=None`\n",
    "        \n",
    "   \\> `ndarr1`, `ndarr2` 둘 다 1차원으로 변형해서 추가함"
   ]
  },
  {
   "cell_type": "code",
   "execution_count": 276,
   "id": "68cfaae8",
   "metadata": {},
   "outputs": [
    {
     "data": {
      "text/plain": [
       "array([ 1,  2,  3,  4,  5,  6,  7,  8,  9, 10, 11, 12, 13, 14, 15, 16, 17,\n",
       "       18])"
      ]
     },
     "execution_count": 276,
     "metadata": {},
     "output_type": "execute_result"
    }
   ],
   "source": [
    "np.append(ndarr_a, ndarr_b)"
   ]
  },
  {
   "cell_type": "markdown",
   "id": "0185820d",
   "metadata": {},
   "source": [
    "<br>\n",
    "\n",
    "2. `axis=0` > 열방향, 행단위 결합 > 열 개수는 동일"
   ]
  },
  {
   "cell_type": "code",
   "execution_count": 277,
   "id": "cc583a9e",
   "metadata": {},
   "outputs": [
    {
     "data": {
      "text/plain": [
       "array([[ 1,  2,  3],\n",
       "       [ 4,  5,  6],\n",
       "       [ 7,  8,  9],\n",
       "       [10, 11, 12],\n",
       "       [13, 14, 15],\n",
       "       [16, 17, 18]])"
      ]
     },
     "execution_count": 277,
     "metadata": {},
     "output_type": "execute_result"
    }
   ],
   "source": [
    "np.append(ndarr_a, ndarr_b, axis=0)"
   ]
  },
  {
   "cell_type": "markdown",
   "id": "67f1e38f",
   "metadata": {},
   "source": [
    "<br>\n",
    "\n",
    "3. `axis=1` > 행방향, 열단위 결합 > 행 개수는 동일"
   ]
  },
  {
   "cell_type": "code",
   "execution_count": null,
   "id": "d6b18cae",
   "metadata": {},
   "outputs": [],
   "source": []
  },
  {
   "cell_type": "markdown",
   "id": "df7a8037",
   "metadata": {},
   "source": [
    "<br>\n",
    "\n",
    "- **열의 개수가 다른 배열과의 결합**`"
   ]
  },
  {
   "cell_type": "code",
   "execution_count": 281,
   "id": "f9798a77",
   "metadata": {},
   "outputs": [
    {
     "name": "stdout",
     "output_type": "stream",
     "text": [
      "\n",
      "    type : <class 'numpy.ndarray'>\n",
      "    shape : (3, 5)\n",
      "    dimension : 2\n",
      "    dtype : int32\n",
      "    data :\n",
      " [[30 31 32 33 34]\n",
      " [35 36 37 38 39]\n",
      " [40 41 42 43 44]]\n",
      "    \n"
     ]
    }
   ],
   "source": [
    "ndarr_c = np.arange(30, 45).reshape(3, 5)\n",
    "\n",
    "np_print(ndarr_c)"
   ]
  },
  {
   "cell_type": "markdown",
   "id": "af0ae9c3",
   "metadata": {},
   "source": [
    "<br>\n",
    "\n",
    "- a와 c결합 > `axis=1`: 행방향, 열단위, 행개수 동일"
   ]
  },
  {
   "cell_type": "code",
   "execution_count": 284,
   "id": "9d0e42b5",
   "metadata": {
    "scrolled": true
   },
   "outputs": [
    {
     "data": {
      "text/plain": [
       "array([[ 1,  2,  3, 30, 31, 32, 33, 34],\n",
       "       [ 4,  5,  6, 35, 36, 37, 38, 39],\n",
       "       [ 7,  8,  9, 40, 41, 42, 43, 44]])"
      ]
     },
     "execution_count": 284,
     "metadata": {},
     "output_type": "execute_result"
    }
   ],
   "source": [
    "np.append(ndarr_a, ndarr_c, axis=1)"
   ]
  },
  {
   "cell_type": "markdown",
   "id": "d67f6f46",
   "metadata": {},
   "source": [
    "- `axis=0` > Error\n",
    "\n",
    "<br>\n",
    "\n",
    "- 행단위로 ~"
   ]
  },
  {
   "cell_type": "code",
   "execution_count": null,
   "id": "47f9ef2c",
   "metadata": {},
   "outputs": [],
   "source": []
  },
  {
   "cell_type": "markdown",
   "id": "e046ed42",
   "metadata": {},
   "source": [
    "<br>\n",
    "\n",
    "- **행 개수가 다른 배열과의 결합**"
   ]
  },
  {
   "cell_type": "code",
   "execution_count": 285,
   "id": "4fc6acb6",
   "metadata": {},
   "outputs": [
    {
     "name": "stdout",
     "output_type": "stream",
     "text": [
      "\n",
      "    type : <class 'numpy.ndarray'>\n",
      "    shape : (4, 3)\n",
      "    dimension : 2\n",
      "    dtype : int32\n",
      "    data :\n",
      " [[ 90  91  92]\n",
      " [ 93  94  95]\n",
      " [ 96  97  98]\n",
      " [ 99 100 101]]\n",
      "    \n"
     ]
    }
   ],
   "source": [
    "ndarr_d = np.arange(90, 102).reshape(4, 3)\n",
    "\n",
    "np_print(ndarr_d)"
   ]
  },
  {
   "cell_type": "markdown",
   "id": "3bb53cc2",
   "metadata": {},
   "source": [
    "<br>\n",
    "\n",
    "- `axis=0` > 열방향, 행단위, 열 개수 동일"
   ]
  },
  {
   "cell_type": "code",
   "execution_count": 287,
   "id": "88e25796",
   "metadata": {},
   "outputs": [
    {
     "data": {
      "text/plain": [
       "array([[ 10,  11,  12],\n",
       "       [ 13,  14,  15],\n",
       "       [ 16,  17,  18],\n",
       "       [ 90,  91,  92],\n",
       "       [ 93,  94,  95],\n",
       "       [ 96,  97,  98],\n",
       "       [ 99, 100, 101]])"
      ]
     },
     "execution_count": 287,
     "metadata": {},
     "output_type": "execute_result"
    }
   ],
   "source": [
    "np.append(ndarr_b, ndarr_d, axis=0)"
   ]
  },
  {
   "cell_type": "markdown",
   "id": "6b8ec2fe",
   "metadata": {},
   "source": [
    "<br>\n",
    "\n",
    "- `axis=1`"
   ]
  },
  {
   "cell_type": "code",
   "execution_count": null,
   "id": "e972bbb5",
   "metadata": {},
   "outputs": [],
   "source": []
  },
  {
   "cell_type": "markdown",
   "id": "fa57eed7",
   "metadata": {},
   "source": [
    "\n",
    "<br>\n",
    "\n",
    "- `np.insert(arr, idx, values, axis=None)`\n",
    "    - 지정한 인덱스(idx)에 value를 추가\n",
    "    - axis 지정하지 않는 경우(기본값) : 1차원 배열의 변형되고 해당 인덱스에 추가\n",
    "    - axis = 0 : 행 방향으로 n번째 행에 추가\n",
    "    - axis = 1 : 열 방향으로 n번째 열에 추가\n",
    "    - 원본 배열에 반영되지 않음"
   ]
  },
  {
   "cell_type": "code",
   "execution_count": 295,
   "id": "c4999842",
   "metadata": {},
   "outputs": [
    {
     "data": {
      "text/plain": [
       "array([[1, 2, 3],\n",
       "       [4, 5, 6],\n",
       "       [7, 8, 9]])"
      ]
     },
     "execution_count": 295,
     "metadata": {},
     "output_type": "execute_result"
    }
   ],
   "source": [
    "ndarr_in = np.arange(1, 10).reshape(3, 3)\n",
    "\n",
    "ndarr_in"
   ]
  },
  {
   "cell_type": "markdown",
   "id": "1b856c10",
   "metadata": {},
   "source": [
    "1. axis 지정하지 않는 경우: ndarr > 1차원 배열 변형 > 지정 index에 값 추가\n",
    "    \n",
    "<br>\n",
    "\n",
    "- 2d array > 1d array 변형, index 1에 100 추가"
   ]
  },
  {
   "cell_type": "code",
   "execution_count": 292,
   "id": "700fe73e",
   "metadata": {},
   "outputs": [
    {
     "data": {
      "text/plain": [
       "array([  1, 100,   2,   3,   4,   5,   6,   7,   8,   9])"
      ]
     },
     "execution_count": 292,
     "metadata": {},
     "output_type": "execute_result"
    }
   ],
   "source": [
    "np.insert(ndarr_in, 1, 100)"
   ]
  },
  {
   "cell_type": "markdown",
   "id": "f1cd615f",
   "metadata": {},
   "source": [
    "- 원본 배열은 유지"
   ]
  },
  {
   "cell_type": "code",
   "execution_count": 294,
   "id": "3c57229a",
   "metadata": {},
   "outputs": [
    {
     "data": {
      "text/plain": [
       "array([[1, 2, 3],\n",
       "       [4, 5, 6],\n",
       "       [7, 8, 9]])"
      ]
     },
     "execution_count": 294,
     "metadata": {},
     "output_type": "execute_result"
    }
   ],
   "source": [
    "ndarr_in"
   ]
  },
  {
   "cell_type": "markdown",
   "id": "43997dac",
   "metadata": {},
   "source": [
    "<br>\n",
    "\n",
    "2. `axis=0`: 행방향, 열단위, 행개수 추가\n",
    "    블라블라"
   ]
  },
  {
   "cell_type": "code",
   "execution_count": 301,
   "id": "dcc85fc9",
   "metadata": {},
   "outputs": [
    {
     "data": {
      "text/plain": [
       "array([[  1,   2,   3],\n",
       "       [100, 100, 100],\n",
       "       [  4,   5,   6],\n",
       "       [  7,   8,   9]])"
      ]
     },
     "execution_count": 301,
     "metadata": {},
     "output_type": "execute_result"
    }
   ],
   "source": [
    "np.insert(ndarr_in, 1, 100, axis=0)"
   ]
  },
  {
   "cell_type": "markdown",
   "id": "363f8982",
   "metadata": {},
   "source": [
    "<br>\n",
    "\n",
    "3. `axis=1`: 열방향, 행단위, index 열 추가\n",
    "   \n",
    "<br>\n",
    "\n",
    "- `ndarr_in`, 2번 인덱스 열, 200 추가"
   ]
  },
  {
   "cell_type": "code",
   "execution_count": 302,
   "id": "cd93c190",
   "metadata": {},
   "outputs": [
    {
     "data": {
      "text/plain": [
       "array([[  1,   2, 200,   3],\n",
       "       [  4,   5, 200,   6],\n",
       "       [  7,   8, 200,   9]])"
      ]
     },
     "execution_count": 302,
     "metadata": {},
     "output_type": "execute_result"
    }
   ],
   "source": [
    "np.insert(ndarr_in, 2, 200, axis=1)"
   ]
  },
  {
   "cell_type": "markdown",
   "id": "e47845e3",
   "metadata": {},
   "source": [
    "<br>\n",
    "\n",
    "- item마다 다른 값으로 row, column 추가하기\n",
    "\n",
    "- item의 개수를 동일하게 설정 > 축을 기준으로 item 뭐래 진도 너무 빨라"
   ]
  },
  {
   "cell_type": "code",
   "execution_count": null,
   "id": "c1547696",
   "metadata": {},
   "outputs": [],
   "source": []
  },
  {
   "cell_type": "markdown",
   "id": "58fecfd8",
   "metadata": {},
   "source": [
    "### 5.3. 요소 삭제\n",
    "- np.delete(arr, idx, axis=None)\n",
    "    - 지정한 인덱스(idx)에 해당하는 요소를 삭제\n",
    "    - axis 지정하지 않는 경우(기본값) : 1차원 배열로 변형되어 해당 인덱스에 해당하는 요소를 삭제\n",
    "    - axis = 0 : 행 방향으로 n번째 행을 삭제\n",
    "    - axis = 1 : 열 방향으로 n번째 열을 삭제\n",
    "    - 원본 배열에 반영되지 않음"
   ]
  },
  {
   "cell_type": "code",
   "execution_count": 304,
   "id": "b4ead098",
   "metadata": {},
   "outputs": [
    {
     "data": {
      "text/plain": [
       "array([[1, 2, 3],\n",
       "       [4, 5, 6],\n",
       "       [7, 8, 9]])"
      ]
     },
     "execution_count": 304,
     "metadata": {},
     "output_type": "execute_result"
    }
   ],
   "source": [
    "arr_a = np.arange(1, 10).reshape(3, 3)\n",
    "\n",
    "arr_a"
   ]
  },
  {
   "cell_type": "code",
   "execution_count": 305,
   "id": "8e2d8cb2",
   "metadata": {},
   "outputs": [
    {
     "data": {
      "text/plain": [
       "array([1, 2, 3, 4, 5, 6, 7, 8, 9])"
      ]
     },
     "execution_count": 305,
     "metadata": {},
     "output_type": "execute_result"
    }
   ],
   "source": [
    "np.ravel(arr_a)"
   ]
  },
  {
   "cell_type": "markdown",
   "id": "c2aaecac",
   "metadata": {},
   "source": [
    "<br>\n",
    "\n",
    "1. `axis` 지정 안 하는 경우: 1차원 배열로 변환 > 지정한 idx에 해당하는 item 삭제\n",
    "    \n",
    "<br>\n",
    "\n",
    "- `arr_a` 1번 index item 삭제"
   ]
  },
  {
   "cell_type": "code",
   "execution_count": 306,
   "id": "5ef4919e",
   "metadata": {},
   "outputs": [
    {
     "data": {
      "text/plain": [
       "array([1, 3, 4, 5, 6, 7, 8, 9])"
      ]
     },
     "execution_count": 306,
     "metadata": {},
     "output_type": "execute_result"
    }
   ],
   "source": [
    "np.delete(arr_a, 1)"
   ]
  },
  {
   "cell_type": "markdown",
   "id": "e74b3b8a",
   "metadata": {},
   "source": [
    "- 원본 array 변경 X"
   ]
  },
  {
   "cell_type": "code",
   "execution_count": 307,
   "id": "ec3fdb33",
   "metadata": {},
   "outputs": [
    {
     "data": {
      "text/plain": [
       "array([[1, 2, 3],\n",
       "       [4, 5, 6],\n",
       "       [7, 8, 9]])"
      ]
     },
     "execution_count": 307,
     "metadata": {},
     "output_type": "execute_result"
    }
   ],
   "source": [
    "arr_a"
   ]
  },
  {
   "cell_type": "markdown",
   "id": "d141e130",
   "metadata": {},
   "source": [
    "<br>\n",
    "\n",
    "2. `axis=0`: 행방향, 열단위축, 행개수 감소\n",
    "\n",
    "\\>`arr_a` 세로축 index 0 삭제"
   ]
  },
  {
   "cell_type": "code",
   "execution_count": 310,
   "id": "c2a1d7e4",
   "metadata": {},
   "outputs": [
    {
     "data": {
      "text/plain": [
       "array([[4, 5, 6],\n",
       "       [7, 8, 9]])"
      ]
     },
     "execution_count": 310,
     "metadata": {},
     "output_type": "execute_result"
    }
   ],
   "source": [
    "np.delete(arr_a, 0, axis=0)"
   ]
  },
  {
   "cell_type": "markdown",
   "id": "ea7dd3da",
   "metadata": {},
   "source": [
    "<br>\n",
    "\n",
    "3. `axis=1`: 열방향, (행단위), 열개수 감소\n",
    "\n",
    "\\> `arr_a` 가로축 index 0 삭제"
   ]
  },
  {
   "cell_type": "code",
   "execution_count": 312,
   "id": "a0647ef2",
   "metadata": {},
   "outputs": [
    {
     "data": {
      "text/plain": [
       "array([[2, 3],\n",
       "       [5, 6],\n",
       "       [8, 9]])"
      ]
     },
     "execution_count": 312,
     "metadata": {},
     "output_type": "execute_result"
    }
   ],
   "source": [
    "np.delete(arr_a, 0, axis=1)"
   ]
  },
  {
   "cell_type": "markdown",
   "id": "6c7f3544",
   "metadata": {},
   "source": [
    "## 6. 배열 변환\n",
    "\n",
    "### 6.1. 배열 결합\n",
    "\n",
    "- `np.concatenate((arr1, arr2, ...), axis=0)`\n",
    "    - axis = 0(기본값) : 행 방향으로 두 배열 결합 (단, 열의 개수가 동일)\n",
    "    - axis = 1 : 열 방향으로 두 배열 결합 (단, 행의 개수가 동일)\n",
    "    - 원본 배열들은 변경되지 않음"
   ]
  },
  {
   "cell_type": "code",
   "execution_count": 313,
   "id": "ede9f4d3",
   "metadata": {},
   "outputs": [
    {
     "name": "stdout",
     "output_type": "stream",
     "text": [
      "[[1 2 3]\n",
      " [4 5 6]]\n",
      "\n",
      "[[ 7  8  9]\n",
      " [10 11 12]]\n",
      "\n",
      "[[13 14 15 16 17]\n",
      " [18 19 20 21 22]]\n",
      "\n",
      "[[23 24 25]\n",
      " [26 27 28]\n",
      " [29 30 31]\n",
      " [32 33 34]\n",
      " [35 36 37]]\n",
      "\n"
     ]
    }
   ],
   "source": [
    "# 1이상 7미만의 범위에서 1씩 증가하는 숫자로 2 x 3 구조의 배열 a 생성\n",
    "# 7이상 13미만의 범위에서 1씩 증가하는 숫자로 2 x 3 구조의 배열 b 생성\n",
    "# 13이상 23미만의 범위에서 1씩 증가하는 숫자로 2 x 5 구조의 배열 c 생성(열개수 다름)\n",
    "# 23이상 38미만의 범위에서 1씩 증가하는 숫자로 5 x 3 구조의 배열 d 생성(행개수 다름)\n",
    "a = np.arange(1, 7).reshape(2, 3)\n",
    "b = np.arange(7, 13).reshape(2, 3)\n",
    "c = np.arange(13, 23).reshape(2, 5)\n",
    "d = np.arange(23, 38).reshape(5, 3)\n",
    "\n",
    "print(a)\n",
    "print()\n",
    "print(b)\n",
    "print()\n",
    "print(c)\n",
    "print()\n",
    "print(d)\n",
    "print()"
   ]
  },
  {
   "cell_type": "markdown",
   "id": "c4763955",
   "metadata": {},
   "source": [
    "1. `axis=0` (== default) > 행방향 두 배열 결합\n",
    "\n",
    "if. np.append(a, b) > [1, 2, ... ,11, 12]"
   ]
  },
  {
   "cell_type": "code",
   "execution_count": 314,
   "id": "22c56cb7",
   "metadata": {},
   "outputs": [
    {
     "data": {
      "text/plain": [
       "array([[ 1,  2,  3],\n",
       "       [ 4,  5,  6],\n",
       "       [ 7,  8,  9],\n",
       "       [10, 11, 12]])"
      ]
     },
     "execution_count": 314,
     "metadata": {},
     "output_type": "execute_result"
    }
   ],
   "source": [
    "np.concatenate((a, b))"
   ]
  },
  {
   "cell_type": "markdown",
   "id": "8109299c",
   "metadata": {},
   "source": [
    "<br>\n",
    "\n",
    "2. `axis=1`: 열방향 두 배열 결합"
   ]
  },
  {
   "cell_type": "code",
   "execution_count": 315,
   "id": "4778b07d",
   "metadata": {},
   "outputs": [
    {
     "data": {
      "text/plain": [
       "array([[ 1,  2,  3,  7,  8,  9],\n",
       "       [ 4,  5,  6, 10, 11, 12]])"
      ]
     },
     "execution_count": 315,
     "metadata": {},
     "output_type": "execute_result"
    }
   ],
   "source": [
    "np.concatenate((a, b), axis=1)"
   ]
  },
  {
   "cell_type": "markdown",
   "id": "fab6bb0d",
   "metadata": {},
   "source": [
    "<br>\n",
    "\n",
    "- 행방향 결합 > 열 개수 동일해야 함"
   ]
  },
  {
   "cell_type": "code",
   "execution_count": 318,
   "id": "4a1ee566",
   "metadata": {},
   "outputs": [
    {
     "ename": "TypeError",
     "evalue": "only integer scalar arrays can be converted to a scalar index",
     "output_type": "error",
     "traceback": [
      "\u001b[1;31m---------------------------------------------------------------------------\u001b[0m",
      "\u001b[1;31mTypeError\u001b[0m                                 Traceback (most recent call last)",
      "Input \u001b[1;32mIn [318]\u001b[0m, in \u001b[0;36m<cell line: 1>\u001b[1;34m()\u001b[0m\n\u001b[1;32m----> 1\u001b[0m \u001b[43mnp\u001b[49m\u001b[38;5;241;43m.\u001b[39;49m\u001b[43mconcatenate\u001b[49m\u001b[43m(\u001b[49m\u001b[43ma\u001b[49m\u001b[43m,\u001b[49m\u001b[43m \u001b[49m\u001b[43mc\u001b[49m\u001b[43m)\u001b[49m\n",
      "File \u001b[1;32m<__array_function__ internals>:5\u001b[0m, in \u001b[0;36mconcatenate\u001b[1;34m(*args, **kwargs)\u001b[0m\n",
      "\u001b[1;31mTypeError\u001b[0m: only integer scalar arrays can be converted to a scalar index"
     ]
    }
   ],
   "source": [
    "np.concatenate(a, c)"
   ]
  },
  {
   "cell_type": "code",
   "execution_count": 319,
   "id": "80be4ed7",
   "metadata": {},
   "outputs": [
    {
     "data": {
      "text/plain": [
       "array([[ 1,  2,  3, 13, 14, 15, 16, 17],\n",
       "       [ 4,  5,  6, 18, 19, 20, 21, 22]])"
      ]
     },
     "execution_count": 319,
     "metadata": {},
     "output_type": "execute_result"
    }
   ],
   "source": [
    "np.concatenate((a, c), axis=1)"
   ]
  },
  {
   "cell_type": "markdown",
   "id": "a6a2365b",
   "metadata": {},
   "source": [
    "<br>\n",
    "\n",
    "- 열방향 결합 > 행 개수 동일해야함"
   ]
  },
  {
   "cell_type": "code",
   "execution_count": 321,
   "id": "1240a37d",
   "metadata": {},
   "outputs": [
    {
     "ename": "ValueError",
     "evalue": "all the input array dimensions for the concatenation axis must match exactly, but along dimension 0, the array at index 0 has size 2 and the array at index 1 has size 5",
     "output_type": "error",
     "traceback": [
      "\u001b[1;31m---------------------------------------------------------------------------\u001b[0m",
      "\u001b[1;31mValueError\u001b[0m                                Traceback (most recent call last)",
      "Input \u001b[1;32mIn [321]\u001b[0m, in \u001b[0;36m<cell line: 1>\u001b[1;34m()\u001b[0m\n\u001b[1;32m----> 1\u001b[0m \u001b[43mnp\u001b[49m\u001b[38;5;241;43m.\u001b[39;49m\u001b[43mconcatenate\u001b[49m\u001b[43m(\u001b[49m\u001b[43m(\u001b[49m\u001b[43ma\u001b[49m\u001b[43m,\u001b[49m\u001b[43m \u001b[49m\u001b[43md\u001b[49m\u001b[43m)\u001b[49m\u001b[43m,\u001b[49m\u001b[43m \u001b[49m\u001b[43maxis\u001b[49m\u001b[38;5;241;43m=\u001b[39;49m\u001b[38;5;241;43m1\u001b[39;49m\u001b[43m)\u001b[49m\n",
      "File \u001b[1;32m<__array_function__ internals>:5\u001b[0m, in \u001b[0;36mconcatenate\u001b[1;34m(*args, **kwargs)\u001b[0m\n",
      "\u001b[1;31mValueError\u001b[0m: all the input array dimensions for the concatenation axis must match exactly, but along dimension 0, the array at index 0 has size 2 and the array at index 1 has size 5"
     ]
    }
   ],
   "source": [
    "np.concatenate((a, d), axis=1)"
   ]
  },
  {
   "cell_type": "code",
   "execution_count": 324,
   "id": "248e0137",
   "metadata": {},
   "outputs": [
    {
     "data": {
      "text/plain": [
       "array([[ 1,  2,  3],\n",
       "       [ 4,  5,  6],\n",
       "       [23, 24, 25],\n",
       "       [26, 27, 28],\n",
       "       [29, 30, 31],\n",
       "       [32, 33, 34],\n",
       "       [35, 36, 37]])"
      ]
     },
     "execution_count": 324,
     "metadata": {},
     "output_type": "execute_result"
    }
   ],
   "source": [
    "np.concatenate((a, d))"
   ]
  },
  {
   "cell_type": "markdown",
   "id": "ccaa582a",
   "metadata": {},
   "source": [
    "<br>\n",
    "\n",
    "### 6.2. 배열 가르기\n",
    "\n",
    "- `np.split(arr, indices_or_sections, axis=0)`\n",
    "    - axis = 0(기본값) : 행방향으로, 열단위축, 행단위로 분리\n",
    "    - axis = 1 : 열방향으로, 행단위축, 열단위로 분리\n",
    "    - 원본 배열은 변경되지 않음"
   ]
  },
  {
   "cell_type": "code",
   "execution_count": 325,
   "id": "569d5aba",
   "metadata": {},
   "outputs": [
    {
     "data": {
      "text/plain": [
       "array([[ 1,  2,  3,  4,  5,  6],\n",
       "       [ 7,  8,  9, 10, 11, 12],\n",
       "       [13, 14, 15, 16, 17, 18],\n",
       "       [19, 20, 21, 22, 23, 24],\n",
       "       [25, 26, 27, 28, 29, 30],\n",
       "       [31, 32, 33, 34, 35, 36]])"
      ]
     },
     "execution_count": 325,
     "metadata": {},
     "output_type": "execute_result"
    }
   ],
   "source": [
    "arr_a = np.arange(1, 37).reshape(6, 6)\n",
    "\n",
    "arr_a"
   ]
  },
  {
   "cell_type": "markdown",
   "id": "51a69bce",
   "metadata": {},
   "source": [
    "<br>\n",
    "\n",
    "1. `axis=0` > 행 기준 분리\n",
    "\n",
    "- second parameter == list > 균등하지 않게 분리"
   ]
  },
  {
   "cell_type": "code",
   "execution_count": 330,
   "id": "4c5133df",
   "metadata": {},
   "outputs": [
    {
     "data": {
      "text/plain": [
       "[array([[1, 2, 3, 4, 5, 6]]),\n",
       " array([[ 7,  8,  9, 10, 11, 12]]),\n",
       " array([[13, 14, 15, 16, 17, 18]]),\n",
       " array([[19, 20, 21, 22, 23, 24],\n",
       "        [25, 26, 27, 28, 29, 30],\n",
       "        [31, 32, 33, 34, 35, 36]])]"
      ]
     },
     "execution_count": 330,
     "metadata": {},
     "output_type": "execute_result"
    }
   ],
   "source": [
    "np.split(arr_a, [1, 2, 3], axis=0)"
   ]
  },
  {
   "cell_type": "markdown",
   "id": "d32bb3a7",
   "metadata": {},
   "source": [
    "2. `axis=1` > 열 기준 분리\n",
    "\n",
    "- second parameter == scarla > 균등하게 분리 > 나눈 갯수가 정수로 떨어져야 함"
   ]
  },
  {
   "cell_type": "code",
   "execution_count": 331,
   "id": "0f2c6609",
   "metadata": {},
   "outputs": [
    {
     "data": {
      "text/plain": [
       "[array([[ 1,  2],\n",
       "        [ 7,  8],\n",
       "        [13, 14],\n",
       "        [19, 20],\n",
       "        [25, 26],\n",
       "        [31, 32]]),\n",
       " array([[ 3,  4],\n",
       "        [ 9, 10],\n",
       "        [15, 16],\n",
       "        [21, 22],\n",
       "        [27, 28],\n",
       "        [33, 34]]),\n",
       " array([[ 5,  6],\n",
       "        [11, 12],\n",
       "        [17, 18],\n",
       "        [23, 24],\n",
       "        [29, 30],\n",
       "        [35, 36]])]"
      ]
     },
     "execution_count": 331,
     "metadata": {},
     "output_type": "execute_result"
    }
   ],
   "source": [
    "np.split(arr_a, 3, axis=1)"
   ]
  },
  {
   "cell_type": "code",
   "execution_count": null,
   "id": "6707865b",
   "metadata": {},
   "outputs": [],
   "source": []
  }
 ],
 "metadata": {
  "kernelspec": {
   "display_name": "Python 3 (ipykernel)",
   "language": "python",
   "name": "python3"
  },
  "language_info": {
   "codemirror_mode": {
    "name": "ipython",
    "version": 3
   },
   "file_extension": ".py",
   "mimetype": "text/x-python",
   "name": "python",
   "nbconvert_exporter": "python",
   "pygments_lexer": "ipython3",
   "version": "3.9.12"
  }
 },
 "nbformat": 4,
 "nbformat_minor": 5
}
