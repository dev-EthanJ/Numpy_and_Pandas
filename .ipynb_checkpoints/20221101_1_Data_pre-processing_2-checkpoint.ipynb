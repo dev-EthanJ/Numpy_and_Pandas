{
 "cells": [
  {
   "cell_type": "markdown",
   "id": "f784bce0",
   "metadata": {},
   "source": [
    "# Date pre-processing 데이터 전처리\n",
    "- 데이터 형식에 대한 처리\n",
    "    - 공백 문자\n",
    "        - str.strip() : 양쪽 공백 제거\n",
    "        - str.lstrip() : 왼쪽 공백 제거\n",
    "        - str.rstip() : 오른쪽 공백 제거\n",
    "    - 데이터 타입\n",
    "    - 불규칙한 대소문자\n",
    "    - 불규칙한 구분기호\n",
    "    - 유효하지 않은 문자\n",
    "    - 불규칙한 날짜 및 시간 표기"
   ]
  },
  {
   "cell_type": "code",
   "execution_count": 1,
   "id": "c6ead2d2",
   "metadata": {},
   "outputs": [],
   "source": [
    "# 라이브러리 불러오기\n",
    "import pandas as pd\n",
    "import numpy as np"
   ]
  },
  {
   "cell_type": "markdown",
   "id": "7c84d534",
   "metadata": {},
   "source": [
    "## 1. 날짜 형식"
   ]
  },
  {
   "cell_type": "markdown",
   "id": "2e36a23b",
   "metadata": {},
   "source": [
    "### 1.1. 날짜 데이터: str 타입"
   ]
  },
  {
   "cell_type": "code",
   "execution_count": 2,
   "id": "47cf5df9",
   "metadata": {},
   "outputs": [],
   "source": [
    "\n",
    "str_date = ['2022/11/01', '2022.10.31', '2021-10-09']"
   ]
  },
  {
   "cell_type": "code",
   "execution_count": 3,
   "id": "d5bd82ed",
   "metadata": {},
   "outputs": [
    {
     "data": {
      "text/plain": [
       "0    2022/11/01\n",
       "1    2022.10.31\n",
       "2    2021-10-09\n",
       "dtype: object"
      ]
     },
     "execution_count": 3,
     "metadata": {},
     "output_type": "execute_result"
    }
   ],
   "source": [
    "# Series로 저장\n",
    "pd.Series(str_date)"
   ]
  },
  {
   "cell_type": "markdown",
   "id": "5f63d714",
   "metadata": {},
   "source": [
    "<br>\n",
    "\n",
    "1. str 타입을 datetime 타입으로 변환 후 pandas 저장\n",
    "- `pd.to_datetime()`"
   ]
  },
  {
   "cell_type": "code",
   "execution_count": 4,
   "id": "75f2fec6",
   "metadata": {},
   "outputs": [
    {
     "data": {
      "text/plain": [
       "DatetimeIndex(['2022-11-01', '2022-10-31', '2021-10-09'], dtype='datetime64[ns]', freq=None)"
      ]
     },
     "execution_count": 4,
     "metadata": {},
     "output_type": "execute_result"
    }
   ],
   "source": [
    "pd.to_datetime(str_date)"
   ]
  },
  {
   "cell_type": "markdown",
   "id": "fb68189e",
   "metadata": {},
   "source": [
    "<br>\n",
    "\n",
    "2. str 타입으로 저장 후 data type 변경   \n",
    "\n",
    "- `Series.dtype`: dtype 확인\n",
    "\n",
    "- `Series.astype()`: dtype 변경"
   ]
  },
  {
   "cell_type": "code",
   "execution_count": 5,
   "id": "fef82703",
   "metadata": {},
   "outputs": [
    {
     "data": {
      "text/plain": [
       "0   2022-11-01\n",
       "1   2022-10-31\n",
       "2   2021-10-09\n",
       "dtype: datetime64[ns]"
      ]
     },
     "execution_count": 5,
     "metadata": {},
     "output_type": "execute_result"
    }
   ],
   "source": [
    "pd.Series(str_date).astype('datetime64')"
   ]
  },
  {
   "cell_type": "markdown",
   "id": "9b28321f",
   "metadata": {},
   "source": [
    "<br>\n",
    "\n",
    "### 1.2. 날짜 데이터: `timestamp` 타입\n",
    "\n",
    "- `timestamp`: 기준시각(1970.01.01 00:00:00 UTC)로부터 몇 초가 경과했는지 표기 =`UNIX 시간`"
   ]
  },
  {
   "cell_type": "code",
   "execution_count": 6,
   "id": "aa937946",
   "metadata": {},
   "outputs": [
    {
     "data": {
      "text/plain": [
       "0    1234000\n",
       "1    1234101\n",
       "2    1234202\n",
       "3    1234300\n",
       "4     123450\n",
       "dtype: int64"
      ]
     },
     "execution_count": 6,
     "metadata": {},
     "output_type": "execute_result"
    }
   ],
   "source": [
    "stamp_date = [1234000, 1234101, 1234202, 1234300, 123450]\n",
    "\n",
    "pd.Series(stamp_date)"
   ]
  },
  {
   "cell_type": "markdown",
   "id": "b7c2faf9",
   "metadata": {},
   "source": [
    "<br>\n",
    "\n",
    "- `datetime` 타입으로 변환 후 저장\n",
    "- `timestampe`의 기본 `unit=ns`(nano seconds) 나노세컨즈: 10억분의 1초\n",
    "- optional parameter `unit` default: `ns`, days: `D`, seconds :`s`, milli seconds: `ms`, micro seconds: `us`"
   ]
  },
  {
   "cell_type": "code",
   "execution_count": 7,
   "id": "c5b059c7",
   "metadata": {},
   "outputs": [
    {
     "data": {
      "text/plain": [
       "0   1970-01-01 00:00:00.001234000\n",
       "1   1970-01-01 00:00:00.001234101\n",
       "2   1970-01-01 00:00:00.001234202\n",
       "3   1970-01-01 00:00:00.001234300\n",
       "4   1970-01-01 00:00:00.000123450\n",
       "dtype: datetime64[ns]"
      ]
     },
     "execution_count": 7,
     "metadata": {},
     "output_type": "execute_result"
    }
   ],
   "source": [
    "pd.Series(pd.to_datetime(stamp_date))"
   ]
  },
  {
   "cell_type": "markdown",
   "id": "7d23b906",
   "metadata": {},
   "source": [
    "<br>\n",
    "\n",
    "- `unit='s'`: seconds"
   ]
  },
  {
   "cell_type": "code",
   "execution_count": 8,
   "id": "9bb6b3d6",
   "metadata": {},
   "outputs": [
    {
     "data": {
      "text/plain": [
       "0   1970-01-15 06:46:40\n",
       "1   1970-01-15 06:48:21\n",
       "2   1970-01-15 06:50:02\n",
       "3   1970-01-15 06:51:40\n",
       "4   1970-01-02 10:17:30\n",
       "dtype: datetime64[ns]"
      ]
     },
     "execution_count": 8,
     "metadata": {},
     "output_type": "execute_result"
    }
   ],
   "source": [
    "pd.Series(pd.to_datetime(stamp_date, unit='s'))"
   ]
  },
  {
   "cell_type": "markdown",
   "id": "63b9e16e",
   "metadata": {},
   "source": [
    "<br>\n",
    "\n",
    "- `unit='D'`: days "
   ]
  },
  {
   "cell_type": "code",
   "execution_count": 10,
   "id": "f42108ee",
   "metadata": {},
   "outputs": [
    {
     "ename": "OutOfBoundsDatetime",
     "evalue": "cannot convert input 1234000 with the unit 'D'",
     "output_type": "error",
     "traceback": [
      "\u001b[1;31m---------------------------------------------------------------------------\u001b[0m",
      "\u001b[1;31mOverflowError\u001b[0m                             Traceback (most recent call last)",
      "\u001b[1;32m~\\anaconda3\\lib\\site-packages\\pandas\\_libs\\tslib.pyx\u001b[0m in \u001b[0;36mpandas._libs.tslib.array_with_unit_to_datetime\u001b[1;34m()\u001b[0m\n",
      "\u001b[1;32m~\\anaconda3\\lib\\site-packages\\pandas\\_libs\\tslibs\\conversion.pyx\u001b[0m in \u001b[0;36mpandas._libs.tslibs.conversion.cast_from_unit\u001b[1;34m()\u001b[0m\n",
      "\u001b[1;31mOverflowError\u001b[0m: int too big to convert",
      "\nDuring handling of the above exception, another exception occurred:\n",
      "\u001b[1;31mOutOfBoundsDatetime\u001b[0m                       Traceback (most recent call last)",
      "\u001b[1;32m~\\AppData\\Local\\Temp\\ipykernel_3788\\4186380328.py\u001b[0m in \u001b[0;36m<module>\u001b[1;34m\u001b[0m\n\u001b[1;32m----> 1\u001b[1;33m \u001b[0mpd\u001b[0m\u001b[1;33m.\u001b[0m\u001b[0mSeries\u001b[0m\u001b[1;33m(\u001b[0m\u001b[0mpd\u001b[0m\u001b[1;33m.\u001b[0m\u001b[0mto_datetime\u001b[0m\u001b[1;33m(\u001b[0m\u001b[0mstamp_date\u001b[0m\u001b[1;33m,\u001b[0m \u001b[0munit\u001b[0m\u001b[1;33m=\u001b[0m\u001b[1;34m'D'\u001b[0m\u001b[1;33m)\u001b[0m\u001b[1;33m)\u001b[0m\u001b[1;33m\u001b[0m\u001b[1;33m\u001b[0m\u001b[0m\n\u001b[0m\u001b[0;32m      2\u001b[0m \u001b[1;31m# 2038년 문제\u001b[0m\u001b[1;33m\u001b[0m\u001b[1;33m\u001b[0m\u001b[0m\n",
      "\u001b[1;32m~\\anaconda3\\lib\\site-packages\\pandas\\core\\tools\\datetimes.py\u001b[0m in \u001b[0;36mto_datetime\u001b[1;34m(arg, errors, dayfirst, yearfirst, utc, format, exact, unit, infer_datetime_format, origin, cache)\u001b[0m\n\u001b[0;32m   1074\u001b[0m             \u001b[0mresult\u001b[0m \u001b[1;33m=\u001b[0m \u001b[0m_convert_and_box_cache\u001b[0m\u001b[1;33m(\u001b[0m\u001b[0marg\u001b[0m\u001b[1;33m,\u001b[0m \u001b[0mcache_array\u001b[0m\u001b[1;33m)\u001b[0m\u001b[1;33m\u001b[0m\u001b[1;33m\u001b[0m\u001b[0m\n\u001b[0;32m   1075\u001b[0m         \u001b[1;32melse\u001b[0m\u001b[1;33m:\u001b[0m\u001b[1;33m\u001b[0m\u001b[1;33m\u001b[0m\u001b[0m\n\u001b[1;32m-> 1076\u001b[1;33m             \u001b[0mresult\u001b[0m \u001b[1;33m=\u001b[0m \u001b[0mconvert_listlike\u001b[0m\u001b[1;33m(\u001b[0m\u001b[0marg\u001b[0m\u001b[1;33m,\u001b[0m \u001b[0mformat\u001b[0m\u001b[1;33m)\u001b[0m\u001b[1;33m\u001b[0m\u001b[1;33m\u001b[0m\u001b[0m\n\u001b[0m\u001b[0;32m   1077\u001b[0m     \u001b[1;32melse\u001b[0m\u001b[1;33m:\u001b[0m\u001b[1;33m\u001b[0m\u001b[1;33m\u001b[0m\u001b[0m\n\u001b[0;32m   1078\u001b[0m         \u001b[0mresult\u001b[0m \u001b[1;33m=\u001b[0m \u001b[0mconvert_listlike\u001b[0m\u001b[1;33m(\u001b[0m\u001b[0mnp\u001b[0m\u001b[1;33m.\u001b[0m\u001b[0marray\u001b[0m\u001b[1;33m(\u001b[0m\u001b[1;33m[\u001b[0m\u001b[0marg\u001b[0m\u001b[1;33m]\u001b[0m\u001b[1;33m)\u001b[0m\u001b[1;33m,\u001b[0m \u001b[0mformat\u001b[0m\u001b[1;33m)\u001b[0m\u001b[1;33m[\u001b[0m\u001b[1;36m0\u001b[0m\u001b[1;33m]\u001b[0m\u001b[1;33m\u001b[0m\u001b[1;33m\u001b[0m\u001b[0m\n",
      "\u001b[1;32m~\\anaconda3\\lib\\site-packages\\pandas\\core\\tools\\datetimes.py\u001b[0m in \u001b[0;36m_convert_listlike_datetimes\u001b[1;34m(arg, format, name, tz, unit, errors, infer_datetime_format, dayfirst, yearfirst, exact)\u001b[0m\n\u001b[0;32m    355\u001b[0m         \u001b[1;32mif\u001b[0m \u001b[0mformat\u001b[0m \u001b[1;32mis\u001b[0m \u001b[1;32mnot\u001b[0m \u001b[1;32mNone\u001b[0m\u001b[1;33m:\u001b[0m\u001b[1;33m\u001b[0m\u001b[1;33m\u001b[0m\u001b[0m\n\u001b[0;32m    356\u001b[0m             \u001b[1;32mraise\u001b[0m \u001b[0mValueError\u001b[0m\u001b[1;33m(\u001b[0m\u001b[1;34m\"cannot specify both format and unit\"\u001b[0m\u001b[1;33m)\u001b[0m\u001b[1;33m\u001b[0m\u001b[1;33m\u001b[0m\u001b[0m\n\u001b[1;32m--> 357\u001b[1;33m         \u001b[1;32mreturn\u001b[0m \u001b[0m_to_datetime_with_unit\u001b[0m\u001b[1;33m(\u001b[0m\u001b[0marg\u001b[0m\u001b[1;33m,\u001b[0m \u001b[0munit\u001b[0m\u001b[1;33m,\u001b[0m \u001b[0mname\u001b[0m\u001b[1;33m,\u001b[0m \u001b[0mtz\u001b[0m\u001b[1;33m,\u001b[0m \u001b[0merrors\u001b[0m\u001b[1;33m)\u001b[0m\u001b[1;33m\u001b[0m\u001b[1;33m\u001b[0m\u001b[0m\n\u001b[0m\u001b[0;32m    358\u001b[0m     \u001b[1;32melif\u001b[0m \u001b[0mgetattr\u001b[0m\u001b[1;33m(\u001b[0m\u001b[0marg\u001b[0m\u001b[1;33m,\u001b[0m \u001b[1;34m\"ndim\"\u001b[0m\u001b[1;33m,\u001b[0m \u001b[1;36m1\u001b[0m\u001b[1;33m)\u001b[0m \u001b[1;33m>\u001b[0m \u001b[1;36m1\u001b[0m\u001b[1;33m:\u001b[0m\u001b[1;33m\u001b[0m\u001b[1;33m\u001b[0m\u001b[0m\n\u001b[0;32m    359\u001b[0m         raise TypeError(\n",
      "\u001b[1;32m~\\anaconda3\\lib\\site-packages\\pandas\\core\\tools\\datetimes.py\u001b[0m in \u001b[0;36m_to_datetime_with_unit\u001b[1;34m(arg, unit, name, tz, errors)\u001b[0m\n\u001b[0;32m    528\u001b[0m     \u001b[1;32melse\u001b[0m\u001b[1;33m:\u001b[0m\u001b[1;33m\u001b[0m\u001b[1;33m\u001b[0m\u001b[0m\n\u001b[0;32m    529\u001b[0m         \u001b[0marg\u001b[0m \u001b[1;33m=\u001b[0m \u001b[0mnp\u001b[0m\u001b[1;33m.\u001b[0m\u001b[0masarray\u001b[0m\u001b[1;33m(\u001b[0m\u001b[0marg\u001b[0m\u001b[1;33m)\u001b[0m\u001b[1;33m\u001b[0m\u001b[1;33m\u001b[0m\u001b[0m\n\u001b[1;32m--> 530\u001b[1;33m         \u001b[0marr\u001b[0m\u001b[1;33m,\u001b[0m \u001b[0mtz_parsed\u001b[0m \u001b[1;33m=\u001b[0m \u001b[0mtslib\u001b[0m\u001b[1;33m.\u001b[0m\u001b[0marray_with_unit_to_datetime\u001b[0m\u001b[1;33m(\u001b[0m\u001b[0marg\u001b[0m\u001b[1;33m,\u001b[0m \u001b[0munit\u001b[0m\u001b[1;33m,\u001b[0m \u001b[0merrors\u001b[0m\u001b[1;33m=\u001b[0m\u001b[0merrors\u001b[0m\u001b[1;33m)\u001b[0m\u001b[1;33m\u001b[0m\u001b[1;33m\u001b[0m\u001b[0m\n\u001b[0m\u001b[0;32m    531\u001b[0m \u001b[1;33m\u001b[0m\u001b[0m\n\u001b[0;32m    532\u001b[0m     \u001b[1;32mif\u001b[0m \u001b[0merrors\u001b[0m \u001b[1;33m==\u001b[0m \u001b[1;34m\"ignore\"\u001b[0m\u001b[1;33m:\u001b[0m\u001b[1;33m\u001b[0m\u001b[1;33m\u001b[0m\u001b[0m\n",
      "\u001b[1;32m~\\anaconda3\\lib\\site-packages\\pandas\\_libs\\tslib.pyx\u001b[0m in \u001b[0;36mpandas._libs.tslib.array_with_unit_to_datetime\u001b[1;34m()\u001b[0m\n",
      "\u001b[1;31mOutOfBoundsDatetime\u001b[0m: cannot convert input 1234000 with the unit 'D'"
     ]
    }
   ],
   "source": [
    "pd.Series(pd.to_datetime(stamp_date, unit='D'))\n",
    "# 2038년 문제"
   ]
  },
  {
   "cell_type": "markdown",
   "id": "2cfe9b3c",
   "metadata": {},
   "source": [
    "<br>\n",
    "\n",
    "- `unit='ms'`"
   ]
  },
  {
   "cell_type": "code",
   "execution_count": 11,
   "id": "327697ec",
   "metadata": {},
   "outputs": [
    {
     "data": {
      "text/plain": [
       "0   1970-01-01 00:20:34.000\n",
       "1   1970-01-01 00:20:34.101\n",
       "2   1970-01-01 00:20:34.202\n",
       "3   1970-01-01 00:20:34.300\n",
       "4   1970-01-01 00:02:03.450\n",
       "dtype: datetime64[ns]"
      ]
     },
     "execution_count": 11,
     "metadata": {},
     "output_type": "execute_result"
    }
   ],
   "source": [
    "pd.Series(pd.to_datetime(stamp_date, unit='ms'))"
   ]
  },
  {
   "cell_type": "markdown",
   "id": "9e54b626",
   "metadata": {},
   "source": [
    "<br>\n",
    "\n",
    "- `unit-='us'` : default"
   ]
  },
  {
   "cell_type": "code",
   "execution_count": 12,
   "id": "2d5cf5cc",
   "metadata": {},
   "outputs": [
    {
     "data": {
      "text/plain": [
       "0   1970-01-01 00:00:01.234000\n",
       "1   1970-01-01 00:00:01.234101\n",
       "2   1970-01-01 00:00:01.234202\n",
       "3   1970-01-01 00:00:01.234300\n",
       "4   1970-01-01 00:00:00.123450\n",
       "dtype: datetime64[ns]"
      ]
     },
     "execution_count": 12,
     "metadata": {},
     "output_type": "execute_result"
    }
   ],
   "source": [
    "pd.Series(pd.to_datetime(stamp_date, unit='us'))"
   ]
  },
  {
   "cell_type": "markdown",
   "id": "7f26a68b",
   "metadata": {},
   "source": [
    "## 2. label 형식 통일\n",
    "\n",
    "- data encoding 작업에 포함"
   ]
  },
  {
   "cell_type": "markdown",
   "id": "b1651b2c",
   "metadata": {},
   "source": [
    "<br>\n",
    "\n",
    "- `map()`\n",
    "\n",
    "- dict 타입으로 encoding map을 생성해서 적용\n",
    "\n",
    "- gender: `0`=남자, `1`=여자"
   ]
  },
  {
   "cell_type": "code",
   "execution_count": 13,
   "id": "564fb36b",
   "metadata": {},
   "outputs": [
    {
     "data": {
      "text/html": [
       "<div>\n",
       "<style scoped>\n",
       "    .dataframe tbody tr th:only-of-type {\n",
       "        vertical-align: middle;\n",
       "    }\n",
       "\n",
       "    .dataframe tbody tr th {\n",
       "        vertical-align: top;\n",
       "    }\n",
       "\n",
       "    .dataframe thead th {\n",
       "        text-align: right;\n",
       "    }\n",
       "</style>\n",
       "<table border=\"1\" class=\"dataframe\">\n",
       "  <thead>\n",
       "    <tr style=\"text-align: right;\">\n",
       "      <th></th>\n",
       "      <th>gender</th>\n",
       "    </tr>\n",
       "  </thead>\n",
       "  <tbody>\n",
       "    <tr>\n",
       "      <th>0</th>\n",
       "      <td>0</td>\n",
       "    </tr>\n",
       "    <tr>\n",
       "      <th>1</th>\n",
       "      <td>0</td>\n",
       "    </tr>\n",
       "    <tr>\n",
       "      <th>2</th>\n",
       "      <td>0</td>\n",
       "    </tr>\n",
       "    <tr>\n",
       "      <th>3</th>\n",
       "      <td>1</td>\n",
       "    </tr>\n",
       "    <tr>\n",
       "      <th>4</th>\n",
       "      <td>0</td>\n",
       "    </tr>\n",
       "    <tr>\n",
       "      <th>5</th>\n",
       "      <td>1</td>\n",
       "    </tr>\n",
       "  </tbody>\n",
       "</table>\n",
       "</div>"
      ],
      "text/plain": [
       "   gender\n",
       "0       0\n",
       "1       0\n",
       "2       0\n",
       "3       1\n",
       "4       0\n",
       "5       1"
      ]
     },
     "execution_count": 13,
     "metadata": {},
     "output_type": "execute_result"
    }
   ],
   "source": [
    "gender_df = pd.DataFrame({'gender': [0, 0, 0, 1, 0, 1]})\n",
    "gender_map = {0:'M', 1:'F'}\n",
    "\n",
    "gender_df"
   ]
  },
  {
   "cell_type": "markdown",
   "id": "bcdb48af",
   "metadata": {},
   "source": [
    "<br>\n",
    "\n",
    "- `gender_df` 변수의 `gender` column값을 `map`함수를 이용해 `0`은 `M`으로, `1`은 `F`로 변환"
   ]
  },
  {
   "cell_type": "code",
   "execution_count": 14,
   "id": "792edc98",
   "metadata": {},
   "outputs": [
    {
     "data": {
      "text/plain": [
       "0    M\n",
       "1    M\n",
       "2    M\n",
       "3    F\n",
       "4    M\n",
       "5    F\n",
       "Name: gender, dtype: object"
      ]
     },
     "execution_count": 14,
     "metadata": {},
     "output_type": "execute_result"
    }
   ],
   "source": [
    "gender_df['gender'].map(gender_map)"
   ]
  },
  {
   "cell_type": "markdown",
   "id": "4dd0bb9d",
   "metadata": {},
   "source": [
    "<br>\n",
    "\n",
    "- Python 내장함수 `replace()`도 사용 가능"
   ]
  },
  {
   "cell_type": "code",
   "execution_count": 15,
   "id": "6ca4e786",
   "metadata": {},
   "outputs": [
    {
     "data": {
      "text/plain": [
       "0    M\n",
       "1    M\n",
       "2    M\n",
       "3    F\n",
       "4    M\n",
       "5    F\n",
       "Name: gender, dtype: object"
      ]
     },
     "execution_count": 15,
     "metadata": {},
     "output_type": "execute_result"
    }
   ],
   "source": [
    "gender_df['gender'].replace(0, \"M\").replace(1, \"F\")"
   ]
  },
  {
   "cell_type": "code",
   "execution_count": 16,
   "id": "fca716ac",
   "metadata": {},
   "outputs": [
    {
     "data": {
      "text/plain": [
       "0    M\n",
       "1    M\n",
       "2    M\n",
       "3    F\n",
       "4    M\n",
       "5    F\n",
       "Name: gender, dtype: object"
      ]
     },
     "execution_count": 16,
     "metadata": {},
     "output_type": "execute_result"
    }
   ],
   "source": [
    "gender_df['gender'].replace([0, 1], ['M', 'F'])"
   ]
  },
  {
   "cell_type": "code",
   "execution_count": 17,
   "id": "686dc830",
   "metadata": {},
   "outputs": [
    {
     "data": {
      "text/plain": [
       "0    M\n",
       "1    M\n",
       "2    M\n",
       "3    F\n",
       "4    M\n",
       "5    F\n",
       "Name: gender, dtype: object"
      ]
     },
     "execution_count": 17,
     "metadata": {},
     "output_type": "execute_result"
    }
   ],
   "source": [
    "gender_df['gender'].replace({0:'M', 1:'F'})"
   ]
  },
  {
   "cell_type": "markdown",
   "id": "3da35039",
   "metadata": {},
   "source": [
    "<br>\n",
    "\n",
    "## 3. 문자 형식(대소문자, 기호 등) 통일"
   ]
  },
  {
   "cell_type": "code",
   "execution_count": 18,
   "id": "de29401a",
   "metadata": {},
   "outputs": [
    {
     "data": {
      "text/html": [
       "<div>\n",
       "<style scoped>\n",
       "    .dataframe tbody tr th:only-of-type {\n",
       "        vertical-align: middle;\n",
       "    }\n",
       "\n",
       "    .dataframe tbody tr th {\n",
       "        vertical-align: top;\n",
       "    }\n",
       "\n",
       "    .dataframe thead th {\n",
       "        text-align: right;\n",
       "    }\n",
       "</style>\n",
       "<table border=\"1\" class=\"dataframe\">\n",
       "  <thead>\n",
       "    <tr style=\"text-align: right;\">\n",
       "      <th></th>\n",
       "      <th>Name</th>\n",
       "      <th>Age</th>\n",
       "    </tr>\n",
       "  </thead>\n",
       "  <tbody>\n",
       "    <tr>\n",
       "      <th>0</th>\n",
       "      <td>Jane</td>\n",
       "      <td>18</td>\n",
       "    </tr>\n",
       "    <tr>\n",
       "      <th>1</th>\n",
       "      <td>Albert</td>\n",
       "      <td>19</td>\n",
       "    </tr>\n",
       "    <tr>\n",
       "      <th>2</th>\n",
       "      <td>John</td>\n",
       "      <td>21</td>\n",
       "    </tr>\n",
       "  </tbody>\n",
       "</table>\n",
       "</div>"
      ],
      "text/plain": [
       "     Name  Age\n",
       "0    Jane   18\n",
       "1  Albert   19\n",
       "2    John   21"
      ]
     },
     "execution_count": 18,
     "metadata": {},
     "output_type": "execute_result"
    }
   ],
   "source": [
    "my_data = {'Name':['Jane', 'Albert', 'John'],\n",
    "          'Age':[18, 19, 21]}\n",
    "\n",
    "my_df = pd.DataFrame(my_data)\n",
    "my_df"
   ]
  },
  {
   "cell_type": "markdown",
   "id": "62a8d3a0",
   "metadata": {},
   "source": [
    "<br>\n",
    "\n",
    "- column name을 소문자로 바꾸는 방법: `str.lower()`\n",
    "\n",
    "- 빈 list에 소문자로 변경한 column을 모두 적재한 뒤 대입"
   ]
  },
  {
   "cell_type": "code",
   "execution_count": 19,
   "id": "0a916e78",
   "metadata": {},
   "outputs": [
    {
     "name": "stdout",
     "output_type": "stream",
     "text": [
      "name\n",
      "age\n"
     ]
    }
   ],
   "source": [
    "my_df1 = my_df.copy()\n",
    "\n",
    "new_cols = list()\n",
    "\n",
    "for col in my_df.columns:\n",
    "    print(col.lower())\n",
    "    new_cols.append(col.lower())"
   ]
  },
  {
   "cell_type": "code",
   "execution_count": 20,
   "id": "748138a6",
   "metadata": {},
   "outputs": [
    {
     "data": {
      "text/plain": [
       "['name', 'age']"
      ]
     },
     "execution_count": 20,
     "metadata": {},
     "output_type": "execute_result"
    }
   ],
   "source": [
    "new_cols"
   ]
  },
  {
   "cell_type": "code",
   "execution_count": 21,
   "id": "017f8915",
   "metadata": {},
   "outputs": [
    {
     "data": {
      "text/html": [
       "<div>\n",
       "<style scoped>\n",
       "    .dataframe tbody tr th:only-of-type {\n",
       "        vertical-align: middle;\n",
       "    }\n",
       "\n",
       "    .dataframe tbody tr th {\n",
       "        vertical-align: top;\n",
       "    }\n",
       "\n",
       "    .dataframe thead th {\n",
       "        text-align: right;\n",
       "    }\n",
       "</style>\n",
       "<table border=\"1\" class=\"dataframe\">\n",
       "  <thead>\n",
       "    <tr style=\"text-align: right;\">\n",
       "      <th></th>\n",
       "      <th>name</th>\n",
       "      <th>age</th>\n",
       "    </tr>\n",
       "  </thead>\n",
       "  <tbody>\n",
       "    <tr>\n",
       "      <th>0</th>\n",
       "      <td>Jane</td>\n",
       "      <td>18</td>\n",
       "    </tr>\n",
       "    <tr>\n",
       "      <th>1</th>\n",
       "      <td>Albert</td>\n",
       "      <td>19</td>\n",
       "    </tr>\n",
       "    <tr>\n",
       "      <th>2</th>\n",
       "      <td>John</td>\n",
       "      <td>21</td>\n",
       "    </tr>\n",
       "  </tbody>\n",
       "</table>\n",
       "</div>"
      ],
      "text/plain": [
       "     name  age\n",
       "0    Jane   18\n",
       "1  Albert   19\n",
       "2    John   21"
      ]
     },
     "execution_count": 21,
     "metadata": {},
     "output_type": "execute_result"
    }
   ],
   "source": [
    "my_df1.columns = new_cols\n",
    "\n",
    "my_df1"
   ]
  },
  {
   "cell_type": "markdown",
   "id": "9219f51a",
   "metadata": {},
   "source": [
    "<br>\n",
    "\n",
    "- `df.columns.str.upper()`"
   ]
  },
  {
   "cell_type": "code",
   "execution_count": 22,
   "id": "e187ed0a",
   "metadata": {},
   "outputs": [
    {
     "data": {
      "text/html": [
       "<div>\n",
       "<style scoped>\n",
       "    .dataframe tbody tr th:only-of-type {\n",
       "        vertical-align: middle;\n",
       "    }\n",
       "\n",
       "    .dataframe tbody tr th {\n",
       "        vertical-align: top;\n",
       "    }\n",
       "\n",
       "    .dataframe thead th {\n",
       "        text-align: right;\n",
       "    }\n",
       "</style>\n",
       "<table border=\"1\" class=\"dataframe\">\n",
       "  <thead>\n",
       "    <tr style=\"text-align: right;\">\n",
       "      <th></th>\n",
       "      <th>NAME</th>\n",
       "      <th>AGE</th>\n",
       "    </tr>\n",
       "  </thead>\n",
       "  <tbody>\n",
       "    <tr>\n",
       "      <th>0</th>\n",
       "      <td>Jane</td>\n",
       "      <td>18</td>\n",
       "    </tr>\n",
       "    <tr>\n",
       "      <th>1</th>\n",
       "      <td>Albert</td>\n",
       "      <td>19</td>\n",
       "    </tr>\n",
       "    <tr>\n",
       "      <th>2</th>\n",
       "      <td>John</td>\n",
       "      <td>21</td>\n",
       "    </tr>\n",
       "  </tbody>\n",
       "</table>\n",
       "</div>"
      ],
      "text/plain": [
       "     NAME  AGE\n",
       "0    Jane   18\n",
       "1  Albert   19\n",
       "2    John   21"
      ]
     },
     "execution_count": 22,
     "metadata": {},
     "output_type": "execute_result"
    }
   ],
   "source": [
    "my_df2 = my_df.copy()\n",
    "\n",
    "my_df2.columns = my_df2.columns.str.upper()\n",
    "my_df2"
   ]
  },
  {
   "cell_type": "markdown",
   "id": "d3aa350e",
   "metadata": {},
   "source": [
    "<br>\n",
    "\n",
    "- 내부 item ('Name' column)의 모든 data를 소문자로 통일\n",
    "- column `age`: 정수 자료 > exclude\n",
    "- `.apply([함수명])`: 해당 함수의 return value로 column 내부 data를 일괄적으로 교체"
   ]
  },
  {
   "cell_type": "code",
   "execution_count": 23,
   "id": "72ca71e2",
   "metadata": {},
   "outputs": [],
   "source": [
    "def change_lower(value):\n",
    "    return value.lower()"
   ]
  },
  {
   "cell_type": "code",
   "execution_count": 24,
   "id": "f0f4b83a",
   "metadata": {},
   "outputs": [
    {
     "data": {
      "text/plain": [
       "0      jane\n",
       "1    albert\n",
       "2      john\n",
       "Name: NAME, dtype: object"
      ]
     },
     "execution_count": 24,
     "metadata": {},
     "output_type": "execute_result"
    }
   ],
   "source": [
    "my_df2['NAME'].apply(change_lower)"
   ]
  },
  {
   "cell_type": "markdown",
   "id": "64e2cd6c",
   "metadata": {},
   "source": [
    "<br>\n",
    "\n",
    "- `.apply()`는 `map`으로 대체 가능"
   ]
  },
  {
   "cell_type": "code",
   "execution_count": 25,
   "id": "310258d2",
   "metadata": {},
   "outputs": [
    {
     "name": "stdout",
     "output_type": "stream",
     "text": [
      "     NAME  AGE\n",
      "0    Jane   18\n",
      "1  Albert   19\n",
      "2    John   21\n"
     ]
    },
    {
     "data": {
      "text/plain": [
       "0      jane\n",
       "1    albert\n",
       "2      john\n",
       "Name: NAME, dtype: object"
      ]
     },
     "execution_count": 25,
     "metadata": {},
     "output_type": "execute_result"
    }
   ],
   "source": [
    "print(my_df2)\n",
    "\n",
    "my_df2['NAME'].map(change_lower)"
   ]
  },
  {
   "cell_type": "markdown",
   "id": "033fa1a7",
   "metadata": {},
   "source": [
    "<br>\n",
    "\n",
    "- `AGE` column의 value가 20 이상이면 \"성인\", 19 이하면 \"미성년자\" return하는 `is_adult()`함수 정의 후 `.apply()`로 적용"
   ]
  },
  {
   "cell_type": "code",
   "execution_count": 26,
   "id": "aa4e9168",
   "metadata": {},
   "outputs": [],
   "source": [
    "def is_adult(value) -> str :\n",
    "    if value >= 20:\n",
    "        return \"성인\"\n",
    "    else:\n",
    "        return \"미성년자\"    "
   ]
  },
  {
   "cell_type": "code",
   "execution_count": 27,
   "id": "d99c63fe",
   "metadata": {},
   "outputs": [
    {
     "data": {
      "text/plain": [
       "0    미성년자\n",
       "1    미성년자\n",
       "2      성인\n",
       "Name: AGE, dtype: object"
      ]
     },
     "execution_count": 27,
     "metadata": {},
     "output_type": "execute_result"
    }
   ],
   "source": [
    "my_df2['AGE'].map(is_adult)"
   ]
  },
  {
   "cell_type": "markdown",
   "id": "80d9b5e4",
   "metadata": {},
   "source": [
    "## 4. data value에 대한 처리\n",
    "\n",
    "- 결측값(NaN)\n",
    "\n",
    "- 이상치(예측 범위 밖의 value)\n",
    "\n",
    "- 단순 중복 data\n",
    "\n",
    "- 동일한 의미, 다른 명칭의 중복 data\n",
    "\n",
    "- 중복 속성\n",
    "    \n",
    "    - 다중공선성: 통계학의 회귀분석에서 독립변수들 간에 강한 상관관계가 나타나는 문제\n",
    "\n",
    "- 불규칙한 data 수집(differs in step, unit)"
   ]
  },
  {
   "cell_type": "markdown",
   "id": "fa54276a",
   "metadata": {},
   "source": [
    "<br>\n",
    "\n",
    "- data accumulation"
   ]
  },
  {
   "cell_type": "code",
   "execution_count": 28,
   "id": "ff89cd4c",
   "metadata": {},
   "outputs": [
    {
     "data": {
      "text/html": [
       "<div>\n",
       "<style scoped>\n",
       "    .dataframe tbody tr th:only-of-type {\n",
       "        vertical-align: middle;\n",
       "    }\n",
       "\n",
       "    .dataframe tbody tr th {\n",
       "        vertical-align: top;\n",
       "    }\n",
       "\n",
       "    .dataframe thead th {\n",
       "        text-align: right;\n",
       "    }\n",
       "</style>\n",
       "<table border=\"1\" class=\"dataframe\">\n",
       "  <thead>\n",
       "    <tr style=\"text-align: right;\">\n",
       "      <th></th>\n",
       "      <th>math</th>\n",
       "      <th>english</th>\n",
       "      <th>science</th>\n",
       "    </tr>\n",
       "  </thead>\n",
       "  <tbody>\n",
       "    <tr>\n",
       "      <th>0</th>\n",
       "      <td>70.0</td>\n",
       "      <td>NaN</td>\n",
       "      <td>NaN</td>\n",
       "    </tr>\n",
       "    <tr>\n",
       "      <th>1</th>\n",
       "      <td>75.0</td>\n",
       "      <td>65.0</td>\n",
       "      <td>80.0</td>\n",
       "    </tr>\n",
       "    <tr>\n",
       "      <th>2</th>\n",
       "      <td>NaN</td>\n",
       "      <td>NaN</td>\n",
       "      <td>NaN</td>\n",
       "    </tr>\n",
       "    <tr>\n",
       "      <th>3</th>\n",
       "      <td>56.0</td>\n",
       "      <td>89.0</td>\n",
       "      <td>NaN</td>\n",
       "    </tr>\n",
       "    <tr>\n",
       "      <th>4</th>\n",
       "      <td>89.0</td>\n",
       "      <td>95.0</td>\n",
       "      <td>83.0</td>\n",
       "    </tr>\n",
       "    <tr>\n",
       "      <th>5</th>\n",
       "      <td>90.0</td>\n",
       "      <td>100.0</td>\n",
       "      <td>89.0</td>\n",
       "    </tr>\n",
       "  </tbody>\n",
       "</table>\n",
       "</div>"
      ],
      "text/plain": [
       "   math  english  science\n",
       "0  70.0      NaN      NaN\n",
       "1  75.0     65.0     80.0\n",
       "2   NaN      NaN      NaN\n",
       "3  56.0     89.0      NaN\n",
       "4  89.0     95.0     83.0\n",
       "5  90.0    100.0     89.0"
      ]
     },
     "execution_count": 28,
     "metadata": {},
     "output_type": "execute_result"
    }
   ],
   "source": [
    "this_sample = pd.read_csv('data/csv_exam_nan.csv')\n",
    "\n",
    "this_sample"
   ]
  },
  {
   "cell_type": "markdown",
   "id": "01669e68",
   "metadata": {},
   "source": [
    "### 4.1. 결측치 처리 - 삭제, 선택\n",
    "\n",
    "1. 결측치`NaN`가 하나라도 있는 레코드 삭제\n",
    "\n",
    "2. 모든 값이 결측인 레코드 삭제\n",
    "\n",
    "3. 결측치가 하나라도 있는 데이터만 선택"
   ]
  },
  {
   "cell_type": "markdown",
   "id": "3e705b50",
   "metadata": {},
   "source": [
    "<br>\n",
    "\n",
    "1. 결측치가 하나 이상인 레코드(row) 삭제\n",
    "\n",
    "- `df.dropna(how='any')`\n",
    "\n",
    "- `df.dropna()` parameter default: `how='any'` > 하나라도 `NaN`이면 row 삭제\n",
    "\n",
    "- optional parameter: `inplace=True or False` > 원본 data에 반영 여부 결정"
   ]
  },
  {
   "cell_type": "code",
   "execution_count": 39,
   "id": "bcf5d5b1",
   "metadata": {},
   "outputs": [
    {
     "data": {
      "text/html": [
       "<div>\n",
       "<style scoped>\n",
       "    .dataframe tbody tr th:only-of-type {\n",
       "        vertical-align: middle;\n",
       "    }\n",
       "\n",
       "    .dataframe tbody tr th {\n",
       "        vertical-align: top;\n",
       "    }\n",
       "\n",
       "    .dataframe thead th {\n",
       "        text-align: right;\n",
       "    }\n",
       "</style>\n",
       "<table border=\"1\" class=\"dataframe\">\n",
       "  <thead>\n",
       "    <tr style=\"text-align: right;\">\n",
       "      <th></th>\n",
       "      <th>math</th>\n",
       "      <th>english</th>\n",
       "      <th>science</th>\n",
       "    </tr>\n",
       "  </thead>\n",
       "  <tbody>\n",
       "    <tr>\n",
       "      <th>1</th>\n",
       "      <td>75.0</td>\n",
       "      <td>65.0</td>\n",
       "      <td>80.0</td>\n",
       "    </tr>\n",
       "    <tr>\n",
       "      <th>4</th>\n",
       "      <td>89.0</td>\n",
       "      <td>95.0</td>\n",
       "      <td>83.0</td>\n",
       "    </tr>\n",
       "    <tr>\n",
       "      <th>5</th>\n",
       "      <td>90.0</td>\n",
       "      <td>100.0</td>\n",
       "      <td>89.0</td>\n",
       "    </tr>\n",
       "  </tbody>\n",
       "</table>\n",
       "</div>"
      ],
      "text/plain": [
       "   math  english  science\n",
       "1  75.0     65.0     80.0\n",
       "4  89.0     95.0     83.0\n",
       "5  90.0    100.0     89.0"
      ]
     },
     "execution_count": 39,
     "metadata": {},
     "output_type": "execute_result"
    }
   ],
   "source": [
    "this_sample.dropna()"
   ]
  },
  {
   "cell_type": "markdown",
   "id": "c408d466",
   "metadata": {},
   "source": [
    "<br>\n",
    "\n",
    "2. 모든 값이 `NaN`인 record만 삭제: `how='all'`"
   ]
  },
  {
   "cell_type": "code",
   "execution_count": 40,
   "id": "53326f75",
   "metadata": {},
   "outputs": [
    {
     "data": {
      "text/html": [
       "<div>\n",
       "<style scoped>\n",
       "    .dataframe tbody tr th:only-of-type {\n",
       "        vertical-align: middle;\n",
       "    }\n",
       "\n",
       "    .dataframe tbody tr th {\n",
       "        vertical-align: top;\n",
       "    }\n",
       "\n",
       "    .dataframe thead th {\n",
       "        text-align: right;\n",
       "    }\n",
       "</style>\n",
       "<table border=\"1\" class=\"dataframe\">\n",
       "  <thead>\n",
       "    <tr style=\"text-align: right;\">\n",
       "      <th></th>\n",
       "      <th>math</th>\n",
       "      <th>english</th>\n",
       "      <th>science</th>\n",
       "    </tr>\n",
       "  </thead>\n",
       "  <tbody>\n",
       "    <tr>\n",
       "      <th>0</th>\n",
       "      <td>70.0</td>\n",
       "      <td>NaN</td>\n",
       "      <td>NaN</td>\n",
       "    </tr>\n",
       "    <tr>\n",
       "      <th>1</th>\n",
       "      <td>75.0</td>\n",
       "      <td>65.0</td>\n",
       "      <td>80.0</td>\n",
       "    </tr>\n",
       "    <tr>\n",
       "      <th>3</th>\n",
       "      <td>56.0</td>\n",
       "      <td>89.0</td>\n",
       "      <td>NaN</td>\n",
       "    </tr>\n",
       "    <tr>\n",
       "      <th>4</th>\n",
       "      <td>89.0</td>\n",
       "      <td>95.0</td>\n",
       "      <td>83.0</td>\n",
       "    </tr>\n",
       "    <tr>\n",
       "      <th>5</th>\n",
       "      <td>90.0</td>\n",
       "      <td>100.0</td>\n",
       "      <td>89.0</td>\n",
       "    </tr>\n",
       "  </tbody>\n",
       "</table>\n",
       "</div>"
      ],
      "text/plain": [
       "   math  english  science\n",
       "0  70.0      NaN      NaN\n",
       "1  75.0     65.0     80.0\n",
       "3  56.0     89.0      NaN\n",
       "4  89.0     95.0     83.0\n",
       "5  90.0    100.0     89.0"
      ]
     },
     "execution_count": 40,
     "metadata": {},
     "output_type": "execute_result"
    }
   ],
   "source": [
    "this_sample.dropna(how='all')"
   ]
  },
  {
   "cell_type": "markdown",
   "id": "b3a3ec2a",
   "metadata": {},
   "source": [
    "<br>\n",
    "\n",
    "3.결측치가 하나라도 있는 data만 선택: `df[df.isnull().any(axis=1)]` > 조건색인 활용\n",
    "\n",
    "- `df.isnull()`: `NaN`인 cell은 `True`, 아닌 셀은 `False`로 DataFrame 출력"
   ]
  },
  {
   "cell_type": "code",
   "execution_count": 29,
   "id": "f66b6a62",
   "metadata": {},
   "outputs": [
    {
     "data": {
      "text/html": [
       "<div>\n",
       "<style scoped>\n",
       "    .dataframe tbody tr th:only-of-type {\n",
       "        vertical-align: middle;\n",
       "    }\n",
       "\n",
       "    .dataframe tbody tr th {\n",
       "        vertical-align: top;\n",
       "    }\n",
       "\n",
       "    .dataframe thead th {\n",
       "        text-align: right;\n",
       "    }\n",
       "</style>\n",
       "<table border=\"1\" class=\"dataframe\">\n",
       "  <thead>\n",
       "    <tr style=\"text-align: right;\">\n",
       "      <th></th>\n",
       "      <th>math</th>\n",
       "      <th>english</th>\n",
       "      <th>science</th>\n",
       "    </tr>\n",
       "  </thead>\n",
       "  <tbody>\n",
       "    <tr>\n",
       "      <th>0</th>\n",
       "      <td>False</td>\n",
       "      <td>True</td>\n",
       "      <td>True</td>\n",
       "    </tr>\n",
       "    <tr>\n",
       "      <th>1</th>\n",
       "      <td>False</td>\n",
       "      <td>False</td>\n",
       "      <td>False</td>\n",
       "    </tr>\n",
       "    <tr>\n",
       "      <th>2</th>\n",
       "      <td>True</td>\n",
       "      <td>True</td>\n",
       "      <td>True</td>\n",
       "    </tr>\n",
       "    <tr>\n",
       "      <th>3</th>\n",
       "      <td>False</td>\n",
       "      <td>False</td>\n",
       "      <td>True</td>\n",
       "    </tr>\n",
       "    <tr>\n",
       "      <th>4</th>\n",
       "      <td>False</td>\n",
       "      <td>False</td>\n",
       "      <td>False</td>\n",
       "    </tr>\n",
       "    <tr>\n",
       "      <th>5</th>\n",
       "      <td>False</td>\n",
       "      <td>False</td>\n",
       "      <td>False</td>\n",
       "    </tr>\n",
       "  </tbody>\n",
       "</table>\n",
       "</div>"
      ],
      "text/plain": [
       "    math  english  science\n",
       "0  False     True     True\n",
       "1  False    False    False\n",
       "2   True     True     True\n",
       "3  False    False     True\n",
       "4  False    False    False\n",
       "5  False    False    False"
      ]
     },
     "execution_count": 29,
     "metadata": {},
     "output_type": "execute_result"
    }
   ],
   "source": [
    "this_sample.isnull()"
   ]
  },
  {
   "cell_type": "markdown",
   "id": "0a651b6b",
   "metadata": {},
   "source": [
    "<br>\n",
    "\n",
    "- `df.any(axis=0)`: 해당 column에 `isnull()`의 결과값이 `True`인 셀이 있는지 체크\n",
    "\n",
    "- default: `axis=0`: column 단위 기준\n",
    "\n",
    "- `axis=1`: row 단위 기준"
   ]
  },
  {
   "cell_type": "code",
   "execution_count": 33,
   "id": "d7ecc606",
   "metadata": {},
   "outputs": [
    {
     "data": {
      "text/plain": [
       "math       True\n",
       "english    True\n",
       "science    True\n",
       "dtype: bool"
      ]
     },
     "execution_count": 33,
     "metadata": {},
     "output_type": "execute_result"
    }
   ],
   "source": [
    "this_sample.isnull().any()"
   ]
  },
  {
   "cell_type": "code",
   "execution_count": 34,
   "id": "8803937e",
   "metadata": {},
   "outputs": [
    {
     "data": {
      "text/plain": [
       "0     True\n",
       "1    False\n",
       "2     True\n",
       "3     True\n",
       "4    False\n",
       "5    False\n",
       "dtype: bool"
      ]
     },
     "execution_count": 34,
     "metadata": {},
     "output_type": "execute_result"
    }
   ],
   "source": [
    "this_sample.isnull().any(axis=1)"
   ]
  },
  {
   "cell_type": "code",
   "execution_count": 41,
   "id": "c5c0b412",
   "metadata": {},
   "outputs": [
    {
     "data": {
      "text/html": [
       "<div>\n",
       "<style scoped>\n",
       "    .dataframe tbody tr th:only-of-type {\n",
       "        vertical-align: middle;\n",
       "    }\n",
       "\n",
       "    .dataframe tbody tr th {\n",
       "        vertical-align: top;\n",
       "    }\n",
       "\n",
       "    .dataframe thead th {\n",
       "        text-align: right;\n",
       "    }\n",
       "</style>\n",
       "<table border=\"1\" class=\"dataframe\">\n",
       "  <thead>\n",
       "    <tr style=\"text-align: right;\">\n",
       "      <th></th>\n",
       "      <th>math</th>\n",
       "      <th>english</th>\n",
       "      <th>science</th>\n",
       "    </tr>\n",
       "  </thead>\n",
       "  <tbody>\n",
       "    <tr>\n",
       "      <th>0</th>\n",
       "      <td>70.0</td>\n",
       "      <td>NaN</td>\n",
       "      <td>NaN</td>\n",
       "    </tr>\n",
       "    <tr>\n",
       "      <th>2</th>\n",
       "      <td>NaN</td>\n",
       "      <td>NaN</td>\n",
       "      <td>NaN</td>\n",
       "    </tr>\n",
       "    <tr>\n",
       "      <th>3</th>\n",
       "      <td>56.0</td>\n",
       "      <td>89.0</td>\n",
       "      <td>NaN</td>\n",
       "    </tr>\n",
       "  </tbody>\n",
       "</table>\n",
       "</div>"
      ],
      "text/plain": [
       "   math  english  science\n",
       "0  70.0      NaN      NaN\n",
       "2   NaN      NaN      NaN\n",
       "3  56.0     89.0      NaN"
      ]
     },
     "execution_count": 41,
     "metadata": {},
     "output_type": "execute_result"
    }
   ],
   "source": [
    "this_sample[this_sample.isnull().any(axis=1)]"
   ]
  },
  {
   "cell_type": "code",
   "execution_count": null,
   "id": "b25c0c60",
   "metadata": {},
   "outputs": [],
   "source": []
  },
  {
   "cell_type": "code",
   "execution_count": null,
   "id": "9a9eac15",
   "metadata": {},
   "outputs": [],
   "source": []
  },
  {
   "cell_type": "code",
   "execution_count": null,
   "id": "d65e03bd",
   "metadata": {},
   "outputs": [],
   "source": []
  },
  {
   "cell_type": "code",
   "execution_count": null,
   "id": "5b55a43b",
   "metadata": {},
   "outputs": [],
   "source": []
  },
  {
   "cell_type": "code",
   "execution_count": null,
   "id": "b6b4604a",
   "metadata": {},
   "outputs": [],
   "source": []
  },
  {
   "cell_type": "code",
   "execution_count": null,
   "id": "1372f69d",
   "metadata": {},
   "outputs": [],
   "source": []
  },
  {
   "cell_type": "code",
   "execution_count": null,
   "id": "afa59239",
   "metadata": {},
   "outputs": [],
   "source": []
  },
  {
   "cell_type": "code",
   "execution_count": null,
   "id": "3d7005f6",
   "metadata": {},
   "outputs": [],
   "source": []
  }
 ],
 "metadata": {
  "kernelspec": {
   "display_name": "Python 3 (ipykernel)",
   "language": "python",
   "name": "python3"
  },
  "language_info": {
   "codemirror_mode": {
    "name": "ipython",
    "version": 3
   },
   "file_extension": ".py",
   "mimetype": "text/x-python",
   "name": "python",
   "nbconvert_exporter": "python",
   "pygments_lexer": "ipython3",
   "version": "3.9.13"
  }
 },
 "nbformat": 4,
 "nbformat_minor": 5
}
