{
 "cells": [
  {
   "cell_type": "markdown",
   "id": "e30ad6e6",
   "metadata": {},
   "source": [
    "# Numpy array Manipulating <br> 넘파이 배열 변형"
   ]
  },
  {
   "cell_type": "code",
   "execution_count": 1,
   "id": "4eca03e9",
   "metadata": {},
   "outputs": [],
   "source": [
    "import numpy as np\n",
    "\n",
    "def np_print(nparr):\n",
    "    print('''\n",
    "    type : {}\n",
    "    shape : {}\n",
    "    dimension : {}\n",
    "    dtype : {}\n",
    "    data :\\n {}\n",
    "    '''.format(type(nparr), nparr.shape, nparr.ndim, nparr.dtype, nparr))"
   ]
  },
  {
   "cell_type": "markdown",
   "id": "9b365d7a",
   "metadata": {},
   "source": [
    "<br>\n",
    "\n",
    "## 1. 배열 정렬(sorting)\n",
    "- `arr.sort()` method : axis를 기준으로 요소를 오름차순 정렬\n",
    "    - default: `axis=-1` : 현재 배열의 마지막 axis\n",
    "    - `axis=0` : 열 단위 정렬\n",
    "    - `axis=1` : 행 단위 정렬\n",
    "        - 원본 객체에 정렬 결과가 반영됨\n",
    "- `np.sort(arr)` : axis를 기준으로 요소를 오름차순 정렬\n",
    "    - default `axis=-1` : 현재 배열의 마지막 axis\n",
    "    - `axis=0` : 열 단위 정렬\n",
    "    - `axis=1` : 행 단위 정렬\n",
    "        - 정렬된 새로운 배열을 반환함 > 원본 객체 변화 없음\n",
    "- `np.argsort(arr)` : 정렬 순서를 반환\n",
    "    - default: `axis=-1` : 현재 배열의 마지막 axis\n",
    "    - `axis=0` : 열 단위 정렬\n",
    "    - `axis=1` : 행 단위 정렬"
   ]
  },
  {
   "cell_type": "code",
   "execution_count": 2,
   "id": "db143487",
   "metadata": {
    "scrolled": true
   },
   "outputs": [
    {
     "name": "stdout",
     "output_type": "stream",
     "text": [
      "\n",
      "    type : <class 'numpy.ndarray'>\n",
      "    shape : (5,)\n",
      "    dimension : 1\n",
      "    dtype : int32\n",
      "    data :\n",
      " [0 1 2 3 4]\n",
      "    \n"
     ]
    }
   ],
   "source": [
    "arr_1d = np.arange(0, 5)\n",
    "\n",
    "np_print(arr_1d)"
   ]
  },
  {
   "cell_type": "markdown",
   "id": "0c4427db",
   "metadata": {},
   "source": [
    "<br>\n",
    "\n",
    "- reverse"
   ]
  },
  {
   "cell_type": "code",
   "execution_count": 3,
   "id": "5240aaad",
   "metadata": {},
   "outputs": [
    {
     "data": {
      "text/plain": [
       "array([4, 3, 2, 1, 0])"
      ]
     },
     "execution_count": 3,
     "metadata": {},
     "output_type": "execute_result"
    }
   ],
   "source": [
    "arr_1d = arr_1d[::-1]\n",
    "\n",
    "arr_1d"
   ]
  },
  {
   "cell_type": "markdown",
   "id": "916d8dba",
   "metadata": {},
   "source": [
    "<br>\n",
    "\n",
    "- 난수 패턴 고정"
   ]
  },
  {
   "cell_type": "code",
   "execution_count": 4,
   "id": "9246d99d",
   "metadata": {},
   "outputs": [],
   "source": [
    "np.random.seed(20)"
   ]
  },
  {
   "cell_type": "code",
   "execution_count": 5,
   "id": "9e15c619",
   "metadata": {},
   "outputs": [
    {
     "name": "stdout",
     "output_type": "stream",
     "text": [
      "\n",
      "    type : <class 'numpy.ndarray'>\n",
      "    shape : (5,)\n",
      "    dimension : 1\n",
      "    dtype : int32\n",
      "    data :\n",
      " [3 9 4 6 7]\n",
      "    \n"
     ]
    }
   ],
   "source": [
    "arr_5 = np.random.randint(0, 10, size=(5))\n",
    "\n",
    "np_print(arr_5)"
   ]
  },
  {
   "cell_type": "code",
   "execution_count": 6,
   "id": "c477abef",
   "metadata": {},
   "outputs": [
    {
     "name": "stdout",
     "output_type": "stream",
     "text": [
      "\n",
      "    type : <class 'numpy.ndarray'>\n",
      "    shape : (3, 4)\n",
      "    dimension : 2\n",
      "    dtype : int32\n",
      "    data :\n",
      " [[ 3  1  9 17]\n",
      " [ 7  7 17 10]\n",
      " [ 6  8  6  3]]\n",
      "    \n"
     ]
    }
   ],
   "source": [
    "arr_2d = np.random.randint(1, 20, size=(3, 4))\n",
    "\n",
    "np_print(arr_2d)"
   ]
  },
  {
   "cell_type": "markdown",
   "id": "7c20f188",
   "metadata": {},
   "source": [
    "### 1.1. `np.sort(arr, axis=-1)`\n",
    "- `np.sort(arr)` method : axis를 기준으로 요소를 오름차순 정렬\n",
    "    - default: `axis=-1` : 현재 배열의 마지막 axis\n",
    "    - `axis=0` : 열 단위 정렬\n",
    "    - `axis=1` : 행 단위 정렬\n",
    "        - 원본 객체에 정렬 결과가 반영됨"
   ]
  },
  {
   "cell_type": "code",
   "execution_count": 7,
   "id": "3faf1425",
   "metadata": {},
   "outputs": [
    {
     "name": "stdout",
     "output_type": "stream",
     "text": [
      "\n",
      "    type : <class 'numpy.ndarray'>\n",
      "    shape : (5,)\n",
      "    dimension : 1\n",
      "    dtype : int32\n",
      "    data :\n",
      " [0 1 2 3 4]\n",
      "    \n",
      "\n",
      "    type : <class 'numpy.ndarray'>\n",
      "    shape : (5,)\n",
      "    dimension : 1\n",
      "    dtype : int32\n",
      "    data :\n",
      " [4 3 2 1 0]\n",
      "    \n"
     ]
    }
   ],
   "source": [
    "np_print(np.sort(arr_1d))\n",
    "\n",
    "np_print(arr_1d)"
   ]
  },
  {
   "cell_type": "markdown",
   "id": "f4be001b",
   "metadata": {},
   "source": [
    "<br>\n",
    "\n",
    "### 1.2. `arr.sort(axis=-1)`\n",
    "\n",
    "- default: `axis=-1` : 현재 배열의 마지막 axis\n",
    "\n",
    "- `axis=0` : 열 단위 정렬\n",
    "\n",
    "- `axis=1` : 행 단위 정렬\n",
    "\n",
    "    - 원본 객체에 정렬 결과가 반영됨"
   ]
  },
  {
   "cell_type": "code",
   "execution_count": 8,
   "id": "dc8f290a",
   "metadata": {
    "scrolled": true
   },
   "outputs": [
    {
     "name": "stdout",
     "output_type": "stream",
     "text": [
      "\n",
      "    type : <class 'numpy.ndarray'>\n",
      "    shape : (3, 4)\n",
      "    dimension : 2\n",
      "    dtype : int32\n",
      "    data :\n",
      " [[ 3  1  9 17]\n",
      " [ 7  7 17 10]\n",
      " [ 6  8  6  3]]\n",
      "    \n",
      "\n",
      "    type : <class 'numpy.ndarray'>\n",
      "    shape : (3, 4)\n",
      "    dimension : 2\n",
      "    dtype : int32\n",
      "    data :\n",
      " [[ 1  3  9 17]\n",
      " [ 7  7 10 17]\n",
      " [ 3  6  6  8]]\n",
      "    \n"
     ]
    }
   ],
   "source": [
    "np_print(arr_2d)\n",
    "\n",
    "arr_2d.sort()\n",
    "\n",
    "np_print(arr_2d)"
   ]
  },
  {
   "cell_type": "markdown",
   "id": "9e13704f",
   "metadata": {},
   "source": [
    "<br>\n",
    "\n",
    "### 1.3. `np.argsort(arr)`\n",
    "\n",
    "- 내부의 item들을 오름차순 정렬하기 위해서   \n",
    " \\> 현재 배열에서 가져와야 하는 data의 index를 배열로 보여줌"
   ]
  },
  {
   "cell_type": "code",
   "execution_count": 9,
   "id": "11422433",
   "metadata": {},
   "outputs": [
    {
     "name": "stdout",
     "output_type": "stream",
     "text": [
      "\n",
      "    type : <class 'numpy.ndarray'>\n",
      "    shape : (5,)\n",
      "    dimension : 1\n",
      "    dtype : int32\n",
      "    data :\n",
      " [3 9 4 6 7]\n",
      "    \n"
     ]
    }
   ],
   "source": [
    "np_print(arr_5)"
   ]
  },
  {
   "cell_type": "code",
   "execution_count": 10,
   "id": "8ba521c6",
   "metadata": {},
   "outputs": [
    {
     "data": {
      "text/plain": [
       "array([0, 2, 3, 4, 1], dtype=int64)"
      ]
     },
     "execution_count": 10,
     "metadata": {},
     "output_type": "execute_result"
    }
   ],
   "source": [
    "np.argsort(arr_5)"
   ]
  },
  {
   "cell_type": "code",
   "execution_count": 11,
   "id": "3cc90a82",
   "metadata": {},
   "outputs": [
    {
     "data": {
      "text/plain": [
       "array([3, 4, 6, 7, 9])"
      ]
     },
     "execution_count": 11,
     "metadata": {},
     "output_type": "execute_result"
    }
   ],
   "source": [
    "arr_5[np.argsort(arr_5)]"
   ]
  },
  {
   "cell_type": "markdown",
   "id": "40c2dd1b",
   "metadata": {},
   "source": [
    "<br>\n",
    "\n",
    "### 1.4. 행단위, 열단위 정렬\n",
    "\n",
    "- 2차원 배열 `ndim=2`\n",
    "\n",
    "    - defalut: `axis=-1` \n",
    "\n",
    "    - 현재 배열의 `axis=0, 1` \n",
    "\n",
    "    - 마지막 `axis=1=-1` (row 단위 정렬)"
   ]
  },
  {
   "cell_type": "markdown",
   "id": "623b88e5",
   "metadata": {},
   "source": [
    "<br>\n",
    "\n",
    "$0 \\leq x < 1$, random float data, 3 rows X 3 columns array"
   ]
  },
  {
   "cell_type": "code",
   "execution_count": 12,
   "id": "7d4c2fb8",
   "metadata": {
    "scrolled": true
   },
   "outputs": [
    {
     "name": "stdout",
     "output_type": "stream",
     "text": [
      "\n",
      "    type : <class 'numpy.ndarray'>\n",
      "    shape : (3, 3)\n",
      "    dimension : 2\n",
      "    dtype : float64\n",
      "    data :\n",
      " [[0.11669374 0.7512807  0.23921822]\n",
      " [0.25480601 0.85762553 0.94977903]\n",
      " [0.56168686 0.17878052 0.77025193]]\n",
      "    \n",
      "\n",
      "    type : <class 'numpy.ndarray'>\n",
      "    shape : (3, 3)\n",
      "    dimension : 2\n",
      "    dtype : float64\n",
      "    data :\n",
      " [[0.49238104 0.63125307 0.83949792]\n",
      " [0.4610394  0.49794007 0.67941112]\n",
      " [0.65078591 0.26879524 0.06732467]]\n",
      "    \n"
     ]
    }
   ],
   "source": [
    "arr_x = np.random.random(size=(3, 3))\n",
    "arr_y = np.random.random(size=(3, 3))\n",
    "\n",
    "np_print(arr_x)\n",
    "np_print(arr_y)"
   ]
  },
  {
   "cell_type": "markdown",
   "id": "b987a6d2",
   "metadata": {},
   "source": [
    "<br>\n",
    "\n",
    "1. 기본 방향`axis=-1` == `axis=1`: column의 축 방향, $\\rightarrow$, row별, 행별 정렬\n",
    "\n",
    "![sort_axis_-1](https://github.com/insung-ethan-j/Numpy_and_Pandas/blob/49ad1db57b6ce921ab1b3391f071422e061a5900/img/sortaxis1.jpg?raw=true)"
   ]
  },
  {
   "cell_type": "code",
   "execution_count": 13,
   "id": "367b31a7",
   "metadata": {},
   "outputs": [
    {
     "name": "stdout",
     "output_type": "stream",
     "text": [
      "\n",
      "    type : <class 'numpy.ndarray'>\n",
      "    shape : (3, 3)\n",
      "    dimension : 2\n",
      "    dtype : float64\n",
      "    data :\n",
      " [[0.11669374 0.7512807  0.23921822]\n",
      " [0.25480601 0.85762553 0.94977903]\n",
      " [0.56168686 0.17878052 0.77025193]]\n",
      "    \n"
     ]
    },
    {
     "data": {
      "text/plain": [
       "array([[0.11669374, 0.23921822, 0.7512807 ],\n",
       "       [0.25480601, 0.85762553, 0.94977903],\n",
       "       [0.17878052, 0.56168686, 0.77025193]])"
      ]
     },
     "execution_count": 13,
     "metadata": {},
     "output_type": "execute_result"
    }
   ],
   "source": [
    "np_print(arr_x)\n",
    "\n",
    "np.sort(arr_x)"
   ]
  },
  {
   "cell_type": "markdown",
   "id": "91078ce6",
   "metadata": {},
   "source": [
    "<br>\n",
    "\n",
    "2. `axis=0`: row의 축 방향, $\\downarrow$, column별, 열별 정렬\n",
    "\n",
    "![sortaxis0.jpg](https://github.com/insung-ethan-j/Numpy_and_Pandas/blob/49ad1db57b6ce921ab1b3391f071422e061a5900/img/sortaxis0.jpg?raw=true)"
   ]
  },
  {
   "cell_type": "code",
   "execution_count": 14,
   "id": "e3cadeb9",
   "metadata": {},
   "outputs": [
    {
     "name": "stdout",
     "output_type": "stream",
     "text": [
      "\n",
      "    type : <class 'numpy.ndarray'>\n",
      "    shape : (3, 3)\n",
      "    dimension : 2\n",
      "    dtype : float64\n",
      "    data :\n",
      " [[0.11669374 0.7512807  0.23921822]\n",
      " [0.25480601 0.85762553 0.94977903]\n",
      " [0.56168686 0.17878052 0.77025193]]\n",
      "    \n",
      "\n",
      "    type : <class 'numpy.ndarray'>\n",
      "    shape : (3, 3)\n",
      "    dimension : 2\n",
      "    dtype : float64\n",
      "    data :\n",
      " [[0.11669374 0.17878052 0.23921822]\n",
      " [0.25480601 0.7512807  0.77025193]\n",
      " [0.56168686 0.85762553 0.94977903]]\n",
      "    \n"
     ]
    }
   ],
   "source": [
    "np_print(arr_x)\n",
    "\n",
    "np_print(np.sort(arr_x, axis=0))"
   ]
  },
  {
   "cell_type": "markdown",
   "id": "66271e14",
   "metadata": {},
   "source": [
    "<br>\n",
    "\n",
    "## 2. 배열 참조(array reference)\n",
    "\n",
    "<br>\n",
    "\n",
    "### 2.1. 인덱싱(Indexing) : 하나의 item에 대해 참조\n",
    "\n",
    "- 각 차원에 따라 배열이 참조하는 index의 개수가 다름\n",
    "\n",
    "    - 1차원 배열 : 1 index\n",
    "    \n",
    "    - 2차원 배열 : 2 index\n",
    "    \n",
    "    - 3차원 배열 : 3 index\n",
    "\n",
    "- indexing으로 참조한 item에 대해 수정 가능\n",
    "\n",
    "- index 배열을 전달하여 여러 개의 요소 참조"
   ]
  },
  {
   "cell_type": "markdown",
   "id": "b41b3411",
   "metadata": {},
   "source": [
    "<br>\n",
    "\n",
    "- $0 \\leq x < 24$, int data arr"
   ]
  },
  {
   "cell_type": "code",
   "execution_count": 15,
   "id": "1594abdf",
   "metadata": {},
   "outputs": [
    {
     "name": "stdout",
     "output_type": "stream",
     "text": [
      "\n",
      "    type : <class 'numpy.ndarray'>\n",
      "    shape : (24,)\n",
      "    dimension : 1\n",
      "    dtype : int32\n",
      "    data :\n",
      " [ 0  1  2  3  4  5  6  7  8  9 10 11 12 13 14 15 16 17 18 19 20 21 22 23]\n",
      "    \n"
     ]
    }
   ],
   "source": [
    "arr_24 = np.arange(0, 24)\n",
    "\n",
    "np_print(arr_24)"
   ]
  },
  {
   "cell_type": "markdown",
   "id": "fd70b9a7",
   "metadata": {},
   "source": [
    "<br>\n",
    "\n",
    "- 1차원 배열 indexing: `index=1` item 접근"
   ]
  },
  {
   "cell_type": "code",
   "execution_count": 16,
   "id": "93de7f8d",
   "metadata": {},
   "outputs": [
    {
     "data": {
      "text/plain": [
       "1"
      ]
     },
     "execution_count": 16,
     "metadata": {},
     "output_type": "execute_result"
    }
   ],
   "source": [
    "arr_24[1]"
   ]
  },
  {
   "cell_type": "markdown",
   "id": "f7205289",
   "metadata": {},
   "source": [
    "<br>\n",
    "\n",
    "- 1차원 배열 indexing > last index item 접근"
   ]
  },
  {
   "cell_type": "code",
   "execution_count": 17,
   "id": "cdacf37c",
   "metadata": {},
   "outputs": [
    {
     "data": {
      "text/plain": [
       "23"
      ]
     },
     "execution_count": 17,
     "metadata": {},
     "output_type": "execute_result"
    }
   ],
   "source": [
    "arr_24[-1]"
   ]
  },
  {
   "cell_type": "markdown",
   "id": "ebf67240",
   "metadata": {},
   "source": [
    "<br>\n",
    "\n",
    "- 1차원 배열 indexing > item value 수정"
   ]
  },
  {
   "cell_type": "code",
   "execution_count": 18,
   "id": "1143df8b",
   "metadata": {},
   "outputs": [
    {
     "name": "stdout",
     "output_type": "stream",
     "text": [
      "[  0   1   2   3   4   5   6   7   8   9  10  11  12  13  14  15  16  17\n",
      "  18  19  20  21  22 100]\n"
     ]
    }
   ],
   "source": [
    "arr_24[-1] = 100\n",
    "\n",
    "print(arr_24)"
   ]
  },
  {
   "cell_type": "markdown",
   "id": "629e69c8",
   "metadata": {},
   "source": [
    "<br>\n",
    "\n",
    "- `reshape(4, 6)`"
   ]
  },
  {
   "cell_type": "code",
   "execution_count": 19,
   "id": "cea75a4c",
   "metadata": {},
   "outputs": [
    {
     "name": "stdout",
     "output_type": "stream",
     "text": [
      "\n",
      "    type : <class 'numpy.ndarray'>\n",
      "    shape : (4, 6)\n",
      "    dimension : 2\n",
      "    dtype : int32\n",
      "    data :\n",
      " [[  0   1   2   3   4   5]\n",
      " [  6   7   8   9  10  11]\n",
      " [ 12  13  14  15  16  17]\n",
      " [ 18  19  20  21  22 100]]\n",
      "    \n"
     ]
    }
   ],
   "source": [
    "arr_re = arr_24.reshape(4, 6)\n",
    "\n",
    "np_print(arr_re)"
   ]
  },
  {
   "cell_type": "markdown",
   "id": "053725ce",
   "metadata": {},
   "source": [
    "<br>\n",
    "\n",
    "- 하나의 행에 접근: `arr[row index]`   \n",
    "  \\>`index=0`: 첫 번째 행"
   ]
  },
  {
   "cell_type": "code",
   "execution_count": 20,
   "id": "a9c4aff5",
   "metadata": {},
   "outputs": [
    {
     "data": {
      "text/plain": [
       "array([0, 1, 2, 3, 4, 5])"
      ]
     },
     "execution_count": 20,
     "metadata": {},
     "output_type": "execute_result"
    }
   ],
   "source": [
    "arr_re[0]"
   ]
  },
  {
   "cell_type": "markdown",
   "id": "07e7f866",
   "metadata": {},
   "source": [
    "<br>\n",
    "\n",
    "- ndarray item indexing > `arr[row index][column index]`"
   ]
  },
  {
   "cell_type": "code",
   "execution_count": 21,
   "id": "24f8a75d",
   "metadata": {},
   "outputs": [
    {
     "data": {
      "text/plain": [
       "1"
      ]
     },
     "execution_count": 21,
     "metadata": {},
     "output_type": "execute_result"
    }
   ],
   "source": [
    "arr_re[0][1]"
   ]
  },
  {
   "cell_type": "markdown",
   "id": "8e30de60",
   "metadata": {},
   "source": [
    "<br>\n",
    "\n",
    "- 하나의 열에 접근 = 모든 행에 대해서 하나의 열에 접근: `arr[:, column index]`\n",
    "\n",
    "  = 모든 행에 대해(첫 번째 parameter=`:`), column index에 접근   \n",
    "\n",
    "  \\> return `ndim=1` ndarray"
   ]
  },
  {
   "cell_type": "code",
   "execution_count": 22,
   "id": "e63b116f",
   "metadata": {},
   "outputs": [
    {
     "name": "stdout",
     "output_type": "stream",
     "text": [
      "\n",
      "    type : <class 'numpy.ndarray'>\n",
      "    shape : (4,)\n",
      "    dimension : 1\n",
      "    dtype : int32\n",
      "    data :\n",
      " [ 2  8 14 20]\n",
      "    \n"
     ]
    }
   ],
   "source": [
    "np_print(arr_re[:, 2])"
   ]
  },
  {
   "cell_type": "markdown",
   "id": "7ade5ad8",
   "metadata": {},
   "source": [
    "<br>\n",
    "\n",
    "- 2차원 배열 하나의 값에 접근\n",
    "    - `arr[row index][column index]` == `arr[row index, column index]`"
   ]
  },
  {
   "cell_type": "code",
   "execution_count": 23,
   "id": "ca0ded95",
   "metadata": {},
   "outputs": [
    {
     "name": "stdout",
     "output_type": "stream",
     "text": [
      "14\n",
      "14\n"
     ]
    }
   ],
   "source": [
    "print(arr_re[2][2])\n",
    "\n",
    "print(arr_re[2, 2])"
   ]
  },
  {
   "cell_type": "markdown",
   "id": "155ecd3a",
   "metadata": {},
   "source": [
    "<br>\n",
    "\n",
    "### 2.2. Integer array indexing\n",
    "\n",
    "- Integer array indexing allows selection of arbitrary items in the array based on their N-dimensional index. Each integer array represents a number of indices into that dimension."
   ]
  },
  {
   "cell_type": "markdown",
   "id": "e1425ce9",
   "metadata": {},
   "source": [
    "<br>\n",
    "\n",
    "- 2차원 배열 여러개의 행 조회: list indexing: `arr[[index r1, index r2]]`"
   ]
  },
  {
   "cell_type": "code",
   "execution_count": 24,
   "id": "9ab0c9c0",
   "metadata": {},
   "outputs": [
    {
     "data": {
      "text/plain": [
       "array([[ 0,  1,  2,  3,  4,  5],\n",
       "       [ 6,  7,  8,  9, 10, 11]])"
      ]
     },
     "execution_count": 24,
     "metadata": {},
     "output_type": "execute_result"
    }
   ],
   "source": [
    "arr_re[[0, 1]]"
   ]
  },
  {
   "cell_type": "markdown",
   "id": "780a4b02",
   "metadata": {},
   "source": [
    "<br>\n",
    "\n",
    "- 2차원 배열 여러개의 열 조회: `arr[:, [index c1, index c2]]`"
   ]
  },
  {
   "cell_type": "code",
   "execution_count": 25,
   "id": "43ab23c9",
   "metadata": {},
   "outputs": [
    {
     "data": {
      "text/plain": [
       "array([[ 2,  3],\n",
       "       [ 8,  9],\n",
       "       [14, 15],\n",
       "       [20, 21]])"
      ]
     },
     "execution_count": 25,
     "metadata": {},
     "output_type": "execute_result"
    }
   ],
   "source": [
    "arr_re[:, [2, 3]]"
   ]
  },
  {
   "cell_type": "markdown",
   "id": "cb1cef3b",
   "metadata": {},
   "source": [
    "<br>\n",
    "\n",
    "- `row index=0, 2` > `column index=3, 5`"
   ]
  },
  {
   "cell_type": "code",
   "execution_count": 26,
   "id": "ce404c62",
   "metadata": {},
   "outputs": [
    {
     "data": {
      "text/plain": [
       "array([[ 3,  5],\n",
       "       [15, 17]])"
      ]
     },
     "execution_count": 26,
     "metadata": {},
     "output_type": "execute_result"
    }
   ],
   "source": [
    "arr_re[[0, 2]][:, [3, 5]]"
   ]
  },
  {
   "cell_type": "markdown",
   "id": "2c1b4dd2",
   "metadata": {},
   "source": [
    "<br>\n",
    "\n",
    "- 2차원 배열 indexing을 통한 value 수정\n",
    "\n",
    "    1. 하나의 row, column에 대해 모두 동일한 value로 수정   \n",
    "      : 전달하는 value를 scalar value로 전달\n",
    "\n",
    "    2. 서로 다른 값으로 수정: 배열 shape에 맞춰서 data 전달\n",
    "\n",
    "<br>\n",
    "\n",
    "- 하나의 값(scalar value)로 수정: scalar value 대입"
   ]
  },
  {
   "cell_type": "code",
   "execution_count": 27,
   "id": "9904ce22",
   "metadata": {},
   "outputs": [
    {
     "name": "stdout",
     "output_type": "stream",
     "text": [
      "\n",
      "    type : <class 'numpy.ndarray'>\n",
      "    shape : (4, 6)\n",
      "    dimension : 2\n",
      "    dtype : int32\n",
      "    data :\n",
      " [[  0   1   2   3   4   5]\n",
      " [ 10  10  10  10  10  10]\n",
      " [ 12  13  14  15  16  17]\n",
      " [ 18  19  20  21  22 100]]\n",
      "    \n"
     ]
    }
   ],
   "source": [
    "arr_re[1] = 10\n",
    "\n",
    "np_print(arr_re)"
   ]
  },
  {
   "cell_type": "markdown",
   "id": "9f7976ec",
   "metadata": {},
   "source": [
    "<br>\n",
    "\n",
    "- 서로 다른 값으로 수정: shape같은 배열 대입"
   ]
  },
  {
   "cell_type": "code",
   "execution_count": 28,
   "id": "88228d9a",
   "metadata": {},
   "outputs": [
    {
     "name": "stdout",
     "output_type": "stream",
     "text": [
      "(4,)\n",
      "\n",
      "    type : <class 'numpy.ndarray'>\n",
      "    shape : (4, 6)\n",
      "    dimension : 2\n",
      "    dtype : int32\n",
      "    data :\n",
      " [[  0   1  10   3   4   5]\n",
      " [ 10  10  11  10  10  10]\n",
      " [ 12  13  12  15  16  17]\n",
      " [ 18  19  13  21  22 100]]\n",
      "    \n"
     ]
    }
   ],
   "source": [
    "print(arr_re[:, 2].shape)\n",
    "\n",
    "arr_re[:, 2] = [10, 11, 12, 13]\n",
    "\n",
    "np_print(arr_re)"
   ]
  },
  {
   "cell_type": "markdown",
   "id": "a9b20219",
   "metadata": {},
   "source": [
    "<br>\n",
    "\n",
    "- 3차원 배열 생성: `shape=(page, row, column)`\n",
    "\n",
    "- `shape=(2, 4, 3)` 배열"
   ]
  },
  {
   "cell_type": "code",
   "execution_count": 29,
   "id": "c96caa57",
   "metadata": {},
   "outputs": [
    {
     "name": "stdout",
     "output_type": "stream",
     "text": [
      "\n",
      "    type : <class 'numpy.ndarray'>\n",
      "    shape : (2, 4, 3)\n",
      "    dimension : 3\n",
      "    dtype : int32\n",
      "    data :\n",
      " [[[ 0  1  2]\n",
      "  [ 3  4  5]\n",
      "  [ 6  7  8]\n",
      "  [ 9 10 11]]\n",
      "\n",
      " [[12 13 14]\n",
      "  [15 16 17]\n",
      "  [18 19 20]\n",
      "  [21 22 23]]]\n",
      "    \n"
     ]
    }
   ],
   "source": [
    "arr_3d = np.arange(24).reshape(2, 4, 3)\n",
    "\n",
    "np_print(arr_3d)"
   ]
  },
  {
   "cell_type": "markdown",
   "id": "1336cc79",
   "metadata": {},
   "source": [
    "<br>\n",
    "\n",
    "- 3차원 배열 인덱싱: `ndarr[면, 행, 열]`\n",
    "    \n",
    "<br>\n",
    "\n",
    "- `page index=0`"
   ]
  },
  {
   "cell_type": "code",
   "execution_count": 30,
   "id": "e1c0ec1d",
   "metadata": {},
   "outputs": [
    {
     "data": {
      "text/plain": [
       "array([[ 0,  1,  2],\n",
       "       [ 3,  4,  5],\n",
       "       [ 6,  7,  8],\n",
       "       [ 9, 10, 11]])"
      ]
     },
     "execution_count": 30,
     "metadata": {},
     "output_type": "execute_result"
    }
   ],
   "source": [
    "arr_3d[0]"
   ]
  },
  {
   "cell_type": "markdown",
   "id": "55572cc1",
   "metadata": {},
   "source": [
    "<br>\n",
    "\n",
    "- `page index=0`, `row index=1`"
   ]
  },
  {
   "cell_type": "code",
   "execution_count": 31,
   "id": "3be0f3e2",
   "metadata": {},
   "outputs": [
    {
     "data": {
      "text/plain": [
       "array([3, 4, 5])"
      ]
     },
     "execution_count": 31,
     "metadata": {},
     "output_type": "execute_result"
    }
   ],
   "source": [
    "arr_3d[0][1]"
   ]
  },
  {
   "cell_type": "markdown",
   "id": "f2c64a93",
   "metadata": {},
   "source": [
    "<br>\n",
    "\n",
    "- `page index=0`, `row index=1`, `column index=2`"
   ]
  },
  {
   "cell_type": "code",
   "execution_count": 32,
   "id": "961c5bf2",
   "metadata": {},
   "outputs": [
    {
     "data": {
      "text/plain": [
       "5"
      ]
     },
     "execution_count": 32,
     "metadata": {},
     "output_type": "execute_result"
    }
   ],
   "source": [
    "arr_3d[0][1][2]"
   ]
  },
  {
   "cell_type": "markdown",
   "id": "a2e49baf",
   "metadata": {},
   "source": [
    "\n",
    "<br>\n",
    "\n",
    "- 스칼라 연산을 통한 single value로 수정\n",
    "\n",
    "    - 배열의 1번 면: `value=0`으로 일괄 변경"
   ]
  },
  {
   "cell_type": "code",
   "execution_count": 33,
   "id": "ab7c1248",
   "metadata": {},
   "outputs": [
    {
     "name": "stdout",
     "output_type": "stream",
     "text": [
      "\n",
      "    type : <class 'numpy.ndarray'>\n",
      "    shape : (2, 4, 3)\n",
      "    dimension : 3\n",
      "    dtype : int32\n",
      "    data :\n",
      " [[[ 0  1  2]\n",
      "  [ 3  4  5]\n",
      "  [ 6  7  8]\n",
      "  [ 9 10 11]]\n",
      "\n",
      " [[12 13 14]\n",
      "  [15 16 17]\n",
      "  [18 19 20]\n",
      "  [21 22 23]]]\n",
      "    \n",
      "\n",
      "    type : <class 'numpy.ndarray'>\n",
      "    shape : (2, 4, 3)\n",
      "    dimension : 3\n",
      "    dtype : int32\n",
      "    data :\n",
      " [[[ 0  1  2]\n",
      "  [ 3  4  5]\n",
      "  [ 6  7  8]\n",
      "  [ 9 10 11]]\n",
      "\n",
      " [[ 0  0  0]\n",
      "  [ 0  0  0]\n",
      "  [ 0  0  0]\n",
      "  [ 0  0  0]]]\n",
      "    \n"
     ]
    }
   ],
   "source": [
    "np_print(arr_3d)\n",
    "\n",
    "arr_3d[1] = 0\n",
    "\n",
    "np_print(arr_3d)"
   ]
  },
  {
   "cell_type": "markdown",
   "id": "f04bd477",
   "metadata": {},
   "source": [
    "<br>\n",
    "\n",
    "- 하나의 면에 대해 행 별로 서로 다른 값으로 수정 > 행 shape 맞춰서 입력\n",
    "\n",
    "- `page index=1`, `row index=0`: `arr[1, 0]`"
   ]
  },
  {
   "cell_type": "code",
   "execution_count": 34,
   "id": "818d75eb",
   "metadata": {},
   "outputs": [
    {
     "name": "stdout",
     "output_type": "stream",
     "text": [
      "\n",
      "    type : <class 'numpy.ndarray'>\n",
      "    shape : (2, 4, 3)\n",
      "    dimension : 3\n",
      "    dtype : int32\n",
      "    data :\n",
      " [[[ 0  1  2]\n",
      "  [ 3  4  5]\n",
      "  [ 6  7  8]\n",
      "  [ 9 10 11]]\n",
      "\n",
      " [[10 20 30]\n",
      "  [ 0  0  0]\n",
      "  [ 0  0  0]\n",
      "  [ 0  0  0]]]\n",
      "    \n"
     ]
    }
   ],
   "source": [
    "## arr_3d[1][0][:] = [10, 20, 30]\n",
    "arr_3d[1, 0] = [10, 20, 30]\n",
    "\n",
    "np_print(arr_3d)"
   ]
  },
  {
   "cell_type": "markdown",
   "id": "db933855",
   "metadata": {},
   "source": [
    "<br>\n",
    "\n",
    "- 3 X 4 배열 대입"
   ]
  },
  {
   "cell_type": "code",
   "execution_count": 35,
   "id": "3558943f",
   "metadata": {},
   "outputs": [
    {
     "name": "stdout",
     "output_type": "stream",
     "text": [
      "\n",
      "    type : <class 'numpy.ndarray'>\n",
      "    shape : (2, 4, 3)\n",
      "    dimension : 3\n",
      "    dtype : int32\n",
      "    data :\n",
      " [[[  0   1   2]\n",
      "  [  3   4   5]\n",
      "  [  6   7   8]\n",
      "  [  9  10  11]]\n",
      "\n",
      " [[ 10  20  30]\n",
      "  [ 40  50  60]\n",
      "  [ 70  80  90]\n",
      "  [100 110 120]]]\n",
      "    \n"
     ]
    }
   ],
   "source": [
    "arr_3d[1] = [[10, 20, 30],\n",
    "           [40, 50, 60],\n",
    "           [70, 80, 90],\n",
    "           [100, 110, 120]\n",
    "        ]\n",
    "\n",
    "np_print(arr_3d)"
   ]
  },
  {
   "cell_type": "markdown",
   "id": "769065fc",
   "metadata": {},
   "source": [
    "<br>\n",
    "\n",
    "- 기존 indexing 방법: `arr[page, row, col]`"
   ]
  },
  {
   "cell_type": "code",
   "execution_count": 36,
   "id": "42336959",
   "metadata": {},
   "outputs": [
    {
     "data": {
      "text/plain": [
       "120"
      ]
     },
     "execution_count": 36,
     "metadata": {},
     "output_type": "execute_result"
    }
   ],
   "source": [
    "arr_3d[1, 3, 2]"
   ]
  },
  {
   "cell_type": "markdown",
   "id": "8b64343f",
   "metadata": {},
   "source": [
    "<br>\n",
    "\n",
    "- 3차원 배열도 **Integer array indexing** 가능\n",
    "\n",
    "<br>\n",
    "\n",
    "- 배열 `(0행, 0열), (1행, 1열), (2행, 2열)` 추출\n",
    "\n",
    "  \\> `arr[page, [[0, 1, 2], [0, 1, 2]]`"
   ]
  },
  {
   "cell_type": "code",
   "execution_count": 37,
   "id": "87ab39d1",
   "metadata": {},
   "outputs": [
    {
     "data": {
      "text/plain": [
       "array([0, 4, 8])"
      ]
     },
     "execution_count": 37,
     "metadata": {},
     "output_type": "execute_result"
    }
   ],
   "source": [
    "arr_3d[0, [0, 1, 2], [0, 1, 2]]"
   ]
  },
  {
   "cell_type": "code",
   "execution_count": 38,
   "id": "bb4c62cb",
   "metadata": {
    "scrolled": true
   },
   "outputs": [
    {
     "data": {
      "text/plain": [
       "array([0, 4, 8])"
      ]
     },
     "execution_count": 38,
     "metadata": {},
     "output_type": "execute_result"
    }
   ],
   "source": [
    "arr_3d[0][[0, 1, 2], [0, 1, 2]]"
   ]
  },
  {
   "cell_type": "code",
   "execution_count": 39,
   "id": "7089a114",
   "metadata": {},
   "outputs": [
    {
     "name": "stdout",
     "output_type": "stream",
     "text": [
      "\n",
      "    type : <class 'numpy.ndarray'>\n",
      "    shape : (2, 4, 3)\n",
      "    dimension : 3\n",
      "    dtype : int32\n",
      "    data :\n",
      " [[[  0   1   2]\n",
      "  [  3   4   5]\n",
      "  [  6   7   8]\n",
      "  [  9  10  11]]\n",
      "\n",
      " [[ 10  20  30]\n",
      "  [ 40  50  60]\n",
      "  [ 70  80  90]\n",
      "  [100 110 120]]]\n",
      "    \n"
     ]
    }
   ],
   "source": [
    "np_print(arr_3d)"
   ]
  },
  {
   "cell_type": "markdown",
   "id": "8f3ee909",
   "metadata": {},
   "source": [
    "<br>\n",
    "\n",
    "- `arr[page, row, column]` > if 여러 단위를 조회: 2-dim integer list input\n",
    "\n",
    "- 3-dim list input > loop in 2-dim list"
   ]
  },
  {
   "cell_type": "code",
   "execution_count": 40,
   "id": "a249d24f",
   "metadata": {
    "scrolled": true
   },
   "outputs": [
    {
     "name": "stdout",
     "output_type": "stream",
     "text": [
      "\n",
      "    type : <class 'numpy.ndarray'>\n",
      "    shape : (2, 3, 3)\n",
      "    dimension : 3\n",
      "    dtype : int32\n",
      "    data :\n",
      " [[[ 0  1  2]\n",
      "  [ 3  4  5]\n",
      "  [ 6  7  8]]\n",
      "\n",
      " [[ 0  1  2]\n",
      "  [ 6  7  8]\n",
      "  [ 9 10 11]]]\n",
      "    \n"
     ]
    }
   ],
   "source": [
    "np_print(arr_3d[0, [[0, 1, 2], [0, 2, 3]]])"
   ]
  },
  {
   "cell_type": "markdown",
   "id": "22bc48ac",
   "metadata": {},
   "source": [
    "<br>\n",
    "\n",
    "### 2.3. 슬라이싱(slicing) : 여러 개의 요소에 대해 참조\n",
    "\n",
    "- `axis` 별로 범위 지정\n",
    "    \n",
    "    - `from_index` : 시작 인덱스(포함), default: `0` > 생략 가능\n",
    "    \n",
    "    - `to_index` : 종료 인덱스(미포함), defualt: `마지막 index=-1` > 생략 가능\n",
    "    \n",
    "    - `step` : index 간격 지정, default: `1` > 생략 가능\n",
    "\n",
    "- column만 조회하는 경우 : 전체 row에 slicing으로 접근 후 특정 column을 조회"
   ]
  },
  {
   "cell_type": "markdown",
   "id": "f23cf483",
   "metadata": {},
   "source": [
    "<br>\n",
    "\n",
    "- 0부터  23까지 1씩 증가하는 정수 data를 가지는 1차원 배열 생성"
   ]
  },
  {
   "cell_type": "code",
   "execution_count": 41,
   "id": "ec867a65",
   "metadata": {},
   "outputs": [
    {
     "name": "stdout",
     "output_type": "stream",
     "text": [
      "\n",
      "    type : <class 'numpy.ndarray'>\n",
      "    shape : (24,)\n",
      "    dimension : 1\n",
      "    dtype : int32\n",
      "    data :\n",
      " [ 0  1  2  3  4  5  6  7  8  9 10 11 12 13 14 15 16 17 18 19 20 21 22 23]\n",
      "    \n"
     ]
    }
   ],
   "source": [
    "arr_24 = np.arange(24)\n",
    "\n",
    "np_print(arr_24)"
   ]
  },
  {
   "cell_type": "markdown",
   "id": "884c4ef4",
   "metadata": {},
   "source": [
    "<br>\n",
    "\n",
    "- 1차원 배열 slicing > 1번부터 4번까지 접근"
   ]
  },
  {
   "cell_type": "code",
   "execution_count": 42,
   "id": "af819e57",
   "metadata": {},
   "outputs": [
    {
     "data": {
      "text/plain": [
       "array([1, 2, 3, 4])"
      ]
     },
     "execution_count": 42,
     "metadata": {},
     "output_type": "execute_result"
    }
   ],
   "source": [
    "arr_24[1:5]"
   ]
  },
  {
   "cell_type": "markdown",
   "id": "ff291737",
   "metadata": {},
   "source": [
    "<br>\n",
    "\n",
    "- index 1부터 index 14까지 step 2로 접근"
   ]
  },
  {
   "cell_type": "code",
   "execution_count": 43,
   "id": "27f2401f",
   "metadata": {},
   "outputs": [
    {
     "data": {
      "text/plain": [
       "array([ 1,  3,  5,  7,  9, 11, 13])"
      ]
     },
     "execution_count": 43,
     "metadata": {},
     "output_type": "execute_result"
    }
   ],
   "source": [
    "arr_24[1:15:2]"
   ]
  },
  {
   "cell_type": "markdown",
   "id": "ca27c68f",
   "metadata": {},
   "source": [
    "<br>\n",
    "\n",
    "- 6 X 4, 2차원 배열 생성"
   ]
  },
  {
   "cell_type": "code",
   "execution_count": 44,
   "id": "e178fd44",
   "metadata": {},
   "outputs": [
    {
     "name": "stdout",
     "output_type": "stream",
     "text": [
      "\n",
      "    type : <class 'numpy.ndarray'>\n",
      "    shape : (6, 4)\n",
      "    dimension : 2\n",
      "    dtype : int32\n",
      "    data :\n",
      " [[ 0  1  2  3]\n",
      " [ 4  5  6  7]\n",
      " [ 8  9 10 11]\n",
      " [12 13 14 15]\n",
      " [16 17 18 19]\n",
      " [20 21 22 23]]\n",
      "    \n"
     ]
    }
   ],
   "source": [
    "arr_2d = arr_24.reshape(6, 4)\n",
    "\n",
    "np_print(arr_2d)"
   ]
  },
  {
   "cell_type": "markdown",
   "id": "7e4e139e",
   "metadata": {},
   "source": [
    "<br>\n",
    "\n",
    "\n",
    "- 2차원 배열 slicing: `arr[row(, col, step)]`\n",
    "\n",
    "<br>\n",
    "\n",
    "- 0행부터 3행까지 접근"
   ]
  },
  {
   "cell_type": "code",
   "execution_count": 45,
   "id": "b8c8d491",
   "metadata": {},
   "outputs": [
    {
     "data": {
      "text/plain": [
       "array([[ 0,  1,  2,  3],\n",
       "       [ 4,  5,  6,  7],\n",
       "       [ 8,  9, 10, 11],\n",
       "       [12, 13, 14, 15]])"
      ]
     },
     "execution_count": 45,
     "metadata": {},
     "output_type": "execute_result"
    }
   ],
   "source": [
    "arr_2d[0:4]"
   ]
  },
  {
   "cell_type": "markdown",
   "id": "f4d4e555",
   "metadata": {},
   "source": [
    "<br>\n",
    "\n",
    "- 1행부터 4행, 2열부터 3열 접근"
   ]
  },
  {
   "cell_type": "code",
   "execution_count": 46,
   "id": "5924f479",
   "metadata": {
    "scrolled": true
   },
   "outputs": [
    {
     "data": {
      "text/plain": [
       "array([[ 6,  7],\n",
       "       [10, 11],\n",
       "       [14, 15],\n",
       "       [18, 19]])"
      ]
     },
     "execution_count": 46,
     "metadata": {},
     "output_type": "execute_result"
    }
   ],
   "source": [
    "arr_2d[1:5, 2:4]"
   ]
  },
  {
   "cell_type": "markdown",
   "id": "9131537d",
   "metadata": {},
   "source": [
    "<br>\n",
    "\n",
    "- 2차원 배열 slicing을 통한 value 수정"
   ]
  },
  {
   "cell_type": "code",
   "execution_count": 47,
   "id": "2d44fc2f",
   "metadata": {},
   "outputs": [
    {
     "name": "stdout",
     "output_type": "stream",
     "text": [
      "\n",
      "    type : <class 'numpy.ndarray'>\n",
      "    shape : (4, 2)\n",
      "    dimension : 2\n",
      "    dtype : int32\n",
      "    data :\n",
      " [[ 6  7]\n",
      " [10 11]\n",
      " [14 15]\n",
      " [18 19]]\n",
      "    \n"
     ]
    }
   ],
   "source": [
    "part_arr = arr_2d[1:5, 2:4]\n",
    "\n",
    "np_print(part_arr)"
   ]
  },
  {
   "cell_type": "markdown",
   "id": "8bcd68b5",
   "metadata": {},
   "source": [
    "<br>\n",
    "\n",
    "- `row index=0`, `column index=-1` 제외하고 모든 item을 99로 수정"
   ]
  },
  {
   "cell_type": "code",
   "execution_count": 48,
   "id": "5c53c7d9",
   "metadata": {},
   "outputs": [
    {
     "name": "stdout",
     "output_type": "stream",
     "text": [
      "\n",
      "    type : <class 'numpy.ndarray'>\n",
      "    shape : (4, 2)\n",
      "    dimension : 2\n",
      "    dtype : int32\n",
      "    data :\n",
      " [[ 6  7]\n",
      " [99 11]\n",
      " [99 15]\n",
      " [99 19]]\n",
      "    \n"
     ]
    }
   ],
   "source": [
    "part_arr[1:, :-1] = 99\n",
    "\n",
    "np_print(part_arr)"
   ]
  },
  {
   "cell_type": "markdown",
   "id": "590f2499",
   "metadata": {},
   "source": [
    "<br>\n",
    "\n",
    "- slicing: shallow copy > 원본 ndarray 변경"
   ]
  },
  {
   "cell_type": "code",
   "execution_count": 49,
   "id": "cd662231",
   "metadata": {},
   "outputs": [
    {
     "name": "stdout",
     "output_type": "stream",
     "text": [
      "\n",
      "    type : <class 'numpy.ndarray'>\n",
      "    shape : (6, 4)\n",
      "    dimension : 2\n",
      "    dtype : int32\n",
      "    data :\n",
      " [[ 0  1  2  3]\n",
      " [ 4  5  6  7]\n",
      " [ 8  9 99 11]\n",
      " [12 13 99 15]\n",
      " [16 17 99 19]\n",
      " [20 21 22 23]]\n",
      "    \n"
     ]
    }
   ],
   "source": [
    "np_print(arr_2d)"
   ]
  },
  {
   "cell_type": "markdown",
   "id": "1f0cef44",
   "metadata": {},
   "source": [
    "<br>\n",
    "\n",
    "- 2차원 배열 slicing: 연속되지 않은 범위의 열에 대한 인덱싱\n",
    "    \n",
    "step 1. 전체 행에 대해서 접근\n",
    "\n",
    "step 2. 여러 개의 열 indexing 배열 전달\n",
    "\n",
    "<br>\n",
    "\n",
    "- `전체 row` + `column index=1, 3`"
   ]
  },
  {
   "cell_type": "code",
   "execution_count": 50,
   "id": "a9ae445c",
   "metadata": {},
   "outputs": [
    {
     "name": "stdout",
     "output_type": "stream",
     "text": [
      "\n",
      "    type : <class 'numpy.ndarray'>\n",
      "    shape : (6, 4)\n",
      "    dimension : 2\n",
      "    dtype : int32\n",
      "    data :\n",
      " [[ 0  1  2  3]\n",
      " [ 4  5  6  7]\n",
      " [ 8  9 99 11]\n",
      " [12 13 99 15]\n",
      " [16 17 99 19]\n",
      " [20 21 22 23]]\n",
      "    \n",
      "\n",
      "    type : <class 'numpy.ndarray'>\n",
      "    shape : (6, 2)\n",
      "    dimension : 2\n",
      "    dtype : int32\n",
      "    data :\n",
      " [[ 1  3]\n",
      " [ 5  7]\n",
      " [ 9 11]\n",
      " [13 15]\n",
      " [17 19]\n",
      " [21 23]]\n",
      "    \n"
     ]
    }
   ],
   "source": [
    "np_print(arr_2d)\n",
    "\n",
    "np_print(arr_2d[:, [1, 3]])"
   ]
  },
  {
   "cell_type": "markdown",
   "id": "5a7d5135",
   "metadata": {},
   "source": [
    "### > 연습문제\n",
    "\n",
    "아래 정보는 학생들의 학번, 영어 성적, 국어 성적, 수학 성적 정보 입니다.\n",
    "\n",
    "해당 정보를 첫번째 행(row)에 학번, 두번째 행에 영어 성적, 세번째 행에 국어 성적, 네번째 행에 수학 성적을 저장한 배열로 만들고\n",
    "\n",
    "학생별로 영어 성적을 오름차순 기준으로 각 열(column)을 정렬하세요.\n",
    "\n",
    "![sort_q1.PNG](https://github.com/insung-ethan-j/Numpy_and_Pandas/blob/49ad1db57b6ce921ab1b3391f071422e061a5900/img/sort_q1.PNG?raw=true)"
   ]
  },
  {
   "cell_type": "code",
   "execution_count": 51,
   "id": "4fbd42ea",
   "metadata": {},
   "outputs": [
    {
     "name": "stdout",
     "output_type": "stream",
     "text": [
      "[2 3 0 1]\n"
     ]
    },
    {
     "data": {
      "text/plain": [
       "array([[ 3,  4,  1,  2],\n",
       "       [45, 56, 70, 97],\n",
       "       [33, 67, 87, 84],\n",
       "       [75, 78, 46, 60]])"
      ]
     },
     "execution_count": 51,
     "metadata": {},
     "output_type": "execute_result"
    }
   ],
   "source": [
    "score = [[1, 2, 3, 4],\n",
    "        [70, 97, 45, 56],\n",
    "        [87, 84, 33, 67],\n",
    "        [46, 60, 75, 78]]\n",
    "\n",
    "arr_score = np.array(score)\n",
    "\n",
    "sort_idx = np.argsort(arr_score[1])\n",
    "print(sort_idx)\n",
    "\n",
    "arr_score[:, sort_idx]"
   ]
  },
  {
   "cell_type": "markdown",
   "id": "76494f85",
   "metadata": {},
   "source": [
    "### 2.4. 조건 색인(boolean indexing)\n",
    "\n",
    "- 배열의 item에 대해 조건을 적용 > return bool item array(`True` or `False`)\n",
    "\n",
    "- `True`인 item, 조건을 만족하는 item만 조회 가능"
   ]
  },
  {
   "cell_type": "markdown",
   "id": "61064185",
   "metadata": {},
   "source": [
    "<br>\n",
    "\n",
    "- scalar 연산: 10보다 큰 요소 조회"
   ]
  },
  {
   "cell_type": "code",
   "execution_count": 52,
   "id": "5a6c22c4",
   "metadata": {},
   "outputs": [
    {
     "data": {
      "text/plain": [
       "array([[ 0,  1,  2,  3],\n",
       "       [ 4,  5,  6,  7],\n",
       "       [ 8,  9, 99, 11],\n",
       "       [12, 13, 99, 15],\n",
       "       [16, 17, 99, 19],\n",
       "       [20, 21, 22, 23]])"
      ]
     },
     "execution_count": 52,
     "metadata": {},
     "output_type": "execute_result"
    }
   ],
   "source": [
    "arr_2d"
   ]
  },
  {
   "cell_type": "code",
   "execution_count": 53,
   "id": "6847ae0b",
   "metadata": {},
   "outputs": [
    {
     "data": {
      "text/plain": [
       "array([[False, False, False, False],\n",
       "       [False, False, False, False],\n",
       "       [False, False,  True,  True],\n",
       "       [ True,  True,  True,  True],\n",
       "       [ True,  True,  True,  True],\n",
       "       [ True,  True,  True,  True]])"
      ]
     },
     "execution_count": 53,
     "metadata": {},
     "output_type": "execute_result"
    }
   ],
   "source": [
    "arr_2d > 10"
   ]
  },
  {
   "cell_type": "markdown",
   "id": "968809ba",
   "metadata": {},
   "source": [
    "<br>\n",
    "\n",
    "- boolean indexing: `arr[arr을 포함한 조건식]`"
   ]
  },
  {
   "cell_type": "code",
   "execution_count": 54,
   "id": "79e6e800",
   "metadata": {},
   "outputs": [
    {
     "data": {
      "text/plain": [
       "array([99, 11, 12, 13, 99, 15, 16, 17, 99, 19, 20, 21, 22, 23])"
      ]
     },
     "execution_count": 54,
     "metadata": {},
     "output_type": "execute_result"
    }
   ],
   "source": [
    "arr_2d[arr_2d > 10]"
   ]
  },
  {
   "cell_type": "code",
   "execution_count": 55,
   "id": "386c47a2",
   "metadata": {},
   "outputs": [
    {
     "name": "stdout",
     "output_type": "stream",
     "text": [
      "\n",
      "    type : <class 'numpy.ndarray'>\n",
      "    shape : (14,)\n",
      "    dimension : 1\n",
      "    dtype : int32\n",
      "    data :\n",
      " [99 11 12 13 99 15 16 17 99 19 20 21 22 23]\n",
      "    \n"
     ]
    }
   ],
   "source": [
    "np_print(arr_2d[arr_2d > 10])"
   ]
  },
  {
   "cell_type": "markdown",
   "id": "24488b6b",
   "metadata": {},
   "source": [
    "<br>\n",
    "\n",
    "- 짝수인 item만 남기기\n",
    "\n",
    "- 2개 이상의 조건: 각 조건 ( ) bracket 걸고, and = `&`, or = `|`로 연결"
   ]
  },
  {
   "cell_type": "code",
   "execution_count": 56,
   "id": "62f289e9",
   "metadata": {},
   "outputs": [
    {
     "data": {
      "text/plain": [
       "array([ 2,  4,  6,  8, 12, 16, 20, 22])"
      ]
     },
     "execution_count": 56,
     "metadata": {},
     "output_type": "execute_result"
    }
   ],
   "source": [
    "arr_2d[(arr_2d % 2 == 0) & (arr_2d != 0)]"
   ]
  },
  {
   "cell_type": "markdown",
   "id": "e791eba8",
   "metadata": {},
   "source": [
    "<br>\n",
    "\n",
    "### > 연습문제\n",
    "\n",
    "조건색인을 활용해 공무원시험의 합격자 평균을 구해주세요.\n",
    "\n",
    "합격점수는 60점 이상입니다. 아래는 시험 점수 결과입니다.\n",
    "\n",
    "`[31, 30, 55, 34, 83, 75, 86, 60, 94, 80, 42, 37, 73, 80, 30, 65, 34, 55, 56, 51]`"
   ]
  },
  {
   "cell_type": "code",
   "execution_count": 57,
   "id": "c8b71714",
   "metadata": {},
   "outputs": [
    {
     "data": {
      "text/plain": [
       "77.33333333333333"
      ]
     },
     "execution_count": 57,
     "metadata": {},
     "output_type": "execute_result"
    }
   ],
   "source": [
    "score_arr = np.array([31, 30, 55, 34, 83, 75, 86, 60, 94,\n",
    "                      80, 42, 37, 73, 80, 30, 65, 34, 55, 56, 51])\n",
    "\n",
    "score_arr[score_arr >= 60].mean()"
   ]
  },
  {
   "cell_type": "markdown",
   "id": "7b34cd6b",
   "metadata": {},
   "source": [
    "<br>\n",
    "\n",
    "## 3. 배열 복사\n",
    "\n",
    "- indexing, slicing된 배열 > 원본 배열과 종속적인 object: **shallow copy**\n",
    "\n",
    "- `arr[:]`, `arr.copy()` , `np.copy(arr)`   \n",
    "\\> 원본 배열과 독립적인 배열 object 생성: **deep copy**"
   ]
  },
  {
   "cell_type": "code",
   "execution_count": 58,
   "id": "075cc2a7",
   "metadata": {},
   "outputs": [],
   "source": [
    "arr_1 = [1, 2, 3]\n",
    "arr_2 = [1, 2, 3]\n",
    "arr_3 = np.arange(0, 4).reshape(2, 2)"
   ]
  },
  {
   "cell_type": "markdown",
   "id": "78c74861",
   "metadata": {},
   "source": [
    "<br>\n",
    "\n",
    "- shallow copy"
   ]
  },
  {
   "cell_type": "code",
   "execution_count": 59,
   "id": "17662f84",
   "metadata": {},
   "outputs": [
    {
     "name": "stdout",
     "output_type": "stream",
     "text": [
      "[10, 2, 3]\n"
     ]
    }
   ],
   "source": [
    "arr_s = arr_1\n",
    "\n",
    "arr_s[0] = 10\n",
    "\n",
    "print(arr_1)"
   ]
  },
  {
   "cell_type": "markdown",
   "id": "994fc89f",
   "metadata": {},
   "source": [
    "<br>\n",
    "\n",
    "- **deep copy**\n",
    "\n",
    "1. array slicing `arr[:]`"
   ]
  },
  {
   "cell_type": "code",
   "execution_count": 60,
   "id": "b3b7bb3a",
   "metadata": {},
   "outputs": [
    {
     "name": "stdout",
     "output_type": "stream",
     "text": [
      "[1, 2, 3]\n",
      "[10, 2, 3]\n",
      "[1, 2, 3]\n"
     ]
    }
   ],
   "source": [
    "print(arr_2)\n",
    "\n",
    "arr_s = arr_2[:]\n",
    "arr_s[0] = 10\n",
    "\n",
    "print(arr_s)\n",
    "print(arr_2)"
   ]
  },
  {
   "cell_type": "markdown",
   "id": "6ebd39a7",
   "metadata": {},
   "source": [
    "<br>\n",
    "\n",
    "2. `arr.copy()`"
   ]
  },
  {
   "cell_type": "code",
   "execution_count": 61,
   "id": "973262de",
   "metadata": {},
   "outputs": [
    {
     "name": "stdout",
     "output_type": "stream",
     "text": [
      "[[0 1]\n",
      " [2 3]]\n",
      "[[ 0 10]\n",
      " [ 2  3]]\n",
      "[[0 1]\n",
      " [2 3]]\n"
     ]
    }
   ],
   "source": [
    "print(arr_3)\n",
    "arr_c = arr_3.copy()\n",
    "\n",
    "arr_c[0][1] = 10\n",
    "\n",
    "print(arr_c)\n",
    "print(arr_3)"
   ]
  },
  {
   "cell_type": "markdown",
   "id": "8f590dc5",
   "metadata": {},
   "source": [
    "<br>\n",
    "\n",
    "3. `np.copy(arr)`"
   ]
  },
  {
   "cell_type": "code",
   "execution_count": 62,
   "id": "94ce6943",
   "metadata": {},
   "outputs": [
    {
     "name": "stdout",
     "output_type": "stream",
     "text": [
      "[[0 1]\n",
      " [2 3]]\n",
      "[[ 0  1]\n",
      " [20  3]]\n",
      "[[0 1]\n",
      " [2 3]]\n"
     ]
    }
   ],
   "source": [
    "print(arr_3)\n",
    "\n",
    "arr_n = np.copy(arr_3)\n",
    "arr_n[1][0] = 20\n",
    "\n",
    "print(arr_n)\n",
    "print(arr_3)"
   ]
  },
  {
   "cell_type": "markdown",
   "id": "e5b077b4",
   "metadata": {},
   "source": [
    "<br>\n",
    "\n",
    "## 4. 배열 변환(array tranform)\n",
    "\n",
    "### 4.1. 전치(Transpose)\n",
    "\n",
    "- 배열의 행-열 index가 서로 바뀌는 변환\n",
    "\n",
    "- `arr.T` > return transposed array, 원본 영향 없음\n",
    "\n",
    "![transpose.png](https://github.com/insung-ethan-j/Numpy_and_Pandas/blob/49ad1db57b6ce921ab1b3391f071422e061a5900/img/transpose.PNG?raw=true)"
   ]
  },
  {
   "cell_type": "code",
   "execution_count": 63,
   "id": "92d62c17",
   "metadata": {},
   "outputs": [
    {
     "data": {
      "text/plain": [
       "array([[ 1,  2,  3,  4],\n",
       "       [ 5,  6,  7,  8],\n",
       "       [ 9, 10, 11, 12]])"
      ]
     },
     "execution_count": 63,
     "metadata": {},
     "output_type": "execute_result"
    }
   ],
   "source": [
    "arr_org = np.arange(1, 13).reshape(3, 4)\n",
    "\n",
    "arr_org"
   ]
  },
  {
   "cell_type": "code",
   "execution_count": 64,
   "id": "8c0d6a26",
   "metadata": {},
   "outputs": [
    {
     "data": {
      "text/plain": [
       "array([[ 1,  5,  9],\n",
       "       [ 2,  6, 10],\n",
       "       [ 3,  7, 11],\n",
       "       [ 4,  8, 12]])"
      ]
     },
     "execution_count": 64,
     "metadata": {},
     "output_type": "execute_result"
    }
   ],
   "source": [
    "arr_org.T"
   ]
  },
  {
   "cell_type": "code",
   "execution_count": 65,
   "id": "c640d6a4",
   "metadata": {},
   "outputs": [
    {
     "data": {
      "text/plain": [
       "array([[ 1,  2,  3,  4],\n",
       "       [ 5,  6,  7,  8],\n",
       "       [ 9, 10, 11, 12]])"
      ]
     },
     "execution_count": 65,
     "metadata": {},
     "output_type": "execute_result"
    }
   ],
   "source": [
    "arr_org"
   ]
  },
  {
   "cell_type": "markdown",
   "id": "2ed73328",
   "metadata": {},
   "source": [
    "<br>\n",
    "\n",
    "### 4.2. 배열 형태 변경\n",
    "\n",
    "1. `arr.ravel()`, `np.ravel(arr)`\n",
    "\n",
    "    - 다차원 배열을 1차원 배열로 변환\n",
    "    \n",
    "    - `np.ravel(arr)`: deep copy\n",
    "        \n",
    "    - `arr.ravel()`: shallow copy\n",
    "        \n",
    "<br>\n",
    "\n",
    "2. `arr.reshape(new_shape)`, `np.reshape(arr, new_shape)`\n",
    "\n",
    "    - 원본 array instance의 shape를 변경\n",
    "    \n",
    "    - 변경하려는 shape의 전체 item 개수(size)와 원본 배열의 size는 동일해야 함\n",
    "    \n",
    "    - 변경하려는 shape(tuple type)의 한 item은 `-1`로 대체 가능,   \n",
    "    다른 item을 기준으로 계산되어 사용됨\n",
    "    \n",
    "    - `reshape()` method가 반환하는 array의 item이 변경   \n",
    "    \\> 원본 배열에도 반영: deep copy"
   ]
  },
  {
   "cell_type": "markdown",
   "id": "a52755f7",
   "metadata": {},
   "source": [
    "<br>\n",
    "\n",
    "- 다차원 배열을 1차원 배열로 전환"
   ]
  },
  {
   "cell_type": "code",
   "execution_count": 66,
   "id": "f1260459",
   "metadata": {},
   "outputs": [],
   "source": [
    "arr_arv = arr_org.ravel()"
   ]
  },
  {
   "cell_type": "code",
   "execution_count": 67,
   "id": "0d5e0003",
   "metadata": {},
   "outputs": [
    {
     "data": {
      "text/plain": [
       "array([[ 1,  2,  3,  4],\n",
       "       [ 5,  6,  7,  8],\n",
       "       [ 9, 10, 11, 12]])"
      ]
     },
     "execution_count": 67,
     "metadata": {},
     "output_type": "execute_result"
    }
   ],
   "source": [
    "arr_org"
   ]
  },
  {
   "cell_type": "code",
   "execution_count": 68,
   "id": "9fee75c7",
   "metadata": {
    "scrolled": true
   },
   "outputs": [
    {
     "data": {
      "text/plain": [
       "array([ 1,  2,  3,  4,  5,  6,  7,  8,  9, 10, 11, 12])"
      ]
     },
     "execution_count": 68,
     "metadata": {},
     "output_type": "execute_result"
    }
   ],
   "source": [
    "arr_arv"
   ]
  },
  {
   "cell_type": "markdown",
   "id": "3728b474",
   "metadata": {},
   "source": [
    "<br>\n",
    "\n",
    "- `arr.ravel()`: return array item 수정 시 > 원본도 수정 (shallow copy)"
   ]
  },
  {
   "cell_type": "code",
   "execution_count": 69,
   "id": "438b5d34",
   "metadata": {},
   "outputs": [
    {
     "name": "stdout",
     "output_type": "stream",
     "text": [
      "[10  2  3  4  5  6  7  8  9 10 11 12]\n",
      "[[10  2  3  4]\n",
      " [ 5  6  7  8]\n",
      " [ 9 10 11 12]]\n"
     ]
    }
   ],
   "source": [
    "arr_arv[0] = 10\n",
    "\n",
    "print(arr_arv)\n",
    "print(arr_org)"
   ]
  },
  {
   "cell_type": "markdown",
   "id": "6a88480c",
   "metadata": {},
   "source": [
    "<br>\n",
    "\n",
    "- `arr.reshape(new_shape)`\n",
    "\n",
    "- shape(tuple) item에 `-1` 사용 시 > 나머지 item 자동 계산"
   ]
  },
  {
   "cell_type": "code",
   "execution_count": 70,
   "id": "dffe4be8",
   "metadata": {},
   "outputs": [
    {
     "data": {
      "text/plain": [
       "array([[10,  2,  3,  4],\n",
       "       [ 5,  6,  7,  8],\n",
       "       [ 9, 10, 11, 12]])"
      ]
     },
     "execution_count": 70,
     "metadata": {},
     "output_type": "execute_result"
    }
   ],
   "source": [
    "arr_re = arr_org.reshape(-1, 4)\n",
    "\n",
    "arr_re"
   ]
  },
  {
   "cell_type": "markdown",
   "id": "5405a154",
   "metadata": {},
   "source": [
    "<br>\n",
    "\n",
    "- `arr.reshape()` return array item 수정 시 > 원본 item 수정: shallow copy"
   ]
  },
  {
   "cell_type": "code",
   "execution_count": 71,
   "id": "9abc5c41",
   "metadata": {},
   "outputs": [
    {
     "data": {
      "text/plain": [
       "array([[ 10,   2,   3,   4],\n",
       "       [100, 200,   7,   8],\n",
       "       [  9,  10,  11,  12]])"
      ]
     },
     "execution_count": 71,
     "metadata": {},
     "output_type": "execute_result"
    }
   ],
   "source": [
    "arr_re[1, [0, 1]] = [100, 200]\n",
    "\n",
    "arr_org"
   ]
  },
  {
   "cell_type": "markdown",
   "id": "3afcf4b4",
   "metadata": {},
   "source": [
    "<br>\n",
    "\n",
    "## 5. item 변환(item manipulation)\n",
    "\n",
    "### 5.1. `resize`\n",
    "\n",
    "- `arr.resize(new_shape)`: shallow copy\n",
    "\n",
    "- `np.resize(arr, new_shape)`: deep copy\n",
    "\n",
    "- 배열의 구조`shape`를 변환, 원본 배열의 `size`와 동일하지 않아도 변환 가능\n",
    "    \n",
    "    1. `size`가 동일할 경우: `reshape()` method와 동일한 결과\n",
    "    \n",
    "    2. 더 큰 `size`일 경우\n",
    "       \n",
    "        - `arr.resize(new_shape)`: 원본 변경O, 모자란 부분을 0으로 채움\n",
    "       \n",
    "        - `np.resize(arr, new_shape)`: 원본 변경X, 모자란 부분을 기존 배열 에서 복사해서 추가\n",
    "       \n",
    "        - 공통적으로 `new_shape`은 tuple로 추가\n",
    "    \n",
    "    3. 더 작은 `size`일 경우: 마지막 남은 요소 삭제"
   ]
  },
  {
   "cell_type": "markdown",
   "id": "dc88ac3d",
   "metadata": {},
   "source": [
    "<br>\n",
    "\n",
    "- 1이상 10미만 random int 3 X 5 배열 생성"
   ]
  },
  {
   "cell_type": "code",
   "execution_count": 72,
   "id": "1a993ff1",
   "metadata": {},
   "outputs": [
    {
     "name": "stdout",
     "output_type": "stream",
     "text": [
      "[[7 9 3 2 4]\n",
      " [3 7 5 7 5]\n",
      " [9 7 3 4 2]]\n"
     ]
    }
   ],
   "source": [
    "arr_int = np.random.randint(1, 10, (3, 5))\n",
    "\n",
    "print(arr_int)"
   ]
  },
  {
   "cell_type": "markdown",
   "id": "2b037ad5",
   "metadata": {},
   "source": [
    "<br>\n",
    "\n",
    "1. 변경되는 배열의 item수가 동일한 경우 > `arr.reshape()`와 동일하게 동작"
   ]
  },
  {
   "cell_type": "code",
   "execution_count": 73,
   "id": "b2fe3f29",
   "metadata": {},
   "outputs": [
    {
     "name": "stdout",
     "output_type": "stream",
     "text": [
      "[[7 9 3]\n",
      " [2 4 3]\n",
      " [7 5 7]\n",
      " [5 9 7]\n",
      " [3 4 2]]\n"
     ]
    }
   ],
   "source": [
    "arr_int.resize(5, 3)\n",
    "\n",
    "print(arr_int)"
   ]
  },
  {
   "cell_type": "markdown",
   "id": "08f7dd7b",
   "metadata": {},
   "source": [
    "<br>\n",
    "\n",
    "2. 변경 후 배열의 item수가 더 많은 경우\n",
    "\n",
    "    - `np.resize()`: 원본 변경X, 기존 배열값에서 복사해서 추가"
   ]
  },
  {
   "cell_type": "code",
   "execution_count": 74,
   "id": "f6d22b53",
   "metadata": {},
   "outputs": [
    {
     "name": "stdout",
     "output_type": "stream",
     "text": [
      "\n",
      "    type : <class 'numpy.ndarray'>\n",
      "    shape : (8, 3)\n",
      "    dimension : 2\n",
      "    dtype : int32\n",
      "    data :\n",
      " [[7 9 3]\n",
      " [2 4 3]\n",
      " [7 5 7]\n",
      " [5 9 7]\n",
      " [3 4 2]\n",
      " [7 9 3]\n",
      " [2 4 3]\n",
      " [7 5 7]]\n",
      "    \n"
     ]
    }
   ],
   "source": [
    "np_re = np.resize(arr_int, (8, 3))\n",
    "\n",
    "np_print(np_re)"
   ]
  },
  {
   "cell_type": "markdown",
   "id": "be5e0364",
   "metadata": {},
   "source": [
    "<br>\n",
    "\n",
    "- optional parameter `refcheck=Fasle`: 크기가 다를 때 `0`으로 item 초기화"
   ]
  },
  {
   "cell_type": "code",
   "execution_count": 75,
   "id": "66f03efe",
   "metadata": {},
   "outputs": [
    {
     "name": "stdout",
     "output_type": "stream",
     "text": [
      "\n",
      "    type : <class 'numpy.ndarray'>\n",
      "    shape : (8, 3)\n",
      "    dimension : 2\n",
      "    dtype : int32\n",
      "    data :\n",
      " [[7 9 3]\n",
      " [2 4 3]\n",
      " [7 5 7]\n",
      " [5 9 7]\n",
      " [3 4 2]\n",
      " [0 0 0]\n",
      " [0 0 0]\n",
      " [0 0 0]]\n",
      "    \n"
     ]
    }
   ],
   "source": [
    "arr_int.resize((8, 3), refcheck=False)\n",
    "\n",
    "np_print(arr_int)"
   ]
  },
  {
   "cell_type": "markdown",
   "id": "15158042",
   "metadata": {},
   "source": [
    "<br>\n",
    "\n",
    "3. 변형되는 배열의 item수가 더 적은 경우 > 마지막 요소를 삭제\n",
    "\n",
    "- 원본 배열과 `resize()` 결과 배열의 `size`가 다르다면 반드시 `refcheck=False` 추가"
   ]
  },
  {
   "cell_type": "code",
   "execution_count": 76,
   "id": "c1924ef6",
   "metadata": {},
   "outputs": [
    {
     "name": "stdout",
     "output_type": "stream",
     "text": [
      "\n",
      "    type : <class 'numpy.ndarray'>\n",
      "    shape : (3, 3)\n",
      "    dimension : 2\n",
      "    dtype : int32\n",
      "    data :\n",
      " [[7 9 3]\n",
      " [2 4 3]\n",
      " [7 5 7]]\n",
      "    \n"
     ]
    }
   ],
   "source": [
    "arr_int.resize((3, 3), refcheck=False)\n",
    "\n",
    "np_print(arr_int)"
   ]
  },
  {
   "cell_type": "markdown",
   "id": "4f59d75f",
   "metadata": {},
   "source": [
    "### 5.2. item 추가 \n",
    "\n",
    "1. `np.append(arr, values)`\n",
    "\n",
    "2. `np.insert(arr, idx, values)`\n",
    "\n",
    "<br>\n",
    "\n",
    "- `np.append(arr, values, axis=None)`\n",
    "    - arr 마지막에 `values`를 추가\n",
    "    - default `axis=None`: 1차원 배열로 변형되어 결합\n",
    "    - `axis=0`: 행 방향으로 결합 (단, 열의 개수가 동일해야 함)\n",
    "    - `axis=1`: 열 방향으로 결합 (단, 행의 개수가 동일해야 함)\n",
    "        - 원본 배열들에 반영되지 않음"
   ]
  },
  {
   "cell_type": "markdown",
   "id": "f13dad83",
   "metadata": {},
   "source": [
    "- 1이상 10미만, step=1, 3 X 3 배열 arr_a\n",
    "- 10이상 19미만, step=1, 3 X 3 배열 arr_b"
   ]
  },
  {
   "cell_type": "code",
   "execution_count": 77,
   "id": "1fb3c526",
   "metadata": {},
   "outputs": [
    {
     "name": "stdout",
     "output_type": "stream",
     "text": [
      "\n",
      "    type : <class 'numpy.ndarray'>\n",
      "    shape : (3, 3)\n",
      "    dimension : 2\n",
      "    dtype : int32\n",
      "    data :\n",
      " [[1 2 3]\n",
      " [4 5 6]\n",
      " [7 8 9]]\n",
      "    \n",
      "\n",
      "    type : <class 'numpy.ndarray'>\n",
      "    shape : (3, 3)\n",
      "    dimension : 2\n",
      "    dtype : int32\n",
      "    data :\n",
      " [[10 11 12]\n",
      " [13 14 15]\n",
      " [16 17 18]]\n",
      "    \n"
     ]
    }
   ],
   "source": [
    "arr_a = np.arange(1, 10).reshape(3, 3)\n",
    "arr_b = np.arange(10, 19).reshape(3, 3)\n",
    "\n",
    "np_print(arr_a)\n",
    "np_print(arr_b)"
   ]
  },
  {
   "cell_type": "markdown",
   "id": "cdc9240c",
   "metadata": {},
   "source": [
    "<br>\n",
    "  \n",
    "1. default: `axis` 지정하지 않은 경우: `np.append(arr1, arr2)` > `axis=None`\n",
    "\n",
    "- `arr1`, `arr2` 둘 다 1차원으로 변형해서 추가"
   ]
  },
  {
   "cell_type": "code",
   "execution_count": 78,
   "id": "53e4507d",
   "metadata": {},
   "outputs": [
    {
     "data": {
      "text/plain": [
       "array([ 1,  2,  3,  4,  5,  6,  7,  8,  9, 10, 11, 12, 13, 14, 15, 16, 17,\n",
       "       18])"
      ]
     },
     "execution_count": 78,
     "metadata": {},
     "output_type": "execute_result"
    }
   ],
   "source": [
    "np.append(arr_a, arr_b)"
   ]
  },
  {
   "cell_type": "markdown",
   "id": "0185820d",
   "metadata": {},
   "source": [
    "<br>\n",
    "\n",
    "2. `axis=0`: $\\downarrow$, 행의 축 방향, 행 기준 결합 > 열 개수는 동일"
   ]
  },
  {
   "cell_type": "code",
   "execution_count": 79,
   "id": "cc583a9e",
   "metadata": {},
   "outputs": [
    {
     "data": {
      "text/plain": [
       "array([[ 1,  2,  3],\n",
       "       [ 4,  5,  6],\n",
       "       [ 7,  8,  9],\n",
       "       [10, 11, 12],\n",
       "       [13, 14, 15],\n",
       "       [16, 17, 18]])"
      ]
     },
     "execution_count": 79,
     "metadata": {},
     "output_type": "execute_result"
    }
   ],
   "source": [
    "np.append(arr_a, arr_b, axis=0)"
   ]
  },
  {
   "cell_type": "markdown",
   "id": "67f1e38f",
   "metadata": {},
   "source": [
    "<br>\n",
    "\n",
    "3. `axis=1`: $\\rightarrow$, 열의 축 방향, 열 기준 결합 > 행 개수는 동일"
   ]
  },
  {
   "cell_type": "code",
   "execution_count": 80,
   "id": "d6b18cae",
   "metadata": {},
   "outputs": [
    {
     "data": {
      "text/plain": [
       "array([[ 1,  2,  3, 10, 11, 12],\n",
       "       [ 4,  5,  6, 13, 14, 15],\n",
       "       [ 7,  8,  9, 16, 17, 18]])"
      ]
     },
     "execution_count": 80,
     "metadata": {},
     "output_type": "execute_result"
    }
   ],
   "source": [
    "np.append(arr_a, arr_b, axis=1)"
   ]
  },
  {
   "cell_type": "markdown",
   "id": "df7a8037",
   "metadata": {},
   "source": [
    "<br>\n",
    "\n",
    "- column의 개수가 다른 배열들의 결합"
   ]
  },
  {
   "cell_type": "code",
   "execution_count": 81,
   "id": "ec883403",
   "metadata": {},
   "outputs": [
    {
     "name": "stdout",
     "output_type": "stream",
     "text": [
      "\n",
      "    type : <class 'numpy.ndarray'>\n",
      "    shape : (3, 5)\n",
      "    dimension : 2\n",
      "    dtype : int32\n",
      "    data :\n",
      " [[30 31 32 33 34]\n",
      " [35 36 37 38 39]\n",
      " [40 41 42 43 44]]\n",
      "    \n"
     ]
    }
   ],
   "source": [
    "arr_c = np.arange(30, 45).reshape(3, 5)\n",
    "\n",
    "np_print(arr_c)"
   ]
  },
  {
   "cell_type": "markdown",
   "id": "af0ae9c3",
   "metadata": {},
   "source": [
    "<br>\n",
    "\n",
    "- `axis=1`: 열의 축 방향, $\\rightarrow$, **열 기준 결합, 행 개수 동일**"
   ]
  },
  {
   "cell_type": "code",
   "execution_count": 82,
   "id": "8974d6a8",
   "metadata": {},
   "outputs": [
    {
     "data": {
      "text/plain": [
       "array([[ 1,  2,  3, 30, 31, 32, 33, 34],\n",
       "       [ 4,  5,  6, 35, 36, 37, 38, 39],\n",
       "       [ 7,  8,  9, 40, 41, 42, 43, 44]])"
      ]
     },
     "execution_count": 82,
     "metadata": {},
     "output_type": "execute_result"
    }
   ],
   "source": [
    "np.append(arr_a, arr_c, axis=1)"
   ]
  },
  {
   "cell_type": "markdown",
   "id": "d67f6f46",
   "metadata": {},
   "source": [
    "<br>\n",
    "\n",
    "- `axis=0`: 행의 축 방향, $\\downarrow$, **행 기준 결합** > ValueError"
   ]
  },
  {
   "cell_type": "code",
   "execution_count": 83,
   "id": "47f9ef2c",
   "metadata": {
    "scrolled": true
   },
   "outputs": [
    {
     "ename": "ValueError",
     "evalue": "all the input array dimensions for the concatenation axis must match exactly, but along dimension 1, the array at index 0 has size 3 and the array at index 1 has size 5",
     "output_type": "error",
     "traceback": [
      "\u001b[1;31m---------------------------------------------------------------------------\u001b[0m",
      "\u001b[1;31mValueError\u001b[0m                                Traceback (most recent call last)",
      "\u001b[1;32m~\\AppData\\Local\\Temp\\ipykernel_2976\\1225623211.py\u001b[0m in \u001b[0;36m<module>\u001b[1;34m\u001b[0m\n\u001b[1;32m----> 1\u001b[1;33m \u001b[0mnp\u001b[0m\u001b[1;33m.\u001b[0m\u001b[0mappend\u001b[0m\u001b[1;33m(\u001b[0m\u001b[0marr_a\u001b[0m\u001b[1;33m,\u001b[0m \u001b[0marr_c\u001b[0m\u001b[1;33m,\u001b[0m \u001b[0maxis\u001b[0m\u001b[1;33m=\u001b[0m\u001b[1;36m0\u001b[0m\u001b[1;33m)\u001b[0m\u001b[1;33m\u001b[0m\u001b[1;33m\u001b[0m\u001b[0m\n\u001b[0m",
      "\u001b[1;32m<__array_function__ internals>\u001b[0m in \u001b[0;36mappend\u001b[1;34m(*args, **kwargs)\u001b[0m\n",
      "\u001b[1;32m~\\anaconda3\\lib\\site-packages\\numpy\\lib\\function_base.py\u001b[0m in \u001b[0;36mappend\u001b[1;34m(arr, values, axis)\u001b[0m\n\u001b[0;32m   4815\u001b[0m         \u001b[0mvalues\u001b[0m \u001b[1;33m=\u001b[0m \u001b[0mravel\u001b[0m\u001b[1;33m(\u001b[0m\u001b[0mvalues\u001b[0m\u001b[1;33m)\u001b[0m\u001b[1;33m\u001b[0m\u001b[1;33m\u001b[0m\u001b[0m\n\u001b[0;32m   4816\u001b[0m         \u001b[0maxis\u001b[0m \u001b[1;33m=\u001b[0m \u001b[0marr\u001b[0m\u001b[1;33m.\u001b[0m\u001b[0mndim\u001b[0m\u001b[1;33m-\u001b[0m\u001b[1;36m1\u001b[0m\u001b[1;33m\u001b[0m\u001b[1;33m\u001b[0m\u001b[0m\n\u001b[1;32m-> 4817\u001b[1;33m     \u001b[1;32mreturn\u001b[0m \u001b[0mconcatenate\u001b[0m\u001b[1;33m(\u001b[0m\u001b[1;33m(\u001b[0m\u001b[0marr\u001b[0m\u001b[1;33m,\u001b[0m \u001b[0mvalues\u001b[0m\u001b[1;33m)\u001b[0m\u001b[1;33m,\u001b[0m \u001b[0maxis\u001b[0m\u001b[1;33m=\u001b[0m\u001b[0maxis\u001b[0m\u001b[1;33m)\u001b[0m\u001b[1;33m\u001b[0m\u001b[1;33m\u001b[0m\u001b[0m\n\u001b[0m\u001b[0;32m   4818\u001b[0m \u001b[1;33m\u001b[0m\u001b[0m\n\u001b[0;32m   4819\u001b[0m \u001b[1;33m\u001b[0m\u001b[0m\n",
      "\u001b[1;32m<__array_function__ internals>\u001b[0m in \u001b[0;36mconcatenate\u001b[1;34m(*args, **kwargs)\u001b[0m\n",
      "\u001b[1;31mValueError\u001b[0m: all the input array dimensions for the concatenation axis must match exactly, but along dimension 1, the array at index 0 has size 3 and the array at index 1 has size 5"
     ]
    }
   ],
   "source": [
    "np.append(arr_a, arr_c, axis=0)"
   ]
  },
  {
   "cell_type": "markdown",
   "id": "6c125e68",
   "metadata": {},
   "source": [
    "<br>\n",
    "\n",
    "- 행 단위(`axis=0`) 결합할 수 있는 구조로 변경 > `arr.resize()`: 열 개수 동일"
   ]
  },
  {
   "cell_type": "code",
   "execution_count": 84,
   "id": "13b2d78d",
   "metadata": {},
   "outputs": [
    {
     "data": {
      "text/plain": [
       "array([[ 1,  2,  3],\n",
       "       [ 4,  5,  6],\n",
       "       [ 7,  8,  9],\n",
       "       [30, 31, 32],\n",
       "       [33, 34, 35],\n",
       "       [36, 37, 38],\n",
       "       [39, 40, 41],\n",
       "       [42, 43, 44]])"
      ]
     },
     "execution_count": 84,
     "metadata": {},
     "output_type": "execute_result"
    }
   ],
   "source": [
    "arr_c.resize((5, 3))\n",
    "\n",
    "np.append(arr_a, arr_c, axis=0)"
   ]
  },
  {
   "cell_type": "markdown",
   "id": "e046ed42",
   "metadata": {},
   "source": [
    "<br>\n",
    "\n",
    "- 행 개수가 다른 배열간의 결합"
   ]
  },
  {
   "cell_type": "code",
   "execution_count": 85,
   "id": "8a78145f",
   "metadata": {},
   "outputs": [
    {
     "name": "stdout",
     "output_type": "stream",
     "text": [
      "\n",
      "    type : <class 'numpy.ndarray'>\n",
      "    shape : (4, 3)\n",
      "    dimension : 2\n",
      "    dtype : int32\n",
      "    data :\n",
      " [[ 90  91  92]\n",
      " [ 93  94  95]\n",
      " [ 96  97  98]\n",
      " [ 99 100 101]]\n",
      "    \n"
     ]
    }
   ],
   "source": [
    "arr_d = np.arange(90, 102).reshape(4, 3)\n",
    "\n",
    "np_print(arr_d)"
   ]
  },
  {
   "cell_type": "markdown",
   "id": "3bb53cc2",
   "metadata": {},
   "source": [
    "<br>\n",
    "\n",
    "- `axis=0`: $\\downarrow$, 행의 축 방향, 행 단위 > 열 개수 동일"
   ]
  },
  {
   "cell_type": "code",
   "execution_count": 86,
   "id": "38441330",
   "metadata": {},
   "outputs": [
    {
     "name": "stdout",
     "output_type": "stream",
     "text": [
      "\n",
      "    type : <class 'numpy.ndarray'>\n",
      "    shape : (3, 3)\n",
      "    dimension : 2\n",
      "    dtype : int32\n",
      "    data :\n",
      " [[10 11 12]\n",
      " [13 14 15]\n",
      " [16 17 18]]\n",
      "    \n"
     ]
    },
    {
     "data": {
      "text/plain": [
       "array([[ 10,  11,  12],\n",
       "       [ 13,  14,  15],\n",
       "       [ 16,  17,  18],\n",
       "       [ 90,  91,  92],\n",
       "       [ 93,  94,  95],\n",
       "       [ 96,  97,  98],\n",
       "       [ 99, 100, 101]])"
      ]
     },
     "execution_count": 86,
     "metadata": {},
     "output_type": "execute_result"
    }
   ],
   "source": [
    "np_print(arr_b)\n",
    "\n",
    "np.append(arr_b, arr_d, axis=0)"
   ]
  },
  {
   "cell_type": "markdown",
   "id": "6b8ec2fe",
   "metadata": {},
   "source": [
    "<br>\n",
    "\n",
    "- `axis=1`: $\\rightarrow$, 열의 축 방향, 열 단위 > 행 개수 동일하게 `resize()`"
   ]
  },
  {
   "cell_type": "code",
   "execution_count": 87,
   "id": "e972bbb5",
   "metadata": {},
   "outputs": [
    {
     "data": {
      "text/plain": [
       "array([[ 10,  11,  12,  90,  91,  92,  93],\n",
       "       [ 13,  14,  15,  94,  95,  96,  97],\n",
       "       [ 16,  17,  18,  98,  99, 100, 101]])"
      ]
     },
     "execution_count": 87,
     "metadata": {},
     "output_type": "execute_result"
    }
   ],
   "source": [
    "arr_d.resize(3, 4)\n",
    "\n",
    "np.append(arr_b, arr_d, axis=1)"
   ]
  },
  {
   "cell_type": "markdown",
   "id": "fa57eed7",
   "metadata": {},
   "source": [
    "<br>\n",
    "\n",
    "- `np.insert(arr, idx, values, axis=None)`\n",
    "    - 지정한 인덱스`idx`에 `values`를 추가\n",
    "        - default: `axis=None`: 1차원 배열로 변형 후 해당 `idx`에 `values`추가\n",
    "        - `axis=0`: $\\downarrow$, 행의 축 방향, 행 기준 해당 `idx`행에 추가\n",
    "        - `axis=1`: $\\rightarrow$, 열의 축 방향, 열 기준, 해당 `idx`열에 추가\n",
    "    - 원본 배열에 반영되지 않음"
   ]
  },
  {
   "cell_type": "code",
   "execution_count": 88,
   "id": "73c3e136",
   "metadata": {},
   "outputs": [
    {
     "name": "stdout",
     "output_type": "stream",
     "text": [
      "\n",
      "    type : <class 'numpy.ndarray'>\n",
      "    shape : (3, 3)\n",
      "    dimension : 2\n",
      "    dtype : int32\n",
      "    data :\n",
      " [[1 2 3]\n",
      " [4 5 6]\n",
      " [7 8 9]]\n",
      "    \n"
     ]
    }
   ],
   "source": [
    "arr_in = np.arange(1, 10).reshape(3, 3)\n",
    "\n",
    "np_print(arr_in)"
   ]
  },
  {
   "cell_type": "markdown",
   "id": "1b856c10",
   "metadata": {},
   "source": [
    "<br>\n",
    "\n",
    "1. default: `axis=None` 지정하지 않는 경우: 1차원 배열로 변형 후 지정 index에 값 추가"
   ]
  },
  {
   "cell_type": "code",
   "execution_count": 89,
   "id": "f783a61f",
   "metadata": {},
   "outputs": [
    {
     "data": {
      "text/plain": [
       "array([ 1,  2, 10, 11,  3,  4,  5,  6,  7,  8,  9])"
      ]
     },
     "execution_count": 89,
     "metadata": {},
     "output_type": "execute_result"
    }
   ],
   "source": [
    "np.insert(arr_in, 2, [10, 11])"
   ]
  },
  {
   "cell_type": "markdown",
   "id": "f1cd615f",
   "metadata": {},
   "source": [
    "<br>\n",
    "\n",
    "- `np.insert()` > 원본 배열은 유지: deep copy"
   ]
  },
  {
   "cell_type": "code",
   "execution_count": 90,
   "id": "3c57229a",
   "metadata": {},
   "outputs": [
    {
     "data": {
      "text/plain": [
       "array([[1, 2, 3],\n",
       "       [4, 5, 6],\n",
       "       [7, 8, 9]])"
      ]
     },
     "execution_count": 90,
     "metadata": {},
     "output_type": "execute_result"
    }
   ],
   "source": [
    "arr_in"
   ]
  },
  {
   "cell_type": "markdown",
   "id": "43997dac",
   "metadata": {},
   "source": [
    "<br>\n",
    "\n",
    "2. `axis=0`: $\\downarrow$, 행의 축 방향, 행 추가\n",
    "\n",
    "- scalar값 추가 > row 단위로 BroadCasting 발생"
   ]
  },
  {
   "cell_type": "code",
   "execution_count": 91,
   "id": "be2f6d57",
   "metadata": {},
   "outputs": [
    {
     "data": {
      "text/plain": [
       "array([[  1,   2,   3],\n",
       "       [100, 100, 100],\n",
       "       [  4,   5,   6],\n",
       "       [  7,   8,   9]])"
      ]
     },
     "execution_count": 91,
     "metadata": {},
     "output_type": "execute_result"
    }
   ],
   "source": [
    "np.insert(arr_in, 1, 100, axis=0)"
   ]
  },
  {
   "cell_type": "markdown",
   "id": "363f8982",
   "metadata": {},
   "source": [
    "<br>\n",
    "\n",
    "3. `axis=1`: $\\rightarrow$, 열의 축 방향, 열 추가"
   ]
  },
  {
   "cell_type": "code",
   "execution_count": 92,
   "id": "26a8931a",
   "metadata": {},
   "outputs": [
    {
     "data": {
      "text/plain": [
       "array([[ 1, 30,  2,  3],\n",
       "       [ 4, 30,  5,  6],\n",
       "       [ 7, 30,  8,  9]])"
      ]
     },
     "execution_count": 92,
     "metadata": {},
     "output_type": "execute_result"
    }
   ],
   "source": [
    "np.insert(arr_in, 1, 30, axis=1)"
   ]
  },
  {
   "cell_type": "markdown",
   "id": "e47845e3",
   "metadata": {},
   "source": [
    "<br>\n",
    "\n",
    "- 각각 다른 item values로 row or column 추가하기\n",
    "\n",
    "- item의 개수를 동일하게 설정: 축을 기준으로 item 개수 결정 > `axis`로 축 설정"
   ]
  },
  {
   "cell_type": "code",
   "execution_count": 93,
   "id": "c1547696",
   "metadata": {},
   "outputs": [
    {
     "data": {
      "text/plain": [
       "array([[ 1,  2,  3],\n",
       "       [ 4,  5,  6],\n",
       "       [ 7,  8,  9],\n",
       "       [10, 20, 30]])"
      ]
     },
     "execution_count": 93,
     "metadata": {},
     "output_type": "execute_result"
    }
   ],
   "source": [
    "np.insert(arr_in, 3, [10, 20, 30], axis=0)"
   ]
  },
  {
   "cell_type": "markdown",
   "id": "58fecfd8",
   "metadata": {},
   "source": [
    "### 5.3. item 삭제\n",
    "\n",
    "- `np.delete(arr, idx, axis=None)`\n",
    "\n",
    "    - 지정한 인덱스`idx`에 해당하는 item 삭제\n",
    "    \n",
    "        - default: `axis=None` > 1차원 배열로 변형 후 해당 `idx`의 item 삭제\n",
    "        \n",
    "        - `axis=0`: 행의 축 방향, 해당하는 행 삭제\n",
    "        \n",
    "        - `axis=1`: 열의 축 방향, 해당 열 삭제\n",
    "    \n",
    "    - 원본 배열에 반영되지 않음"
   ]
  },
  {
   "cell_type": "code",
   "execution_count": 94,
   "id": "b4ead098",
   "metadata": {},
   "outputs": [
    {
     "name": "stdout",
     "output_type": "stream",
     "text": [
      "\n",
      "    type : <class 'numpy.ndarray'>\n",
      "    shape : (3, 4)\n",
      "    dimension : 2\n",
      "    dtype : int32\n",
      "    data :\n",
      " [[ 0  1  2  3]\n",
      " [ 4  5  6  7]\n",
      " [ 8  9 10 11]]\n",
      "    \n"
     ]
    }
   ],
   "source": [
    "arr_del = np.arange(12).reshape(3, 4)\n",
    "\n",
    "np_print(arr_del)"
   ]
  },
  {
   "cell_type": "markdown",
   "id": "c2aaecac",
   "metadata": {},
   "source": [
    "<br>\n",
    "\n",
    "1. default: `axis=None`: 1차원 배열로 변환 후 `idx`에 해당하는 item 삭제"
   ]
  },
  {
   "cell_type": "code",
   "execution_count": 95,
   "id": "946fdc91",
   "metadata": {},
   "outputs": [
    {
     "data": {
      "text/plain": [
       "array([ 0,  1,  3,  4,  5,  6,  7,  8,  9, 10, 11])"
      ]
     },
     "execution_count": 95,
     "metadata": {},
     "output_type": "execute_result"
    }
   ],
   "source": [
    "np.delete(arr_del, 2)"
   ]
  },
  {
   "cell_type": "markdown",
   "id": "e74b3b8a",
   "metadata": {},
   "source": [
    "<br>\n",
    "\n",
    "- 원본 배열 변경 X"
   ]
  },
  {
   "cell_type": "code",
   "execution_count": 96,
   "id": "ec3fdb33",
   "metadata": {},
   "outputs": [
    {
     "data": {
      "text/plain": [
       "array([[ 0,  1,  2,  3],\n",
       "       [ 4,  5,  6,  7],\n",
       "       [ 8,  9, 10, 11]])"
      ]
     },
     "execution_count": 96,
     "metadata": {},
     "output_type": "execute_result"
    }
   ],
   "source": [
    "arr_del"
   ]
  },
  {
   "cell_type": "markdown",
   "id": "d141e130",
   "metadata": {},
   "source": [
    "<br>\n",
    "\n",
    "2. `axis=0`: 행의 축 방향, 행 기준, 행 삭제"
   ]
  },
  {
   "cell_type": "code",
   "execution_count": 97,
   "id": "c2a1d7e4",
   "metadata": {},
   "outputs": [
    {
     "data": {
      "text/plain": [
       "array([[ 0,  1,  2,  3],\n",
       "       [ 8,  9, 10, 11]])"
      ]
     },
     "execution_count": 97,
     "metadata": {},
     "output_type": "execute_result"
    }
   ],
   "source": [
    "np.delete(arr_del, 1, axis=0)"
   ]
  },
  {
   "cell_type": "markdown",
   "id": "ea7dd3da",
   "metadata": {},
   "source": [
    "<br>\n",
    "\n",
    "3. `axis=1`: 열의 축 방향, 열 기준, 열 삭제"
   ]
  },
  {
   "cell_type": "code",
   "execution_count": 98,
   "id": "a0647ef2",
   "metadata": {},
   "outputs": [
    {
     "data": {
      "text/plain": [
       "array([[ 0,  1,  3],\n",
       "       [ 4,  5,  7],\n",
       "       [ 8,  9, 11]])"
      ]
     },
     "execution_count": 98,
     "metadata": {},
     "output_type": "execute_result"
    }
   ],
   "source": [
    "np.delete(arr_del, 2, axis=1)"
   ]
  },
  {
   "cell_type": "markdown",
   "id": "6c7f3544",
   "metadata": {},
   "source": [
    "## 6. 배열 형태 변환 (array form manipulation)\n",
    "\n",
    "### 6.1. 배열 결합 `np.concatenate()`\n",
    "\n",
    "- `np.concatenate((arr1, arr2, ...), axis=0)`\n",
    "    \n",
    "    - default: `axis=0`: 행의 축 방향, 행 기준 결합, 열 개수 동일\n",
    "    \n",
    "    - `axis=1`: 열의 축 방향, 열 기준 결합, 행 개수 동일\n",
    "    \n",
    "        - 원본 배열들은 변경되지 않음"
   ]
  },
  {
   "cell_type": "code",
   "execution_count": 112,
   "id": "ede9f4d3",
   "metadata": {},
   "outputs": [
    {
     "name": "stdout",
     "output_type": "stream",
     "text": [
      "\n",
      "    type : <class 'numpy.ndarray'>\n",
      "    shape : (2, 3)\n",
      "    dimension : 2\n",
      "    dtype : int32\n",
      "    data :\n",
      " [[1 2 3]\n",
      " [4 5 6]]\n",
      "    \n",
      "\n",
      "    type : <class 'numpy.ndarray'>\n",
      "    shape : (2, 3)\n",
      "    dimension : 2\n",
      "    dtype : int32\n",
      "    data :\n",
      " [[ 7  8  9]\n",
      " [10 11 12]]\n",
      "    \n",
      "\n",
      "    type : <class 'numpy.ndarray'>\n",
      "    shape : (2, 5)\n",
      "    dimension : 2\n",
      "    dtype : int32\n",
      "    data :\n",
      " [[13 14 15 16 17]\n",
      " [18 19 20 21 22]]\n",
      "    \n",
      "\n",
      "    type : <class 'numpy.ndarray'>\n",
      "    shape : (5, 3)\n",
      "    dimension : 2\n",
      "    dtype : int32\n",
      "    data :\n",
      " [[23 24 25]\n",
      " [26 27 28]\n",
      " [29 30 31]\n",
      " [32 33 34]\n",
      " [35 36 37]]\n",
      "    \n"
     ]
    }
   ],
   "source": [
    "arr_a = np.arange(1, 7).reshape(2, 3)\n",
    "arr_b = np.arange(7, 13).reshape(2, 3)\n",
    "arr_c = np.arange(13, 23).reshape(2, 5)\n",
    "arr_d = np.arange(23, 38).reshape(5, 3)\n",
    "\n",
    "np_print(arr_a)\n",
    "np_print(arr_b)\n",
    "np_print(arr_c)\n",
    "np_print(arr_d)"
   ]
  },
  {
   "cell_type": "markdown",
   "id": "c4763955",
   "metadata": {},
   "source": [
    "<br>\n",
    "\n",
    "1. default: `axis=0` > 행의 축 방향, 행 기준 배열 결합: 열 개수 동일해야 함"
   ]
  },
  {
   "cell_type": "code",
   "execution_count": 113,
   "id": "22c56cb7",
   "metadata": {},
   "outputs": [
    {
     "data": {
      "text/plain": [
       "array([[ 1,  2,  3],\n",
       "       [ 4,  5,  6],\n",
       "       [ 7,  8,  9],\n",
       "       [10, 11, 12]])"
      ]
     },
     "execution_count": 113,
     "metadata": {},
     "output_type": "execute_result"
    }
   ],
   "source": [
    "np.concatenate((arr_a, arr_b))"
   ]
  },
  {
   "cell_type": "markdown",
   "id": "8109299c",
   "metadata": {},
   "source": [
    "<br>\n",
    "\n",
    "2. `axis=1`: 열의 축 방향, 열 기준 배열 결합: 행 개수 동일해야 함"
   ]
  },
  {
   "cell_type": "code",
   "execution_count": 114,
   "id": "d6efe99e",
   "metadata": {},
   "outputs": [
    {
     "data": {
      "text/plain": [
       "array([[ 1,  2,  3,  7,  8,  9],\n",
       "       [ 4,  5,  6, 10, 11, 12]])"
      ]
     },
     "execution_count": 114,
     "metadata": {},
     "output_type": "execute_result"
    }
   ],
   "source": [
    "np.concatenate((arr_a, arr_b), axis=1)"
   ]
  },
  {
   "cell_type": "markdown",
   "id": "fab6bb0d",
   "metadata": {},
   "source": [
    "<br>\n",
    "\n",
    "- 행의 축 방향 결합 > 열 개수 동일해야 함"
   ]
  },
  {
   "cell_type": "code",
   "execution_count": 130,
   "id": "d97292fe",
   "metadata": {},
   "outputs": [
    {
     "name": "stdout",
     "output_type": "stream",
     "text": [
      "\n",
      "    type : <class 'numpy.ndarray'>\n",
      "    shape : (2, 3)\n",
      "    dimension : 2\n",
      "    dtype : int32\n",
      "    data :\n",
      " [[1 2 3]\n",
      " [4 5 6]]\n",
      "    \n",
      "\n",
      "    type : <class 'numpy.ndarray'>\n",
      "    shape : (2, 5)\n",
      "    dimension : 2\n",
      "    dtype : int32\n",
      "    data :\n",
      " [[13 14 15 16 17]\n",
      " [18 19 20 21 22]]\n",
      "    \n"
     ]
    }
   ],
   "source": [
    "np_print(arr_a)\n",
    "\n",
    "np_print(arr_c)"
   ]
  },
  {
   "cell_type": "code",
   "execution_count": 131,
   "id": "88f70bab",
   "metadata": {},
   "outputs": [
    {
     "ename": "TypeError",
     "evalue": "only integer scalar arrays can be converted to a scalar index",
     "output_type": "error",
     "traceback": [
      "\u001b[1;31m---------------------------------------------------------------------------\u001b[0m",
      "\u001b[1;31mTypeError\u001b[0m                                 Traceback (most recent call last)",
      "\u001b[1;32m~\\AppData\\Local\\Temp\\ipykernel_2976\\4240204882.py\u001b[0m in \u001b[0;36m<module>\u001b[1;34m\u001b[0m\n\u001b[1;32m----> 1\u001b[1;33m \u001b[0mnp\u001b[0m\u001b[1;33m.\u001b[0m\u001b[0mconcatenate\u001b[0m\u001b[1;33m(\u001b[0m\u001b[0marr_a\u001b[0m\u001b[1;33m,\u001b[0m \u001b[0marr_c\u001b[0m\u001b[1;33m)\u001b[0m\u001b[1;33m\u001b[0m\u001b[1;33m\u001b[0m\u001b[0m\n\u001b[0m",
      "\u001b[1;32m<__array_function__ internals>\u001b[0m in \u001b[0;36mconcatenate\u001b[1;34m(*args, **kwargs)\u001b[0m\n",
      "\u001b[1;31mTypeError\u001b[0m: only integer scalar arrays can be converted to a scalar index"
     ]
    }
   ],
   "source": [
    "np.concatenate(arr_a, arr_c)"
   ]
  },
  {
   "cell_type": "markdown",
   "id": "a6a2365b",
   "metadata": {},
   "source": [
    "<br>\n",
    "\n",
    "- 열방향 결합 > 행 개수 동일해야함"
   ]
  },
  {
   "cell_type": "code",
   "execution_count": 135,
   "id": "1240a37d",
   "metadata": {},
   "outputs": [
    {
     "name": "stdout",
     "output_type": "stream",
     "text": [
      "\n",
      "    type : <class 'numpy.ndarray'>\n",
      "    shape : (2, 3)\n",
      "    dimension : 2\n",
      "    dtype : int32\n",
      "    data :\n",
      " [[1 2 3]\n",
      " [4 5 6]]\n",
      "    \n",
      "\n",
      "    type : <class 'numpy.ndarray'>\n",
      "    shape : (5, 3)\n",
      "    dimension : 2\n",
      "    dtype : int32\n",
      "    data :\n",
      " [[23 24 25]\n",
      " [26 27 28]\n",
      " [29 30 31]\n",
      " [32 33 34]\n",
      " [35 36 37]]\n",
      "    \n"
     ]
    }
   ],
   "source": [
    "np_print(arr_a)\n",
    "\n",
    "np_print(arr_d)"
   ]
  },
  {
   "cell_type": "code",
   "execution_count": 136,
   "id": "248e0137",
   "metadata": {},
   "outputs": [
    {
     "ename": "TypeError",
     "evalue": "only integer scalar arrays can be converted to a scalar index",
     "output_type": "error",
     "traceback": [
      "\u001b[1;31m---------------------------------------------------------------------------\u001b[0m",
      "\u001b[1;31mTypeError\u001b[0m                                 Traceback (most recent call last)",
      "\u001b[1;32m~\\AppData\\Local\\Temp\\ipykernel_2976\\3187866801.py\u001b[0m in \u001b[0;36m<module>\u001b[1;34m\u001b[0m\n\u001b[1;32m----> 1\u001b[1;33m \u001b[0mnp\u001b[0m\u001b[1;33m.\u001b[0m\u001b[0mconcatenate\u001b[0m\u001b[1;33m(\u001b[0m\u001b[0marr_a\u001b[0m\u001b[1;33m,\u001b[0m \u001b[0marr_d\u001b[0m\u001b[1;33m)\u001b[0m\u001b[1;33m\u001b[0m\u001b[1;33m\u001b[0m\u001b[0m\n\u001b[0m",
      "\u001b[1;32m<__array_function__ internals>\u001b[0m in \u001b[0;36mconcatenate\u001b[1;34m(*args, **kwargs)\u001b[0m\n",
      "\u001b[1;31mTypeError\u001b[0m: only integer scalar arrays can be converted to a scalar index"
     ]
    }
   ],
   "source": [
    "np.concatenate(arr_a, arr_d)"
   ]
  },
  {
   "cell_type": "markdown",
   "id": "ccaa582a",
   "metadata": {},
   "source": [
    "<br>\n",
    "\n",
    "### 6.2. 배열 가르기 `np.split()`\n",
    "\n",
    "- `np.split(arr, indices_or_sections, axis=0)`\n",
    "\n",
    "    - default: `axis=0`: 행의 축 방향, 행 단위로 분리\n",
    "    \n",
    "    - `axis=1` : 열의 축 방향, 열 단위로 분리\n",
    "    \n",
    "        - 원본 배열은 변경되지 않음"
   ]
  },
  {
   "cell_type": "code",
   "execution_count": 138,
   "id": "0a876b53",
   "metadata": {},
   "outputs": [
    {
     "data": {
      "text/plain": [
       "array([[ 1,  2,  3,  4,  5,  6],\n",
       "       [ 7,  8,  9, 10, 11, 12],\n",
       "       [13, 14, 15, 16, 17, 18],\n",
       "       [19, 20, 21, 22, 23, 24],\n",
       "       [25, 26, 27, 28, 29, 30],\n",
       "       [31, 32, 33, 34, 35, 36]])"
      ]
     },
     "execution_count": 138,
     "metadata": {},
     "output_type": "execute_result"
    }
   ],
   "source": [
    "arr_spl = np.arange(1, 37).reshape(6, 6)\n",
    "\n",
    "arr_spl"
   ]
  },
  {
   "cell_type": "markdown",
   "id": "51a69bce",
   "metadata": {},
   "source": [
    "<br>\n",
    "\n",
    "1. `axis=0`: 행의 축 방향, 행 단위 분리\n",
    "\n",
    "- second parameter type == `list`: 위치 및 개수 지정, 균등하지 않게 분리"
   ]
  },
  {
   "cell_type": "code",
   "execution_count": 140,
   "id": "4c5133df",
   "metadata": {},
   "outputs": [
    {
     "data": {
      "text/plain": [
       "[array([[1, 2, 3, 4, 5, 6]]),\n",
       " array([[ 7,  8,  9, 10, 11, 12]]),\n",
       " array([[13, 14, 15, 16, 17, 18]]),\n",
       " array([[19, 20, 21, 22, 23, 24],\n",
       "        [25, 26, 27, 28, 29, 30],\n",
       "        [31, 32, 33, 34, 35, 36]])]"
      ]
     },
     "execution_count": 140,
     "metadata": {},
     "output_type": "execute_result"
    }
   ],
   "source": [
    "np.split(arr_spl, [1, 2, 3])"
   ]
  },
  {
   "cell_type": "markdown",
   "id": "d32bb3a7",
   "metadata": {},
   "source": [
    "<br>\n",
    "\n",
    "2. `axis=1`: 열의 축 방향, 열 단위 기준 분리\n",
    "\n",
    "- second parameter type == `scalar`: 개수 균등하게 분리 > 나머지 없이 나누어 떨어져야 함"
   ]
  },
  {
   "cell_type": "code",
   "execution_count": 141,
   "id": "6707865b",
   "metadata": {},
   "outputs": [
    {
     "data": {
      "text/plain": [
       "[array([[ 1,  2],\n",
       "        [ 7,  8],\n",
       "        [13, 14],\n",
       "        [19, 20],\n",
       "        [25, 26],\n",
       "        [31, 32]]),\n",
       " array([[ 3,  4],\n",
       "        [ 9, 10],\n",
       "        [15, 16],\n",
       "        [21, 22],\n",
       "        [27, 28],\n",
       "        [33, 34]]),\n",
       " array([[ 5,  6],\n",
       "        [11, 12],\n",
       "        [17, 18],\n",
       "        [23, 24],\n",
       "        [29, 30],\n",
       "        [35, 36]])]"
      ]
     },
     "execution_count": 141,
     "metadata": {},
     "output_type": "execute_result"
    }
   ],
   "source": [
    "np.split(arr_spl, 3, axis=1)"
   ]
  }
 ],
 "metadata": {
  "kernelspec": {
   "display_name": "Python 3 (ipykernel)",
   "language": "python",
   "name": "python3"
  },
  "language_info": {
   "codemirror_mode": {
    "name": "ipython",
    "version": 3
   },
   "file_extension": ".py",
   "mimetype": "text/x-python",
   "name": "python",
   "nbconvert_exporter": "python",
   "pygments_lexer": "ipython3",
   "version": "3.9.13"
  }
 },
 "nbformat": 4,
 "nbformat_minor": 5
}
