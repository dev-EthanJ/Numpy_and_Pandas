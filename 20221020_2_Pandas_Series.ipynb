{
 "cells": [
  {
   "cell_type": "markdown",
   "id": "0fe122b7",
   "metadata": {},
   "source": [
    "# Pandas Series 판다스 시리즈"
   ]
  },
  {
   "cell_type": "markdown",
   "id": "ecb1e29f",
   "metadata": {},
   "source": [
    "## Pandas\n",
    "- 데이터 처리 및 분석을 위한 library\n",
    "\n",
    "- 대용량 Data를 안정적이면서도 간편하게 처리\n",
    "\n",
    "- 서로 다른 data type으로 column 단위들을 구성할 수 있음\n",
    "\n",
    "- c.f. `Numpy`: 전체 배열 원소를 '동일한 타입'으로 제한\n",
    "\n",
    "- 주요 기능\n",
    "\n",
    "    - 데이터 입출력: `.csv`, `.xlsx`, `RDB`, `JSON` 등 다양한 format의 data 처리 가능\n",
    "    \n",
    "    - 데이터 가공: 분리, 결합, 계층, 피봇 등\n",
    "    \n",
    "    - 통계 분석 처리 등"
   ]
  },
  {
   "cell_type": "code",
   "execution_count": 1,
   "id": "9a2d735f",
   "metadata": {},
   "outputs": [],
   "source": [
    "#pandas library, Series, DataFrame namespace 불러오기\n",
    "\n",
    "import pandas as pd"
   ]
  },
  {
   "cell_type": "markdown",
   "id": "bcbe03e3",
   "metadata": {},
   "source": [
    "## Series\n",
    "\n",
    "- 1차원 배열과 유사한 자료형\n",
    "    \n",
    "- 색인 `index` : 행 번호\n",
    "    \n",
    "    - 각각의 데이터에 부여하는 속성, default: 0부터 1씩 증가하는 int\n",
    "        \n",
    "    - `index parameter`를 통해 새로운 value로 변경 가능\n",
    "    \n",
    "    - `list`, `tuple` 타입으로 새로운 값을 전달, 다차원 자료형은 사용할 수 없음\n",
    "    \n",
    "    - 전달하는 index의 개수와 data의 개수가 일치해야 함\n",
    "\n",
    "- 각각의 색인과 data가 mapping되어 있음 > `dict` data type과 유사: dict + index\n",
    "\n",
    "- 여러 가지 data type을 value로 사용 가능\n",
    "    \n",
    "![series_example](https://github.com/insung-ethan-j/Numpy_and_Pandas/blob/9f25bf583c032c512240df6f0d57315e986b4660/img/series_example.PNG?raw=true)"
   ]
  },
  {
   "cell_type": "markdown",
   "id": "d1111e0d",
   "metadata": {},
   "source": [
    "### 1. Series 생성\n",
    "\n",
    "- `pd.Series(data)`\n",
    "\n",
    "    - data: single value(`int`, `float`, `str`) or iterable object(`list`, `tuple`, `numpy` 배열)\n",
    "\n",
    "### 1. Series 속성\n",
    "\n",
    "- 속성은 소괄호를 붙이지 않음: 함수 X\n",
    "\n",
    "1. `index` : Series 객체의 index 배열을 반환\n",
    "\n",
    "2. `values` : Series 객체의 data(value) 배열을 반환\n",
    "\n",
    "3. `name` : Series 객체의 이름을 반환\n",
    "\n",
    "4. `dtype` : Series 객체의 item data type을 반환\n",
    "\n",
    "5. `size` : Series 객체의 data 개수(length)를 반환\n",
    "\n",
    "6. `shape` : Series 객체의 구조(axis=0, axis=1, ..., axis=n-1)를 반환"
   ]
  },
  {
   "cell_type": "markdown",
   "id": "694153cc",
   "metadata": {},
   "source": [
    "<br>\n",
    "\n",
    "- int `10`을 data로 가지고 있는 Series\n",
    "\n",
    "    - output 해석\n",
    "\n",
    "    - 왼쪽 `0`: 자동으로 생성되는 기본 index 번호: 0부터 시작\n",
    "    \n",
    "    - 오른쪽 `10`: 입력한 data value"
   ]
  },
  {
   "cell_type": "code",
   "execution_count": 2,
   "id": "32cacf51",
   "metadata": {
    "scrolled": true
   },
   "outputs": [
    {
     "data": {
      "text/plain": [
       "0    10\n",
       "dtype: int64"
      ]
     },
     "execution_count": 2,
     "metadata": {},
     "output_type": "execute_result"
    }
   ],
   "source": [
    "sr_1 = pd.Series(10)\n",
    "\n",
    "sr_1"
   ]
  },
  {
   "cell_type": "markdown",
   "id": "52ca4e10",
   "metadata": {},
   "source": [
    "<br>\n",
    "\n",
    "- value(data)를 얻을 때: indexing or slicing"
   ]
  },
  {
   "cell_type": "code",
   "execution_count": 3,
   "id": "9bb79215",
   "metadata": {},
   "outputs": [
    {
     "data": {
      "text/plain": [
       "10"
      ]
     },
     "execution_count": 3,
     "metadata": {},
     "output_type": "execute_result"
    }
   ],
   "source": [
    "sr_1[0]"
   ]
  },
  {
   "cell_type": "markdown",
   "id": "d479b12c",
   "metadata": {},
   "source": [
    "<br>\n",
    "\n",
    "- Series 객체 내부에 저장된 값 확인"
   ]
  },
  {
   "cell_type": "code",
   "execution_count": 4,
   "id": "2c7adb6d",
   "metadata": {},
   "outputs": [
    {
     "data": {
      "text/plain": [
       "array([10], dtype=int64)"
      ]
     },
     "execution_count": 4,
     "metadata": {},
     "output_type": "execute_result"
    }
   ],
   "source": [
    "sr_1.values"
   ]
  },
  {
   "cell_type": "markdown",
   "id": "f6a82e38",
   "metadata": {},
   "source": [
    "<br>\n",
    "\n",
    "- index 확인\n",
    "\n",
    "- `RangeIndex`: 기본적으로 생성되는 index번호를 사용하는 경우 부여됨"
   ]
  },
  {
   "cell_type": "code",
   "execution_count": 5,
   "id": "b13d2cba",
   "metadata": {},
   "outputs": [
    {
     "data": {
      "text/plain": [
       "RangeIndex(start=0, stop=1, step=1)"
      ]
     },
     "execution_count": 5,
     "metadata": {},
     "output_type": "execute_result"
    }
   ],
   "source": [
    "sr_1.index"
   ]
  },
  {
   "cell_type": "markdown",
   "id": "1a950135",
   "metadata": {},
   "source": [
    "<br>\n",
    "\n",
    "- str 입력"
   ]
  },
  {
   "cell_type": "code",
   "execution_count": 6,
   "id": "4e99cd29",
   "metadata": {},
   "outputs": [
    {
     "data": {
      "text/plain": [
       "0    abc\n",
       "dtype: object"
      ]
     },
     "execution_count": 6,
     "metadata": {},
     "output_type": "execute_result"
    }
   ],
   "source": [
    "sr_2 = pd.Series('abc')\n",
    "\n",
    "sr_2"
   ]
  },
  {
   "cell_type": "code",
   "execution_count": 7,
   "id": "73bf1631",
   "metadata": {},
   "outputs": [
    {
     "data": {
      "text/plain": [
       "array(['abc'], dtype=object)"
      ]
     },
     "execution_count": 7,
     "metadata": {},
     "output_type": "execute_result"
    }
   ],
   "source": [
    "sr_2.values"
   ]
  },
  {
   "cell_type": "code",
   "execution_count": 8,
   "id": "3d747104",
   "metadata": {},
   "outputs": [
    {
     "data": {
      "text/plain": [
       "RangeIndex(start=0, stop=1, step=1)"
      ]
     },
     "execution_count": 8,
     "metadata": {},
     "output_type": "execute_result"
    }
   ],
   "source": [
    "sr_2.index"
   ]
  },
  {
   "cell_type": "markdown",
   "id": "74bd1fad",
   "metadata": {},
   "source": [
    "<br>\n",
    "\n",
    "- `list` data type 입력"
   ]
  },
  {
   "cell_type": "code",
   "execution_count": 9,
   "id": "8e63af18",
   "metadata": {},
   "outputs": [
    {
     "data": {
      "text/plain": [
       "0    1\n",
       "1    3\n",
       "2    5\n",
       "dtype: int64"
      ]
     },
     "execution_count": 9,
     "metadata": {},
     "output_type": "execute_result"
    }
   ],
   "source": [
    "sr_3 = pd.Series([1, 3, 5])\n",
    "\n",
    "sr_3"
   ]
  },
  {
   "cell_type": "code",
   "execution_count": 10,
   "id": "a57a1777",
   "metadata": {},
   "outputs": [
    {
     "data": {
      "text/plain": [
       "array([1, 3, 5], dtype=int64)"
      ]
     },
     "execution_count": 10,
     "metadata": {},
     "output_type": "execute_result"
    }
   ],
   "source": [
    "sr_3.values"
   ]
  },
  {
   "cell_type": "code",
   "execution_count": 11,
   "id": "b5a17e0e",
   "metadata": {},
   "outputs": [
    {
     "data": {
      "text/plain": [
       "RangeIndex(start=0, stop=3, step=1)"
      ]
     },
     "execution_count": 11,
     "metadata": {},
     "output_type": "execute_result"
    }
   ],
   "source": [
    "sr_3.index"
   ]
  },
  {
   "cell_type": "markdown",
   "id": "09b134fe",
   "metadata": {},
   "source": [
    "<br>\n",
    "\n",
    "- item data type이 다른 `list` 입력 "
   ]
  },
  {
   "cell_type": "code",
   "execution_count": 12,
   "id": "f4cd33de",
   "metadata": {},
   "outputs": [
    {
     "data": {
      "text/plain": [
       "0         10.3\n",
       "1         test\n",
       "2         2000\n",
       "3    [1, 2, 3]\n",
       "dtype: object"
      ]
     },
     "execution_count": 12,
     "metadata": {},
     "output_type": "execute_result"
    }
   ],
   "source": [
    "sr_4 = pd.Series([10.3, \"test\", 2000, [1, 2, 3]])\n",
    "\n",
    "sr_4"
   ]
  },
  {
   "cell_type": "code",
   "execution_count": 13,
   "id": "d5877cfc",
   "metadata": {},
   "outputs": [
    {
     "data": {
      "text/plain": [
       "array([10.3, 'test', 2000, list([1, 2, 3])], dtype=object)"
      ]
     },
     "execution_count": 13,
     "metadata": {},
     "output_type": "execute_result"
    }
   ],
   "source": [
    "sr_4.values"
   ]
  },
  {
   "cell_type": "markdown",
   "id": "a7d2261f",
   "metadata": {},
   "source": [
    "\\> data type 특정지을 수 없을때: `dtype=object`\n",
    "\n",
    "<br>"
   ]
  },
  {
   "cell_type": "code",
   "execution_count": 14,
   "id": "0beb07cf",
   "metadata": {},
   "outputs": [
    {
     "data": {
      "text/plain": [
       "RangeIndex(start=0, stop=4, step=1)"
      ]
     },
     "execution_count": 14,
     "metadata": {},
     "output_type": "execute_result"
    }
   ],
   "source": [
    "sr_4.index"
   ]
  },
  {
   "cell_type": "markdown",
   "id": "a06e06a0",
   "metadata": {},
   "source": [
    "<br>\n",
    "\n",
    "- `dict` 입력: 자동 `label index` 부여: 'key' > label index, 'value' > data"
   ]
  },
  {
   "cell_type": "code",
   "execution_count": 15,
   "id": "ab8af0ef",
   "metadata": {},
   "outputs": [
    {
     "data": {
      "text/plain": [
       "a    10\n",
       "b    20\n",
       "c    30\n",
       "dtype: int64"
      ]
     },
     "execution_count": 15,
     "metadata": {},
     "output_type": "execute_result"
    }
   ],
   "source": [
    "sr_5 = pd.Series({'a':10, 'b':20, 'c':30})\n",
    "\n",
    "sr_5"
   ]
  },
  {
   "cell_type": "code",
   "execution_count": 16,
   "id": "088662c2",
   "metadata": {},
   "outputs": [
    {
     "data": {
      "text/plain": [
       "array([10, 20, 30], dtype=int64)"
      ]
     },
     "execution_count": 16,
     "metadata": {},
     "output_type": "execute_result"
    }
   ],
   "source": [
    "sr_5.values"
   ]
  },
  {
   "cell_type": "code",
   "execution_count": 17,
   "id": "001a0574",
   "metadata": {
    "scrolled": true
   },
   "outputs": [
    {
     "data": {
      "text/plain": [
       "Index(['a', 'b', 'c'], dtype='object')"
      ]
     },
     "execution_count": 17,
     "metadata": {},
     "output_type": "execute_result"
    }
   ],
   "source": [
    "sr_5.index"
   ]
  },
  {
   "cell_type": "markdown",
   "id": "701a1cf4",
   "metadata": {},
   "source": [
    "<br>\n",
    "\n",
    "- `dict`로 입력해도 `RangeIndex`의 int index 사용 가능"
   ]
  },
  {
   "cell_type": "code",
   "execution_count": 18,
   "id": "56eb6445",
   "metadata": {},
   "outputs": [
    {
     "data": {
      "text/plain": [
       "10"
      ]
     },
     "execution_count": 18,
     "metadata": {},
     "output_type": "execute_result"
    }
   ],
   "source": [
    "sr_5[0]"
   ]
  },
  {
   "cell_type": "code",
   "execution_count": 19,
   "id": "49c92b3c",
   "metadata": {
    "scrolled": true
   },
   "outputs": [
    {
     "data": {
      "text/plain": [
       "10"
      ]
     },
     "execution_count": 19,
     "metadata": {},
     "output_type": "execute_result"
    }
   ],
   "source": [
    "sr_5['a']"
   ]
  },
  {
   "cell_type": "markdown",
   "id": "c45df479",
   "metadata": {},
   "source": [
    "<br>\n",
    "\n",
    "- `tuple` 입력"
   ]
  },
  {
   "cell_type": "code",
   "execution_count": 20,
   "id": "fdd77460",
   "metadata": {},
   "outputs": [
    {
     "data": {
      "text/plain": [
       "0    1.0\n",
       "1    2.0\n",
       "2    3.0\n",
       "3    4.0\n",
       "4    5.0\n",
       "dtype: float64"
      ]
     },
     "execution_count": 20,
     "metadata": {},
     "output_type": "execute_result"
    }
   ],
   "source": [
    "sr_6 = pd.Series((1, 2, 3, 4, 5.0))\n",
    "\n",
    "sr_6"
   ]
  },
  {
   "cell_type": "code",
   "execution_count": 21,
   "id": "3227fa0a",
   "metadata": {},
   "outputs": [
    {
     "data": {
      "text/plain": [
       "array([1., 2., 3., 4., 5.])"
      ]
     },
     "execution_count": 21,
     "metadata": {},
     "output_type": "execute_result"
    }
   ],
   "source": [
    "sr_6.values"
   ]
  },
  {
   "cell_type": "markdown",
   "id": "7778bee5",
   "metadata": {},
   "source": [
    "<br>\n",
    "\n",
    "- 인덱스 새로 지정\n",
    "\n",
    "    - `RangeIndex` 범위만큼의 length를 가지는 `list` or `tuple` data로 전달\n",
    "\n",
    "    - 행 개수(data 개수)와 동일한 length를 전달해야 한다.\n",
    "\n",
    "        - label index가 없던 경우 > 새롭게 label index 부여\n",
    "        \n",
    "        - label index가 있던 경우 > 기존에 있던 label index에 덮어씌우기"
   ]
  },
  {
   "cell_type": "code",
   "execution_count": 22,
   "id": "44d865d1",
   "metadata": {},
   "outputs": [
    {
     "data": {
      "text/plain": [
       "RangeIndex(start=0, stop=5, step=1)"
      ]
     },
     "execution_count": 22,
     "metadata": {},
     "output_type": "execute_result"
    }
   ],
   "source": [
    "sr_6.index"
   ]
  },
  {
   "cell_type": "code",
   "execution_count": 23,
   "id": "f53a3e8c",
   "metadata": {},
   "outputs": [
    {
     "data": {
      "text/plain": [
       "2018    1.0\n",
       "2019    2.0\n",
       "2020    3.0\n",
       "2021    4.0\n",
       "2022    5.0\n",
       "dtype: float64"
      ]
     },
     "execution_count": 23,
     "metadata": {},
     "output_type": "execute_result"
    }
   ],
   "source": [
    "sr_6.index = (2018, 2019, 2020, 2021, 2022)\n",
    "\n",
    "sr_6"
   ]
  },
  {
   "cell_type": "markdown",
   "id": "f6462d2e",
   "metadata": {},
   "source": [
    "<br>\n",
    "\n",
    "- `Series.index` object에 대해서 item reference는 가능"
   ]
  },
  {
   "cell_type": "code",
   "execution_count": 24,
   "id": "81d65580",
   "metadata": {},
   "outputs": [
    {
     "data": {
      "text/plain": [
       "Int64Index([2018, 2019, 2020, 2021, 2022], dtype='int64')"
      ]
     },
     "execution_count": 24,
     "metadata": {},
     "output_type": "execute_result"
    }
   ],
   "source": [
    "sr_6.index"
   ]
  },
  {
   "cell_type": "code",
   "execution_count": 25,
   "id": "6395a039",
   "metadata": {
    "scrolled": true
   },
   "outputs": [
    {
     "data": {
      "text/plain": [
       "2018"
      ]
     },
     "execution_count": 25,
     "metadata": {},
     "output_type": "execute_result"
    }
   ],
   "source": [
    "sr_6.index[0]"
   ]
  },
  {
   "cell_type": "markdown",
   "id": "a2513673",
   "metadata": {},
   "source": [
    "<br>\n",
    "\n",
    "- `index` instance 내부의 단일 label index item만 수정하는 것은 불가능"
   ]
  },
  {
   "cell_type": "code",
   "execution_count": 26,
   "id": "4c19f69f",
   "metadata": {},
   "outputs": [
    {
     "ename": "TypeError",
     "evalue": "Index does not support mutable operations",
     "output_type": "error",
     "traceback": [
      "\u001b[1;31m---------------------------------------------------------------------------\u001b[0m",
      "\u001b[1;31mTypeError\u001b[0m                                 Traceback (most recent call last)",
      "\u001b[1;32m~\\AppData\\Local\\Temp\\ipykernel_9864\\1859156694.py\u001b[0m in \u001b[0;36m<module>\u001b[1;34m\u001b[0m\n\u001b[1;32m----> 1\u001b[1;33m \u001b[0msr_6\u001b[0m\u001b[1;33m.\u001b[0m\u001b[0mindex\u001b[0m\u001b[1;33m[\u001b[0m\u001b[1;36m2\u001b[0m\u001b[1;33m]\u001b[0m \u001b[1;33m=\u001b[0m \u001b[1;36m1998\u001b[0m\u001b[1;33m\u001b[0m\u001b[1;33m\u001b[0m\u001b[0m\n\u001b[0m",
      "\u001b[1;32m~\\anaconda3\\lib\\site-packages\\pandas\\core\\indexes\\base.py\u001b[0m in \u001b[0;36m__setitem__\u001b[1;34m(self, key, value)\u001b[0m\n\u001b[0;32m   5033\u001b[0m     \u001b[1;33m@\u001b[0m\u001b[0mfinal\u001b[0m\u001b[1;33m\u001b[0m\u001b[1;33m\u001b[0m\u001b[0m\n\u001b[0;32m   5034\u001b[0m     \u001b[1;32mdef\u001b[0m \u001b[0m__setitem__\u001b[0m\u001b[1;33m(\u001b[0m\u001b[0mself\u001b[0m\u001b[1;33m,\u001b[0m \u001b[0mkey\u001b[0m\u001b[1;33m,\u001b[0m \u001b[0mvalue\u001b[0m\u001b[1;33m)\u001b[0m\u001b[1;33m:\u001b[0m\u001b[1;33m\u001b[0m\u001b[1;33m\u001b[0m\u001b[0m\n\u001b[1;32m-> 5035\u001b[1;33m         \u001b[1;32mraise\u001b[0m \u001b[0mTypeError\u001b[0m\u001b[1;33m(\u001b[0m\u001b[1;34m\"Index does not support mutable operations\"\u001b[0m\u001b[1;33m)\u001b[0m\u001b[1;33m\u001b[0m\u001b[1;33m\u001b[0m\u001b[0m\n\u001b[0m\u001b[0;32m   5036\u001b[0m \u001b[1;33m\u001b[0m\u001b[0m\n\u001b[0;32m   5037\u001b[0m     \u001b[1;32mdef\u001b[0m \u001b[0m__getitem__\u001b[0m\u001b[1;33m(\u001b[0m\u001b[0mself\u001b[0m\u001b[1;33m,\u001b[0m \u001b[0mkey\u001b[0m\u001b[1;33m)\u001b[0m\u001b[1;33m:\u001b[0m\u001b[1;33m\u001b[0m\u001b[1;33m\u001b[0m\u001b[0m\n",
      "\u001b[1;31mTypeError\u001b[0m: Index does not support mutable operations"
     ]
    }
   ],
   "source": [
    "sr_6.index[2] = 1998"
   ]
  },
  {
   "cell_type": "markdown",
   "id": "f1ad67ab",
   "metadata": {},
   "source": [
    "<br>\n",
    "\n",
    "- `label index` 수정 시 전체 index를 대입해야 한다"
   ]
  },
  {
   "cell_type": "code",
   "execution_count": 27,
   "id": "cb9b0f2f",
   "metadata": {},
   "outputs": [
    {
     "data": {
      "text/plain": [
       "q    1.0\n",
       "w    2.0\n",
       "e    3.0\n",
       "r    4.0\n",
       "t    5.0\n",
       "dtype: float64"
      ]
     },
     "execution_count": 27,
     "metadata": {},
     "output_type": "execute_result"
    }
   ],
   "source": [
    "sr_6.index = ['q', 'w', 'e', 'r', 't']\n",
    "\n",
    "sr_6"
   ]
  },
  {
   "cell_type": "markdown",
   "id": "28aca756",
   "metadata": {},
   "source": [
    "<br>\n",
    "\n",
    "- `dict` data 없이 `Series`에 `label index` 부여하고 싶은 경우\n",
    "\n",
    "    - 객체 생성 시, index를 optional parameter로 넘겨서 처리 가능\n",
    "    \n",
    "         - `pd.Series(data, index=[...])`"
   ]
  },
  {
   "cell_type": "code",
   "execution_count": 28,
   "id": "d023eb1f",
   "metadata": {},
   "outputs": [
    {
     "data": {
      "text/plain": [
       "Mon    10\n",
       "Tue    20\n",
       "Wed    30\n",
       "Thu    40\n",
       "Fri    50\n",
       "dtype: int64"
      ]
     },
     "execution_count": 28,
     "metadata": {},
     "output_type": "execute_result"
    }
   ],
   "source": [
    "sr_7 = pd.Series([10, 20, 30, 40, 50], index=['Mon', 'Tue', 'Wed', 'Thu', 'Fri'])\n",
    "\n",
    "sr_7"
   ]
  },
  {
   "cell_type": "code",
   "execution_count": 29,
   "id": "64af9444",
   "metadata": {},
   "outputs": [
    {
     "data": {
      "text/plain": [
       "Index(['Mon', 'Tue', 'Wed', 'Thu', 'Fri'], dtype='object')"
      ]
     },
     "execution_count": 29,
     "metadata": {},
     "output_type": "execute_result"
    }
   ],
   "source": [
    "sr_7.index"
   ]
  },
  {
   "cell_type": "code",
   "execution_count": 30,
   "id": "814fc7ee",
   "metadata": {},
   "outputs": [
    {
     "data": {
      "text/plain": [
       "array([10, 20, 30, 40, 50], dtype=int64)"
      ]
     },
     "execution_count": 30,
     "metadata": {},
     "output_type": "execute_result"
    }
   ],
   "source": [
    "sr_7.values"
   ]
  },
  {
   "cell_type": "code",
   "execution_count": 31,
   "id": "b6fcadaf",
   "metadata": {},
   "outputs": [
    {
     "data": {
      "text/plain": [
       "30"
      ]
     },
     "execution_count": 31,
     "metadata": {},
     "output_type": "execute_result"
    }
   ],
   "source": [
    "sr_7[2]"
   ]
  },
  {
   "cell_type": "code",
   "execution_count": 32,
   "id": "97d5c94b",
   "metadata": {},
   "outputs": [
    {
     "data": {
      "text/plain": [
       "30"
      ]
     },
     "execution_count": 32,
     "metadata": {},
     "output_type": "execute_result"
    }
   ],
   "source": [
    "sr_7['Wed']"
   ]
  },
  {
   "cell_type": "markdown",
   "id": "d9fcb165",
   "metadata": {},
   "source": [
    "### 3. `dict`와  `Series`의 유사성\n",
    "\n",
    "- `dict` 자료형으로 `Series` object 생성"
   ]
  },
  {
   "cell_type": "code",
   "execution_count": 33,
   "id": "dcea6622",
   "metadata": {
    "scrolled": true
   },
   "outputs": [
    {
     "name": "stdout",
     "output_type": "stream",
     "text": [
      "{'서울': 100, '경기': 200, '강원': 300, '부산': 400}\n",
      "서울    100\n",
      "경기    200\n",
      "강원    300\n",
      "부산    400\n",
      "dtype: int64\n"
     ]
    }
   ],
   "source": [
    "my_dict = {'서울':100, '경기':200, '강원':300, '부산':400}\n",
    "my_sample = pd.Series(my_dict)\n",
    "\n",
    "print(my_dict)\n",
    "print(my_sample)"
   ]
  },
  {
   "cell_type": "markdown",
   "id": "c72a827e",
   "metadata": {},
   "source": [
    "<br>\n",
    "\n",
    "- `Series`객체와 `in`연산자\n",
    "    - `in` 연산자를 사용해 내부 요소 검사: `dict`의 `in`연산자 사용법과 동일\n",
    "    - `key` value에 해당하는 `label index`를 이용해 item의 존재 여부를 `bool` type return"
   ]
  },
  {
   "cell_type": "code",
   "execution_count": 34,
   "id": "1278a3f9",
   "metadata": {},
   "outputs": [
    {
     "name": "stdout",
     "output_type": "stream",
     "text": [
      "True\n",
      "True\n"
     ]
    }
   ],
   "source": [
    "print('서울' in my_dict)\n",
    "\n",
    "print('강원' in my_sample)"
   ]
  },
  {
   "cell_type": "markdown",
   "id": "b6d4be50",
   "metadata": {},
   "source": [
    "<br>\n",
    "\n",
    "- `for loop`에서 `in`연산자로 접근: iterable object `dict`의 key, `Series`의 value reference"
   ]
  },
  {
   "cell_type": "code",
   "execution_count": 35,
   "id": "86a0567d",
   "metadata": {},
   "outputs": [
    {
     "name": "stdout",
     "output_type": "stream",
     "text": [
      "서울\n",
      "경기\n",
      "강원\n",
      "부산\n",
      "==========\n",
      "100\n",
      "200\n",
      "300\n",
      "400\n"
     ]
    }
   ],
   "source": [
    "for item in my_dict:\n",
    "    print(item)\n",
    "    \n",
    "print('=' * 10)\n",
    "\n",
    "for value in my_sample.values:\n",
    "    print(value)"
   ]
  },
  {
   "cell_type": "markdown",
   "id": "cd89cad6",
   "metadata": {},
   "source": [
    "<br>\n",
    "\n",
    "- `label index` 변경: `pd.Series(data, index=label_index)`\n",
    "\n",
    "    - 지정한 `label_index` 기준으로 `Series` 생성\n",
    "\n",
    "    - 지정한 `label_index`에 매칭되지 않는 data는 `NaN`값으로 저장됨\n",
    "    \n",
    "        - `NaN`: Not a Number: `numpy`에서 해당 위치가 비었음을 의미하는 data(null)\n",
    "                \n",
    "        - c.f. `None`: Python primitive null data type"
   ]
  },
  {
   "cell_type": "code",
   "execution_count": 36,
   "id": "136e29cc",
   "metadata": {},
   "outputs": [
    {
     "data": {
      "text/plain": [
       "서울    100.0\n",
       "강원    300.0\n",
       "경기    200.0\n",
       "제주      NaN\n",
       "dtype: float64"
      ]
     },
     "execution_count": 36,
     "metadata": {},
     "output_type": "execute_result"
    }
   ],
   "source": [
    "new_index = ['서울', '강원', '경기', '제주']\n",
    "\n",
    "new_sample = pd.Series(my_dict, index=new_index)\n",
    "new_sample"
   ]
  },
  {
   "cell_type": "code",
   "execution_count": 37,
   "id": "58a749c7",
   "metadata": {},
   "outputs": [
    {
     "data": {
      "text/plain": [
       "{'서울': 100, '경기': 200, '강원': 300, '부산': 400}"
      ]
     },
     "execution_count": 37,
     "metadata": {},
     "output_type": "execute_result"
    }
   ],
   "source": [
    "my_dict"
   ]
  },
  {
   "cell_type": "markdown",
   "id": "acf9ae78",
   "metadata": {},
   "source": [
    "<br>\n",
    "\n",
    "### 4. 인덱싱(indexing)\n",
    "\n",
    "- 특정 값(single value)을 reference\n",
    "\n",
    "    - referenced index: RangeIndex `int index`, `label index`\n",
    "\n",
    "    - 새로운 `label index`를 지정해도, RangeIndex `int index` 사용 가능"
   ]
  },
  {
   "cell_type": "code",
   "execution_count": 38,
   "id": "c72a2fab",
   "metadata": {},
   "outputs": [
    {
     "data": {
      "text/plain": [
       "a    10\n",
       "b    20\n",
       "c    30\n",
       "dtype: int64"
      ]
     },
     "execution_count": 38,
     "metadata": {},
     "output_type": "execute_result"
    }
   ],
   "source": [
    "my_data = {'a':10, 'b':20, 'c':30}\n",
    "sr_6 = pd.Series(my_data)\n",
    "\n",
    "sr_6"
   ]
  },
  {
   "cell_type": "markdown",
   "id": "83b3489e",
   "metadata": {},
   "source": [
    "<br>\n",
    "\n",
    "- Indexing\n",
    "    \n",
    "    - Index indexing: `_Series object_.index[RangeIndex int index]`\n",
    "    \n",
    "    - value(item) indexing: `_Series object_[RangeIndex int index or label index]`"
   ]
  },
  {
   "cell_type": "code",
   "execution_count": 39,
   "id": "2bed3f7d",
   "metadata": {},
   "outputs": [
    {
     "name": "stdout",
     "output_type": "stream",
     "text": [
      "a\n",
      "10\n"
     ]
    }
   ],
   "source": [
    "print(sr_6.index[0])\n",
    "\n",
    "print(sr_6[0])"
   ]
  },
  {
   "cell_type": "code",
   "execution_count": 40,
   "id": "bbcd1f5a",
   "metadata": {},
   "outputs": [
    {
     "data": {
      "text/plain": [
       "10"
      ]
     },
     "execution_count": 40,
     "metadata": {},
     "output_type": "execute_result"
    }
   ],
   "source": [
    "sr_6['a']"
   ]
  },
  {
   "cell_type": "markdown",
   "id": "85d13640",
   "metadata": {},
   "source": [
    "<br>\n",
    "\n",
    "\n",
    "- '요일'-int data"
   ]
  },
  {
   "cell_type": "code",
   "execution_count": 41,
   "id": "6c3856f7",
   "metadata": {},
   "outputs": [
    {
     "data": {
      "text/plain": [
       "Mon    10\n",
       "Tue    20\n",
       "Wed    30\n",
       "Thu    40\n",
       "Fri    50\n",
       "dtype: int64"
      ]
     },
     "execution_count": 41,
     "metadata": {},
     "output_type": "execute_result"
    }
   ],
   "source": [
    "sr_7"
   ]
  },
  {
   "cell_type": "markdown",
   "id": "c42a05b2",
   "metadata": {},
   "source": [
    "<br>\n",
    "\n",
    "- `label index`에 해당하는 data value 변경\n",
    "    \n",
    "    - `_Series_.index[label_index]`: Error\n",
    "    \n",
    "    - `_Series_.index[RangeIndex]`: data value 아닌 `label index` 추출, 변경 불가능\n",
    "        \n",
    "    - `_Series_[label_index or RangeIndex]`: 변경 가능"
   ]
  },
  {
   "cell_type": "code",
   "execution_count": 42,
   "id": "8ef39071",
   "metadata": {},
   "outputs": [
    {
     "ename": "IndexError",
     "evalue": "only integers, slices (`:`), ellipsis (`...`), numpy.newaxis (`None`) and integer or boolean arrays are valid indices",
     "output_type": "error",
     "traceback": [
      "\u001b[1;31m---------------------------------------------------------------------------\u001b[0m",
      "\u001b[1;31mIndexError\u001b[0m                                Traceback (most recent call last)",
      "\u001b[1;32m~\\AppData\\Local\\Temp\\ipykernel_9864\\963837586.py\u001b[0m in \u001b[0;36m<module>\u001b[1;34m\u001b[0m\n\u001b[1;32m----> 1\u001b[1;33m \u001b[0msr_7\u001b[0m\u001b[1;33m.\u001b[0m\u001b[0mindex\u001b[0m\u001b[1;33m[\u001b[0m\u001b[1;34m'Mon'\u001b[0m\u001b[1;33m]\u001b[0m\u001b[1;33m\u001b[0m\u001b[1;33m\u001b[0m\u001b[0m\n\u001b[0m",
      "\u001b[1;32m~\\anaconda3\\lib\\site-packages\\pandas\\core\\indexes\\base.py\u001b[0m in \u001b[0;36m__getitem__\u001b[1;34m(self, key)\u001b[0m\n\u001b[0;32m   5067\u001b[0m             \u001b[0mkey\u001b[0m \u001b[1;33m=\u001b[0m \u001b[0mnp\u001b[0m\u001b[1;33m.\u001b[0m\u001b[0masarray\u001b[0m\u001b[1;33m(\u001b[0m\u001b[0mkey\u001b[0m\u001b[1;33m,\u001b[0m \u001b[0mdtype\u001b[0m\u001b[1;33m=\u001b[0m\u001b[0mbool\u001b[0m\u001b[1;33m)\u001b[0m\u001b[1;33m\u001b[0m\u001b[1;33m\u001b[0m\u001b[0m\n\u001b[0;32m   5068\u001b[0m \u001b[1;33m\u001b[0m\u001b[0m\n\u001b[1;32m-> 5069\u001b[1;33m         \u001b[0mresult\u001b[0m \u001b[1;33m=\u001b[0m \u001b[0mgetitem\u001b[0m\u001b[1;33m(\u001b[0m\u001b[0mkey\u001b[0m\u001b[1;33m)\u001b[0m\u001b[1;33m\u001b[0m\u001b[1;33m\u001b[0m\u001b[0m\n\u001b[0m\u001b[0;32m   5070\u001b[0m         \u001b[1;31m# Because we ruled out integer above, we always get an arraylike here\u001b[0m\u001b[1;33m\u001b[0m\u001b[1;33m\u001b[0m\u001b[0m\n\u001b[0;32m   5071\u001b[0m         \u001b[1;32mif\u001b[0m \u001b[0mresult\u001b[0m\u001b[1;33m.\u001b[0m\u001b[0mndim\u001b[0m \u001b[1;33m>\u001b[0m \u001b[1;36m1\u001b[0m\u001b[1;33m:\u001b[0m\u001b[1;33m\u001b[0m\u001b[1;33m\u001b[0m\u001b[0m\n",
      "\u001b[1;31mIndexError\u001b[0m: only integers, slices (`:`), ellipsis (`...`), numpy.newaxis (`None`) and integer or boolean arrays are valid indices"
     ]
    }
   ],
   "source": [
    "sr_7.index['Mon']"
   ]
  },
  {
   "cell_type": "code",
   "execution_count": 43,
   "id": "790492d8",
   "metadata": {
    "scrolled": true
   },
   "outputs": [
    {
     "name": "stdout",
     "output_type": "stream",
     "text": [
      "20\n"
     ]
    },
    {
     "data": {
      "text/plain": [
       "Mon     10\n",
       "Tue    200\n",
       "Wed     30\n",
       "Thu     40\n",
       "Fri     50\n",
       "dtype: int64"
      ]
     },
     "execution_count": 43,
     "metadata": {},
     "output_type": "execute_result"
    }
   ],
   "source": [
    "print(sr_7['Tue'])\n",
    "\n",
    "sr_7['Tue'] = 200\n",
    "sr_7"
   ]
  },
  {
   "cell_type": "code",
   "execution_count": 44,
   "id": "2a758126",
   "metadata": {},
   "outputs": [
    {
     "name": "stdout",
     "output_type": "stream",
     "text": [
      "10\n"
     ]
    },
    {
     "data": {
      "text/plain": [
       "Mon    100\n",
       "Tue    200\n",
       "Wed     30\n",
       "Thu     40\n",
       "Fri     50\n",
       "dtype: int64"
      ]
     },
     "execution_count": 44,
     "metadata": {},
     "output_type": "execute_result"
    }
   ],
   "source": [
    "print(sr_7[0])\n",
    "\n",
    "sr_7[0] = 100\n",
    "sr_7"
   ]
  },
  {
   "cell_type": "markdown",
   "id": "2cacfdcb",
   "metadata": {},
   "source": [
    "<br>\n",
    "\n",
    "- `Series`에서 두 개 이상의 원하는 행(row)만 추출하기: `행(row) == label index`\n",
    "    \n",
    "    - 추출 할 row들을 이중 list로 indexing: `_Series_[[row1, row2, ..., rowN]]`"
   ]
  },
  {
   "cell_type": "code",
   "execution_count": 45,
   "id": "588076fc",
   "metadata": {},
   "outputs": [
    {
     "data": {
      "text/plain": [
       "Mon    100\n",
       "Thu     40\n",
       "dtype: int64"
      ]
     },
     "execution_count": 45,
     "metadata": {},
     "output_type": "execute_result"
    }
   ],
   "source": [
    "sr_7[['Mon', 'Thu']]"
   ]
  },
  {
   "cell_type": "markdown",
   "id": "447e4903",
   "metadata": {},
   "source": [
    "<br>\n",
    "\n",
    "- `list`안의 `tuple`로 추출 불가능"
   ]
  },
  {
   "cell_type": "code",
   "execution_count": 46,
   "id": "e5f052a0",
   "metadata": {},
   "outputs": [
    {
     "ename": "KeyError",
     "evalue": "'key of type tuple not found and not a MultiIndex'",
     "output_type": "error",
     "traceback": [
      "\u001b[1;31m---------------------------------------------------------------------------\u001b[0m",
      "\u001b[1;31mKeyError\u001b[0m                                  Traceback (most recent call last)",
      "\u001b[1;32m~\\AppData\\Local\\Temp\\ipykernel_9864\\3856407577.py\u001b[0m in \u001b[0;36m<module>\u001b[1;34m\u001b[0m\n\u001b[1;32m----> 1\u001b[1;33m \u001b[0msr_7\u001b[0m\u001b[1;33m[\u001b[0m\u001b[1;33m(\u001b[0m\u001b[1;34m'Mon'\u001b[0m\u001b[1;33m,\u001b[0m \u001b[1;34m'Thu'\u001b[0m\u001b[1;33m)\u001b[0m\u001b[1;33m]\u001b[0m\u001b[1;33m\u001b[0m\u001b[1;33m\u001b[0m\u001b[0m\n\u001b[0m",
      "\u001b[1;32m~\\anaconda3\\lib\\site-packages\\pandas\\core\\series.py\u001b[0m in \u001b[0;36m__getitem__\u001b[1;34m(self, key)\u001b[0m\n\u001b[0;32m    982\u001b[0m             \u001b[1;32mreturn\u001b[0m \u001b[0mself\u001b[0m\u001b[1;33m.\u001b[0m\u001b[0m_get_values\u001b[0m\u001b[1;33m(\u001b[0m\u001b[0mkey\u001b[0m\u001b[1;33m)\u001b[0m\u001b[1;33m\u001b[0m\u001b[1;33m\u001b[0m\u001b[0m\n\u001b[0;32m    983\u001b[0m \u001b[1;33m\u001b[0m\u001b[0m\n\u001b[1;32m--> 984\u001b[1;33m         \u001b[1;32mreturn\u001b[0m \u001b[0mself\u001b[0m\u001b[1;33m.\u001b[0m\u001b[0m_get_with\u001b[0m\u001b[1;33m(\u001b[0m\u001b[0mkey\u001b[0m\u001b[1;33m)\u001b[0m\u001b[1;33m\u001b[0m\u001b[1;33m\u001b[0m\u001b[0m\n\u001b[0m\u001b[0;32m    985\u001b[0m \u001b[1;33m\u001b[0m\u001b[0m\n\u001b[0;32m    986\u001b[0m     \u001b[1;32mdef\u001b[0m \u001b[0m_get_with\u001b[0m\u001b[1;33m(\u001b[0m\u001b[0mself\u001b[0m\u001b[1;33m,\u001b[0m \u001b[0mkey\u001b[0m\u001b[1;33m)\u001b[0m\u001b[1;33m:\u001b[0m\u001b[1;33m\u001b[0m\u001b[1;33m\u001b[0m\u001b[0m\n",
      "\u001b[1;32m~\\anaconda3\\lib\\site-packages\\pandas\\core\\series.py\u001b[0m in \u001b[0;36m_get_with\u001b[1;34m(self, key)\u001b[0m\n\u001b[0;32m    997\u001b[0m             )\n\u001b[0;32m    998\u001b[0m         \u001b[1;32melif\u001b[0m \u001b[0misinstance\u001b[0m\u001b[1;33m(\u001b[0m\u001b[0mkey\u001b[0m\u001b[1;33m,\u001b[0m \u001b[0mtuple\u001b[0m\u001b[1;33m)\u001b[0m\u001b[1;33m:\u001b[0m\u001b[1;33m\u001b[0m\u001b[1;33m\u001b[0m\u001b[0m\n\u001b[1;32m--> 999\u001b[1;33m             \u001b[1;32mreturn\u001b[0m \u001b[0mself\u001b[0m\u001b[1;33m.\u001b[0m\u001b[0m_get_values_tuple\u001b[0m\u001b[1;33m(\u001b[0m\u001b[0mkey\u001b[0m\u001b[1;33m)\u001b[0m\u001b[1;33m\u001b[0m\u001b[1;33m\u001b[0m\u001b[0m\n\u001b[0m\u001b[0;32m   1000\u001b[0m \u001b[1;33m\u001b[0m\u001b[0m\n\u001b[0;32m   1001\u001b[0m         \u001b[1;32melif\u001b[0m \u001b[1;32mnot\u001b[0m \u001b[0mis_list_like\u001b[0m\u001b[1;33m(\u001b[0m\u001b[0mkey\u001b[0m\u001b[1;33m)\u001b[0m\u001b[1;33m:\u001b[0m\u001b[1;33m\u001b[0m\u001b[1;33m\u001b[0m\u001b[0m\n",
      "\u001b[1;32m~\\anaconda3\\lib\\site-packages\\pandas\\core\\series.py\u001b[0m in \u001b[0;36m_get_values_tuple\u001b[1;34m(self, key)\u001b[0m\n\u001b[0;32m   1032\u001b[0m \u001b[1;33m\u001b[0m\u001b[0m\n\u001b[0;32m   1033\u001b[0m         \u001b[1;32mif\u001b[0m \u001b[1;32mnot\u001b[0m \u001b[0misinstance\u001b[0m\u001b[1;33m(\u001b[0m\u001b[0mself\u001b[0m\u001b[1;33m.\u001b[0m\u001b[0mindex\u001b[0m\u001b[1;33m,\u001b[0m \u001b[0mMultiIndex\u001b[0m\u001b[1;33m)\u001b[0m\u001b[1;33m:\u001b[0m\u001b[1;33m\u001b[0m\u001b[1;33m\u001b[0m\u001b[0m\n\u001b[1;32m-> 1034\u001b[1;33m             \u001b[1;32mraise\u001b[0m \u001b[0mKeyError\u001b[0m\u001b[1;33m(\u001b[0m\u001b[1;34m\"key of type tuple not found and not a MultiIndex\"\u001b[0m\u001b[1;33m)\u001b[0m\u001b[1;33m\u001b[0m\u001b[1;33m\u001b[0m\u001b[0m\n\u001b[0m\u001b[0;32m   1035\u001b[0m \u001b[1;33m\u001b[0m\u001b[0m\n\u001b[0;32m   1036\u001b[0m         \u001b[1;31m# If key is contained, would have returned by now\u001b[0m\u001b[1;33m\u001b[0m\u001b[1;33m\u001b[0m\u001b[0m\n",
      "\u001b[1;31mKeyError\u001b[0m: 'key of type tuple not found and not a MultiIndex'"
     ]
    }
   ],
   "source": [
    "sr_7[('Mon', 'Thu')]"
   ]
  },
  {
   "cell_type": "markdown",
   "id": "549cd509",
   "metadata": {},
   "source": [
    "## 5. 슬라이싱 (Slicing)\n",
    "\n",
    "- `_Series_[start index: stop index: step]`\n",
    "\n",
    "    - 특정 범위의 값을 선택하거나 변경: `RangeIndex int index`, `label index` 둘 다 사용 가능\n",
    "\n",
    "        - `RangeIndex int index` slicing: not including `stop index`\n",
    "        \n",
    "        - `label index` slicing: including `stop index`"
   ]
  },
  {
   "cell_type": "code",
   "execution_count": 47,
   "id": "a6865b9c",
   "metadata": {
    "scrolled": true
   },
   "outputs": [
    {
     "data": {
      "text/plain": [
       "a    10\n",
       "b    20\n",
       "c    30\n",
       "d    40\n",
       "e    50\n",
       "dtype: int64"
      ]
     },
     "execution_count": 47,
     "metadata": {},
     "output_type": "execute_result"
    }
   ],
   "source": [
    "sr_en = pd.Series([10, 20, 30, 40, 50], index=list('abcde'))\n",
    "\n",
    "sr_en"
   ]
  },
  {
   "cell_type": "code",
   "execution_count": 48,
   "id": "4921ebf3",
   "metadata": {},
   "outputs": [
    {
     "data": {
      "text/plain": [
       "a    10\n",
       "b    20\n",
       "dtype: int64"
      ]
     },
     "execution_count": 48,
     "metadata": {},
     "output_type": "execute_result"
    }
   ],
   "source": [
    "# RangeIndex: 0 ~ 1\n",
    "sr_en[0:2]"
   ]
  },
  {
   "cell_type": "code",
   "execution_count": 49,
   "id": "09769025",
   "metadata": {
    "scrolled": true
   },
   "outputs": [
    {
     "data": {
      "text/plain": [
       "a    10\n",
       "b    20\n",
       "c    30\n",
       "dtype: int64"
      ]
     },
     "execution_count": 49,
     "metadata": {},
     "output_type": "execute_result"
    }
   ],
   "source": [
    "# label index: 'a' ~ 'c'\n",
    "sr_en['a':'c']"
   ]
  },
  {
   "cell_type": "code",
   "execution_count": 50,
   "id": "45565d28",
   "metadata": {
    "scrolled": true
   },
   "outputs": [
    {
     "data": {
      "text/plain": [
       "a    10\n",
       "c    30\n",
       "e    50\n",
       "dtype: int64"
      ]
     },
     "execution_count": 50,
     "metadata": {},
     "output_type": "execute_result"
    }
   ],
   "source": [
    "# RangeIndex int index + step\n",
    "sr_en[0:5:2]"
   ]
  },
  {
   "cell_type": "code",
   "execution_count": 51,
   "id": "fe648d59",
   "metadata": {},
   "outputs": [
    {
     "data": {
      "text/plain": [
       "b    20\n",
       "d    40\n",
       "dtype: int64"
      ]
     },
     "execution_count": 51,
     "metadata": {},
     "output_type": "execute_result"
    }
   ],
   "source": [
    "# label index + step\n",
    "sr_en['b':'d':2]"
   ]
  },
  {
   "cell_type": "markdown",
   "id": "7c6b881e",
   "metadata": {},
   "source": [
    "<br>\n",
    "\n",
    "## 6. 조건 색인(Boolean Indexing)\n",
    "\n",
    "- `Series[dtype=bool Series]`\n",
    "\n",
    "    - 원본 객체와 같은 `shape`과 `index`, `dtype=bool`인 `Series` 객체로 indexing\n",
    "\n",
    "    - `Series object`에 vector, scalar opration을 적용 > `dtype=bool`인 object return\n",
    "\n",
    "![conditional_index](https://github.com/insung-ethan-j/Numpy_and_Pandas/blob/9f25bf583c032c512240df6f0d57315e986b4660/img/conditional_index.PNG?raw=true)\n",
    "\n",
    "<br>"
   ]
  },
  {
   "cell_type": "code",
   "execution_count": 52,
   "id": "03b6f25c",
   "metadata": {
    "scrolled": true
   },
   "outputs": [
    {
     "data": {
      "text/plain": [
       "0    10\n",
       "1    -3\n",
       "2   -31\n",
       "3    34\n",
       "4   -35\n",
       "5    14\n",
       "6   -61\n",
       "7    12\n",
       "8     0\n",
       "dtype: int64"
      ]
     },
     "execution_count": 52,
     "metadata": {},
     "output_type": "execute_result"
    }
   ],
   "source": [
    "sr_int = pd.Series([10, -3, -31, 34, -35, 14, -61, 12, 0])\n",
    "\n",
    "sr_int"
   ]
  },
  {
   "cell_type": "markdown",
   "id": "8d297bb2",
   "metadata": {},
   "source": [
    "<br>\n",
    "\n",
    "- 비교연산자 `<` + scalar value `0`\n",
    "\n",
    "    - 조건 만족 여부 bool type(`True` or `False`)을 item으로 갖는 `Series` obj return"
   ]
  },
  {
   "cell_type": "code",
   "execution_count": 53,
   "id": "41fed57b",
   "metadata": {},
   "outputs": [
    {
     "data": {
      "text/plain": [
       "0    False\n",
       "1     True\n",
       "2     True\n",
       "3    False\n",
       "4     True\n",
       "5    False\n",
       "6     True\n",
       "7    False\n",
       "8    False\n",
       "dtype: bool"
      ]
     },
     "execution_count": 53,
     "metadata": {},
     "output_type": "execute_result"
    }
   ],
   "source": [
    "sr_int < 0"
   ]
  },
  {
   "cell_type": "markdown",
   "id": "46d7a04f",
   "metadata": {},
   "source": [
    "<br>\n",
    "\n",
    "- **Boolean Indexing**: `Series[dtype=bool Series]`"
   ]
  },
  {
   "cell_type": "code",
   "execution_count": 54,
   "id": "90d9621b",
   "metadata": {},
   "outputs": [
    {
     "data": {
      "text/plain": [
       "1    -3\n",
       "2   -31\n",
       "4   -35\n",
       "6   -61\n",
       "dtype: int64"
      ]
     },
     "execution_count": 54,
     "metadata": {},
     "output_type": "execute_result"
    }
   ],
   "source": [
    "sr_int[sr_int < 0]"
   ]
  },
  {
   "cell_type": "markdown",
   "id": "e0b8733f",
   "metadata": {},
   "source": [
    "<br>\n",
    "\n",
    "- 두 개 이상의 조건 처리: `and` $\\rightarrow$ `&`, `or` $\\rightarrow$ `|`"
   ]
  },
  {
   "cell_type": "code",
   "execution_count": 55,
   "id": "b9c6967f",
   "metadata": {},
   "outputs": [
    {
     "data": {
      "text/plain": [
       "3    34\n",
       "5    14\n",
       "7    12\n",
       "dtype: int64"
      ]
     },
     "execution_count": 55,
     "metadata": {},
     "output_type": "execute_result"
    }
   ],
   "source": [
    "sr_int[(sr_int > 10) & (sr_int < 40)]"
   ]
  },
  {
   "cell_type": "markdown",
   "id": "4a0ae9cc",
   "metadata": {},
   "source": [
    "### 7. Operation with scalar value, Series object\n",
    "\n",
    "- Operation between `Series object` and `scalar value`\n",
    "\n",
    "    - **BroadCasting** 발생\n",
    "\n",
    "<br>\n",
    "\n",
    "- Operation between `Series object` and `Series object`\n",
    "\n",
    "    - 일치하는 `label index`간 연산 수행, 공동으로 존재하지 않는 경우 `NaN` return\n",
    "    \n",
    "    - `label index`가 없는 경우 RangeIndex `int index` 차례대로 연산 수행   \n",
    "    \\> item 개수 다르면 `NaN` return\n",
    "    \n",
    "    - optional parameter `fill_value=value`: `NaN` 대체 가능\n",
    "    \n",
    "    ![series_math](https://github.com/insung-ethan-j/Numpy_and_Pandas/blob/9f25bf583c032c512240df6f0d57315e986b4660/img/series_math.PNG?raw=true)\n",
    "    \n",
    "<br>\n",
    "\n",
    "- 연산의 종류\n",
    "\n",
    "    - add: `+`, `sr.add(sr)`\n",
    "    \n",
    "    - subtract: `-`, `sr.sub(sr)`\n",
    "    \n",
    "    - multiply: `*`, `sr.mul(sr)`\n",
    "    \n",
    "    - divide: `/`, `sr.div(sr)`\n",
    "    \n",
    "    - modulo: `%`, `sr.mod(sr)`\n",
    "    \n",
    "    - int divide: `//`, `sr.floordiv(sr)`"
   ]
  },
  {
   "cell_type": "code",
   "execution_count": 56,
   "id": "593891aa",
   "metadata": {},
   "outputs": [],
   "source": [
    "sr_1 = pd.Series([1, 2, 3, 4], index=list('abcd'))\n",
    "\n",
    "sr_2 = pd.Series([10, 20, 30, 40, 50, 60], index=list('acdefg'))"
   ]
  },
  {
   "cell_type": "code",
   "execution_count": 57,
   "id": "4f0ac178",
   "metadata": {},
   "outputs": [
    {
     "data": {
      "text/plain": [
       "a    1\n",
       "b    2\n",
       "c    3\n",
       "d    4\n",
       "dtype: int64"
      ]
     },
     "execution_count": 57,
     "metadata": {},
     "output_type": "execute_result"
    }
   ],
   "source": [
    "sr_1"
   ]
  },
  {
   "cell_type": "code",
   "execution_count": 58,
   "id": "3e761976",
   "metadata": {},
   "outputs": [
    {
     "data": {
      "text/plain": [
       "a    10\n",
       "c    20\n",
       "d    30\n",
       "e    40\n",
       "f    50\n",
       "g    60\n",
       "dtype: int64"
      ]
     },
     "execution_count": 58,
     "metadata": {},
     "output_type": "execute_result"
    }
   ],
   "source": [
    "sr_2"
   ]
  },
  {
   "cell_type": "markdown",
   "id": "57bfca7d",
   "metadata": {},
   "source": [
    "<br>\n",
    "\n",
    "- Operation between `Series object` and `scalar value` > BroadCasting"
   ]
  },
  {
   "cell_type": "code",
   "execution_count": 59,
   "id": "4c587011",
   "metadata": {
    "scrolled": true
   },
   "outputs": [
    {
     "data": {
      "text/plain": [
       "a     30\n",
       "c     60\n",
       "d     90\n",
       "e    120\n",
       "f    150\n",
       "g    180\n",
       "dtype: int64"
      ]
     },
     "execution_count": 59,
     "metadata": {},
     "output_type": "execute_result"
    }
   ],
   "source": [
    "sr_2 * 3"
   ]
  },
  {
   "cell_type": "markdown",
   "id": "933bfd9c",
   "metadata": {},
   "source": [
    "<br>\n",
    "\n",
    "- Operation between `Series object` and `Series object`\n",
    "\n",
    "    - 공통 `label index` or RangeIndex `int index`끼리 연산   \n",
    "    \\> 한 객체에만 존재하는 index: `NaN` value로 채워짐"
   ]
  },
  {
   "cell_type": "code",
   "execution_count": 60,
   "id": "743e2019",
   "metadata": {},
   "outputs": [
    {
     "data": {
      "text/plain": [
       "a    11.0\n",
       "b     NaN\n",
       "c    23.0\n",
       "d    34.0\n",
       "e     NaN\n",
       "f     NaN\n",
       "g     NaN\n",
       "dtype: float64"
      ]
     },
     "execution_count": 60,
     "metadata": {},
     "output_type": "execute_result"
    }
   ],
   "source": [
    "sr_1 + sr_2"
   ]
  },
  {
   "cell_type": "markdown",
   "id": "040df0d6",
   "metadata": {},
   "source": [
    "<br>\n",
    "\n",
    "- optional parameter `fill_value=value`\n",
    "\n",
    "    - 공통으로 존재하지 않는 index의 value에 대해 `NaN` 대신 `value`로 연산 적용"
   ]
  },
  {
   "cell_type": "code",
   "execution_count": 61,
   "id": "1b195b1f",
   "metadata": {},
   "outputs": [
    {
     "data": {
      "text/plain": [
       "a    11.0\n",
       "b     2.0\n",
       "c    23.0\n",
       "d    34.0\n",
       "e    40.0\n",
       "f    50.0\n",
       "g    60.0\n",
       "dtype: float64"
      ]
     },
     "execution_count": 61,
     "metadata": {},
     "output_type": "execute_result"
    }
   ],
   "source": [
    "sr_1.add(sr_2, fill_value=0)"
   ]
  },
  {
   "cell_type": "code",
   "execution_count": 62,
   "id": "a04d15c3",
   "metadata": {},
   "outputs": [
    {
     "data": {
      "text/plain": [
       "a     11.0\n",
       "b    102.0\n",
       "c     23.0\n",
       "d     34.0\n",
       "e    140.0\n",
       "f    150.0\n",
       "g    160.0\n",
       "dtype: float64"
      ]
     },
     "execution_count": 62,
     "metadata": {},
     "output_type": "execute_result"
    }
   ],
   "source": [
    "sr_1.add(sr_2, fill_value=100)"
   ]
  },
  {
   "cell_type": "markdown",
   "id": "7c87bab1",
   "metadata": {},
   "source": [
    "<br>\n",
    "\n",
    "- subtract operation between `Series object`"
   ]
  },
  {
   "cell_type": "code",
   "execution_count": 63,
   "id": "35f3b465",
   "metadata": {},
   "outputs": [
    {
     "data": {
      "text/plain": [
       "a    -9.0\n",
       "b     NaN\n",
       "c   -17.0\n",
       "d   -26.0\n",
       "e     NaN\n",
       "f     NaN\n",
       "g     NaN\n",
       "dtype: float64"
      ]
     },
     "execution_count": 63,
     "metadata": {},
     "output_type": "execute_result"
    }
   ],
   "source": [
    "sr_1.sub(sr_2)"
   ]
  },
  {
   "cell_type": "code",
   "execution_count": 64,
   "id": "59605e4f",
   "metadata": {},
   "outputs": [
    {
     "data": {
      "text/plain": [
       "a    -9.0\n",
       "b     2.0\n",
       "c   -17.0\n",
       "d   -26.0\n",
       "e   -40.0\n",
       "f   -50.0\n",
       "g   -60.0\n",
       "dtype: float64"
      ]
     },
     "execution_count": 64,
     "metadata": {},
     "output_type": "execute_result"
    }
   ],
   "source": [
    "sr_1.sub(sr_2, fill_value=0)"
   ]
  },
  {
   "cell_type": "markdown",
   "id": "7a5de8ce",
   "metadata": {},
   "source": [
    "<br>\n",
    "\n",
    "- multiply operation between `Series object`"
   ]
  },
  {
   "cell_type": "code",
   "execution_count": 65,
   "id": "18bdc63a",
   "metadata": {},
   "outputs": [
    {
     "data": {
      "text/plain": [
       "a     10.0\n",
       "b      NaN\n",
       "c     60.0\n",
       "d    120.0\n",
       "e      NaN\n",
       "f      NaN\n",
       "g      NaN\n",
       "dtype: float64"
      ]
     },
     "execution_count": 65,
     "metadata": {},
     "output_type": "execute_result"
    }
   ],
   "source": [
    "sr_1.mul(sr_2)"
   ]
  },
  {
   "cell_type": "code",
   "execution_count": 66,
   "id": "18e55db5",
   "metadata": {},
   "outputs": [
    {
     "data": {
      "text/plain": [
       "a     10.0\n",
       "b      NaN\n",
       "c     60.0\n",
       "d    120.0\n",
       "e      NaN\n",
       "f      NaN\n",
       "g      NaN\n",
       "dtype: float64"
      ]
     },
     "execution_count": 66,
     "metadata": {},
     "output_type": "execute_result"
    }
   ],
   "source": [
    "sr_1 * sr_2"
   ]
  },
  {
   "cell_type": "code",
   "execution_count": 67,
   "id": "b6064066",
   "metadata": {},
   "outputs": [
    {
     "data": {
      "text/plain": [
       "a     10.0\n",
       "b      2.0\n",
       "c     60.0\n",
       "d    120.0\n",
       "e     40.0\n",
       "f     50.0\n",
       "g     60.0\n",
       "dtype: float64"
      ]
     },
     "execution_count": 67,
     "metadata": {},
     "output_type": "execute_result"
    }
   ],
   "source": [
    "sr_1.mul(sr_2, fill_value=1)"
   ]
  },
  {
   "cell_type": "markdown",
   "id": "25177e4c",
   "metadata": {},
   "source": [
    "<br>\n",
    "\n",
    "- divide operation"
   ]
  },
  {
   "cell_type": "code",
   "execution_count": 68,
   "id": "d31aefa9",
   "metadata": {},
   "outputs": [
    {
     "data": {
      "text/plain": [
       "a    0.100000\n",
       "b         NaN\n",
       "c    0.150000\n",
       "d    0.133333\n",
       "e         NaN\n",
       "f         NaN\n",
       "g         NaN\n",
       "dtype: float64"
      ]
     },
     "execution_count": 68,
     "metadata": {},
     "output_type": "execute_result"
    }
   ],
   "source": [
    "sr_1 / sr_2"
   ]
  },
  {
   "cell_type": "code",
   "execution_count": 69,
   "id": "5d2fce11",
   "metadata": {},
   "outputs": [
    {
     "data": {
      "text/plain": [
       "a    0.100000\n",
       "b         NaN\n",
       "c    0.150000\n",
       "d    0.133333\n",
       "e         NaN\n",
       "f         NaN\n",
       "g         NaN\n",
       "dtype: float64"
      ]
     },
     "execution_count": 69,
     "metadata": {},
     "output_type": "execute_result"
    }
   ],
   "source": [
    "sr_1.div(sr_2)"
   ]
  },
  {
   "cell_type": "code",
   "execution_count": 70,
   "id": "7880601e",
   "metadata": {},
   "outputs": [
    {
     "data": {
      "text/plain": [
       "a    0.100000\n",
       "b    2.000000\n",
       "c    0.150000\n",
       "d    0.133333\n",
       "e    0.025000\n",
       "f    0.020000\n",
       "g    0.016667\n",
       "dtype: float64"
      ]
     },
     "execution_count": 70,
     "metadata": {},
     "output_type": "execute_result"
    }
   ],
   "source": [
    "sr_1.div(sr_2, fill_value=1)"
   ]
  },
  {
   "cell_type": "markdown",
   "id": "c0fff70f",
   "metadata": {},
   "source": [
    "[pandas documentation](https://pandas.pydata.org/pandas-docs/stable/reference/series.html)"
   ]
  },
  {
   "cell_type": "markdown",
   "id": "89643605",
   "metadata": {},
   "source": [
    "<br>\n",
    "\n",
    "### > 연습 문제\n",
    "\n",
    "<br>\n",
    "\n",
    "1. 실습 데이터 생성\n",
    "\n",
    "- 1 이상 100 미만, 난수 정수값 26개 저장한 Series, alphabet으로 laveling"
   ]
  },
  {
   "cell_type": "code",
   "execution_count": 71,
   "id": "b642dc58",
   "metadata": {},
   "outputs": [
    {
     "data": {
      "text/plain": [
       "a    78\n",
       "b    75\n",
       "c    46\n",
       "d    43\n",
       "e    53\n",
       "f    73\n",
       "g    23\n",
       "h    84\n",
       "i    48\n",
       "j    79\n",
       "k     5\n",
       "l    71\n",
       "m    27\n",
       "n    38\n",
       "o    24\n",
       "p    50\n",
       "q    99\n",
       "r    39\n",
       "s    22\n",
       "t    13\n",
       "u    61\n",
       "v    84\n",
       "w    45\n",
       "x    57\n",
       "y    66\n",
       "z    14\n",
       "dtype: int32"
      ]
     },
     "execution_count": 71,
     "metadata": {},
     "output_type": "execute_result"
    }
   ],
   "source": [
    "import numpy as np\n",
    "\n",
    "arr_data = np.random.randint(1, 100, size=26)\n",
    "sr_data = pd.Series(arr_data, index=list('abcdefghijklmnopqrstuvwxyz'))\n",
    "\n",
    "sr_data"
   ]
  },
  {
   "cell_type": "markdown",
   "id": "c93168c6",
   "metadata": {},
   "source": [
    "<br>\n",
    "\n",
    "2. `label index='k'` item value print"
   ]
  },
  {
   "cell_type": "code",
   "execution_count": 72,
   "id": "0ca16d8f",
   "metadata": {},
   "outputs": [
    {
     "data": {
      "text/plain": [
       "5"
      ]
     },
     "execution_count": 72,
     "metadata": {},
     "output_type": "execute_result"
    }
   ],
   "source": [
    "sr_data['k']"
   ]
  },
  {
   "cell_type": "markdown",
   "id": "50c3b429",
   "metadata": {},
   "source": [
    "<br>\n",
    "\n",
    "3. `label index='a', 'f', 'c'` item value print"
   ]
  },
  {
   "cell_type": "code",
   "execution_count": 73,
   "id": "a86e7e95",
   "metadata": {},
   "outputs": [
    {
     "data": {
      "text/plain": [
       "a    78\n",
       "f    73\n",
       "c    46\n",
       "dtype: int32"
      ]
     },
     "execution_count": 73,
     "metadata": {},
     "output_type": "execute_result"
    }
   ],
   "source": [
    "sr_data[['a', 'f', 'c']]"
   ]
  },
  {
   "cell_type": "markdown",
   "id": "88161375",
   "metadata": {},
   "source": [
    "<br>\n",
    "\n",
    "4. RangeIndex `int index 5 ~ 15` item value print"
   ]
  },
  {
   "cell_type": "code",
   "execution_count": 74,
   "id": "9ec54d41",
   "metadata": {},
   "outputs": [
    {
     "data": {
      "text/plain": [
       "f    73\n",
       "g    23\n",
       "h    84\n",
       "i    48\n",
       "j    79\n",
       "k     5\n",
       "l    71\n",
       "m    27\n",
       "n    38\n",
       "o    24\n",
       "p    50\n",
       "dtype: int32"
      ]
     },
     "execution_count": 74,
     "metadata": {},
     "output_type": "execute_result"
    }
   ],
   "source": [
    "sr_data[5:16]"
   ]
  },
  {
   "cell_type": "markdown",
   "id": "ba70774b",
   "metadata": {},
   "source": [
    "<br>\n",
    "\n",
    "5. 뒤부터 5개 row 출력"
   ]
  },
  {
   "cell_type": "code",
   "execution_count": 75,
   "id": "e5efb1be",
   "metadata": {},
   "outputs": [
    {
     "data": {
      "text/plain": [
       "v    84\n",
       "w    45\n",
       "x    57\n",
       "y    66\n",
       "z    14\n",
       "dtype: int32"
      ]
     },
     "execution_count": 75,
     "metadata": {},
     "output_type": "execute_result"
    }
   ],
   "source": [
    "sr_data[-5:]"
   ]
  },
  {
   "cell_type": "markdown",
   "id": "06dbabc7",
   "metadata": {},
   "source": [
    "<br>\n",
    "\n",
    "6. `Series object`의 item 개수 출력"
   ]
  },
  {
   "cell_type": "code",
   "execution_count": 76,
   "id": "bec49d03",
   "metadata": {},
   "outputs": [
    {
     "data": {
      "text/plain": [
       "26"
      ]
     },
     "execution_count": 76,
     "metadata": {},
     "output_type": "execute_result"
    }
   ],
   "source": [
    "sr_data.size"
   ]
  },
  {
   "cell_type": "code",
   "execution_count": 77,
   "id": "25b9df07",
   "metadata": {},
   "outputs": [
    {
     "data": {
      "text/plain": [
       "26"
      ]
     },
     "execution_count": 77,
     "metadata": {},
     "output_type": "execute_result"
    }
   ],
   "source": [
    "len(sr_data)"
   ]
  },
  {
   "cell_type": "markdown",
   "id": "cbffc724",
   "metadata": {},
   "source": [
    "<br>\n",
    "\n",
    "7. item value들의 평균보다 큰 item만 출력"
   ]
  },
  {
   "cell_type": "code",
   "execution_count": 78,
   "id": "fd0c2951",
   "metadata": {},
   "outputs": [
    {
     "data": {
      "text/plain": [
       "a    78\n",
       "b    75\n",
       "e    53\n",
       "f    73\n",
       "h    84\n",
       "j    79\n",
       "l    71\n",
       "q    99\n",
       "u    61\n",
       "v    84\n",
       "x    57\n",
       "y    66\n",
       "dtype: int32"
      ]
     },
     "execution_count": 78,
     "metadata": {},
     "output_type": "execute_result"
    }
   ],
   "source": [
    "sr_data[sr_data > sr_data.values.mean()]"
   ]
  },
  {
   "cell_type": "code",
   "execution_count": 79,
   "id": "58ddb6ee",
   "metadata": {},
   "outputs": [
    {
     "data": {
      "text/plain": [
       "a    78\n",
       "b    75\n",
       "e    53\n",
       "f    73\n",
       "h    84\n",
       "j    79\n",
       "l    71\n",
       "q    99\n",
       "u    61\n",
       "v    84\n",
       "x    57\n",
       "y    66\n",
       "dtype: int32"
      ]
     },
     "execution_count": 79,
     "metadata": {},
     "output_type": "execute_result"
    }
   ],
   "source": [
    "sr_data[sr_data > sr_data.mean()]"
   ]
  },
  {
   "cell_type": "markdown",
   "id": "a22e96d0",
   "metadata": {},
   "source": [
    "<br>\n",
    "\n",
    "8. data item value 중에 `50`이 있는지 확인하여 bool type print"
   ]
  },
  {
   "cell_type": "code",
   "execution_count": 80,
   "id": "928b8e79",
   "metadata": {},
   "outputs": [
    {
     "data": {
      "text/plain": [
       "True"
      ]
     },
     "execution_count": 80,
     "metadata": {},
     "output_type": "execute_result"
    }
   ],
   "source": [
    "50 in sr_data.values"
   ]
  }
 ],
 "metadata": {
  "kernelspec": {
   "display_name": "Python 3 (ipykernel)",
   "language": "python",
   "name": "python3"
  },
  "language_info": {
   "codemirror_mode": {
    "name": "ipython",
    "version": 3
   },
   "file_extension": ".py",
   "mimetype": "text/x-python",
   "name": "python",
   "nbconvert_exporter": "python",
   "pygments_lexer": "ipython3",
   "version": "3.9.13"
  }
 },
 "nbformat": 4,
 "nbformat_minor": 5
}
