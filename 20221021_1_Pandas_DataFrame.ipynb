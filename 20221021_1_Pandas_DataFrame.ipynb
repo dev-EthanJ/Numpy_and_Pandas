{
 "cells": [
  {
   "cell_type": "markdown",
   "id": "64ddd994",
   "metadata": {},
   "source": [
    "# Pandas DataFrame 판다스 데이터프레임"
   ]
  },
  {
   "cell_type": "markdown",
   "id": "ce2c6f30",
   "metadata": {},
   "source": [
    "## DataFrame\n",
    "\n",
    "- 2차원 배열과 유사한 자료형\n",
    "\n",
    "- 다차원 `list`, `dict` 자료형으로 데이터 구성 가능\n",
    "\n",
    "- Similar data structure with relational database `table`, MS excel `.xlsx`, `.csv` file \n",
    "\n",
    "    - 하나의 `column` = 하나의 `Series` = 하나의 `row`\n",
    "\n",
    "    - 하나의 `Dataframe` = 한 개 이상의 `Series` 묶음\n",
    "\n",
    "- index 특징\n",
    "\n",
    "    - row index: 행 인덱스: `axis=0`\n",
    "    \n",
    "        - RangeIndex `int index`대신 지정한 `label index` 사용해도, `int index` 병행 사용 가능\n",
    "    \n",
    "    - column index: 열 인덱스: `axis=1`\n",
    "        \n",
    "        - 지정 `label index` 사용 시, RangeIndex `int index` 사용 불가\n",
    "        \n",
    "![df_example.PNG](https://github.com/insung-ethan-j/Numpy_and_Pandas/blob/b779370a58187754994887cca639105a8b7ff6c6/img/df_example.PNG?raw=true)"
   ]
  },
  {
   "cell_type": "code",
   "execution_count": 1,
   "id": "0e715030",
   "metadata": {},
   "outputs": [],
   "source": [
    "import pandas as pd\n",
    "import numpy as np"
   ]
  },
  {
   "cell_type": "markdown",
   "id": "d3e75280",
   "metadata": {},
   "source": [
    "## 1. DataFrame 생성\n",
    "\n",
    "- `pd.DataFrame(data)`\n",
    "\n",
    "- data: `다차원 list`, `dict`\n",
    "    \n",
    "    - `다차원 list`: item length 동일, 서로 다른 dtype 가능\n",
    "    \n",
    "    - `dict`: item length 동일, 서로 다른 dtype 가능\n",
    "    \n",
    "        - 주의사항: data type에 따라서 item length issue breakouts"
   ]
  },
  {
   "cell_type": "markdown",
   "id": "3f1a3e89",
   "metadata": {},
   "source": [
    "<br>\n",
    "\n",
    "- `DataFrame`의 `cell(tuple)`: 모든 data type 및 다양한 data type 혼합 가능\n",
    "\n",
    "    - 각 `axis`별 length 동일해야 함\n",
    "    \n",
    "<br>\n",
    "\n",
    "- 2-dim list (3 row, 4 columns): `label index` 미지정 > RangeIndex `int index` 자동 생성"
   ]
  },
  {
   "cell_type": "code",
   "execution_count": 2,
   "id": "7411d5e4",
   "metadata": {},
   "outputs": [],
   "source": [
    "list_2dim = [[1, 2, 3.5, 4],\n",
    "        ['a', 'b', 'c', 'd'],\n",
    "        [0.1, 3, 0.5, 8]]"
   ]
  },
  {
   "cell_type": "code",
   "execution_count": 3,
   "id": "aff79ff7",
   "metadata": {
    "scrolled": true
   },
   "outputs": [
    {
     "data": {
      "text/html": [
       "<div>\n",
       "<style scoped>\n",
       "    .dataframe tbody tr th:only-of-type {\n",
       "        vertical-align: middle;\n",
       "    }\n",
       "\n",
       "    .dataframe tbody tr th {\n",
       "        vertical-align: top;\n",
       "    }\n",
       "\n",
       "    .dataframe thead th {\n",
       "        text-align: right;\n",
       "    }\n",
       "</style>\n",
       "<table border=\"1\" class=\"dataframe\">\n",
       "  <thead>\n",
       "    <tr style=\"text-align: right;\">\n",
       "      <th></th>\n",
       "      <th>0</th>\n",
       "      <th>1</th>\n",
       "      <th>2</th>\n",
       "      <th>3</th>\n",
       "    </tr>\n",
       "  </thead>\n",
       "  <tbody>\n",
       "    <tr>\n",
       "      <th>0</th>\n",
       "      <td>1</td>\n",
       "      <td>2</td>\n",
       "      <td>3.5</td>\n",
       "      <td>4</td>\n",
       "    </tr>\n",
       "    <tr>\n",
       "      <th>1</th>\n",
       "      <td>a</td>\n",
       "      <td>b</td>\n",
       "      <td>c</td>\n",
       "      <td>d</td>\n",
       "    </tr>\n",
       "    <tr>\n",
       "      <th>2</th>\n",
       "      <td>0.1</td>\n",
       "      <td>3</td>\n",
       "      <td>0.5</td>\n",
       "      <td>8</td>\n",
       "    </tr>\n",
       "  </tbody>\n",
       "</table>\n",
       "</div>"
      ],
      "text/plain": [
       "     0  1    2  3\n",
       "0    1  2  3.5  4\n",
       "1    a  b    c  d\n",
       "2  0.1  3  0.5  8"
      ]
     },
     "execution_count": 3,
     "metadata": {},
     "output_type": "execute_result"
    }
   ],
   "source": [
    "df_2dim = pd.DataFrame(list_2dim)\n",
    "\n",
    "df_2dim"
   ]
  },
  {
   "cell_type": "markdown",
   "id": "89fe81ba",
   "metadata": {},
   "source": [
    "<br>\n",
    "\n",
    "- `axis`별 length가 다른 `list`\n",
    "\n",
    "    - maximum length row를 기준으로 `DataFrame` 구조 생성\n",
    "    \n",
    "    - length가 모자른 `cell`: `NaN`으로 filled"
   ]
  },
  {
   "cell_type": "code",
   "execution_count": 4,
   "id": "e32fc86a",
   "metadata": {},
   "outputs": [],
   "source": [
    "len_list = [[1, 2, 3, 4, 5],\n",
    "        ['a', 'b'],\n",
    "        [0.1, 0.2, 0.5]]"
   ]
  },
  {
   "cell_type": "code",
   "execution_count": 5,
   "id": "75e1af43",
   "metadata": {},
   "outputs": [
    {
     "data": {
      "text/html": [
       "<div>\n",
       "<style scoped>\n",
       "    .dataframe tbody tr th:only-of-type {\n",
       "        vertical-align: middle;\n",
       "    }\n",
       "\n",
       "    .dataframe tbody tr th {\n",
       "        vertical-align: top;\n",
       "    }\n",
       "\n",
       "    .dataframe thead th {\n",
       "        text-align: right;\n",
       "    }\n",
       "</style>\n",
       "<table border=\"1\" class=\"dataframe\">\n",
       "  <thead>\n",
       "    <tr style=\"text-align: right;\">\n",
       "      <th></th>\n",
       "      <th>0</th>\n",
       "      <th>1</th>\n",
       "      <th>2</th>\n",
       "      <th>3</th>\n",
       "      <th>4</th>\n",
       "    </tr>\n",
       "  </thead>\n",
       "  <tbody>\n",
       "    <tr>\n",
       "      <th>0</th>\n",
       "      <td>1</td>\n",
       "      <td>2</td>\n",
       "      <td>3.0</td>\n",
       "      <td>4.0</td>\n",
       "      <td>5.0</td>\n",
       "    </tr>\n",
       "    <tr>\n",
       "      <th>1</th>\n",
       "      <td>a</td>\n",
       "      <td>b</td>\n",
       "      <td>NaN</td>\n",
       "      <td>NaN</td>\n",
       "      <td>NaN</td>\n",
       "    </tr>\n",
       "    <tr>\n",
       "      <th>2</th>\n",
       "      <td>0.1</td>\n",
       "      <td>0.2</td>\n",
       "      <td>0.5</td>\n",
       "      <td>NaN</td>\n",
       "      <td>NaN</td>\n",
       "    </tr>\n",
       "  </tbody>\n",
       "</table>\n",
       "</div>"
      ],
      "text/plain": [
       "     0    1    2    3    4\n",
       "0    1    2  3.0  4.0  5.0\n",
       "1    a    b  NaN  NaN  NaN\n",
       "2  0.1  0.2  0.5  NaN  NaN"
      ]
     },
     "execution_count": 5,
     "metadata": {},
     "output_type": "execute_result"
    }
   ],
   "source": [
    "df_len = pd.DataFrame(len_list)\n",
    "\n",
    "df_len"
   ]
  },
  {
   "cell_type": "markdown",
   "id": "43b34124",
   "metadata": {},
   "source": [
    "<br>\n",
    "\n",
    "- `dict` data로 `DataFrame` 생성\n",
    "\n",
    "    - `dict`의 `key` value: `DataFrame`의 `columns name`으로 자동 지정\n",
    "\n",
    "    - `dict`의 `value` 내부 item 개수는 standardized 돼야 함"
   ]
  },
  {
   "cell_type": "code",
   "execution_count": 6,
   "id": "86fc8f17",
   "metadata": {
    "scrolled": false
   },
   "outputs": [
    {
     "name": "stdout",
     "output_type": "stream",
     "text": [
      "<class 'pandas.core.frame.DataFrame'>\n"
     ]
    },
    {
     "data": {
      "text/html": [
       "<div>\n",
       "<style scoped>\n",
       "    .dataframe tbody tr th:only-of-type {\n",
       "        vertical-align: middle;\n",
       "    }\n",
       "\n",
       "    .dataframe tbody tr th {\n",
       "        vertical-align: top;\n",
       "    }\n",
       "\n",
       "    .dataframe thead th {\n",
       "        text-align: right;\n",
       "    }\n",
       "</style>\n",
       "<table border=\"1\" class=\"dataframe\">\n",
       "  <thead>\n",
       "    <tr style=\"text-align: right;\">\n",
       "      <th></th>\n",
       "      <th>a</th>\n",
       "      <th>b</th>\n",
       "      <th>c</th>\n",
       "    </tr>\n",
       "  </thead>\n",
       "  <tbody>\n",
       "    <tr>\n",
       "      <th>0</th>\n",
       "      <td>10</td>\n",
       "      <td>1</td>\n",
       "      <td>5</td>\n",
       "    </tr>\n",
       "    <tr>\n",
       "      <th>1</th>\n",
       "      <td>20</td>\n",
       "      <td>2</td>\n",
       "      <td>6</td>\n",
       "    </tr>\n",
       "    <tr>\n",
       "      <th>2</th>\n",
       "      <td>30</td>\n",
       "      <td>3</td>\n",
       "      <td>7</td>\n",
       "    </tr>\n",
       "    <tr>\n",
       "      <th>3</th>\n",
       "      <td>40</td>\n",
       "      <td>4</td>\n",
       "      <td>8</td>\n",
       "    </tr>\n",
       "  </tbody>\n",
       "</table>\n",
       "</div>"
      ],
      "text/plain": [
       "    a  b  c\n",
       "0  10  1  5\n",
       "1  20  2  6\n",
       "2  30  3  7\n",
       "3  40  4  8"
      ]
     },
     "execution_count": 6,
     "metadata": {},
     "output_type": "execute_result"
    }
   ],
   "source": [
    "my_dict = {'a':[10, 20, 30, 40],\n",
    "           'b':[1, 2, 3, 4],\n",
    "           'c':[5, 6, 7, 8]}\n",
    "\n",
    "df_dict = pd.DataFrame(my_dict)\n",
    "\n",
    "print(type(df_dict))\n",
    "df_dict"
   ]
  },
  {
   "cell_type": "markdown",
   "id": "7bf92443",
   "metadata": {},
   "source": [
    "<br>\n",
    "\n",
    "- `pd.DataFrame(dict)`: 각 `key`별 매칭된 `value`의 길이가 모두 동일해야함\n",
    "    \n",
    "    - 개수가 모자란 `cell`(tuple)을 가진 `dict`로 `DataFrame` 생성: **ValueError**"
   ]
  },
  {
   "cell_type": "code",
   "execution_count": 7,
   "id": "da33a1d8",
   "metadata": {},
   "outputs": [
    {
     "data": {
      "text/plain": [
       "{'a': [10], 'b': [1, 2, 3, 4], 'c': [5, 6, 7]}"
      ]
     },
     "execution_count": 7,
     "metadata": {},
     "output_type": "execute_result"
    }
   ],
   "source": [
    "defi_dict = {'a':[10],\n",
    "        'b':[1, 2, 3, 4],\n",
    "        'c':[5, 6, 7]}\n",
    "\n",
    "defi_dict"
   ]
  },
  {
   "cell_type": "code",
   "execution_count": 8,
   "id": "fb250282",
   "metadata": {},
   "outputs": [],
   "source": [
    "# defi_df = pd.DataFrame(defi_dict)\n",
    "\n",
    "# ValueError: All arrays must be of the same length"
   ]
  },
  {
   "cell_type": "markdown",
   "id": "c684d1db",
   "metadata": {},
   "source": [
    "<br>\n",
    "\n",
    "- `dict` 아닌 data type이라도 > `row index`, `columns index` 지정 가능\n",
    "    \n",
    "    - `index` 지정 DataFrame 생성   \n",
    "    :`pd.DataFrame()`optional parameter `index=[]`, `columns=[]`\n",
    "\n",
    "\n",
    "- `columns=` parameter: columns index name 지정:   \n",
    "  \\> columns 개수와 동일한 length를 가진 list 전달\n",
    "\n",
    "\n",
    "- `index=` parameter: row index name 지정:   \n",
    "  \\> row 개수와 동일한 length를 가진 list 전달"
   ]
  },
  {
   "cell_type": "code",
   "execution_count": 9,
   "id": "dbd97352",
   "metadata": {},
   "outputs": [
    {
     "data": {
      "text/plain": [
       "[[1, 2, 3.5, 4], ['a', 'b', 'c', 'd'], [0.1, 3, 0.5, 8]]"
      ]
     },
     "execution_count": 9,
     "metadata": {},
     "output_type": "execute_result"
    }
   ],
   "source": [
    "list_2dim"
   ]
  },
  {
   "cell_type": "code",
   "execution_count": 10,
   "id": "b558fded",
   "metadata": {},
   "outputs": [
    {
     "data": {
      "text/html": [
       "<div>\n",
       "<style scoped>\n",
       "    .dataframe tbody tr th:only-of-type {\n",
       "        vertical-align: middle;\n",
       "    }\n",
       "\n",
       "    .dataframe tbody tr th {\n",
       "        vertical-align: top;\n",
       "    }\n",
       "\n",
       "    .dataframe thead th {\n",
       "        text-align: right;\n",
       "    }\n",
       "</style>\n",
       "<table border=\"1\" class=\"dataframe\">\n",
       "  <thead>\n",
       "    <tr style=\"text-align: right;\">\n",
       "      <th></th>\n",
       "      <th>c1</th>\n",
       "      <th>c2</th>\n",
       "      <th>c3</th>\n",
       "      <th>c4</th>\n",
       "    </tr>\n",
       "  </thead>\n",
       "  <tbody>\n",
       "    <tr>\n",
       "      <th>r1</th>\n",
       "      <td>1</td>\n",
       "      <td>2</td>\n",
       "      <td>3.5</td>\n",
       "      <td>4</td>\n",
       "    </tr>\n",
       "    <tr>\n",
       "      <th>r2</th>\n",
       "      <td>a</td>\n",
       "      <td>b</td>\n",
       "      <td>c</td>\n",
       "      <td>d</td>\n",
       "    </tr>\n",
       "    <tr>\n",
       "      <th>r3</th>\n",
       "      <td>0.1</td>\n",
       "      <td>3</td>\n",
       "      <td>0.5</td>\n",
       "      <td>8</td>\n",
       "    </tr>\n",
       "  </tbody>\n",
       "</table>\n",
       "</div>"
      ],
      "text/plain": [
       "     c1 c2   c3 c4\n",
       "r1    1  2  3.5  4\n",
       "r2    a  b    c  d\n",
       "r3  0.1  3  0.5  8"
      ]
     },
     "execution_count": 10,
     "metadata": {},
     "output_type": "execute_result"
    }
   ],
   "source": [
    "df_index = pd.DataFrame(list_2dim,\n",
    "                   index=['r1', 'r2', 'r3'],\n",
    "                   columns=['c1', 'c2', 'c3', 'c4'])\n",
    "\n",
    "df_index"
   ]
  },
  {
   "cell_type": "markdown",
   "id": "b7877a63",
   "metadata": {},
   "source": [
    "<br>\n",
    "\n",
    "- `dict`로 `DataFrame` 생성: `column`(key) 순서 변경, `row index` 지정해서 생성 가능"
   ]
  },
  {
   "cell_type": "code",
   "execution_count": 11,
   "id": "5407928c",
   "metadata": {},
   "outputs": [
    {
     "data": {
      "text/plain": [
       "{'a': [10, 20, 30, 40], 'b': [1, 2, 3, 4], 'c': [5, 6, 7, 8]}"
      ]
     },
     "execution_count": 11,
     "metadata": {},
     "output_type": "execute_result"
    }
   ],
   "source": [
    "my_dict"
   ]
  },
  {
   "cell_type": "code",
   "execution_count": 12,
   "id": "7ffabcc1",
   "metadata": {},
   "outputs": [
    {
     "data": {
      "text/html": [
       "<div>\n",
       "<style scoped>\n",
       "    .dataframe tbody tr th:only-of-type {\n",
       "        vertical-align: middle;\n",
       "    }\n",
       "\n",
       "    .dataframe tbody tr th {\n",
       "        vertical-align: top;\n",
       "    }\n",
       "\n",
       "    .dataframe thead th {\n",
       "        text-align: right;\n",
       "    }\n",
       "</style>\n",
       "<table border=\"1\" class=\"dataframe\">\n",
       "  <thead>\n",
       "    <tr style=\"text-align: right;\">\n",
       "      <th></th>\n",
       "      <th>c</th>\n",
       "      <th>b</th>\n",
       "      <th>a</th>\n",
       "    </tr>\n",
       "  </thead>\n",
       "  <tbody>\n",
       "    <tr>\n",
       "      <th>r</th>\n",
       "      <td>5</td>\n",
       "      <td>1</td>\n",
       "      <td>10</td>\n",
       "    </tr>\n",
       "    <tr>\n",
       "      <th>o</th>\n",
       "      <td>6</td>\n",
       "      <td>2</td>\n",
       "      <td>20</td>\n",
       "    </tr>\n",
       "    <tr>\n",
       "      <th>w</th>\n",
       "      <td>7</td>\n",
       "      <td>3</td>\n",
       "      <td>30</td>\n",
       "    </tr>\n",
       "    <tr>\n",
       "      <th>s</th>\n",
       "      <td>8</td>\n",
       "      <td>4</td>\n",
       "      <td>40</td>\n",
       "    </tr>\n",
       "  </tbody>\n",
       "</table>\n",
       "</div>"
      ],
      "text/plain": [
       "   c  b   a\n",
       "r  5  1  10\n",
       "o  6  2  20\n",
       "w  7  3  30\n",
       "s  8  4  40"
      ]
     },
     "execution_count": 12,
     "metadata": {},
     "output_type": "execute_result"
    }
   ],
   "source": [
    "df_order = pd.DataFrame(my_dict, index=list('rows'), columns=list('cba'))\n",
    "\n",
    "df_order"
   ]
  },
  {
   "cell_type": "markdown",
   "id": "857c941c",
   "metadata": {},
   "source": [
    "<br>\n",
    "\n",
    "- parameter `columns=[]`: data에 없거나 더 많은 columns name `list`전달\n",
    "    \n",
    "    - 새로운 columns name으로 column 생성, `NaN` value filled"
   ]
  },
  {
   "cell_type": "code",
   "execution_count": 13,
   "id": "88163271",
   "metadata": {},
   "outputs": [
    {
     "data": {
      "text/html": [
       "<div>\n",
       "<style scoped>\n",
       "    .dataframe tbody tr th:only-of-type {\n",
       "        vertical-align: middle;\n",
       "    }\n",
       "\n",
       "    .dataframe tbody tr th {\n",
       "        vertical-align: top;\n",
       "    }\n",
       "\n",
       "    .dataframe thead th {\n",
       "        text-align: right;\n",
       "    }\n",
       "</style>\n",
       "<table border=\"1\" class=\"dataframe\">\n",
       "  <thead>\n",
       "    <tr style=\"text-align: right;\">\n",
       "      <th></th>\n",
       "      <th>a</th>\n",
       "      <th>b</th>\n",
       "      <th>c</th>\n",
       "      <th>d</th>\n",
       "    </tr>\n",
       "  </thead>\n",
       "  <tbody>\n",
       "    <tr>\n",
       "      <th>0</th>\n",
       "      <td>10</td>\n",
       "      <td>1</td>\n",
       "      <td>5</td>\n",
       "      <td>NaN</td>\n",
       "    </tr>\n",
       "    <tr>\n",
       "      <th>1</th>\n",
       "      <td>20</td>\n",
       "      <td>2</td>\n",
       "      <td>6</td>\n",
       "      <td>NaN</td>\n",
       "    </tr>\n",
       "    <tr>\n",
       "      <th>2</th>\n",
       "      <td>30</td>\n",
       "      <td>3</td>\n",
       "      <td>7</td>\n",
       "      <td>NaN</td>\n",
       "    </tr>\n",
       "    <tr>\n",
       "      <th>3</th>\n",
       "      <td>40</td>\n",
       "      <td>4</td>\n",
       "      <td>8</td>\n",
       "      <td>NaN</td>\n",
       "    </tr>\n",
       "  </tbody>\n",
       "</table>\n",
       "</div>"
      ],
      "text/plain": [
       "    a  b  c    d\n",
       "0  10  1  5  NaN\n",
       "1  20  2  6  NaN\n",
       "2  30  3  7  NaN\n",
       "3  40  4  8  NaN"
      ]
     },
     "execution_count": 13,
     "metadata": {},
     "output_type": "execute_result"
    }
   ],
   "source": [
    "new_df = pd.DataFrame(my_dict, columns=list('abcd'))\n",
    "\n",
    "new_df"
   ]
  },
  {
   "cell_type": "markdown",
   "id": "0ed3a75b",
   "metadata": {},
   "source": [
    "<br>\n",
    "\n",
    "- `dict` data row 개수(`key`별 `value`의 item 개수) $\\ne$ `index=[]` list item 개수\n",
    "\n",
    "   \\> **Value Error**"
   ]
  },
  {
   "cell_type": "code",
   "execution_count": 14,
   "id": "dab67433",
   "metadata": {},
   "outputs": [
    {
     "data": {
      "text/plain": [
       "{'a': [10, 20, 30, 40], 'b': [1, 2, 3, 4], 'c': [5, 6, 7, 8]}"
      ]
     },
     "execution_count": 14,
     "metadata": {},
     "output_type": "execute_result"
    }
   ],
   "source": [
    "my_dict"
   ]
  },
  {
   "cell_type": "code",
   "execution_count": 15,
   "id": "38f5dbab",
   "metadata": {},
   "outputs": [],
   "source": [
    "# df_item = pd.DataFrame(my_dict, index=list('qwerty'))\n",
    "\n",
    "# ValueError: Length of values (4) does not match length of index (6)"
   ]
  },
  {
   "cell_type": "markdown",
   "id": "5cf1ab3e",
   "metadata": {},
   "source": [
    "## 2. `DataFrame` 속성\n",
    "\n",
    "- 속성은 소괄호를 붙이지 않음\n",
    "\n",
    "    1. `df.index`: df 객체의 행 인덱스 배열을 반환\n",
    "\n",
    "    2. `df.columns`: df 객체의 열 인덱스 배열을 반환\n",
    "\n",
    "    3. `df.axes`: df 객체의 행, 열 인덱스를 아이템으로 가지는 배열을 반환\n",
    "\n",
    "    4. `df.values`: df 객체의 data(value)를 아이템으로 가지는 2차원 배열을 반환\n",
    "\n",
    "    5. `df.dtypes`: df 객체의 item data type을 columns 기준으로 반환\n",
    "\n",
    "    6. `df.size`: df 객체의 item data 개수(길이)를 반환\n",
    "\n",
    "    7. `df.shape`: df 객체의 shape`(axis=0,axis=1, ..., axis=n-1)`를 반환\n",
    "\n",
    "    8. `df.T` : 행과 열이 교환된 DataFrame 반환(transposed)\n",
    "    \n",
    "<br>\n",
    "\n",
    "- `dict` to `DataFrame`\n",
    "\n",
    "- 지역별 연도별 유입 인구"
   ]
  },
  {
   "cell_type": "code",
   "execution_count": 16,
   "id": "aa85be4e",
   "metadata": {},
   "outputs": [
    {
     "data": {
      "text/html": [
       "<div>\n",
       "<style scoped>\n",
       "    .dataframe tbody tr th:only-of-type {\n",
       "        vertical-align: middle;\n",
       "    }\n",
       "\n",
       "    .dataframe tbody tr th {\n",
       "        vertical-align: top;\n",
       "    }\n",
       "\n",
       "    .dataframe thead th {\n",
       "        text-align: right;\n",
       "    }\n",
       "</style>\n",
       "<table border=\"1\" class=\"dataframe\">\n",
       "  <thead>\n",
       "    <tr style=\"text-align: right;\">\n",
       "      <th></th>\n",
       "      <th>서울</th>\n",
       "      <th>경기</th>\n",
       "      <th>충청</th>\n",
       "      <th>경상</th>\n",
       "      <th>전라</th>\n",
       "    </tr>\n",
       "  </thead>\n",
       "  <tbody>\n",
       "    <tr>\n",
       "      <th>0</th>\n",
       "      <td>150</td>\n",
       "      <td>200</td>\n",
       "      <td>-10</td>\n",
       "      <td>10</td>\n",
       "      <td>5</td>\n",
       "    </tr>\n",
       "    <tr>\n",
       "      <th>1</th>\n",
       "      <td>180</td>\n",
       "      <td>240</td>\n",
       "      <td>3</td>\n",
       "      <td>20</td>\n",
       "      <td>6</td>\n",
       "    </tr>\n",
       "    <tr>\n",
       "      <th>2</th>\n",
       "      <td>300</td>\n",
       "      <td>450</td>\n",
       "      <td>-13</td>\n",
       "      <td>30</td>\n",
       "      <td>7</td>\n",
       "    </tr>\n",
       "  </tbody>\n",
       "</table>\n",
       "</div>"
      ],
      "text/plain": [
       "    서울   경기  충청  경상  전라\n",
       "0  150  200 -10  10   5\n",
       "1  180  240   3  20   6\n",
       "2  300  450 -13  30   7"
      ]
     },
     "execution_count": 16,
     "metadata": {},
     "output_type": "execute_result"
    }
   ],
   "source": [
    "pop_data = {'서울':[150, 180, 300],\n",
    "            '경기':[200, 240, 450],\n",
    "            '충청':[-10, 3, -13],\n",
    "            '경상':[10, 20, 30],\n",
    "            '전라':[5, 6, 7]\n",
    "           }\n",
    "\n",
    "pop_sample = pd.DataFrame(pop_data)\n",
    "pop_sample"
   ]
  },
  {
   "cell_type": "markdown",
   "id": "228d6b8d",
   "metadata": {},
   "source": [
    "<br>\n",
    "\n",
    "`DataFrame` 속성\n",
    "\n",
    "1. `df.index`: df객체의 row index array 반환\n",
    "\n",
    "    - `row index` 설정: row 개수와 동일한 item 가지는 `list`로 전달"
   ]
  },
  {
   "cell_type": "code",
   "execution_count": 17,
   "id": "e3168f36",
   "metadata": {},
   "outputs": [
    {
     "data": {
      "text/html": [
       "<div>\n",
       "<style scoped>\n",
       "    .dataframe tbody tr th:only-of-type {\n",
       "        vertical-align: middle;\n",
       "    }\n",
       "\n",
       "    .dataframe tbody tr th {\n",
       "        vertical-align: top;\n",
       "    }\n",
       "\n",
       "    .dataframe thead th {\n",
       "        text-align: right;\n",
       "    }\n",
       "</style>\n",
       "<table border=\"1\" class=\"dataframe\">\n",
       "  <thead>\n",
       "    <tr style=\"text-align: right;\">\n",
       "      <th></th>\n",
       "      <th>서울</th>\n",
       "      <th>경기</th>\n",
       "      <th>충청</th>\n",
       "      <th>경상</th>\n",
       "      <th>전라</th>\n",
       "    </tr>\n",
       "  </thead>\n",
       "  <tbody>\n",
       "    <tr>\n",
       "      <th>2016</th>\n",
       "      <td>150</td>\n",
       "      <td>200</td>\n",
       "      <td>-10</td>\n",
       "      <td>10</td>\n",
       "      <td>5</td>\n",
       "    </tr>\n",
       "    <tr>\n",
       "      <th>2017</th>\n",
       "      <td>180</td>\n",
       "      <td>240</td>\n",
       "      <td>3</td>\n",
       "      <td>20</td>\n",
       "      <td>6</td>\n",
       "    </tr>\n",
       "    <tr>\n",
       "      <th>2018</th>\n",
       "      <td>300</td>\n",
       "      <td>450</td>\n",
       "      <td>-13</td>\n",
       "      <td>30</td>\n",
       "      <td>7</td>\n",
       "    </tr>\n",
       "  </tbody>\n",
       "</table>\n",
       "</div>"
      ],
      "text/plain": [
       "       서울   경기  충청  경상  전라\n",
       "2016  150  200 -10  10   5\n",
       "2017  180  240   3  20   6\n",
       "2018  300  450 -13  30   7"
      ]
     },
     "execution_count": 17,
     "metadata": {},
     "output_type": "execute_result"
    }
   ],
   "source": [
    "year_list= [2016, 2017, 2018]\n",
    "pop_sample.index = year_list\n",
    "\n",
    "pop_sample"
   ]
  },
  {
   "cell_type": "markdown",
   "id": "853fd7a9",
   "metadata": {},
   "source": [
    "<br>\n",
    "\n",
    "- `row index` 이름 지정: `df.index.name = 'name'`"
   ]
  },
  {
   "cell_type": "code",
   "execution_count": 18,
   "id": "fec1e99c",
   "metadata": {},
   "outputs": [
    {
     "data": {
      "text/html": [
       "<div>\n",
       "<style scoped>\n",
       "    .dataframe tbody tr th:only-of-type {\n",
       "        vertical-align: middle;\n",
       "    }\n",
       "\n",
       "    .dataframe tbody tr th {\n",
       "        vertical-align: top;\n",
       "    }\n",
       "\n",
       "    .dataframe thead th {\n",
       "        text-align: right;\n",
       "    }\n",
       "</style>\n",
       "<table border=\"1\" class=\"dataframe\">\n",
       "  <thead>\n",
       "    <tr style=\"text-align: right;\">\n",
       "      <th></th>\n",
       "      <th>서울</th>\n",
       "      <th>경기</th>\n",
       "      <th>충청</th>\n",
       "      <th>경상</th>\n",
       "      <th>전라</th>\n",
       "    </tr>\n",
       "    <tr>\n",
       "      <th>year</th>\n",
       "      <th></th>\n",
       "      <th></th>\n",
       "      <th></th>\n",
       "      <th></th>\n",
       "      <th></th>\n",
       "    </tr>\n",
       "  </thead>\n",
       "  <tbody>\n",
       "    <tr>\n",
       "      <th>2016</th>\n",
       "      <td>150</td>\n",
       "      <td>200</td>\n",
       "      <td>-10</td>\n",
       "      <td>10</td>\n",
       "      <td>5</td>\n",
       "    </tr>\n",
       "    <tr>\n",
       "      <th>2017</th>\n",
       "      <td>180</td>\n",
       "      <td>240</td>\n",
       "      <td>3</td>\n",
       "      <td>20</td>\n",
       "      <td>6</td>\n",
       "    </tr>\n",
       "    <tr>\n",
       "      <th>2018</th>\n",
       "      <td>300</td>\n",
       "      <td>450</td>\n",
       "      <td>-13</td>\n",
       "      <td>30</td>\n",
       "      <td>7</td>\n",
       "    </tr>\n",
       "  </tbody>\n",
       "</table>\n",
       "</div>"
      ],
      "text/plain": [
       "       서울   경기  충청  경상  전라\n",
       "year                      \n",
       "2016  150  200 -10  10   5\n",
       "2017  180  240   3  20   6\n",
       "2018  300  450 -13  30   7"
      ]
     },
     "execution_count": 18,
     "metadata": {},
     "output_type": "execute_result"
    }
   ],
   "source": [
    "pop_sample.index.name = 'year'\n",
    "\n",
    "pop_sample"
   ]
  },
  {
   "cell_type": "markdown",
   "id": "a9ae4366",
   "metadata": {},
   "source": [
    "<br>\n",
    "\n",
    "`DataFrame` 속성\n",
    "\n",
    "2. `df.columns`: `columns index` 추출"
   ]
  },
  {
   "cell_type": "code",
   "execution_count": 19,
   "id": "4b455b32",
   "metadata": {},
   "outputs": [
    {
     "data": {
      "text/plain": [
       "Index(['서울', '경기', '충청', '경상', '전라'], dtype='object')"
      ]
     },
     "execution_count": 19,
     "metadata": {},
     "output_type": "execute_result"
    }
   ],
   "source": [
    "pop_sample.columns"
   ]
  },
  {
   "cell_type": "markdown",
   "id": "9828a548",
   "metadata": {},
   "source": [
    "<br>\n",
    "\n",
    "- `columns index` identifier 지정: `df.columns.name = 'name'`"
   ]
  },
  {
   "cell_type": "code",
   "execution_count": 20,
   "id": "a46c4441",
   "metadata": {},
   "outputs": [
    {
     "data": {
      "text/html": [
       "<div>\n",
       "<style scoped>\n",
       "    .dataframe tbody tr th:only-of-type {\n",
       "        vertical-align: middle;\n",
       "    }\n",
       "\n",
       "    .dataframe tbody tr th {\n",
       "        vertical-align: top;\n",
       "    }\n",
       "\n",
       "    .dataframe thead th {\n",
       "        text-align: right;\n",
       "    }\n",
       "</style>\n",
       "<table border=\"1\" class=\"dataframe\">\n",
       "  <thead>\n",
       "    <tr style=\"text-align: right;\">\n",
       "      <th>location</th>\n",
       "      <th>서울</th>\n",
       "      <th>경기</th>\n",
       "      <th>충청</th>\n",
       "      <th>경상</th>\n",
       "      <th>전라</th>\n",
       "    </tr>\n",
       "    <tr>\n",
       "      <th>year</th>\n",
       "      <th></th>\n",
       "      <th></th>\n",
       "      <th></th>\n",
       "      <th></th>\n",
       "      <th></th>\n",
       "    </tr>\n",
       "  </thead>\n",
       "  <tbody>\n",
       "    <tr>\n",
       "      <th>2016</th>\n",
       "      <td>150</td>\n",
       "      <td>200</td>\n",
       "      <td>-10</td>\n",
       "      <td>10</td>\n",
       "      <td>5</td>\n",
       "    </tr>\n",
       "    <tr>\n",
       "      <th>2017</th>\n",
       "      <td>180</td>\n",
       "      <td>240</td>\n",
       "      <td>3</td>\n",
       "      <td>20</td>\n",
       "      <td>6</td>\n",
       "    </tr>\n",
       "    <tr>\n",
       "      <th>2018</th>\n",
       "      <td>300</td>\n",
       "      <td>450</td>\n",
       "      <td>-13</td>\n",
       "      <td>30</td>\n",
       "      <td>7</td>\n",
       "    </tr>\n",
       "  </tbody>\n",
       "</table>\n",
       "</div>"
      ],
      "text/plain": [
       "location   서울   경기  충청  경상  전라\n",
       "year                          \n",
       "2016      150  200 -10  10   5\n",
       "2017      180  240   3  20   6\n",
       "2018      300  450 -13  30   7"
      ]
     },
     "execution_count": 20,
     "metadata": {},
     "output_type": "execute_result"
    }
   ],
   "source": [
    "pop_sample.columns.name = 'location'\n",
    "\n",
    "pop_sample"
   ]
  },
  {
   "cell_type": "markdown",
   "id": "28e44fc1",
   "metadata": {},
   "source": [
    "<br>\n",
    "\n",
    "- row index modify\n",
    "\n",
    "- `df.index`속성값 활용\n",
    "\n",
    "    1. row의 개수와 동일한 `list`를 전달\n",
    "    \n",
    "    2. 속성값 `df.index`로 사용하는 인덱스 객체는 하나의 item만 수정 불가. 전체 전달"
   ]
  },
  {
   "cell_type": "code",
   "execution_count": 21,
   "id": "5d5add02",
   "metadata": {},
   "outputs": [
    {
     "data": {
      "text/html": [
       "<div>\n",
       "<style scoped>\n",
       "    .dataframe tbody tr th:only-of-type {\n",
       "        vertical-align: middle;\n",
       "    }\n",
       "\n",
       "    .dataframe tbody tr th {\n",
       "        vertical-align: top;\n",
       "    }\n",
       "\n",
       "    .dataframe thead th {\n",
       "        text-align: right;\n",
       "    }\n",
       "</style>\n",
       "<table border=\"1\" class=\"dataframe\">\n",
       "  <thead>\n",
       "    <tr style=\"text-align: right;\">\n",
       "      <th>location</th>\n",
       "      <th>서울</th>\n",
       "      <th>경기</th>\n",
       "      <th>충청</th>\n",
       "      <th>경상</th>\n",
       "      <th>전라</th>\n",
       "    </tr>\n",
       "  </thead>\n",
       "  <tbody>\n",
       "    <tr>\n",
       "      <th>1998</th>\n",
       "      <td>150</td>\n",
       "      <td>200</td>\n",
       "      <td>-10</td>\n",
       "      <td>10</td>\n",
       "      <td>5</td>\n",
       "    </tr>\n",
       "    <tr>\n",
       "      <th>1999</th>\n",
       "      <td>180</td>\n",
       "      <td>240</td>\n",
       "      <td>3</td>\n",
       "      <td>20</td>\n",
       "      <td>6</td>\n",
       "    </tr>\n",
       "    <tr>\n",
       "      <th>2000</th>\n",
       "      <td>300</td>\n",
       "      <td>450</td>\n",
       "      <td>-13</td>\n",
       "      <td>30</td>\n",
       "      <td>7</td>\n",
       "    </tr>\n",
       "  </tbody>\n",
       "</table>\n",
       "</div>"
      ],
      "text/plain": [
       "location   서울   경기  충청  경상  전라\n",
       "1998      150  200 -10  10   5\n",
       "1999      180  240   3  20   6\n",
       "2000      300  450 -13  30   7"
      ]
     },
     "execution_count": 21,
     "metadata": {},
     "output_type": "execute_result"
    }
   ],
   "source": [
    "pop_sample.index = [1998, 1999, 2000]\n",
    "\n",
    "pop_sample"
   ]
  },
  {
   "cell_type": "markdown",
   "id": "c868cff9",
   "metadata": {},
   "source": [
    "<br>\n",
    "\n",
    "**Index modification**\n",
    "\n",
    "- DataFrame method: `df.rename(data, axis=0)`\n",
    "    \n",
    "    - `axis`: default: `axis=0` = row index = `df.index`\n",
    "\n",
    "        - column index에 대한 수정: `axis=1` or `axis='columns'`\n",
    "\n",
    "    - data: `dict` type, `{'기존 인덱스명':'바꿀 인덱스명'}`\n",
    "\n",
    "    - optional parameter `inplace=`: default: `inplace=False`: 수행한 결과 반환, 원본 적용 X\n",
    "\n",
    "        - `inplace=True` > 바뀐 결과 바로 적용"
   ]
  },
  {
   "cell_type": "code",
   "execution_count": 22,
   "id": "b4e14d73",
   "metadata": {},
   "outputs": [
    {
     "data": {
      "text/html": [
       "<div>\n",
       "<style scoped>\n",
       "    .dataframe tbody tr th:only-of-type {\n",
       "        vertical-align: middle;\n",
       "    }\n",
       "\n",
       "    .dataframe tbody tr th {\n",
       "        vertical-align: top;\n",
       "    }\n",
       "\n",
       "    .dataframe thead th {\n",
       "        text-align: right;\n",
       "    }\n",
       "</style>\n",
       "<table border=\"1\" class=\"dataframe\">\n",
       "  <thead>\n",
       "    <tr style=\"text-align: right;\">\n",
       "      <th>location</th>\n",
       "      <th>서울</th>\n",
       "      <th>경기</th>\n",
       "      <th>충청</th>\n",
       "      <th>경상</th>\n",
       "      <th>전라</th>\n",
       "    </tr>\n",
       "  </thead>\n",
       "  <tbody>\n",
       "    <tr>\n",
       "      <th>1990</th>\n",
       "      <td>150</td>\n",
       "      <td>200</td>\n",
       "      <td>-10</td>\n",
       "      <td>10</td>\n",
       "      <td>5</td>\n",
       "    </tr>\n",
       "    <tr>\n",
       "      <th>1999</th>\n",
       "      <td>180</td>\n",
       "      <td>240</td>\n",
       "      <td>3</td>\n",
       "      <td>20</td>\n",
       "      <td>6</td>\n",
       "    </tr>\n",
       "    <tr>\n",
       "      <th>2000</th>\n",
       "      <td>300</td>\n",
       "      <td>450</td>\n",
       "      <td>-13</td>\n",
       "      <td>30</td>\n",
       "      <td>7</td>\n",
       "    </tr>\n",
       "  </tbody>\n",
       "</table>\n",
       "</div>"
      ],
      "text/plain": [
       "location   서울   경기  충청  경상  전라\n",
       "1990      150  200 -10  10   5\n",
       "1999      180  240   3  20   6\n",
       "2000      300  450 -13  30   7"
      ]
     },
     "execution_count": 22,
     "metadata": {},
     "output_type": "execute_result"
    }
   ],
   "source": [
    "pop_sample.rename({1998:1990})"
   ]
  },
  {
   "cell_type": "code",
   "execution_count": 23,
   "id": "c4779fa1",
   "metadata": {},
   "outputs": [
    {
     "data": {
      "text/html": [
       "<div>\n",
       "<style scoped>\n",
       "    .dataframe tbody tr th:only-of-type {\n",
       "        vertical-align: middle;\n",
       "    }\n",
       "\n",
       "    .dataframe tbody tr th {\n",
       "        vertical-align: top;\n",
       "    }\n",
       "\n",
       "    .dataframe thead th {\n",
       "        text-align: right;\n",
       "    }\n",
       "</style>\n",
       "<table border=\"1\" class=\"dataframe\">\n",
       "  <thead>\n",
       "    <tr style=\"text-align: right;\">\n",
       "      <th>location</th>\n",
       "      <th>서울</th>\n",
       "      <th>경기</th>\n",
       "      <th>충청</th>\n",
       "      <th>경상</th>\n",
       "      <th>전라</th>\n",
       "    </tr>\n",
       "  </thead>\n",
       "  <tbody>\n",
       "    <tr>\n",
       "      <th>1998</th>\n",
       "      <td>150</td>\n",
       "      <td>200</td>\n",
       "      <td>-10</td>\n",
       "      <td>10</td>\n",
       "      <td>5</td>\n",
       "    </tr>\n",
       "    <tr>\n",
       "      <th>1999</th>\n",
       "      <td>180</td>\n",
       "      <td>240</td>\n",
       "      <td>3</td>\n",
       "      <td>20</td>\n",
       "      <td>6</td>\n",
       "    </tr>\n",
       "    <tr>\n",
       "      <th>2000</th>\n",
       "      <td>300</td>\n",
       "      <td>450</td>\n",
       "      <td>-13</td>\n",
       "      <td>30</td>\n",
       "      <td>7</td>\n",
       "    </tr>\n",
       "  </tbody>\n",
       "</table>\n",
       "</div>"
      ],
      "text/plain": [
       "location   서울   경기  충청  경상  전라\n",
       "1998      150  200 -10  10   5\n",
       "1999      180  240   3  20   6\n",
       "2000      300  450 -13  30   7"
      ]
     },
     "execution_count": 23,
     "metadata": {},
     "output_type": "execute_result"
    }
   ],
   "source": [
    "pop_sample"
   ]
  },
  {
   "cell_type": "markdown",
   "id": "5254b4e1",
   "metadata": {},
   "source": [
    "<br>\n",
    "\n",
    "- 열 인덱스(column) 변경: `axis=1` or `axis=columns`\n",
    "\n",
    "- `inplace=False` (default): 원본 변경 X"
   ]
  },
  {
   "cell_type": "code",
   "execution_count": 24,
   "id": "57e87c37",
   "metadata": {},
   "outputs": [
    {
     "data": {
      "text/html": [
       "<div>\n",
       "<style scoped>\n",
       "    .dataframe tbody tr th:only-of-type {\n",
       "        vertical-align: middle;\n",
       "    }\n",
       "\n",
       "    .dataframe tbody tr th {\n",
       "        vertical-align: top;\n",
       "    }\n",
       "\n",
       "    .dataframe thead th {\n",
       "        text-align: right;\n",
       "    }\n",
       "</style>\n",
       "<table border=\"1\" class=\"dataframe\">\n",
       "  <thead>\n",
       "    <tr style=\"text-align: right;\">\n",
       "      <th>location</th>\n",
       "      <th>서울</th>\n",
       "      <th>경기</th>\n",
       "      <th>충청</th>\n",
       "      <th>경상</th>\n",
       "      <th>제주</th>\n",
       "    </tr>\n",
       "  </thead>\n",
       "  <tbody>\n",
       "    <tr>\n",
       "      <th>1998</th>\n",
       "      <td>150</td>\n",
       "      <td>200</td>\n",
       "      <td>-10</td>\n",
       "      <td>10</td>\n",
       "      <td>5</td>\n",
       "    </tr>\n",
       "    <tr>\n",
       "      <th>1999</th>\n",
       "      <td>180</td>\n",
       "      <td>240</td>\n",
       "      <td>3</td>\n",
       "      <td>20</td>\n",
       "      <td>6</td>\n",
       "    </tr>\n",
       "    <tr>\n",
       "      <th>2000</th>\n",
       "      <td>300</td>\n",
       "      <td>450</td>\n",
       "      <td>-13</td>\n",
       "      <td>30</td>\n",
       "      <td>7</td>\n",
       "    </tr>\n",
       "  </tbody>\n",
       "</table>\n",
       "</div>"
      ],
      "text/plain": [
       "location   서울   경기  충청  경상  제주\n",
       "1998      150  200 -10  10   5\n",
       "1999      180  240   3  20   6\n",
       "2000      300  450 -13  30   7"
      ]
     },
     "execution_count": 24,
     "metadata": {},
     "output_type": "execute_result"
    }
   ],
   "source": [
    "pop_sample.rename({\"전라\":\"제주\"}, axis=1)"
   ]
  },
  {
   "cell_type": "markdown",
   "id": "d258da00",
   "metadata": {},
   "source": [
    "<br>\n",
    "\n",
    "`DataFrame` 속성\n",
    "\n",
    "3. `df.axes`: df 객체의 행, 열 인덱스를 아이템으로 가지는 배열을 반환\n",
    "\n",
    "    - return list: 첫 번째 item = row index, 두 번째 item = columns index"
   ]
  },
  {
   "cell_type": "code",
   "execution_count": 25,
   "id": "0c989aca",
   "metadata": {},
   "outputs": [
    {
     "data": {
      "text/plain": [
       "[Int64Index([1998, 1999, 2000], dtype='int64'),\n",
       " Index(['서울', '경기', '충청', '경상', '전라'], dtype='object', name='location')]"
      ]
     },
     "execution_count": 25,
     "metadata": {},
     "output_type": "execute_result"
    }
   ],
   "source": [
    "pop_sample.axes"
   ]
  },
  {
   "cell_type": "markdown",
   "id": "4303c0a3",
   "metadata": {},
   "source": [
    "<br>\n",
    "\n",
    "- `df.reset_index(drop=False)`: row index를 일괄 변경\n",
    "\n",
    "- optional parameter: `drop`\n",
    "    \n",
    "    - default `drop=False`: 기존 \"row index\" data > 새로운 cloumn index \"index\"으로 넘김, RangeIndex `int index` 자동 생성\n",
    "    \n",
    "    - `drop=True`: 기존 \"row index\" 삭제, RangeIndex `int index` 자동 생성\n",
    "    \n",
    "\n",
    "- `drop`속성 documentation:  https://pandas.pydata.org/docs/reference/api/pandas.DataFrame.reset_index.html?highlight=reset_index"
   ]
  },
  {
   "cell_type": "code",
   "execution_count": 26,
   "id": "442292e8",
   "metadata": {
    "scrolled": true
   },
   "outputs": [
    {
     "data": {
      "text/html": [
       "<div>\n",
       "<style scoped>\n",
       "    .dataframe tbody tr th:only-of-type {\n",
       "        vertical-align: middle;\n",
       "    }\n",
       "\n",
       "    .dataframe tbody tr th {\n",
       "        vertical-align: top;\n",
       "    }\n",
       "\n",
       "    .dataframe thead th {\n",
       "        text-align: right;\n",
       "    }\n",
       "</style>\n",
       "<table border=\"1\" class=\"dataframe\">\n",
       "  <thead>\n",
       "    <tr style=\"text-align: right;\">\n",
       "      <th>location</th>\n",
       "      <th>index</th>\n",
       "      <th>서울</th>\n",
       "      <th>경기</th>\n",
       "      <th>충청</th>\n",
       "      <th>경상</th>\n",
       "      <th>전라</th>\n",
       "    </tr>\n",
       "  </thead>\n",
       "  <tbody>\n",
       "    <tr>\n",
       "      <th>0</th>\n",
       "      <td>1998</td>\n",
       "      <td>150</td>\n",
       "      <td>200</td>\n",
       "      <td>-10</td>\n",
       "      <td>10</td>\n",
       "      <td>5</td>\n",
       "    </tr>\n",
       "    <tr>\n",
       "      <th>1</th>\n",
       "      <td>1999</td>\n",
       "      <td>180</td>\n",
       "      <td>240</td>\n",
       "      <td>3</td>\n",
       "      <td>20</td>\n",
       "      <td>6</td>\n",
       "    </tr>\n",
       "    <tr>\n",
       "      <th>2</th>\n",
       "      <td>2000</td>\n",
       "      <td>300</td>\n",
       "      <td>450</td>\n",
       "      <td>-13</td>\n",
       "      <td>30</td>\n",
       "      <td>7</td>\n",
       "    </tr>\n",
       "  </tbody>\n",
       "</table>\n",
       "</div>"
      ],
      "text/plain": [
       "location  index   서울   경기  충청  경상  전라\n",
       "0          1998  150  200 -10  10   5\n",
       "1          1999  180  240   3  20   6\n",
       "2          2000  300  450 -13  30   7"
      ]
     },
     "execution_count": 26,
     "metadata": {},
     "output_type": "execute_result"
    }
   ],
   "source": [
    "pop_sample.reset_index()"
   ]
  },
  {
   "cell_type": "code",
   "execution_count": 27,
   "id": "33e96d96",
   "metadata": {},
   "outputs": [
    {
     "data": {
      "text/html": [
       "<div>\n",
       "<style scoped>\n",
       "    .dataframe tbody tr th:only-of-type {\n",
       "        vertical-align: middle;\n",
       "    }\n",
       "\n",
       "    .dataframe tbody tr th {\n",
       "        vertical-align: top;\n",
       "    }\n",
       "\n",
       "    .dataframe thead th {\n",
       "        text-align: right;\n",
       "    }\n",
       "</style>\n",
       "<table border=\"1\" class=\"dataframe\">\n",
       "  <thead>\n",
       "    <tr style=\"text-align: right;\">\n",
       "      <th>location</th>\n",
       "      <th>서울</th>\n",
       "      <th>경기</th>\n",
       "      <th>충청</th>\n",
       "      <th>경상</th>\n",
       "      <th>전라</th>\n",
       "    </tr>\n",
       "  </thead>\n",
       "  <tbody>\n",
       "    <tr>\n",
       "      <th>1998</th>\n",
       "      <td>150</td>\n",
       "      <td>200</td>\n",
       "      <td>-10</td>\n",
       "      <td>10</td>\n",
       "      <td>5</td>\n",
       "    </tr>\n",
       "    <tr>\n",
       "      <th>1999</th>\n",
       "      <td>180</td>\n",
       "      <td>240</td>\n",
       "      <td>3</td>\n",
       "      <td>20</td>\n",
       "      <td>6</td>\n",
       "    </tr>\n",
       "    <tr>\n",
       "      <th>2000</th>\n",
       "      <td>300</td>\n",
       "      <td>450</td>\n",
       "      <td>-13</td>\n",
       "      <td>30</td>\n",
       "      <td>7</td>\n",
       "    </tr>\n",
       "  </tbody>\n",
       "</table>\n",
       "</div>"
      ],
      "text/plain": [
       "location   서울   경기  충청  경상  전라\n",
       "1998      150  200 -10  10   5\n",
       "1999      180  240   3  20   6\n",
       "2000      300  450 -13  30   7"
      ]
     },
     "execution_count": 27,
     "metadata": {},
     "output_type": "execute_result"
    }
   ],
   "source": [
    "pop_sample"
   ]
  },
  {
   "cell_type": "code",
   "execution_count": 28,
   "id": "4017d562",
   "metadata": {},
   "outputs": [
    {
     "data": {
      "text/html": [
       "<div>\n",
       "<style scoped>\n",
       "    .dataframe tbody tr th:only-of-type {\n",
       "        vertical-align: middle;\n",
       "    }\n",
       "\n",
       "    .dataframe tbody tr th {\n",
       "        vertical-align: top;\n",
       "    }\n",
       "\n",
       "    .dataframe thead th {\n",
       "        text-align: right;\n",
       "    }\n",
       "</style>\n",
       "<table border=\"1\" class=\"dataframe\">\n",
       "  <thead>\n",
       "    <tr style=\"text-align: right;\">\n",
       "      <th>location</th>\n",
       "      <th>서울</th>\n",
       "      <th>경기</th>\n",
       "      <th>충청</th>\n",
       "      <th>경상</th>\n",
       "      <th>전라</th>\n",
       "    </tr>\n",
       "  </thead>\n",
       "  <tbody>\n",
       "    <tr>\n",
       "      <th>0</th>\n",
       "      <td>150</td>\n",
       "      <td>200</td>\n",
       "      <td>-10</td>\n",
       "      <td>10</td>\n",
       "      <td>5</td>\n",
       "    </tr>\n",
       "    <tr>\n",
       "      <th>1</th>\n",
       "      <td>180</td>\n",
       "      <td>240</td>\n",
       "      <td>3</td>\n",
       "      <td>20</td>\n",
       "      <td>6</td>\n",
       "    </tr>\n",
       "    <tr>\n",
       "      <th>2</th>\n",
       "      <td>300</td>\n",
       "      <td>450</td>\n",
       "      <td>-13</td>\n",
       "      <td>30</td>\n",
       "      <td>7</td>\n",
       "    </tr>\n",
       "  </tbody>\n",
       "</table>\n",
       "</div>"
      ],
      "text/plain": [
       "location   서울   경기  충청  경상  전라\n",
       "0         150  200 -10  10   5\n",
       "1         180  240   3  20   6\n",
       "2         300  450 -13  30   7"
      ]
     },
     "execution_count": 28,
     "metadata": {},
     "output_type": "execute_result"
    }
   ],
   "source": [
    "pop_sample.reset_index(drop=True)"
   ]
  },
  {
   "cell_type": "code",
   "execution_count": 29,
   "id": "0f09d921",
   "metadata": {},
   "outputs": [
    {
     "data": {
      "text/html": [
       "<div>\n",
       "<style scoped>\n",
       "    .dataframe tbody tr th:only-of-type {\n",
       "        vertical-align: middle;\n",
       "    }\n",
       "\n",
       "    .dataframe tbody tr th {\n",
       "        vertical-align: top;\n",
       "    }\n",
       "\n",
       "    .dataframe thead th {\n",
       "        text-align: right;\n",
       "    }\n",
       "</style>\n",
       "<table border=\"1\" class=\"dataframe\">\n",
       "  <thead>\n",
       "    <tr style=\"text-align: right;\">\n",
       "      <th>location</th>\n",
       "      <th>서울</th>\n",
       "      <th>경기</th>\n",
       "      <th>충청</th>\n",
       "      <th>경상</th>\n",
       "      <th>전라</th>\n",
       "    </tr>\n",
       "  </thead>\n",
       "  <tbody>\n",
       "    <tr>\n",
       "      <th>1998</th>\n",
       "      <td>150</td>\n",
       "      <td>200</td>\n",
       "      <td>-10</td>\n",
       "      <td>10</td>\n",
       "      <td>5</td>\n",
       "    </tr>\n",
       "    <tr>\n",
       "      <th>1999</th>\n",
       "      <td>180</td>\n",
       "      <td>240</td>\n",
       "      <td>3</td>\n",
       "      <td>20</td>\n",
       "      <td>6</td>\n",
       "    </tr>\n",
       "    <tr>\n",
       "      <th>2000</th>\n",
       "      <td>300</td>\n",
       "      <td>450</td>\n",
       "      <td>-13</td>\n",
       "      <td>30</td>\n",
       "      <td>7</td>\n",
       "    </tr>\n",
       "  </tbody>\n",
       "</table>\n",
       "</div>"
      ],
      "text/plain": [
       "location   서울   경기  충청  경상  전라\n",
       "1998      150  200 -10  10   5\n",
       "1999      180  240   3  20   6\n",
       "2000      300  450 -13  30   7"
      ]
     },
     "execution_count": 29,
     "metadata": {},
     "output_type": "execute_result"
    }
   ],
   "source": [
    "pop_sample"
   ]
  },
  {
   "cell_type": "markdown",
   "id": "36869308",
   "metadata": {},
   "source": [
    "<br>\n",
    "\n",
    "`DataFrame` 객체 속성\n",
    "\n",
    "4. `df.values`: 객체의 data(value)를 아이템으로 가지는 2차원 array 반환"
   ]
  },
  {
   "cell_type": "code",
   "execution_count": 30,
   "id": "9d746b9a",
   "metadata": {
    "scrolled": true
   },
   "outputs": [
    {
     "data": {
      "text/plain": [
       "array([[150, 200, -10,  10,   5],\n",
       "       [180, 240,   3,  20,   6],\n",
       "       [300, 450, -13,  30,   7]], dtype=int64)"
      ]
     },
     "execution_count": 30,
     "metadata": {},
     "output_type": "execute_result"
    }
   ],
   "source": [
    "pop_sample.values"
   ]
  },
  {
   "cell_type": "markdown",
   "id": "5e9b452c",
   "metadata": {},
   "source": [
    "<br>\n",
    "\n",
    "`DataFrame` 객체 속성\n",
    "\n",
    "5. `df.dtypes`: df 객체의 item data type을 columns 기준으로 반환"
   ]
  },
  {
   "cell_type": "code",
   "execution_count": 31,
   "id": "d0db5b78",
   "metadata": {},
   "outputs": [
    {
     "data": {
      "text/plain": [
       "location\n",
       "서울    int64\n",
       "경기    int64\n",
       "충청    int64\n",
       "경상    int64\n",
       "전라    int64\n",
       "dtype: object"
      ]
     },
     "execution_count": 31,
     "metadata": {},
     "output_type": "execute_result"
    }
   ],
   "source": [
    "pop_sample.dtypes"
   ]
  },
  {
   "cell_type": "markdown",
   "id": "e1c4ad2b",
   "metadata": {},
   "source": [
    "<br>\n",
    "\n",
    "`DataFrame` 객체 속성\n",
    "\n",
    "6. `df.size`: df 객체의 item data 개수(길이)를 반환"
   ]
  },
  {
   "cell_type": "code",
   "execution_count": 32,
   "id": "a0be7700",
   "metadata": {},
   "outputs": [
    {
     "data": {
      "text/plain": [
       "15"
      ]
     },
     "execution_count": 32,
     "metadata": {},
     "output_type": "execute_result"
    }
   ],
   "source": [
    "pop_sample.size"
   ]
  },
  {
   "cell_type": "markdown",
   "id": "06117d8a",
   "metadata": {},
   "source": [
    "<br>\n",
    "\n",
    "- `len(df)`: 가장 큰 dimension: `axis=0`: row단위 개수만 반환"
   ]
  },
  {
   "cell_type": "code",
   "execution_count": 33,
   "id": "bd480c11",
   "metadata": {},
   "outputs": [
    {
     "data": {
      "text/plain": [
       "3"
      ]
     },
     "execution_count": 33,
     "metadata": {},
     "output_type": "execute_result"
    }
   ],
   "source": [
    "len(pop_sample)"
   ]
  },
  {
   "cell_type": "markdown",
   "id": "a66716c6",
   "metadata": {},
   "source": [
    "<br>\n",
    "\n",
    "`DataFrame` 객체 속성\n",
    "\n",
    "7. `df.shape`: df 객체의 shape`(axis=0,axis=1, ..., axis=n-1)`를 반환"
   ]
  },
  {
   "cell_type": "code",
   "execution_count": 34,
   "id": "aa501958",
   "metadata": {},
   "outputs": [
    {
     "data": {
      "text/plain": [
       "(3, 5)"
      ]
     },
     "execution_count": 34,
     "metadata": {},
     "output_type": "execute_result"
    }
   ],
   "source": [
    "pop_sample.shape"
   ]
  },
  {
   "cell_type": "markdown",
   "id": "cc5ee6e9",
   "metadata": {},
   "source": [
    "<br>\n",
    "\n",
    "`DataFrame` 객체 속성\n",
    "\n",
    "8. `df.T`: 행과 열이 교환된 DataFrame 반환(transeposed)"
   ]
  },
  {
   "cell_type": "code",
   "execution_count": 35,
   "id": "8c45a319",
   "metadata": {},
   "outputs": [
    {
     "data": {
      "text/html": [
       "<div>\n",
       "<style scoped>\n",
       "    .dataframe tbody tr th:only-of-type {\n",
       "        vertical-align: middle;\n",
       "    }\n",
       "\n",
       "    .dataframe tbody tr th {\n",
       "        vertical-align: top;\n",
       "    }\n",
       "\n",
       "    .dataframe thead th {\n",
       "        text-align: right;\n",
       "    }\n",
       "</style>\n",
       "<table border=\"1\" class=\"dataframe\">\n",
       "  <thead>\n",
       "    <tr style=\"text-align: right;\">\n",
       "      <th></th>\n",
       "      <th>1998</th>\n",
       "      <th>1999</th>\n",
       "      <th>2000</th>\n",
       "    </tr>\n",
       "    <tr>\n",
       "      <th>location</th>\n",
       "      <th></th>\n",
       "      <th></th>\n",
       "      <th></th>\n",
       "    </tr>\n",
       "  </thead>\n",
       "  <tbody>\n",
       "    <tr>\n",
       "      <th>서울</th>\n",
       "      <td>150</td>\n",
       "      <td>180</td>\n",
       "      <td>300</td>\n",
       "    </tr>\n",
       "    <tr>\n",
       "      <th>경기</th>\n",
       "      <td>200</td>\n",
       "      <td>240</td>\n",
       "      <td>450</td>\n",
       "    </tr>\n",
       "    <tr>\n",
       "      <th>충청</th>\n",
       "      <td>-10</td>\n",
       "      <td>3</td>\n",
       "      <td>-13</td>\n",
       "    </tr>\n",
       "    <tr>\n",
       "      <th>경상</th>\n",
       "      <td>10</td>\n",
       "      <td>20</td>\n",
       "      <td>30</td>\n",
       "    </tr>\n",
       "    <tr>\n",
       "      <th>전라</th>\n",
       "      <td>5</td>\n",
       "      <td>6</td>\n",
       "      <td>7</td>\n",
       "    </tr>\n",
       "  </tbody>\n",
       "</table>\n",
       "</div>"
      ],
      "text/plain": [
       "          1998  1999  2000\n",
       "location                  \n",
       "서울         150   180   300\n",
       "경기         200   240   450\n",
       "충청         -10     3   -13\n",
       "경상          10    20    30\n",
       "전라           5     6     7"
      ]
     },
     "execution_count": 35,
     "metadata": {},
     "output_type": "execute_result"
    }
   ],
   "source": [
    "trans_df = pop_sample.T\n",
    "\n",
    "trans_df"
   ]
  },
  {
   "cell_type": "code",
   "execution_count": 36,
   "id": "489f2392",
   "metadata": {},
   "outputs": [
    {
     "data": {
      "text/plain": [
       "Index(['서울', '경기', '충청', '경상', '전라'], dtype='object', name='location')"
      ]
     },
     "execution_count": 36,
     "metadata": {},
     "output_type": "execute_result"
    }
   ],
   "source": [
    "trans_df.index"
   ]
  },
  {
   "cell_type": "code",
   "execution_count": 37,
   "id": "008c4162",
   "metadata": {},
   "outputs": [
    {
     "data": {
      "text/plain": [
       "Int64Index([1998, 1999, 2000], dtype='int64')"
      ]
     },
     "execution_count": 37,
     "metadata": {},
     "output_type": "execute_result"
    }
   ],
   "source": [
    "trans_df.columns"
   ]
  },
  {
   "cell_type": "markdown",
   "id": "c84bf439",
   "metadata": {},
   "source": [
    "## 3. 인덱싱(indexing)\n",
    "\n",
    "- default: columns indexing: return `Series`\n",
    "\n",
    "    - `df[col]`\n",
    "\n",
    "    - `df.col`\n",
    "\n",
    "    - `df.get(col)` \n",
    "    \n",
    "- row indexing \n",
    "    \n",
    "    - `df.iloc[idx]` : RangeIndex `int index`\n",
    "    \n",
    "    - `df.loc[label]` : 지정한 `label index`: 기본 인덱스가 아니면 모두 loc 메소드 사용"
   ]
  },
  {
   "cell_type": "markdown",
   "id": "282c8b37",
   "metadata": {},
   "source": [
    "<br>\n",
    "\n",
    "- \"서울\" column 조회 3가지 방법\n",
    "\n",
    "1. 기본적인 indexing 기호: `df[col_name]`\n",
    "    \n",
    "2. `df.col_name` > `col_name`이 변수명으로 사용할 수 있을 때만 가능\n",
    "\n",
    "3. DataFrame method: `df.get(col_name)`"
   ]
  },
  {
   "cell_type": "code",
   "execution_count": 38,
   "id": "9846445c",
   "metadata": {},
   "outputs": [
    {
     "data": {
      "text/plain": [
       "1998    150\n",
       "1999    180\n",
       "2000    300\n",
       "Name: 서울, dtype: int64"
      ]
     },
     "execution_count": 38,
     "metadata": {},
     "output_type": "execute_result"
    }
   ],
   "source": [
    "pop_sample['서울']"
   ]
  },
  {
   "cell_type": "code",
   "execution_count": 39,
   "id": "ad2e4e1b",
   "metadata": {},
   "outputs": [
    {
     "data": {
      "text/plain": [
       "1998    150\n",
       "1999    180\n",
       "2000    300\n",
       "Name: 서울, dtype: int64"
      ]
     },
     "execution_count": 39,
     "metadata": {},
     "output_type": "execute_result"
    }
   ],
   "source": [
    "pop_sample.서울"
   ]
  },
  {
   "cell_type": "code",
   "execution_count": 40,
   "id": "5d1ed79d",
   "metadata": {},
   "outputs": [
    {
     "data": {
      "text/plain": [
       "1998    150\n",
       "1999    180\n",
       "2000    300\n",
       "Name: 서울, dtype: int64"
      ]
     },
     "execution_count": 40,
     "metadata": {},
     "output_type": "execute_result"
    }
   ],
   "source": [
    "pop_sample.get(\"서울\")"
   ]
  },
  {
   "cell_type": "code",
   "execution_count": 41,
   "id": "24267b3f",
   "metadata": {},
   "outputs": [
    {
     "data": {
      "text/html": [
       "<div>\n",
       "<style scoped>\n",
       "    .dataframe tbody tr th:only-of-type {\n",
       "        vertical-align: middle;\n",
       "    }\n",
       "\n",
       "    .dataframe tbody tr th {\n",
       "        vertical-align: top;\n",
       "    }\n",
       "\n",
       "    .dataframe thead th {\n",
       "        text-align: right;\n",
       "    }\n",
       "</style>\n",
       "<table border=\"1\" class=\"dataframe\">\n",
       "  <thead>\n",
       "    <tr style=\"text-align: right;\">\n",
       "      <th>location</th>\n",
       "      <th>서울</th>\n",
       "      <th>경기</th>\n",
       "      <th>충청</th>\n",
       "      <th>경상</th>\n",
       "      <th>전라</th>\n",
       "    </tr>\n",
       "  </thead>\n",
       "  <tbody>\n",
       "    <tr>\n",
       "      <th>1998</th>\n",
       "      <td>150</td>\n",
       "      <td>200</td>\n",
       "      <td>-10</td>\n",
       "      <td>10</td>\n",
       "      <td>5</td>\n",
       "    </tr>\n",
       "    <tr>\n",
       "      <th>1999</th>\n",
       "      <td>180</td>\n",
       "      <td>240</td>\n",
       "      <td>3</td>\n",
       "      <td>20</td>\n",
       "      <td>6</td>\n",
       "    </tr>\n",
       "    <tr>\n",
       "      <th>2000</th>\n",
       "      <td>300</td>\n",
       "      <td>450</td>\n",
       "      <td>-13</td>\n",
       "      <td>30</td>\n",
       "      <td>7</td>\n",
       "    </tr>\n",
       "  </tbody>\n",
       "</table>\n",
       "</div>"
      ],
      "text/plain": [
       "location   서울   경기  충청  경상  전라\n",
       "1998      150  200 -10  10   5\n",
       "1999      180  240   3  20   6\n",
       "2000      300  450 -13  30   7"
      ]
     },
     "execution_count": 41,
     "metadata": {},
     "output_type": "execute_result"
    }
   ],
   "source": [
    "pop_sample"
   ]
  },
  {
   "cell_type": "markdown",
   "id": "6db6a7e3",
   "metadata": {},
   "source": [
    "<br>\n",
    "\n",
    "- `df.iloc[idx]`: idx번째 행(row) 추출\n",
    "\n",
    "- `df.loc[label_index]`: `label index`에 해당하는 행(row) 추출\n",
    "    \n",
    "    - return value: `Series`\n",
    "    \n",
    "    - `Series` name: 기존 DataFrame에서 reference한 해당 행의 `label index`"
   ]
  },
  {
   "cell_type": "code",
   "execution_count": 42,
   "id": "6d5e8a15",
   "metadata": {},
   "outputs": [
    {
     "name": "stdout",
     "output_type": "stream",
     "text": [
      "<class 'pandas.core.series.Series'>\n",
      "1998\n"
     ]
    },
    {
     "data": {
      "text/plain": [
       "location\n",
       "서울    150\n",
       "경기    200\n",
       "충청    -10\n",
       "경상     10\n",
       "전라      5\n",
       "Name: 1998, dtype: int64"
      ]
     },
     "execution_count": 42,
     "metadata": {},
     "output_type": "execute_result"
    }
   ],
   "source": [
    "print(type(pop_sample.iloc[0]))\n",
    "print(pop_sample.iloc[0].name)\n",
    "\n",
    "pop_sample.iloc[0]"
   ]
  },
  {
   "cell_type": "markdown",
   "id": "0ce04353",
   "metadata": {},
   "source": [
    "<br>\n",
    "\n",
    "- `label index`로 행 조회: `df.loc[label_index]`"
   ]
  },
  {
   "cell_type": "code",
   "execution_count": 43,
   "id": "37978031",
   "metadata": {},
   "outputs": [
    {
     "data": {
      "text/plain": [
       "location\n",
       "서울    180\n",
       "경기    240\n",
       "충청      3\n",
       "경상     20\n",
       "전라      6\n",
       "Name: 1999, dtype: int64"
      ]
     },
     "execution_count": 43,
     "metadata": {},
     "output_type": "execute_result"
    }
   ],
   "source": [
    "pop_sample.loc[1999]"
   ]
  },
  {
   "cell_type": "markdown",
   "id": "e874723c",
   "metadata": {},
   "source": [
    "<br>\n",
    "\n",
    "- 여러개의 columns 조회: list in list로 colname 나열해서 전달\n",
    "    \n",
    "    - `df[[col_name1, col_name2, ...]]`: return `DataFrame`"
   ]
  },
  {
   "cell_type": "code",
   "execution_count": 44,
   "id": "8ac0981a",
   "metadata": {},
   "outputs": [
    {
     "data": {
      "text/html": [
       "<div>\n",
       "<style scoped>\n",
       "    .dataframe tbody tr th:only-of-type {\n",
       "        vertical-align: middle;\n",
       "    }\n",
       "\n",
       "    .dataframe tbody tr th {\n",
       "        vertical-align: top;\n",
       "    }\n",
       "\n",
       "    .dataframe thead th {\n",
       "        text-align: right;\n",
       "    }\n",
       "</style>\n",
       "<table border=\"1\" class=\"dataframe\">\n",
       "  <thead>\n",
       "    <tr style=\"text-align: right;\">\n",
       "      <th>location</th>\n",
       "      <th>서울</th>\n",
       "      <th>경기</th>\n",
       "    </tr>\n",
       "  </thead>\n",
       "  <tbody>\n",
       "    <tr>\n",
       "      <th>1998</th>\n",
       "      <td>150</td>\n",
       "      <td>200</td>\n",
       "    </tr>\n",
       "    <tr>\n",
       "      <th>1999</th>\n",
       "      <td>180</td>\n",
       "      <td>240</td>\n",
       "    </tr>\n",
       "    <tr>\n",
       "      <th>2000</th>\n",
       "      <td>300</td>\n",
       "      <td>450</td>\n",
       "    </tr>\n",
       "  </tbody>\n",
       "</table>\n",
       "</div>"
      ],
      "text/plain": [
       "location   서울   경기\n",
       "1998      150  200\n",
       "1999      180  240\n",
       "2000      300  450"
      ]
     },
     "execution_count": 44,
     "metadata": {},
     "output_type": "execute_result"
    }
   ],
   "source": [
    "pop_sample[['서울', '경기']]"
   ]
  },
  {
   "cell_type": "markdown",
   "id": "cd87ffce",
   "metadata": {},
   "source": [
    "<br>\n",
    "\n",
    "- 여러 개의 columns + 하나의 row data 추출 > return `Series`"
   ]
  },
  {
   "cell_type": "code",
   "execution_count": 45,
   "id": "af7deee7",
   "metadata": {},
   "outputs": [
    {
     "data": {
      "text/plain": [
       "location\n",
       "경기    240\n",
       "경상     20\n",
       "Name: 1999, dtype: int64"
      ]
     },
     "execution_count": 45,
     "metadata": {},
     "output_type": "execute_result"
    }
   ],
   "source": [
    "pop_sample[['경기', '경상']].loc[1999]"
   ]
  },
  {
   "cell_type": "code",
   "execution_count": 46,
   "id": "7c8563f7",
   "metadata": {},
   "outputs": [
    {
     "data": {
      "text/plain": [
       "location\n",
       "경기    240\n",
       "경상     20\n",
       "Name: 1999, dtype: int64"
      ]
     },
     "execution_count": 46,
     "metadata": {},
     "output_type": "execute_result"
    }
   ],
   "source": [
    "pop_sample.loc[1999][['경기', '경상']]"
   ]
  },
  {
   "cell_type": "markdown",
   "id": "744c7b3f",
   "metadata": {},
   "source": [
    "<br>\n",
    "\n",
    "- 두 개 이상의 row 조회: `df.loc[[row1, row2, ...]]` > return `DataFrame`"
   ]
  },
  {
   "cell_type": "code",
   "execution_count": 47,
   "id": "8ccc4536",
   "metadata": {},
   "outputs": [
    {
     "data": {
      "text/html": [
       "<div>\n",
       "<style scoped>\n",
       "    .dataframe tbody tr th:only-of-type {\n",
       "        vertical-align: middle;\n",
       "    }\n",
       "\n",
       "    .dataframe tbody tr th {\n",
       "        vertical-align: top;\n",
       "    }\n",
       "\n",
       "    .dataframe thead th {\n",
       "        text-align: right;\n",
       "    }\n",
       "</style>\n",
       "<table border=\"1\" class=\"dataframe\">\n",
       "  <thead>\n",
       "    <tr style=\"text-align: right;\">\n",
       "      <th>location</th>\n",
       "      <th>서울</th>\n",
       "      <th>경기</th>\n",
       "      <th>충청</th>\n",
       "      <th>경상</th>\n",
       "      <th>전라</th>\n",
       "    </tr>\n",
       "  </thead>\n",
       "  <tbody>\n",
       "    <tr>\n",
       "      <th>1998</th>\n",
       "      <td>150</td>\n",
       "      <td>200</td>\n",
       "      <td>-10</td>\n",
       "      <td>10</td>\n",
       "      <td>5</td>\n",
       "    </tr>\n",
       "    <tr>\n",
       "      <th>2000</th>\n",
       "      <td>300</td>\n",
       "      <td>450</td>\n",
       "      <td>-13</td>\n",
       "      <td>30</td>\n",
       "      <td>7</td>\n",
       "    </tr>\n",
       "  </tbody>\n",
       "</table>\n",
       "</div>"
      ],
      "text/plain": [
       "location   서울   경기  충청  경상  전라\n",
       "1998      150  200 -10  10   5\n",
       "2000      300  450 -13  30   7"
      ]
     },
     "execution_count": 47,
     "metadata": {},
     "output_type": "execute_result"
    }
   ],
   "source": [
    "pop_sample.loc[[1998, 2000]]"
   ]
  },
  {
   "cell_type": "code",
   "execution_count": 48,
   "id": "f5d40572",
   "metadata": {},
   "outputs": [
    {
     "data": {
      "text/plain": [
       "1998   -10\n",
       "2000   -13\n",
       "Name: 충청, dtype: int64"
      ]
     },
     "execution_count": 48,
     "metadata": {},
     "output_type": "execute_result"
    }
   ],
   "source": [
    "pop_sample.loc[[1998, 2000]]['충청']"
   ]
  },
  {
   "cell_type": "code",
   "execution_count": 49,
   "id": "0d939455",
   "metadata": {},
   "outputs": [
    {
     "data": {
      "text/plain": [
       "1998   -10\n",
       "2000   -13\n",
       "Name: 충청, dtype: int64"
      ]
     },
     "execution_count": 49,
     "metadata": {},
     "output_type": "execute_result"
    }
   ],
   "source": [
    "pop_sample['충청'].loc[[1998, 2000]]"
   ]
  },
  {
   "cell_type": "markdown",
   "id": "b2c4be14",
   "metadata": {},
   "source": [
    "<br>\n",
    "\n",
    "- `2-dim list`로 indexing > `DataFrame` 반환"
   ]
  },
  {
   "cell_type": "code",
   "execution_count": 50,
   "id": "94ffba7c",
   "metadata": {},
   "outputs": [
    {
     "data": {
      "text/plain": [
       "1998   -10\n",
       "1999     3\n",
       "2000   -13\n",
       "Name: 충청, dtype: int64"
      ]
     },
     "execution_count": 50,
     "metadata": {},
     "output_type": "execute_result"
    }
   ],
   "source": [
    "pop_sample['충청']"
   ]
  },
  {
   "cell_type": "code",
   "execution_count": 51,
   "id": "be1d22d0",
   "metadata": {},
   "outputs": [
    {
     "data": {
      "text/html": [
       "<div>\n",
       "<style scoped>\n",
       "    .dataframe tbody tr th:only-of-type {\n",
       "        vertical-align: middle;\n",
       "    }\n",
       "\n",
       "    .dataframe tbody tr th {\n",
       "        vertical-align: top;\n",
       "    }\n",
       "\n",
       "    .dataframe thead th {\n",
       "        text-align: right;\n",
       "    }\n",
       "</style>\n",
       "<table border=\"1\" class=\"dataframe\">\n",
       "  <thead>\n",
       "    <tr style=\"text-align: right;\">\n",
       "      <th>location</th>\n",
       "      <th>충청</th>\n",
       "    </tr>\n",
       "  </thead>\n",
       "  <tbody>\n",
       "    <tr>\n",
       "      <th>1998</th>\n",
       "      <td>-10</td>\n",
       "    </tr>\n",
       "    <tr>\n",
       "      <th>1999</th>\n",
       "      <td>3</td>\n",
       "    </tr>\n",
       "    <tr>\n",
       "      <th>2000</th>\n",
       "      <td>-13</td>\n",
       "    </tr>\n",
       "  </tbody>\n",
       "</table>\n",
       "</div>"
      ],
      "text/plain": [
       "location  충청\n",
       "1998     -10\n",
       "1999       3\n",
       "2000     -13"
      ]
     },
     "execution_count": 51,
     "metadata": {},
     "output_type": "execute_result"
    }
   ],
   "source": [
    "pop_sample[['충청']]"
   ]
  },
  {
   "cell_type": "code",
   "execution_count": 52,
   "id": "a7cc596f",
   "metadata": {
    "scrolled": true
   },
   "outputs": [
    {
     "data": {
      "text/plain": [
       "3"
      ]
     },
     "execution_count": 52,
     "metadata": {},
     "output_type": "execute_result"
    }
   ],
   "source": [
    "pop_sample['충청'].loc[1999]"
   ]
  },
  {
   "cell_type": "code",
   "execution_count": 53,
   "id": "0d588b27",
   "metadata": {},
   "outputs": [
    {
     "data": {
      "text/html": [
       "<div>\n",
       "<style scoped>\n",
       "    .dataframe tbody tr th:only-of-type {\n",
       "        vertical-align: middle;\n",
       "    }\n",
       "\n",
       "    .dataframe tbody tr th {\n",
       "        vertical-align: top;\n",
       "    }\n",
       "\n",
       "    .dataframe thead th {\n",
       "        text-align: right;\n",
       "    }\n",
       "</style>\n",
       "<table border=\"1\" class=\"dataframe\">\n",
       "  <thead>\n",
       "    <tr style=\"text-align: right;\">\n",
       "      <th>location</th>\n",
       "      <th>충청</th>\n",
       "    </tr>\n",
       "  </thead>\n",
       "  <tbody>\n",
       "    <tr>\n",
       "      <th>1999</th>\n",
       "      <td>3</td>\n",
       "    </tr>\n",
       "  </tbody>\n",
       "</table>\n",
       "</div>"
      ],
      "text/plain": [
       "location  충청\n",
       "1999       3"
      ]
     },
     "execution_count": 53,
     "metadata": {},
     "output_type": "execute_result"
    }
   ],
   "source": [
    "pop_sample[['충청']].loc[[1999]]"
   ]
  },
  {
   "cell_type": "markdown",
   "id": "8bd21b52",
   "metadata": {},
   "source": [
    "## 4. 슬라이싱 slicing\n",
    "\n",
    "- row(행) slicing\n",
    "\n",
    "    - 순서가 있음 > row 단독 slicing 가능\n",
    "    \n",
    "    - 기본 슬라이싱 문법: 기본 RangeIndex `int index`를 기준으로 적용\n",
    "    \n",
    "        - `int index` slicing: not including `stop index`\n",
    "        \n",
    "        - `label index` slicing: including `stop index`\n",
    "\n",
    "- col(열) slicing\n",
    "\n",
    "    - 순서가 없음 > column 단독 slicing 불가능\n",
    "    \n",
    "    - row slicing 결과에 대해: `label index` column slicing 가능: `int index` 불가능\n",
    "    \n",
    "        - `label index` slicing만 가능: including `stop index`"
   ]
  },
  {
   "cell_type": "markdown",
   "id": "55e14b9e",
   "metadata": {},
   "source": [
    "<br>\n",
    "\n",
    "- row slicing: `df[start:stop:step]`"
   ]
  },
  {
   "cell_type": "code",
   "execution_count": 54,
   "id": "b3a8e2f8",
   "metadata": {},
   "outputs": [
    {
     "data": {
      "text/html": [
       "<div>\n",
       "<style scoped>\n",
       "    .dataframe tbody tr th:only-of-type {\n",
       "        vertical-align: middle;\n",
       "    }\n",
       "\n",
       "    .dataframe tbody tr th {\n",
       "        vertical-align: top;\n",
       "    }\n",
       "\n",
       "    .dataframe thead th {\n",
       "        text-align: right;\n",
       "    }\n",
       "</style>\n",
       "<table border=\"1\" class=\"dataframe\">\n",
       "  <thead>\n",
       "    <tr style=\"text-align: right;\">\n",
       "      <th>location</th>\n",
       "      <th>서울</th>\n",
       "      <th>경기</th>\n",
       "      <th>충청</th>\n",
       "      <th>경상</th>\n",
       "      <th>전라</th>\n",
       "    </tr>\n",
       "  </thead>\n",
       "  <tbody>\n",
       "    <tr>\n",
       "      <th>1998</th>\n",
       "      <td>150</td>\n",
       "      <td>200</td>\n",
       "      <td>-10</td>\n",
       "      <td>10</td>\n",
       "      <td>5</td>\n",
       "    </tr>\n",
       "    <tr>\n",
       "      <th>1999</th>\n",
       "      <td>180</td>\n",
       "      <td>240</td>\n",
       "      <td>3</td>\n",
       "      <td>20</td>\n",
       "      <td>6</td>\n",
       "    </tr>\n",
       "  </tbody>\n",
       "</table>\n",
       "</div>"
      ],
      "text/plain": [
       "location   서울   경기  충청  경상  전라\n",
       "1998      150  200 -10  10   5\n",
       "1999      180  240   3  20   6"
      ]
     },
     "execution_count": 54,
     "metadata": {},
     "output_type": "execute_result"
    }
   ],
   "source": [
    "pop_sample[0:2]"
   ]
  },
  {
   "cell_type": "code",
   "execution_count": 55,
   "id": "a74d0a42",
   "metadata": {},
   "outputs": [
    {
     "data": {
      "text/html": [
       "<div>\n",
       "<style scoped>\n",
       "    .dataframe tbody tr th:only-of-type {\n",
       "        vertical-align: middle;\n",
       "    }\n",
       "\n",
       "    .dataframe tbody tr th {\n",
       "        vertical-align: top;\n",
       "    }\n",
       "\n",
       "    .dataframe thead th {\n",
       "        text-align: right;\n",
       "    }\n",
       "</style>\n",
       "<table border=\"1\" class=\"dataframe\">\n",
       "  <thead>\n",
       "    <tr style=\"text-align: right;\">\n",
       "      <th>location</th>\n",
       "      <th>서울</th>\n",
       "      <th>경기</th>\n",
       "      <th>충청</th>\n",
       "      <th>경상</th>\n",
       "      <th>전라</th>\n",
       "    </tr>\n",
       "  </thead>\n",
       "  <tbody>\n",
       "    <tr>\n",
       "      <th>1998</th>\n",
       "      <td>150</td>\n",
       "      <td>200</td>\n",
       "      <td>-10</td>\n",
       "      <td>10</td>\n",
       "      <td>5</td>\n",
       "    </tr>\n",
       "    <tr>\n",
       "      <th>2000</th>\n",
       "      <td>300</td>\n",
       "      <td>450</td>\n",
       "      <td>-13</td>\n",
       "      <td>30</td>\n",
       "      <td>7</td>\n",
       "    </tr>\n",
       "  </tbody>\n",
       "</table>\n",
       "</div>"
      ],
      "text/plain": [
       "location   서울   경기  충청  경상  전라\n",
       "1998      150  200 -10  10   5\n",
       "2000      300  450 -13  30   7"
      ]
     },
     "execution_count": 55,
     "metadata": {},
     "output_type": "execute_result"
    }
   ],
   "source": [
    "pop_sample[0:3:2]"
   ]
  },
  {
   "cell_type": "code",
   "execution_count": 56,
   "id": "8fcccf30",
   "metadata": {},
   "outputs": [
    {
     "data": {
      "text/html": [
       "<div>\n",
       "<style scoped>\n",
       "    .dataframe tbody tr th:only-of-type {\n",
       "        vertical-align: middle;\n",
       "    }\n",
       "\n",
       "    .dataframe tbody tr th {\n",
       "        vertical-align: top;\n",
       "    }\n",
       "\n",
       "    .dataframe thead th {\n",
       "        text-align: right;\n",
       "    }\n",
       "</style>\n",
       "<table border=\"1\" class=\"dataframe\">\n",
       "  <thead>\n",
       "    <tr style=\"text-align: right;\">\n",
       "      <th>location</th>\n",
       "      <th>서울</th>\n",
       "      <th>경기</th>\n",
       "      <th>충청</th>\n",
       "      <th>경상</th>\n",
       "      <th>전라</th>\n",
       "    </tr>\n",
       "  </thead>\n",
       "  <tbody>\n",
       "    <tr>\n",
       "      <th>1998</th>\n",
       "      <td>150</td>\n",
       "      <td>200</td>\n",
       "      <td>-10</td>\n",
       "      <td>10</td>\n",
       "      <td>5</td>\n",
       "    </tr>\n",
       "    <tr>\n",
       "      <th>1999</th>\n",
       "      <td>180</td>\n",
       "      <td>240</td>\n",
       "      <td>3</td>\n",
       "      <td>20</td>\n",
       "      <td>6</td>\n",
       "    </tr>\n",
       "    <tr>\n",
       "      <th>2000</th>\n",
       "      <td>300</td>\n",
       "      <td>450</td>\n",
       "      <td>-13</td>\n",
       "      <td>30</td>\n",
       "      <td>7</td>\n",
       "    </tr>\n",
       "  </tbody>\n",
       "</table>\n",
       "</div>"
      ],
      "text/plain": [
       "location   서울   경기  충청  경상  전라\n",
       "1998      150  200 -10  10   5\n",
       "1999      180  240   3  20   6\n",
       "2000      300  450 -13  30   7"
      ]
     },
     "execution_count": 56,
     "metadata": {},
     "output_type": "execute_result"
    }
   ],
   "source": [
    "pop_sample[:2000]"
   ]
  },
  {
   "cell_type": "code",
   "execution_count": 57,
   "id": "5fb17c43",
   "metadata": {},
   "outputs": [
    {
     "data": {
      "text/html": [
       "<div>\n",
       "<style scoped>\n",
       "    .dataframe tbody tr th:only-of-type {\n",
       "        vertical-align: middle;\n",
       "    }\n",
       "\n",
       "    .dataframe tbody tr th {\n",
       "        vertical-align: top;\n",
       "    }\n",
       "\n",
       "    .dataframe thead th {\n",
       "        text-align: right;\n",
       "    }\n",
       "</style>\n",
       "<table border=\"1\" class=\"dataframe\">\n",
       "  <thead>\n",
       "    <tr style=\"text-align: right;\">\n",
       "      <th>location</th>\n",
       "      <th>서울</th>\n",
       "      <th>경기</th>\n",
       "      <th>충청</th>\n",
       "      <th>경상</th>\n",
       "      <th>전라</th>\n",
       "    </tr>\n",
       "  </thead>\n",
       "  <tbody>\n",
       "    <tr>\n",
       "      <th>2000</th>\n",
       "      <td>300</td>\n",
       "      <td>450</td>\n",
       "      <td>-13</td>\n",
       "      <td>30</td>\n",
       "      <td>7</td>\n",
       "    </tr>\n",
       "    <tr>\n",
       "      <th>1999</th>\n",
       "      <td>180</td>\n",
       "      <td>240</td>\n",
       "      <td>3</td>\n",
       "      <td>20</td>\n",
       "      <td>6</td>\n",
       "    </tr>\n",
       "    <tr>\n",
       "      <th>1998</th>\n",
       "      <td>150</td>\n",
       "      <td>200</td>\n",
       "      <td>-10</td>\n",
       "      <td>10</td>\n",
       "      <td>5</td>\n",
       "    </tr>\n",
       "  </tbody>\n",
       "</table>\n",
       "</div>"
      ],
      "text/plain": [
       "location   서울   경기  충청  경상  전라\n",
       "2000      300  450 -13  30   7\n",
       "1999      180  240   3  20   6\n",
       "1998      150  200 -10  10   5"
      ]
     },
     "execution_count": 57,
     "metadata": {},
     "output_type": "execute_result"
    }
   ],
   "source": [
    "pop_sample[::-1]"
   ]
  },
  {
   "cell_type": "markdown",
   "id": "7e4d8ba2",
   "metadata": {},
   "source": [
    "<br>\n",
    "\n",
    "- columns slicing\n",
    "\n",
    "    - row indexing 결과에 columns slicing\n",
    "    \n",
    "    - `df.loc[:, start:stop:step]`: RangeIndex `int index`사용 X, `label index`만 사용"
   ]
  },
  {
   "cell_type": "code",
   "execution_count": 58,
   "id": "4667e1d7",
   "metadata": {
    "scrolled": true
   },
   "outputs": [
    {
     "data": {
      "text/html": [
       "<div>\n",
       "<style scoped>\n",
       "    .dataframe tbody tr th:only-of-type {\n",
       "        vertical-align: middle;\n",
       "    }\n",
       "\n",
       "    .dataframe tbody tr th {\n",
       "        vertical-align: top;\n",
       "    }\n",
       "\n",
       "    .dataframe thead th {\n",
       "        text-align: right;\n",
       "    }\n",
       "</style>\n",
       "<table border=\"1\" class=\"dataframe\">\n",
       "  <thead>\n",
       "    <tr style=\"text-align: right;\">\n",
       "      <th>location</th>\n",
       "      <th>서울</th>\n",
       "      <th>경기</th>\n",
       "    </tr>\n",
       "  </thead>\n",
       "  <tbody>\n",
       "    <tr>\n",
       "      <th>1998</th>\n",
       "      <td>150</td>\n",
       "      <td>200</td>\n",
       "    </tr>\n",
       "    <tr>\n",
       "      <th>1999</th>\n",
       "      <td>180</td>\n",
       "      <td>240</td>\n",
       "    </tr>\n",
       "    <tr>\n",
       "      <th>2000</th>\n",
       "      <td>300</td>\n",
       "      <td>450</td>\n",
       "    </tr>\n",
       "  </tbody>\n",
       "</table>\n",
       "</div>"
      ],
      "text/plain": [
       "location   서울   경기\n",
       "1998      150  200\n",
       "1999      180  240\n",
       "2000      300  450"
      ]
     },
     "execution_count": 58,
     "metadata": {},
     "output_type": "execute_result"
    }
   ],
   "source": [
    "pop_sample.loc[:, '서울':'경기']"
   ]
  },
  {
   "cell_type": "markdown",
   "id": "57f2e29e",
   "metadata": {},
   "source": [
    "<br>\n",
    "\n",
    "- `int index` slicing\n",
    "\n",
    "    - `df[:stop_column][:stop_row]` == `df.iloc[:stop_row][:stop_column]`"
   ]
  },
  {
   "cell_type": "code",
   "execution_count": 59,
   "id": "86f7ff56",
   "metadata": {},
   "outputs": [
    {
     "data": {
      "text/plain": [
       "array([[0., 0., 0., 0.],\n",
       "       [0., 0., 0., 0.],\n",
       "       [0., 0., 0., 0.],\n",
       "       [0., 0., 0., 0.]])"
      ]
     },
     "execution_count": 59,
     "metadata": {},
     "output_type": "execute_result"
    }
   ],
   "source": [
    "zr_data = np.zeros((4, 4))\n",
    "\n",
    "zr_data"
   ]
  },
  {
   "cell_type": "code",
   "execution_count": 60,
   "id": "faf1a68c",
   "metadata": {},
   "outputs": [
    {
     "data": {
      "text/html": [
       "<div>\n",
       "<style scoped>\n",
       "    .dataframe tbody tr th:only-of-type {\n",
       "        vertical-align: middle;\n",
       "    }\n",
       "\n",
       "    .dataframe tbody tr th {\n",
       "        vertical-align: top;\n",
       "    }\n",
       "\n",
       "    .dataframe thead th {\n",
       "        text-align: right;\n",
       "    }\n",
       "</style>\n",
       "<table border=\"1\" class=\"dataframe\">\n",
       "  <thead>\n",
       "    <tr style=\"text-align: right;\">\n",
       "      <th></th>\n",
       "      <th>0</th>\n",
       "      <th>1</th>\n",
       "      <th>2</th>\n",
       "      <th>3</th>\n",
       "    </tr>\n",
       "  </thead>\n",
       "  <tbody>\n",
       "    <tr>\n",
       "      <th>0</th>\n",
       "      <td>0.0</td>\n",
       "      <td>0.0</td>\n",
       "      <td>0.0</td>\n",
       "      <td>0.0</td>\n",
       "    </tr>\n",
       "    <tr>\n",
       "      <th>1</th>\n",
       "      <td>0.0</td>\n",
       "      <td>0.0</td>\n",
       "      <td>0.0</td>\n",
       "      <td>0.0</td>\n",
       "    </tr>\n",
       "    <tr>\n",
       "      <th>2</th>\n",
       "      <td>0.0</td>\n",
       "      <td>0.0</td>\n",
       "      <td>0.0</td>\n",
       "      <td>0.0</td>\n",
       "    </tr>\n",
       "    <tr>\n",
       "      <th>3</th>\n",
       "      <td>0.0</td>\n",
       "      <td>0.0</td>\n",
       "      <td>0.0</td>\n",
       "      <td>0.0</td>\n",
       "    </tr>\n",
       "  </tbody>\n",
       "</table>\n",
       "</div>"
      ],
      "text/plain": [
       "     0    1    2    3\n",
       "0  0.0  0.0  0.0  0.0\n",
       "1  0.0  0.0  0.0  0.0\n",
       "2  0.0  0.0  0.0  0.0\n",
       "3  0.0  0.0  0.0  0.0"
      ]
     },
     "execution_count": 60,
     "metadata": {},
     "output_type": "execute_result"
    }
   ],
   "source": [
    "zr_df = pd.DataFrame(zr_data)\n",
    "\n",
    "zr_df"
   ]
  },
  {
   "cell_type": "code",
   "execution_count": 61,
   "id": "a455e6c8",
   "metadata": {
    "scrolled": true
   },
   "outputs": [
    {
     "data": {
      "text/html": [
       "<div>\n",
       "<style scoped>\n",
       "    .dataframe tbody tr th:only-of-type {\n",
       "        vertical-align: middle;\n",
       "    }\n",
       "\n",
       "    .dataframe tbody tr th {\n",
       "        vertical-align: top;\n",
       "    }\n",
       "\n",
       "    .dataframe thead th {\n",
       "        text-align: right;\n",
       "    }\n",
       "</style>\n",
       "<table border=\"1\" class=\"dataframe\">\n",
       "  <thead>\n",
       "    <tr style=\"text-align: right;\">\n",
       "      <th></th>\n",
       "      <th>0</th>\n",
       "      <th>1</th>\n",
       "      <th>2</th>\n",
       "      <th>3</th>\n",
       "    </tr>\n",
       "  </thead>\n",
       "  <tbody>\n",
       "    <tr>\n",
       "      <th>0</th>\n",
       "      <td>0.0</td>\n",
       "      <td>0.0</td>\n",
       "      <td>0.0</td>\n",
       "      <td>0.0</td>\n",
       "    </tr>\n",
       "    <tr>\n",
       "      <th>1</th>\n",
       "      <td>0.0</td>\n",
       "      <td>0.0</td>\n",
       "      <td>0.0</td>\n",
       "      <td>0.0</td>\n",
       "    </tr>\n",
       "  </tbody>\n",
       "</table>\n",
       "</div>"
      ],
      "text/plain": [
       "     0    1    2    3\n",
       "0  0.0  0.0  0.0  0.0\n",
       "1  0.0  0.0  0.0  0.0"
      ]
     },
     "execution_count": 61,
     "metadata": {},
     "output_type": "execute_result"
    }
   ],
   "source": [
    "zr_df[:3][:2]"
   ]
  },
  {
   "cell_type": "code",
   "execution_count": 62,
   "id": "b2406121",
   "metadata": {},
   "outputs": [
    {
     "data": {
      "text/html": [
       "<div>\n",
       "<style scoped>\n",
       "    .dataframe tbody tr th:only-of-type {\n",
       "        vertical-align: middle;\n",
       "    }\n",
       "\n",
       "    .dataframe tbody tr th {\n",
       "        vertical-align: top;\n",
       "    }\n",
       "\n",
       "    .dataframe thead th {\n",
       "        text-align: right;\n",
       "    }\n",
       "</style>\n",
       "<table border=\"1\" class=\"dataframe\">\n",
       "  <thead>\n",
       "    <tr style=\"text-align: right;\">\n",
       "      <th></th>\n",
       "      <th>0</th>\n",
       "      <th>1</th>\n",
       "    </tr>\n",
       "  </thead>\n",
       "  <tbody>\n",
       "    <tr>\n",
       "      <th>0</th>\n",
       "      <td>0.0</td>\n",
       "      <td>0.0</td>\n",
       "    </tr>\n",
       "    <tr>\n",
       "      <th>1</th>\n",
       "      <td>0.0</td>\n",
       "      <td>0.0</td>\n",
       "    </tr>\n",
       "    <tr>\n",
       "      <th>2</th>\n",
       "      <td>0.0</td>\n",
       "      <td>0.0</td>\n",
       "    </tr>\n",
       "  </tbody>\n",
       "</table>\n",
       "</div>"
      ],
      "text/plain": [
       "     0    1\n",
       "0  0.0  0.0\n",
       "1  0.0  0.0\n",
       "2  0.0  0.0"
      ]
     },
     "execution_count": 62,
     "metadata": {},
     "output_type": "execute_result"
    }
   ],
   "source": [
    "zr_df.iloc[:3, :2]"
   ]
  },
  {
   "cell_type": "markdown",
   "id": "701e8960",
   "metadata": {},
   "source": [
    "### > 연습문제\n",
    "\n",
    "1. 아래와 같은 데이터프레임을 생성하고 출력화면과 동일한 결과를 생성하세요.\n",
    "\n",
    "![df_prac](https://github.com/insung-ethan-j/Numpy_and_Pandas/blob/b779370a58187754994887cca639105a8b7ff6c6/img/df_practice1.PNG?raw=true)"
   ]
  },
  {
   "cell_type": "code",
   "execution_count": 63,
   "id": "d39fa07a",
   "metadata": {},
   "outputs": [],
   "source": [
    "Col1 = pd.Series([0, 3, 'ks01', 2, 5])\n",
    "Col2 = pd.Series([\"big\", \"data\", \"is\", \"very\", \"good\"])\n",
    "Col3 = pd.Series([2.7, -5.0, 2.12, 8.31, -1.34])\n",
    "Col4 = pd.Series([True, True, False, False, True])\n",
    "\n",
    "col_list = [Col1, Col2, Col3, Col4]"
   ]
  },
  {
   "cell_type": "code",
   "execution_count": 64,
   "id": "77621cca",
   "metadata": {},
   "outputs": [
    {
     "data": {
      "text/html": [
       "<div>\n",
       "<style scoped>\n",
       "    .dataframe tbody tr th:only-of-type {\n",
       "        vertical-align: middle;\n",
       "    }\n",
       "\n",
       "    .dataframe tbody tr th {\n",
       "        vertical-align: top;\n",
       "    }\n",
       "\n",
       "    .dataframe thead th {\n",
       "        text-align: right;\n",
       "    }\n",
       "</style>\n",
       "<table border=\"1\" class=\"dataframe\">\n",
       "  <thead>\n",
       "    <tr style=\"text-align: right;\">\n",
       "      <th></th>\n",
       "      <th>Col1</th>\n",
       "      <th>Col2</th>\n",
       "      <th>Col3</th>\n",
       "      <th>Col4</th>\n",
       "    </tr>\n",
       "  </thead>\n",
       "  <tbody>\n",
       "    <tr>\n",
       "      <th>0</th>\n",
       "      <td>0</td>\n",
       "      <td>big</td>\n",
       "      <td>2.70</td>\n",
       "      <td>True</td>\n",
       "    </tr>\n",
       "    <tr>\n",
       "      <th>1</th>\n",
       "      <td>3</td>\n",
       "      <td>data</td>\n",
       "      <td>-5.00</td>\n",
       "      <td>True</td>\n",
       "    </tr>\n",
       "    <tr>\n",
       "      <th>2</th>\n",
       "      <td>ks01</td>\n",
       "      <td>is</td>\n",
       "      <td>2.12</td>\n",
       "      <td>False</td>\n",
       "    </tr>\n",
       "    <tr>\n",
       "      <th>3</th>\n",
       "      <td>2</td>\n",
       "      <td>very</td>\n",
       "      <td>8.31</td>\n",
       "      <td>False</td>\n",
       "    </tr>\n",
       "    <tr>\n",
       "      <th>4</th>\n",
       "      <td>5</td>\n",
       "      <td>good</td>\n",
       "      <td>-1.34</td>\n",
       "      <td>True</td>\n",
       "    </tr>\n",
       "  </tbody>\n",
       "</table>\n",
       "</div>"
      ],
      "text/plain": [
       "   Col1  Col2  Col3   Col4\n",
       "0     0   big  2.70   True\n",
       "1     3  data -5.00   True\n",
       "2  ks01    is  2.12  False\n",
       "3     2  very  8.31  False\n",
       "4     5  good -1.34   True"
      ]
     },
     "execution_count": 64,
     "metadata": {},
     "output_type": "execute_result"
    }
   ],
   "source": [
    "df_prac = pd.DataFrame({'Col1':col_list[0], 'Col2':col_list[1],\n",
    "                       'Col3':col_list[2], 'Col4':col_list[3]})\n",
    "\n",
    "df_prac"
   ]
  },
  {
   "cell_type": "code",
   "execution_count": 65,
   "id": "e52a4d0a",
   "metadata": {},
   "outputs": [
    {
     "data": {
      "text/html": [
       "<div>\n",
       "<style scoped>\n",
       "    .dataframe tbody tr th:only-of-type {\n",
       "        vertical-align: middle;\n",
       "    }\n",
       "\n",
       "    .dataframe tbody tr th {\n",
       "        vertical-align: top;\n",
       "    }\n",
       "\n",
       "    .dataframe thead th {\n",
       "        text-align: right;\n",
       "    }\n",
       "</style>\n",
       "<table border=\"1\" class=\"dataframe\">\n",
       "  <thead>\n",
       "    <tr style=\"text-align: right;\">\n",
       "      <th></th>\n",
       "      <th>Col1</th>\n",
       "      <th>Col2</th>\n",
       "      <th>Col3</th>\n",
       "      <th>Col4</th>\n",
       "    </tr>\n",
       "  </thead>\n",
       "  <tbody>\n",
       "    <tr>\n",
       "      <th>A</th>\n",
       "      <td>0</td>\n",
       "      <td>big</td>\n",
       "      <td>2.70</td>\n",
       "      <td>True</td>\n",
       "    </tr>\n",
       "    <tr>\n",
       "      <th>B</th>\n",
       "      <td>3</td>\n",
       "      <td>data</td>\n",
       "      <td>-5.00</td>\n",
       "      <td>True</td>\n",
       "    </tr>\n",
       "    <tr>\n",
       "      <th>C</th>\n",
       "      <td>ks01</td>\n",
       "      <td>is</td>\n",
       "      <td>2.12</td>\n",
       "      <td>False</td>\n",
       "    </tr>\n",
       "    <tr>\n",
       "      <th>D</th>\n",
       "      <td>2</td>\n",
       "      <td>very</td>\n",
       "      <td>8.31</td>\n",
       "      <td>False</td>\n",
       "    </tr>\n",
       "    <tr>\n",
       "      <th>E</th>\n",
       "      <td>5</td>\n",
       "      <td>good</td>\n",
       "      <td>-1.34</td>\n",
       "      <td>True</td>\n",
       "    </tr>\n",
       "  </tbody>\n",
       "</table>\n",
       "</div>"
      ],
      "text/plain": [
       "   Col1  Col2  Col3   Col4\n",
       "A     0   big  2.70   True\n",
       "B     3  data -5.00   True\n",
       "C  ks01    is  2.12  False\n",
       "D     2  very  8.31  False\n",
       "E     5  good -1.34   True"
      ]
     },
     "execution_count": 65,
     "metadata": {},
     "output_type": "execute_result"
    }
   ],
   "source": [
    "df_prac.index = list(\"ABCDE\")\n",
    "\n",
    "df_prac"
   ]
  },
  {
   "cell_type": "markdown",
   "id": "af47bfbe",
   "metadata": {},
   "source": [
    "<br>\n",
    "\n",
    "2. 'Col1', 'Col3' 함께 추출"
   ]
  },
  {
   "cell_type": "code",
   "execution_count": 66,
   "id": "15ff8c72",
   "metadata": {},
   "outputs": [
    {
     "data": {
      "text/html": [
       "<div>\n",
       "<style scoped>\n",
       "    .dataframe tbody tr th:only-of-type {\n",
       "        vertical-align: middle;\n",
       "    }\n",
       "\n",
       "    .dataframe tbody tr th {\n",
       "        vertical-align: top;\n",
       "    }\n",
       "\n",
       "    .dataframe thead th {\n",
       "        text-align: right;\n",
       "    }\n",
       "</style>\n",
       "<table border=\"1\" class=\"dataframe\">\n",
       "  <thead>\n",
       "    <tr style=\"text-align: right;\">\n",
       "      <th></th>\n",
       "      <th>Col1</th>\n",
       "      <th>Col3</th>\n",
       "    </tr>\n",
       "  </thead>\n",
       "  <tbody>\n",
       "    <tr>\n",
       "      <th>A</th>\n",
       "      <td>0</td>\n",
       "      <td>2.70</td>\n",
       "    </tr>\n",
       "    <tr>\n",
       "      <th>B</th>\n",
       "      <td>3</td>\n",
       "      <td>-5.00</td>\n",
       "    </tr>\n",
       "    <tr>\n",
       "      <th>C</th>\n",
       "      <td>ks01</td>\n",
       "      <td>2.12</td>\n",
       "    </tr>\n",
       "    <tr>\n",
       "      <th>D</th>\n",
       "      <td>2</td>\n",
       "      <td>8.31</td>\n",
       "    </tr>\n",
       "    <tr>\n",
       "      <th>E</th>\n",
       "      <td>5</td>\n",
       "      <td>-1.34</td>\n",
       "    </tr>\n",
       "  </tbody>\n",
       "</table>\n",
       "</div>"
      ],
      "text/plain": [
       "   Col1  Col3\n",
       "A     0  2.70\n",
       "B     3 -5.00\n",
       "C  ks01  2.12\n",
       "D     2  8.31\n",
       "E     5 -1.34"
      ]
     },
     "execution_count": 66,
     "metadata": {},
     "output_type": "execute_result"
    }
   ],
   "source": [
    "df_prac[['Col1', 'Col3']]"
   ]
  },
  {
   "cell_type": "markdown",
   "id": "80ac4a34",
   "metadata": {},
   "source": [
    "<br>\n",
    "\n",
    "3. row 'A', 'C', 'D' 추출"
   ]
  },
  {
   "cell_type": "code",
   "execution_count": 67,
   "id": "c4953e02",
   "metadata": {},
   "outputs": [
    {
     "data": {
      "text/html": [
       "<div>\n",
       "<style scoped>\n",
       "    .dataframe tbody tr th:only-of-type {\n",
       "        vertical-align: middle;\n",
       "    }\n",
       "\n",
       "    .dataframe tbody tr th {\n",
       "        vertical-align: top;\n",
       "    }\n",
       "\n",
       "    .dataframe thead th {\n",
       "        text-align: right;\n",
       "    }\n",
       "</style>\n",
       "<table border=\"1\" class=\"dataframe\">\n",
       "  <thead>\n",
       "    <tr style=\"text-align: right;\">\n",
       "      <th></th>\n",
       "      <th>Col1</th>\n",
       "      <th>Col2</th>\n",
       "      <th>Col3</th>\n",
       "      <th>Col4</th>\n",
       "    </tr>\n",
       "  </thead>\n",
       "  <tbody>\n",
       "    <tr>\n",
       "      <th>A</th>\n",
       "      <td>0</td>\n",
       "      <td>big</td>\n",
       "      <td>2.70</td>\n",
       "      <td>True</td>\n",
       "    </tr>\n",
       "    <tr>\n",
       "      <th>C</th>\n",
       "      <td>ks01</td>\n",
       "      <td>is</td>\n",
       "      <td>2.12</td>\n",
       "      <td>False</td>\n",
       "    </tr>\n",
       "    <tr>\n",
       "      <th>D</th>\n",
       "      <td>2</td>\n",
       "      <td>very</td>\n",
       "      <td>8.31</td>\n",
       "      <td>False</td>\n",
       "    </tr>\n",
       "  </tbody>\n",
       "</table>\n",
       "</div>"
      ],
      "text/plain": [
       "   Col1  Col2  Col3   Col4\n",
       "A     0   big  2.70   True\n",
       "C  ks01    is  2.12  False\n",
       "D     2  very  8.31  False"
      ]
     },
     "execution_count": 67,
     "metadata": {},
     "output_type": "execute_result"
    }
   ],
   "source": [
    "df_prac.loc[['A', 'C', 'D']]"
   ]
  },
  {
   "cell_type": "markdown",
   "id": "a7dc0d19",
   "metadata": {},
   "source": [
    "<br>\n",
    "\n",
    "4. row 'B', 'D' > columns 'Col1', 'Col2' 추출"
   ]
  },
  {
   "cell_type": "code",
   "execution_count": 68,
   "id": "2b858361",
   "metadata": {},
   "outputs": [
    {
     "data": {
      "text/html": [
       "<div>\n",
       "<style scoped>\n",
       "    .dataframe tbody tr th:only-of-type {\n",
       "        vertical-align: middle;\n",
       "    }\n",
       "\n",
       "    .dataframe tbody tr th {\n",
       "        vertical-align: top;\n",
       "    }\n",
       "\n",
       "    .dataframe thead th {\n",
       "        text-align: right;\n",
       "    }\n",
       "</style>\n",
       "<table border=\"1\" class=\"dataframe\">\n",
       "  <thead>\n",
       "    <tr style=\"text-align: right;\">\n",
       "      <th></th>\n",
       "      <th>Col1</th>\n",
       "      <th>Col2</th>\n",
       "    </tr>\n",
       "  </thead>\n",
       "  <tbody>\n",
       "    <tr>\n",
       "      <th>B</th>\n",
       "      <td>3</td>\n",
       "      <td>data</td>\n",
       "    </tr>\n",
       "    <tr>\n",
       "      <th>D</th>\n",
       "      <td>2</td>\n",
       "      <td>very</td>\n",
       "    </tr>\n",
       "  </tbody>\n",
       "</table>\n",
       "</div>"
      ],
      "text/plain": [
       "  Col1  Col2\n",
       "B    3  data\n",
       "D    2  very"
      ]
     },
     "execution_count": 68,
     "metadata": {},
     "output_type": "execute_result"
    }
   ],
   "source": [
    "df_prac[['Col1', 'Col2']].loc[['B', 'D']]"
   ]
  },
  {
   "cell_type": "markdown",
   "id": "6586e1d8",
   "metadata": {},
   "source": [
    "## 5. columns, row 추가, 변경\n",
    "\n",
    "- columns 추가, 변경: column indexing: `df['column']`\n",
    "\n",
    "    1. scalar value\n",
    "\n",
    "    2. `ndarray`, `list`(row개수와 item개수 일치)\n",
    "\n",
    "    3. column 간의 연산 (a col $\\pm$ b col = c col)\n",
    "\n",
    "    4. `Series` object 전달\n",
    "\n",
    "\n",
    "\n",
    "- row 추가, 변경: row indexing: `df.loc['row']`\n",
    "\n",
    "    1. scalar value\n",
    "\n",
    "    2. `ndarray`, `list`, `dict`(column개수와 item개수 일치)\n",
    "    \n",
    "    3. operation between rows\n",
    "    \n",
    "  \n",
    "\n",
    "- Data analystic에서 row와 column의 의미\n",
    "    \n",
    "    - column: variable(charateristic)\n",
    "    \n",
    "    - row: 개체별 data(`record`)\n",
    "\n",
    "> 전체 데이터를 구성하는 variable(columns)를 추가, 삭제하는 일은 빈번하게 발생하지만,   \n",
    "특정 index를 기준으로 한 row data(record)를 추가, 삭제하는 일은 자주 발생하지 않음.   \n",
    "데이터 처리를 하는 과정에서 record 추가, 삭제는 권장하지 않는 작업."
   ]
  },
  {
   "cell_type": "markdown",
   "id": "25a83ce7",
   "metadata": {},
   "source": [
    "### 5.1. columns 추가"
   ]
  },
  {
   "cell_type": "markdown",
   "id": "c235c778",
   "metadata": {},
   "source": [
    " 1. 모든 row에 대해서 동일한 value를 가지는 column 추가: scalar value(single value)\n",
    "\n",
    "- `df['column'] = scalar value`"
   ]
  },
  {
   "cell_type": "code",
   "execution_count": 69,
   "id": "3c2309be",
   "metadata": {},
   "outputs": [
    {
     "data": {
      "text/html": [
       "<div>\n",
       "<style scoped>\n",
       "    .dataframe tbody tr th:only-of-type {\n",
       "        vertical-align: middle;\n",
       "    }\n",
       "\n",
       "    .dataframe tbody tr th {\n",
       "        vertical-align: top;\n",
       "    }\n",
       "\n",
       "    .dataframe thead th {\n",
       "        text-align: right;\n",
       "    }\n",
       "</style>\n",
       "<table border=\"1\" class=\"dataframe\">\n",
       "  <thead>\n",
       "    <tr style=\"text-align: right;\">\n",
       "      <th>location</th>\n",
       "      <th>서울</th>\n",
       "      <th>경기</th>\n",
       "      <th>충청</th>\n",
       "      <th>경상</th>\n",
       "      <th>전라</th>\n",
       "      <th>제주</th>\n",
       "    </tr>\n",
       "  </thead>\n",
       "  <tbody>\n",
       "    <tr>\n",
       "      <th>1998</th>\n",
       "      <td>150</td>\n",
       "      <td>200</td>\n",
       "      <td>-10</td>\n",
       "      <td>10</td>\n",
       "      <td>5</td>\n",
       "      <td>1</td>\n",
       "    </tr>\n",
       "    <tr>\n",
       "      <th>1999</th>\n",
       "      <td>180</td>\n",
       "      <td>240</td>\n",
       "      <td>3</td>\n",
       "      <td>20</td>\n",
       "      <td>6</td>\n",
       "      <td>1</td>\n",
       "    </tr>\n",
       "    <tr>\n",
       "      <th>2000</th>\n",
       "      <td>300</td>\n",
       "      <td>450</td>\n",
       "      <td>-13</td>\n",
       "      <td>30</td>\n",
       "      <td>7</td>\n",
       "      <td>1</td>\n",
       "    </tr>\n",
       "  </tbody>\n",
       "</table>\n",
       "</div>"
      ],
      "text/plain": [
       "location   서울   경기  충청  경상  전라  제주\n",
       "1998      150  200 -10  10   5   1\n",
       "1999      180  240   3  20   6   1\n",
       "2000      300  450 -13  30   7   1"
      ]
     },
     "execution_count": 69,
     "metadata": {},
     "output_type": "execute_result"
    }
   ],
   "source": [
    "pop_sample['제주'] = 1\n",
    "\n",
    "pop_sample"
   ]
  },
  {
   "cell_type": "markdown",
   "id": "7f3e1134",
   "metadata": {},
   "source": [
    "<br>\n",
    "\n",
    "2. 서로 다른 value의 data로 구성된 column 추가: `df['column'] = list or ndarray`\n",
    "    \n",
    "- Condition: `ndarray` or `list`의 length는 row length와 일치해야 함"
   ]
  },
  {
   "cell_type": "code",
   "execution_count": 70,
   "id": "ebafda83",
   "metadata": {
    "scrolled": true
   },
   "outputs": [
    {
     "name": "stdout",
     "output_type": "stream",
     "text": [
      "3\n"
     ]
    },
    {
     "data": {
      "text/html": [
       "<div>\n",
       "<style scoped>\n",
       "    .dataframe tbody tr th:only-of-type {\n",
       "        vertical-align: middle;\n",
       "    }\n",
       "\n",
       "    .dataframe tbody tr th {\n",
       "        vertical-align: top;\n",
       "    }\n",
       "\n",
       "    .dataframe thead th {\n",
       "        text-align: right;\n",
       "    }\n",
       "</style>\n",
       "<table border=\"1\" class=\"dataframe\">\n",
       "  <thead>\n",
       "    <tr style=\"text-align: right;\">\n",
       "      <th>location</th>\n",
       "      <th>서울</th>\n",
       "      <th>경기</th>\n",
       "      <th>충청</th>\n",
       "      <th>경상</th>\n",
       "      <th>전라</th>\n",
       "      <th>제주</th>\n",
       "      <th>부산</th>\n",
       "    </tr>\n",
       "  </thead>\n",
       "  <tbody>\n",
       "    <tr>\n",
       "      <th>1998</th>\n",
       "      <td>150</td>\n",
       "      <td>200</td>\n",
       "      <td>-10</td>\n",
       "      <td>10</td>\n",
       "      <td>5</td>\n",
       "      <td>1</td>\n",
       "      <td>5</td>\n",
       "    </tr>\n",
       "    <tr>\n",
       "      <th>1999</th>\n",
       "      <td>180</td>\n",
       "      <td>240</td>\n",
       "      <td>3</td>\n",
       "      <td>20</td>\n",
       "      <td>6</td>\n",
       "      <td>1</td>\n",
       "      <td>5</td>\n",
       "    </tr>\n",
       "    <tr>\n",
       "      <th>2000</th>\n",
       "      <td>300</td>\n",
       "      <td>450</td>\n",
       "      <td>-13</td>\n",
       "      <td>30</td>\n",
       "      <td>7</td>\n",
       "      <td>1</td>\n",
       "      <td>2</td>\n",
       "    </tr>\n",
       "  </tbody>\n",
       "</table>\n",
       "</div>"
      ],
      "text/plain": [
       "location   서울   경기  충청  경상  전라  제주  부산\n",
       "1998      150  200 -10  10   5   1   5\n",
       "1999      180  240   3  20   6   1   5\n",
       "2000      300  450 -13  30   7   1   2"
      ]
     },
     "execution_count": 70,
     "metadata": {},
     "output_type": "execute_result"
    }
   ],
   "source": [
    "print(len(pop_sample))\n",
    "\n",
    "pop_sample['부산'] = np.random.randint(1, 10, len(pop_sample))\n",
    "\n",
    "pop_sample"
   ]
  },
  {
   "cell_type": "markdown",
   "id": "539acce1",
   "metadata": {},
   "source": [
    "<br>\n",
    "\n",
    "3. column간의 연산 결과로 column추가: `파생변수`"
   ]
  },
  {
   "cell_type": "code",
   "execution_count": 71,
   "id": "eea7f06b",
   "metadata": {},
   "outputs": [
    {
     "data": {
      "text/html": [
       "<div>\n",
       "<style scoped>\n",
       "    .dataframe tbody tr th:only-of-type {\n",
       "        vertical-align: middle;\n",
       "    }\n",
       "\n",
       "    .dataframe tbody tr th {\n",
       "        vertical-align: top;\n",
       "    }\n",
       "\n",
       "    .dataframe thead th {\n",
       "        text-align: right;\n",
       "    }\n",
       "</style>\n",
       "<table border=\"1\" class=\"dataframe\">\n",
       "  <thead>\n",
       "    <tr style=\"text-align: right;\">\n",
       "      <th>location</th>\n",
       "      <th>서울</th>\n",
       "      <th>경기</th>\n",
       "      <th>충청</th>\n",
       "      <th>경상</th>\n",
       "      <th>전라</th>\n",
       "      <th>제주</th>\n",
       "      <th>부산</th>\n",
       "      <th>수도권</th>\n",
       "    </tr>\n",
       "  </thead>\n",
       "  <tbody>\n",
       "    <tr>\n",
       "      <th>1998</th>\n",
       "      <td>150</td>\n",
       "      <td>200</td>\n",
       "      <td>-10</td>\n",
       "      <td>10</td>\n",
       "      <td>5</td>\n",
       "      <td>1</td>\n",
       "      <td>5</td>\n",
       "      <td>350</td>\n",
       "    </tr>\n",
       "    <tr>\n",
       "      <th>1999</th>\n",
       "      <td>180</td>\n",
       "      <td>240</td>\n",
       "      <td>3</td>\n",
       "      <td>20</td>\n",
       "      <td>6</td>\n",
       "      <td>1</td>\n",
       "      <td>5</td>\n",
       "      <td>420</td>\n",
       "    </tr>\n",
       "    <tr>\n",
       "      <th>2000</th>\n",
       "      <td>300</td>\n",
       "      <td>450</td>\n",
       "      <td>-13</td>\n",
       "      <td>30</td>\n",
       "      <td>7</td>\n",
       "      <td>1</td>\n",
       "      <td>2</td>\n",
       "      <td>750</td>\n",
       "    </tr>\n",
       "  </tbody>\n",
       "</table>\n",
       "</div>"
      ],
      "text/plain": [
       "location   서울   경기  충청  경상  전라  제주  부산  수도권\n",
       "1998      150  200 -10  10   5   1   5  350\n",
       "1999      180  240   3  20   6   1   5  420\n",
       "2000      300  450 -13  30   7   1   2  750"
      ]
     },
     "execution_count": 71,
     "metadata": {},
     "output_type": "execute_result"
    }
   ],
   "source": [
    "pop_sample['수도권'] = pop_sample['서울'] + pop_sample['경기']\n",
    "\n",
    "pop_sample"
   ]
  },
  {
   "cell_type": "markdown",
   "id": "1de99358",
   "metadata": {},
   "source": [
    "<br>\n",
    "\n",
    "4. `Series object` 전달\n",
    "\n",
    "- Condition: 대상 `DataFrame`과 추가할 `Series`의 길이(column item 개수) 파악\n",
    "\n",
    "- `label index` 기준: `Series` data와 `DataFrame`의 data가 mapping\n",
    "\n",
    "    - 반드시 대상 `DataFrame`의 길이와 `Series`의 길이가 일치하지 않아도 된다.\n",
    "    \n",
    "        - `Series`에 없는 `label index`: `NaN` value filled`        "
   ]
  },
  {
   "cell_type": "code",
   "execution_count": 72,
   "id": "fc05667a",
   "metadata": {},
   "outputs": [
    {
     "data": {
      "text/plain": [
       "1998    10\n",
       "2000   -10\n",
       "dtype: int64"
      ]
     },
     "execution_count": 72,
     "metadata": {},
     "output_type": "execute_result"
    }
   ],
   "source": [
    "pop_sr = pd.Series([10, -10], index=[1998, 2000])\n",
    "\n",
    "pop_sr"
   ]
  },
  {
   "cell_type": "code",
   "execution_count": 73,
   "id": "9062853f",
   "metadata": {},
   "outputs": [
    {
     "data": {
      "text/html": [
       "<div>\n",
       "<style scoped>\n",
       "    .dataframe tbody tr th:only-of-type {\n",
       "        vertical-align: middle;\n",
       "    }\n",
       "\n",
       "    .dataframe tbody tr th {\n",
       "        vertical-align: top;\n",
       "    }\n",
       "\n",
       "    .dataframe thead th {\n",
       "        text-align: right;\n",
       "    }\n",
       "</style>\n",
       "<table border=\"1\" class=\"dataframe\">\n",
       "  <thead>\n",
       "    <tr style=\"text-align: right;\">\n",
       "      <th>location</th>\n",
       "      <th>서울</th>\n",
       "      <th>경기</th>\n",
       "      <th>충청</th>\n",
       "      <th>경상</th>\n",
       "      <th>전라</th>\n",
       "      <th>제주</th>\n",
       "      <th>부산</th>\n",
       "      <th>수도권</th>\n",
       "      <th>강원</th>\n",
       "    </tr>\n",
       "  </thead>\n",
       "  <tbody>\n",
       "    <tr>\n",
       "      <th>1998</th>\n",
       "      <td>150</td>\n",
       "      <td>200</td>\n",
       "      <td>-10</td>\n",
       "      <td>10</td>\n",
       "      <td>5</td>\n",
       "      <td>1</td>\n",
       "      <td>5</td>\n",
       "      <td>350</td>\n",
       "      <td>10.0</td>\n",
       "    </tr>\n",
       "    <tr>\n",
       "      <th>1999</th>\n",
       "      <td>180</td>\n",
       "      <td>240</td>\n",
       "      <td>3</td>\n",
       "      <td>20</td>\n",
       "      <td>6</td>\n",
       "      <td>1</td>\n",
       "      <td>5</td>\n",
       "      <td>420</td>\n",
       "      <td>NaN</td>\n",
       "    </tr>\n",
       "    <tr>\n",
       "      <th>2000</th>\n",
       "      <td>300</td>\n",
       "      <td>450</td>\n",
       "      <td>-13</td>\n",
       "      <td>30</td>\n",
       "      <td>7</td>\n",
       "      <td>1</td>\n",
       "      <td>2</td>\n",
       "      <td>750</td>\n",
       "      <td>-10.0</td>\n",
       "    </tr>\n",
       "  </tbody>\n",
       "</table>\n",
       "</div>"
      ],
      "text/plain": [
       "location   서울   경기  충청  경상  전라  제주  부산  수도권    강원\n",
       "1998      150  200 -10  10   5   1   5  350  10.0\n",
       "1999      180  240   3  20   6   1   5  420   NaN\n",
       "2000      300  450 -13  30   7   1   2  750 -10.0"
      ]
     },
     "execution_count": 73,
     "metadata": {},
     "output_type": "execute_result"
    }
   ],
   "source": [
    "pop_sample[\"강원\"] = pop_sr\n",
    "\n",
    "pop_sample"
   ]
  },
  {
   "cell_type": "markdown",
   "id": "58725d08",
   "metadata": {},
   "source": [
    "<br>\n",
    "\n",
    "- length(data 개수)가 동일해도 `label index`기준 mapping: `Series`에 없는 column > `NaN` filled"
   ]
  },
  {
   "cell_type": "code",
   "execution_count": 74,
   "id": "73246868",
   "metadata": {
    "scrolled": true
   },
   "outputs": [
    {
     "data": {
      "text/plain": [
       "0    100\n",
       "1    200\n",
       "2    300\n",
       "dtype: int64"
      ]
     },
     "execution_count": 74,
     "metadata": {},
     "output_type": "execute_result"
    }
   ],
   "source": [
    "no_label_sr = pd.Series([100, 200, 300])\n",
    "\n",
    "no_label_sr"
   ]
  },
  {
   "cell_type": "code",
   "execution_count": 75,
   "id": "b4436d31",
   "metadata": {
    "scrolled": true
   },
   "outputs": [
    {
     "data": {
      "text/html": [
       "<div>\n",
       "<style scoped>\n",
       "    .dataframe tbody tr th:only-of-type {\n",
       "        vertical-align: middle;\n",
       "    }\n",
       "\n",
       "    .dataframe tbody tr th {\n",
       "        vertical-align: top;\n",
       "    }\n",
       "\n",
       "    .dataframe thead th {\n",
       "        text-align: right;\n",
       "    }\n",
       "</style>\n",
       "<table border=\"1\" class=\"dataframe\">\n",
       "  <thead>\n",
       "    <tr style=\"text-align: right;\">\n",
       "      <th>location</th>\n",
       "      <th>서울</th>\n",
       "      <th>경기</th>\n",
       "      <th>충청</th>\n",
       "      <th>경상</th>\n",
       "      <th>전라</th>\n",
       "      <th>제주</th>\n",
       "      <th>부산</th>\n",
       "      <th>수도권</th>\n",
       "      <th>강원</th>\n",
       "      <th>test</th>\n",
       "    </tr>\n",
       "  </thead>\n",
       "  <tbody>\n",
       "    <tr>\n",
       "      <th>1998</th>\n",
       "      <td>150</td>\n",
       "      <td>200</td>\n",
       "      <td>-10</td>\n",
       "      <td>10</td>\n",
       "      <td>5</td>\n",
       "      <td>1</td>\n",
       "      <td>5</td>\n",
       "      <td>350</td>\n",
       "      <td>10.0</td>\n",
       "      <td>NaN</td>\n",
       "    </tr>\n",
       "    <tr>\n",
       "      <th>1999</th>\n",
       "      <td>180</td>\n",
       "      <td>240</td>\n",
       "      <td>3</td>\n",
       "      <td>20</td>\n",
       "      <td>6</td>\n",
       "      <td>1</td>\n",
       "      <td>5</td>\n",
       "      <td>420</td>\n",
       "      <td>NaN</td>\n",
       "      <td>NaN</td>\n",
       "    </tr>\n",
       "    <tr>\n",
       "      <th>2000</th>\n",
       "      <td>300</td>\n",
       "      <td>450</td>\n",
       "      <td>-13</td>\n",
       "      <td>30</td>\n",
       "      <td>7</td>\n",
       "      <td>1</td>\n",
       "      <td>2</td>\n",
       "      <td>750</td>\n",
       "      <td>-10.0</td>\n",
       "      <td>NaN</td>\n",
       "    </tr>\n",
       "  </tbody>\n",
       "</table>\n",
       "</div>"
      ],
      "text/plain": [
       "location   서울   경기  충청  경상  전라  제주  부산  수도권    강원  test\n",
       "1998      150  200 -10  10   5   1   5  350  10.0   NaN\n",
       "1999      180  240   3  20   6   1   5  420   NaN   NaN\n",
       "2000      300  450 -13  30   7   1   2  750 -10.0   NaN"
      ]
     },
     "execution_count": 75,
     "metadata": {},
     "output_type": "execute_result"
    }
   ],
   "source": [
    "pop_sample['test'] = no_label_sr\n",
    "\n",
    "pop_sample"
   ]
  },
  {
   "cell_type": "markdown",
   "id": "24e0dd53",
   "metadata": {},
   "source": [
    "### 5.2. row 추가"
   ]
  },
  {
   "cell_type": "markdown",
   "id": "d79f81c4",
   "metadata": {},
   "source": [
    "- row 추가: row indeing\n",
    "\n",
    "    1. scalar value\n",
    "    \n",
    "    2. operation between rows\n",
    "    \n",
    "    3. `ndarray`, `list`, `dict`: columns 개수와 item 개수 일치해야 함"
   ]
  },
  {
   "cell_type": "markdown",
   "id": "13b4fa2e",
   "metadata": {},
   "source": [
    "<br>\n",
    "\n",
    "- row 추가\n",
    "\n",
    "    1. scalar value: `df.loc[idx] = scalar`: column 추가와 동일"
   ]
  },
  {
   "cell_type": "code",
   "execution_count": 76,
   "id": "714e1d4e",
   "metadata": {},
   "outputs": [
    {
     "data": {
      "text/html": [
       "<div>\n",
       "<style scoped>\n",
       "    .dataframe tbody tr th:only-of-type {\n",
       "        vertical-align: middle;\n",
       "    }\n",
       "\n",
       "    .dataframe tbody tr th {\n",
       "        vertical-align: top;\n",
       "    }\n",
       "\n",
       "    .dataframe thead th {\n",
       "        text-align: right;\n",
       "    }\n",
       "</style>\n",
       "<table border=\"1\" class=\"dataframe\">\n",
       "  <thead>\n",
       "    <tr style=\"text-align: right;\">\n",
       "      <th>location</th>\n",
       "      <th>서울</th>\n",
       "      <th>경기</th>\n",
       "      <th>충청</th>\n",
       "      <th>경상</th>\n",
       "      <th>전라</th>\n",
       "      <th>제주</th>\n",
       "      <th>부산</th>\n",
       "      <th>수도권</th>\n",
       "      <th>강원</th>\n",
       "      <th>test</th>\n",
       "    </tr>\n",
       "  </thead>\n",
       "  <tbody>\n",
       "    <tr>\n",
       "      <th>1998</th>\n",
       "      <td>150</td>\n",
       "      <td>200</td>\n",
       "      <td>-10</td>\n",
       "      <td>10</td>\n",
       "      <td>5</td>\n",
       "      <td>1</td>\n",
       "      <td>5</td>\n",
       "      <td>350</td>\n",
       "      <td>10.0</td>\n",
       "      <td>NaN</td>\n",
       "    </tr>\n",
       "    <tr>\n",
       "      <th>1999</th>\n",
       "      <td>180</td>\n",
       "      <td>240</td>\n",
       "      <td>3</td>\n",
       "      <td>20</td>\n",
       "      <td>6</td>\n",
       "      <td>1</td>\n",
       "      <td>5</td>\n",
       "      <td>420</td>\n",
       "      <td>NaN</td>\n",
       "      <td>NaN</td>\n",
       "    </tr>\n",
       "    <tr>\n",
       "      <th>2000</th>\n",
       "      <td>300</td>\n",
       "      <td>450</td>\n",
       "      <td>-13</td>\n",
       "      <td>30</td>\n",
       "      <td>7</td>\n",
       "      <td>1</td>\n",
       "      <td>2</td>\n",
       "      <td>750</td>\n",
       "      <td>-10.0</td>\n",
       "      <td>NaN</td>\n",
       "    </tr>\n",
       "    <tr>\n",
       "      <th>2001</th>\n",
       "      <td>0</td>\n",
       "      <td>0</td>\n",
       "      <td>0</td>\n",
       "      <td>0</td>\n",
       "      <td>0</td>\n",
       "      <td>0</td>\n",
       "      <td>0</td>\n",
       "      <td>0</td>\n",
       "      <td>0.0</td>\n",
       "      <td>0.0</td>\n",
       "    </tr>\n",
       "  </tbody>\n",
       "</table>\n",
       "</div>"
      ],
      "text/plain": [
       "location   서울   경기  충청  경상  전라  제주  부산  수도권    강원  test\n",
       "1998      150  200 -10  10   5   1   5  350  10.0   NaN\n",
       "1999      180  240   3  20   6   1   5  420   NaN   NaN\n",
       "2000      300  450 -13  30   7   1   2  750 -10.0   NaN\n",
       "2001        0    0   0   0   0   0   0    0   0.0   0.0"
      ]
     },
     "execution_count": 76,
     "metadata": {},
     "output_type": "execute_result"
    }
   ],
   "source": [
    "pop_sample.loc[2001] = 0\n",
    "\n",
    "pop_sample"
   ]
  },
  {
   "cell_type": "code",
   "execution_count": 77,
   "id": "a3df2f97",
   "metadata": {},
   "outputs": [
    {
     "data": {
      "text/plain": [
       "(4, 10)"
      ]
     },
     "execution_count": 77,
     "metadata": {},
     "output_type": "execute_result"
    }
   ],
   "source": [
    "pop_sample.shape"
   ]
  },
  {
   "cell_type": "markdown",
   "id": "1209b684",
   "metadata": {},
   "source": [
    "<br>\n",
    "\n",
    "- row 추가 \n",
    "    \n",
    "    2. data value: `ndarry`, `list`, `dict` data type\n",
    "    \n",
    "        - column 개수와 data item 개수 일치\n",
    "        \n",
    "<br>\n",
    "\n",
    "- `ndarray`로 추가"
   ]
  },
  {
   "cell_type": "code",
   "execution_count": 78,
   "id": "5c2033e6",
   "metadata": {
    "scrolled": true
   },
   "outputs": [
    {
     "data": {
      "text/html": [
       "<div>\n",
       "<style scoped>\n",
       "    .dataframe tbody tr th:only-of-type {\n",
       "        vertical-align: middle;\n",
       "    }\n",
       "\n",
       "    .dataframe tbody tr th {\n",
       "        vertical-align: top;\n",
       "    }\n",
       "\n",
       "    .dataframe thead th {\n",
       "        text-align: right;\n",
       "    }\n",
       "</style>\n",
       "<table border=\"1\" class=\"dataframe\">\n",
       "  <thead>\n",
       "    <tr style=\"text-align: right;\">\n",
       "      <th>location</th>\n",
       "      <th>서울</th>\n",
       "      <th>경기</th>\n",
       "      <th>충청</th>\n",
       "      <th>경상</th>\n",
       "      <th>전라</th>\n",
       "      <th>제주</th>\n",
       "      <th>부산</th>\n",
       "      <th>수도권</th>\n",
       "      <th>강원</th>\n",
       "      <th>test</th>\n",
       "    </tr>\n",
       "  </thead>\n",
       "  <tbody>\n",
       "    <tr>\n",
       "      <th>1998</th>\n",
       "      <td>150</td>\n",
       "      <td>200</td>\n",
       "      <td>-10</td>\n",
       "      <td>10</td>\n",
       "      <td>5</td>\n",
       "      <td>1</td>\n",
       "      <td>5</td>\n",
       "      <td>350</td>\n",
       "      <td>10.0</td>\n",
       "      <td>NaN</td>\n",
       "    </tr>\n",
       "    <tr>\n",
       "      <th>1999</th>\n",
       "      <td>180</td>\n",
       "      <td>240</td>\n",
       "      <td>3</td>\n",
       "      <td>20</td>\n",
       "      <td>6</td>\n",
       "      <td>1</td>\n",
       "      <td>5</td>\n",
       "      <td>420</td>\n",
       "      <td>NaN</td>\n",
       "      <td>NaN</td>\n",
       "    </tr>\n",
       "    <tr>\n",
       "      <th>2000</th>\n",
       "      <td>300</td>\n",
       "      <td>450</td>\n",
       "      <td>-13</td>\n",
       "      <td>30</td>\n",
       "      <td>7</td>\n",
       "      <td>1</td>\n",
       "      <td>2</td>\n",
       "      <td>750</td>\n",
       "      <td>-10.0</td>\n",
       "      <td>NaN</td>\n",
       "    </tr>\n",
       "    <tr>\n",
       "      <th>2001</th>\n",
       "      <td>0</td>\n",
       "      <td>0</td>\n",
       "      <td>0</td>\n",
       "      <td>0</td>\n",
       "      <td>0</td>\n",
       "      <td>0</td>\n",
       "      <td>0</td>\n",
       "      <td>0</td>\n",
       "      <td>0.0</td>\n",
       "      <td>0.0</td>\n",
       "    </tr>\n",
       "    <tr>\n",
       "      <th>2002</th>\n",
       "      <td>-90</td>\n",
       "      <td>49</td>\n",
       "      <td>3</td>\n",
       "      <td>-77</td>\n",
       "      <td>-34</td>\n",
       "      <td>7</td>\n",
       "      <td>11</td>\n",
       "      <td>21</td>\n",
       "      <td>83.0</td>\n",
       "      <td>50.0</td>\n",
       "    </tr>\n",
       "  </tbody>\n",
       "</table>\n",
       "</div>"
      ],
      "text/plain": [
       "location   서울   경기  충청  경상  전라  제주  부산  수도권    강원  test\n",
       "1998      150  200 -10  10   5   1   5  350  10.0   NaN\n",
       "1999      180  240   3  20   6   1   5  420   NaN   NaN\n",
       "2000      300  450 -13  30   7   1   2  750 -10.0   NaN\n",
       "2001        0    0   0   0   0   0   0    0   0.0   0.0\n",
       "2002      -90   49   3 -77 -34   7  11   21  83.0  50.0"
      ]
     },
     "execution_count": 78,
     "metadata": {},
     "output_type": "execute_result"
    }
   ],
   "source": [
    "pop_sample.loc[2002] = np.random.randint(-100, 100, 10)\n",
    "\n",
    "pop_sample"
   ]
  },
  {
   "cell_type": "markdown",
   "id": "4c240598",
   "metadata": {},
   "source": [
    "<br>\n",
    "\n",
    "- `dict`로 추가: `{'key':'value', ...}` > `'column':'value', ...` : column별 value 지정 가능"
   ]
  },
  {
   "cell_type": "code",
   "execution_count": 79,
   "id": "1a1703b5",
   "metadata": {},
   "outputs": [
    {
     "data": {
      "text/html": [
       "<div>\n",
       "<style scoped>\n",
       "    .dataframe tbody tr th:only-of-type {\n",
       "        vertical-align: middle;\n",
       "    }\n",
       "\n",
       "    .dataframe tbody tr th {\n",
       "        vertical-align: top;\n",
       "    }\n",
       "\n",
       "    .dataframe thead th {\n",
       "        text-align: right;\n",
       "    }\n",
       "</style>\n",
       "<table border=\"1\" class=\"dataframe\">\n",
       "  <thead>\n",
       "    <tr style=\"text-align: right;\">\n",
       "      <th>location</th>\n",
       "      <th>서울</th>\n",
       "      <th>경기</th>\n",
       "      <th>충청</th>\n",
       "      <th>경상</th>\n",
       "      <th>전라</th>\n",
       "      <th>제주</th>\n",
       "      <th>부산</th>\n",
       "      <th>수도권</th>\n",
       "      <th>강원</th>\n",
       "      <th>test</th>\n",
       "    </tr>\n",
       "  </thead>\n",
       "  <tbody>\n",
       "    <tr>\n",
       "      <th>1998</th>\n",
       "      <td>150</td>\n",
       "      <td>200</td>\n",
       "      <td>-10</td>\n",
       "      <td>10</td>\n",
       "      <td>5</td>\n",
       "      <td>1</td>\n",
       "      <td>5</td>\n",
       "      <td>350</td>\n",
       "      <td>10.0</td>\n",
       "      <td>NaN</td>\n",
       "    </tr>\n",
       "    <tr>\n",
       "      <th>1999</th>\n",
       "      <td>180</td>\n",
       "      <td>240</td>\n",
       "      <td>3</td>\n",
       "      <td>20</td>\n",
       "      <td>6</td>\n",
       "      <td>1</td>\n",
       "      <td>5</td>\n",
       "      <td>420</td>\n",
       "      <td>NaN</td>\n",
       "      <td>NaN</td>\n",
       "    </tr>\n",
       "    <tr>\n",
       "      <th>2000</th>\n",
       "      <td>300</td>\n",
       "      <td>450</td>\n",
       "      <td>-13</td>\n",
       "      <td>30</td>\n",
       "      <td>7</td>\n",
       "      <td>1</td>\n",
       "      <td>2</td>\n",
       "      <td>750</td>\n",
       "      <td>-10.0</td>\n",
       "      <td>NaN</td>\n",
       "    </tr>\n",
       "    <tr>\n",
       "      <th>2001</th>\n",
       "      <td>0</td>\n",
       "      <td>0</td>\n",
       "      <td>0</td>\n",
       "      <td>0</td>\n",
       "      <td>0</td>\n",
       "      <td>0</td>\n",
       "      <td>0</td>\n",
       "      <td>0</td>\n",
       "      <td>0.0</td>\n",
       "      <td>0.0</td>\n",
       "    </tr>\n",
       "    <tr>\n",
       "      <th>2002</th>\n",
       "      <td>-90</td>\n",
       "      <td>49</td>\n",
       "      <td>3</td>\n",
       "      <td>-77</td>\n",
       "      <td>-34</td>\n",
       "      <td>7</td>\n",
       "      <td>11</td>\n",
       "      <td>21</td>\n",
       "      <td>83.0</td>\n",
       "      <td>50.0</td>\n",
       "    </tr>\n",
       "    <tr>\n",
       "      <th>2003</th>\n",
       "      <td>10</td>\n",
       "      <td>20</td>\n",
       "      <td>40</td>\n",
       "      <td>21</td>\n",
       "      <td>37</td>\n",
       "      <td>103</td>\n",
       "      <td>28</td>\n",
       "      <td>30</td>\n",
       "      <td>15.0</td>\n",
       "      <td>0.0</td>\n",
       "    </tr>\n",
       "  </tbody>\n",
       "</table>\n",
       "</div>"
      ],
      "text/plain": [
       "location   서울   경기  충청  경상  전라   제주  부산  수도권    강원  test\n",
       "1998      150  200 -10  10   5    1   5  350  10.0   NaN\n",
       "1999      180  240   3  20   6    1   5  420   NaN   NaN\n",
       "2000      300  450 -13  30   7    1   2  750 -10.0   NaN\n",
       "2001        0    0   0   0   0    0   0    0   0.0   0.0\n",
       "2002      -90   49   3 -77 -34    7  11   21  83.0  50.0\n",
       "2003       10   20  40  21  37  103  28   30  15.0   0.0"
      ]
     },
     "execution_count": 79,
     "metadata": {},
     "output_type": "execute_result"
    }
   ],
   "source": [
    "pop_sample.loc[2003] = {'서울':10, '경기':20, '충청':40, '경상':21, '전라':37,\n",
    "                   '제주':103, '부산':28, '수도권':30, '강원':15, 'test':0}\n",
    "\n",
    "pop_sample"
   ]
  },
  {
   "cell_type": "markdown",
   "id": "c8f0d015",
   "metadata": {},
   "source": [
    "<br>\n",
    "\n",
    "- `list`로 추가 "
   ]
  },
  {
   "cell_type": "code",
   "execution_count": 80,
   "id": "33d36fec",
   "metadata": {
    "scrolled": true
   },
   "outputs": [
    {
     "data": {
      "text/html": [
       "<div>\n",
       "<style scoped>\n",
       "    .dataframe tbody tr th:only-of-type {\n",
       "        vertical-align: middle;\n",
       "    }\n",
       "\n",
       "    .dataframe tbody tr th {\n",
       "        vertical-align: top;\n",
       "    }\n",
       "\n",
       "    .dataframe thead th {\n",
       "        text-align: right;\n",
       "    }\n",
       "</style>\n",
       "<table border=\"1\" class=\"dataframe\">\n",
       "  <thead>\n",
       "    <tr style=\"text-align: right;\">\n",
       "      <th>location</th>\n",
       "      <th>서울</th>\n",
       "      <th>경기</th>\n",
       "      <th>충청</th>\n",
       "      <th>경상</th>\n",
       "      <th>전라</th>\n",
       "      <th>제주</th>\n",
       "      <th>부산</th>\n",
       "      <th>수도권</th>\n",
       "      <th>강원</th>\n",
       "      <th>test</th>\n",
       "    </tr>\n",
       "  </thead>\n",
       "  <tbody>\n",
       "    <tr>\n",
       "      <th>1998</th>\n",
       "      <td>150</td>\n",
       "      <td>200</td>\n",
       "      <td>-10</td>\n",
       "      <td>10</td>\n",
       "      <td>5</td>\n",
       "      <td>1</td>\n",
       "      <td>5</td>\n",
       "      <td>350</td>\n",
       "      <td>10.0</td>\n",
       "      <td>NaN</td>\n",
       "    </tr>\n",
       "    <tr>\n",
       "      <th>1999</th>\n",
       "      <td>180</td>\n",
       "      <td>240</td>\n",
       "      <td>3</td>\n",
       "      <td>20</td>\n",
       "      <td>6</td>\n",
       "      <td>1</td>\n",
       "      <td>5</td>\n",
       "      <td>420</td>\n",
       "      <td>NaN</td>\n",
       "      <td>NaN</td>\n",
       "    </tr>\n",
       "    <tr>\n",
       "      <th>2000</th>\n",
       "      <td>300</td>\n",
       "      <td>450</td>\n",
       "      <td>-13</td>\n",
       "      <td>30</td>\n",
       "      <td>7</td>\n",
       "      <td>1</td>\n",
       "      <td>2</td>\n",
       "      <td>750</td>\n",
       "      <td>-10.0</td>\n",
       "      <td>NaN</td>\n",
       "    </tr>\n",
       "    <tr>\n",
       "      <th>2001</th>\n",
       "      <td>0</td>\n",
       "      <td>0</td>\n",
       "      <td>0</td>\n",
       "      <td>0</td>\n",
       "      <td>0</td>\n",
       "      <td>0</td>\n",
       "      <td>0</td>\n",
       "      <td>0</td>\n",
       "      <td>0.0</td>\n",
       "      <td>0.0</td>\n",
       "    </tr>\n",
       "    <tr>\n",
       "      <th>2002</th>\n",
       "      <td>-90</td>\n",
       "      <td>49</td>\n",
       "      <td>3</td>\n",
       "      <td>-77</td>\n",
       "      <td>-34</td>\n",
       "      <td>7</td>\n",
       "      <td>11</td>\n",
       "      <td>21</td>\n",
       "      <td>83.0</td>\n",
       "      <td>50.0</td>\n",
       "    </tr>\n",
       "    <tr>\n",
       "      <th>2003</th>\n",
       "      <td>10</td>\n",
       "      <td>20</td>\n",
       "      <td>40</td>\n",
       "      <td>21</td>\n",
       "      <td>37</td>\n",
       "      <td>103</td>\n",
       "      <td>28</td>\n",
       "      <td>30</td>\n",
       "      <td>15.0</td>\n",
       "      <td>0.0</td>\n",
       "    </tr>\n",
       "    <tr>\n",
       "      <th>2004</th>\n",
       "      <td>1</td>\n",
       "      <td>2</td>\n",
       "      <td>3</td>\n",
       "      <td>4</td>\n",
       "      <td>5</td>\n",
       "      <td>6</td>\n",
       "      <td>7</td>\n",
       "      <td>8</td>\n",
       "      <td>9.0</td>\n",
       "      <td>0.0</td>\n",
       "    </tr>\n",
       "  </tbody>\n",
       "</table>\n",
       "</div>"
      ],
      "text/plain": [
       "location   서울   경기  충청  경상  전라   제주  부산  수도권    강원  test\n",
       "1998      150  200 -10  10   5    1   5  350  10.0   NaN\n",
       "1999      180  240   3  20   6    1   5  420   NaN   NaN\n",
       "2000      300  450 -13  30   7    1   2  750 -10.0   NaN\n",
       "2001        0    0   0   0   0    0   0    0   0.0   0.0\n",
       "2002      -90   49   3 -77 -34    7  11   21  83.0  50.0\n",
       "2003       10   20  40  21  37  103  28   30  15.0   0.0\n",
       "2004        1    2   3   4   5    6   7    8   9.0   0.0"
      ]
     },
     "execution_count": 80,
     "metadata": {},
     "output_type": "execute_result"
    }
   ],
   "source": [
    "pop_sample.loc[2004] = [1, 2, 3, 4, 5, 6, 7, 8, 9, 0]\n",
    "\n",
    "pop_sample"
   ]
  },
  {
   "cell_type": "markdown",
   "id": "e399184e",
   "metadata": {},
   "source": [
    "<br>\n",
    "\n",
    "- row 추가\n",
    "\n",
    "    3. operation between rows"
   ]
  },
  {
   "cell_type": "code",
   "execution_count": 81,
   "id": "ea30f184",
   "metadata": {},
   "outputs": [
    {
     "data": {
      "text/html": [
       "<div>\n",
       "<style scoped>\n",
       "    .dataframe tbody tr th:only-of-type {\n",
       "        vertical-align: middle;\n",
       "    }\n",
       "\n",
       "    .dataframe tbody tr th {\n",
       "        vertical-align: top;\n",
       "    }\n",
       "\n",
       "    .dataframe thead th {\n",
       "        text-align: right;\n",
       "    }\n",
       "</style>\n",
       "<table border=\"1\" class=\"dataframe\">\n",
       "  <thead>\n",
       "    <tr style=\"text-align: right;\">\n",
       "      <th>location</th>\n",
       "      <th>서울</th>\n",
       "      <th>경기</th>\n",
       "      <th>충청</th>\n",
       "      <th>경상</th>\n",
       "      <th>전라</th>\n",
       "      <th>제주</th>\n",
       "      <th>부산</th>\n",
       "      <th>수도권</th>\n",
       "      <th>강원</th>\n",
       "      <th>test</th>\n",
       "    </tr>\n",
       "  </thead>\n",
       "  <tbody>\n",
       "    <tr>\n",
       "      <th>1998</th>\n",
       "      <td>150.0</td>\n",
       "      <td>200.0</td>\n",
       "      <td>-10.0</td>\n",
       "      <td>10.0</td>\n",
       "      <td>5.0</td>\n",
       "      <td>1.0</td>\n",
       "      <td>5.0</td>\n",
       "      <td>350.0</td>\n",
       "      <td>10.0</td>\n",
       "      <td>NaN</td>\n",
       "    </tr>\n",
       "    <tr>\n",
       "      <th>1999</th>\n",
       "      <td>180.0</td>\n",
       "      <td>240.0</td>\n",
       "      <td>3.0</td>\n",
       "      <td>20.0</td>\n",
       "      <td>6.0</td>\n",
       "      <td>1.0</td>\n",
       "      <td>5.0</td>\n",
       "      <td>420.0</td>\n",
       "      <td>NaN</td>\n",
       "      <td>NaN</td>\n",
       "    </tr>\n",
       "    <tr>\n",
       "      <th>2000</th>\n",
       "      <td>300.0</td>\n",
       "      <td>450.0</td>\n",
       "      <td>-13.0</td>\n",
       "      <td>30.0</td>\n",
       "      <td>7.0</td>\n",
       "      <td>1.0</td>\n",
       "      <td>2.0</td>\n",
       "      <td>750.0</td>\n",
       "      <td>-10.0</td>\n",
       "      <td>NaN</td>\n",
       "    </tr>\n",
       "    <tr>\n",
       "      <th>2001</th>\n",
       "      <td>0.0</td>\n",
       "      <td>0.0</td>\n",
       "      <td>0.0</td>\n",
       "      <td>0.0</td>\n",
       "      <td>0.0</td>\n",
       "      <td>0.0</td>\n",
       "      <td>0.0</td>\n",
       "      <td>0.0</td>\n",
       "      <td>0.0</td>\n",
       "      <td>0.0</td>\n",
       "    </tr>\n",
       "    <tr>\n",
       "      <th>2002</th>\n",
       "      <td>-90.0</td>\n",
       "      <td>49.0</td>\n",
       "      <td>3.0</td>\n",
       "      <td>-77.0</td>\n",
       "      <td>-34.0</td>\n",
       "      <td>7.0</td>\n",
       "      <td>11.0</td>\n",
       "      <td>21.0</td>\n",
       "      <td>83.0</td>\n",
       "      <td>50.0</td>\n",
       "    </tr>\n",
       "    <tr>\n",
       "      <th>2003</th>\n",
       "      <td>10.0</td>\n",
       "      <td>20.0</td>\n",
       "      <td>40.0</td>\n",
       "      <td>21.0</td>\n",
       "      <td>37.0</td>\n",
       "      <td>103.0</td>\n",
       "      <td>28.0</td>\n",
       "      <td>30.0</td>\n",
       "      <td>15.0</td>\n",
       "      <td>0.0</td>\n",
       "    </tr>\n",
       "    <tr>\n",
       "      <th>2004</th>\n",
       "      <td>1.0</td>\n",
       "      <td>2.0</td>\n",
       "      <td>3.0</td>\n",
       "      <td>4.0</td>\n",
       "      <td>5.0</td>\n",
       "      <td>6.0</td>\n",
       "      <td>7.0</td>\n",
       "      <td>8.0</td>\n",
       "      <td>9.0</td>\n",
       "      <td>0.0</td>\n",
       "    </tr>\n",
       "    <tr>\n",
       "      <th>2005</th>\n",
       "      <td>-90.0</td>\n",
       "      <td>98.0</td>\n",
       "      <td>9.0</td>\n",
       "      <td>-308.0</td>\n",
       "      <td>-170.0</td>\n",
       "      <td>42.0</td>\n",
       "      <td>77.0</td>\n",
       "      <td>168.0</td>\n",
       "      <td>747.0</td>\n",
       "      <td>0.0</td>\n",
       "    </tr>\n",
       "  </tbody>\n",
       "</table>\n",
       "</div>"
      ],
      "text/plain": [
       "location     서울     경기    충청     경상     전라     제주    부산    수도권     강원  test\n",
       "1998      150.0  200.0 -10.0   10.0    5.0    1.0   5.0  350.0   10.0   NaN\n",
       "1999      180.0  240.0   3.0   20.0    6.0    1.0   5.0  420.0    NaN   NaN\n",
       "2000      300.0  450.0 -13.0   30.0    7.0    1.0   2.0  750.0  -10.0   NaN\n",
       "2001        0.0    0.0   0.0    0.0    0.0    0.0   0.0    0.0    0.0   0.0\n",
       "2002      -90.0   49.0   3.0  -77.0  -34.0    7.0  11.0   21.0   83.0  50.0\n",
       "2003       10.0   20.0  40.0   21.0   37.0  103.0  28.0   30.0   15.0   0.0\n",
       "2004        1.0    2.0   3.0    4.0    5.0    6.0   7.0    8.0    9.0   0.0\n",
       "2005      -90.0   98.0   9.0 -308.0 -170.0   42.0  77.0  168.0  747.0   0.0"
      ]
     },
     "execution_count": 81,
     "metadata": {},
     "output_type": "execute_result"
    }
   ],
   "source": [
    "pop_sample.loc[2005] = pop_sample.loc[2002] * pop_sample.loc[2004]\n",
    "\n",
    "pop_sample"
   ]
  },
  {
   "cell_type": "markdown",
   "id": "181ebddb",
   "metadata": {},
   "source": [
    "<br>\n",
    "\n",
    "## 6. row, columns 삭제\n",
    "\n",
    "- columns 삭제\n",
    "\n",
    "    1. `del` + column indexing `df['column']`\n",
    "\n",
    "    2. `df.drop('column', axis=1)`\n",
    "\n",
    "    3. `df.drop(columns='column')`\n",
    "  \n",
    "  \n",
    "\n",
    "- row 삭제\n",
    "\n",
    "    - `df.drop(idx)`: default: `axis=0`"
   ]
  },
  {
   "cell_type": "code",
   "execution_count": 82,
   "id": "7024c9d8",
   "metadata": {},
   "outputs": [
    {
     "data": {
      "text/html": [
       "<div>\n",
       "<style scoped>\n",
       "    .dataframe tbody tr th:only-of-type {\n",
       "        vertical-align: middle;\n",
       "    }\n",
       "\n",
       "    .dataframe tbody tr th {\n",
       "        vertical-align: top;\n",
       "    }\n",
       "\n",
       "    .dataframe thead th {\n",
       "        text-align: right;\n",
       "    }\n",
       "</style>\n",
       "<table border=\"1\" class=\"dataframe\">\n",
       "  <thead>\n",
       "    <tr style=\"text-align: right;\">\n",
       "      <th>location</th>\n",
       "      <th>서울</th>\n",
       "      <th>경기</th>\n",
       "      <th>충청</th>\n",
       "      <th>경상</th>\n",
       "      <th>전라</th>\n",
       "      <th>제주</th>\n",
       "      <th>부산</th>\n",
       "      <th>수도권</th>\n",
       "      <th>강원</th>\n",
       "      <th>test</th>\n",
       "    </tr>\n",
       "  </thead>\n",
       "  <tbody>\n",
       "    <tr>\n",
       "      <th>1998</th>\n",
       "      <td>150.0</td>\n",
       "      <td>200.0</td>\n",
       "      <td>-10.0</td>\n",
       "      <td>10.0</td>\n",
       "      <td>5.0</td>\n",
       "      <td>1.0</td>\n",
       "      <td>5.0</td>\n",
       "      <td>350.0</td>\n",
       "      <td>10.0</td>\n",
       "      <td>NaN</td>\n",
       "    </tr>\n",
       "    <tr>\n",
       "      <th>1999</th>\n",
       "      <td>180.0</td>\n",
       "      <td>240.0</td>\n",
       "      <td>3.0</td>\n",
       "      <td>20.0</td>\n",
       "      <td>6.0</td>\n",
       "      <td>1.0</td>\n",
       "      <td>5.0</td>\n",
       "      <td>420.0</td>\n",
       "      <td>NaN</td>\n",
       "      <td>NaN</td>\n",
       "    </tr>\n",
       "    <tr>\n",
       "      <th>2000</th>\n",
       "      <td>300.0</td>\n",
       "      <td>450.0</td>\n",
       "      <td>-13.0</td>\n",
       "      <td>30.0</td>\n",
       "      <td>7.0</td>\n",
       "      <td>1.0</td>\n",
       "      <td>2.0</td>\n",
       "      <td>750.0</td>\n",
       "      <td>-10.0</td>\n",
       "      <td>NaN</td>\n",
       "    </tr>\n",
       "    <tr>\n",
       "      <th>2001</th>\n",
       "      <td>0.0</td>\n",
       "      <td>0.0</td>\n",
       "      <td>0.0</td>\n",
       "      <td>0.0</td>\n",
       "      <td>0.0</td>\n",
       "      <td>0.0</td>\n",
       "      <td>0.0</td>\n",
       "      <td>0.0</td>\n",
       "      <td>0.0</td>\n",
       "      <td>0.0</td>\n",
       "    </tr>\n",
       "    <tr>\n",
       "      <th>2002</th>\n",
       "      <td>-90.0</td>\n",
       "      <td>49.0</td>\n",
       "      <td>3.0</td>\n",
       "      <td>-77.0</td>\n",
       "      <td>-34.0</td>\n",
       "      <td>7.0</td>\n",
       "      <td>11.0</td>\n",
       "      <td>21.0</td>\n",
       "      <td>83.0</td>\n",
       "      <td>50.0</td>\n",
       "    </tr>\n",
       "    <tr>\n",
       "      <th>2003</th>\n",
       "      <td>10.0</td>\n",
       "      <td>20.0</td>\n",
       "      <td>40.0</td>\n",
       "      <td>21.0</td>\n",
       "      <td>37.0</td>\n",
       "      <td>103.0</td>\n",
       "      <td>28.0</td>\n",
       "      <td>30.0</td>\n",
       "      <td>15.0</td>\n",
       "      <td>0.0</td>\n",
       "    </tr>\n",
       "    <tr>\n",
       "      <th>2004</th>\n",
       "      <td>1.0</td>\n",
       "      <td>2.0</td>\n",
       "      <td>3.0</td>\n",
       "      <td>4.0</td>\n",
       "      <td>5.0</td>\n",
       "      <td>6.0</td>\n",
       "      <td>7.0</td>\n",
       "      <td>8.0</td>\n",
       "      <td>9.0</td>\n",
       "      <td>0.0</td>\n",
       "    </tr>\n",
       "    <tr>\n",
       "      <th>2005</th>\n",
       "      <td>-90.0</td>\n",
       "      <td>98.0</td>\n",
       "      <td>9.0</td>\n",
       "      <td>-308.0</td>\n",
       "      <td>-170.0</td>\n",
       "      <td>42.0</td>\n",
       "      <td>77.0</td>\n",
       "      <td>168.0</td>\n",
       "      <td>747.0</td>\n",
       "      <td>0.0</td>\n",
       "    </tr>\n",
       "  </tbody>\n",
       "</table>\n",
       "</div>"
      ],
      "text/plain": [
       "location     서울     경기    충청     경상     전라     제주    부산    수도권     강원  test\n",
       "1998      150.0  200.0 -10.0   10.0    5.0    1.0   5.0  350.0   10.0   NaN\n",
       "1999      180.0  240.0   3.0   20.0    6.0    1.0   5.0  420.0    NaN   NaN\n",
       "2000      300.0  450.0 -13.0   30.0    7.0    1.0   2.0  750.0  -10.0   NaN\n",
       "2001        0.0    0.0   0.0    0.0    0.0    0.0   0.0    0.0    0.0   0.0\n",
       "2002      -90.0   49.0   3.0  -77.0  -34.0    7.0  11.0   21.0   83.0  50.0\n",
       "2003       10.0   20.0  40.0   21.0   37.0  103.0  28.0   30.0   15.0   0.0\n",
       "2004        1.0    2.0   3.0    4.0    5.0    6.0   7.0    8.0    9.0   0.0\n",
       "2005      -90.0   98.0   9.0 -308.0 -170.0   42.0  77.0  168.0  747.0   0.0"
      ]
     },
     "execution_count": 82,
     "metadata": {},
     "output_type": "execute_result"
    }
   ],
   "source": [
    "pop_sample"
   ]
  },
  {
   "cell_type": "markdown",
   "id": "7412557e",
   "metadata": {},
   "source": [
    "<br>\n",
    "\n",
    "### 6.1. columns 삭제\n",
    "\n",
    "- columns 삭제\n",
    "\n",
    "    1. `del` + `df['column']`\n",
    "    \n",
    "        - 원본 DataFrame 변경 됨"
   ]
  },
  {
   "cell_type": "code",
   "execution_count": 83,
   "id": "ba718544",
   "metadata": {},
   "outputs": [
    {
     "data": {
      "text/html": [
       "<div>\n",
       "<style scoped>\n",
       "    .dataframe tbody tr th:only-of-type {\n",
       "        vertical-align: middle;\n",
       "    }\n",
       "\n",
       "    .dataframe tbody tr th {\n",
       "        vertical-align: top;\n",
       "    }\n",
       "\n",
       "    .dataframe thead th {\n",
       "        text-align: right;\n",
       "    }\n",
       "</style>\n",
       "<table border=\"1\" class=\"dataframe\">\n",
       "  <thead>\n",
       "    <tr style=\"text-align: right;\">\n",
       "      <th>location</th>\n",
       "      <th>서울</th>\n",
       "      <th>경기</th>\n",
       "      <th>충청</th>\n",
       "      <th>경상</th>\n",
       "      <th>전라</th>\n",
       "      <th>제주</th>\n",
       "      <th>부산</th>\n",
       "      <th>수도권</th>\n",
       "      <th>강원</th>\n",
       "    </tr>\n",
       "  </thead>\n",
       "  <tbody>\n",
       "    <tr>\n",
       "      <th>1998</th>\n",
       "      <td>150.0</td>\n",
       "      <td>200.0</td>\n",
       "      <td>-10.0</td>\n",
       "      <td>10.0</td>\n",
       "      <td>5.0</td>\n",
       "      <td>1.0</td>\n",
       "      <td>5.0</td>\n",
       "      <td>350.0</td>\n",
       "      <td>10.0</td>\n",
       "    </tr>\n",
       "    <tr>\n",
       "      <th>1999</th>\n",
       "      <td>180.0</td>\n",
       "      <td>240.0</td>\n",
       "      <td>3.0</td>\n",
       "      <td>20.0</td>\n",
       "      <td>6.0</td>\n",
       "      <td>1.0</td>\n",
       "      <td>5.0</td>\n",
       "      <td>420.0</td>\n",
       "      <td>NaN</td>\n",
       "    </tr>\n",
       "    <tr>\n",
       "      <th>2000</th>\n",
       "      <td>300.0</td>\n",
       "      <td>450.0</td>\n",
       "      <td>-13.0</td>\n",
       "      <td>30.0</td>\n",
       "      <td>7.0</td>\n",
       "      <td>1.0</td>\n",
       "      <td>2.0</td>\n",
       "      <td>750.0</td>\n",
       "      <td>-10.0</td>\n",
       "    </tr>\n",
       "    <tr>\n",
       "      <th>2001</th>\n",
       "      <td>0.0</td>\n",
       "      <td>0.0</td>\n",
       "      <td>0.0</td>\n",
       "      <td>0.0</td>\n",
       "      <td>0.0</td>\n",
       "      <td>0.0</td>\n",
       "      <td>0.0</td>\n",
       "      <td>0.0</td>\n",
       "      <td>0.0</td>\n",
       "    </tr>\n",
       "    <tr>\n",
       "      <th>2002</th>\n",
       "      <td>-90.0</td>\n",
       "      <td>49.0</td>\n",
       "      <td>3.0</td>\n",
       "      <td>-77.0</td>\n",
       "      <td>-34.0</td>\n",
       "      <td>7.0</td>\n",
       "      <td>11.0</td>\n",
       "      <td>21.0</td>\n",
       "      <td>83.0</td>\n",
       "    </tr>\n",
       "    <tr>\n",
       "      <th>2003</th>\n",
       "      <td>10.0</td>\n",
       "      <td>20.0</td>\n",
       "      <td>40.0</td>\n",
       "      <td>21.0</td>\n",
       "      <td>37.0</td>\n",
       "      <td>103.0</td>\n",
       "      <td>28.0</td>\n",
       "      <td>30.0</td>\n",
       "      <td>15.0</td>\n",
       "    </tr>\n",
       "    <tr>\n",
       "      <th>2004</th>\n",
       "      <td>1.0</td>\n",
       "      <td>2.0</td>\n",
       "      <td>3.0</td>\n",
       "      <td>4.0</td>\n",
       "      <td>5.0</td>\n",
       "      <td>6.0</td>\n",
       "      <td>7.0</td>\n",
       "      <td>8.0</td>\n",
       "      <td>9.0</td>\n",
       "    </tr>\n",
       "    <tr>\n",
       "      <th>2005</th>\n",
       "      <td>-90.0</td>\n",
       "      <td>98.0</td>\n",
       "      <td>9.0</td>\n",
       "      <td>-308.0</td>\n",
       "      <td>-170.0</td>\n",
       "      <td>42.0</td>\n",
       "      <td>77.0</td>\n",
       "      <td>168.0</td>\n",
       "      <td>747.0</td>\n",
       "    </tr>\n",
       "  </tbody>\n",
       "</table>\n",
       "</div>"
      ],
      "text/plain": [
       "location     서울     경기    충청     경상     전라     제주    부산    수도권     강원\n",
       "1998      150.0  200.0 -10.0   10.0    5.0    1.0   5.0  350.0   10.0\n",
       "1999      180.0  240.0   3.0   20.0    6.0    1.0   5.0  420.0    NaN\n",
       "2000      300.0  450.0 -13.0   30.0    7.0    1.0   2.0  750.0  -10.0\n",
       "2001        0.0    0.0   0.0    0.0    0.0    0.0   0.0    0.0    0.0\n",
       "2002      -90.0   49.0   3.0  -77.0  -34.0    7.0  11.0   21.0   83.0\n",
       "2003       10.0   20.0  40.0   21.0   37.0  103.0  28.0   30.0   15.0\n",
       "2004        1.0    2.0   3.0    4.0    5.0    6.0   7.0    8.0    9.0\n",
       "2005      -90.0   98.0   9.0 -308.0 -170.0   42.0  77.0  168.0  747.0"
      ]
     },
     "execution_count": 83,
     "metadata": {},
     "output_type": "execute_result"
    }
   ],
   "source": [
    "del pop_sample['test']\n",
    "\n",
    "pop_sample"
   ]
  },
  {
   "cell_type": "markdown",
   "id": "32a062ec",
   "metadata": {},
   "source": [
    "<br>\n",
    "\n",
    "- columns 삭제\n",
    "\n",
    "    2. `df.drop('column', axis=1)`\n",
    "    \n",
    "        - 원본 반영 X, `inplace=True` optional parameter 설정 필요"
   ]
  },
  {
   "cell_type": "code",
   "execution_count": 84,
   "id": "156e3f83",
   "metadata": {},
   "outputs": [
    {
     "data": {
      "text/html": [
       "<div>\n",
       "<style scoped>\n",
       "    .dataframe tbody tr th:only-of-type {\n",
       "        vertical-align: middle;\n",
       "    }\n",
       "\n",
       "    .dataframe tbody tr th {\n",
       "        vertical-align: top;\n",
       "    }\n",
       "\n",
       "    .dataframe thead th {\n",
       "        text-align: right;\n",
       "    }\n",
       "</style>\n",
       "<table border=\"1\" class=\"dataframe\">\n",
       "  <thead>\n",
       "    <tr style=\"text-align: right;\">\n",
       "      <th>location</th>\n",
       "      <th>서울</th>\n",
       "      <th>경기</th>\n",
       "      <th>충청</th>\n",
       "      <th>경상</th>\n",
       "      <th>전라</th>\n",
       "      <th>제주</th>\n",
       "      <th>부산</th>\n",
       "      <th>수도권</th>\n",
       "    </tr>\n",
       "  </thead>\n",
       "  <tbody>\n",
       "    <tr>\n",
       "      <th>1998</th>\n",
       "      <td>150.0</td>\n",
       "      <td>200.0</td>\n",
       "      <td>-10.0</td>\n",
       "      <td>10.0</td>\n",
       "      <td>5.0</td>\n",
       "      <td>1.0</td>\n",
       "      <td>5.0</td>\n",
       "      <td>350.0</td>\n",
       "    </tr>\n",
       "    <tr>\n",
       "      <th>1999</th>\n",
       "      <td>180.0</td>\n",
       "      <td>240.0</td>\n",
       "      <td>3.0</td>\n",
       "      <td>20.0</td>\n",
       "      <td>6.0</td>\n",
       "      <td>1.0</td>\n",
       "      <td>5.0</td>\n",
       "      <td>420.0</td>\n",
       "    </tr>\n",
       "    <tr>\n",
       "      <th>2000</th>\n",
       "      <td>300.0</td>\n",
       "      <td>450.0</td>\n",
       "      <td>-13.0</td>\n",
       "      <td>30.0</td>\n",
       "      <td>7.0</td>\n",
       "      <td>1.0</td>\n",
       "      <td>2.0</td>\n",
       "      <td>750.0</td>\n",
       "    </tr>\n",
       "    <tr>\n",
       "      <th>2001</th>\n",
       "      <td>0.0</td>\n",
       "      <td>0.0</td>\n",
       "      <td>0.0</td>\n",
       "      <td>0.0</td>\n",
       "      <td>0.0</td>\n",
       "      <td>0.0</td>\n",
       "      <td>0.0</td>\n",
       "      <td>0.0</td>\n",
       "    </tr>\n",
       "    <tr>\n",
       "      <th>2002</th>\n",
       "      <td>-90.0</td>\n",
       "      <td>49.0</td>\n",
       "      <td>3.0</td>\n",
       "      <td>-77.0</td>\n",
       "      <td>-34.0</td>\n",
       "      <td>7.0</td>\n",
       "      <td>11.0</td>\n",
       "      <td>21.0</td>\n",
       "    </tr>\n",
       "    <tr>\n",
       "      <th>2003</th>\n",
       "      <td>10.0</td>\n",
       "      <td>20.0</td>\n",
       "      <td>40.0</td>\n",
       "      <td>21.0</td>\n",
       "      <td>37.0</td>\n",
       "      <td>103.0</td>\n",
       "      <td>28.0</td>\n",
       "      <td>30.0</td>\n",
       "    </tr>\n",
       "    <tr>\n",
       "      <th>2004</th>\n",
       "      <td>1.0</td>\n",
       "      <td>2.0</td>\n",
       "      <td>3.0</td>\n",
       "      <td>4.0</td>\n",
       "      <td>5.0</td>\n",
       "      <td>6.0</td>\n",
       "      <td>7.0</td>\n",
       "      <td>8.0</td>\n",
       "    </tr>\n",
       "    <tr>\n",
       "      <th>2005</th>\n",
       "      <td>-90.0</td>\n",
       "      <td>98.0</td>\n",
       "      <td>9.0</td>\n",
       "      <td>-308.0</td>\n",
       "      <td>-170.0</td>\n",
       "      <td>42.0</td>\n",
       "      <td>77.0</td>\n",
       "      <td>168.0</td>\n",
       "    </tr>\n",
       "  </tbody>\n",
       "</table>\n",
       "</div>"
      ],
      "text/plain": [
       "location     서울     경기    충청     경상     전라     제주    부산    수도권\n",
       "1998      150.0  200.0 -10.0   10.0    5.0    1.0   5.0  350.0\n",
       "1999      180.0  240.0   3.0   20.0    6.0    1.0   5.0  420.0\n",
       "2000      300.0  450.0 -13.0   30.0    7.0    1.0   2.0  750.0\n",
       "2001        0.0    0.0   0.0    0.0    0.0    0.0   0.0    0.0\n",
       "2002      -90.0   49.0   3.0  -77.0  -34.0    7.0  11.0   21.0\n",
       "2003       10.0   20.0  40.0   21.0   37.0  103.0  28.0   30.0\n",
       "2004        1.0    2.0   3.0    4.0    5.0    6.0   7.0    8.0\n",
       "2005      -90.0   98.0   9.0 -308.0 -170.0   42.0  77.0  168.0"
      ]
     },
     "execution_count": 84,
     "metadata": {},
     "output_type": "execute_result"
    }
   ],
   "source": [
    "pop_sample.drop('강원', axis=1)"
   ]
  },
  {
   "cell_type": "code",
   "execution_count": 85,
   "id": "4713cf41",
   "metadata": {
    "scrolled": false
   },
   "outputs": [
    {
     "data": {
      "text/html": [
       "<div>\n",
       "<style scoped>\n",
       "    .dataframe tbody tr th:only-of-type {\n",
       "        vertical-align: middle;\n",
       "    }\n",
       "\n",
       "    .dataframe tbody tr th {\n",
       "        vertical-align: top;\n",
       "    }\n",
       "\n",
       "    .dataframe thead th {\n",
       "        text-align: right;\n",
       "    }\n",
       "</style>\n",
       "<table border=\"1\" class=\"dataframe\">\n",
       "  <thead>\n",
       "    <tr style=\"text-align: right;\">\n",
       "      <th>location</th>\n",
       "      <th>서울</th>\n",
       "      <th>경기</th>\n",
       "      <th>충청</th>\n",
       "      <th>경상</th>\n",
       "      <th>전라</th>\n",
       "      <th>제주</th>\n",
       "      <th>부산</th>\n",
       "      <th>수도권</th>\n",
       "      <th>강원</th>\n",
       "    </tr>\n",
       "  </thead>\n",
       "  <tbody>\n",
       "    <tr>\n",
       "      <th>1998</th>\n",
       "      <td>150.0</td>\n",
       "      <td>200.0</td>\n",
       "      <td>-10.0</td>\n",
       "      <td>10.0</td>\n",
       "      <td>5.0</td>\n",
       "      <td>1.0</td>\n",
       "      <td>5.0</td>\n",
       "      <td>350.0</td>\n",
       "      <td>10.0</td>\n",
       "    </tr>\n",
       "    <tr>\n",
       "      <th>1999</th>\n",
       "      <td>180.0</td>\n",
       "      <td>240.0</td>\n",
       "      <td>3.0</td>\n",
       "      <td>20.0</td>\n",
       "      <td>6.0</td>\n",
       "      <td>1.0</td>\n",
       "      <td>5.0</td>\n",
       "      <td>420.0</td>\n",
       "      <td>NaN</td>\n",
       "    </tr>\n",
       "    <tr>\n",
       "      <th>2000</th>\n",
       "      <td>300.0</td>\n",
       "      <td>450.0</td>\n",
       "      <td>-13.0</td>\n",
       "      <td>30.0</td>\n",
       "      <td>7.0</td>\n",
       "      <td>1.0</td>\n",
       "      <td>2.0</td>\n",
       "      <td>750.0</td>\n",
       "      <td>-10.0</td>\n",
       "    </tr>\n",
       "    <tr>\n",
       "      <th>2001</th>\n",
       "      <td>0.0</td>\n",
       "      <td>0.0</td>\n",
       "      <td>0.0</td>\n",
       "      <td>0.0</td>\n",
       "      <td>0.0</td>\n",
       "      <td>0.0</td>\n",
       "      <td>0.0</td>\n",
       "      <td>0.0</td>\n",
       "      <td>0.0</td>\n",
       "    </tr>\n",
       "    <tr>\n",
       "      <th>2002</th>\n",
       "      <td>-90.0</td>\n",
       "      <td>49.0</td>\n",
       "      <td>3.0</td>\n",
       "      <td>-77.0</td>\n",
       "      <td>-34.0</td>\n",
       "      <td>7.0</td>\n",
       "      <td>11.0</td>\n",
       "      <td>21.0</td>\n",
       "      <td>83.0</td>\n",
       "    </tr>\n",
       "    <tr>\n",
       "      <th>2003</th>\n",
       "      <td>10.0</td>\n",
       "      <td>20.0</td>\n",
       "      <td>40.0</td>\n",
       "      <td>21.0</td>\n",
       "      <td>37.0</td>\n",
       "      <td>103.0</td>\n",
       "      <td>28.0</td>\n",
       "      <td>30.0</td>\n",
       "      <td>15.0</td>\n",
       "    </tr>\n",
       "    <tr>\n",
       "      <th>2004</th>\n",
       "      <td>1.0</td>\n",
       "      <td>2.0</td>\n",
       "      <td>3.0</td>\n",
       "      <td>4.0</td>\n",
       "      <td>5.0</td>\n",
       "      <td>6.0</td>\n",
       "      <td>7.0</td>\n",
       "      <td>8.0</td>\n",
       "      <td>9.0</td>\n",
       "    </tr>\n",
       "    <tr>\n",
       "      <th>2005</th>\n",
       "      <td>-90.0</td>\n",
       "      <td>98.0</td>\n",
       "      <td>9.0</td>\n",
       "      <td>-308.0</td>\n",
       "      <td>-170.0</td>\n",
       "      <td>42.0</td>\n",
       "      <td>77.0</td>\n",
       "      <td>168.0</td>\n",
       "      <td>747.0</td>\n",
       "    </tr>\n",
       "  </tbody>\n",
       "</table>\n",
       "</div>"
      ],
      "text/plain": [
       "location     서울     경기    충청     경상     전라     제주    부산    수도권     강원\n",
       "1998      150.0  200.0 -10.0   10.0    5.0    1.0   5.0  350.0   10.0\n",
       "1999      180.0  240.0   3.0   20.0    6.0    1.0   5.0  420.0    NaN\n",
       "2000      300.0  450.0 -13.0   30.0    7.0    1.0   2.0  750.0  -10.0\n",
       "2001        0.0    0.0   0.0    0.0    0.0    0.0   0.0    0.0    0.0\n",
       "2002      -90.0   49.0   3.0  -77.0  -34.0    7.0  11.0   21.0   83.0\n",
       "2003       10.0   20.0  40.0   21.0   37.0  103.0  28.0   30.0   15.0\n",
       "2004        1.0    2.0   3.0    4.0    5.0    6.0   7.0    8.0    9.0\n",
       "2005      -90.0   98.0   9.0 -308.0 -170.0   42.0  77.0  168.0  747.0"
      ]
     },
     "execution_count": 85,
     "metadata": {},
     "output_type": "execute_result"
    }
   ],
   "source": [
    "pop_sample"
   ]
  },
  {
   "cell_type": "markdown",
   "id": "c5a0bd86",
   "metadata": {},
   "source": [
    "<br>\n",
    "\n",
    "- columns 삭제\n",
    "\n",
    "    3. `df.drop(columns='column')`\n",
    "    \n",
    "        - 원본 영향 X, optional parameter `inplace=True` 설정 필요"
   ]
  },
  {
   "cell_type": "code",
   "execution_count": 86,
   "id": "6cf97ff4",
   "metadata": {},
   "outputs": [
    {
     "data": {
      "text/html": [
       "<div>\n",
       "<style scoped>\n",
       "    .dataframe tbody tr th:only-of-type {\n",
       "        vertical-align: middle;\n",
       "    }\n",
       "\n",
       "    .dataframe tbody tr th {\n",
       "        vertical-align: top;\n",
       "    }\n",
       "\n",
       "    .dataframe thead th {\n",
       "        text-align: right;\n",
       "    }\n",
       "</style>\n",
       "<table border=\"1\" class=\"dataframe\">\n",
       "  <thead>\n",
       "    <tr style=\"text-align: right;\">\n",
       "      <th>location</th>\n",
       "      <th>서울</th>\n",
       "      <th>경기</th>\n",
       "      <th>충청</th>\n",
       "      <th>경상</th>\n",
       "      <th>전라</th>\n",
       "      <th>제주</th>\n",
       "      <th>부산</th>\n",
       "      <th>수도권</th>\n",
       "    </tr>\n",
       "  </thead>\n",
       "  <tbody>\n",
       "    <tr>\n",
       "      <th>1998</th>\n",
       "      <td>150.0</td>\n",
       "      <td>200.0</td>\n",
       "      <td>-10.0</td>\n",
       "      <td>10.0</td>\n",
       "      <td>5.0</td>\n",
       "      <td>1.0</td>\n",
       "      <td>5.0</td>\n",
       "      <td>350.0</td>\n",
       "    </tr>\n",
       "    <tr>\n",
       "      <th>1999</th>\n",
       "      <td>180.0</td>\n",
       "      <td>240.0</td>\n",
       "      <td>3.0</td>\n",
       "      <td>20.0</td>\n",
       "      <td>6.0</td>\n",
       "      <td>1.0</td>\n",
       "      <td>5.0</td>\n",
       "      <td>420.0</td>\n",
       "    </tr>\n",
       "    <tr>\n",
       "      <th>2000</th>\n",
       "      <td>300.0</td>\n",
       "      <td>450.0</td>\n",
       "      <td>-13.0</td>\n",
       "      <td>30.0</td>\n",
       "      <td>7.0</td>\n",
       "      <td>1.0</td>\n",
       "      <td>2.0</td>\n",
       "      <td>750.0</td>\n",
       "    </tr>\n",
       "    <tr>\n",
       "      <th>2001</th>\n",
       "      <td>0.0</td>\n",
       "      <td>0.0</td>\n",
       "      <td>0.0</td>\n",
       "      <td>0.0</td>\n",
       "      <td>0.0</td>\n",
       "      <td>0.0</td>\n",
       "      <td>0.0</td>\n",
       "      <td>0.0</td>\n",
       "    </tr>\n",
       "    <tr>\n",
       "      <th>2002</th>\n",
       "      <td>-90.0</td>\n",
       "      <td>49.0</td>\n",
       "      <td>3.0</td>\n",
       "      <td>-77.0</td>\n",
       "      <td>-34.0</td>\n",
       "      <td>7.0</td>\n",
       "      <td>11.0</td>\n",
       "      <td>21.0</td>\n",
       "    </tr>\n",
       "    <tr>\n",
       "      <th>2003</th>\n",
       "      <td>10.0</td>\n",
       "      <td>20.0</td>\n",
       "      <td>40.0</td>\n",
       "      <td>21.0</td>\n",
       "      <td>37.0</td>\n",
       "      <td>103.0</td>\n",
       "      <td>28.0</td>\n",
       "      <td>30.0</td>\n",
       "    </tr>\n",
       "    <tr>\n",
       "      <th>2004</th>\n",
       "      <td>1.0</td>\n",
       "      <td>2.0</td>\n",
       "      <td>3.0</td>\n",
       "      <td>4.0</td>\n",
       "      <td>5.0</td>\n",
       "      <td>6.0</td>\n",
       "      <td>7.0</td>\n",
       "      <td>8.0</td>\n",
       "    </tr>\n",
       "    <tr>\n",
       "      <th>2005</th>\n",
       "      <td>-90.0</td>\n",
       "      <td>98.0</td>\n",
       "      <td>9.0</td>\n",
       "      <td>-308.0</td>\n",
       "      <td>-170.0</td>\n",
       "      <td>42.0</td>\n",
       "      <td>77.0</td>\n",
       "      <td>168.0</td>\n",
       "    </tr>\n",
       "  </tbody>\n",
       "</table>\n",
       "</div>"
      ],
      "text/plain": [
       "location     서울     경기    충청     경상     전라     제주    부산    수도권\n",
       "1998      150.0  200.0 -10.0   10.0    5.0    1.0   5.0  350.0\n",
       "1999      180.0  240.0   3.0   20.0    6.0    1.0   5.0  420.0\n",
       "2000      300.0  450.0 -13.0   30.0    7.0    1.0   2.0  750.0\n",
       "2001        0.0    0.0   0.0    0.0    0.0    0.0   0.0    0.0\n",
       "2002      -90.0   49.0   3.0  -77.0  -34.0    7.0  11.0   21.0\n",
       "2003       10.0   20.0  40.0   21.0   37.0  103.0  28.0   30.0\n",
       "2004        1.0    2.0   3.0    4.0    5.0    6.0   7.0    8.0\n",
       "2005      -90.0   98.0   9.0 -308.0 -170.0   42.0  77.0  168.0"
      ]
     },
     "execution_count": 86,
     "metadata": {},
     "output_type": "execute_result"
    }
   ],
   "source": [
    "pop_sample.drop(columns='강원', inplace=True)\n",
    "\n",
    "pop_sample"
   ]
  },
  {
   "cell_type": "markdown",
   "id": "ae0c4b41",
   "metadata": {},
   "source": [
    "<br>\n",
    "\n",
    "### 6.2.  row 삭제\n",
    "\n",
    "- row 삭제\n",
    "\n",
    "    - `df.drop('row')`: default: `axis=0`\n",
    "    \n",
    "        - 원본 반영X, `inplace=True` 설정 필요"
   ]
  },
  {
   "cell_type": "code",
   "execution_count": 87,
   "id": "c4cf9dae",
   "metadata": {
    "scrolled": true
   },
   "outputs": [
    {
     "data": {
      "text/html": [
       "<div>\n",
       "<style scoped>\n",
       "    .dataframe tbody tr th:only-of-type {\n",
       "        vertical-align: middle;\n",
       "    }\n",
       "\n",
       "    .dataframe tbody tr th {\n",
       "        vertical-align: top;\n",
       "    }\n",
       "\n",
       "    .dataframe thead th {\n",
       "        text-align: right;\n",
       "    }\n",
       "</style>\n",
       "<table border=\"1\" class=\"dataframe\">\n",
       "  <thead>\n",
       "    <tr style=\"text-align: right;\">\n",
       "      <th>location</th>\n",
       "      <th>서울</th>\n",
       "      <th>경기</th>\n",
       "      <th>충청</th>\n",
       "      <th>경상</th>\n",
       "      <th>전라</th>\n",
       "      <th>제주</th>\n",
       "      <th>부산</th>\n",
       "      <th>수도권</th>\n",
       "    </tr>\n",
       "  </thead>\n",
       "  <tbody>\n",
       "    <tr>\n",
       "      <th>1998</th>\n",
       "      <td>150.0</td>\n",
       "      <td>200.0</td>\n",
       "      <td>-10.0</td>\n",
       "      <td>10.0</td>\n",
       "      <td>5.0</td>\n",
       "      <td>1.0</td>\n",
       "      <td>5.0</td>\n",
       "      <td>350.0</td>\n",
       "    </tr>\n",
       "    <tr>\n",
       "      <th>1999</th>\n",
       "      <td>180.0</td>\n",
       "      <td>240.0</td>\n",
       "      <td>3.0</td>\n",
       "      <td>20.0</td>\n",
       "      <td>6.0</td>\n",
       "      <td>1.0</td>\n",
       "      <td>5.0</td>\n",
       "      <td>420.0</td>\n",
       "    </tr>\n",
       "    <tr>\n",
       "      <th>2000</th>\n",
       "      <td>300.0</td>\n",
       "      <td>450.0</td>\n",
       "      <td>-13.0</td>\n",
       "      <td>30.0</td>\n",
       "      <td>7.0</td>\n",
       "      <td>1.0</td>\n",
       "      <td>2.0</td>\n",
       "      <td>750.0</td>\n",
       "    </tr>\n",
       "    <tr>\n",
       "      <th>2001</th>\n",
       "      <td>0.0</td>\n",
       "      <td>0.0</td>\n",
       "      <td>0.0</td>\n",
       "      <td>0.0</td>\n",
       "      <td>0.0</td>\n",
       "      <td>0.0</td>\n",
       "      <td>0.0</td>\n",
       "      <td>0.0</td>\n",
       "    </tr>\n",
       "    <tr>\n",
       "      <th>2002</th>\n",
       "      <td>-90.0</td>\n",
       "      <td>49.0</td>\n",
       "      <td>3.0</td>\n",
       "      <td>-77.0</td>\n",
       "      <td>-34.0</td>\n",
       "      <td>7.0</td>\n",
       "      <td>11.0</td>\n",
       "      <td>21.0</td>\n",
       "    </tr>\n",
       "    <tr>\n",
       "      <th>2003</th>\n",
       "      <td>10.0</td>\n",
       "      <td>20.0</td>\n",
       "      <td>40.0</td>\n",
       "      <td>21.0</td>\n",
       "      <td>37.0</td>\n",
       "      <td>103.0</td>\n",
       "      <td>28.0</td>\n",
       "      <td>30.0</td>\n",
       "    </tr>\n",
       "    <tr>\n",
       "      <th>2004</th>\n",
       "      <td>1.0</td>\n",
       "      <td>2.0</td>\n",
       "      <td>3.0</td>\n",
       "      <td>4.0</td>\n",
       "      <td>5.0</td>\n",
       "      <td>6.0</td>\n",
       "      <td>7.0</td>\n",
       "      <td>8.0</td>\n",
       "    </tr>\n",
       "    <tr>\n",
       "      <th>2005</th>\n",
       "      <td>-90.0</td>\n",
       "      <td>98.0</td>\n",
       "      <td>9.0</td>\n",
       "      <td>-308.0</td>\n",
       "      <td>-170.0</td>\n",
       "      <td>42.0</td>\n",
       "      <td>77.0</td>\n",
       "      <td>168.0</td>\n",
       "    </tr>\n",
       "  </tbody>\n",
       "</table>\n",
       "</div>"
      ],
      "text/plain": [
       "location     서울     경기    충청     경상     전라     제주    부산    수도권\n",
       "1998      150.0  200.0 -10.0   10.0    5.0    1.0   5.0  350.0\n",
       "1999      180.0  240.0   3.0   20.0    6.0    1.0   5.0  420.0\n",
       "2000      300.0  450.0 -13.0   30.0    7.0    1.0   2.0  750.0\n",
       "2001        0.0    0.0   0.0    0.0    0.0    0.0   0.0    0.0\n",
       "2002      -90.0   49.0   3.0  -77.0  -34.0    7.0  11.0   21.0\n",
       "2003       10.0   20.0  40.0   21.0   37.0  103.0  28.0   30.0\n",
       "2004        1.0    2.0   3.0    4.0    5.0    6.0   7.0    8.0\n",
       "2005      -90.0   98.0   9.0 -308.0 -170.0   42.0  77.0  168.0"
      ]
     },
     "execution_count": 87,
     "metadata": {},
     "output_type": "execute_result"
    }
   ],
   "source": [
    "pop_sample"
   ]
  },
  {
   "cell_type": "code",
   "execution_count": 88,
   "id": "11ed06a0",
   "metadata": {},
   "outputs": [
    {
     "data": {
      "text/html": [
       "<div>\n",
       "<style scoped>\n",
       "    .dataframe tbody tr th:only-of-type {\n",
       "        vertical-align: middle;\n",
       "    }\n",
       "\n",
       "    .dataframe tbody tr th {\n",
       "        vertical-align: top;\n",
       "    }\n",
       "\n",
       "    .dataframe thead th {\n",
       "        text-align: right;\n",
       "    }\n",
       "</style>\n",
       "<table border=\"1\" class=\"dataframe\">\n",
       "  <thead>\n",
       "    <tr style=\"text-align: right;\">\n",
       "      <th>location</th>\n",
       "      <th>서울</th>\n",
       "      <th>경기</th>\n",
       "      <th>충청</th>\n",
       "      <th>경상</th>\n",
       "      <th>전라</th>\n",
       "      <th>제주</th>\n",
       "      <th>부산</th>\n",
       "      <th>수도권</th>\n",
       "    </tr>\n",
       "  </thead>\n",
       "  <tbody>\n",
       "    <tr>\n",
       "      <th>1998</th>\n",
       "      <td>150.0</td>\n",
       "      <td>200.0</td>\n",
       "      <td>-10.0</td>\n",
       "      <td>10.0</td>\n",
       "      <td>5.0</td>\n",
       "      <td>1.0</td>\n",
       "      <td>5.0</td>\n",
       "      <td>350.0</td>\n",
       "    </tr>\n",
       "    <tr>\n",
       "      <th>1999</th>\n",
       "      <td>180.0</td>\n",
       "      <td>240.0</td>\n",
       "      <td>3.0</td>\n",
       "      <td>20.0</td>\n",
       "      <td>6.0</td>\n",
       "      <td>1.0</td>\n",
       "      <td>5.0</td>\n",
       "      <td>420.0</td>\n",
       "    </tr>\n",
       "    <tr>\n",
       "      <th>2000</th>\n",
       "      <td>300.0</td>\n",
       "      <td>450.0</td>\n",
       "      <td>-13.0</td>\n",
       "      <td>30.0</td>\n",
       "      <td>7.0</td>\n",
       "      <td>1.0</td>\n",
       "      <td>2.0</td>\n",
       "      <td>750.0</td>\n",
       "    </tr>\n",
       "    <tr>\n",
       "      <th>2001</th>\n",
       "      <td>0.0</td>\n",
       "      <td>0.0</td>\n",
       "      <td>0.0</td>\n",
       "      <td>0.0</td>\n",
       "      <td>0.0</td>\n",
       "      <td>0.0</td>\n",
       "      <td>0.0</td>\n",
       "      <td>0.0</td>\n",
       "    </tr>\n",
       "    <tr>\n",
       "      <th>2002</th>\n",
       "      <td>-90.0</td>\n",
       "      <td>49.0</td>\n",
       "      <td>3.0</td>\n",
       "      <td>-77.0</td>\n",
       "      <td>-34.0</td>\n",
       "      <td>7.0</td>\n",
       "      <td>11.0</td>\n",
       "      <td>21.0</td>\n",
       "    </tr>\n",
       "    <tr>\n",
       "      <th>2003</th>\n",
       "      <td>10.0</td>\n",
       "      <td>20.0</td>\n",
       "      <td>40.0</td>\n",
       "      <td>21.0</td>\n",
       "      <td>37.0</td>\n",
       "      <td>103.0</td>\n",
       "      <td>28.0</td>\n",
       "      <td>30.0</td>\n",
       "    </tr>\n",
       "    <tr>\n",
       "      <th>2005</th>\n",
       "      <td>-90.0</td>\n",
       "      <td>98.0</td>\n",
       "      <td>9.0</td>\n",
       "      <td>-308.0</td>\n",
       "      <td>-170.0</td>\n",
       "      <td>42.0</td>\n",
       "      <td>77.0</td>\n",
       "      <td>168.0</td>\n",
       "    </tr>\n",
       "  </tbody>\n",
       "</table>\n",
       "</div>"
      ],
      "text/plain": [
       "location     서울     경기    충청     경상     전라     제주    부산    수도권\n",
       "1998      150.0  200.0 -10.0   10.0    5.0    1.0   5.0  350.0\n",
       "1999      180.0  240.0   3.0   20.0    6.0    1.0   5.0  420.0\n",
       "2000      300.0  450.0 -13.0   30.0    7.0    1.0   2.0  750.0\n",
       "2001        0.0    0.0   0.0    0.0    0.0    0.0   0.0    0.0\n",
       "2002      -90.0   49.0   3.0  -77.0  -34.0    7.0  11.0   21.0\n",
       "2003       10.0   20.0  40.0   21.0   37.0  103.0  28.0   30.0\n",
       "2005      -90.0   98.0   9.0 -308.0 -170.0   42.0  77.0  168.0"
      ]
     },
     "execution_count": 88,
     "metadata": {},
     "output_type": "execute_result"
    }
   ],
   "source": [
    "pop_sample.drop(2004, inplace=True)\n",
    "\n",
    "pop_sample"
   ]
  },
  {
   "cell_type": "markdown",
   "id": "3cb02218",
   "metadata": {},
   "source": [
    "<br>\n",
    "\n",
    "### 6.3. 두 개 이상의 columns, row 삭제\n",
    "\n",
    "- 두 개 이상의 columns, row 삭제: `list`로 묶어서 전달"
   ]
  },
  {
   "cell_type": "code",
   "execution_count": 89,
   "id": "ec261e96",
   "metadata": {},
   "outputs": [
    {
     "data": {
      "text/html": [
       "<div>\n",
       "<style scoped>\n",
       "    .dataframe tbody tr th:only-of-type {\n",
       "        vertical-align: middle;\n",
       "    }\n",
       "\n",
       "    .dataframe tbody tr th {\n",
       "        vertical-align: top;\n",
       "    }\n",
       "\n",
       "    .dataframe thead th {\n",
       "        text-align: right;\n",
       "    }\n",
       "</style>\n",
       "<table border=\"1\" class=\"dataframe\">\n",
       "  <thead>\n",
       "    <tr style=\"text-align: right;\">\n",
       "      <th>location</th>\n",
       "      <th>서울</th>\n",
       "      <th>경기</th>\n",
       "      <th>충청</th>\n",
       "      <th>경상</th>\n",
       "      <th>전라</th>\n",
       "      <th>부산</th>\n",
       "    </tr>\n",
       "  </thead>\n",
       "  <tbody>\n",
       "    <tr>\n",
       "      <th>1998</th>\n",
       "      <td>150.0</td>\n",
       "      <td>200.0</td>\n",
       "      <td>-10.0</td>\n",
       "      <td>10.0</td>\n",
       "      <td>5.0</td>\n",
       "      <td>5.0</td>\n",
       "    </tr>\n",
       "    <tr>\n",
       "      <th>1999</th>\n",
       "      <td>180.0</td>\n",
       "      <td>240.0</td>\n",
       "      <td>3.0</td>\n",
       "      <td>20.0</td>\n",
       "      <td>6.0</td>\n",
       "      <td>5.0</td>\n",
       "    </tr>\n",
       "    <tr>\n",
       "      <th>2000</th>\n",
       "      <td>300.0</td>\n",
       "      <td>450.0</td>\n",
       "      <td>-13.0</td>\n",
       "      <td>30.0</td>\n",
       "      <td>7.0</td>\n",
       "      <td>2.0</td>\n",
       "    </tr>\n",
       "    <tr>\n",
       "      <th>2001</th>\n",
       "      <td>0.0</td>\n",
       "      <td>0.0</td>\n",
       "      <td>0.0</td>\n",
       "      <td>0.0</td>\n",
       "      <td>0.0</td>\n",
       "      <td>0.0</td>\n",
       "    </tr>\n",
       "    <tr>\n",
       "      <th>2002</th>\n",
       "      <td>-90.0</td>\n",
       "      <td>49.0</td>\n",
       "      <td>3.0</td>\n",
       "      <td>-77.0</td>\n",
       "      <td>-34.0</td>\n",
       "      <td>11.0</td>\n",
       "    </tr>\n",
       "    <tr>\n",
       "      <th>2003</th>\n",
       "      <td>10.0</td>\n",
       "      <td>20.0</td>\n",
       "      <td>40.0</td>\n",
       "      <td>21.0</td>\n",
       "      <td>37.0</td>\n",
       "      <td>28.0</td>\n",
       "    </tr>\n",
       "    <tr>\n",
       "      <th>2005</th>\n",
       "      <td>-90.0</td>\n",
       "      <td>98.0</td>\n",
       "      <td>9.0</td>\n",
       "      <td>-308.0</td>\n",
       "      <td>-170.0</td>\n",
       "      <td>77.0</td>\n",
       "    </tr>\n",
       "  </tbody>\n",
       "</table>\n",
       "</div>"
      ],
      "text/plain": [
       "location     서울     경기    충청     경상     전라    부산\n",
       "1998      150.0  200.0 -10.0   10.0    5.0   5.0\n",
       "1999      180.0  240.0   3.0   20.0    6.0   5.0\n",
       "2000      300.0  450.0 -13.0   30.0    7.0   2.0\n",
       "2001        0.0    0.0   0.0    0.0    0.0   0.0\n",
       "2002      -90.0   49.0   3.0  -77.0  -34.0  11.0\n",
       "2003       10.0   20.0  40.0   21.0   37.0  28.0\n",
       "2005      -90.0   98.0   9.0 -308.0 -170.0  77.0"
      ]
     },
     "execution_count": 89,
     "metadata": {},
     "output_type": "execute_result"
    }
   ],
   "source": [
    "pop_sample.drop(['제주', '수도권'], axis=1, inplace=True)\n",
    "\n",
    "pop_sample"
   ]
  },
  {
   "cell_type": "code",
   "execution_count": 90,
   "id": "e651111d",
   "metadata": {},
   "outputs": [
    {
     "data": {
      "text/html": [
       "<div>\n",
       "<style scoped>\n",
       "    .dataframe tbody tr th:only-of-type {\n",
       "        vertical-align: middle;\n",
       "    }\n",
       "\n",
       "    .dataframe tbody tr th {\n",
       "        vertical-align: top;\n",
       "    }\n",
       "\n",
       "    .dataframe thead th {\n",
       "        text-align: right;\n",
       "    }\n",
       "</style>\n",
       "<table border=\"1\" class=\"dataframe\">\n",
       "  <thead>\n",
       "    <tr style=\"text-align: right;\">\n",
       "      <th>location</th>\n",
       "      <th>서울</th>\n",
       "      <th>경기</th>\n",
       "      <th>충청</th>\n",
       "      <th>경상</th>\n",
       "      <th>전라</th>\n",
       "      <th>부산</th>\n",
       "    </tr>\n",
       "  </thead>\n",
       "  <tbody>\n",
       "    <tr>\n",
       "      <th>1998</th>\n",
       "      <td>150.0</td>\n",
       "      <td>200.0</td>\n",
       "      <td>-10.0</td>\n",
       "      <td>10.0</td>\n",
       "      <td>5.0</td>\n",
       "      <td>5.0</td>\n",
       "    </tr>\n",
       "    <tr>\n",
       "      <th>1999</th>\n",
       "      <td>180.0</td>\n",
       "      <td>240.0</td>\n",
       "      <td>3.0</td>\n",
       "      <td>20.0</td>\n",
       "      <td>6.0</td>\n",
       "      <td>5.0</td>\n",
       "    </tr>\n",
       "    <tr>\n",
       "      <th>2000</th>\n",
       "      <td>300.0</td>\n",
       "      <td>450.0</td>\n",
       "      <td>-13.0</td>\n",
       "      <td>30.0</td>\n",
       "      <td>7.0</td>\n",
       "      <td>2.0</td>\n",
       "    </tr>\n",
       "    <tr>\n",
       "      <th>2001</th>\n",
       "      <td>0.0</td>\n",
       "      <td>0.0</td>\n",
       "      <td>0.0</td>\n",
       "      <td>0.0</td>\n",
       "      <td>0.0</td>\n",
       "      <td>0.0</td>\n",
       "    </tr>\n",
       "    <tr>\n",
       "      <th>2002</th>\n",
       "      <td>-90.0</td>\n",
       "      <td>49.0</td>\n",
       "      <td>3.0</td>\n",
       "      <td>-77.0</td>\n",
       "      <td>-34.0</td>\n",
       "      <td>11.0</td>\n",
       "    </tr>\n",
       "  </tbody>\n",
       "</table>\n",
       "</div>"
      ],
      "text/plain": [
       "location     서울     경기    충청    경상    전라    부산\n",
       "1998      150.0  200.0 -10.0  10.0   5.0   5.0\n",
       "1999      180.0  240.0   3.0  20.0   6.0   5.0\n",
       "2000      300.0  450.0 -13.0  30.0   7.0   2.0\n",
       "2001        0.0    0.0   0.0   0.0   0.0   0.0\n",
       "2002      -90.0   49.0   3.0 -77.0 -34.0  11.0"
      ]
     },
     "execution_count": 90,
     "metadata": {},
     "output_type": "execute_result"
    }
   ],
   "source": [
    "pop_sample.drop([2003, 2005], inplace=True)\n",
    "\n",
    "pop_sample"
   ]
  },
  {
   "cell_type": "markdown",
   "id": "4fb93288",
   "metadata": {},
   "source": [
    "## 7. `DataFrame` 사이의 산술 연산 (Operation)\n",
    "\n",
    "- Operation between `DataFrame` and `DataFrame`\n",
    "\n",
    "    - columns, row sorted\n",
    "\n",
    "    - columns index, row index 기준 operation 수행\n",
    "    \n",
    "    - common index 아닐 경우: `NaN` 반환\n",
    "    \n",
    "    - `fill_value=value`: `NaN`이 아닌 값으로 대체 가능\n",
    "\n",
    "<br>\n",
    "\n",
    "- Operator 종류\n",
    "\n",
    "    1. add : `+`, `df1.add(df2)`\n",
    "    \n",
    "    2. subtract : `-`, `df1.sub(df2)`\n",
    "    \n",
    "    3. multiply: `*`, `df1.mul(df2)`\n",
    "    \n",
    "    4. divide: `/`, `df1.div(df2)`\n",
    "    \n",
    "    5. get int division: `//`, `df1.floordiv(df2)`\n",
    "    \n",
    "    6. modulo: `%`, `df1.mod(df2)`"
   ]
  },
  {
   "cell_type": "code",
   "execution_count": 91,
   "id": "1e0f2ed1",
   "metadata": {},
   "outputs": [
    {
     "data": {
      "text/html": [
       "<div>\n",
       "<style scoped>\n",
       "    .dataframe tbody tr th:only-of-type {\n",
       "        vertical-align: middle;\n",
       "    }\n",
       "\n",
       "    .dataframe tbody tr th {\n",
       "        vertical-align: top;\n",
       "    }\n",
       "\n",
       "    .dataframe thead th {\n",
       "        text-align: right;\n",
       "    }\n",
       "</style>\n",
       "<table border=\"1\" class=\"dataframe\">\n",
       "  <thead>\n",
       "    <tr style=\"text-align: right;\">\n",
       "      <th></th>\n",
       "      <th>서울</th>\n",
       "      <th>경기</th>\n",
       "      <th>인천</th>\n",
       "    </tr>\n",
       "  </thead>\n",
       "  <tbody>\n",
       "    <tr>\n",
       "      <th>a</th>\n",
       "      <td>1</td>\n",
       "      <td>6</td>\n",
       "      <td>6</td>\n",
       "    </tr>\n",
       "    <tr>\n",
       "      <th>b</th>\n",
       "      <td>3</td>\n",
       "      <td>7</td>\n",
       "      <td>2</td>\n",
       "    </tr>\n",
       "    <tr>\n",
       "      <th>c</th>\n",
       "      <td>5</td>\n",
       "      <td>4</td>\n",
       "      <td>7</td>\n",
       "    </tr>\n",
       "  </tbody>\n",
       "</table>\n",
       "</div>"
      ],
      "text/plain": [
       "   서울  경기  인천\n",
       "a   1   6   6\n",
       "b   3   7   2\n",
       "c   5   4   7"
      ]
     },
     "execution_count": 91,
     "metadata": {},
     "output_type": "execute_result"
    }
   ],
   "source": [
    "op_df = pd.DataFrame(np.random.randint(1, 10, 9).reshape(3, 3),\n",
    "                    index=list('abc'),\n",
    "                    columns=['서울', '경기', '인천'])\n",
    "\n",
    "op_df"
   ]
  },
  {
   "cell_type": "code",
   "execution_count": 92,
   "id": "3be17ab2",
   "metadata": {},
   "outputs": [
    {
     "data": {
      "text/html": [
       "<div>\n",
       "<style scoped>\n",
       "    .dataframe tbody tr th:only-of-type {\n",
       "        vertical-align: middle;\n",
       "    }\n",
       "\n",
       "    .dataframe tbody tr th {\n",
       "        vertical-align: top;\n",
       "    }\n",
       "\n",
       "    .dataframe thead th {\n",
       "        text-align: right;\n",
       "    }\n",
       "</style>\n",
       "<table border=\"1\" class=\"dataframe\">\n",
       "  <thead>\n",
       "    <tr style=\"text-align: right;\">\n",
       "      <th></th>\n",
       "      <th>서울</th>\n",
       "      <th>경기</th>\n",
       "      <th>인천</th>\n",
       "      <th>대전</th>\n",
       "      <th>부산</th>\n",
       "    </tr>\n",
       "  </thead>\n",
       "  <tbody>\n",
       "    <tr>\n",
       "      <th>a</th>\n",
       "      <td>4</td>\n",
       "      <td>9</td>\n",
       "      <td>4</td>\n",
       "      <td>8</td>\n",
       "      <td>5</td>\n",
       "    </tr>\n",
       "    <tr>\n",
       "      <th>b</th>\n",
       "      <td>5</td>\n",
       "      <td>5</td>\n",
       "      <td>9</td>\n",
       "      <td>2</td>\n",
       "      <td>3</td>\n",
       "    </tr>\n",
       "    <tr>\n",
       "      <th>c</th>\n",
       "      <td>5</td>\n",
       "      <td>7</td>\n",
       "      <td>6</td>\n",
       "      <td>9</td>\n",
       "      <td>3</td>\n",
       "    </tr>\n",
       "    <tr>\n",
       "      <th>d</th>\n",
       "      <td>8</td>\n",
       "      <td>8</td>\n",
       "      <td>2</td>\n",
       "      <td>5</td>\n",
       "      <td>9</td>\n",
       "    </tr>\n",
       "  </tbody>\n",
       "</table>\n",
       "</div>"
      ],
      "text/plain": [
       "   서울  경기  인천  대전  부산\n",
       "a   4   9   4   8   5\n",
       "b   5   5   9   2   3\n",
       "c   5   7   6   9   3\n",
       "d   8   8   2   5   9"
      ]
     },
     "execution_count": 92,
     "metadata": {},
     "output_type": "execute_result"
    }
   ],
   "source": [
    "nd_df = pd.DataFrame(np.random.randint(1, 10, (20)).reshape(4, 5),\n",
    "                    columns=['서울', '경기', '인천', '대전', '부산'],\n",
    "                    index=list('abcd'))\n",
    "\n",
    "nd_df"
   ]
  },
  {
   "cell_type": "markdown",
   "id": "0831d679",
   "metadata": {},
   "source": [
    "<br>\n",
    "\n",
    "1. add: `+`, `df1.add(df2)`\n",
    "    \n",
    "    - result: common index(row, column)만 정상 연산, 아닌 부분은 `NaN`반환`"
   ]
  },
  {
   "cell_type": "code",
   "execution_count": 93,
   "id": "eb80bcfc",
   "metadata": {},
   "outputs": [
    {
     "data": {
      "text/html": [
       "<div>\n",
       "<style scoped>\n",
       "    .dataframe tbody tr th:only-of-type {\n",
       "        vertical-align: middle;\n",
       "    }\n",
       "\n",
       "    .dataframe tbody tr th {\n",
       "        vertical-align: top;\n",
       "    }\n",
       "\n",
       "    .dataframe thead th {\n",
       "        text-align: right;\n",
       "    }\n",
       "</style>\n",
       "<table border=\"1\" class=\"dataframe\">\n",
       "  <thead>\n",
       "    <tr style=\"text-align: right;\">\n",
       "      <th></th>\n",
       "      <th>경기</th>\n",
       "      <th>대전</th>\n",
       "      <th>부산</th>\n",
       "      <th>서울</th>\n",
       "      <th>인천</th>\n",
       "    </tr>\n",
       "  </thead>\n",
       "  <tbody>\n",
       "    <tr>\n",
       "      <th>a</th>\n",
       "      <td>15.0</td>\n",
       "      <td>NaN</td>\n",
       "      <td>NaN</td>\n",
       "      <td>5.0</td>\n",
       "      <td>10.0</td>\n",
       "    </tr>\n",
       "    <tr>\n",
       "      <th>b</th>\n",
       "      <td>12.0</td>\n",
       "      <td>NaN</td>\n",
       "      <td>NaN</td>\n",
       "      <td>8.0</td>\n",
       "      <td>11.0</td>\n",
       "    </tr>\n",
       "    <tr>\n",
       "      <th>c</th>\n",
       "      <td>11.0</td>\n",
       "      <td>NaN</td>\n",
       "      <td>NaN</td>\n",
       "      <td>10.0</td>\n",
       "      <td>13.0</td>\n",
       "    </tr>\n",
       "    <tr>\n",
       "      <th>d</th>\n",
       "      <td>NaN</td>\n",
       "      <td>NaN</td>\n",
       "      <td>NaN</td>\n",
       "      <td>NaN</td>\n",
       "      <td>NaN</td>\n",
       "    </tr>\n",
       "  </tbody>\n",
       "</table>\n",
       "</div>"
      ],
      "text/plain": [
       "     경기  대전  부산    서울    인천\n",
       "a  15.0 NaN NaN   5.0  10.0\n",
       "b  12.0 NaN NaN   8.0  11.0\n",
       "c  11.0 NaN NaN  10.0  13.0\n",
       "d   NaN NaN NaN   NaN   NaN"
      ]
     },
     "execution_count": 93,
     "metadata": {},
     "output_type": "execute_result"
    }
   ],
   "source": [
    "op_df + nd_df"
   ]
  },
  {
   "cell_type": "markdown",
   "id": "e88f4832",
   "metadata": {},
   "source": [
    "<br>\n",
    "\n",
    "- `fill_value=value` optional parameter: 없는 data를 `value`로 채움"
   ]
  },
  {
   "cell_type": "code",
   "execution_count": 94,
   "id": "0b7e0551",
   "metadata": {},
   "outputs": [
    {
     "data": {
      "text/html": [
       "<div>\n",
       "<style scoped>\n",
       "    .dataframe tbody tr th:only-of-type {\n",
       "        vertical-align: middle;\n",
       "    }\n",
       "\n",
       "    .dataframe tbody tr th {\n",
       "        vertical-align: top;\n",
       "    }\n",
       "\n",
       "    .dataframe thead th {\n",
       "        text-align: right;\n",
       "    }\n",
       "</style>\n",
       "<table border=\"1\" class=\"dataframe\">\n",
       "  <thead>\n",
       "    <tr style=\"text-align: right;\">\n",
       "      <th></th>\n",
       "      <th>경기</th>\n",
       "      <th>대전</th>\n",
       "      <th>부산</th>\n",
       "      <th>서울</th>\n",
       "      <th>인천</th>\n",
       "    </tr>\n",
       "  </thead>\n",
       "  <tbody>\n",
       "    <tr>\n",
       "      <th>a</th>\n",
       "      <td>15.0</td>\n",
       "      <td>8.0</td>\n",
       "      <td>5.0</td>\n",
       "      <td>5.0</td>\n",
       "      <td>10.0</td>\n",
       "    </tr>\n",
       "    <tr>\n",
       "      <th>b</th>\n",
       "      <td>12.0</td>\n",
       "      <td>2.0</td>\n",
       "      <td>3.0</td>\n",
       "      <td>8.0</td>\n",
       "      <td>11.0</td>\n",
       "    </tr>\n",
       "    <tr>\n",
       "      <th>c</th>\n",
       "      <td>11.0</td>\n",
       "      <td>9.0</td>\n",
       "      <td>3.0</td>\n",
       "      <td>10.0</td>\n",
       "      <td>13.0</td>\n",
       "    </tr>\n",
       "    <tr>\n",
       "      <th>d</th>\n",
       "      <td>8.0</td>\n",
       "      <td>5.0</td>\n",
       "      <td>9.0</td>\n",
       "      <td>8.0</td>\n",
       "      <td>2.0</td>\n",
       "    </tr>\n",
       "  </tbody>\n",
       "</table>\n",
       "</div>"
      ],
      "text/plain": [
       "     경기   대전   부산    서울    인천\n",
       "a  15.0  8.0  5.0   5.0  10.0\n",
       "b  12.0  2.0  3.0   8.0  11.0\n",
       "c  11.0  9.0  3.0  10.0  13.0\n",
       "d   8.0  5.0  9.0   8.0   2.0"
      ]
     },
     "execution_count": 94,
     "metadata": {},
     "output_type": "execute_result"
    }
   ],
   "source": [
    "op_df.add(nd_df, fill_value=0)"
   ]
  },
  {
   "cell_type": "markdown",
   "id": "0381daa0",
   "metadata": {},
   "source": [
    "<br>\n",
    "\n",
    "2. subtract: `-`, `df1.sub(df2)`"
   ]
  },
  {
   "cell_type": "code",
   "execution_count": 95,
   "id": "4b9c130d",
   "metadata": {},
   "outputs": [
    {
     "data": {
      "text/html": [
       "<div>\n",
       "<style scoped>\n",
       "    .dataframe tbody tr th:only-of-type {\n",
       "        vertical-align: middle;\n",
       "    }\n",
       "\n",
       "    .dataframe tbody tr th {\n",
       "        vertical-align: top;\n",
       "    }\n",
       "\n",
       "    .dataframe thead th {\n",
       "        text-align: right;\n",
       "    }\n",
       "</style>\n",
       "<table border=\"1\" class=\"dataframe\">\n",
       "  <thead>\n",
       "    <tr style=\"text-align: right;\">\n",
       "      <th></th>\n",
       "      <th>경기</th>\n",
       "      <th>대전</th>\n",
       "      <th>부산</th>\n",
       "      <th>서울</th>\n",
       "      <th>인천</th>\n",
       "    </tr>\n",
       "  </thead>\n",
       "  <tbody>\n",
       "    <tr>\n",
       "      <th>a</th>\n",
       "      <td>-3.0</td>\n",
       "      <td>NaN</td>\n",
       "      <td>NaN</td>\n",
       "      <td>-3.0</td>\n",
       "      <td>2.0</td>\n",
       "    </tr>\n",
       "    <tr>\n",
       "      <th>b</th>\n",
       "      <td>2.0</td>\n",
       "      <td>NaN</td>\n",
       "      <td>NaN</td>\n",
       "      <td>-2.0</td>\n",
       "      <td>-7.0</td>\n",
       "    </tr>\n",
       "    <tr>\n",
       "      <th>c</th>\n",
       "      <td>-3.0</td>\n",
       "      <td>NaN</td>\n",
       "      <td>NaN</td>\n",
       "      <td>0.0</td>\n",
       "      <td>1.0</td>\n",
       "    </tr>\n",
       "    <tr>\n",
       "      <th>d</th>\n",
       "      <td>NaN</td>\n",
       "      <td>NaN</td>\n",
       "      <td>NaN</td>\n",
       "      <td>NaN</td>\n",
       "      <td>NaN</td>\n",
       "    </tr>\n",
       "  </tbody>\n",
       "</table>\n",
       "</div>"
      ],
      "text/plain": [
       "    경기  대전  부산   서울   인천\n",
       "a -3.0 NaN NaN -3.0  2.0\n",
       "b  2.0 NaN NaN -2.0 -7.0\n",
       "c -3.0 NaN NaN  0.0  1.0\n",
       "d  NaN NaN NaN  NaN  NaN"
      ]
     },
     "execution_count": 95,
     "metadata": {},
     "output_type": "execute_result"
    }
   ],
   "source": [
    "op_df - nd_df"
   ]
  },
  {
   "cell_type": "code",
   "execution_count": 96,
   "id": "1b9d90c7",
   "metadata": {},
   "outputs": [
    {
     "data": {
      "text/html": [
       "<div>\n",
       "<style scoped>\n",
       "    .dataframe tbody tr th:only-of-type {\n",
       "        vertical-align: middle;\n",
       "    }\n",
       "\n",
       "    .dataframe tbody tr th {\n",
       "        vertical-align: top;\n",
       "    }\n",
       "\n",
       "    .dataframe thead th {\n",
       "        text-align: right;\n",
       "    }\n",
       "</style>\n",
       "<table border=\"1\" class=\"dataframe\">\n",
       "  <thead>\n",
       "    <tr style=\"text-align: right;\">\n",
       "      <th></th>\n",
       "      <th>경기</th>\n",
       "      <th>대전</th>\n",
       "      <th>부산</th>\n",
       "      <th>서울</th>\n",
       "      <th>인천</th>\n",
       "    </tr>\n",
       "  </thead>\n",
       "  <tbody>\n",
       "    <tr>\n",
       "      <th>a</th>\n",
       "      <td>-3.0</td>\n",
       "      <td>-8.0</td>\n",
       "      <td>-5.0</td>\n",
       "      <td>-3.0</td>\n",
       "      <td>2.0</td>\n",
       "    </tr>\n",
       "    <tr>\n",
       "      <th>b</th>\n",
       "      <td>2.0</td>\n",
       "      <td>-2.0</td>\n",
       "      <td>-3.0</td>\n",
       "      <td>-2.0</td>\n",
       "      <td>-7.0</td>\n",
       "    </tr>\n",
       "    <tr>\n",
       "      <th>c</th>\n",
       "      <td>-3.0</td>\n",
       "      <td>-9.0</td>\n",
       "      <td>-3.0</td>\n",
       "      <td>0.0</td>\n",
       "      <td>1.0</td>\n",
       "    </tr>\n",
       "    <tr>\n",
       "      <th>d</th>\n",
       "      <td>-8.0</td>\n",
       "      <td>-5.0</td>\n",
       "      <td>-9.0</td>\n",
       "      <td>-8.0</td>\n",
       "      <td>-2.0</td>\n",
       "    </tr>\n",
       "  </tbody>\n",
       "</table>\n",
       "</div>"
      ],
      "text/plain": [
       "    경기   대전   부산   서울   인천\n",
       "a -3.0 -8.0 -5.0 -3.0  2.0\n",
       "b  2.0 -2.0 -3.0 -2.0 -7.0\n",
       "c -3.0 -9.0 -3.0  0.0  1.0\n",
       "d -8.0 -5.0 -9.0 -8.0 -2.0"
      ]
     },
     "execution_count": 96,
     "metadata": {},
     "output_type": "execute_result"
    }
   ],
   "source": [
    "op_df.sub(nd_df, fill_value=0)"
   ]
  },
  {
   "cell_type": "markdown",
   "id": "1c5d8342",
   "metadata": {},
   "source": [
    "<br>\n",
    "\n",
    "- 특정 row끼리 연산"
   ]
  },
  {
   "cell_type": "code",
   "execution_count": 97,
   "id": "c9c79e4a",
   "metadata": {},
   "outputs": [
    {
     "data": {
      "text/html": [
       "<div>\n",
       "<style scoped>\n",
       "    .dataframe tbody tr th:only-of-type {\n",
       "        vertical-align: middle;\n",
       "    }\n",
       "\n",
       "    .dataframe tbody tr th {\n",
       "        vertical-align: top;\n",
       "    }\n",
       "\n",
       "    .dataframe thead th {\n",
       "        text-align: right;\n",
       "    }\n",
       "</style>\n",
       "<table border=\"1\" class=\"dataframe\">\n",
       "  <thead>\n",
       "    <tr style=\"text-align: right;\">\n",
       "      <th></th>\n",
       "      <th>경기</th>\n",
       "      <th>대전</th>\n",
       "      <th>부산</th>\n",
       "      <th>서울</th>\n",
       "      <th>인천</th>\n",
       "    </tr>\n",
       "  </thead>\n",
       "  <tbody>\n",
       "    <tr>\n",
       "      <th>a</th>\n",
       "      <td>-3</td>\n",
       "      <td>NaN</td>\n",
       "      <td>NaN</td>\n",
       "      <td>-3</td>\n",
       "      <td>2</td>\n",
       "    </tr>\n",
       "    <tr>\n",
       "      <th>c</th>\n",
       "      <td>-3</td>\n",
       "      <td>NaN</td>\n",
       "      <td>NaN</td>\n",
       "      <td>0</td>\n",
       "      <td>1</td>\n",
       "    </tr>\n",
       "  </tbody>\n",
       "</table>\n",
       "</div>"
      ],
      "text/plain": [
       "   경기  대전  부산  서울  인천\n",
       "a  -3 NaN NaN  -3   2\n",
       "c  -3 NaN NaN   0   1"
      ]
     },
     "execution_count": 97,
     "metadata": {},
     "output_type": "execute_result"
    }
   ],
   "source": [
    "op_df.loc[['a', 'c']] - nd_df.loc[['a', 'c']]"
   ]
  },
  {
   "cell_type": "markdown",
   "id": "47318d4c",
   "metadata": {},
   "source": [
    "<br>\n",
    "\n",
    "3. multiply: `*`, `df1.mul(df2)`"
   ]
  },
  {
   "cell_type": "code",
   "execution_count": 98,
   "id": "793d0cf5",
   "metadata": {},
   "outputs": [
    {
     "data": {
      "text/html": [
       "<div>\n",
       "<style scoped>\n",
       "    .dataframe tbody tr th:only-of-type {\n",
       "        vertical-align: middle;\n",
       "    }\n",
       "\n",
       "    .dataframe tbody tr th {\n",
       "        vertical-align: top;\n",
       "    }\n",
       "\n",
       "    .dataframe thead th {\n",
       "        text-align: right;\n",
       "    }\n",
       "</style>\n",
       "<table border=\"1\" class=\"dataframe\">\n",
       "  <thead>\n",
       "    <tr style=\"text-align: right;\">\n",
       "      <th></th>\n",
       "      <th>경기</th>\n",
       "      <th>대전</th>\n",
       "      <th>부산</th>\n",
       "      <th>서울</th>\n",
       "      <th>인천</th>\n",
       "    </tr>\n",
       "  </thead>\n",
       "  <tbody>\n",
       "    <tr>\n",
       "      <th>a</th>\n",
       "      <td>54.0</td>\n",
       "      <td>NaN</td>\n",
       "      <td>NaN</td>\n",
       "      <td>4.0</td>\n",
       "      <td>24.0</td>\n",
       "    </tr>\n",
       "    <tr>\n",
       "      <th>b</th>\n",
       "      <td>35.0</td>\n",
       "      <td>NaN</td>\n",
       "      <td>NaN</td>\n",
       "      <td>15.0</td>\n",
       "      <td>18.0</td>\n",
       "    </tr>\n",
       "    <tr>\n",
       "      <th>c</th>\n",
       "      <td>28.0</td>\n",
       "      <td>NaN</td>\n",
       "      <td>NaN</td>\n",
       "      <td>25.0</td>\n",
       "      <td>42.0</td>\n",
       "    </tr>\n",
       "    <tr>\n",
       "      <th>d</th>\n",
       "      <td>NaN</td>\n",
       "      <td>NaN</td>\n",
       "      <td>NaN</td>\n",
       "      <td>NaN</td>\n",
       "      <td>NaN</td>\n",
       "    </tr>\n",
       "  </tbody>\n",
       "</table>\n",
       "</div>"
      ],
      "text/plain": [
       "     경기  대전  부산    서울    인천\n",
       "a  54.0 NaN NaN   4.0  24.0\n",
       "b  35.0 NaN NaN  15.0  18.0\n",
       "c  28.0 NaN NaN  25.0  42.0\n",
       "d   NaN NaN NaN   NaN   NaN"
      ]
     },
     "execution_count": 98,
     "metadata": {},
     "output_type": "execute_result"
    }
   ],
   "source": [
    "op_df * nd_df"
   ]
  },
  {
   "cell_type": "code",
   "execution_count": 99,
   "id": "f1cdf70f",
   "metadata": {},
   "outputs": [
    {
     "data": {
      "text/html": [
       "<div>\n",
       "<style scoped>\n",
       "    .dataframe tbody tr th:only-of-type {\n",
       "        vertical-align: middle;\n",
       "    }\n",
       "\n",
       "    .dataframe tbody tr th {\n",
       "        vertical-align: top;\n",
       "    }\n",
       "\n",
       "    .dataframe thead th {\n",
       "        text-align: right;\n",
       "    }\n",
       "</style>\n",
       "<table border=\"1\" class=\"dataframe\">\n",
       "  <thead>\n",
       "    <tr style=\"text-align: right;\">\n",
       "      <th></th>\n",
       "      <th>경기</th>\n",
       "      <th>대전</th>\n",
       "      <th>부산</th>\n",
       "      <th>서울</th>\n",
       "      <th>인천</th>\n",
       "    </tr>\n",
       "  </thead>\n",
       "  <tbody>\n",
       "    <tr>\n",
       "      <th>a</th>\n",
       "      <td>54.0</td>\n",
       "      <td>8.0</td>\n",
       "      <td>5.0</td>\n",
       "      <td>4.0</td>\n",
       "      <td>24.0</td>\n",
       "    </tr>\n",
       "    <tr>\n",
       "      <th>b</th>\n",
       "      <td>35.0</td>\n",
       "      <td>2.0</td>\n",
       "      <td>3.0</td>\n",
       "      <td>15.0</td>\n",
       "      <td>18.0</td>\n",
       "    </tr>\n",
       "    <tr>\n",
       "      <th>c</th>\n",
       "      <td>28.0</td>\n",
       "      <td>9.0</td>\n",
       "      <td>3.0</td>\n",
       "      <td>25.0</td>\n",
       "      <td>42.0</td>\n",
       "    </tr>\n",
       "    <tr>\n",
       "      <th>d</th>\n",
       "      <td>8.0</td>\n",
       "      <td>5.0</td>\n",
       "      <td>9.0</td>\n",
       "      <td>8.0</td>\n",
       "      <td>2.0</td>\n",
       "    </tr>\n",
       "  </tbody>\n",
       "</table>\n",
       "</div>"
      ],
      "text/plain": [
       "     경기   대전   부산    서울    인천\n",
       "a  54.0  8.0  5.0   4.0  24.0\n",
       "b  35.0  2.0  3.0  15.0  18.0\n",
       "c  28.0  9.0  3.0  25.0  42.0\n",
       "d   8.0  5.0  9.0   8.0   2.0"
      ]
     },
     "execution_count": 99,
     "metadata": {},
     "output_type": "execute_result"
    }
   ],
   "source": [
    "op_df.mul(nd_df, fill_value=1)"
   ]
  },
  {
   "cell_type": "markdown",
   "id": "2fa9ce68",
   "metadata": {},
   "source": [
    "<br>\n",
    "\n",
    "4. divide: `/`, `df1.div(df2)`"
   ]
  },
  {
   "cell_type": "code",
   "execution_count": 100,
   "id": "dde6d8ab",
   "metadata": {
    "scrolled": true
   },
   "outputs": [
    {
     "data": {
      "text/html": [
       "<div>\n",
       "<style scoped>\n",
       "    .dataframe tbody tr th:only-of-type {\n",
       "        vertical-align: middle;\n",
       "    }\n",
       "\n",
       "    .dataframe tbody tr th {\n",
       "        vertical-align: top;\n",
       "    }\n",
       "\n",
       "    .dataframe thead th {\n",
       "        text-align: right;\n",
       "    }\n",
       "</style>\n",
       "<table border=\"1\" class=\"dataframe\">\n",
       "  <thead>\n",
       "    <tr style=\"text-align: right;\">\n",
       "      <th></th>\n",
       "      <th>경기</th>\n",
       "      <th>대전</th>\n",
       "      <th>부산</th>\n",
       "      <th>서울</th>\n",
       "      <th>인천</th>\n",
       "    </tr>\n",
       "  </thead>\n",
       "  <tbody>\n",
       "    <tr>\n",
       "      <th>a</th>\n",
       "      <td>0.666667</td>\n",
       "      <td>NaN</td>\n",
       "      <td>NaN</td>\n",
       "      <td>0.25</td>\n",
       "      <td>1.500000</td>\n",
       "    </tr>\n",
       "    <tr>\n",
       "      <th>b</th>\n",
       "      <td>1.400000</td>\n",
       "      <td>NaN</td>\n",
       "      <td>NaN</td>\n",
       "      <td>0.60</td>\n",
       "      <td>0.222222</td>\n",
       "    </tr>\n",
       "    <tr>\n",
       "      <th>c</th>\n",
       "      <td>0.571429</td>\n",
       "      <td>NaN</td>\n",
       "      <td>NaN</td>\n",
       "      <td>1.00</td>\n",
       "      <td>1.166667</td>\n",
       "    </tr>\n",
       "    <tr>\n",
       "      <th>d</th>\n",
       "      <td>NaN</td>\n",
       "      <td>NaN</td>\n",
       "      <td>NaN</td>\n",
       "      <td>NaN</td>\n",
       "      <td>NaN</td>\n",
       "    </tr>\n",
       "  </tbody>\n",
       "</table>\n",
       "</div>"
      ],
      "text/plain": [
       "         경기  대전  부산    서울        인천\n",
       "a  0.666667 NaN NaN  0.25  1.500000\n",
       "b  1.400000 NaN NaN  0.60  0.222222\n",
       "c  0.571429 NaN NaN  1.00  1.166667\n",
       "d       NaN NaN NaN   NaN       NaN"
      ]
     },
     "execution_count": 100,
     "metadata": {},
     "output_type": "execute_result"
    }
   ],
   "source": [
    "op_df / nd_df"
   ]
  },
  {
   "cell_type": "code",
   "execution_count": 101,
   "id": "86de9669",
   "metadata": {
    "scrolled": true
   },
   "outputs": [
    {
     "data": {
      "text/html": [
       "<div>\n",
       "<style scoped>\n",
       "    .dataframe tbody tr th:only-of-type {\n",
       "        vertical-align: middle;\n",
       "    }\n",
       "\n",
       "    .dataframe tbody tr th {\n",
       "        vertical-align: top;\n",
       "    }\n",
       "\n",
       "    .dataframe thead th {\n",
       "        text-align: right;\n",
       "    }\n",
       "</style>\n",
       "<table border=\"1\" class=\"dataframe\">\n",
       "  <thead>\n",
       "    <tr style=\"text-align: right;\">\n",
       "      <th></th>\n",
       "      <th>경기</th>\n",
       "      <th>대전</th>\n",
       "      <th>부산</th>\n",
       "      <th>서울</th>\n",
       "      <th>인천</th>\n",
       "    </tr>\n",
       "  </thead>\n",
       "  <tbody>\n",
       "    <tr>\n",
       "      <th>a</th>\n",
       "      <td>0.666667</td>\n",
       "      <td>0.125000</td>\n",
       "      <td>0.200000</td>\n",
       "      <td>0.250</td>\n",
       "      <td>1.500000</td>\n",
       "    </tr>\n",
       "    <tr>\n",
       "      <th>b</th>\n",
       "      <td>1.400000</td>\n",
       "      <td>0.500000</td>\n",
       "      <td>0.333333</td>\n",
       "      <td>0.600</td>\n",
       "      <td>0.222222</td>\n",
       "    </tr>\n",
       "    <tr>\n",
       "      <th>c</th>\n",
       "      <td>0.571429</td>\n",
       "      <td>0.111111</td>\n",
       "      <td>0.333333</td>\n",
       "      <td>1.000</td>\n",
       "      <td>1.166667</td>\n",
       "    </tr>\n",
       "    <tr>\n",
       "      <th>d</th>\n",
       "      <td>0.125000</td>\n",
       "      <td>0.200000</td>\n",
       "      <td>0.111111</td>\n",
       "      <td>0.125</td>\n",
       "      <td>0.500000</td>\n",
       "    </tr>\n",
       "  </tbody>\n",
       "</table>\n",
       "</div>"
      ],
      "text/plain": [
       "         경기        대전        부산     서울        인천\n",
       "a  0.666667  0.125000  0.200000  0.250  1.500000\n",
       "b  1.400000  0.500000  0.333333  0.600  0.222222\n",
       "c  0.571429  0.111111  0.333333  1.000  1.166667\n",
       "d  0.125000  0.200000  0.111111  0.125  0.500000"
      ]
     },
     "execution_count": 101,
     "metadata": {},
     "output_type": "execute_result"
    }
   ],
   "source": [
    "op_df.div(nd_df, fill_value=1)"
   ]
  },
  {
   "cell_type": "markdown",
   "id": "866d8107",
   "metadata": {},
   "source": [
    "<br>\n",
    "\n",
    "5. int division: `//`, `df1.floordiv(df2)`"
   ]
  },
  {
   "cell_type": "code",
   "execution_count": 102,
   "id": "f775bad1",
   "metadata": {
    "scrolled": false
   },
   "outputs": [
    {
     "data": {
      "text/html": [
       "<div>\n",
       "<style scoped>\n",
       "    .dataframe tbody tr th:only-of-type {\n",
       "        vertical-align: middle;\n",
       "    }\n",
       "\n",
       "    .dataframe tbody tr th {\n",
       "        vertical-align: top;\n",
       "    }\n",
       "\n",
       "    .dataframe thead th {\n",
       "        text-align: right;\n",
       "    }\n",
       "</style>\n",
       "<table border=\"1\" class=\"dataframe\">\n",
       "  <thead>\n",
       "    <tr style=\"text-align: right;\">\n",
       "      <th></th>\n",
       "      <th>경기</th>\n",
       "      <th>대전</th>\n",
       "      <th>부산</th>\n",
       "      <th>서울</th>\n",
       "      <th>인천</th>\n",
       "    </tr>\n",
       "  </thead>\n",
       "  <tbody>\n",
       "    <tr>\n",
       "      <th>a</th>\n",
       "      <td>0.0</td>\n",
       "      <td>0.0</td>\n",
       "      <td>0.0</td>\n",
       "      <td>0.0</td>\n",
       "      <td>1.0</td>\n",
       "    </tr>\n",
       "    <tr>\n",
       "      <th>b</th>\n",
       "      <td>1.0</td>\n",
       "      <td>0.0</td>\n",
       "      <td>0.0</td>\n",
       "      <td>0.0</td>\n",
       "      <td>0.0</td>\n",
       "    </tr>\n",
       "    <tr>\n",
       "      <th>c</th>\n",
       "      <td>0.0</td>\n",
       "      <td>0.0</td>\n",
       "      <td>0.0</td>\n",
       "      <td>1.0</td>\n",
       "      <td>1.0</td>\n",
       "    </tr>\n",
       "    <tr>\n",
       "      <th>d</th>\n",
       "      <td>0.0</td>\n",
       "      <td>0.0</td>\n",
       "      <td>0.0</td>\n",
       "      <td>0.0</td>\n",
       "      <td>0.0</td>\n",
       "    </tr>\n",
       "  </tbody>\n",
       "</table>\n",
       "</div>"
      ],
      "text/plain": [
       "    경기   대전   부산   서울   인천\n",
       "a  0.0  0.0  0.0  0.0  1.0\n",
       "b  1.0  0.0  0.0  0.0  0.0\n",
       "c  0.0  0.0  0.0  1.0  1.0\n",
       "d  0.0  0.0  0.0  0.0  0.0"
      ]
     },
     "execution_count": 102,
     "metadata": {},
     "output_type": "execute_result"
    }
   ],
   "source": [
    "op_df.floordiv(nd_df, fill_value=1)"
   ]
  },
  {
   "cell_type": "markdown",
   "id": "ea14ca3e",
   "metadata": {},
   "source": [
    "<br>\n",
    "\n",
    "6. modulo: `%`, `df1.mod(df2)`"
   ]
  },
  {
   "cell_type": "code",
   "execution_count": 103,
   "id": "73822a8d",
   "metadata": {},
   "outputs": [
    {
     "data": {
      "text/html": [
       "<div>\n",
       "<style scoped>\n",
       "    .dataframe tbody tr th:only-of-type {\n",
       "        vertical-align: middle;\n",
       "    }\n",
       "\n",
       "    .dataframe tbody tr th {\n",
       "        vertical-align: top;\n",
       "    }\n",
       "\n",
       "    .dataframe thead th {\n",
       "        text-align: right;\n",
       "    }\n",
       "</style>\n",
       "<table border=\"1\" class=\"dataframe\">\n",
       "  <thead>\n",
       "    <tr style=\"text-align: right;\">\n",
       "      <th></th>\n",
       "      <th>경기</th>\n",
       "      <th>대전</th>\n",
       "      <th>부산</th>\n",
       "      <th>서울</th>\n",
       "      <th>인천</th>\n",
       "    </tr>\n",
       "  </thead>\n",
       "  <tbody>\n",
       "    <tr>\n",
       "      <th>a</th>\n",
       "      <td>6.0</td>\n",
       "      <td>1.0</td>\n",
       "      <td>1.0</td>\n",
       "      <td>1.0</td>\n",
       "      <td>2.0</td>\n",
       "    </tr>\n",
       "    <tr>\n",
       "      <th>b</th>\n",
       "      <td>2.0</td>\n",
       "      <td>1.0</td>\n",
       "      <td>1.0</td>\n",
       "      <td>3.0</td>\n",
       "      <td>2.0</td>\n",
       "    </tr>\n",
       "    <tr>\n",
       "      <th>c</th>\n",
       "      <td>4.0</td>\n",
       "      <td>1.0</td>\n",
       "      <td>1.0</td>\n",
       "      <td>0.0</td>\n",
       "      <td>1.0</td>\n",
       "    </tr>\n",
       "    <tr>\n",
       "      <th>d</th>\n",
       "      <td>1.0</td>\n",
       "      <td>1.0</td>\n",
       "      <td>1.0</td>\n",
       "      <td>1.0</td>\n",
       "      <td>1.0</td>\n",
       "    </tr>\n",
       "  </tbody>\n",
       "</table>\n",
       "</div>"
      ],
      "text/plain": [
       "    경기   대전   부산   서울   인천\n",
       "a  6.0  1.0  1.0  1.0  2.0\n",
       "b  2.0  1.0  1.0  3.0  2.0\n",
       "c  4.0  1.0  1.0  0.0  1.0\n",
       "d  1.0  1.0  1.0  1.0  1.0"
      ]
     },
     "execution_count": 103,
     "metadata": {},
     "output_type": "execute_result"
    }
   ],
   "source": [
    "op_df.mod(nd_df, fill_value=1)"
   ]
  },
  {
   "cell_type": "markdown",
   "id": "5115d1d0",
   "metadata": {},
   "source": [
    "<br>\n",
    "\n",
    "## 8. `DataFrame`과 `Series` 사이의 산술 연산 <br> Operation between `DataFrame` and `Series`\n",
    "\n",
    "- Basic logic: `Series` object의 `row label index`, `DataFrame` object의 `column label index` mapping > BroadCasting 발생\n",
    "\n",
    "- common `label index` 아닐 때: `NaN`값 반환\n",
    "\n",
    "- 연산 method 수행: `axis=axis` parameter > 연산 적용할 축 지정 (0: row, 1: column)\n",
    "\n",
    "\n",
    "\n",
    "- Operator 종류\n",
    "\n",
    "    1. add : `+`, `.add()`\n",
    "    \n",
    "    2. subtract : `-`,  `.sub()`\n",
    "\n",
    "    3. multifly : `*`, `.mul()`"
   ]
  },
  {
   "cell_type": "code",
   "execution_count": 104,
   "id": "257d05c3",
   "metadata": {
    "scrolled": true
   },
   "outputs": [
    {
     "data": {
      "text/html": [
       "<div>\n",
       "<style scoped>\n",
       "    .dataframe tbody tr th:only-of-type {\n",
       "        vertical-align: middle;\n",
       "    }\n",
       "\n",
       "    .dataframe tbody tr th {\n",
       "        vertical-align: top;\n",
       "    }\n",
       "\n",
       "    .dataframe thead th {\n",
       "        text-align: right;\n",
       "    }\n",
       "</style>\n",
       "<table border=\"1\" class=\"dataframe\">\n",
       "  <thead>\n",
       "    <tr style=\"text-align: right;\">\n",
       "      <th></th>\n",
       "      <th>a</th>\n",
       "      <th>b</th>\n",
       "      <th>c</th>\n",
       "      <th>d</th>\n",
       "    </tr>\n",
       "  </thead>\n",
       "  <tbody>\n",
       "    <tr>\n",
       "      <th>2010</th>\n",
       "      <td>0</td>\n",
       "      <td>1</td>\n",
       "      <td>2</td>\n",
       "      <td>3</td>\n",
       "    </tr>\n",
       "    <tr>\n",
       "      <th>2011</th>\n",
       "      <td>4</td>\n",
       "      <td>5</td>\n",
       "      <td>6</td>\n",
       "      <td>7</td>\n",
       "    </tr>\n",
       "    <tr>\n",
       "      <th>2012</th>\n",
       "      <td>8</td>\n",
       "      <td>9</td>\n",
       "      <td>10</td>\n",
       "      <td>11</td>\n",
       "    </tr>\n",
       "  </tbody>\n",
       "</table>\n",
       "</div>"
      ],
      "text/plain": [
       "      a  b   c   d\n",
       "2010  0  1   2   3\n",
       "2011  4  5   6   7\n",
       "2012  8  9  10  11"
      ]
     },
     "execution_count": 104,
     "metadata": {},
     "output_type": "execute_result"
    }
   ],
   "source": [
    "my_df = pd.DataFrame(np.arange(12).reshape(3, 4),\n",
    "                    index=[2010, 2011, 2012],\n",
    "                    columns=list('abcd'))\n",
    "\n",
    "my_df"
   ]
  },
  {
   "cell_type": "code",
   "execution_count": 105,
   "id": "e1253522",
   "metadata": {
    "scrolled": true
   },
   "outputs": [
    {
     "data": {
      "text/plain": [
       "a    0\n",
       "b    1\n",
       "c    2\n",
       "d    3\n",
       "Name: 2010, dtype: int32"
      ]
     },
     "execution_count": 105,
     "metadata": {},
     "output_type": "execute_result"
    }
   ],
   "source": [
    "my_sr = my_df.iloc[0]\n",
    "\n",
    "my_sr"
   ]
  },
  {
   "cell_type": "markdown",
   "id": "8a103020",
   "metadata": {},
   "source": [
    "<br>\n",
    "\n",
    "- Operation between `DataFrame` and `Series`: common `index name`\n",
    "\n",
    "    \\> mapping DataFrame object `column label index` and Series object `row label index`\n",
    "\n",
    "    \\> `Series` object `name`, `DataFrame`의 `row index name` 상관 없음\n",
    "  \n",
    "    \\> 원본 반영X, 반환된 결과 저장 필요"
   ]
  },
  {
   "cell_type": "code",
   "execution_count": 106,
   "id": "27c82b7e",
   "metadata": {
    "scrolled": true
   },
   "outputs": [
    {
     "data": {
      "text/html": [
       "<div>\n",
       "<style scoped>\n",
       "    .dataframe tbody tr th:only-of-type {\n",
       "        vertical-align: middle;\n",
       "    }\n",
       "\n",
       "    .dataframe tbody tr th {\n",
       "        vertical-align: top;\n",
       "    }\n",
       "\n",
       "    .dataframe thead th {\n",
       "        text-align: right;\n",
       "    }\n",
       "</style>\n",
       "<table border=\"1\" class=\"dataframe\">\n",
       "  <thead>\n",
       "    <tr style=\"text-align: right;\">\n",
       "      <th></th>\n",
       "      <th>a</th>\n",
       "      <th>b</th>\n",
       "      <th>c</th>\n",
       "      <th>d</th>\n",
       "    </tr>\n",
       "  </thead>\n",
       "  <tbody>\n",
       "    <tr>\n",
       "      <th>2010</th>\n",
       "      <td>0</td>\n",
       "      <td>2</td>\n",
       "      <td>4</td>\n",
       "      <td>6</td>\n",
       "    </tr>\n",
       "    <tr>\n",
       "      <th>2011</th>\n",
       "      <td>4</td>\n",
       "      <td>6</td>\n",
       "      <td>8</td>\n",
       "      <td>10</td>\n",
       "    </tr>\n",
       "    <tr>\n",
       "      <th>2012</th>\n",
       "      <td>8</td>\n",
       "      <td>10</td>\n",
       "      <td>12</td>\n",
       "      <td>14</td>\n",
       "    </tr>\n",
       "  </tbody>\n",
       "</table>\n",
       "</div>"
      ],
      "text/plain": [
       "      a   b   c   d\n",
       "2010  0   2   4   6\n",
       "2011  4   6   8  10\n",
       "2012  8  10  12  14"
      ]
     },
     "execution_count": 106,
     "metadata": {},
     "output_type": "execute_result"
    }
   ],
   "source": [
    "my_df + my_sr"
   ]
  },
  {
   "cell_type": "code",
   "execution_count": 107,
   "id": "1540f0fb",
   "metadata": {},
   "outputs": [
    {
     "data": {
      "text/html": [
       "<div>\n",
       "<style scoped>\n",
       "    .dataframe tbody tr th:only-of-type {\n",
       "        vertical-align: middle;\n",
       "    }\n",
       "\n",
       "    .dataframe tbody tr th {\n",
       "        vertical-align: top;\n",
       "    }\n",
       "\n",
       "    .dataframe thead th {\n",
       "        text-align: right;\n",
       "    }\n",
       "</style>\n",
       "<table border=\"1\" class=\"dataframe\">\n",
       "  <thead>\n",
       "    <tr style=\"text-align: right;\">\n",
       "      <th></th>\n",
       "      <th>a</th>\n",
       "      <th>b</th>\n",
       "      <th>c</th>\n",
       "      <th>d</th>\n",
       "    </tr>\n",
       "  </thead>\n",
       "  <tbody>\n",
       "    <tr>\n",
       "      <th>2010</th>\n",
       "      <td>0</td>\n",
       "      <td>1</td>\n",
       "      <td>2</td>\n",
       "      <td>3</td>\n",
       "    </tr>\n",
       "    <tr>\n",
       "      <th>2011</th>\n",
       "      <td>4</td>\n",
       "      <td>5</td>\n",
       "      <td>6</td>\n",
       "      <td>7</td>\n",
       "    </tr>\n",
       "    <tr>\n",
       "      <th>2012</th>\n",
       "      <td>8</td>\n",
       "      <td>9</td>\n",
       "      <td>10</td>\n",
       "      <td>11</td>\n",
       "    </tr>\n",
       "  </tbody>\n",
       "</table>\n",
       "</div>"
      ],
      "text/plain": [
       "      a  b   c   d\n",
       "2010  0  1   2   3\n",
       "2011  4  5   6   7\n",
       "2012  8  9  10  11"
      ]
     },
     "execution_count": 107,
     "metadata": {},
     "output_type": "execute_result"
    }
   ],
   "source": [
    "my_df"
   ]
  },
  {
   "cell_type": "code",
   "execution_count": 108,
   "id": "25e63ff3",
   "metadata": {
    "scrolled": true
   },
   "outputs": [
    {
     "name": "stdout",
     "output_type": "stream",
     "text": [
      "a    0\n",
      "b    1\n",
      "c    2\n",
      "d    3\n",
      "Name: 2020, dtype: int32\n"
     ]
    },
    {
     "data": {
      "text/html": [
       "<div>\n",
       "<style scoped>\n",
       "    .dataframe tbody tr th:only-of-type {\n",
       "        vertical-align: middle;\n",
       "    }\n",
       "\n",
       "    .dataframe tbody tr th {\n",
       "        vertical-align: top;\n",
       "    }\n",
       "\n",
       "    .dataframe thead th {\n",
       "        text-align: right;\n",
       "    }\n",
       "</style>\n",
       "<table border=\"1\" class=\"dataframe\">\n",
       "  <thead>\n",
       "    <tr style=\"text-align: right;\">\n",
       "      <th></th>\n",
       "      <th>a</th>\n",
       "      <th>b</th>\n",
       "      <th>c</th>\n",
       "      <th>d</th>\n",
       "    </tr>\n",
       "  </thead>\n",
       "  <tbody>\n",
       "    <tr>\n",
       "      <th>2010</th>\n",
       "      <td>0</td>\n",
       "      <td>2</td>\n",
       "      <td>4</td>\n",
       "      <td>6</td>\n",
       "    </tr>\n",
       "    <tr>\n",
       "      <th>2011</th>\n",
       "      <td>4</td>\n",
       "      <td>6</td>\n",
       "      <td>8</td>\n",
       "      <td>10</td>\n",
       "    </tr>\n",
       "    <tr>\n",
       "      <th>2012</th>\n",
       "      <td>8</td>\n",
       "      <td>10</td>\n",
       "      <td>12</td>\n",
       "      <td>14</td>\n",
       "    </tr>\n",
       "  </tbody>\n",
       "</table>\n",
       "</div>"
      ],
      "text/plain": [
       "      a   b   c   d\n",
       "2010  0   2   4   6\n",
       "2011  4   6   8  10\n",
       "2012  8  10  12  14"
      ]
     },
     "execution_count": 108,
     "metadata": {},
     "output_type": "execute_result"
    }
   ],
   "source": [
    "my_sr = my_sr.rename(2020)\n",
    "print(my_sr)\n",
    "\n",
    "my_df + my_sr"
   ]
  },
  {
   "cell_type": "markdown",
   "id": "98e3863f",
   "metadata": {},
   "source": [
    "<br>\n",
    "\n",
    "- Operation between `DataFrame` and `Series`\n",
    "\n",
    "    - mapping DataFrame object `column label index` and Series object `row label index`"
   ]
  },
  {
   "cell_type": "code",
   "execution_count": 109,
   "id": "2f8ecd6b",
   "metadata": {},
   "outputs": [
    {
     "data": {
      "text/html": [
       "<div>\n",
       "<style scoped>\n",
       "    .dataframe tbody tr th:only-of-type {\n",
       "        vertical-align: middle;\n",
       "    }\n",
       "\n",
       "    .dataframe tbody tr th {\n",
       "        vertical-align: top;\n",
       "    }\n",
       "\n",
       "    .dataframe thead th {\n",
       "        text-align: right;\n",
       "    }\n",
       "</style>\n",
       "<table border=\"1\" class=\"dataframe\">\n",
       "  <thead>\n",
       "    <tr style=\"text-align: right;\">\n",
       "      <th></th>\n",
       "      <th>a</th>\n",
       "      <th>b</th>\n",
       "      <th>c</th>\n",
       "      <th>d</th>\n",
       "      <th>e</th>\n",
       "    </tr>\n",
       "  </thead>\n",
       "  <tbody>\n",
       "    <tr>\n",
       "      <th>0</th>\n",
       "      <td>0.0</td>\n",
       "      <td>0.0</td>\n",
       "      <td>0.0</td>\n",
       "      <td>0.0</td>\n",
       "      <td>0.0</td>\n",
       "    </tr>\n",
       "    <tr>\n",
       "      <th>1</th>\n",
       "      <td>0.0</td>\n",
       "      <td>0.0</td>\n",
       "      <td>0.0</td>\n",
       "      <td>0.0</td>\n",
       "      <td>0.0</td>\n",
       "    </tr>\n",
       "    <tr>\n",
       "      <th>2</th>\n",
       "      <td>0.0</td>\n",
       "      <td>0.0</td>\n",
       "      <td>0.0</td>\n",
       "      <td>0.0</td>\n",
       "      <td>0.0</td>\n",
       "    </tr>\n",
       "    <tr>\n",
       "      <th>3</th>\n",
       "      <td>0.0</td>\n",
       "      <td>0.0</td>\n",
       "      <td>0.0</td>\n",
       "      <td>0.0</td>\n",
       "      <td>0.0</td>\n",
       "    </tr>\n",
       "  </tbody>\n",
       "</table>\n",
       "</div>"
      ],
      "text/plain": [
       "     a    b    c    d    e\n",
       "0  0.0  0.0  0.0  0.0  0.0\n",
       "1  0.0  0.0  0.0  0.0  0.0\n",
       "2  0.0  0.0  0.0  0.0  0.0\n",
       "3  0.0  0.0  0.0  0.0  0.0"
      ]
     },
     "execution_count": 109,
     "metadata": {},
     "output_type": "execute_result"
    }
   ],
   "source": [
    "zr_df = pd.DataFrame(np.zeros(20).reshape(4,5),\n",
    "                    columns=list('abcde'))\n",
    "\n",
    "zr_df"
   ]
  },
  {
   "cell_type": "code",
   "execution_count": 110,
   "id": "f166e3cc",
   "metadata": {},
   "outputs": [
    {
     "data": {
      "text/plain": [
       "0    0\n",
       "1    1\n",
       "2    2\n",
       "3    3\n",
       "4    4\n",
       "dtype: int32"
      ]
     },
     "execution_count": 110,
     "metadata": {},
     "output_type": "execute_result"
    }
   ],
   "source": [
    "no_sr = pd.Series(np.arange(5))\n",
    "\n",
    "no_sr"
   ]
  },
  {
   "cell_type": "code",
   "execution_count": 111,
   "id": "f0c96e41",
   "metadata": {},
   "outputs": [
    {
     "data": {
      "text/html": [
       "<div>\n",
       "<style scoped>\n",
       "    .dataframe tbody tr th:only-of-type {\n",
       "        vertical-align: middle;\n",
       "    }\n",
       "\n",
       "    .dataframe tbody tr th {\n",
       "        vertical-align: top;\n",
       "    }\n",
       "\n",
       "    .dataframe thead th {\n",
       "        text-align: right;\n",
       "    }\n",
       "</style>\n",
       "<table border=\"1\" class=\"dataframe\">\n",
       "  <thead>\n",
       "    <tr style=\"text-align: right;\">\n",
       "      <th></th>\n",
       "      <th>a</th>\n",
       "      <th>b</th>\n",
       "      <th>c</th>\n",
       "      <th>d</th>\n",
       "      <th>e</th>\n",
       "      <th>0</th>\n",
       "      <th>1</th>\n",
       "      <th>2</th>\n",
       "      <th>3</th>\n",
       "      <th>4</th>\n",
       "    </tr>\n",
       "  </thead>\n",
       "  <tbody>\n",
       "    <tr>\n",
       "      <th>0</th>\n",
       "      <td>NaN</td>\n",
       "      <td>NaN</td>\n",
       "      <td>NaN</td>\n",
       "      <td>NaN</td>\n",
       "      <td>NaN</td>\n",
       "      <td>NaN</td>\n",
       "      <td>NaN</td>\n",
       "      <td>NaN</td>\n",
       "      <td>NaN</td>\n",
       "      <td>NaN</td>\n",
       "    </tr>\n",
       "    <tr>\n",
       "      <th>1</th>\n",
       "      <td>NaN</td>\n",
       "      <td>NaN</td>\n",
       "      <td>NaN</td>\n",
       "      <td>NaN</td>\n",
       "      <td>NaN</td>\n",
       "      <td>NaN</td>\n",
       "      <td>NaN</td>\n",
       "      <td>NaN</td>\n",
       "      <td>NaN</td>\n",
       "      <td>NaN</td>\n",
       "    </tr>\n",
       "    <tr>\n",
       "      <th>2</th>\n",
       "      <td>NaN</td>\n",
       "      <td>NaN</td>\n",
       "      <td>NaN</td>\n",
       "      <td>NaN</td>\n",
       "      <td>NaN</td>\n",
       "      <td>NaN</td>\n",
       "      <td>NaN</td>\n",
       "      <td>NaN</td>\n",
       "      <td>NaN</td>\n",
       "      <td>NaN</td>\n",
       "    </tr>\n",
       "    <tr>\n",
       "      <th>3</th>\n",
       "      <td>NaN</td>\n",
       "      <td>NaN</td>\n",
       "      <td>NaN</td>\n",
       "      <td>NaN</td>\n",
       "      <td>NaN</td>\n",
       "      <td>NaN</td>\n",
       "      <td>NaN</td>\n",
       "      <td>NaN</td>\n",
       "      <td>NaN</td>\n",
       "      <td>NaN</td>\n",
       "    </tr>\n",
       "  </tbody>\n",
       "</table>\n",
       "</div>"
      ],
      "text/plain": [
       "    a   b   c   d   e   0   1   2   3   4\n",
       "0 NaN NaN NaN NaN NaN NaN NaN NaN NaN NaN\n",
       "1 NaN NaN NaN NaN NaN NaN NaN NaN NaN NaN\n",
       "2 NaN NaN NaN NaN NaN NaN NaN NaN NaN NaN\n",
       "3 NaN NaN NaN NaN NaN NaN NaN NaN NaN NaN"
      ]
     },
     "execution_count": 111,
     "metadata": {},
     "output_type": "execute_result"
    }
   ],
   "source": [
    "zr_df.sub(no_sr)"
   ]
  },
  {
   "cell_type": "markdown",
   "id": "393487c7",
   "metadata": {},
   "source": [
    "<br>\n",
    "\n",
    "- Operation between `DataFrame` and `Series` in `axis=0`\n",
    "\n",
    "    \\> mapping DataFrame `row label index` and Series `row label index`"
   ]
  },
  {
   "cell_type": "code",
   "execution_count": 112,
   "id": "325c8547",
   "metadata": {},
   "outputs": [
    {
     "data": {
      "text/html": [
       "<div>\n",
       "<style scoped>\n",
       "    .dataframe tbody tr th:only-of-type {\n",
       "        vertical-align: middle;\n",
       "    }\n",
       "\n",
       "    .dataframe tbody tr th {\n",
       "        vertical-align: top;\n",
       "    }\n",
       "\n",
       "    .dataframe thead th {\n",
       "        text-align: right;\n",
       "    }\n",
       "</style>\n",
       "<table border=\"1\" class=\"dataframe\">\n",
       "  <thead>\n",
       "    <tr style=\"text-align: right;\">\n",
       "      <th></th>\n",
       "      <th>a</th>\n",
       "      <th>b</th>\n",
       "      <th>c</th>\n",
       "      <th>d</th>\n",
       "      <th>e</th>\n",
       "    </tr>\n",
       "  </thead>\n",
       "  <tbody>\n",
       "    <tr>\n",
       "      <th>0</th>\n",
       "      <td>0.0</td>\n",
       "      <td>0.0</td>\n",
       "      <td>0.0</td>\n",
       "      <td>0.0</td>\n",
       "      <td>0.0</td>\n",
       "    </tr>\n",
       "    <tr>\n",
       "      <th>1</th>\n",
       "      <td>-1.0</td>\n",
       "      <td>-1.0</td>\n",
       "      <td>-1.0</td>\n",
       "      <td>-1.0</td>\n",
       "      <td>-1.0</td>\n",
       "    </tr>\n",
       "    <tr>\n",
       "      <th>2</th>\n",
       "      <td>-2.0</td>\n",
       "      <td>-2.0</td>\n",
       "      <td>-2.0</td>\n",
       "      <td>-2.0</td>\n",
       "      <td>-2.0</td>\n",
       "    </tr>\n",
       "    <tr>\n",
       "      <th>3</th>\n",
       "      <td>-3.0</td>\n",
       "      <td>-3.0</td>\n",
       "      <td>-3.0</td>\n",
       "      <td>-3.0</td>\n",
       "      <td>-3.0</td>\n",
       "    </tr>\n",
       "    <tr>\n",
       "      <th>4</th>\n",
       "      <td>NaN</td>\n",
       "      <td>NaN</td>\n",
       "      <td>NaN</td>\n",
       "      <td>NaN</td>\n",
       "      <td>NaN</td>\n",
       "    </tr>\n",
       "  </tbody>\n",
       "</table>\n",
       "</div>"
      ],
      "text/plain": [
       "     a    b    c    d    e\n",
       "0  0.0  0.0  0.0  0.0  0.0\n",
       "1 -1.0 -1.0 -1.0 -1.0 -1.0\n",
       "2 -2.0 -2.0 -2.0 -2.0 -2.0\n",
       "3 -3.0 -3.0 -3.0 -3.0 -3.0\n",
       "4  NaN  NaN  NaN  NaN  NaN"
      ]
     },
     "execution_count": 112,
     "metadata": {},
     "output_type": "execute_result"
    }
   ],
   "source": [
    "zr_df.sub(no_sr, axis=0)"
   ]
  },
  {
   "cell_type": "markdown",
   "id": "c10ef4f2",
   "metadata": {},
   "source": [
    "<br>\n",
    "\n",
    "- DataFrame `column label index`에 없는 `row label index`를 가진 Series와의 연산"
   ]
  },
  {
   "cell_type": "code",
   "execution_count": 113,
   "id": "b98579b4",
   "metadata": {},
   "outputs": [
    {
     "data": {
      "text/plain": [
       "a    3\n",
       "c    3\n",
       "e    3\n",
       "dtype: int64"
      ]
     },
     "execution_count": 113,
     "metadata": {},
     "output_type": "execute_result"
    }
   ],
   "source": [
    "defi_sr = pd.Series([3, 3, 3], index=list('ace'))\n",
    "\n",
    "defi_sr"
   ]
  },
  {
   "cell_type": "code",
   "execution_count": 114,
   "id": "b62ec5a7",
   "metadata": {},
   "outputs": [
    {
     "data": {
      "text/html": [
       "<div>\n",
       "<style scoped>\n",
       "    .dataframe tbody tr th:only-of-type {\n",
       "        vertical-align: middle;\n",
       "    }\n",
       "\n",
       "    .dataframe tbody tr th {\n",
       "        vertical-align: top;\n",
       "    }\n",
       "\n",
       "    .dataframe thead th {\n",
       "        text-align: right;\n",
       "    }\n",
       "</style>\n",
       "<table border=\"1\" class=\"dataframe\">\n",
       "  <thead>\n",
       "    <tr style=\"text-align: right;\">\n",
       "      <th></th>\n",
       "      <th>a</th>\n",
       "      <th>b</th>\n",
       "      <th>c</th>\n",
       "      <th>d</th>\n",
       "    </tr>\n",
       "  </thead>\n",
       "  <tbody>\n",
       "    <tr>\n",
       "      <th>2010</th>\n",
       "      <td>0</td>\n",
       "      <td>1</td>\n",
       "      <td>2</td>\n",
       "      <td>3</td>\n",
       "    </tr>\n",
       "    <tr>\n",
       "      <th>2011</th>\n",
       "      <td>4</td>\n",
       "      <td>5</td>\n",
       "      <td>6</td>\n",
       "      <td>7</td>\n",
       "    </tr>\n",
       "    <tr>\n",
       "      <th>2012</th>\n",
       "      <td>8</td>\n",
       "      <td>9</td>\n",
       "      <td>10</td>\n",
       "      <td>11</td>\n",
       "    </tr>\n",
       "  </tbody>\n",
       "</table>\n",
       "</div>"
      ],
      "text/plain": [
       "      a  b   c   d\n",
       "2010  0  1   2   3\n",
       "2011  4  5   6   7\n",
       "2012  8  9  10  11"
      ]
     },
     "execution_count": 114,
     "metadata": {},
     "output_type": "execute_result"
    }
   ],
   "source": [
    "my_df"
   ]
  },
  {
   "cell_type": "markdown",
   "id": "d49eb069",
   "metadata": {},
   "source": [
    "<br>\n",
    "\n",
    "- Uncommon index (unable mapping) > return `NaN`\n",
    "\n",
    "- Operation between `Series` and `DataFrame`: `fill_value=value` parameter 사용 불가"
   ]
  },
  {
   "cell_type": "code",
   "execution_count": 115,
   "id": "269a19ed",
   "metadata": {},
   "outputs": [
    {
     "data": {
      "text/html": [
       "<div>\n",
       "<style scoped>\n",
       "    .dataframe tbody tr th:only-of-type {\n",
       "        vertical-align: middle;\n",
       "    }\n",
       "\n",
       "    .dataframe tbody tr th {\n",
       "        vertical-align: top;\n",
       "    }\n",
       "\n",
       "    .dataframe thead th {\n",
       "        text-align: right;\n",
       "    }\n",
       "</style>\n",
       "<table border=\"1\" class=\"dataframe\">\n",
       "  <thead>\n",
       "    <tr style=\"text-align: right;\">\n",
       "      <th></th>\n",
       "      <th>a</th>\n",
       "      <th>b</th>\n",
       "      <th>c</th>\n",
       "      <th>d</th>\n",
       "      <th>e</th>\n",
       "    </tr>\n",
       "  </thead>\n",
       "  <tbody>\n",
       "    <tr>\n",
       "      <th>2010</th>\n",
       "      <td>3.0</td>\n",
       "      <td>NaN</td>\n",
       "      <td>5.0</td>\n",
       "      <td>NaN</td>\n",
       "      <td>NaN</td>\n",
       "    </tr>\n",
       "    <tr>\n",
       "      <th>2011</th>\n",
       "      <td>7.0</td>\n",
       "      <td>NaN</td>\n",
       "      <td>9.0</td>\n",
       "      <td>NaN</td>\n",
       "      <td>NaN</td>\n",
       "    </tr>\n",
       "    <tr>\n",
       "      <th>2012</th>\n",
       "      <td>11.0</td>\n",
       "      <td>NaN</td>\n",
       "      <td>13.0</td>\n",
       "      <td>NaN</td>\n",
       "      <td>NaN</td>\n",
       "    </tr>\n",
       "  </tbody>\n",
       "</table>\n",
       "</div>"
      ],
      "text/plain": [
       "         a   b     c   d   e\n",
       "2010   3.0 NaN   5.0 NaN NaN\n",
       "2011   7.0 NaN   9.0 NaN NaN\n",
       "2012  11.0 NaN  13.0 NaN NaN"
      ]
     },
     "execution_count": 115,
     "metadata": {},
     "output_type": "execute_result"
    }
   ],
   "source": [
    "my_df + defi_sr"
   ]
  },
  {
   "cell_type": "code",
   "execution_count": 116,
   "id": "630e0c06",
   "metadata": {},
   "outputs": [
    {
     "data": {
      "text/html": [
       "<div>\n",
       "<style scoped>\n",
       "    .dataframe tbody tr th:only-of-type {\n",
       "        vertical-align: middle;\n",
       "    }\n",
       "\n",
       "    .dataframe tbody tr th {\n",
       "        vertical-align: top;\n",
       "    }\n",
       "\n",
       "    .dataframe thead th {\n",
       "        text-align: right;\n",
       "    }\n",
       "</style>\n",
       "<table border=\"1\" class=\"dataframe\">\n",
       "  <thead>\n",
       "    <tr style=\"text-align: right;\">\n",
       "      <th></th>\n",
       "      <th>a</th>\n",
       "      <th>b</th>\n",
       "      <th>c</th>\n",
       "      <th>d</th>\n",
       "      <th>e</th>\n",
       "    </tr>\n",
       "  </thead>\n",
       "  <tbody>\n",
       "    <tr>\n",
       "      <th>2010</th>\n",
       "      <td>3.0</td>\n",
       "      <td>NaN</td>\n",
       "      <td>5.0</td>\n",
       "      <td>NaN</td>\n",
       "      <td>NaN</td>\n",
       "    </tr>\n",
       "    <tr>\n",
       "      <th>2011</th>\n",
       "      <td>7.0</td>\n",
       "      <td>NaN</td>\n",
       "      <td>9.0</td>\n",
       "      <td>NaN</td>\n",
       "      <td>NaN</td>\n",
       "    </tr>\n",
       "    <tr>\n",
       "      <th>2012</th>\n",
       "      <td>11.0</td>\n",
       "      <td>NaN</td>\n",
       "      <td>13.0</td>\n",
       "      <td>NaN</td>\n",
       "      <td>NaN</td>\n",
       "    </tr>\n",
       "  </tbody>\n",
       "</table>\n",
       "</div>"
      ],
      "text/plain": [
       "         a   b     c   d   e\n",
       "2010   3.0 NaN   5.0 NaN NaN\n",
       "2011   7.0 NaN   9.0 NaN NaN\n",
       "2012  11.0 NaN  13.0 NaN NaN"
      ]
     },
     "execution_count": 116,
     "metadata": {},
     "output_type": "execute_result"
    }
   ],
   "source": [
    "my_df.add(defi_sr)"
   ]
  },
  {
   "cell_type": "code",
   "execution_count": 117,
   "id": "cf5170be",
   "metadata": {},
   "outputs": [
    {
     "ename": "NotImplementedError",
     "evalue": "fill_value 0 not supported.",
     "output_type": "error",
     "traceback": [
      "\u001b[1;31m---------------------------------------------------------------------------\u001b[0m",
      "\u001b[1;31mNotImplementedError\u001b[0m                       Traceback (most recent call last)",
      "\u001b[1;32m~\\AppData\\Local\\Temp\\ipykernel_11052\\1613751262.py\u001b[0m in \u001b[0;36m<module>\u001b[1;34m\u001b[0m\n\u001b[1;32m----> 1\u001b[1;33m \u001b[0mmy_df\u001b[0m\u001b[1;33m.\u001b[0m\u001b[0madd\u001b[0m\u001b[1;33m(\u001b[0m\u001b[0mdefi_sr\u001b[0m\u001b[1;33m,\u001b[0m \u001b[0mfill_value\u001b[0m\u001b[1;33m=\u001b[0m\u001b[1;36m0\u001b[0m\u001b[1;33m)\u001b[0m\u001b[1;33m\u001b[0m\u001b[1;33m\u001b[0m\u001b[0m\n\u001b[0m",
      "\u001b[1;32m~\\anaconda3\\lib\\site-packages\\pandas\\core\\ops\\__init__.py\u001b[0m in \u001b[0;36mf\u001b[1;34m(self, other, axis, level, fill_value)\u001b[0m\n\u001b[0;32m    427\u001b[0m             \u001b[1;31m# TODO: We could allow this in cases where we end up going\u001b[0m\u001b[1;33m\u001b[0m\u001b[1;33m\u001b[0m\u001b[0m\n\u001b[0;32m    428\u001b[0m             \u001b[1;31m#  through the DataFrame path\u001b[0m\u001b[1;33m\u001b[0m\u001b[1;33m\u001b[0m\u001b[0m\n\u001b[1;32m--> 429\u001b[1;33m             \u001b[1;32mraise\u001b[0m \u001b[0mNotImplementedError\u001b[0m\u001b[1;33m(\u001b[0m\u001b[1;34mf\"fill_value {fill_value} not supported.\"\u001b[0m\u001b[1;33m)\u001b[0m\u001b[1;33m\u001b[0m\u001b[1;33m\u001b[0m\u001b[0m\n\u001b[0m\u001b[0;32m    430\u001b[0m \u001b[1;33m\u001b[0m\u001b[0m\n\u001b[0;32m    431\u001b[0m         \u001b[0maxis\u001b[0m \u001b[1;33m=\u001b[0m \u001b[0mself\u001b[0m\u001b[1;33m.\u001b[0m\u001b[0m_get_axis_number\u001b[0m\u001b[1;33m(\u001b[0m\u001b[0maxis\u001b[0m\u001b[1;33m)\u001b[0m \u001b[1;32mif\u001b[0m \u001b[0maxis\u001b[0m \u001b[1;32mis\u001b[0m \u001b[1;32mnot\u001b[0m \u001b[1;32mNone\u001b[0m \u001b[1;32melse\u001b[0m \u001b[1;36m1\u001b[0m\u001b[1;33m\u001b[0m\u001b[1;33m\u001b[0m\u001b[0m\n",
      "\u001b[1;31mNotImplementedError\u001b[0m: fill_value 0 not supported."
     ]
    }
   ],
   "source": [
    "my_df.add(defi_sr, fill_value=0)"
   ]
  }
 ],
 "metadata": {
  "kernelspec": {
   "display_name": "Python 3 (ipykernel)",
   "language": "python",
   "name": "python3"
  },
  "language_info": {
   "codemirror_mode": {
    "name": "ipython",
    "version": 3
   },
   "file_extension": ".py",
   "mimetype": "text/x-python",
   "name": "python",
   "nbconvert_exporter": "python",
   "pygments_lexer": "ipython3",
   "version": "3.9.13"
  }
 },
 "nbformat": 4,
 "nbformat_minor": 5
}
