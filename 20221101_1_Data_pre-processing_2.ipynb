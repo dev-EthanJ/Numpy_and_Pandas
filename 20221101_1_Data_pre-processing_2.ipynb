{
 "cells": [
  {
   "cell_type": "markdown",
   "id": "f784bce0",
   "metadata": {},
   "source": [
    "# Date pre-processing 데이터 전처리\n",
    "- 데이터 형식에 대한 처리\n",
    "    - 공백 문자\n",
    "        - str.strip() : 양쪽 공백 제거\n",
    "        - str.lstrip() : 왼쪽 공백 제거\n",
    "        - str.rstip() : 오른쪽 공백 제거\n",
    "    - 데이터 타입\n",
    "    - 불규칙한 대소문자\n",
    "    - 불규칙한 구분기호\n",
    "    - 유효하지 않은 문자\n",
    "    - 불규칙한 날짜 및 시간 표기"
   ]
  },
  {
   "cell_type": "code",
   "execution_count": 1,
   "id": "c6ead2d2",
   "metadata": {},
   "outputs": [],
   "source": [
    "# 라이브러리 불러오기\n",
    "import pandas as pd\n",
    "import numpy as np"
   ]
  },
  {
   "cell_type": "markdown",
   "id": "7c84d534",
   "metadata": {},
   "source": [
    "## 1. 날짜 형식"
   ]
  },
  {
   "cell_type": "markdown",
   "id": "2e36a23b",
   "metadata": {},
   "source": [
    "### 1.1. 날짜 데이터: str 타입"
   ]
  },
  {
   "cell_type": "code",
   "execution_count": 2,
   "id": "47cf5df9",
   "metadata": {},
   "outputs": [],
   "source": [
    "\n",
    "str_date = ['2022/11/01', '2022.10.31', '2021-10-09']"
   ]
  },
  {
   "cell_type": "code",
   "execution_count": 3,
   "id": "d5bd82ed",
   "metadata": {},
   "outputs": [
    {
     "data": {
      "text/plain": [
       "0    2022/11/01\n",
       "1    2022.10.31\n",
       "2    2021-10-09\n",
       "dtype: object"
      ]
     },
     "execution_count": 3,
     "metadata": {},
     "output_type": "execute_result"
    }
   ],
   "source": [
    "# Series로 저장\n",
    "pd.Series(str_date)"
   ]
  },
  {
   "cell_type": "markdown",
   "id": "5f63d714",
   "metadata": {},
   "source": [
    "<br>\n",
    "\n",
    "1. str 타입을 datetime 타입으로 변환 후 pandas 저장\n",
    "- `pd.to_datetime()`"
   ]
  },
  {
   "cell_type": "code",
   "execution_count": 4,
   "id": "75f2fec6",
   "metadata": {},
   "outputs": [
    {
     "data": {
      "text/plain": [
       "DatetimeIndex(['2022-11-01', '2022-10-31', '2021-10-09'], dtype='datetime64[ns]', freq=None)"
      ]
     },
     "execution_count": 4,
     "metadata": {},
     "output_type": "execute_result"
    }
   ],
   "source": [
    "pd.to_datetime(str_date)"
   ]
  },
  {
   "cell_type": "markdown",
   "id": "fb68189e",
   "metadata": {},
   "source": [
    "<br>\n",
    "\n",
    "2. str 타입으로 저장 후 data type 변경   \n",
    "\n",
    "- `Series.dtype`: dtype 확인\n",
    "\n",
    "- `Series.astype()`: dtype 변경"
   ]
  },
  {
   "cell_type": "code",
   "execution_count": 5,
   "id": "fef82703",
   "metadata": {},
   "outputs": [
    {
     "data": {
      "text/plain": [
       "0   2022-11-01\n",
       "1   2022-10-31\n",
       "2   2021-10-09\n",
       "dtype: datetime64[ns]"
      ]
     },
     "execution_count": 5,
     "metadata": {},
     "output_type": "execute_result"
    }
   ],
   "source": [
    "pd.Series(str_date).astype('datetime64')"
   ]
  },
  {
   "cell_type": "markdown",
   "id": "9b28321f",
   "metadata": {},
   "source": [
    "<br>\n",
    "\n",
    "### 1.2. 날짜 데이터: `timestamp` 타입\n",
    "\n",
    "- `timestamp`: 기준시각(1970.01.01 00:00:00 UTC)로부터 몇 초가 경과했는지 표기 =`UNIX 시간`"
   ]
  },
  {
   "cell_type": "code",
   "execution_count": 6,
   "id": "aa937946",
   "metadata": {},
   "outputs": [
    {
     "data": {
      "text/plain": [
       "0    1234000\n",
       "1    1234101\n",
       "2    1234202\n",
       "3    1234300\n",
       "4     123450\n",
       "dtype: int64"
      ]
     },
     "execution_count": 6,
     "metadata": {},
     "output_type": "execute_result"
    }
   ],
   "source": [
    "stamp_date = [1234000, 1234101, 1234202, 1234300, 123450]\n",
    "\n",
    "pd.Series(stamp_date)"
   ]
  },
  {
   "cell_type": "markdown",
   "id": "b7c2faf9",
   "metadata": {},
   "source": [
    "<br>\n",
    "\n",
    "- `datetime` 타입으로 변환 후 저장\n",
    "- `timestampe`의 기본 `unit=ns`(nano seconds) 나노세컨즈: 10억분의 1초\n",
    "- optional parameter `unit` default: `ns`, days: `D`, seconds :`s`, milli seconds: `ms`, micro seconds: `us`"
   ]
  },
  {
   "cell_type": "code",
   "execution_count": 7,
   "id": "c5b059c7",
   "metadata": {},
   "outputs": [
    {
     "data": {
      "text/plain": [
       "0   1970-01-01 00:00:00.001234000\n",
       "1   1970-01-01 00:00:00.001234101\n",
       "2   1970-01-01 00:00:00.001234202\n",
       "3   1970-01-01 00:00:00.001234300\n",
       "4   1970-01-01 00:00:00.000123450\n",
       "dtype: datetime64[ns]"
      ]
     },
     "execution_count": 7,
     "metadata": {},
     "output_type": "execute_result"
    }
   ],
   "source": [
    "pd.Series(pd.to_datetime(stamp_date))"
   ]
  },
  {
   "cell_type": "markdown",
   "id": "7d23b906",
   "metadata": {},
   "source": [
    "<br>\n",
    "\n",
    "- `unit='s'`: seconds"
   ]
  },
  {
   "cell_type": "code",
   "execution_count": 8,
   "id": "9bb6b3d6",
   "metadata": {},
   "outputs": [
    {
     "data": {
      "text/plain": [
       "0   1970-01-15 06:46:40\n",
       "1   1970-01-15 06:48:21\n",
       "2   1970-01-15 06:50:02\n",
       "3   1970-01-15 06:51:40\n",
       "4   1970-01-02 10:17:30\n",
       "dtype: datetime64[ns]"
      ]
     },
     "execution_count": 8,
     "metadata": {},
     "output_type": "execute_result"
    }
   ],
   "source": [
    "pd.Series(pd.to_datetime(stamp_date, unit='s'))"
   ]
  },
  {
   "cell_type": "markdown",
   "id": "63b9e16e",
   "metadata": {},
   "source": [
    "<br>\n",
    "\n",
    "- `unit='D'`: days "
   ]
  },
  {
   "cell_type": "code",
   "execution_count": 9,
   "id": "f42108ee",
   "metadata": {},
   "outputs": [
    {
     "ename": "OutOfBoundsDatetime",
     "evalue": "cannot convert input 1234000 with the unit 'D'",
     "output_type": "error",
     "traceback": [
      "\u001b[1;31m---------------------------------------------------------------------------\u001b[0m",
      "\u001b[1;31mOverflowError\u001b[0m                             Traceback (most recent call last)",
      "\u001b[1;32m~\\anaconda3\\lib\\site-packages\\pandas\\_libs\\tslib.pyx\u001b[0m in \u001b[0;36mpandas._libs.tslib.array_with_unit_to_datetime\u001b[1;34m()\u001b[0m\n",
      "\u001b[1;32m~\\anaconda3\\lib\\site-packages\\pandas\\_libs\\tslibs\\conversion.pyx\u001b[0m in \u001b[0;36mpandas._libs.tslibs.conversion.cast_from_unit\u001b[1;34m()\u001b[0m\n",
      "\u001b[1;31mOverflowError\u001b[0m: int too big to convert",
      "\nDuring handling of the above exception, another exception occurred:\n",
      "\u001b[1;31mOutOfBoundsDatetime\u001b[0m                       Traceback (most recent call last)",
      "\u001b[1;32m~\\AppData\\Local\\Temp\\ipykernel_10692\\4186380328.py\u001b[0m in \u001b[0;36m<module>\u001b[1;34m\u001b[0m\n\u001b[1;32m----> 1\u001b[1;33m \u001b[0mpd\u001b[0m\u001b[1;33m.\u001b[0m\u001b[0mSeries\u001b[0m\u001b[1;33m(\u001b[0m\u001b[0mpd\u001b[0m\u001b[1;33m.\u001b[0m\u001b[0mto_datetime\u001b[0m\u001b[1;33m(\u001b[0m\u001b[0mstamp_date\u001b[0m\u001b[1;33m,\u001b[0m \u001b[0munit\u001b[0m\u001b[1;33m=\u001b[0m\u001b[1;34m'D'\u001b[0m\u001b[1;33m)\u001b[0m\u001b[1;33m)\u001b[0m\u001b[1;33m\u001b[0m\u001b[1;33m\u001b[0m\u001b[0m\n\u001b[0m\u001b[0;32m      2\u001b[0m \u001b[1;31m# 2038년 문제\u001b[0m\u001b[1;33m\u001b[0m\u001b[1;33m\u001b[0m\u001b[0m\n",
      "\u001b[1;32m~\\anaconda3\\lib\\site-packages\\pandas\\core\\tools\\datetimes.py\u001b[0m in \u001b[0;36mto_datetime\u001b[1;34m(arg, errors, dayfirst, yearfirst, utc, format, exact, unit, infer_datetime_format, origin, cache)\u001b[0m\n\u001b[0;32m   1074\u001b[0m             \u001b[0mresult\u001b[0m \u001b[1;33m=\u001b[0m \u001b[0m_convert_and_box_cache\u001b[0m\u001b[1;33m(\u001b[0m\u001b[0marg\u001b[0m\u001b[1;33m,\u001b[0m \u001b[0mcache_array\u001b[0m\u001b[1;33m)\u001b[0m\u001b[1;33m\u001b[0m\u001b[1;33m\u001b[0m\u001b[0m\n\u001b[0;32m   1075\u001b[0m         \u001b[1;32melse\u001b[0m\u001b[1;33m:\u001b[0m\u001b[1;33m\u001b[0m\u001b[1;33m\u001b[0m\u001b[0m\n\u001b[1;32m-> 1076\u001b[1;33m             \u001b[0mresult\u001b[0m \u001b[1;33m=\u001b[0m \u001b[0mconvert_listlike\u001b[0m\u001b[1;33m(\u001b[0m\u001b[0marg\u001b[0m\u001b[1;33m,\u001b[0m \u001b[0mformat\u001b[0m\u001b[1;33m)\u001b[0m\u001b[1;33m\u001b[0m\u001b[1;33m\u001b[0m\u001b[0m\n\u001b[0m\u001b[0;32m   1077\u001b[0m     \u001b[1;32melse\u001b[0m\u001b[1;33m:\u001b[0m\u001b[1;33m\u001b[0m\u001b[1;33m\u001b[0m\u001b[0m\n\u001b[0;32m   1078\u001b[0m         \u001b[0mresult\u001b[0m \u001b[1;33m=\u001b[0m \u001b[0mconvert_listlike\u001b[0m\u001b[1;33m(\u001b[0m\u001b[0mnp\u001b[0m\u001b[1;33m.\u001b[0m\u001b[0marray\u001b[0m\u001b[1;33m(\u001b[0m\u001b[1;33m[\u001b[0m\u001b[0marg\u001b[0m\u001b[1;33m]\u001b[0m\u001b[1;33m)\u001b[0m\u001b[1;33m,\u001b[0m \u001b[0mformat\u001b[0m\u001b[1;33m)\u001b[0m\u001b[1;33m[\u001b[0m\u001b[1;36m0\u001b[0m\u001b[1;33m]\u001b[0m\u001b[1;33m\u001b[0m\u001b[1;33m\u001b[0m\u001b[0m\n",
      "\u001b[1;32m~\\anaconda3\\lib\\site-packages\\pandas\\core\\tools\\datetimes.py\u001b[0m in \u001b[0;36m_convert_listlike_datetimes\u001b[1;34m(arg, format, name, tz, unit, errors, infer_datetime_format, dayfirst, yearfirst, exact)\u001b[0m\n\u001b[0;32m    355\u001b[0m         \u001b[1;32mif\u001b[0m \u001b[0mformat\u001b[0m \u001b[1;32mis\u001b[0m \u001b[1;32mnot\u001b[0m \u001b[1;32mNone\u001b[0m\u001b[1;33m:\u001b[0m\u001b[1;33m\u001b[0m\u001b[1;33m\u001b[0m\u001b[0m\n\u001b[0;32m    356\u001b[0m             \u001b[1;32mraise\u001b[0m \u001b[0mValueError\u001b[0m\u001b[1;33m(\u001b[0m\u001b[1;34m\"cannot specify both format and unit\"\u001b[0m\u001b[1;33m)\u001b[0m\u001b[1;33m\u001b[0m\u001b[1;33m\u001b[0m\u001b[0m\n\u001b[1;32m--> 357\u001b[1;33m         \u001b[1;32mreturn\u001b[0m \u001b[0m_to_datetime_with_unit\u001b[0m\u001b[1;33m(\u001b[0m\u001b[0marg\u001b[0m\u001b[1;33m,\u001b[0m \u001b[0munit\u001b[0m\u001b[1;33m,\u001b[0m \u001b[0mname\u001b[0m\u001b[1;33m,\u001b[0m \u001b[0mtz\u001b[0m\u001b[1;33m,\u001b[0m \u001b[0merrors\u001b[0m\u001b[1;33m)\u001b[0m\u001b[1;33m\u001b[0m\u001b[1;33m\u001b[0m\u001b[0m\n\u001b[0m\u001b[0;32m    358\u001b[0m     \u001b[1;32melif\u001b[0m \u001b[0mgetattr\u001b[0m\u001b[1;33m(\u001b[0m\u001b[0marg\u001b[0m\u001b[1;33m,\u001b[0m \u001b[1;34m\"ndim\"\u001b[0m\u001b[1;33m,\u001b[0m \u001b[1;36m1\u001b[0m\u001b[1;33m)\u001b[0m \u001b[1;33m>\u001b[0m \u001b[1;36m1\u001b[0m\u001b[1;33m:\u001b[0m\u001b[1;33m\u001b[0m\u001b[1;33m\u001b[0m\u001b[0m\n\u001b[0;32m    359\u001b[0m         raise TypeError(\n",
      "\u001b[1;32m~\\anaconda3\\lib\\site-packages\\pandas\\core\\tools\\datetimes.py\u001b[0m in \u001b[0;36m_to_datetime_with_unit\u001b[1;34m(arg, unit, name, tz, errors)\u001b[0m\n\u001b[0;32m    528\u001b[0m     \u001b[1;32melse\u001b[0m\u001b[1;33m:\u001b[0m\u001b[1;33m\u001b[0m\u001b[1;33m\u001b[0m\u001b[0m\n\u001b[0;32m    529\u001b[0m         \u001b[0marg\u001b[0m \u001b[1;33m=\u001b[0m \u001b[0mnp\u001b[0m\u001b[1;33m.\u001b[0m\u001b[0masarray\u001b[0m\u001b[1;33m(\u001b[0m\u001b[0marg\u001b[0m\u001b[1;33m)\u001b[0m\u001b[1;33m\u001b[0m\u001b[1;33m\u001b[0m\u001b[0m\n\u001b[1;32m--> 530\u001b[1;33m         \u001b[0marr\u001b[0m\u001b[1;33m,\u001b[0m \u001b[0mtz_parsed\u001b[0m \u001b[1;33m=\u001b[0m \u001b[0mtslib\u001b[0m\u001b[1;33m.\u001b[0m\u001b[0marray_with_unit_to_datetime\u001b[0m\u001b[1;33m(\u001b[0m\u001b[0marg\u001b[0m\u001b[1;33m,\u001b[0m \u001b[0munit\u001b[0m\u001b[1;33m,\u001b[0m \u001b[0merrors\u001b[0m\u001b[1;33m=\u001b[0m\u001b[0merrors\u001b[0m\u001b[1;33m)\u001b[0m\u001b[1;33m\u001b[0m\u001b[1;33m\u001b[0m\u001b[0m\n\u001b[0m\u001b[0;32m    531\u001b[0m \u001b[1;33m\u001b[0m\u001b[0m\n\u001b[0;32m    532\u001b[0m     \u001b[1;32mif\u001b[0m \u001b[0merrors\u001b[0m \u001b[1;33m==\u001b[0m \u001b[1;34m\"ignore\"\u001b[0m\u001b[1;33m:\u001b[0m\u001b[1;33m\u001b[0m\u001b[1;33m\u001b[0m\u001b[0m\n",
      "\u001b[1;32m~\\anaconda3\\lib\\site-packages\\pandas\\_libs\\tslib.pyx\u001b[0m in \u001b[0;36mpandas._libs.tslib.array_with_unit_to_datetime\u001b[1;34m()\u001b[0m\n",
      "\u001b[1;31mOutOfBoundsDatetime\u001b[0m: cannot convert input 1234000 with the unit 'D'"
     ]
    }
   ],
   "source": [
    "pd.Series(pd.to_datetime(stamp_date, unit='D'))\n",
    "# 2038년 문제"
   ]
  },
  {
   "cell_type": "markdown",
   "id": "2cfe9b3c",
   "metadata": {},
   "source": [
    "<br>\n",
    "\n",
    "- `unit='ms'`"
   ]
  },
  {
   "cell_type": "code",
   "execution_count": null,
   "id": "327697ec",
   "metadata": {},
   "outputs": [],
   "source": [
    "pd.Series(pd.to_datetime(stamp_date, unit='ms'))"
   ]
  },
  {
   "cell_type": "markdown",
   "id": "9e54b626",
   "metadata": {},
   "source": [
    "<br>\n",
    "\n",
    "- `unit-='us'` : default"
   ]
  },
  {
   "cell_type": "code",
   "execution_count": null,
   "id": "2d5cf5cc",
   "metadata": {},
   "outputs": [],
   "source": [
    "pd.Series(pd.to_datetime(stamp_date, unit='us'))"
   ]
  },
  {
   "cell_type": "markdown",
   "id": "7f26a68b",
   "metadata": {},
   "source": [
    "## 2. label 형식 통일\n",
    "\n",
    "- data encoding 작업에 포함"
   ]
  },
  {
   "cell_type": "markdown",
   "id": "b1651b2c",
   "metadata": {},
   "source": [
    "<br>\n",
    "\n",
    "- `map()`\n",
    "\n",
    "- dict 타입으로 encoding map을 생성해서 적용\n",
    "\n",
    "- gender: `0`=남자, `1`=여자"
   ]
  },
  {
   "cell_type": "code",
   "execution_count": null,
   "id": "564fb36b",
   "metadata": {},
   "outputs": [],
   "source": [
    "gender_df = pd.DataFrame({'gender': [0, 0, 0, 1, 0, 1]})\n",
    "gender_map = {0:'M', 1:'F'}\n",
    "\n",
    "gender_df"
   ]
  },
  {
   "cell_type": "markdown",
   "id": "bcdb48af",
   "metadata": {},
   "source": [
    "<br>\n",
    "\n",
    "- `gender_df` 변수의 `gender` column값을 `map`함수를 이용해 `0`은 `M`으로, `1`은 `F`로 변환"
   ]
  },
  {
   "cell_type": "code",
   "execution_count": null,
   "id": "792edc98",
   "metadata": {},
   "outputs": [],
   "source": [
    "gender_df['gender'].map(gender_map)"
   ]
  },
  {
   "cell_type": "markdown",
   "id": "4dd0bb9d",
   "metadata": {},
   "source": [
    "<br>\n",
    "\n",
    "- Python 내장함수 `replace()`도 사용 가능"
   ]
  },
  {
   "cell_type": "code",
   "execution_count": null,
   "id": "6ca4e786",
   "metadata": {},
   "outputs": [],
   "source": [
    "gender_df['gender'].replace(0, \"M\").replace(1, \"F\")"
   ]
  },
  {
   "cell_type": "code",
   "execution_count": null,
   "id": "fca716ac",
   "metadata": {},
   "outputs": [],
   "source": [
    "gender_df['gender'].replace([0, 1], ['M', 'F'])"
   ]
  },
  {
   "cell_type": "code",
   "execution_count": null,
   "id": "686dc830",
   "metadata": {},
   "outputs": [],
   "source": [
    "gender_df['gender'].replace({0:'M', 1:'F'})"
   ]
  },
  {
   "cell_type": "markdown",
   "id": "3da35039",
   "metadata": {},
   "source": [
    "<br>\n",
    "\n",
    "## 3. 문자 형식(대소문자, 기호 등) 통일"
   ]
  },
  {
   "cell_type": "code",
   "execution_count": null,
   "id": "de29401a",
   "metadata": {},
   "outputs": [],
   "source": [
    "my_data = {'Name':['Jane', 'Albert', 'John'],\n",
    "          'Age':[18, 19, 21]}\n",
    "\n",
    "my_df = pd.DataFrame(my_data)\n",
    "my_df"
   ]
  },
  {
   "cell_type": "markdown",
   "id": "62a8d3a0",
   "metadata": {},
   "source": [
    "<br>\n",
    "\n",
    "- column name을 소문자로 바꾸는 방법: `str.lower()`\n",
    "\n",
    "- 빈 list에 소문자로 변경한 column을 모두 적재한 뒤 대입"
   ]
  },
  {
   "cell_type": "code",
   "execution_count": null,
   "id": "0a916e78",
   "metadata": {},
   "outputs": [],
   "source": [
    "my_df1 = my_df.copy()\n",
    "\n",
    "new_cols = list()\n",
    "\n",
    "for col in my_df.columns:\n",
    "    print(col.lower())\n",
    "    new_cols.append(col.lower())"
   ]
  },
  {
   "cell_type": "code",
   "execution_count": null,
   "id": "748138a6",
   "metadata": {},
   "outputs": [],
   "source": [
    "new_cols"
   ]
  },
  {
   "cell_type": "code",
   "execution_count": null,
   "id": "017f8915",
   "metadata": {},
   "outputs": [],
   "source": [
    "my_df1.columns = new_cols\n",
    "\n",
    "my_df1"
   ]
  },
  {
   "cell_type": "markdown",
   "id": "9219f51a",
   "metadata": {},
   "source": [
    "<br>\n",
    "\n",
    "- `df.columns.str.upper()`"
   ]
  },
  {
   "cell_type": "code",
   "execution_count": null,
   "id": "e187ed0a",
   "metadata": {},
   "outputs": [],
   "source": [
    "my_df2 = my_df.copy()\n",
    "\n",
    "my_df2.columns = my_df2.columns.str.upper()\n",
    "my_df2"
   ]
  },
  {
   "cell_type": "markdown",
   "id": "d3aa350e",
   "metadata": {},
   "source": [
    "<br>\n",
    "\n",
    "- 내부 item ('Name' column)의 모든 data를 소문자로 통일\n",
    "- column `age`: 정수 자료 > exclude\n",
    "- `.apply([함수명])`: 해당 함수의 return value로 column 내부 data를 일괄적으로 교체"
   ]
  },
  {
   "cell_type": "code",
   "execution_count": null,
   "id": "72ca71e2",
   "metadata": {},
   "outputs": [],
   "source": [
    "def change_lower(value):\n",
    "    return value.lower()"
   ]
  },
  {
   "cell_type": "code",
   "execution_count": null,
   "id": "f0f4b83a",
   "metadata": {},
   "outputs": [],
   "source": [
    "my_df2['NAME'].apply(change_lower)"
   ]
  },
  {
   "cell_type": "markdown",
   "id": "64e2cd6c",
   "metadata": {},
   "source": [
    "<br>\n",
    "\n",
    "- `.apply()`는 `map`으로 대체 가능"
   ]
  },
  {
   "cell_type": "code",
   "execution_count": null,
   "id": "310258d2",
   "metadata": {},
   "outputs": [],
   "source": [
    "print(my_df2)\n",
    "\n",
    "my_df2['NAME'].map(change_lower)"
   ]
  },
  {
   "cell_type": "markdown",
   "id": "033fa1a7",
   "metadata": {},
   "source": [
    "<br>\n",
    "\n",
    "- `AGE` column의 value가 20 이상이면 \"성인\", 19 이하면 \"미성년자\" return하는 `is_adult()`함수 정의 후 `.apply()`로 적용"
   ]
  },
  {
   "cell_type": "code",
   "execution_count": null,
   "id": "aa4e9168",
   "metadata": {},
   "outputs": [],
   "source": [
    "def is_adult(value) -> str :\n",
    "    if value >= 20:\n",
    "        return \"성인\"\n",
    "    else:\n",
    "        return \"미성년자\"    "
   ]
  },
  {
   "cell_type": "code",
   "execution_count": null,
   "id": "d99c63fe",
   "metadata": {},
   "outputs": [],
   "source": [
    "my_df2['AGE'].map(is_adult)"
   ]
  },
  {
   "cell_type": "markdown",
   "id": "80d9b5e4",
   "metadata": {},
   "source": [
    "## 4. data value에 대한 처리\n",
    "\n",
    "- 결측값(NaN)\n",
    "\n",
    "- 이상치(예측 범위 밖의 value)\n",
    "\n",
    "- 단순 중복 data\n",
    "\n",
    "- 동일한 의미, 다른 명칭의 중복 data\n",
    "\n",
    "- 중복 속성\n",
    "    \n",
    "    - 다중공선성: 통계학의 회귀분석에서 독립변수들 간에 강한 상관관계가 나타나는 문제\n",
    "\n",
    "- 불규칙한 data 수집(differs in step, unit)"
   ]
  },
  {
   "cell_type": "markdown",
   "id": "fa54276a",
   "metadata": {},
   "source": [
    "<br>\n",
    "\n",
    "- data accumulation"
   ]
  },
  {
   "cell_type": "code",
   "execution_count": null,
   "id": "ff89cd4c",
   "metadata": {},
   "outputs": [],
   "source": [
    "this_sample = pd.read_csv('data/csv_exam_nan.csv')\n",
    "\n",
    "this_sample"
   ]
  },
  {
   "cell_type": "markdown",
   "id": "01669e68",
   "metadata": {},
   "source": [
    "### 4.1. 결측치 처리 - 삭제, 선택\n",
    "\n",
    "1. 결측치`NaN`가 하나라도 있는 레코드 삭제\n",
    "\n",
    "2. 모든 값이 결측인 레코드 삭제\n",
    "\n",
    "3. 결측치가 하나라도 있는 데이터만 선택"
   ]
  },
  {
   "cell_type": "markdown",
   "id": "3e705b50",
   "metadata": {},
   "source": [
    "<br>\n",
    "\n",
    "1. 결측치가 하나 이상인 레코드(row) 삭제\n",
    "\n",
    "- `df.dropna(how='any')`\n",
    "\n",
    "- `df.dropna()` parameter default: `how='any'` > 하나라도 `NaN`이면 row 삭제\n",
    "\n",
    "- optional parameter: `inplace=True or False` > 원본 data에 반영 여부 결정"
   ]
  },
  {
   "cell_type": "code",
   "execution_count": null,
   "id": "bcf5d5b1",
   "metadata": {},
   "outputs": [],
   "source": [
    "this_sample.dropna()"
   ]
  },
  {
   "cell_type": "markdown",
   "id": "c408d466",
   "metadata": {},
   "source": [
    "<br>\n",
    "\n",
    "2. 모든 값이 `NaN`인 record만 삭제: `how='all'`"
   ]
  },
  {
   "cell_type": "code",
   "execution_count": null,
   "id": "53326f75",
   "metadata": {},
   "outputs": [],
   "source": [
    "this_sample.dropna(how='all')"
   ]
  },
  {
   "cell_type": "markdown",
   "id": "b3a3ec2a",
   "metadata": {},
   "source": [
    "<br>\n",
    "\n",
    "3.결측치가 하나라도 있는 data만 선택: `df[df.isnull().any(axis=1)]` > 조건색인 활용\n",
    "\n",
    "- `df.isnull()`: `NaN`인 cell은 `True`, 아닌 셀은 `False`로 DataFrame 출력"
   ]
  },
  {
   "cell_type": "code",
   "execution_count": null,
   "id": "f66b6a62",
   "metadata": {},
   "outputs": [],
   "source": [
    "this_sample.isnull()"
   ]
  },
  {
   "cell_type": "markdown",
   "id": "0a651b6b",
   "metadata": {},
   "source": [
    "<br>\n",
    "\n",
    "- `df.any(axis=0)`: 해당 column에 `isnull()`의 결과값이 `True`인 셀이 있는지 체크\n",
    "\n",
    "- default: `axis=0`: column 단위 기준\n",
    "\n",
    "- `axis=1`: row 단위 기준"
   ]
  },
  {
   "cell_type": "code",
   "execution_count": null,
   "id": "d7ecc606",
   "metadata": {},
   "outputs": [],
   "source": [
    "this_sample.isnull().any()"
   ]
  },
  {
   "cell_type": "code",
   "execution_count": null,
   "id": "8803937e",
   "metadata": {},
   "outputs": [],
   "source": [
    "this_sample.isnull().any(axis=1)"
   ]
  },
  {
   "cell_type": "code",
   "execution_count": null,
   "id": "0ae20c08",
   "metadata": {
    "scrolled": true
   },
   "outputs": [],
   "source": [
    "# 컬럼별 결측치 개수를 세는 법\n",
    "this_sample.isnull().sum()"
   ]
  },
  {
   "cell_type": "code",
   "execution_count": null,
   "id": "c5c0b412",
   "metadata": {},
   "outputs": [],
   "source": [
    "this_sample[this_sample.isnull().any(axis=1)]"
   ]
  },
  {
   "cell_type": "markdown",
   "id": "fa921180",
   "metadata": {},
   "source": [
    "#### 결측치 처리 - 대체값\n",
    "- 연속형 : 임의값(0 등...), mean, median, 예측값, 도메인지식 활용\n",
    "- 명목형 : mode(최빈값), 예측값, 도메인지식 활용"
   ]
  },
  {
   "cell_type": "code",
   "execution_count": null,
   "id": "f77ae366",
   "metadata": {
    "scrolled": true
   },
   "outputs": [],
   "source": [
    "# 연속형- 임의의 값으로 대체\n",
    "# df.fillna(v)\n",
    "sample = this_sample\n",
    "\n",
    "sample.fillna(0)"
   ]
  },
  {
   "cell_type": "code",
   "execution_count": null,
   "id": "a5b67657",
   "metadata": {},
   "outputs": [],
   "source": [
    "sample"
   ]
  },
  {
   "cell_type": "code",
   "execution_count": null,
   "id": "6968d702",
   "metadata": {},
   "outputs": [],
   "source": [
    "# mean - 1) 전체 데이터의 평균값\n",
    "# sample : 6 * 3 모든 데이터에 대한 평균\n",
    "# df.mean() : 컬럼별로 평균값\n",
    "# NaN를 없는 값으로 가정하고 구한 평균\n",
    "sample.mean()"
   ]
  },
  {
   "cell_type": "code",
   "execution_count": null,
   "id": "9ccd995a",
   "metadata": {},
   "outputs": [],
   "source": [
    "# df.values.mean() : Array타입의 연산으로 NaN값이 하나라도 있다면 최종결과도 NaN\n",
    "# sample.values.mean() -> 전체 평균을 구할 수 있지만 NaN\n",
    "# df.fillna(0) 으로 결측치를 보완하고 => mean()평균을 구해야 함\n",
    "# NaN가 0으로 대체된 평균을 먼저 구한다음, 그 평균값으로 결측치를 메꿔주세요\n",
    "tot_avg = sample.fillna(0).values.mean()\n",
    "sample.fillna(tot_avg)"
   ]
  },
  {
   "cell_type": "code",
   "execution_count": null,
   "id": "d737d3e2",
   "metadata": {},
   "outputs": [],
   "source": [
    "# mean - 2) 결측치가 존재하는 속성(변수 = 컬럼)의 평균값\n",
    "# sample : math/en/sc 컬럼에 존재하는 결측치 -> math/en/sc 컬럼의 평균값\n",
    "# df.mean() : 컬럼별 평균\n",
    "# 인덱싱으로 과목별 평균 조회\n",
    "print(sample.mean()[0])\n",
    "print(sample.mean()[1])\n",
    "print(sample.mean()[2])"
   ]
  },
  {
   "cell_type": "code",
   "execution_count": null,
   "id": "c0c504c4",
   "metadata": {},
   "outputs": [],
   "source": [
    "# 컬럼 지정 후 평균 구하기\n",
    "sample['math'].mean()"
   ]
  },
  {
   "cell_type": "code",
   "execution_count": null,
   "id": "0216c021",
   "metadata": {},
   "outputs": [],
   "source": [
    "# fillna를 이용해 수학, 영어, 과학 컬럼에 각각 컬럼의 평균값을 결측치 대신 넣어보세요\n",
    "sample['math'].fillna(sample['math'].mean())"
   ]
  },
  {
   "cell_type": "code",
   "execution_count": null,
   "id": "2a5a44df",
   "metadata": {},
   "outputs": [],
   "source": [
    "sample['english'].fillna(sample['english'].mean())"
   ]
  },
  {
   "cell_type": "code",
   "execution_count": null,
   "id": "c71777ad",
   "metadata": {},
   "outputs": [],
   "source": [
    "sample['science'].fillna(sample.mean()[2])"
   ]
  },
  {
   "cell_type": "code",
   "execution_count": null,
   "id": "22b5936e",
   "metadata": {},
   "outputs": [],
   "source": [
    "sample"
   ]
  },
  {
   "cell_type": "code",
   "execution_count": null,
   "id": "23813cd5",
   "metadata": {},
   "outputs": [],
   "source": [
    "# median - 전체 데이터에 대한 중위값\n",
    "# tot_avg : 54.5\n",
    "# median() 을 이용해 몇인지 구해서 1:1로 보내주세요.\n",
    "# Series나 DataFrame은 벡터함수 연산시 자동으로 NaN를 배제합니다.\n",
    "# 따라서 전체데이터의 중위값을 구하기 위해 먼저 Series로 바꿔줍니다.\n",
    "# sample.size 를 .reshape()에 넣어주면 자동으로 1차원 배열로 크기 맞춰서 바꿔줍니다.\n",
    "tot_med = pd.Series(sample.values.reshape(sample.size)).median()\n",
    "tot_med"
   ]
  },
  {
   "cell_type": "code",
   "execution_count": null,
   "id": "4bec4d2b",
   "metadata": {},
   "outputs": [],
   "source": [
    "sample.median()"
   ]
  },
  {
   "cell_type": "code",
   "execution_count": null,
   "id": "139447b1",
   "metadata": {},
   "outputs": [],
   "source": [
    "sample.fillna(tot_med)"
   ]
  },
  {
   "cell_type": "code",
   "execution_count": null,
   "id": "9e5849d7",
   "metadata": {},
   "outputs": [],
   "source": [
    "# mode - 범주형 데이터에서는 최빈값을 사용\n",
    "# describe()\n",
    "# value_counts()\n",
    "# collections 라이브러리의 Counter 모듈\n",
    "df = pd.DataFrame({'label':['A', 'B', 'B', 'C', 'C', 'C', 'D']})\n",
    "df"
   ]
  },
  {
   "cell_type": "code",
   "execution_count": null,
   "id": "4a7b05e8",
   "metadata": {},
   "outputs": [],
   "source": [
    "# descirbe()는 통계분석에 사용합니다.\n",
    "# count 로우는 총 데이터의 개수\n",
    "# unique는 데이터의 유형이 몇 개인지\n",
    "# top은 가장 많이 나온 요소가 무엇인지\n",
    "# freq는 top 빈도가 몇 번인지\n",
    "df.describe()"
   ]
  },
  {
   "cell_type": "code",
   "execution_count": null,
   "id": "dc1be722",
   "metadata": {},
   "outputs": [],
   "source": [
    "# Series로 변경하기 위해 label 컬럼을 지정한 후, value_counts()를 이용해\n",
    "# 각 범주별 개수를 구할 수 있음\n",
    "df['label'].value_counts()"
   ]
  },
  {
   "cell_type": "code",
   "execution_count": null,
   "id": "56ac6fdf",
   "metadata": {},
   "outputs": [],
   "source": [
    "from collections import Counter\n",
    "# 1. 라이브러리를 가져오기\n",
    "# 2. Counter()를 이용해 Counter 타입의 자료 생성\n",
    "# 3. counter객체.most_common() => [(value1, count1), (value2, count2) ...]"
   ]
  },
  {
   "cell_type": "code",
   "execution_count": null,
   "id": "0ac8ac9c",
   "metadata": {},
   "outputs": [],
   "source": [
    "colors = ['red', 'blue', 'pink', 'blue', 'blue', 'red']"
   ]
  },
  {
   "cell_type": "code",
   "execution_count": null,
   "id": "a544698d",
   "metadata": {},
   "outputs": [],
   "source": [
    "counter = Counter(colors)"
   ]
  },
  {
   "cell_type": "code",
   "execution_count": null,
   "id": "bbc8c9d4",
   "metadata": {},
   "outputs": [],
   "source": [
    "counter"
   ]
  },
  {
   "cell_type": "code",
   "execution_count": null,
   "id": "43f975cc",
   "metadata": {},
   "outputs": [],
   "source": [
    "# most_common()\n",
    "# 갯수순으로 나열해줌\n",
    "counter.most_common()"
   ]
  },
  {
   "cell_type": "code",
   "execution_count": null,
   "id": "61ae8baf",
   "metadata": {},
   "outputs": [],
   "source": [
    "# 데이터프레임에도 Counter를 쓸 수 있습니다.\n",
    "df = pd.DataFrame({'label': ['A', 'B', 'B', 'C', 'C', 'C', 'D']})\n",
    "df"
   ]
  },
  {
   "cell_type": "code",
   "execution_count": null,
   "id": "471638b0",
   "metadata": {},
   "outputs": [],
   "source": [
    "Counter(df['label']).most_common()"
   ]
  },
  {
   "cell_type": "markdown",
   "id": "3831abdd",
   "metadata": {},
   "source": [
    "### 데이터 단위 통일\n",
    "\n",
    "#### 표준화(Standardization)\n",
    "- 평균을 기준으로 얼마나 떨어져 있는지를 파악\n",
    "- sklearn에서 제공하는 전처리 클래스\n",
    "    - preprocessing 클래스\n",
    "        - scaler() : 전체 자료의 분포를 평균 0, 표준편차 1이 되도록 스케일링\n",
    "        - minmax_scale() : 최대/최소값이 각각 1, 0이 되도록 스케일링\n",
    "        - StandardScaler() : scaler() 함수와 동일한 동작"
   ]
  },
  {
   "cell_type": "markdown",
   "id": "132fd145",
   "metadata": {},
   "source": [
    "- 표준화 : (요소값(하나의 데이터) - 평균) / 표준편차\n",
    "- 삼성전자 vs 작은회사 주식 시세\n",
    "- 몸무게 vs 키\n",
    "    - 표준화 결과 : 몸무게 음수, 키 양수\n",
    "    - 해석 : 몸무게는 평균 이하, 키는 평균 이상(=>마른몸)"
   ]
  },
  {
   "cell_type": "code",
   "execution_count": null,
   "id": "fb358d5c",
   "metadata": {},
   "outputs": [],
   "source": [
    "# 전처리 기능을 제공하는 scikitlearn 라이브러리 및 모듈 가져오기\n",
    "from sklearn.preprocessing import scale, minmax_scale"
   ]
  },
  {
   "cell_type": "code",
   "execution_count": null,
   "id": "eb146cf8",
   "metadata": {},
   "outputs": [],
   "source": [
    "np.arange(9)"
   ]
  },
  {
   "cell_type": "code",
   "execution_count": null,
   "id": "defa2c09",
   "metadata": {},
   "outputs": [],
   "source": [
    "# -3이상, 5이하의 정수를 값으로 가지는 9행 1열 배열 생성\n",
    "x = (np.arange(9)-3).reshape(-1, 1)\n",
    "x"
   ]
  },
  {
   "cell_type": "code",
   "execution_count": null,
   "id": "675418d2",
   "metadata": {},
   "outputs": [],
   "source": [
    "# 데이터프레임 생성\n",
    "# 3개 컬럼 : x, scale(x), minmax_scale(x)\n",
    "type(x)"
   ]
  },
  {
   "cell_type": "code",
   "execution_count": null,
   "id": "c16aa865",
   "metadata": {},
   "outputs": [],
   "source": [
    "scale(x)"
   ]
  },
  {
   "cell_type": "code",
   "execution_count": null,
   "id": "ac8f3956",
   "metadata": {},
   "outputs": [],
   "source": [
    "# np.hstack: 가로 방향으로 붙여줌\n",
    "# np.vstack: 세로 방향으로 붙여줌\n",
    "# 9 * 1 data 3개를 horizontal 방향으로 붙여서 9 * 3으로 만들고\n",
    "# 붙여 준 column별로 수행 한 연산을 column name으로 할당\n",
    "\n",
    "df = pd.DataFrame(np.hstack([x, scale(x), minmax_scale(x)]),\n",
    "                 columns=['x', 'scale(x)', 'minmax_scale(x)'])\n",
    "\n",
    "df"
   ]
  },
  {
   "cell_type": "code",
   "execution_count": null,
   "id": "3d7005f6",
   "metadata": {},
   "outputs": [],
   "source": [
    "df['x'].std()"
   ]
  },
  {
   "cell_type": "code",
   "execution_count": null,
   "id": "d43861f7",
   "metadata": {},
   "outputs": [],
   "source": []
  },
  {
   "cell_type": "code",
   "execution_count": null,
   "id": "9391ed16",
   "metadata": {},
   "outputs": [],
   "source": []
  },
  {
   "cell_type": "code",
   "execution_count": null,
   "id": "b4b3d21b",
   "metadata": {},
   "outputs": [],
   "source": []
  },
  {
   "cell_type": "code",
   "execution_count": null,
   "id": "0c281124",
   "metadata": {},
   "outputs": [],
   "source": []
  },
  {
   "cell_type": "code",
   "execution_count": null,
   "id": "168b1c1c",
   "metadata": {},
   "outputs": [],
   "source": []
  },
  {
   "cell_type": "code",
   "execution_count": null,
   "id": "8ccb1a63",
   "metadata": {},
   "outputs": [],
   "source": []
  }
 ],
 "metadata": {
  "kernelspec": {
   "display_name": "Python 3 (ipykernel)",
   "language": "python",
   "name": "python3"
  },
  "language_info": {
   "codemirror_mode": {
    "name": "ipython",
    "version": 3
   },
   "file_extension": ".py",
   "mimetype": "text/x-python",
   "name": "python",
   "nbconvert_exporter": "python",
   "pygments_lexer": "ipython3",
   "version": "3.9.13"
  }
 },
 "nbformat": 4,
 "nbformat_minor": 5
}
