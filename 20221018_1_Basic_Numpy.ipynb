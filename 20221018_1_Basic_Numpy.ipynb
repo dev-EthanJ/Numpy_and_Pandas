{
 "cells": [
  {
   "cell_type": "markdown",
   "id": "e969b00e",
   "metadata": {},
   "source": [
    "# Basic Numpy 넘파이 기초"
   ]
  },
  {
   "cell_type": "markdown",
   "id": "40de6379",
   "metadata": {},
   "source": [
    "## NumPy (Numeriacal Python)\n",
    "\n",
    "- Python Machine learning package `scikit-learn`    \n",
    "\\> `numpy` 제공 배열 class `numpy.ndarray` instance를 기본 Data structure로 사용\n",
    "\n",
    "<br>\n",
    "\n",
    "- Python 기반 Data Analysis environment   \n",
    "\\> 행렬(matrix), 벡터(vector) operation에 필요한 다양한 method 제공\n",
    "\n",
    "<br>\n",
    "\n",
    "- Memory usage가 많은 loop문 사용 없이,      \n",
    "전체 data array에 빠른 연산을 처리할 수 있는 표준 수학 function\n",
    "\n",
    "<br>\n",
    "\n",
    "- 배열(array)   \n",
    "> 동일한 특성(data type) 및 일정한 규칙을 가지는 여러개의 요소(items)가 나열되어 있는 Data structure\n",
    "\n",
    "<br>\n",
    "\n",
    "- Python list object를 사용할 때 보다, Numpy의 `ndarray` 객체 사용 시   \n",
    "연산 속도 개선 > 더 많은 data를 더 빠른 속도로 처리 가능\n",
    "\n",
    "<br>"
   ]
  },
  {
   "cell_type": "code",
   "execution_count": 1,
   "id": "588ee158",
   "metadata": {},
   "outputs": [
    {
     "data": {
      "text/plain": [
       "'1.21.5'"
      ]
     },
     "execution_count": 1,
     "metadata": {},
     "output_type": "execute_result"
    }
   ],
   "source": [
    "import numpy as np\n",
    "\n",
    "np.__version__"
   ]
  },
  {
   "cell_type": "markdown",
   "id": "c87d8260",
   "metadata": {},
   "source": [
    "## 0. Numpy 배열 : `numpy.ndarray`\n",
    "\n",
    "\\> 다차원 배열(1차원, 2차원, 3차원, ..., n차원), 입체적인 데이터 구조를 구성, 여러 개의 데이터 방향을 가짐\n",
    "\n",
    "- 배열 속성: `shape`, `ndim`, `dtype` 등\n",
    "\n",
    "- 데이터 방향, 차원, 축의 추상화 == `axis` > axis가 낮을수록 높은 차원, 새로운 축\n",
    "\n",
    "if, $0 \\leq axis \\leq 2$라면,\n",
    "\n",
    "1. `axis=0`: 면, page, depth \n",
    "\n",
    "2. `axis=1`: 행, row, →방향\n",
    "\n",
    "3. `axis=2`: 열, column, ↓방향\n",
    "\n",
    "![numpy_array](https://github.com/insung-ethan-j/Numpy_and_Pandas/blob/241928e76d74db3f4df261dd5d81c3aee1e45d99/img/nparr1.jpg?raw=true)"
   ]
  },
  {
   "cell_type": "markdown",
   "id": "700f584e",
   "metadata": {},
   "source": [
    "## 1. `ndarray` 배열 생성\n",
    "\n",
    ": `np.array(data)` > Python list obj를 전달받아 > numpy 배열 `ndarray`로 return\n",
    "\n",
    "<br>\n",
    "\t\n",
    "- 배열 속성\n",
    "\t\n",
    "\t- `arr.shape` : structure (n-1차원, ..., 2차원, 1차원, 0차원) \n",
    "\t\n",
    "    - `arr.ndim` : N dimensions\n",
    "\t\n",
    "    - `arr.dtype` : item data type > must be standaradaized\n",
    "\t\n",
    "    - `arr.size` : item 개수 (== n depths * n rows * n columns > n\\*n\\*n))\n",
    "\n",
    "<br>\n",
    "\n",
    "- 배열 method\n",
    "\t\n",
    "\t-  `arr.astype(type)` : item dtype 변환 (str > float, int > str 등 ...)\n",
    "\n",
    "<br>\n",
    "\n",
    "- Python method\n",
    "\n",
    "\t- `type(arr)` :  arr의 data type : `<class 'numpy.ndarray'>`\n",
    "    \n",
    "\t- `len(arr)` :  if shape=(***a***, b, c, ...) > arr의 가장 큰 dimension의 item 수 == ***a***\n",
    "\n",
    "<br>\n",
    "\n",
    "- Numpy method\n",
    "\n",
    "\t- `arr.reshape(row, column)` : 배열 구조`shape` 재배치 :1 X 12 > 3 X 4, 4 X 5 > 2 X 10 등 ...)\n",
    "\n",
    "<br>\n",
    "\n",
    "- `kind` : item dtype에 대한 구분 기호\n",
    "\n",
    "\t- `b` : boolean\n",
    "\n",
    "    - `i`: 정수(int)\n",
    "    \n",
    "\t- `u` : unsigned int, $\\pm$ 개념 없이 절대값만 존재\n",
    "    \n",
    "\t- `f` : 실수(float)\n",
    "    \n",
    "\t- `c` : 복소 부동소수점\n",
    "    \n",
    "\t- `O` : 객체(Object)\n",
    "    \n",
    "\t- `S` : byte 문자열(ASCII code, 영문자, 일부 특수문자, 숫자)\n",
    "    \n",
    "\t- `U` : UNICODE 문자열(한글, 태국어, 아랍어 등 영문자 제외 문자)\n",
    "    "
   ]
  },
  {
   "cell_type": "markdown",
   "id": "5809c36a",
   "metadata": {},
   "source": [
    "<br>\n",
    "\n",
    "- Python 1차원 list > Numpy `ndarry`로 변환"
   ]
  },
  {
   "cell_type": "code",
   "execution_count": 2,
   "id": "e53eecf0",
   "metadata": {},
   "outputs": [
    {
     "data": {
      "text/plain": [
       "array([1, 2, 3, 4, 5, 6])"
      ]
     },
     "execution_count": 2,
     "metadata": {},
     "output_type": "execute_result"
    }
   ],
   "source": [
    "tmp_list = [1, 2, 3, 4, 5, 6]\n",
    "\n",
    "my_arr = np.array(tmp_list)\n",
    "my_arr"
   ]
  },
  {
   "cell_type": "markdown",
   "id": "1bd2d0c7",
   "metadata": {},
   "source": [
    "<br>\n",
    "\n",
    "### 1.1. 배열 객체 `ndarry`의 속성\n",
    "\n",
    "1. Data type: `<class 'numpy.ndarray'>`"
   ]
  },
  {
   "cell_type": "code",
   "execution_count": 3,
   "id": "8edfcab0",
   "metadata": {},
   "outputs": [
    {
     "name": "stdout",
     "output_type": "stream",
     "text": [
      "<class 'list'>\n",
      "<class 'numpy.ndarray'>\n"
     ]
    }
   ],
   "source": [
    "print(type(tmp_list))\n",
    "\n",
    "print(type(my_arr))"
   ]
  },
  {
   "cell_type": "markdown",
   "id": "5b5fc1bf",
   "metadata": {},
   "source": [
    "<br>\n",
    "\n",
    "2. 구조: `arr.shape` > `tuple(n-1차원, n차원, ..., 1차원, 0차원)`"
   ]
  },
  {
   "cell_type": "code",
   "execution_count": 4,
   "id": "08581205",
   "metadata": {},
   "outputs": [
    {
     "name": "stdout",
     "output_type": "stream",
     "text": [
      "(6,)\n"
     ]
    }
   ],
   "source": [
    "print(my_arr.shape)"
   ]
  },
  {
   "cell_type": "markdown",
   "id": "733de6bc",
   "metadata": {},
   "source": [
    "<br>\n",
    "\n",
    "3. 길이: `len(arr)` > shape tuple의 첫 번째 item"
   ]
  },
  {
   "cell_type": "code",
   "execution_count": 5,
   "id": "68cf1a33",
   "metadata": {},
   "outputs": [
    {
     "data": {
      "text/plain": [
       "6"
      ]
     },
     "execution_count": 5,
     "metadata": {},
     "output_type": "execute_result"
    }
   ],
   "source": [
    "len(my_arr)"
   ]
  },
  {
   "cell_type": "markdown",
   "id": "f4b4447e",
   "metadata": {},
   "source": [
    "<br>\n",
    "\n",
    "4. 차원: `arr.ndim` > `N` == `shape=(N-1차원, N-2차원, ..., 1차원, 0차원)`"
   ]
  },
  {
   "cell_type": "code",
   "execution_count": 6,
   "id": "5dcc1560",
   "metadata": {},
   "outputs": [
    {
     "data": {
      "text/plain": [
       "1"
      ]
     },
     "execution_count": 6,
     "metadata": {},
     "output_type": "execute_result"
    }
   ],
   "source": [
    "my_arr.ndim"
   ]
  },
  {
   "cell_type": "markdown",
   "id": "ccf3a5b3",
   "metadata": {},
   "source": [
    "<br>\n",
    "\n",
    "5. data item 개수: `arr.size`"
   ]
  },
  {
   "cell_type": "code",
   "execution_count": 7,
   "id": "14d135dd",
   "metadata": {},
   "outputs": [
    {
     "name": "stdout",
     "output_type": "stream",
     "text": [
      "6\n",
      "12\n"
     ]
    }
   ],
   "source": [
    "print(my_arr.size)\n",
    "\n",
    "arr_2d = np.arange(0, 12).reshape(3, 4)\n",
    "print(arr_2d.size)"
   ]
  },
  {
   "cell_type": "markdown",
   "id": "5b95fc7a",
   "metadata": {},
   "source": [
    "<br>\n",
    "\n",
    "6. item data type: `ndarray.dtype`"
   ]
  },
  {
   "cell_type": "code",
   "execution_count": 8,
   "id": "9166b664",
   "metadata": {},
   "outputs": [
    {
     "data": {
      "text/plain": [
       "dtype('int32')"
      ]
     },
     "execution_count": 8,
     "metadata": {},
     "output_type": "execute_result"
    }
   ],
   "source": [
    "my_arr.dtype"
   ]
  },
  {
   "cell_type": "markdown",
   "id": "3e80ffe8",
   "metadata": {},
   "source": [
    "<br>\n",
    "\n",
    "7. item data type 변환: `arr.astype(type)` > 원본 arr data 유지"
   ]
  },
  {
   "cell_type": "code",
   "execution_count": 9,
   "id": "cb50add6",
   "metadata": {},
   "outputs": [
    {
     "data": {
      "text/plain": [
       "dtype('float64')"
      ]
     },
     "execution_count": 9,
     "metadata": {},
     "output_type": "execute_result"
    }
   ],
   "source": [
    "my_arr2 = my_arr.astype(float)\n",
    "\n",
    "my_arr2.dtype"
   ]
  },
  {
   "cell_type": "markdown",
   "id": "0c165ea2",
   "metadata": {},
   "source": [
    "<br>\n",
    "\n",
    "8. 배열 구조 변환 `ndarray.reshape(row, col)`   \n",
    "\\> 기존 배열 shape item수와 변환하려는 shape item수는 일치해야 함"
   ]
  },
  {
   "cell_type": "code",
   "execution_count": 10,
   "id": "bd2bd4f4",
   "metadata": {},
   "outputs": [
    {
     "name": "stdout",
     "output_type": "stream",
     "text": [
      "[[1 2 3]\n",
      " [4 5 6]]\n",
      "[1 2 3 4 5 6]\n"
     ]
    }
   ],
   "source": [
    "my_arr3 = my_arr.reshape(2, 3)\n",
    "\n",
    "print(my_arr3)\n",
    "print(my_arr)"
   ]
  },
  {
   "cell_type": "markdown",
   "id": "f9b30f8f",
   "metadata": {},
   "source": [
    "<br>\n",
    "\n",
    "- 함수 `np_print()`  할당: numpy object `ndarray` 정보 확인 function     \n",
    "\\> `obj type, shape, dim, dtype, obj data` 확인"
   ]
  },
  {
   "cell_type": "code",
   "execution_count": 11,
   "id": "08e3e437",
   "metadata": {},
   "outputs": [],
   "source": [
    "def np_print(arr):\n",
    "    print(f\"\"\"\n",
    "    type : {type(arr)}\n",
    "    shape : {arr.shape}\n",
    "    ndim : {arr.ndim}\n",
    "    dtype : {arr.dtype}\n",
    "    array data : \\n {arr}\"\"\")"
   ]
  },
  {
   "cell_type": "markdown",
   "id": "1dfb5b99",
   "metadata": {},
   "source": [
    "<br>\n",
    "\n",
    "### 1.2. 배열 객체 `ndarray` dtype standardize\n",
    "\n",
    "- list item dtype이 standardized 되지 않으면, list가 `ndarray` 로 변환 될 때,    \n",
    " **우선순위**에 따라 item의 dtype이 통일된다   \n",
    " \n",
    " 우선순위: str > float > int\n",
    "\n",
    "<br>\n",
    "\n",
    "1. int + str > str"
   ]
  },
  {
   "cell_type": "code",
   "execution_count": 12,
   "id": "57c6e3a1",
   "metadata": {},
   "outputs": [
    {
     "name": "stdout",
     "output_type": "stream",
     "text": [
      "\n",
      "    type : <class 'numpy.ndarray'>\n",
      "    shape : (4,)\n",
      "    ndim : 1\n",
      "    dtype : <U11\n",
      "    array data : \n",
      " ['1' '2' '3' '4']\n"
     ]
    }
   ],
   "source": [
    "int_str = [1, 2, 3, '4']\n",
    "mixed_arr1 = np.array(int_str)\n",
    "\n",
    "np_print(mixed_arr1)"
   ]
  },
  {
   "cell_type": "markdown",
   "id": "5664aeef",
   "metadata": {},
   "source": [
    "<br>\n",
    "\n",
    "2. int + float > float"
   ]
  },
  {
   "cell_type": "code",
   "execution_count": 13,
   "id": "babc541d",
   "metadata": {},
   "outputs": [
    {
     "name": "stdout",
     "output_type": "stream",
     "text": [
      "\n",
      "    type : <class 'numpy.ndarray'>\n",
      "    shape : (4,)\n",
      "    ndim : 1\n",
      "    dtype : float64\n",
      "    array data : \n",
      " [1.  2.  3.3 4. ]\n"
     ]
    }
   ],
   "source": [
    "int_float = [1, 2, 3.3, 4]\n",
    "mixed_arr2 = np.array(int_float)\n",
    "\n",
    "np_print(mixed_arr2)"
   ]
  },
  {
   "cell_type": "markdown",
   "id": "f6aef53b",
   "metadata": {},
   "source": [
    "<br>\n",
    "\n",
    "3. float + str > str"
   ]
  },
  {
   "cell_type": "code",
   "execution_count": 14,
   "id": "721a0346",
   "metadata": {},
   "outputs": [
    {
     "name": "stdout",
     "output_type": "stream",
     "text": [
      "\n",
      "    type : <class 'numpy.ndarray'>\n",
      "    shape : (3,)\n",
      "    ndim : 1\n",
      "    dtype : <U32\n",
      "    array data : \n",
      " ['1' '2.3' '4']\n"
     ]
    }
   ],
   "source": [
    "float_str = ['1', 2.3, 4]\n",
    "mixed_arr3 = np.array(float_str)\n",
    "\n",
    "np_print(mixed_arr3)"
   ]
  },
  {
   "cell_type": "markdown",
   "id": "d67ad452",
   "metadata": {},
   "source": [
    "<br>\n",
    "\n",
    "### 1.3. n차원 리스트로 배열 생성\n",
    "\n",
    "1. 2차원 list > `ndarray` 생성\n",
    "\n",
    "- 2차원 배열의 shape 속성: shape=(행(row, 세로축 개수), 열(column, 가로축 개수))   \n",
    "\\> `shape=(row,column)` 두 개만 item으로 가짐"
   ]
  },
  {
   "cell_type": "code",
   "execution_count": 15,
   "id": "4f887803",
   "metadata": {},
   "outputs": [
    {
     "name": "stdout",
     "output_type": "stream",
     "text": [
      "\n",
      "    type : <class 'numpy.ndarray'>\n",
      "    shape : (2, 4)\n",
      "    ndim : 2\n",
      "    dtype : int32\n",
      "    array data : \n",
      " [[1 2 3 4]\n",
      " [5 6 7 8]]\n",
      "6\n"
     ]
    }
   ],
   "source": [
    "tmp_list = [[1, 2, 3, 4],\n",
    "            [5, 6, 7, 8]]\n",
    "\n",
    "arr_2d = np.array(tmp_list)\n",
    "\n",
    "np_print(arr_2d)\n",
    "print(arr_2d[1][1])"
   ]
  },
  {
   "cell_type": "markdown",
   "id": "b00cdb24",
   "metadata": {},
   "source": [
    "<br>\n",
    "\n",
    "2. 3차원 list로 `ndarray` 생성"
   ]
  },
  {
   "cell_type": "code",
   "execution_count": 16,
   "id": "963c837c",
   "metadata": {},
   "outputs": [
    {
     "name": "stdout",
     "output_type": "stream",
     "text": [
      "\n",
      "    type : <class 'numpy.ndarray'>\n",
      "    shape : (2, 2, 3)\n",
      "    ndim : 3\n",
      "    dtype : int32\n",
      "    array data : \n",
      " [[[ 1  2  3]\n",
      "  [ 4  5  6]]\n",
      "\n",
      " [[ 7  8  9]\n",
      "  [10 11 12]]]\n",
      "6\n"
     ]
    }
   ],
   "source": [
    "tmp_list = [\n",
    "    [\n",
    "        [1, 2, 3], [4, 5, 6]\n",
    "    ],\n",
    "    [\n",
    "        [7, 8, 9], [10, 11, 12]\n",
    "    ]\n",
    "]\n",
    "\n",
    "\n",
    "\n",
    "arr_3d = np.array(tmp_list)\n",
    "np_print(arr_3d)\n",
    "print(arr_3d[0][1][2])"
   ]
  },
  {
   "cell_type": "markdown",
   "id": "0d690616",
   "metadata": {},
   "source": [
    "<br>\n",
    "\n",
    "### 1.5. dtype 지정 `ndarray` 생성\n",
    "\n",
    "- `np.array(data, dtype=data_type)`   \n",
    "\\> `dtype`을 optional parameter로 지정 > 배열 `dtype` 지정 생성 가능 "
   ]
  },
  {
   "cell_type": "code",
   "execution_count": 17,
   "id": "6dd4292c",
   "metadata": {},
   "outputs": [
    {
     "name": "stdout",
     "output_type": "stream",
     "text": [
      "\n",
      "    type : <class 'numpy.ndarray'>\n",
      "    shape : (2, 2, 3)\n",
      "    ndim : 3\n",
      "    dtype : float64\n",
      "    array data : \n",
      " [[[ 1.  2.  3.]\n",
      "  [ 4.  5.  6.]]\n",
      "\n",
      " [[ 7.  8.  9.]\n",
      "  [10. 11. 12.]]]\n"
     ]
    }
   ],
   "source": [
    "float_3d = np.array(tmp_list, dtype=float)\n",
    "\n",
    "np_print(float_3d)"
   ]
  },
  {
   "cell_type": "markdown",
   "id": "0f0350fd",
   "metadata": {},
   "source": [
    "## 2. 데이터 초기화와 함께 `ndarray` 생성 method\n",
    "\n",
    "- 초기값을 지정하여 data를 자동으로 가지는 `ndarray` 생성\n",
    "\n",
    "    1. `np.zeros(shape)`\n",
    "\n",
    "    2. `np.ones(shape)`\n",
    "\n",
    "    3. `np.full(shape, fill_value)`\n",
    "\n",
    "    4. `np.eye(N)`\n",
    "\n",
    "    5. `np.empty(shape)`"
   ]
  },
  {
   "cell_type": "markdown",
   "id": "d7fabdcb",
   "metadata": {},
   "source": [
    "### 2.1. `np.zeros(shape, dtype=float)`\n",
    "\n",
    "- 지정된 구조`shape`의 배열을 생성하고 모든 items를 value=`0`으로 초기화\n",
    "\n",
    "- `shape`: tuple type, `(row, col)` 지정\n",
    "\n",
    "- `dtype`: 배열의 item data type 지정, default: `dtype=numpy.float64`"
   ]
  },
  {
   "cell_type": "markdown",
   "id": "cdde107e",
   "metadata": {},
   "source": [
    "<br>\n",
    "\n",
    "- shape=`(3, 4)`"
   ]
  },
  {
   "cell_type": "code",
   "execution_count": 18,
   "id": "ef597a43",
   "metadata": {},
   "outputs": [
    {
     "name": "stdout",
     "output_type": "stream",
     "text": [
      "\n",
      "    type : <class 'numpy.ndarray'>\n",
      "    shape : (3, 4)\n",
      "    ndim : 2\n",
      "    dtype : float64\n",
      "    array data : \n",
      " [[0. 0. 0. 0.]\n",
      " [0. 0. 0. 0.]\n",
      " [0. 0. 0. 0.]]\n"
     ]
    }
   ],
   "source": [
    "zeros_3_4 = np.zeros((3, 4))\n",
    "\n",
    "np_print(zeros_3_4)"
   ]
  },
  {
   "cell_type": "markdown",
   "id": "d7078ac2",
   "metadata": {},
   "source": [
    "<br>\n",
    "\n",
    "- `dtype=int`"
   ]
  },
  {
   "cell_type": "code",
   "execution_count": 19,
   "id": "ad1dcc6d",
   "metadata": {},
   "outputs": [
    {
     "name": "stdout",
     "output_type": "stream",
     "text": [
      "\n",
      "    type : <class 'numpy.ndarray'>\n",
      "    shape : (3, 4)\n",
      "    ndim : 2\n",
      "    dtype : int32\n",
      "    array data : \n",
      " [[0 0 0 0]\n",
      " [0 0 0 0]\n",
      " [0 0 0 0]]\n"
     ]
    }
   ],
   "source": [
    "zeros_int = np.zeros((3, 4), dtype=int)\n",
    "\n",
    "np_print(zeros_int)"
   ]
  },
  {
   "cell_type": "markdown",
   "id": "343fb520",
   "metadata": {},
   "source": [
    "### 2.2. `np.ones(shape, dtype=float)`\n",
    "\n",
    "- 지정된 구조`shape`의 배열을 생성하고 모든 items를 value=`1`으로 초기화\n",
    "\n",
    "- `shape`: tuple type, `(row, col)` 지정\n",
    "\n",
    "- `dtype`: 배열의 item data type 지정, default: `dtype=numpy.float64`"
   ]
  },
  {
   "cell_type": "markdown",
   "id": "8b651c22",
   "metadata": {},
   "source": [
    "<br>\n",
    "\n",
    "- row 3 X column 4, 초기값 1로 가지는 배열"
   ]
  },
  {
   "cell_type": "code",
   "execution_count": 20,
   "id": "f0612856",
   "metadata": {},
   "outputs": [
    {
     "name": "stdout",
     "output_type": "stream",
     "text": [
      "\n",
      "    type : <class 'numpy.ndarray'>\n",
      "    shape : (3, 4)\n",
      "    ndim : 2\n",
      "    dtype : float64\n",
      "    array data : \n",
      " [[1. 1. 1. 1.]\n",
      " [1. 1. 1. 1.]\n",
      " [1. 1. 1. 1.]]\n"
     ]
    }
   ],
   "source": [
    "arr_ones = np.ones((3, 4))\n",
    "\n",
    "np_print(arr_ones)"
   ]
  },
  {
   "cell_type": "markdown",
   "id": "5e50f24e",
   "metadata": {},
   "source": [
    "<br>\n",
    "\n",
    "### 2.3. `np.full(shape, fill_value, dtype=None)`\n",
    "\n",
    "- 지정된 구조`shape`의 배열을 생성하고 모든 items를 value=`fill_value`으로 초기화\n",
    "\n",
    "- `shape`: tuple type, `(row, col)` 지정\n",
    "\n",
    "- `dtype`: 배열의 item data type 지정, default: `dtype=None`==`np.array(fill_value).dtype`"
   ]
  },
  {
   "cell_type": "markdown",
   "id": "db09857a",
   "metadata": {},
   "source": [
    "<br>\n",
    "\n",
    "- 3행 4열 초기값 5인 배열"
   ]
  },
  {
   "cell_type": "code",
   "execution_count": 21,
   "id": "7d70c564",
   "metadata": {},
   "outputs": [
    {
     "name": "stdout",
     "output_type": "stream",
     "text": [
      "\n",
      "    type : <class 'numpy.ndarray'>\n",
      "    shape : (3, 4)\n",
      "    ndim : 2\n",
      "    dtype : int32\n",
      "    array data : \n",
      " [[5 5 5 5]\n",
      " [5 5 5 5]\n",
      " [5 5 5 5]]\n"
     ]
    }
   ],
   "source": [
    "arr_full = np.full((3, 4), 5, int)\n",
    "\n",
    "np_print(arr_full)"
   ]
  },
  {
   "cell_type": "markdown",
   "id": "c5dff717",
   "metadata": {},
   "source": [
    "<br>\n",
    "\n",
    "### 2.4. `np.eye(N, M=None, dtype=float)`\n",
    "\n",
    "- `shape=(N, M)`의 **단위 행렬** 생성 (N행 X M열)\n",
    "\n",
    "- 단위 행렬: 주대각 성분만 값을 가지고, 그 값이 `1`인 행렬\n",
    "\n",
    "- `M`: column 개수 지정, default: `M=None`==`N`\n",
    "    \n",
    "- `dtype`: 배열의 item data type 지정, default: `dtype=numpy.float64`"
   ]
  },
  {
   "cell_type": "code",
   "execution_count": 22,
   "id": "7398dc1c",
   "metadata": {},
   "outputs": [
    {
     "name": "stdout",
     "output_type": "stream",
     "text": [
      "\n",
      "    type : <class 'numpy.ndarray'>\n",
      "    shape : (3, 3)\n",
      "    ndim : 2\n",
      "    dtype : float64\n",
      "    array data : \n",
      " [[1. 0. 0.]\n",
      " [0. 1. 0.]\n",
      " [0. 0. 1.]]\n"
     ]
    }
   ],
   "source": [
    "ndarr_eye = np.eye(3)\n",
    "\n",
    "np_print(ndarr_eye)"
   ]
  },
  {
   "cell_type": "markdown",
   "id": "e1f854fc",
   "metadata": {},
   "source": [
    "<br>\n",
    "\n",
    "- `N=5, M=3`인 단위행렬 (5행 3열)"
   ]
  },
  {
   "cell_type": "code",
   "execution_count": 23,
   "id": "08ca1581",
   "metadata": {},
   "outputs": [
    {
     "name": "stdout",
     "output_type": "stream",
     "text": [
      "\n",
      "    type : <class 'numpy.ndarray'>\n",
      "    shape : (5, 3)\n",
      "    ndim : 2\n",
      "    dtype : float64\n",
      "    array data : \n",
      " [[1. 0. 0.]\n",
      " [0. 1. 0.]\n",
      " [0. 0. 1.]\n",
      " [0. 0. 0.]\n",
      " [0. 0. 0.]]\n"
     ]
    }
   ],
   "source": [
    "eye_5_3 = np.eye(5, 3)\n",
    "\n",
    "np_print(eye_5_3)"
   ]
  },
  {
   "cell_type": "markdown",
   "id": "5b4ea90c",
   "metadata": {},
   "source": [
    "<br>\n",
    "\n",
    "### 2.5. `np.empty(shape, dtype=float)`\n",
    "\n",
    "- 지정된 구조`shape`의 배열을 생성하고, 모든 items의 value를 `직전 memory에 저장된 values`로 초기화\n",
    "\n",
    "- `ndarry` 생성 시 가장 빠르고 효율적인 방법\n",
    "\n",
    "- `shape`: tuple type, `(row, col)` 지정\n",
    "\n",
    "- `dtype`: `ndarray`의 data type 지정, default: `dtype=numpy.float64`"
   ]
  },
  {
   "cell_type": "markdown",
   "id": "abb0582d",
   "metadata": {},
   "source": [
    "<br>\n",
    "\n",
    "- 6 X 2, 1이상 12이하 data를 가진 배열 생성"
   ]
  },
  {
   "cell_type": "code",
   "execution_count": 24,
   "id": "55745824",
   "metadata": {},
   "outputs": [
    {
     "name": "stdout",
     "output_type": "stream",
     "text": [
      "\n",
      "    type : <class 'numpy.ndarray'>\n",
      "    shape : (6, 2)\n",
      "    ndim : 2\n",
      "    dtype : int32\n",
      "    array data : \n",
      " [[ 1  2]\n",
      " [ 3  4]\n",
      " [ 5  6]\n",
      " [ 7  8]\n",
      " [ 9 10]\n",
      " [11 12]]\n"
     ]
    }
   ],
   "source": [
    "data_list = [1, 2, 3, 4, 5, 6, 7, 8, 9, 10, 11, 12]\n",
    "origin_arr = np.array(data_list).reshape(6, 2)\n",
    "\n",
    "np_print(origin_arr)"
   ]
  },
  {
   "cell_type": "markdown",
   "id": "6eebd8f9",
   "metadata": {},
   "source": [
    "<br>\n",
    "\n",
    "- row 3 X column 4 구조의 직전 memory에 사용된 값을 갖는 배열 생성"
   ]
  },
  {
   "cell_type": "code",
   "execution_count": 25,
   "id": "6216c975",
   "metadata": {},
   "outputs": [
    {
     "name": "stdout",
     "output_type": "stream",
     "text": [
      "\n",
      "    type : <class 'numpy.ndarray'>\n",
      "    shape : (3, 4)\n",
      "    ndim : 2\n",
      "    dtype : int32\n",
      "    array data : \n",
      " [[0 0 0 0]\n",
      " [0 0 0 0]\n",
      " [0 0 0 0]]\n"
     ]
    }
   ],
   "source": [
    "arr_empty = np.empty((3, 4), dtype=int)\n",
    "\n",
    "np_print(arr_empty)"
   ]
  },
  {
   "cell_type": "markdown",
   "id": "4785b391",
   "metadata": {},
   "source": [
    "<br>\n",
    "\n",
    "### 2.6. `np.sth_like(arr)` method\n",
    "\n",
    "- 전달받은 `arr`과 동일한 shape으로 > 새로운 초기값 갖는 `ndarry` returned \n",
    "    \n",
    "<br>    \n",
    "    \n",
    "1. `np.zeros_like(arr)`: 초기값 == `0`\n",
    "    \n",
    "2. `np.ones_like(arr)`: 초기값 == `1`\n",
    "    \n",
    "3. `np.full_like(arr)`: 초기값 == `fill_vaule`"
   ]
  },
  {
   "cell_type": "markdown",
   "id": "835c9033",
   "metadata": {},
   "source": [
    "<br>\n",
    "\n",
    "- `shape=(2, 3)` 구조, 1 이상 6 이하 값으로 구성된 배열"
   ]
  },
  {
   "cell_type": "code",
   "execution_count": 26,
   "id": "003fa370",
   "metadata": {},
   "outputs": [
    {
     "name": "stdout",
     "output_type": "stream",
     "text": [
      "\n",
      "    type : <class 'numpy.ndarray'>\n",
      "    shape : (2, 3)\n",
      "    ndim : 2\n",
      "    dtype : int32\n",
      "    array data : \n",
      " [[1 2 3]\n",
      " [4 5 6]]\n"
     ]
    }
   ],
   "source": [
    "data_list = [[1, 2, 3], [4, 5, 6]]\n",
    "\n",
    "origin_arr = np.array(data_list)\n",
    "np_print(origin_arr)"
   ]
  },
  {
   "cell_type": "markdown",
   "id": "d23a20ba",
   "metadata": {},
   "source": [
    "<br>\n",
    "\n",
    "- 동일한 `shape=(2, 3)`으로 value=`0`인 배열"
   ]
  },
  {
   "cell_type": "code",
   "execution_count": 27,
   "id": "2a376083",
   "metadata": {},
   "outputs": [
    {
     "name": "stdout",
     "output_type": "stream",
     "text": [
      "\n",
      "    type : <class 'numpy.ndarray'>\n",
      "    shape : (2, 3)\n",
      "    ndim : 2\n",
      "    dtype : int32\n",
      "    array data : \n",
      " [[1 1 1]\n",
      " [1 1 1]]\n"
     ]
    }
   ],
   "source": [
    "ones_like_arr = np.ones_like(origin_arr)\n",
    "\n",
    "np_print(ones_like_arr)"
   ]
  },
  {
   "cell_type": "markdown",
   "id": "e6bfffdd",
   "metadata": {},
   "source": [
    "## 3. 범위, 조건 있는 1차원 배열 생성 및 초기화 method\n",
    "\n",
    "1. `np.linspace(start, stop)`\n",
    "    \n",
    "2. `np.arange(stop)`\n",
    "    \n",
    "3. `np.logspace(start, stop)`"
   ]
  },
  {
   "cell_type": "markdown",
   "id": "5bfdc223",
   "metadata": {},
   "source": [
    "<br>\n",
    "\n",
    "### 3.1. `np.linspace(start, stop)`\n",
    "\n",
    "> `np.linspace(start, stop, num=50, endpoint=True, retstep=False, dtype=None)`\n",
    "\n",
    "- 시작값 `start`이상 마지막값 `stop`이하의 범위 > **균등한 간격**으로 일정 개수`num`개의 data를 가지는 배열 생성\n",
    "\n",
    "<br>\n",
    "\n",
    "- `num`: 데이터 개수, default: `num=50`\n",
    "\n",
    "- `endpoint`: 배열에 stop값을 포함 or 제외 조건 지정, default: `endpoint=True` > 포함\n",
    "\n",
    "- `retstep`: True > return `(ndarray, gap_value_between_datas)` tuple, defalut: `retstep=False` (return `ndarray`)\n",
    "\n",
    "- `dtype`: 배열의 item data type을 지정, default: `dtype=None`"
   ]
  },
  {
   "cell_type": "markdown",
   "id": "df79ce9a",
   "metadata": {},
   "source": [
    "<br>\n",
    "\n",
    "- 0이상 1이하의 범위에서 숫자 5개를 포함하는 배열"
   ]
  },
  {
   "cell_type": "code",
   "execution_count": 28,
   "id": "4f2ab64b",
   "metadata": {},
   "outputs": [
    {
     "name": "stdout",
     "output_type": "stream",
     "text": [
      "\n",
      "    type : <class 'numpy.ndarray'>\n",
      "    shape : (5,)\n",
      "    ndim : 1\n",
      "    dtype : float64\n",
      "    array data : \n",
      " [0.   0.25 0.5  0.75 1.  ]\n"
     ]
    }
   ],
   "source": [
    "arr_linspace = np.linspace(0, 1, num=5)\n",
    "\n",
    "np_print(arr_linspace)"
   ]
  },
  {
   "cell_type": "markdown",
   "id": "4f1ba5e9",
   "metadata": {},
   "source": [
    "<br>\n",
    "\n",
    "- `endpoint=False`"
   ]
  },
  {
   "cell_type": "code",
   "execution_count": 29,
   "id": "b7b0725d",
   "metadata": {},
   "outputs": [
    {
     "name": "stdout",
     "output_type": "stream",
     "text": [
      "\n",
      "    type : <class 'numpy.ndarray'>\n",
      "    shape : (50,)\n",
      "    ndim : 1\n",
      "    dtype : float64\n",
      "    array data : \n",
      " [0.  0.2 0.4 0.6 0.8 1.  1.2 1.4 1.6 1.8 2.  2.2 2.4 2.6 2.8 3.  3.2 3.4\n",
      " 3.6 3.8 4.  4.2 4.4 4.6 4.8 5.  5.2 5.4 5.6 5.8 6.  6.2 6.4 6.6 6.8 7.\n",
      " 7.2 7.4 7.6 7.8 8.  8.2 8.4 8.6 8.8 9.  9.2 9.4 9.6 9.8]\n"
     ]
    }
   ],
   "source": [
    "linspace_ep_False = np.linspace(0, 10, endpoint=False)\n",
    "\n",
    "np_print(linspace_ep_False)"
   ]
  },
  {
   "cell_type": "markdown",
   "id": "539c78ec",
   "metadata": {},
   "source": [
    "<br>\n",
    "\n",
    "- `retstep=True` > return `(ndarray, gap_value)` tuple"
   ]
  },
  {
   "cell_type": "code",
   "execution_count": 30,
   "id": "e956bde0",
   "metadata": {},
   "outputs": [
    {
     "name": "stdout",
     "output_type": "stream",
     "text": [
      "(array([ 0.  ,  1.25,  2.5 ,  3.75,  5.  ,  6.25,  7.5 ,  8.75, 10.  ]), 1.25)\n"
     ]
    }
   ],
   "source": [
    "linspace_retstep = np.linspace(0, 10, num=9, retstep=True)\n",
    "\n",
    "print(linspace_retstep)"
   ]
  },
  {
   "cell_type": "markdown",
   "id": "03c82c68",
   "metadata": {},
   "source": [
    "<br>\n",
    "\n",
    "### 3.2. `np.arange(stop)`\n",
    "\n",
    "> `np.arange(start=0, stop, step=1, dtype=None)`\n",
    "\n",
    "- 시작값 `start`이상 최대한도값 `stop`미만 범위, 지정한 간격 `step`으로 일정 개수 `num`개의 data를 가지는 배열 생성\n",
    "\n",
    "<br>\n",
    "\n",
    "- `start`: 시작값, default: `start=0`\n",
    "\n",
    "- `stop`: 최대한도값, **not included** > like Python method `range()`\n",
    "\n",
    "- `step`: gap between datas, default: `step=1`\n",
    "\n",
    "- `dtype` : 배열의 item dtype을 지정, default: `dtype=None`\n",
    "\n",
    "<br>"
   ]
  },
  {
   "cell_type": "code",
   "execution_count": 31,
   "id": "06454b3a",
   "metadata": {},
   "outputs": [
    {
     "data": {
      "text/plain": [
       "[0, 1, 2, 3, 4]"
      ]
     },
     "execution_count": 31,
     "metadata": {},
     "output_type": "execute_result"
    }
   ],
   "source": [
    "list(range(5))"
   ]
  },
  {
   "cell_type": "markdown",
   "id": "ed127cf7",
   "metadata": {},
   "source": [
    "<br>\n",
    "\n",
    "- 0 이상 5 미만 범위, 1씩 증가하는 int data가진 `ndarray` 생성"
   ]
  },
  {
   "cell_type": "code",
   "execution_count": 32,
   "id": "bd278faf",
   "metadata": {},
   "outputs": [
    {
     "name": "stdout",
     "output_type": "stream",
     "text": [
      "\n",
      "    type : <class 'numpy.ndarray'>\n",
      "    shape : (5,)\n",
      "    ndim : 1\n",
      "    dtype : int32\n",
      "    array data : \n",
      " [0 1 2 3 4]\n"
     ]
    }
   ],
   "source": [
    "arr_arange = np.arange(5)\n",
    "\n",
    "np_print(arr_arange)"
   ]
  },
  {
   "cell_type": "markdown",
   "id": "099ccc80",
   "metadata": {},
   "source": [
    "<br>\n",
    "\n",
    "- `start`, `stop`, `step` 설정\n",
    "- 0 이상, 5 미만, 0.5씩 증가하는 float data를 가진 `ndarray`"
   ]
  },
  {
   "cell_type": "code",
   "execution_count": 33,
   "id": "bf7fde0a",
   "metadata": {},
   "outputs": [
    {
     "name": "stdout",
     "output_type": "stream",
     "text": [
      "\n",
      "    type : <class 'numpy.ndarray'>\n",
      "    shape : (10,)\n",
      "    ndim : 1\n",
      "    dtype : float64\n",
      "    array data : \n",
      " [0.  0.5 1.  1.5 2.  2.5 3.  3.5 4.  4.5]\n"
     ]
    }
   ],
   "source": [
    "arange_half = np.arange(start=0, stop=5, step=0.5)\n",
    "\n",
    "np_print(arange_half)"
   ]
  },
  {
   "cell_type": "markdown",
   "id": "142e06a8",
   "metadata": {},
   "source": [
    "<br>\n",
    "\n",
    "- `ndarray` assigned by > `np.arange(1, 5)` method vs. `arr.reshape(1, 4)` method   \n",
    ": differs in `shape` and `ndim`"
   ]
  },
  {
   "cell_type": "code",
   "execution_count": 34,
   "id": "82eb348b",
   "metadata": {},
   "outputs": [
    {
     "name": "stdout",
     "output_type": "stream",
     "text": [
      "\n",
      "    type : <class 'numpy.ndarray'>\n",
      "    shape : (4,)\n",
      "    ndim : 1\n",
      "    dtype : int32\n",
      "    array data : \n",
      " [1 2 3 4]\n",
      "\n",
      "    type : <class 'numpy.ndarray'>\n",
      "    shape : (1, 4)\n",
      "    ndim : 2\n",
      "    dtype : int32\n",
      "    array data : \n",
      " [[1 2 3 4]]\n"
     ]
    }
   ],
   "source": [
    "aran_arr = np.arange(1, 5)\n",
    "\n",
    "tmp_list = [1, 2, 3, 4]\n",
    "my_arr = np.array(tmp_list)\n",
    "re_arr = my_arr.reshape(1, 4)\n",
    "\n",
    "np_print(aran_arr)\n",
    "np_print(re_arr)"
   ]
  },
  {
   "cell_type": "markdown",
   "id": "b57b4329",
   "metadata": {},
   "source": [
    "### 3.3. `np.logspace(start, stop)`\n",
    "\n",
    "> `np.logspace(start, stop, num=50, endpoint=True, dtype=None)`\n",
    "\n",
    "- 시작값 `start`부터 마지막값 `stop`사이의 **log scale**로 지정된 range > 균일 간격, 일정 개수`num`의 data를 가지는 배열 생성\n",
    "\n",
    "$${(start)}\\leq{n}\\leq{(stop)}, \\log_{10}{x}=n, x = (data)$$\n",
    "\n",
    "<br>\n",
    "\n",
    "- `num`: data 개수, default: `num=50`\n",
    "\n",
    "- `endpoint`: value `stop` whether included or excluded, default: `endpoint=True` > included\n",
    "\n",
    "- `dtype`: arr item dtype, default: `dtype=None`"
   ]
  },
  {
   "cell_type": "markdown",
   "id": "095eabba",
   "metadata": {},
   "source": [
    "<br>\n",
    "\n",
    "- 0이상 1이하 range, log scale 적용, 50개 data를 가진 `ndarray`\n",
    "\n",
    "- 밑 == 10 log값 > 0이상 1이하일 때의 진수값"
   ]
  },
  {
   "cell_type": "code",
   "execution_count": 35,
   "id": "03e1f96c",
   "metadata": {},
   "outputs": [
    {
     "name": "stdout",
     "output_type": "stream",
     "text": [
      "\n",
      "    type : <class 'numpy.ndarray'>\n",
      "    shape : (50,)\n",
      "    ndim : 1\n",
      "    dtype : float64\n",
      "    array data : \n",
      " [ 1.          1.04811313  1.09854114  1.1513954   1.20679264  1.26485522\n",
      "  1.32571137  1.38949549  1.45634848  1.52641797  1.59985872  1.67683294\n",
      "  1.75751062  1.84206997  1.93069773  2.02358965  2.12095089  2.22299648\n",
      "  2.32995181  2.44205309  2.55954792  2.6826958   2.8117687   2.9470517\n",
      "  3.0888436   3.23745754  3.39322177  3.55648031  3.72759372  3.90693994\n",
      "  4.09491506  4.29193426  4.49843267  4.71486636  4.94171336  5.17947468\n",
      "  5.42867544  5.68986603  5.96362332  6.25055193  6.55128557  6.86648845\n",
      "  7.19685673  7.54312006  7.90604321  8.28642773  8.68511374  9.10298178\n",
      "  9.54095476 10.        ]\n"
     ]
    }
   ],
   "source": [
    "arr_logspace = np.logspace(0, 1)\n",
    "\n",
    "np_print(arr_logspace)"
   ]
  },
  {
   "cell_type": "markdown",
   "id": "855c4fbc",
   "metadata": {},
   "source": [
    "<br>\n",
    "\n",
    "- `start=0`, `stop=3`, `num=4` > 상용로그값이 0 ~ 3일 때의 진수값"
   ]
  },
  {
   "cell_type": "code",
   "execution_count": 36,
   "id": "818f9a69",
   "metadata": {},
   "outputs": [
    {
     "name": "stdout",
     "output_type": "stream",
     "text": [
      "\n",
      "    type : <class 'numpy.ndarray'>\n",
      "    shape : (4,)\n",
      "    ndim : 1\n",
      "    dtype : float64\n",
      "    array data : \n",
      " [   1.   10.  100. 1000.]\n"
     ]
    }
   ],
   "source": [
    "arr_logspace2 = np.logspace(0, 3, num=4)\n",
    "\n",
    "np_print(arr_logspace2)"
   ]
  },
  {
   "cell_type": "markdown",
   "id": "26b5fae8",
   "metadata": {},
   "source": [
    "<br>\n",
    "\n",
    "- `endpoint=False`"
   ]
  },
  {
   "cell_type": "code",
   "execution_count": 37,
   "id": "3467e58c",
   "metadata": {},
   "outputs": [
    {
     "name": "stdout",
     "output_type": "stream",
     "text": [
      "\n",
      "    type : <class 'numpy.ndarray'>\n",
      "    shape : (20,)\n",
      "    ndim : 1\n",
      "    dtype : float64\n",
      "    array data : \n",
      " [1.         1.12201845 1.25892541 1.41253754 1.58489319 1.77827941\n",
      " 1.99526231 2.23872114 2.51188643 2.81838293 3.16227766 3.54813389\n",
      " 3.98107171 4.46683592 5.01187234 5.62341325 6.30957344 7.07945784\n",
      " 7.94328235 8.91250938]\n"
     ]
    }
   ],
   "source": [
    "logspace_ep_False = np.logspace(0, 1, num=20, endpoint=False)\n",
    "\n",
    "np_print(logspace_ep_False)"
   ]
  },
  {
   "cell_type": "markdown",
   "id": "f7c7f3cc",
   "metadata": {},
   "source": [
    "<br>\n",
    "\n",
    "## 4. 난수 배열 생성 및 초기화\n",
    "\n",
    "- 난수(특정한 순서나 규칙을 가지지 않는 무작위의 수)를 data로 가지는 `ndarray`를 생성\n",
    "\n",
    "    1. `np.random.normal()`\n",
    "\n",
    "    2. `np.random.rand()`\n",
    "\n",
    "    3. `np.random.randn()`\n",
    "\n",
    "    4. `np.random.randint()`\n",
    "\n",
    "    5. `np.random.random()`"
   ]
  },
  {
   "cell_type": "markdown",
   "id": "1efae02f",
   "metadata": {},
   "source": [
    "<br>\n",
    "\n",
    "### 4.1. `np.random.normal(loc=0.0, scale=1.0, size=None)`\n",
    "\n",
    "- 정규분포 확률밀도함수에서 추출된 표본을 data로 가지는 배열을 생성\n",
    "\n",
    "<br>\n",
    "\n",
    "- `loc`(location parameter): 정규분포의 **평균**, default: `loc=0.0`\n",
    "\n",
    "- `scale`(scale parameter): 정규분포의 **표준편차**, default: `scale=1.0`\n",
    "\n",
    "- `size`: shape=`(shape)`, `type=iterator`, default: `size=None` > single value(하나의 값)"
   ]
  },
  {
   "cell_type": "markdown",
   "id": "a02c2c6e",
   "metadata": {},
   "source": [
    "#### 분포의 종류\n",
    "\n",
    "1. 균등분포 : 모든 요소가 출력될 확률이 동등한 경우 e.g. 로또 번호\n",
    "\n",
    "2. 정규분포 : 평균에 가까울수록 출력될 확률이 높고 평균에서 멀어질수록 확률이 낮아짐 e.g. 키, 시험 성적 "
   ]
  },
  {
   "cell_type": "markdown",
   "id": "c35b048f",
   "metadata": {},
   "source": [
    "<br>\n",
    "\n",
    "- 평균 0, 표준편차 1로 난수 생성"
   ]
  },
  {
   "cell_type": "code",
   "execution_count": 38,
   "id": "34193eab",
   "metadata": {},
   "outputs": [
    {
     "name": "stdout",
     "output_type": "stream",
     "text": [
      "-0.4353160693134119\n"
     ]
    }
   ],
   "source": [
    "rand_normal = np.random.normal(0, 1)\n",
    "\n",
    "print(rand_normal)"
   ]
  },
  {
   "cell_type": "markdown",
   "id": "983c69b6",
   "metadata": {},
   "source": [
    "<br>\n",
    "\n",
    "#### 분산과 표준편차\n",
    "\n",
    "- (집단간 평균이 같다) != (집단간 분포가 같다)\n",
    "\n",
    "- 분산: 평균에서 각 요소가 얼마나 멀리 떨어져 있는지 나타내는 값, 척도   \n",
    "\n",
    "$$\\frac{\\sum{{(x_{i}-\\bar{x})^2}}}{n} = \\sigma^2$$\n",
    "\n",
    "- 분산의 제곱근 $\\sigma$ = 표준편차 > 분포 확인 가능 > 상대평가 가능"
   ]
  },
  {
   "cell_type": "markdown",
   "id": "e739752d",
   "metadata": {},
   "source": [
    "<br>\n",
    "\n",
    "- `size=(axis=0, axis=1, axis=3, ..., axis=n)`"
   ]
  },
  {
   "cell_type": "code",
   "execution_count": 39,
   "id": "fcf8baf7",
   "metadata": {},
   "outputs": [
    {
     "name": "stdout",
     "output_type": "stream",
     "text": [
      "\n",
      "    type : <class 'numpy.ndarray'>\n",
      "    shape : (3, 4)\n",
      "    ndim : 2\n",
      "    dtype : float64\n",
      "    array data : \n",
      " [[-0.89606939  0.73413311 -0.37168588 -0.49437685]\n",
      " [ 0.13450559 -1.07678077  0.75266807 -0.1705889 ]\n",
      " [ 0.44784203 -0.77021926  1.35438465 -0.83091523]]\n",
      "\n",
      "    type : <class 'numpy.ndarray'>\n",
      "    shape : (2, 3, 4)\n",
      "    ndim : 3\n",
      "    dtype : float64\n",
      "    array data : \n",
      " [[[ 1.71577638  0.5801097   0.53297616 -0.69728577]\n",
      "  [-1.76531689 -0.46910829 -1.06574293 -0.15287906]\n",
      "  [-0.41160105 -0.42760785 -0.59576921  0.41885894]]\n",
      "\n",
      " [[ 0.96932382  2.56464683 -0.24851411 -0.03196515]\n",
      "  [ 0.83424524 -1.95313696  1.04357591 -0.23267767]\n",
      "  [-0.49243644  1.22979371  0.14731828  0.11913272]]]\n"
     ]
    }
   ],
   "source": [
    "rand_normal_2dim = np.random.normal(size=(3, 4))\n",
    "rand_normal_3dim = np.random.normal(size=(2, 3, 4))\n",
    "\n",
    "np_print(rand_normal_2dim)\n",
    "np_print(rand_normal_3dim)"
   ]
  },
  {
   "cell_type": "markdown",
   "id": "9f5eff24",
   "metadata": {},
   "source": [
    "<br>\n",
    "\n",
    "- 정규분포 확률밀도함수에서 추출된 data로 이루어진 배열에 대한 시각화\n",
    "\n",
    "- $\\bar{x}=10, \\sigma^2=2$, 정규분포에서 추출한 10000개의 data"
   ]
  },
  {
   "cell_type": "code",
   "execution_count": 40,
   "id": "77869c93",
   "metadata": {},
   "outputs": [
    {
     "data": {
      "text/plain": [
       "array([10.69109337,  8.95465224, 12.60932546, ..., 11.30564836,\n",
       "       12.63542046,  8.60859677])"
      ]
     },
     "execution_count": 40,
     "metadata": {},
     "output_type": "execute_result"
    }
   ],
   "source": [
    "rand_normal_arr = np.random.normal(10, 2, 10000)\n",
    "\n",
    "rand_normal_arr"
   ]
  },
  {
   "cell_type": "markdown",
   "id": "e9923bbd",
   "metadata": {},
   "source": [
    "- $\\bar{x}\\pm(\\sigma^2\\times 1)$ > 8 ~ 12 > 약 68%\n",
    "- $\\bar{x}\\pm(\\sigma^2\\times 1.96)$ > 6.08 ~ 13.92 > 약 95% "
   ]
  },
  {
   "cell_type": "markdown",
   "id": "f080b55f",
   "metadata": {},
   "source": [
    "<br>\n",
    "\n",
    "- 시각화 라이브러리 `matplotlib.pyplot`"
   ]
  },
  {
   "cell_type": "code",
   "execution_count": 41,
   "id": "04da8235",
   "metadata": {},
   "outputs": [],
   "source": [
    "import matplotlib.pyplot as plt"
   ]
  },
  {
   "cell_type": "markdown",
   "id": "ad7a6556",
   "metadata": {},
   "source": [
    "<br>\n",
    "\n",
    "- `bins=n`: 구간의 개수 n   \n",
    "\\> bins=`n` up > 막대 폭 down\n",
    "\n",
    "- 100개 구간으로 구분한 분포"
   ]
  },
  {
   "cell_type": "code",
   "execution_count": 42,
   "id": "a62b51f9",
   "metadata": {},
   "outputs": [
    {
     "data": {
      "text/plain": [
       "<function matplotlib.pyplot.show(close=None, block=None)>"
      ]
     },
     "execution_count": 42,
     "metadata": {},
     "output_type": "execute_result"
    },
    {
     "data": {
      "image/png": "[encoded data removed]",
      "text/plain": [
       "<Figure size 640x480 with 1 Axes>"
      ]
     },
     "metadata": {},
     "output_type": "display_data"
    }
   ],
   "source": [
    "plt.hist(rand_normal_arr, bins=100)\n",
    "plt.show"
   ]
  },
  {
   "cell_type": "markdown",
   "id": "cd46a9e8",
   "metadata": {},
   "source": [
    "<br>\n",
    "\n",
    "### 4.2. `np.random.rand(d0, d1, d2, ... , dn)`\n",
    "\n",
    "- 지정 shape`(d0, d1, d2, ... , dn)`에 따라 `ndarray`를 생성 > 난수로 초기화\n",
    "\n",
    "- 사용되는 난수: _0 이상 1 미만_ , **균등 분포**로 추출"
   ]
  },
  {
   "cell_type": "markdown",
   "id": "bcbec54a",
   "metadata": {},
   "source": [
    "<br>\n",
    "\n",
    "- `d0=2`, `d1=3` > 2 rows X 3 columns shape"
   ]
  },
  {
   "cell_type": "code",
   "execution_count": 43,
   "id": "c4348d0a",
   "metadata": {},
   "outputs": [
    {
     "name": "stdout",
     "output_type": "stream",
     "text": [
      "\n",
      "    type : <class 'numpy.ndarray'>\n",
      "    shape : (2, 3)\n",
      "    ndim : 2\n",
      "    dtype : float64\n",
      "    array data : \n",
      " [[0.13290163 0.07017685 0.73884765]\n",
      " [0.93186605 0.10437955 0.63184153]]\n"
     ]
    }
   ],
   "source": [
    "rand_rand_arr = np.random.rand(2, 3)\n",
    "\n",
    "np_print(rand_rand_arr)"
   ]
  },
  {
   "cell_type": "markdown",
   "id": "3af8ded0",
   "metadata": {},
   "source": [
    "<br>\n",
    "\n",
    "- 1000개의 균등분포 data `ndarray` > 100개 구간으로 구분한 분포 시각화"
   ]
  },
  {
   "cell_type": "code",
   "execution_count": 44,
   "id": "91dd0aaf",
   "metadata": {},
   "outputs": [
    {
     "data": {
      "text/plain": [
       "<function matplotlib.pyplot.show(close=None, block=None)>"
      ]
     },
     "execution_count": 44,
     "metadata": {},
     "output_type": "execute_result"
    },
    {
     "data": {
      "image/png": "[encoded data removed]",
      "text/plain": [
       "<Figure size 640x480 with 1 Axes>"
      ]
     },
     "metadata": {},
     "output_type": "display_data"
    }
   ],
   "source": [
    "rand_rand_thou = np.random.rand(1000)\n",
    "\n",
    "plt.hist(rand_rand_thou, bins=10)\n",
    "plt.show"
   ]
  },
  {
   "cell_type": "markdown",
   "id": "6bff2b67",
   "metadata": {},
   "source": [
    "<br>\n",
    "\n",
    "- `numpy.ndarray`: 곱연산`*` > 반복 연장 X, 각 item data에 scarla 곱연산"
   ]
  },
  {
   "cell_type": "code",
   "execution_count": 45,
   "id": "889552d6",
   "metadata": {},
   "outputs": [
    {
     "data": {
      "text/plain": [
       "array([10, 20, 30, 40])"
      ]
     },
     "execution_count": 45,
     "metadata": {},
     "output_type": "execute_result"
    }
   ],
   "source": [
    "np.array([1, 2, 3, 4]) * 10"
   ]
  },
  {
   "cell_type": "markdown",
   "id": "cebc50d8",
   "metadata": {},
   "source": [
    "<br>\n",
    "\n",
    "### 4.3. `np.random.randn(d0, d1, d2, ..., dn)`\n",
    "\n",
    "- 지정 shape`(d0, d1, d2, ..., dn)`에 따라 배열 생성, 난수로 초기화\n",
    "\n",
    "- 사용되는 난수: **표준정규분포**에서 추출된 data"
   ]
  },
  {
   "cell_type": "code",
   "execution_count": 46,
   "id": "980f3dfd",
   "metadata": {},
   "outputs": [
    {
     "name": "stdout",
     "output_type": "stream",
     "text": [
      "\n",
      "    type : <class 'numpy.ndarray'>\n",
      "    shape : (3, 4)\n",
      "    ndim : 2\n",
      "    dtype : float64\n",
      "    array data : \n",
      " [[-1.15375662  0.4735159   0.22620131  0.55926276]\n",
      " [-0.03752228 -0.74626844  0.92869247  0.55908827]\n",
      " [-1.46617448  0.93310991 -0.32208486  0.27039933]]\n"
     ]
    }
   ],
   "source": [
    "rand_randn_2dim = np.random.randn(3, 4)\n",
    "\n",
    "np_print(rand_randn_2dim)"
   ]
  },
  {
   "cell_type": "markdown",
   "id": "866a84bf",
   "metadata": {},
   "source": [
    "<br>\n",
    "\n",
    "- $\\bar{x}=0, \\sigma^2=1$, 표준정규분포에서 추출한 1000개의 정규분포 data, 100개의 구간"
   ]
  },
  {
   "cell_type": "code",
   "execution_count": 47,
   "id": "f7c0ec3b",
   "metadata": {},
   "outputs": [
    {
     "data": {
      "text/plain": [
       "<function matplotlib.pyplot.show(close=None, block=None)>"
      ]
     },
     "execution_count": 47,
     "metadata": {},
     "output_type": "execute_result"
    },
    {
     "data": {
      "image/png": "[encoded data removed]",
      "text/plain": [
       "<Figure size 640x480 with 1 Axes>"
      ]
     },
     "metadata": {},
     "output_type": "display_data"
    }
   ],
   "source": [
    "rand_randn_data = np.random.randn(1000)\n",
    "\n",
    "plt.hist(rand_randn_data, bins=100)\n",
    "plt.show"
   ]
  },
  {
   "cell_type": "markdown",
   "id": "c0acc33d",
   "metadata": {},
   "source": [
    "<br>\n",
    "\n",
    "### 4.4. `np.random.randint(low)`\n",
    "\n",
    "> `np.random.randint(low, high=None, size=None, dtype=I)`\n",
    "\n",
    "- `low` 이상, `high` 미만, int로 구성된 data > `size`의 배열 생성\n",
    "\n",
    "<br>\n",
    "\n",
    "- `low`: `high`값이 지정되지 않으면, `low`값이 최대값(포함X)로 설정\n",
    "\n",
    "- `high`: 최대값(포함X), default: `high=None`\n",
    "\n",
    "- `size`: 배열의 구조, default: `size=None` > 배열이 아닌 하나의 값(single value) 반환"
   ]
  },
  {
   "cell_type": "markdown",
   "id": "33db8e1f",
   "metadata": {},
   "source": [
    "<br>\n",
    "\n",
    "- 1 미만의 값 한 개 추출\n",
    "\n",
    "- `size` 미지정: default: `size=None` > shape 미지정 > return single value"
   ]
  },
  {
   "cell_type": "code",
   "execution_count": 48,
   "id": "656f66d0",
   "metadata": {},
   "outputs": [
    {
     "name": "stdout",
     "output_type": "stream",
     "text": [
      "0\n"
     ]
    }
   ],
   "source": [
    "rand_randint_value = np.random.randint(1)\n",
    "\n",
    "print(rand_randint_value)"
   ]
  },
  {
   "cell_type": "markdown",
   "id": "b8f4db6b",
   "metadata": {},
   "source": [
    "<br>\n",
    "\n",
    "- 0 이상 3 미만 정수 10개 추출"
   ]
  },
  {
   "cell_type": "code",
   "execution_count": 49,
   "id": "b58ae96c",
   "metadata": {
    "scrolled": true
   },
   "outputs": [
    {
     "name": "stdout",
     "output_type": "stream",
     "text": [
      "\n",
      "    type : <class 'numpy.ndarray'>\n",
      "    shape : (10,)\n",
      "    ndim : 1\n",
      "    dtype : int32\n",
      "    array data : \n",
      " [0 1 0 0 2 2 0 1 0 0]\n"
     ]
    }
   ],
   "source": [
    "rand_randint_ten = np.random.randint(0, 3, size=(10))\n",
    "\n",
    "np_print(rand_randint_ten)"
   ]
  },
  {
   "cell_type": "markdown",
   "id": "ebfb3ce1",
   "metadata": {},
   "source": [
    "<br>\n",
    "\n",
    "- 3 초과 10 미만 정수, `size=(2, 4)` > 2 rows X 4 columns 배열로 추출 "
   ]
  },
  {
   "cell_type": "code",
   "execution_count": 50,
   "id": "28aa044f",
   "metadata": {},
   "outputs": [
    {
     "name": "stdout",
     "output_type": "stream",
     "text": [
      "\n",
      "    type : <class 'numpy.ndarray'>\n",
      "    shape : (2, 4)\n",
      "    ndim : 2\n",
      "    dtype : int32\n",
      "    array data : \n",
      " [[7 8 6 5]\n",
      " [4 6 6 9]]\n"
     ]
    }
   ],
   "source": [
    "rand_randint_arr = np.random.randint(4, 10, size=(2, 4))\n",
    "\n",
    "np_print(rand_randint_arr)"
   ]
  },
  {
   "cell_type": "markdown",
   "id": "d27612a2",
   "metadata": {},
   "source": [
    "<br>\n",
    "\n",
    "- -100 이상 +100 미만 정수 범위, 10000개 균등분포 data, 25개 구간 시각화"
   ]
  },
  {
   "cell_type": "code",
   "execution_count": 51,
   "id": "b5daa0b5",
   "metadata": {},
   "outputs": [
    {
     "data": {
      "text/plain": [
       "<function matplotlib.pyplot.show(close=None, block=None)>"
      ]
     },
     "execution_count": 51,
     "metadata": {},
     "output_type": "execute_result"
    },
    {
     "data": {
      "image/png": "[encoded data removed]",
      "text/plain": [
       "<Figure size 640x480 with 1 Axes>"
      ]
     },
     "metadata": {},
     "output_type": "display_data"
    }
   ],
   "source": [
    "rand_randint_data = np.random.randint(-100, 100, size=10000)\n",
    "\n",
    "plt.hist(rand_randint_data, bins=24)\n",
    "plt.show"
   ]
  },
  {
   "cell_type": "markdown",
   "id": "924a56fb",
   "metadata": {},
   "source": [
    "<br>\n",
    "\n",
    "### 4.5. `np.random.random(size=None)`\n",
    "\n",
    "- 0 이상 1 미만의 실수 data > `size` 배열 생성\n",
    "\n",
    "<br>"
   ]
  },
  {
   "cell_type": "code",
   "execution_count": 52,
   "id": "0ada4ef2",
   "metadata": {},
   "outputs": [
    {
     "name": "stdout",
     "output_type": "stream",
     "text": [
      "0.01784913614293404\n"
     ]
    }
   ],
   "source": [
    "rand_random_value = np.random.random()\n",
    "\n",
    "print(rand_random_value)"
   ]
  },
  {
   "cell_type": "markdown",
   "id": "8ab86ddd",
   "metadata": {},
   "source": [
    "<br>\n",
    "\n",
    "- 0이상 1미만의 실수 data 1000개 추출, 10구간으로 분포, 시각화"
   ]
  },
  {
   "cell_type": "code",
   "execution_count": 53,
   "id": "178fed28",
   "metadata": {},
   "outputs": [
    {
     "data": {
      "text/plain": [
       "<function matplotlib.pyplot.show(close=None, block=None)>"
      ]
     },
     "execution_count": 53,
     "metadata": {},
     "output_type": "execute_result"
    },
    {
     "data": {
      "image/png": "[encoded data removed]",
      "text/plain": [
       "<Figure size 640x480 with 1 Axes>"
      ]
     },
     "metadata": {},
     "output_type": "display_data"
    }
   ],
   "source": [
    "rand_random_data = np.random.random(size=1000)\n",
    "\n",
    "plt.hist(rand_random_data, bins=10)\n",
    "plt.show"
   ]
  },
  {
   "cell_type": "markdown",
   "id": "9df3ca7a",
   "metadata": {},
   "source": [
    "<br>\n",
    "\n",
    "## 5. 난수: 무작위의 숫자\n",
    "\n",
    "- programming에서 추출되는 난수: 무작위로 만들어진 것 처럼 보이지만   \n",
    "실제로는 고정된 기준(시작점)을 가지고 규칙적으로 생성\n",
    "\n",
    "- 고정된 기준(시작점)을 설정 > 동일한 난수 생성 가능\n",
    "\n",
    "- 난수의 시작점 설정 method: `np.random.seed()`"
   ]
  },
  {
   "cell_type": "markdown",
   "id": "e12f2e8a",
   "metadata": {},
   "source": [
    "<br>\n",
    "\n",
    "### 5.1. 난수 시작점 설정하기: `np.random.seed(num)`\n",
    "\n",
    "<br>\n",
    "\n",
    "- `num=100`"
   ]
  },
  {
   "cell_type": "code",
   "execution_count": 54,
   "id": "84ed2a93",
   "metadata": {},
   "outputs": [],
   "source": [
    "np.random.seed(100)"
   ]
  },
  {
   "cell_type": "markdown",
   "id": "9ca705c1",
   "metadata": {},
   "source": [
    "<br>\n",
    "\n",
    "- 0이상 1미만 지정범위에서 실수값을 가지는 3행 X 3열 난수 배열 생성"
   ]
  },
  {
   "cell_type": "code",
   "execution_count": 55,
   "id": "4867566a",
   "metadata": {},
   "outputs": [
    {
     "name": "stdout",
     "output_type": "stream",
     "text": [
      "\n",
      "    type : <class 'numpy.ndarray'>\n",
      "    shape : (3, 3)\n",
      "    ndim : 2\n",
      "    dtype : float64\n",
      "    array data : \n",
      " [[0.54340494 0.27836939 0.42451759]\n",
      " [0.84477613 0.00471886 0.12156912]\n",
      " [0.67074908 0.82585276 0.13670659]]\n"
     ]
    }
   ],
   "source": [
    "rand_random_arr = np.random.random(size=(3, 3))\n",
    "\n",
    "np_print(rand_random_arr)"
   ]
  },
  {
   "cell_type": "markdown",
   "id": "c224ac48",
   "metadata": {},
   "source": [
    "<br>\n",
    "\n",
    "- 0 이상 5 미만의 지정범위에서 정수값을 가지는 2행 X 2열 난수 배열 생성"
   ]
  },
  {
   "cell_type": "code",
   "execution_count": 56,
   "id": "ec2bd6ec",
   "metadata": {},
   "outputs": [
    {
     "name": "stdout",
     "output_type": "stream",
     "text": [
      "\n",
      "    type : <class 'numpy.ndarray'>\n",
      "    shape : (2, 2)\n",
      "    ndim : 2\n",
      "    dtype : int32\n",
      "    array data : \n",
      " [[0 4]\n",
      " [3 4]]\n"
     ]
    }
   ],
   "source": [
    "rand_randint_arr = np.random.randint(0, 5, size=(2, 2))\n",
    "\n",
    "np_print(rand_randint_arr)"
   ]
  },
  {
   "cell_type": "markdown",
   "id": "3697a38a",
   "metadata": {},
   "source": [
    "<br>\n",
    "\n",
    "### 5.2. 난수 시작점 초기화: `np.random.seed(param)`\n",
    ": parameter 기입하지 않고 실행 시 초기화"
   ]
  },
  {
   "cell_type": "code",
   "execution_count": 57,
   "id": "9cca15a1",
   "metadata": {},
   "outputs": [
    {
     "name": "stdout",
     "output_type": "stream",
     "text": [
      "\n",
      "    type : <class 'numpy.ndarray'>\n",
      "    shape : (3, 3)\n",
      "    ndim : 2\n",
      "    dtype : float64\n",
      "    array data : \n",
      " [[0.72712766 0.09310524 0.73454684]\n",
      " [0.13725015 0.87971203 0.48530528]\n",
      " [0.47841408 0.41855286 0.05329163]]\n",
      "\n",
      "    type : <class 'numpy.ndarray'>\n",
      "    shape : (2, 2)\n",
      "    ndim : 2\n",
      "    dtype : int32\n",
      "    array data : \n",
      " [[2 4]\n",
      " [3 0]]\n"
     ]
    }
   ],
   "source": [
    "np.random.seed()\n",
    "\n",
    "np_print(np.random.random(size=(3, 3)))\n",
    "\n",
    "np_print(np.random.randint(0, 5, size=(2, 2)))"
   ]
  }
 ],
 "metadata": {
  "kernelspec": {
   "display_name": "Python 3 (ipykernel)",
   "language": "python",
   "name": "python3"
  },
  "language_info": {
   "codemirror_mode": {
    "name": "ipython",
    "version": 3
   },
   "file_extension": ".py",
   "mimetype": "text/x-python",
   "name": "python",
   "nbconvert_exporter": "python",
   "pygments_lexer": "ipython3",
   "version": "3.9.13"
  }
 },
 "nbformat": 4,
 "nbformat_minor": 5
}
