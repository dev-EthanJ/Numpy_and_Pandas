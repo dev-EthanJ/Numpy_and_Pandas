{
 "cells": [
  {
   "cell_type": "markdown",
   "id": "e969b00e",
   "metadata": {},
   "source": [
    "# Basic Numpy 넘파이 기초"
   ]
  },
  {
   "cell_type": "markdown",
   "id": "40de6379",
   "metadata": {},
   "source": [
    "## NumPy (Numeriacal Python)\n",
    "\n",
    "- Python Machine learning package `scikit-learn`    \n",
    "\\> `numpy` 제공 배열 class data instance `numpy.ndarray` 객체를 기본 Data structure로 사용\n",
    "\n",
    "- Python 기반 Data Analysis environment   \n",
    "\\> 행렬(matrix), 벡터(vector) operation에 필요한 다양한 method 제공\n",
    "\n",
    "- memory usage가 많은 loop문 사용 없이,      \n",
    "전체 data array에 빠른 연산을 처리할 수 있는 표준 수학 function\n",
    "\n",
    "- 배열(array)   \n",
    "> 동일한 특성(data type) 및 일정한 규칙을 가지는 여러개의 요소(items)가 나열되어 있는 Data structure\n",
    "\n",
    "- Python list object를 사용할 때 보다, Numpy의 `ndarray` 객체 사용 시   \n",
    "연산 속도 개선 > 더 많은 data를 더 빠른 속도로 처리 가능"
   ]
  },
  {
   "cell_type": "code",
   "execution_count": 1,
   "id": "588ee158",
   "metadata": {},
   "outputs": [],
   "source": [
    "import numpy as np"
   ]
  },
  {
   "cell_type": "code",
   "execution_count": 2,
   "id": "e271c827",
   "metadata": {},
   "outputs": [
    {
     "data": {
      "text/plain": [
       "'1.21.5'"
      ]
     },
     "execution_count": 2,
     "metadata": {},
     "output_type": "execute_result"
    }
   ],
   "source": [
    "np.__version__"
   ]
  },
  {
   "cell_type": "markdown",
   "id": "c87d8260",
   "metadata": {},
   "source": [
    "## 0. Numpy 배열 : `numpy.ndarray`\n",
    "\n",
    "\\> 다차원 배열(1차원, 2차원, 3차원), 입체적인 데이터 구조를 구성,   \n",
    "여러 개의 데이터 방향을 가짐\n",
    "\n",
    "- 배열 속성: `shape`, `ndim`, `dtype` 등\n",
    "\n",
    "- 데이터 방향 : `axis`       \n",
    "= 0 (== row arrow 방향, → 방향, col 단위, height 단위),   \n",
    "= 1 (== col arrow 방향, ↓ 방향, row 단위, width 단위),   \n",
    "= 2 (== channel, depth)   \n",
    "\n",
    "<img src='https://github.com/insung-ethan-j/Basic_Python_with_Data/blob/ff6b0874aee8199a2d14b5b125a0e12234eecf6d/img/nparr1.jpg?raw=true' width='600' height='400' align='left'>"
   ]
  },
  {
   "cell_type": "markdown",
   "id": "700f584e",
   "metadata": {},
   "source": [
    "## 1. `ndarray` 배열 생성\n",
    "\n",
    "- `np.array(data)`\n",
    "    \n",
    "    - 파이썬 list obj를 전달받아 > numpy 배열(`ndarray`)로 반환\n",
    "    \n",
    "    - 배열 속성\n",
    "    \n",
    "        - `shape`: structure (row, col, dim)\n",
    "        \n",
    "        - `ndim`: dimension\n",
    "        \n",
    "        - `dtype`: data type > must be standaraized\n",
    "        \n",
    "        - `size`: item 개수 == n rows * n columns * n dimensions\n",
    "        \n",
    "    - 배열 method\n",
    "    \n",
    "        - `astype()`: data type 변환(str > float, int > str 등...)\n",
    "    \n",
    "    - Python function으로 확인 가능한 속성\n",
    "    \n",
    "        - `type()`: instance의 data type 확인\n",
    "        \n",
    "        - `len()`: item 내부의 data 길이.\n",
    "    \n",
    "    - NumPy method로 확인 가능한 속성\n",
    "        \n",
    "        - `reshape(row, column)`: 배열 구조(shape) 재배치   \n",
    "        (1 * 12 > 3 * 4, 4 * 5 > 2 * 10 등...)\n",
    "    \n",
    "    - `kind`: 데이터 종류에 대한 구분 기호\n",
    "        \n",
    "        - b: boolean\n",
    "        \n",
    "        - i: 정수(int)\n",
    "        \n",
    "        - u: 부호없는 정수(unsigned int, $\\pm$ 개념 없이 절대값만 존재)\n",
    "        \n",
    "        - f: 실수\n",
    "        \n",
    "        - c: 복소 부동소수점\n",
    "        \n",
    "        - O: 객체\n",
    "        \n",
    "        - S: 바이트 문자열(ascii 코드, 영문자, 일부 특수문자, 숫자)\n",
    "        \n",
    "        - U: 유니코드 문자열(한글, 태국어, 아랍어 등 영어 제외 문자)"
   ]
  },
  {
   "cell_type": "markdown",
   "id": "5809c36a",
   "metadata": {},
   "source": [
    "<br>\n",
    "\n",
    "- Python 1차원 list > Numpy `ndarry`로 변환"
   ]
  },
  {
   "cell_type": "code",
   "execution_count": 3,
   "id": "e53eecf0",
   "metadata": {},
   "outputs": [
    {
     "name": "stdout",
     "output_type": "stream",
     "text": [
      "[1 2 3 4 5 6]\n"
     ]
    }
   ],
   "source": [
    "tmp_list = [1, 2, 3, 4, 5, 6]\n",
    "\n",
    "my_ndarr = np.array(tmp_list)\n",
    "print(my_ndarr)"
   ]
  },
  {
   "cell_type": "markdown",
   "id": "1bd2d0c7",
   "metadata": {},
   "source": [
    "<br>\n",
    "\n",
    "### 1.1. 배열 객체 `ndarry`의 속성\n",
    "\n",
    "1. Data type: `numpy.ndarry`"
   ]
  },
  {
   "cell_type": "code",
   "execution_count": 4,
   "id": "8edfcab0",
   "metadata": {},
   "outputs": [
    {
     "name": "stdout",
     "output_type": "stream",
     "text": [
      "<class 'list'>\n",
      "<class 'numpy.ndarray'>\n"
     ]
    }
   ],
   "source": [
    "print(type(tmp_list))\n",
    "print(type(my_ndarr))"
   ]
  },
  {
   "cell_type": "markdown",
   "id": "5b5fc1bf",
   "metadata": {},
   "source": [
    "<br>\n",
    "\n",
    "2. 구조: `ndarray.shape` > shape(행(row), 열(column), 차원(면))\n",
    "\n",
    "   \\> return value == `(int, )`: int 개수의 item을 가진 list가 `ndarray`로 변환됨"
   ]
  },
  {
   "cell_type": "code",
   "execution_count": 5,
   "id": "08581205",
   "metadata": {},
   "outputs": [
    {
     "name": "stdout",
     "output_type": "stream",
     "text": [
      "(6,)\n"
     ]
    }
   ],
   "source": [
    "print(my_ndarr.shape)"
   ]
  },
  {
   "cell_type": "markdown",
   "id": "733de6bc",
   "metadata": {},
   "source": [
    "<br>\n",
    "3. 길이: n in `(n, )` \n",
    "\n",
    "   \\> `len(ndarray)`: item의 개수"
   ]
  },
  {
   "cell_type": "code",
   "execution_count": 6,
   "id": "68cf1a33",
   "metadata": {},
   "outputs": [
    {
     "data": {
      "text/plain": [
       "6"
      ]
     },
     "execution_count": 6,
     "metadata": {},
     "output_type": "execute_result"
    }
   ],
   "source": [
    "len(my_ndarr)"
   ]
  },
  {
   "cell_type": "markdown",
   "id": "f4b4447e",
   "metadata": {},
   "source": [
    "<br>\n",
    "\n",
    "4. 차원: `ndarray.ndim`"
   ]
  },
  {
   "cell_type": "code",
   "execution_count": 7,
   "id": "5dcc1560",
   "metadata": {},
   "outputs": [
    {
     "data": {
      "text/plain": [
       "1"
      ]
     },
     "execution_count": 7,
     "metadata": {},
     "output_type": "execute_result"
    }
   ],
   "source": [
    "my_ndarr.ndim"
   ]
  },
  {
   "cell_type": "markdown",
   "id": "ccf3a5b3",
   "metadata": {},
   "source": [
    "<br>\n",
    "\n",
    "5. item 개수: `ndarray.size`"
   ]
  },
  {
   "cell_type": "code",
   "execution_count": 8,
   "id": "14d135dd",
   "metadata": {},
   "outputs": [
    {
     "data": {
      "text/plain": [
       "6"
      ]
     },
     "execution_count": 8,
     "metadata": {},
     "output_type": "execute_result"
    }
   ],
   "source": [
    "my_ndarr.size"
   ]
  },
  {
   "cell_type": "markdown",
   "id": "5b95fc7a",
   "metadata": {},
   "source": [
    "<br>\n",
    "\n",
    "6. item data type: `ndarray.dtype`"
   ]
  },
  {
   "cell_type": "code",
   "execution_count": 9,
   "id": "9166b664",
   "metadata": {},
   "outputs": [
    {
     "data": {
      "text/plain": [
       "dtype('int32')"
      ]
     },
     "execution_count": 9,
     "metadata": {},
     "output_type": "execute_result"
    }
   ],
   "source": [
    "my_ndarr.dtype"
   ]
  },
  {
   "cell_type": "markdown",
   "id": "3e80ffe8",
   "metadata": {},
   "source": [
    "<br>\n",
    "\n",
    "7. item data type 변환: `ndarray.astype(type)` > 원본 data 유지"
   ]
  },
  {
   "cell_type": "code",
   "execution_count": 10,
   "id": "cb50add6",
   "metadata": {},
   "outputs": [
    {
     "name": "stdout",
     "output_type": "stream",
     "text": [
      "[1. 2. 3. 4. 5. 6.]\n"
     ]
    }
   ],
   "source": [
    "my_ndarr2 = my_ndarr.astype(float)\n",
    "\n",
    "print(my_ndarr2)"
   ]
  },
  {
   "cell_type": "markdown",
   "id": "0c165ea2",
   "metadata": {},
   "source": [
    "<br>\n",
    "\n",
    "8. 배열 구조 변환 `ndarray.reshape(row, col)`   \n",
    "\\> 기존 배열 shape item수와 변환하려는 shape item수는 일치해야 함"
   ]
  },
  {
   "cell_type": "code",
   "execution_count": 11,
   "id": "bd2bd4f4",
   "metadata": {},
   "outputs": [
    {
     "name": "stdout",
     "output_type": "stream",
     "text": [
      "[[1 2 3]\n",
      " [4 5 6]]\n",
      "[1 2 3 4 5 6]\n"
     ]
    }
   ],
   "source": [
    "my_ndarr3 = my_ndarr.reshape(2, 3)\n",
    "print(my_ndarr3)\n",
    "print(my_ndarr)"
   ]
  },
  {
   "cell_type": "markdown",
   "id": "f9b30f8f",
   "metadata": {},
   "source": [
    "<br>\n",
    "\n",
    "- 함수 `np_print()` 정의 > NumPy object `ndarray` 정보를 편하게 확인 가능\n",
    "\n",
    "   \\> obj type, shape, dim, data type, obj data 확인하기 위해 정의"
   ]
  },
  {
   "cell_type": "code",
   "execution_count": 12,
   "id": "08e3e437",
   "metadata": {},
   "outputs": [],
   "source": [
    "def np_print(arr):\n",
    "    print(f\"\"\"\n",
    "    type : {type(arr)}\n",
    "    shape : {arr.shape}\n",
    "    ndim : {arr.ndim}\n",
    "    dtype : {arr.dtype}\n",
    "    array data : \\n {arr}\"\"\")"
   ]
  },
  {
   "cell_type": "markdown",
   "id": "1dfb5b99",
   "metadata": {},
   "source": [
    "<br>\n",
    "\n",
    "### 1.2. 배열 객체 `ndarray` dtype standardize\n",
    "\n",
    "- list item data type이 standardize되지 않으면,   \n",
    "list가 `ndarray`로 변환될 때   \n",
    "우선순위에 따라 내부 데이터의 dtype이 통일됨\n",
    "\n",
    "- 우선순위: str > float > int\n",
    "\n",
    "<br>\n",
    "\n",
    "### 1.3. 서로 다른 타입의 혼합\n",
    "\n",
    "1. int + str > str"
   ]
  },
  {
   "cell_type": "code",
   "execution_count": 13,
   "id": "57c6e3a1",
   "metadata": {},
   "outputs": [
    {
     "name": "stdout",
     "output_type": "stream",
     "text": [
      "\n",
      "    type : <class 'numpy.ndarray'>\n",
      "    shape : (4,)\n",
      "    ndim : 1\n",
      "    dtype : <U11\n",
      "    array data : \n",
      " ['1' '2' '3' '4']\n"
     ]
    }
   ],
   "source": [
    "int_str = [1, 2, 3, '4']\n",
    "mixed_ndarr_1 = np.array(int_str)\n",
    "\n",
    "np_print(mixed_ndarr_1)"
   ]
  },
  {
   "cell_type": "markdown",
   "id": "5664aeef",
   "metadata": {},
   "source": [
    "<br>\n",
    "\n",
    "2. int + float > float"
   ]
  },
  {
   "cell_type": "code",
   "execution_count": 14,
   "id": "babc541d",
   "metadata": {},
   "outputs": [
    {
     "name": "stdout",
     "output_type": "stream",
     "text": [
      "\n",
      "    type : <class 'numpy.ndarray'>\n",
      "    shape : (4,)\n",
      "    ndim : 1\n",
      "    dtype : float64\n",
      "    array data : \n",
      " [1.  2.  3.3 4. ]\n"
     ]
    }
   ],
   "source": [
    "int_float = [1, 2, 3.3, 4]\n",
    "mixed_ndarr_2 = np.array(int_float)\n",
    "\n",
    "np_print(mixed_ndarr_2)"
   ]
  },
  {
   "cell_type": "markdown",
   "id": "f6aef53b",
   "metadata": {},
   "source": [
    "<br>\n",
    "\n",
    "3. float + str > str"
   ]
  },
  {
   "cell_type": "code",
   "execution_count": 15,
   "id": "721a0346",
   "metadata": {},
   "outputs": [
    {
     "name": "stdout",
     "output_type": "stream",
     "text": [
      "\n",
      "    type : <class 'numpy.ndarray'>\n",
      "    shape : (3,)\n",
      "    ndim : 1\n",
      "    dtype : <U32\n",
      "    array data : \n",
      " ['1' '2.3' '4']\n"
     ]
    }
   ],
   "source": [
    "float_str = ['1', 2.3, 4]\n",
    "mixed_ndarr_3 = np.array(float_str)\n",
    "\n",
    "np_print(mixed_ndarr_3)"
   ]
  },
  {
   "cell_type": "markdown",
   "id": "d67ad452",
   "metadata": {},
   "source": [
    "<br>\n",
    "\n",
    "### 1.4. n차원 리스트로 배열 생성\n",
    "\n",
    "1. 2차원 list로 NumPy `ndarray` 생성\n",
    "\n",
    "- 2차원 배열의 shape 속성: 행(row, 세로축 개수), 열(column, 가로축 개수)   \n",
    "두 개만 item으로 가짐"
   ]
  },
  {
   "cell_type": "code",
   "execution_count": 16,
   "id": "4f887803",
   "metadata": {},
   "outputs": [
    {
     "name": "stdout",
     "output_type": "stream",
     "text": [
      "\n",
      "    type : <class 'numpy.ndarray'>\n",
      "    shape : (2, 4)\n",
      "    ndim : 2\n",
      "    dtype : int32\n",
      "    array data : \n",
      " [[1 2 3 4]\n",
      " [5 6 7 8]]\n",
      "(2, 4)\n",
      "6\n"
     ]
    }
   ],
   "source": [
    "tmp_list = [[1, 2, 3, 4],\n",
    "           [5, 6, 7, 8]]\n",
    "\n",
    "ndarr_2d = np.array(tmp_list)\n",
    "\n",
    "np_print(ndarr_2d)\n",
    "print(ndarr_2d.shape)\n",
    "print(ndarr_2d[1][1])"
   ]
  },
  {
   "cell_type": "markdown",
   "id": "b00cdb24",
   "metadata": {},
   "source": [
    "2. 3차원 list로 NumPy `ndarray` 생성"
   ]
  },
  {
   "cell_type": "code",
   "execution_count": 17,
   "id": "963c837c",
   "metadata": {},
   "outputs": [
    {
     "name": "stdout",
     "output_type": "stream",
     "text": [
      "\n",
      "    type : <class 'numpy.ndarray'>\n",
      "    shape : (2, 2, 3)\n",
      "    ndim : 3\n",
      "    dtype : int32\n",
      "    array data : \n",
      " [[[ 1  2  3]\n",
      "  [ 4  5  6]]\n",
      "\n",
      " [[ 7  8  9]\n",
      "  [10 11 12]]]\n",
      "6\n"
     ]
    }
   ],
   "source": [
    "tmp_list = [\n",
    "    [\n",
    "        [1, 2, 3], [4, 5, 6]\n",
    "    ],\n",
    "    [\n",
    "        [7, 8, 9], [10, 11, 12]\n",
    "    ]\n",
    "]\n",
    "\n",
    "\n",
    "\n",
    "ndarr_3d = np.array(tmp_list)\n",
    "np_print(ndarr_3d)\n",
    "print(ndarr_3d[0][1][2])"
   ]
  },
  {
   "cell_type": "markdown",
   "id": "0d690616",
   "metadata": {},
   "source": [
    "<br>\n",
    "\n",
    "### 1.5. dtype 지정 `ndarray` 생성\n",
    "\n",
    "`np.array(data, dtype=data type)`\n",
    "\n",
    "\\> data type을 parameter로 지정해서 `ndarray` dtype 변경 가능 "
   ]
  },
  {
   "cell_type": "code",
   "execution_count": 18,
   "id": "6dd4292c",
   "metadata": {},
   "outputs": [
    {
     "name": "stdout",
     "output_type": "stream",
     "text": [
      "\n",
      "    type : <class 'numpy.ndarray'>\n",
      "    shape : (2, 2, 3)\n",
      "    ndim : 3\n",
      "    dtype : float64\n",
      "    array data : \n",
      " [[[ 1.  2.  3.]\n",
      "  [ 4.  5.  6.]]\n",
      "\n",
      " [[ 7.  8.  9.]\n",
      "  [10. 11. 12.]]]\n"
     ]
    }
   ],
   "source": [
    "float_3d = np.array(tmp_list, dtype=float)\n",
    "\n",
    "np_print(float_3d)"
   ]
  },
  {
   "cell_type": "markdown",
   "id": "0f0350fd",
   "metadata": {},
   "source": [
    "## 2. 데이터 초기화와 함께 `ndarray` 생성 method\n",
    "\n",
    "- 초기값을 지정하여 data를 자동으로 가지는 `ndarray` 생성\n",
    "\n",
    "    1. `np.zeros()`\n",
    "\n",
    "    2. `np.ones()`\n",
    "\n",
    "    3. `np.full()`\n",
    "\n",
    "    4. `np.eye()`\n",
    "\n",
    "    5. `np.empty()`"
   ]
  },
  {
   "cell_type": "markdown",
   "id": "d7fabdcb",
   "metadata": {},
   "source": [
    "### 2.1. `np.zeros(shape, dtype=float)`\n",
    "\n",
    "- 지정된 구조`shape`의 `ndarray`를 생성하고 모든 `item == 0`으로 초기화\n",
    "\n",
    "- `shape`: tuple type, `(row, col)` 지정\n",
    "\n",
    "- `dtype`: `ndarray`의 요소 data type 지정, default == `numpy.float64`"
   ]
  },
  {
   "cell_type": "markdown",
   "id": "cdde107e",
   "metadata": {},
   "source": [
    "<br>\n",
    "\n",
    "- 3 * 4 shape"
   ]
  },
  {
   "cell_type": "code",
   "execution_count": 19,
   "id": "ef597a43",
   "metadata": {},
   "outputs": [
    {
     "name": "stdout",
     "output_type": "stream",
     "text": [
      "\n",
      "    type : <class 'numpy.ndarray'>\n",
      "    shape : (3, 4)\n",
      "    ndim : 2\n",
      "    dtype : float64\n",
      "    array data : \n",
      " [[0. 0. 0. 0.]\n",
      " [0. 0. 0. 0.]\n",
      " [0. 0. 0. 0.]]\n"
     ]
    }
   ],
   "source": [
    "zeros_3_4 = np.zeros((3, 4))\n",
    "\n",
    "np_print(zeros_3_4)"
   ]
  },
  {
   "cell_type": "markdown",
   "id": "d7078ac2",
   "metadata": {},
   "source": [
    "<br>\n",
    "\n",
    "- `dtype=int`"
   ]
  },
  {
   "cell_type": "code",
   "execution_count": 20,
   "id": "ad1dcc6d",
   "metadata": {},
   "outputs": [
    {
     "name": "stdout",
     "output_type": "stream",
     "text": [
      "\n",
      "    type : <class 'numpy.ndarray'>\n",
      "    shape : (3, 4)\n",
      "    ndim : 2\n",
      "    dtype : int32\n",
      "    array data : \n",
      " [[0 0 0 0]\n",
      " [0 0 0 0]\n",
      " [0 0 0 0]]\n"
     ]
    }
   ],
   "source": [
    "zeros_int = np.zeros((3, 4), dtype=int)\n",
    "\n",
    "np_print(zeros_int)"
   ]
  },
  {
   "cell_type": "markdown",
   "id": "343fb520",
   "metadata": {},
   "source": [
    "### 2.2. `np.ones(shape, dtype=float)`\n",
    "\n",
    "- 지정된 구조의 `ndarray`생성, 모든 `item == 1`로 초기화\n",
    "\n",
    "- `shape`: tuple type, `(row, col)` 구조 지정\n",
    "\n",
    "- `dtype`: 객체의 data type 지정, default == `numpy.float64`"
   ]
  },
  {
   "cell_type": "markdown",
   "id": "8b651c22",
   "metadata": {},
   "source": [
    "<br>\n",
    "\n",
    "- 3행 * 4열, 초기값 1로 가지는 배열"
   ]
  },
  {
   "cell_type": "code",
   "execution_count": 21,
   "id": "f0612856",
   "metadata": {},
   "outputs": [
    {
     "name": "stdout",
     "output_type": "stream",
     "text": [
      "\n",
      "    type : <class 'numpy.ndarray'>\n",
      "    shape : (3, 4)\n",
      "    ndim : 2\n",
      "    dtype : float64\n",
      "    array data : \n",
      " [[1. 1. 1. 1.]\n",
      " [1. 1. 1. 1.]\n",
      " [1. 1. 1. 1.]]\n"
     ]
    }
   ],
   "source": [
    "ndarr_ones = np.ones((3, 4))\n",
    "\n",
    "np_print(ndarr_ones)"
   ]
  },
  {
   "cell_type": "markdown",
   "id": "5e50f24e",
   "metadata": {},
   "source": [
    "<br>\n",
    "\n",
    "### 2.3. `np.full(shape, fill_value, dtype)`\n",
    "\n",
    "- 지정된 구조의 `ndarray`생성, 모든 `item == fill_value` 값으로 초기화\n",
    " \n",
    "- `shape`: tuple data type, `(row, col)` 구조 지정\n",
    "\n",
    "- `dtype`: `ndarray`의 data type 지정, default == `input data type`"
   ]
  },
  {
   "cell_type": "markdown",
   "id": "db09857a",
   "metadata": {},
   "source": [
    "<br>\n",
    "\n",
    "- 3행 4열 초기값 5인 배열"
   ]
  },
  {
   "cell_type": "code",
   "execution_count": 22,
   "id": "7d70c564",
   "metadata": {},
   "outputs": [
    {
     "name": "stdout",
     "output_type": "stream",
     "text": [
      "\n",
      "    type : <class 'numpy.ndarray'>\n",
      "    shape : (3, 4)\n",
      "    ndim : 2\n",
      "    dtype : int32\n",
      "    array data : \n",
      " [[5 5 5 5]\n",
      " [5 5 5 5]\n",
      " [5 5 5 5]]\n"
     ]
    }
   ],
   "source": [
    "ndarr_full = np.full((3, 4), 5, int)\n",
    "\n",
    "np_print(ndarr_full)"
   ]
  },
  {
   "cell_type": "markdown",
   "id": "c5dff717",
   "metadata": {},
   "source": [
    "<br>\n",
    "\n",
    "### 2.4. `np.eye(N, M=None, dtype=float)`\n",
    "\n",
    "- `(N, M)` shape의 `단위 행렬` 생성 (N행 M열)\n",
    "\n",
    "- 단위 행렬: 주대각 성분만 값을 가지고, 그 값이 1인 행렬\n",
    "\n",
    "- `M`: column 개수 지정, `dafault == N`\n",
    "    \n",
    "- `dtype`: `ndarray`의 data type 지정, default == `numpy.float64`"
   ]
  },
  {
   "cell_type": "code",
   "execution_count": 23,
   "id": "7398dc1c",
   "metadata": {},
   "outputs": [
    {
     "name": "stdout",
     "output_type": "stream",
     "text": [
      "\n",
      "    type : <class 'numpy.ndarray'>\n",
      "    shape : (3, 3)\n",
      "    ndim : 2\n",
      "    dtype : float64\n",
      "    array data : \n",
      " [[1. 0. 0.]\n",
      " [0. 1. 0.]\n",
      " [0. 0. 1.]]\n"
     ]
    }
   ],
   "source": [
    "ndarr_eye = np.eye(3)\n",
    "\n",
    "np_print(ndarr_eye)"
   ]
  },
  {
   "cell_type": "markdown",
   "id": "e1f854fc",
   "metadata": {},
   "source": [
    "<br>\n",
    "\n",
    "- row = 5, col = 3인 단위행렬"
   ]
  },
  {
   "cell_type": "code",
   "execution_count": 24,
   "id": "08ca1581",
   "metadata": {},
   "outputs": [
    {
     "name": "stdout",
     "output_type": "stream",
     "text": [
      "\n",
      "    type : <class 'numpy.ndarray'>\n",
      "    shape : (5, 3)\n",
      "    ndim : 2\n",
      "    dtype : float64\n",
      "    array data : \n",
      " [[1. 0. 0.]\n",
      " [0. 1. 0.]\n",
      " [0. 0. 1.]\n",
      " [0. 0. 0.]\n",
      " [0. 0. 0.]]\n"
     ]
    }
   ],
   "source": [
    "eye_5_3 = np.eye(5, 3)\n",
    "\n",
    "np_print(eye_5_3)"
   ]
  },
  {
   "cell_type": "markdown",
   "id": "5b4ea90c",
   "metadata": {},
   "source": [
    "<br>\n",
    "\n",
    "### 2.5. `np.empty(shape, dtype=float)`\n",
    "\n",
    "- 지정된 `shape`의 `ndarray` 생성,   \n",
    "모든 item에 대해 직전 memory에 저장된 값으로 초기화\n",
    "\n",
    "- `ndarry` 생성 시 가장 빠르고 효율적인 방법\n",
    "\n",
    "- `shape`: data type tule, `(row, col)` 구조 지정\n",
    "    \n",
    "- `dtype`: `ndarray`의 data type 지정, default == `numpy.float64`"
   ]
  },
  {
   "cell_type": "markdown",
   "id": "abb0582d",
   "metadata": {},
   "source": [
    "<br>\n",
    "\n",
    "- 7 * 2, (초기값) == 1인 `ndarray` 생성"
   ]
  },
  {
   "cell_type": "code",
   "execution_count": 25,
   "id": "55745824",
   "metadata": {},
   "outputs": [
    {
     "name": "stdout",
     "output_type": "stream",
     "text": [
      "\n",
      "    type : <class 'numpy.ndarray'>\n",
      "    shape : (7, 2)\n",
      "    ndim : 2\n",
      "    dtype : float64\n",
      "    array data : \n",
      " [[1. 1.]\n",
      " [1. 1.]\n",
      " [1. 1.]\n",
      " [1. 1.]\n",
      " [1. 1.]\n",
      " [1. 1.]\n",
      " [1. 1.]]\n"
     ]
    }
   ],
   "source": [
    "ndarr_ones = np.ones((7, 2))\n",
    "\n",
    "np_print(ndarr_ones)"
   ]
  },
  {
   "cell_type": "markdown",
   "id": "6eebd8f9",
   "metadata": {},
   "source": [
    "<br>\n",
    "\n",
    "- `np.empty()` > row 3 * column 4 구조의 `ndarray` 생성"
   ]
  },
  {
   "cell_type": "code",
   "execution_count": 26,
   "id": "6216c975",
   "metadata": {},
   "outputs": [
    {
     "name": "stdout",
     "output_type": "stream",
     "text": [
      "\n",
      "    type : <class 'numpy.ndarray'>\n",
      "    shape : (3, 4)\n",
      "    ndim : 2\n",
      "    dtype : float64\n",
      "    array data : \n",
      " [[1. 1. 1. 1.]\n",
      " [1. 1. 1. 1.]\n",
      " [1. 1. 1. 1.]]\n"
     ]
    }
   ],
   "source": [
    "ndarr_empty = np.empty((3, 4))\n",
    "\n",
    "np_print(ndarr_empty)"
   ]
  },
  {
   "cell_type": "markdown",
   "id": "4785b391",
   "metadata": {},
   "source": [
    "<br>\n",
    "\n",
    "### 2.6. like method\n",
    "\n",
    "- 전달받은 `ndarray`와 동일한 shape으로 > 새로운 `ndarray` 생성\n",
    "    \n",
    "    1. `np.zeros_like()`: 초기값 == 0\n",
    "    \n",
    "    2. `np.ones_like()`: 초기값 == 1\n",
    "    \n",
    "    3. `np.full_like()`: 초기값 == fill_vaule"
   ]
  },
  {
   "cell_type": "markdown",
   "id": "835c9033",
   "metadata": {},
   "source": [
    "<br>\n",
    "\n",
    "- `np.ones_like()`\n",
    "\n",
    "<br>\n",
    "\n",
    "- 2 * 3 구조, 1 ~ 6으로 구성된 `ndarray`"
   ]
  },
  {
   "cell_type": "code",
   "execution_count": 27,
   "id": "003fa370",
   "metadata": {},
   "outputs": [
    {
     "name": "stdout",
     "output_type": "stream",
     "text": [
      "\n",
      "    type : <class 'numpy.ndarray'>\n",
      "    shape : (2, 3)\n",
      "    ndim : 2\n",
      "    dtype : int32\n",
      "    array data : \n",
      " [[1 2 3]\n",
      " [4 5 6]]\n"
     ]
    }
   ],
   "source": [
    "data_list = [[1, 2, 3], [4, 5, 6]]\n",
    "\n",
    "my_ndarr = np.array(data_list)\n",
    "np_print(my_ndarr)"
   ]
  },
  {
   "cell_type": "code",
   "execution_count": 28,
   "id": "2a376083",
   "metadata": {},
   "outputs": [
    {
     "name": "stdout",
     "output_type": "stream",
     "text": [
      "\n",
      "    type : <class 'numpy.ndarray'>\n",
      "    shape : (2, 3)\n",
      "    ndim : 2\n",
      "    dtype : int32\n",
      "    array data : \n",
      " [[1 1 1]\n",
      " [1 1 1]]\n"
     ]
    }
   ],
   "source": [
    "ones_like_ndarr = np.ones_like(my_ndarr)\n",
    "\n",
    "np_print(ones_like_ndarr)"
   ]
  },
  {
   "cell_type": "markdown",
   "id": "e6bfffdd",
   "metadata": {},
   "source": [
    "## 3. 범위, 조건 있는 1차원 배열 생성 및 초기화 method\n",
    "\n",
    "- 범위와 조건이 있는 data를 가지는 1차원 배열 생성 및 초기화 method\n",
    "    \n",
    "    1. `np.linspace()`\n",
    "    \n",
    "    2. `np.arange()`\n",
    "    \n",
    "    3. `np.logspace()`\n",
    "\n",
    "<br>\n",
    "\n",
    "### 3.1. `np.linspace(start, stop)`\n",
    "\n",
    "> `np.linspace(start, stop, num=50, endpoint=True, retstep=False, dtype=None)`\n",
    "\n",
    "- 시작값`start`부터 마지막값`stop`까지의 범위   \n",
    "\\> **균등한 간격**으로 일정 개수`num`개의 data를 가지는 배열 생성\n",
    "\n",
    "- `num`: 데이터 개수, default == 50\n",
    "\n",
    "- `endpoint`: `ndarray`에 stop값을 포함 or 제외 조건 지정,   \n",
    "default == True (포함)\n",
    "\n",
    "- `retstep` :True > `(배열, data사이 간격값)` tuple return,   \n",
    "defalut == False (return `ndarray`)\n",
    "\n",
    "- `dtype` :배열의 data type을 지정, default == `None`"
   ]
  },
  {
   "cell_type": "markdown",
   "id": "df79ce9a",
   "metadata": {},
   "source": [
    "<br>\n",
    "\n",
    "- 0이상 1이하의 범위에서 숫자 5개를 포함하는 배열"
   ]
  },
  {
   "cell_type": "code",
   "execution_count": 29,
   "id": "4f2ab64b",
   "metadata": {},
   "outputs": [
    {
     "name": "stdout",
     "output_type": "stream",
     "text": [
      "\n",
      "    type : <class 'numpy.ndarray'>\n",
      "    shape : (5,)\n",
      "    ndim : 1\n",
      "    dtype : float64\n",
      "    array data : \n",
      " [0.   0.25 0.5  0.75 1.  ]\n"
     ]
    }
   ],
   "source": [
    "ndarr_linspace = np.linspace(0, 1, num=5)\n",
    "\n",
    "np_print(ndarr_linspace)"
   ]
  },
  {
   "cell_type": "markdown",
   "id": "4f1ba5e9",
   "metadata": {},
   "source": [
    "<br>\n",
    "\n",
    "- `endpoint=False`"
   ]
  },
  {
   "cell_type": "code",
   "execution_count": 30,
   "id": "b7b0725d",
   "metadata": {},
   "outputs": [
    {
     "name": "stdout",
     "output_type": "stream",
     "text": [
      "\n",
      "    type : <class 'numpy.ndarray'>\n",
      "    shape : (5,)\n",
      "    ndim : 1\n",
      "    dtype : float64\n",
      "    array data : \n",
      " [0.  0.2 0.4 0.6 0.8]\n"
     ]
    }
   ],
   "source": [
    "endpoint_false = np.linspace(0, 1, num=5, endpoint=False)\n",
    "\n",
    "np_print(endpoint_false)"
   ]
  },
  {
   "cell_type": "markdown",
   "id": "539c78ec",
   "metadata": {},
   "source": [
    "<br>\n",
    "\n",
    "- `retstep` 설정 > return `(ndarray, data사이 간격값)` tuple"
   ]
  },
  {
   "cell_type": "code",
   "execution_count": 31,
   "id": "e956bde0",
   "metadata": {},
   "outputs": [
    {
     "name": "stdout",
     "output_type": "stream",
     "text": [
      "(array([0.  , 0.25, 0.5 , 0.75, 1.  ]), 0.25)\n"
     ]
    }
   ],
   "source": [
    "linspace_retstep = np.linspace(0, 1, num=5, retstep=True)\n",
    "\n",
    "print(linspace_retstep)"
   ]
  },
  {
   "cell_type": "markdown",
   "id": "03c82c68",
   "metadata": {},
   "source": [
    "<br>\n",
    "\n",
    "### 3.2. `np.arange(stop)`\n",
    "\n",
    "> `np.arange(start=0, stop, step=1, dtype=None)`\n",
    "\n",
    "- 시작값`start`부터 마지막값`stop` 사이의 범위,   \n",
    "지정한 간격`step`으로 일정 개수`num`개의 데이터를 가지는 배열 생성\n",
    "\n",
    "- `stop` 포함하지 않음 > 파이썬 내장함수 `range()`와 유사\n",
    "\n",
    "- `start`: 시작값, default == 0\n",
    "\n",
    "- `stop`: 마지막값, **범위에 포함되지 않음**\n",
    "\n",
    "- `step`: 데이터 사이의 간격, default == 1\n",
    "\n",
    "- `dtype` : 배열의 데이터 타입을 지정, default == `None`"
   ]
  },
  {
   "cell_type": "code",
   "execution_count": 32,
   "id": "06454b3a",
   "metadata": {},
   "outputs": [
    {
     "data": {
      "text/plain": [
       "[0, 1, 2, 3, 4]"
      ]
     },
     "execution_count": 32,
     "metadata": {},
     "output_type": "execute_result"
    }
   ],
   "source": [
    "list(range(5))"
   ]
  },
  {
   "cell_type": "markdown",
   "id": "ed127cf7",
   "metadata": {},
   "source": [
    "<br>\n",
    "\n",
    "- 0이상 5미만 범위, 1씩 증가하는 정수 data가진 `ndarray` 생성"
   ]
  },
  {
   "cell_type": "code",
   "execution_count": 33,
   "id": "bd278faf",
   "metadata": {},
   "outputs": [
    {
     "name": "stdout",
     "output_type": "stream",
     "text": [
      "\n",
      "    type : <class 'numpy.ndarray'>\n",
      "    shape : (5,)\n",
      "    ndim : 1\n",
      "    dtype : int32\n",
      "    array data : \n",
      " [0 1 2 3 4]\n"
     ]
    }
   ],
   "source": [
    "ndarr_arange = np.arange(5)\n",
    "\n",
    "np_print(ndarr_arange)"
   ]
  },
  {
   "cell_type": "markdown",
   "id": "099ccc80",
   "metadata": {},
   "source": [
    "<br>\n",
    "\n",
    "- `start`, `stop`, `step` 설정\n",
    "- 0 이상, 5 미만, 0.5씩 증가하는 숫자를 가진 `ndarray`"
   ]
  },
  {
   "cell_type": "code",
   "execution_count": 34,
   "id": "bf7fde0a",
   "metadata": {},
   "outputs": [
    {
     "name": "stdout",
     "output_type": "stream",
     "text": [
      "\n",
      "    type : <class 'numpy.ndarray'>\n",
      "    shape : (10,)\n",
      "    ndim : 1\n",
      "    dtype : float64\n",
      "    array data : \n",
      " [0.  0.5 1.  1.5 2.  2.5 3.  3.5 4.  4.5]\n"
     ]
    }
   ],
   "source": [
    "arange_5 = np.arange(0, 5, 0.5)\n",
    "\n",
    "np_print(arange_5)"
   ]
  },
  {
   "cell_type": "markdown",
   "id": "142e06a8",
   "metadata": {},
   "source": [
    "<br>\n",
    "\n",
    "- `ndarray` assigned by > `np.arange(1, 5)` method vs. `ndarr.reshape(1, 4)` method\n",
    "\n",
    "   \\> differs in `shape` and `ndim`"
   ]
  },
  {
   "cell_type": "code",
   "execution_count": 35,
   "id": "82eb348b",
   "metadata": {},
   "outputs": [
    {
     "name": "stdout",
     "output_type": "stream",
     "text": [
      "\n",
      "    type : <class 'numpy.ndarray'>\n",
      "    shape : (4,)\n",
      "    ndim : 1\n",
      "    dtype : int32\n",
      "    array data : \n",
      " [1 2 3 4]\n",
      "\n",
      "    type : <class 'numpy.ndarray'>\n",
      "    shape : (1, 4)\n",
      "    ndim : 2\n",
      "    dtype : int32\n",
      "    array data : \n",
      " [[1 2 3 4]]\n"
     ]
    }
   ],
   "source": [
    "arange_ndarr = np.arange(1, 5)\n",
    "\n",
    "tmp_list = [1, 2, 3, 4]\n",
    "my_ndarr = np.array(tmp_list)\n",
    "reshape_ndarr = my_ndarr.reshape(1, 4)\n",
    "\n",
    "np_print(arange_ndarr)\n",
    "np_print(reshape_ndarr)"
   ]
  },
  {
   "cell_type": "markdown",
   "id": "b57b4329",
   "metadata": {},
   "source": [
    "### 3.3. `np.logspace(start, stop)`\n",
    "\n",
    "> `np.logspace(start, stop, num=50, endpoint=True, dtype=None)`\n",
    "\n",
    "- 시작값`start`부터 마지막값`stop`사이의 **log scale**로 지정된 range에서    \n",
    "균등한 간격으로 일정 개수`num`의 data를 가지는 `ndarray`생성\n",
    "\n",
    "- `num`: data 개수, default == 50\n",
    "\n",
    "- `endpoint`: 마지막값에 `stop`을 포함 or 제외 조건, default == `True` (포함)\n",
    "\n",
    "- `dtype`: `ndarray` data type, default == `None`"
   ]
  },
  {
   "cell_type": "markdown",
   "id": "095eabba",
   "metadata": {},
   "source": [
    "<br>\n",
    "\n",
    "- 0이상 1이하 range, log scale 적용, 50개 data를 가진 `ndarray`\n",
    "\n",
    "- `밑 == 10` log값 기준 > 10의 지수가 0이상 1이하일 때의 진수값"
   ]
  },
  {
   "cell_type": "code",
   "execution_count": 36,
   "id": "03e1f96c",
   "metadata": {},
   "outputs": [
    {
     "name": "stdout",
     "output_type": "stream",
     "text": [
      "\n",
      "    type : <class 'numpy.ndarray'>\n",
      "    shape : (50,)\n",
      "    ndim : 1\n",
      "    dtype : float64\n",
      "    array data : \n",
      " [ 1.          1.04811313  1.09854114  1.1513954   1.20679264  1.26485522\n",
      "  1.32571137  1.38949549  1.45634848  1.52641797  1.59985872  1.67683294\n",
      "  1.75751062  1.84206997  1.93069773  2.02358965  2.12095089  2.22299648\n",
      "  2.32995181  2.44205309  2.55954792  2.6826958   2.8117687   2.9470517\n",
      "  3.0888436   3.23745754  3.39322177  3.55648031  3.72759372  3.90693994\n",
      "  4.09491506  4.29193426  4.49843267  4.71486636  4.94171336  5.17947468\n",
      "  5.42867544  5.68986603  5.96362332  6.25055193  6.55128557  6.86648845\n",
      "  7.19685673  7.54312006  7.90604321  8.28642773  8.68511374  9.10298178\n",
      "  9.54095476 10.        ]\n"
     ]
    }
   ],
   "source": [
    "log_ndarr = np.logspace(0, 1)\n",
    "\n",
    "np_print(log_ndarr)"
   ]
  },
  {
   "cell_type": "markdown",
   "id": "855c4fbc",
   "metadata": {},
   "source": [
    "<br>\n",
    "\n",
    "- `start=0`, `stop=3`, `num=4` > 상용로그의 지수가 0 ~ 3일 때의 진수값"
   ]
  },
  {
   "cell_type": "code",
   "execution_count": 37,
   "id": "818f9a69",
   "metadata": {},
   "outputs": [
    {
     "name": "stdout",
     "output_type": "stream",
     "text": [
      "\n",
      "    type : <class 'numpy.ndarray'>\n",
      "    shape : (4,)\n",
      "    ndim : 1\n",
      "    dtype : float64\n",
      "    array data : \n",
      " [   1.   10.  100. 1000.]\n"
     ]
    }
   ],
   "source": [
    "log_ndarr2 = np.logspace(0, 3, 4)\n",
    "\n",
    "np_print(log_ndarr2)"
   ]
  },
  {
   "cell_type": "markdown",
   "id": "26b5fae8",
   "metadata": {},
   "source": [
    "<br>\n",
    "\n",
    "- `endpoint=False`"
   ]
  },
  {
   "cell_type": "code",
   "execution_count": 38,
   "id": "3467e58c",
   "metadata": {},
   "outputs": [
    {
     "name": "stdout",
     "output_type": "stream",
     "text": [
      "\n",
      "    type : <class 'numpy.ndarray'>\n",
      "    shape : (40,)\n",
      "    ndim : 1\n",
      "    dtype : float64\n",
      "    array data : \n",
      " [1.         1.05925373 1.12201845 1.18850223 1.25892541 1.33352143\n",
      " 1.41253754 1.49623566 1.58489319 1.67880402 1.77827941 1.88364909\n",
      " 1.99526231 2.11348904 2.23872114 2.37137371 2.51188643 2.66072506\n",
      " 2.81838293 2.98538262 3.16227766 3.34965439 3.54813389 3.75837404\n",
      " 3.98107171 4.21696503 4.46683592 4.73151259 5.01187234 5.30884444\n",
      " 5.62341325 5.95662144 6.30957344 6.68343918 7.07945784 7.49894209\n",
      " 7.94328235 8.41395142 8.91250938 9.44060876]\n",
      "40\n"
     ]
    }
   ],
   "source": [
    "log_endpoint = np.logspace(0, 1, 40, endpoint=False)\n",
    "\n",
    "np_print(log_endpoint)\n",
    "print(len(log_endpoint))"
   ]
  },
  {
   "cell_type": "markdown",
   "id": "f7c7f3cc",
   "metadata": {},
   "source": [
    "## 4. 난수 배열 생성 및 초기화\n",
    "\n",
    "- 난수(특정한 순서나 규칙을 가지지 않는 무작위의 수)를 data로 가지는 `ndarray`를 생성\n",
    "\n",
    "    1. `np.random.normal()`\n",
    "\n",
    "    2. `np.random.rand()`\n",
    "\n",
    "    3. `np.random.randn()`\n",
    "\n",
    "    4. `np.random.randint()`\n",
    "\n",
    "    5. `np.random.random()`"
   ]
  },
  {
   "cell_type": "markdown",
   "id": "1efae02f",
   "metadata": {},
   "source": [
    "### 4.1. `np.random.normal(loc=0.0, scale=1.0, size=None)`\n",
    "\n",
    "- 정규 분포 확률 밀도에서 표본을 추출하여 데이터로 가지는 배열을 생성\n",
    "\n",
    "- `loc`(location parameter): 정규분포의 **평균**, default == `0.0`\n",
    "\n",
    "- `scale`(scale parameter): 정규분포의 **표준편차**, default == `1.0`\n",
    "\n",
    "- `size`: `(dim, row, col)`의 배열 구조, type == iterator,   \n",
    "default == `single value`(배열이 아닌 하나의 값을 반환)"
   ]
  },
  {
   "cell_type": "markdown",
   "id": "a02c2c6e",
   "metadata": {},
   "source": [
    "#### 분포의 종류\n",
    "\n",
    "1. 균등분포 : 모든 요소가 출력될 확률이 동등한 경우 e.g. 로또 번호\n",
    "\n",
    "2. 정규분포 : 평균에 가까울수록 출력될 확률이 높고 평균에서 멀어질수록 확률이 낮아짐 e.g. 키, 시험 성적 "
   ]
  },
  {
   "cell_type": "markdown",
   "id": "c35b048f",
   "metadata": {},
   "source": [
    "<br>\n",
    "\n",
    "- 평균 0, 표준편차 1로 난수 생성"
   ]
  },
  {
   "cell_type": "code",
   "execution_count": 39,
   "id": "34193eab",
   "metadata": {},
   "outputs": [
    {
     "name": "stdout",
     "output_type": "stream",
     "text": [
      "-0.05688055908292251\n"
     ]
    }
   ],
   "source": [
    "rand_normal = np.random.normal(0, 1)\n",
    "\n",
    "print(rand_normal)"
   ]
  },
  {
   "cell_type": "markdown",
   "id": "983c69b6",
   "metadata": {},
   "source": [
    "<br>\n",
    "\n",
    "#### 분산과 표준편차\n",
    "\n",
    "- (집단간 평균이 같다) != (집단간 분포가 같다)\n",
    "\n",
    "- 분산: 평균에서 각 요소가 얼마나 멀리 떨어져 있는지 나타내는 값, 척도   \n",
    "== $\\frac{\\sum{{(x-\\bar{x})^2}}}{n} = \\sigma^2$ \n",
    "\n",
    "- 분산의 제곱근 $\\sigma$ == 표준편차 > 분포 확인 가능 > 상대평가 가능"
   ]
  },
  {
   "cell_type": "markdown",
   "id": "e739752d",
   "metadata": {},
   "source": [
    "<br>\n",
    "\n",
    "- `size=(2, 3)` > 2 row * 3 column, `size=tuple`"
   ]
  },
  {
   "cell_type": "code",
   "execution_count": 40,
   "id": "fcf8baf7",
   "metadata": {},
   "outputs": [
    {
     "name": "stdout",
     "output_type": "stream",
     "text": [
      "\n",
      "    type : <class 'numpy.ndarray'>\n",
      "    shape : (2, 3)\n",
      "    ndim : 2\n",
      "    dtype : float64\n",
      "    array data : \n",
      " [[ 1.94726917 -0.31918651 -0.86195932]\n",
      " [ 0.24981976 -0.48809284  1.50304687]]\n",
      "\n",
      "    type : <class 'numpy.ndarray'>\n",
      "    shape : (1, 2, 3)\n",
      "    ndim : 3\n",
      "    dtype : float64\n",
      "    array data : \n",
      " [[[-0.54361855 -0.09160707 -0.35682056]\n",
      "  [ 0.17740092  2.32783858  0.47898444]]]\n"
     ]
    }
   ],
   "source": [
    "rand_normal_size = np.random.normal(size=(2, 3))\n",
    "np_print(rand_normal_size)\n",
    "\n",
    "rand_normal_dim = np.random.normal(size=(1, 2, 3))\n",
    "np_print(rand_normal_dim)"
   ]
  },
  {
   "cell_type": "markdown",
   "id": "9f5eff24",
   "metadata": {},
   "source": [
    "<br>\n",
    "\n",
    "- 정규분포 data로 이루어진 배열에 대한 시각화\n",
    "- $\\bar{x}=10, \\sigma^2=2$, 정규분포에서 추출한 10000개의 data"
   ]
  },
  {
   "cell_type": "code",
   "execution_count": 41,
   "id": "77869c93",
   "metadata": {},
   "outputs": [
    {
     "name": "stdout",
     "output_type": "stream",
     "text": [
      "[ 8.22447701 11.67666043 12.06940306 ... 14.12389629 12.15214235\n",
      " 12.51556375]\n"
     ]
    }
   ],
   "source": [
    "rand_normal_data = np.random.normal(10, 2, 10000)\n",
    "\n",
    "print(rand_normal_data)"
   ]
  },
  {
   "cell_type": "markdown",
   "id": "e9923bbd",
   "metadata": {},
   "source": [
    "- $\\bar{x}\\pm(\\sigma^2\\times 1)$ > 8 ~ 12 > 약 68%\n",
    "- $\\bar{x}\\pm(\\sigma^2\\times 1.96)$ > 6.08 ~ 13.92 > 약 95% "
   ]
  },
  {
   "cell_type": "markdown",
   "id": "f080b55f",
   "metadata": {},
   "source": [
    "<br>\n",
    "\n",
    "- 시각화 라이브러리 `matplotlib.pyplot`"
   ]
  },
  {
   "cell_type": "code",
   "execution_count": 42,
   "id": "04da8235",
   "metadata": {},
   "outputs": [],
   "source": [
    "import matplotlib.pyplot as plt"
   ]
  },
  {
   "cell_type": "markdown",
   "id": "ad7a6556",
   "metadata": {},
   "source": [
    "<br>\n",
    "\n",
    "- `bins=n`: 구간의 개수 == `n`: bins가 커지면 > 막대 폭이 작아짐\n",
    "\n",
    "- 100개 구간으로 구분한 분포"
   ]
  },
  {
   "cell_type": "code",
   "execution_count": 43,
   "id": "a62b51f9",
   "metadata": {},
   "outputs": [
    {
     "data": {
      "text/plain": [
       "<function matplotlib.pyplot.show(close=None, block=None)>"
      ]
     },
     "execution_count": 43,
     "metadata": {},
     "output_type": "execute_result"
    },
    {
     "data": {
      "image/png": "[encoded data removed]",
      "text/plain": [
       "<Figure size 432x288 with 1 Axes>"
      ]
     },
     "metadata": {
      "needs_background": "light"
     },
     "output_type": "display_data"
    }
   ],
   "source": [
    "plt.hist(rand_normal_data, bins=100)\n",
    "plt.show"
   ]
  },
  {
   "cell_type": "markdown",
   "id": "cd46a9e8",
   "metadata": {},
   "source": [
    "<br>\n",
    "\n",
    "### 4.2. `np.random.rand(d0, d1, d2, ... , dn)`\n",
    "\n",
    "- 지정 shape`(d0, d1, d2, ... , dn)`에 따라 `ndarray`를 생성 > 난수로 초기화\n",
    "\n",
    "- 사용되는 난수: 0이상 1미만의 범위, **균등 분포**로 추출"
   ]
  },
  {
   "cell_type": "markdown",
   "id": "bcbec54a",
   "metadata": {},
   "source": [
    "<br>\n",
    "\n",
    "- `d0=2`, `d1= 3` > row 2 * col 3 shape"
   ]
  },
  {
   "cell_type": "code",
   "execution_count": 44,
   "id": "c4348d0a",
   "metadata": {},
   "outputs": [
    {
     "name": "stdout",
     "output_type": "stream",
     "text": [
      "\n",
      "    type : <class 'numpy.ndarray'>\n",
      "    shape : (2, 3)\n",
      "    ndim : 2\n",
      "    dtype : float64\n",
      "    array data : \n",
      " [[0.37540387 0.93054526 0.87832898]\n",
      " [0.71373217 0.66533096 0.54885082]]\n"
     ]
    }
   ],
   "source": [
    "rand_rand = np.random.rand(2, 3)\n",
    "\n",
    "np_print(rand_rand)"
   ]
  },
  {
   "cell_type": "markdown",
   "id": "3af8ded0",
   "metadata": {},
   "source": [
    "<br>\n",
    "\n",
    "- 1000개의 균등분포 data `ndarray` > 10개 구간으로 구분한 분포 시각화"
   ]
  },
  {
   "cell_type": "code",
   "execution_count": 45,
   "id": "9011acd4",
   "metadata": {},
   "outputs": [
    {
     "data": {
      "text/plain": [
       "<function matplotlib.pyplot.show(close=None, block=None)>"
      ]
     },
     "execution_count": 45,
     "metadata": {},
     "output_type": "execute_result"
    },
    {
     "data": {
      "image/png": "[encoded data removed]",
      "text/plain": [
       "<Figure size 432x288 with 1 Axes>"
      ]
     },
     "metadata": {
      "needs_background": "light"
     },
     "output_type": "display_data"
    }
   ],
   "source": [
    "rand_rand_data = np.random.rand(1000)\n",
    "\n",
    "plt.hist(rand_rand_data, 10)\n",
    "plt.show"
   ]
  },
  {
   "cell_type": "markdown",
   "id": "6bff2b67",
   "metadata": {},
   "source": [
    "<br>\n",
    "\n",
    "- `Numpy.ndarray`: 곱연산`*` > 반복 연장X, 내장 data 하나 하나에 곱연산"
   ]
  },
  {
   "cell_type": "code",
   "execution_count": 46,
   "id": "889552d6",
   "metadata": {},
   "outputs": [
    {
     "data": {
      "text/plain": [
       "array([10, 20, 30, 40])"
      ]
     },
     "execution_count": 46,
     "metadata": {},
     "output_type": "execute_result"
    }
   ],
   "source": [
    "np.array([1, 2, 3, 4]) * 10"
   ]
  },
  {
   "cell_type": "markdown",
   "id": "cebc50d8",
   "metadata": {},
   "source": [
    "<br>\n",
    "\n",
    "### 4.3. `np.random.randn(d0, d1, d2, ..., dn)`\n",
    "\n",
    "- 지정 shape`(d0, d1, d2, ..., dn)`에 따라 배열 생성, 난수로 초기화\n",
    "\n",
    "- 사용되는 난수: **표준정규분포**에서 추출된 data"
   ]
  },
  {
   "cell_type": "code",
   "execution_count": 47,
   "id": "97861494",
   "metadata": {},
   "outputs": [
    {
     "name": "stdout",
     "output_type": "stream",
     "text": [
      "\n",
      "    type : <class 'numpy.ndarray'>\n",
      "    shape : (2, 4)\n",
      "    ndim : 2\n",
      "    dtype : float64\n",
      "    array data : \n",
      " [[-2.01654289  0.03144741  1.01908473 -0.281456  ]\n",
      " [ 0.11866269 -1.21946902  0.6647114   0.26538031]]\n"
     ]
    }
   ],
   "source": [
    "rand_randn = np.random.randn(2, 4)\n",
    "\n",
    "np_print(rand_randn)"
   ]
  },
  {
   "cell_type": "markdown",
   "id": "866a84bf",
   "metadata": {},
   "source": [
    "<br>\n",
    "\n",
    "- $\\bar{x}=0, \\sigma^2=1$, 표준정규분포에서 추출한 1000개의 정규분포 data, 100개의 구간"
   ]
  },
  {
   "cell_type": "code",
   "execution_count": 48,
   "id": "f7c0ec3b",
   "metadata": {},
   "outputs": [
    {
     "data": {
      "text/plain": [
       "<function matplotlib.pyplot.show(close=None, block=None)>"
      ]
     },
     "execution_count": 48,
     "metadata": {},
     "output_type": "execute_result"
    },
    {
     "data": {
      "image/png": "[encoded data removed]",
      "text/plain": [
       "<Figure size 432x288 with 1 Axes>"
      ]
     },
     "metadata": {
      "needs_background": "light"
     },
     "output_type": "display_data"
    }
   ],
   "source": [
    "visual_randn = np.random.randn(1000)\n",
    "\n",
    "plt.hist(visual_randn, 100)\n",
    "plt.show"
   ]
  },
  {
   "cell_type": "markdown",
   "id": "c0acc33d",
   "metadata": {},
   "source": [
    "<br>\n",
    "\n",
    "### 4.4. `np.random.randint(low)`\n",
    "\n",
    "> `np.random.randint(low, high=None, size=None, dtype=I)`\n",
    "\n",
    "- `low`이상, `high`미만의 범위에서, 정수로 구성된 data > `size`의 배열 생성\n",
    "\n",
    "- `low`: `high`값이 지정되지 않으면, `low`값이 최대값(포함X)로 설정\n",
    "\n",
    "- `high`: 최대값(포함X), default == `None`\n",
    "\n",
    "- `size`: 배열의 구조, default == `None` > 배열이 아닌 하나의 값 반환"
   ]
  },
  {
   "cell_type": "markdown",
   "id": "33db8e1f",
   "metadata": {},
   "source": [
    "<br>\n",
    "\n",
    "- 1미만의 값 한 개 추출\n",
    "\n",
    "- `size` 미지정시 1개의 data로 인식 > shape item 존재하지 않음"
   ]
  },
  {
   "cell_type": "code",
   "execution_count": 50,
   "id": "3855fc3a",
   "metadata": {},
   "outputs": [
    {
     "name": "stdout",
     "output_type": "stream",
     "text": [
      "0\n"
     ]
    }
   ],
   "source": [
    "rand_randint = np.random.randint(1)\n",
    "\n",
    "print(rand_randint)"
   ]
  },
  {
   "cell_type": "markdown",
   "id": "4179eaa4",
   "metadata": {},
   "source": [
    "\n",
    "\n",
    "<br>"
   ]
  },
  {
   "cell_type": "markdown",
   "id": "b8f4db6b",
   "metadata": {},
   "source": [
    "<br>\n",
    "\n",
    "- 0이상 3미만 정수 10개 추출"
   ]
  },
  {
   "cell_type": "code",
   "execution_count": 51,
   "id": "119a8c67",
   "metadata": {},
   "outputs": [
    {
     "name": "stdout",
     "output_type": "stream",
     "text": [
      "\n",
      "    type : <class 'numpy.ndarray'>\n",
      "    shape : (10,)\n",
      "    ndim : 1\n",
      "    dtype : int32\n",
      "    array data : \n",
      " [1 1 0 2 0 0 1 2 1 2]\n"
     ]
    }
   ],
   "source": [
    "randint_under_3 = np.random.randint(0, 3, size=10)\n",
    "\n",
    "np_print(randint_under_3)"
   ]
  },
  {
   "cell_type": "markdown",
   "id": "ebfb3ce1",
   "metadata": {},
   "source": [
    "<br>\n",
    "\n",
    "- 3초과 10미만 정수, `size=(2, 4)` > 2행 * 4열 배열로 추출 "
   ]
  },
  {
   "cell_type": "code",
   "execution_count": 52,
   "id": "28aa044f",
   "metadata": {},
   "outputs": [
    {
     "name": "stdout",
     "output_type": "stream",
     "text": [
      "\n",
      "    type : <class 'numpy.ndarray'>\n",
      "    shape : (2, 4)\n",
      "    ndim : 2\n",
      "    dtype : int32\n",
      "    array data : \n",
      " [[8 7 7 8]\n",
      " [4 8 9 5]]\n"
     ]
    }
   ],
   "source": [
    "randint_2_4 = np.random.randint(4, 10, size=(2, 4))\n",
    "\n",
    "np_print(randint_2_4)"
   ]
  },
  {
   "cell_type": "markdown",
   "id": "d27612a2",
   "metadata": {},
   "source": [
    "<br>\n",
    "\n",
    "- -100 이상 +100 미만 정수 범위, 10000개 균등분포 data, 5개 구간 시각화"
   ]
  },
  {
   "cell_type": "code",
   "execution_count": 53,
   "id": "f186483f",
   "metadata": {},
   "outputs": [
    {
     "name": "stdout",
     "output_type": "stream",
     "text": [
      "\n",
      "    type : <class 'numpy.ndarray'>\n",
      "    shape : (10000,)\n",
      "    ndim : 1\n",
      "    dtype : int32\n",
      "    array data : \n",
      " [  0 -67  94 ... -69 -41  63]\n"
     ]
    },
    {
     "data": {
      "text/plain": [
       "<function matplotlib.pyplot.show(close=None, block=None)>"
      ]
     },
     "execution_count": 53,
     "metadata": {},
     "output_type": "execute_result"
    },
    {
     "data": {
      "image/png": "[encoded data removed]",
      "text/plain": [
       "<Figure size 432x288 with 1 Axes>"
      ]
     },
     "metadata": {
      "needs_background": "light"
     },
     "output_type": "display_data"
    }
   ],
   "source": [
    "randint_data = np.random.randint(-100, 101, 10000)\n",
    "np_print(randint_data)\n",
    "\n",
    "plt.hist(randint_data, 5)\n",
    "plt.show"
   ]
  },
  {
   "cell_type": "markdown",
   "id": "924a56fb",
   "metadata": {},
   "source": [
    "### 4.5. `np.random.random(size=None)`\n",
    "\n",
    "- 0 이상 1 미만의 실수 data > `size` 배열 생성"
   ]
  },
  {
   "cell_type": "code",
   "execution_count": 54,
   "id": "0ada4ef2",
   "metadata": {},
   "outputs": [
    {
     "name": "stdout",
     "output_type": "stream",
     "text": [
      "\n",
      "    type : <class 'numpy.ndarray'>\n",
      "    shape : (3, 5)\n",
      "    ndim : 2\n",
      "    dtype : float64\n",
      "    array data : \n",
      " [[0.27844618 0.09528256 0.98012785 0.17148586 0.45162869]\n",
      " [0.21224913 0.7088819  0.44006888 0.94476021 0.28832546]\n",
      " [0.91190506 0.19758054 0.14905696 0.8890579  0.7497559 ]]\n"
     ]
    }
   ],
   "source": [
    "rand_random = np.random.random(size=(3, 5))\n",
    "\n",
    "np_print(rand_random)"
   ]
  },
  {
   "cell_type": "markdown",
   "id": "8ab86ddd",
   "metadata": {},
   "source": [
    "- 0이상 1미만의 실수 data 1000개 추출, 10구간으로 분포, 시각화"
   ]
  },
  {
   "cell_type": "code",
   "execution_count": 55,
   "id": "178fed28",
   "metadata": {},
   "outputs": [
    {
     "data": {
      "text/plain": [
       "<function matplotlib.pyplot.show(close=None, block=None)>"
      ]
     },
     "execution_count": 55,
     "metadata": {},
     "output_type": "execute_result"
    },
    {
     "data": {
      "image/png": "[encoded data removed]",
      "text/plain": [
       "<Figure size 432x288 with 1 Axes>"
      ]
     },
     "metadata": {
      "needs_background": "light"
     },
     "output_type": "display_data"
    }
   ],
   "source": [
    "rand_random_data = np.random.random(size=(1000))\n",
    "\n",
    "plt.hist(rand_random_data, 10)\n",
    "plt.show"
   ]
  },
  {
   "cell_type": "markdown",
   "id": "9df3ca7a",
   "metadata": {},
   "source": [
    "<br>\n",
    "\n",
    "## 5. 난수 == 무작위의 숫자\n",
    "\n",
    "- programming에서 추출되는 난수는 무작위로 만들어진 것 처럼 보이지만   \n",
    "실제로는 고정된 기준(시작점)을 가지고 규칙적으로 생성\n",
    "\n",
    "- 고정된 기준(시작점)을 설정 > 동일한 난수 생성 가능\n",
    "\n",
    "- 난수의 시작점 설정 method: `np.random.seed()`"
   ]
  },
  {
   "cell_type": "markdown",
   "id": "e12f2e8a",
   "metadata": {},
   "source": [
    "<br>\n",
    "\n",
    "### 5.1. 난수 시작점 설정하기 > `np.random.seed(num)`\n",
    "\n",
    "- num == 100"
   ]
  },
  {
   "cell_type": "code",
   "execution_count": 64,
   "id": "84ed2a93",
   "metadata": {},
   "outputs": [],
   "source": [
    "np.random.seed(100)"
   ]
  },
  {
   "cell_type": "markdown",
   "id": "9ca705c1",
   "metadata": {},
   "source": [
    "<br>\n",
    "\n",
    "- 0이상 1미만 지정범위에서 실수값을 가지는 3행 * 3열 난수 배열 생성"
   ]
  },
  {
   "cell_type": "code",
   "execution_count": 65,
   "id": "edcd42d1",
   "metadata": {},
   "outputs": [
    {
     "name": "stdout",
     "output_type": "stream",
     "text": [
      "\n",
      "    type : <class 'numpy.ndarray'>\n",
      "    shape : (3, 3)\n",
      "    ndim : 2\n",
      "    dtype : float64\n",
      "    array data : \n",
      " [[0.54340494 0.27836939 0.42451759]\n",
      " [0.84477613 0.00471886 0.12156912]\n",
      " [0.67074908 0.82585276 0.13670659]]\n"
     ]
    }
   ],
   "source": [
    "np_print(np.random.random(size=(3, 3)))"
   ]
  },
  {
   "cell_type": "markdown",
   "id": "c224ac48",
   "metadata": {},
   "source": [
    "<br>\n",
    "\n",
    "- 0이상 5미만의 지정범위에서 정수값을 가지는 2행*2열 난수 생성"
   ]
  },
  {
   "cell_type": "code",
   "execution_count": 66,
   "id": "168879e6",
   "metadata": {},
   "outputs": [
    {
     "name": "stdout",
     "output_type": "stream",
     "text": [
      "\n",
      "    type : <class 'numpy.ndarray'>\n",
      "    shape : (2, 2)\n",
      "    ndim : 2\n",
      "    dtype : int32\n",
      "    array data : \n",
      " [[0 4]\n",
      " [3 4]]\n"
     ]
    }
   ],
   "source": [
    "np_print(np.random.randint(0, 5, size=(2,2)))"
   ]
  },
  {
   "cell_type": "markdown",
   "id": "3697a38a",
   "metadata": {},
   "source": [
    "<br>\n",
    "\n",
    "### 5.2. 난수 시작점 초기화: `np.random.seed()`\n",
    ": parameter 기입하지 않고 실행 시 초기화"
   ]
  },
  {
   "cell_type": "code",
   "execution_count": 67,
   "id": "9cca15a1",
   "metadata": {},
   "outputs": [
    {
     "name": "stdout",
     "output_type": "stream",
     "text": [
      "\n",
      "    type : <class 'numpy.ndarray'>\n",
      "    shape : (3, 3)\n",
      "    ndim : 2\n",
      "    dtype : float64\n",
      "    array data : \n",
      " [[0.6873075  0.15580025 0.76627038]\n",
      " [0.05351767 0.32964733 0.72160044]\n",
      " [0.02114163 0.07678144 0.93979518]]\n",
      "\n",
      "    type : <class 'numpy.ndarray'>\n",
      "    shape : (2, 2)\n",
      "    ndim : 2\n",
      "    dtype : int32\n",
      "    array data : \n",
      " [[0 1]\n",
      " [4 1]]\n"
     ]
    }
   ],
   "source": [
    "np.random.seed()\n",
    "\n",
    "np_print(np.random.random(size=(3, 3)))\n",
    "\n",
    "np_print(np.random.randint(0, 5, size=(2, 2)))"
   ]
  }
 ],
 "metadata": {
  "kernelspec": {
   "display_name": "Python 3 (ipykernel)",
   "language": "python",
   "name": "python3"
  },
  "language_info": {
   "codemirror_mode": {
    "name": "ipython",
    "version": 3
   },
   "file_extension": ".py",
   "mimetype": "text/x-python",
   "name": "python",
   "nbconvert_exporter": "python",
   "pygments_lexer": "ipython3",
   "version": "3.9.12"
  }
 },
 "nbformat": 4,
 "nbformat_minor": 5
}
