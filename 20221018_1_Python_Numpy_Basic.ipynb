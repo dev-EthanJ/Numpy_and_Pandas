{
 "cells": [
  {
   "cell_type": "markdown",
   "id": "e969b00e",
   "metadata": {},
   "source": [
    "# Python NumPy Basic 파이썬 넘파이 기초"
   ]
  },
  {
   "cell_type": "markdown",
   "id": "40de6379",
   "metadata": {},
   "source": [
    "## NumPy (Numeriacal Python)\n",
    "\n",
    "- Python Machine learning package `scikit-learn`   \n",
    "\\> `NumPy` 제공 배열 class data instance (`numpy.ndarray`) 객체를   \n",
    "\\> 기본 Data structure로 사용\n",
    "\n",
    "- Python 기반 Data Analysis environment    \n",
    "\\> 행렬(matrix) and 벡터(vector) operation에 필요한 다양한 method 제공\n",
    "\n",
    "- memory usage가 많은 loop 사용 없이, 전체 data array(`ndarray`)에   \n",
    "빠른 연산을 처리할 수 있는 표준 수학 function 제공\n",
    "\n",
    "> 배열(array) : 동일한 특성(data type) 및 일정한 규칙을 가지는   \n",
    "여러 개의 요소(items)가 나열되어 있는 Data set (structure)\n",
    "\n",
    "- Python list object를 사용할 때 보다, Numpy의 ndarray 객체를 사용하면   \n",
    "\\> 연산 속도가 개선 > 더 많은 데이터를 더 빠르게 처리"
   ]
  },
  {
   "cell_type": "code",
   "execution_count": 119,
   "id": "588ee158",
   "metadata": {},
   "outputs": [],
   "source": [
    "import numpy as np"
   ]
  },
  {
   "cell_type": "code",
   "execution_count": 120,
   "id": "e271c827",
   "metadata": {},
   "outputs": [
    {
     "data": {
      "text/plain": [
       "'1.21.5'"
      ]
     },
     "execution_count": 120,
     "metadata": {},
     "output_type": "execute_result"
    }
   ],
   "source": [
    "np.__version__"
   ]
  },
  {
   "cell_type": "markdown",
   "id": "c87d8260",
   "metadata": {},
   "source": [
    "## 0. Numpy 배열 : `numpy.ndarray`\n",
    "\n",
    "\\> 다차원 배열(1차원, 2차원, 3차원), 입체적인 데이터 구조를 구성,   \n",
    "여러 개의 데이터 방향을 가짐\n",
    "\n",
    "- 배열 속성: `shape`, `ndim`, `dtype` 등\n",
    "\n",
    "- 데이터 방향 : `axis`       \n",
    "= 0 (== row arrow 방향, → 방향, col 단위, height 단위),   \n",
    "= 1 (== col arrow 방향, ↓ 방향, row 단위, width 단위),   \n",
    "= 2 (== channel, depth)   \n",
    "\n",
    "<img src='https://github.com/insung-ethan-j/Basic_Python_with_Data/blob/ff6b0874aee8199a2d14b5b125a0e12234eecf6d/img/nparr1.jpg?raw=true' width='600' height='400' align='left'>"
   ]
  },
  {
   "cell_type": "markdown",
   "id": "700f584e",
   "metadata": {},
   "source": [
    "## 1. `ndarray` 배열 생성\n",
    "\n",
    "- `np.array(data)`\n",
    "    \n",
    "    - 파이썬 list obj를 전달받아 > numpy 배열(`ndarray`)로 반환\n",
    "    \n",
    "    - 배열 속성\n",
    "    \n",
    "        - `shape`: structure (row, col, dim)\n",
    "        \n",
    "        - `ndim`: dimension\n",
    "        \n",
    "        - `dtype`: data type > must be standaraized\n",
    "        \n",
    "        - `size`: item 개수 == n rows * n columns * n dimensions\n",
    "        \n",
    "    - 배열 method\n",
    "    \n",
    "        - `astype()`: data type 변환(str > float, int > str 등...)\n",
    "    \n",
    "    - Python function으로 확인 가능한 속성\n",
    "    \n",
    "        - `type()`: instance의 data type 확인\n",
    "        \n",
    "        - `len()`: item 내부의 data 길이.\n",
    "    \n",
    "    - NumPy method로 확인 가능한 속성\n",
    "        \n",
    "        - `reshape(row, column)`: 배열 구조(shape) 재배치   \n",
    "        (1 * 12 > 3 * 4, 4 * 5 > 2 * 10 등...)\n",
    "    \n",
    "    - `kind`: 데이터 종류에 대한 구분 기호\n",
    "        \n",
    "        - b: boolean\n",
    "        \n",
    "        - i: 정수(int)\n",
    "        \n",
    "        - u: 부호없는 정수(unsigned int, $\\pm$ 개념 없이 절대값만 존재)\n",
    "        \n",
    "        - f: 실수\n",
    "        \n",
    "        - c: 복소 부동소수점\n",
    "        \n",
    "        - O: 객체\n",
    "        \n",
    "        - S: 바이트 문자열(ascii 코드, 영문자, 일부 특수문자, 숫자)\n",
    "        \n",
    "        - U: 유니코드 문자열(한글, 태국어, 아랍어 등 영어 제외 문자)"
   ]
  },
  {
   "cell_type": "markdown",
   "id": "5809c36a",
   "metadata": {},
   "source": [
    "<br>\n",
    "\n",
    "- Python 1차원 list > Numpy `ndarry`로 변환"
   ]
  },
  {
   "cell_type": "code",
   "execution_count": 121,
   "id": "e53eecf0",
   "metadata": {},
   "outputs": [
    {
     "name": "stdout",
     "output_type": "stream",
     "text": [
      "[1 2 3 4 5 6]\n"
     ]
    }
   ],
   "source": [
    "tmp_list = [1, 2, 3, 4, 5, 6]\n",
    "\n",
    "my_ndarr = np.array(tmp_list)\n",
    "print(my_ndarr)"
   ]
  },
  {
   "cell_type": "markdown",
   "id": "1bd2d0c7",
   "metadata": {},
   "source": [
    "<br>\n",
    "\n",
    "## 1.1. 배열 객체 `ndarry`의 속성\n",
    "\n",
    "1. Data type: `numpy.ndarry`"
   ]
  },
  {
   "cell_type": "code",
   "execution_count": 122,
   "id": "8edfcab0",
   "metadata": {},
   "outputs": [
    {
     "name": "stdout",
     "output_type": "stream",
     "text": [
      "<class 'list'>\n",
      "<class 'numpy.ndarray'>\n"
     ]
    }
   ],
   "source": [
    "print(type(tmp_list))\n",
    "print(type(my_ndarr))"
   ]
  },
  {
   "cell_type": "markdown",
   "id": "5b5fc1bf",
   "metadata": {},
   "source": [
    "<br>\n",
    "\n",
    "2. 구조: `ndarray.shape` > shape(행(row), 열(column), 차원(면))\n",
    "\n",
    "   \\> return value == `(int, )`: int 개수의 item을 가진 list가 `ndarray`로 변환됨"
   ]
  },
  {
   "cell_type": "code",
   "execution_count": 32,
   "id": "08581205",
   "metadata": {},
   "outputs": [
    {
     "name": "stdout",
     "output_type": "stream",
     "text": [
      "(6,)\n"
     ]
    }
   ],
   "source": [
    "print(my_ndarr.shape)"
   ]
  },
  {
   "cell_type": "markdown",
   "id": "733de6bc",
   "metadata": {},
   "source": [
    "<br>\n",
    "3. 길이: n in `(n, )` \n",
    "\n",
    "   \\> `len(ndarray)`: item의 개수"
   ]
  },
  {
   "cell_type": "code",
   "execution_count": 33,
   "id": "68cf1a33",
   "metadata": {},
   "outputs": [
    {
     "data": {
      "text/plain": [
       "6"
      ]
     },
     "execution_count": 33,
     "metadata": {},
     "output_type": "execute_result"
    }
   ],
   "source": [
    "len(my_ndarr)"
   ]
  },
  {
   "cell_type": "markdown",
   "id": "f4b4447e",
   "metadata": {},
   "source": [
    "<br>\n",
    "\n",
    "4. 차원: `ndarray.ndim`"
   ]
  },
  {
   "cell_type": "code",
   "execution_count": 123,
   "id": "5dcc1560",
   "metadata": {},
   "outputs": [
    {
     "data": {
      "text/plain": [
       "1"
      ]
     },
     "execution_count": 123,
     "metadata": {},
     "output_type": "execute_result"
    }
   ],
   "source": [
    "my_ndarr.ndim"
   ]
  },
  {
   "cell_type": "markdown",
   "id": "ccf3a5b3",
   "metadata": {},
   "source": [
    "<br>\n",
    "\n",
    "5. item 개수: `ndarray.size`"
   ]
  },
  {
   "cell_type": "code",
   "execution_count": 124,
   "id": "14d135dd",
   "metadata": {},
   "outputs": [
    {
     "data": {
      "text/plain": [
       "6"
      ]
     },
     "execution_count": 124,
     "metadata": {},
     "output_type": "execute_result"
    }
   ],
   "source": [
    "my_ndarr.size"
   ]
  },
  {
   "cell_type": "markdown",
   "id": "5b95fc7a",
   "metadata": {},
   "source": [
    "<br>\n",
    "\n",
    "6. item data type: `ndarray.dtype`"
   ]
  },
  {
   "cell_type": "code",
   "execution_count": 125,
   "id": "9166b664",
   "metadata": {},
   "outputs": [
    {
     "data": {
      "text/plain": [
       "dtype('int32')"
      ]
     },
     "execution_count": 125,
     "metadata": {},
     "output_type": "execute_result"
    }
   ],
   "source": [
    "my_ndarr.dtype"
   ]
  },
  {
   "cell_type": "markdown",
   "id": "3e80ffe8",
   "metadata": {},
   "source": [
    "<br>\n",
    "\n",
    "7. item data type 변환: `ndarray.astype(type)` > 원본 data 유지"
   ]
  },
  {
   "cell_type": "code",
   "execution_count": 129,
   "id": "cb50add6",
   "metadata": {},
   "outputs": [
    {
     "name": "stdout",
     "output_type": "stream",
     "text": [
      "[1. 2. 3. 4. 5. 6.]\n"
     ]
    }
   ],
   "source": [
    "my_ndarr2 = my_ndarr.astype(float)\n",
    "\n",
    "print(my_ndarr2)"
   ]
  },
  {
   "cell_type": "markdown",
   "id": "0c165ea2",
   "metadata": {},
   "source": [
    "<br>\n",
    "\n",
    "8. 배열 구조 변환 `ndarray.reshape(row, col)`   \n",
    "\\> 기존 배열 shape item수와 변환하려는 shape item수는 일치해야 함"
   ]
  },
  {
   "cell_type": "code",
   "execution_count": 130,
   "id": "bd2bd4f4",
   "metadata": {},
   "outputs": [
    {
     "name": "stdout",
     "output_type": "stream",
     "text": [
      "[[1 2 3]\n",
      " [4 5 6]]\n",
      "[1 2 3 4 5 6]\n"
     ]
    }
   ],
   "source": [
    "my_ndarr3 = my_ndarr.reshape(2, 3)\n",
    "print(my_ndarr3)\n",
    "print(my_ndarr)"
   ]
  },
  {
   "cell_type": "markdown",
   "id": "f9b30f8f",
   "metadata": {},
   "source": [
    "<br>\n",
    "\n",
    "- 함수 `np_print()` 정의 > NumPy object `ndarray` 정보를 편하게 확인 가능\n",
    "\n",
    "   \\> obj type, shape, dim, data type, obj data 확인하기 위해 정의"
   ]
  },
  {
   "cell_type": "code",
   "execution_count": 131,
   "id": "08e3e437",
   "metadata": {},
   "outputs": [],
   "source": [
    "def np_print(arr):\n",
    "    print(f\"\"\"\n",
    "    type : {type(arr)}\n",
    "    shape : {arr.shape}\n",
    "    ndim : {arr.ndim}\n",
    "    dtype : {arr.dtype}\n",
    "    array data : \\n {arr}\"\"\")"
   ]
  },
  {
   "cell_type": "markdown",
   "id": "1dfb5b99",
   "metadata": {},
   "source": [
    "<br>\n",
    "\n",
    "## 1.2. 배열 객체 `ndarray` dtype standardize\n",
    "\n",
    "- list item data type이 standardize되지 않으면,   \n",
    "list가 `ndarray`로 변환될 때   \n",
    "우선순위에 따라 내부 데이터의 dtype이 통일됨\n",
    "\n",
    "- 우선순위: str > float > int\n",
    "\n",
    "<br>\n",
    "\n",
    "- 서로 다른 타입의 혼합\n",
    "\n",
    "1. int + str > str"
   ]
  },
  {
   "cell_type": "code",
   "execution_count": 134,
   "id": "57c6e3a1",
   "metadata": {},
   "outputs": [
    {
     "name": "stdout",
     "output_type": "stream",
     "text": [
      "\n",
      "    type : <class 'numpy.ndarray'>\n",
      "    shape : (4,)\n",
      "    ndim : 1\n",
      "    dtype : <U11\n",
      "    array data : \n",
      " ['1' '2' '3' '4']\n"
     ]
    }
   ],
   "source": [
    "int_str = [1, 2, 3, '4']\n",
    "mixed_ndarr_1 = np.array(int_str)\n",
    "\n",
    "np_print(mixed_ndarr_1)"
   ]
  },
  {
   "cell_type": "markdown",
   "id": "5664aeef",
   "metadata": {},
   "source": [
    "<br>\n",
    "\n",
    "- 서로 다른 타입의 혼합\n",
    "\n",
    "2. int + float > float"
   ]
  },
  {
   "cell_type": "code",
   "execution_count": 135,
   "id": "babc541d",
   "metadata": {},
   "outputs": [
    {
     "name": "stdout",
     "output_type": "stream",
     "text": [
      "\n",
      "    type : <class 'numpy.ndarray'>\n",
      "    shape : (4,)\n",
      "    ndim : 1\n",
      "    dtype : float64\n",
      "    array data : \n",
      " [1.  2.  3.3 4. ]\n"
     ]
    }
   ],
   "source": [
    "int_float = [1, 2, 3.3, 4]\n",
    "mixed_ndarr_2 = np.array(int_float)\n",
    "\n",
    "np_print(mixed_ndarr_2)"
   ]
  },
  {
   "cell_type": "markdown",
   "id": "f6aef53b",
   "metadata": {},
   "source": [
    "<br>\n",
    "\n",
    "- 서로 다른 타입의 혼합\n",
    "\n",
    "3. float + str > str"
   ]
  },
  {
   "cell_type": "code",
   "execution_count": 136,
   "id": "721a0346",
   "metadata": {},
   "outputs": [
    {
     "name": "stdout",
     "output_type": "stream",
     "text": [
      "\n",
      "    type : <class 'numpy.ndarray'>\n",
      "    shape : (3,)\n",
      "    ndim : 1\n",
      "    dtype : <U32\n",
      "    array data : \n",
      " ['1' '2.3' '4']\n"
     ]
    }
   ],
   "source": [
    "float_str = ['1', 2.3, 4]\n",
    "mixed_ndarr_3 = np.array(float_str)\n",
    "\n",
    "np_print(mixed_ndarr_3)"
   ]
  },
  {
   "cell_type": "markdown",
   "id": "d67ad452",
   "metadata": {},
   "source": [
    "<br>\n",
    "\n",
    "- 2차원 list로 Numpy array 생성\n",
    "\n",
    "- 2차원 array의 shape 속성: 행(row, 세로축 개수), 열(column, 가로축 개수)만 반환"
   ]
  },
  {
   "cell_type": "code",
   "execution_count": 45,
   "id": "4f887803",
   "metadata": {},
   "outputs": [
    {
     "name": "stdout",
     "output_type": "stream",
     "text": [
      "\n",
      "    type : <class 'numpy.ndarray'>\n",
      "    shape : (2, 4)\n",
      "    ndim : 2\n",
      "    dtype : int32\n",
      "    array data : \n",
      " [[1 2 3 4]\n",
      " [5 6 7 8]]\n",
      "6\n"
     ]
    }
   ],
   "source": [
    "tmp_list = [[1, 2, 3, 4],\n",
    "           [5, 6, 7, 8]]\n",
    "\n",
    "ndarr_2d = np.array(tmp_list)\n",
    "np_print(ndarr_2d)\n",
    "print(ndarr_2d[1][1])"
   ]
  },
  {
   "cell_type": "markdown",
   "id": "b00cdb24",
   "metadata": {},
   "source": [
    "### 1.3. 3차원 list로 Numpy ndarray 생성"
   ]
  },
  {
   "cell_type": "code",
   "execution_count": 46,
   "id": "963c837c",
   "metadata": {},
   "outputs": [
    {
     "name": "stdout",
     "output_type": "stream",
     "text": [
      "\n",
      "    type : <class 'numpy.ndarray'>\n",
      "    shape : (2, 2, 3)\n",
      "    ndim : 3\n",
      "    dtype : int32\n",
      "    array data : \n",
      " [[[ 1  2  3]\n",
      "  [ 4  5  6]]\n",
      "\n",
      " [[ 7  8  9]\n",
      "  [10 11 12]]]\n",
      "6\n"
     ]
    }
   ],
   "source": [
    "tmp_list = [\n",
    "    [\n",
    "        [1, 2, 3], [4, 5, 6]\n",
    "    ],\n",
    "    [\n",
    "        [7, 8, 9], [10, 11, 12]\n",
    "    ]\n",
    "]\n",
    "\n",
    "ndarr_3d = np.array(tmp_list)\n",
    "np_print(ndarr_3d)\n",
    "print(ndarr_3d[0][1][2])"
   ]
  },
  {
   "cell_type": "markdown",
   "id": "0d690616",
   "metadata": {},
   "source": [
    "<br>\n",
    "\n",
    "- data type을 parameter로 지정해서 `Numpy.ndarray` 내부 자료형 변경 가능\n",
    "- `np.array(data, dtype=data type)`"
   ]
  },
  {
   "cell_type": "code",
   "execution_count": 49,
   "id": "6dd4292c",
   "metadata": {},
   "outputs": [
    {
     "name": "stdout",
     "output_type": "stream",
     "text": [
      "\n",
      "    type : <class 'numpy.ndarray'>\n",
      "    shape : (2, 2, 3)\n",
      "    ndim : 3\n",
      "    dtype : float64\n",
      "    array data : \n",
      " [[[ 1.  2.  3.]\n",
      "  [ 4.  5.  6.]]\n",
      "\n",
      " [[ 7.  8.  9.]\n",
      "  [10. 11. 12.]]]\n"
     ]
    }
   ],
   "source": [
    "float_3d = np.array(tmp_list, dtype=float)\n",
    "\n",
    "np_print(float_3d)"
   ]
  },
  {
   "cell_type": "markdown",
   "id": "0f0350fd",
   "metadata": {},
   "source": [
    "## 2. 데이터 초기화와 함께 `ndarray` 생성 method\n",
    "\n",
    "- 초기값을 지정하여 data를 자동으로 가지는 `ndarray` 생성\n",
    "\n",
    "    1. `np.zeros()`\n",
    "\n",
    "    2. `np.ones()`\n",
    "\n",
    "    3. `np.full()`\n",
    "\n",
    "    4. `np.eye()`\n",
    "\n",
    "    5. `np.empty()`"
   ]
  },
  {
   "cell_type": "markdown",
   "id": "d7fabdcb",
   "metadata": {},
   "source": [
    "### 2.1. `np.zeros(shape, dtype=float)`\n",
    "\n",
    "- 지정된 구조 (`shape`)의 `ndarray`를 생성하고 모든 `item == 0`으로 초기화\n",
    "\n",
    "- `shape`: tuple type, `(row, col)` 지정\n",
    "\n",
    "- `dtype`: `ndarray`에서 사용하는 data type 지정, default = `numpy.float64`"
   ]
  },
  {
   "cell_type": "markdown",
   "id": "cdde107e",
   "metadata": {},
   "source": [
    "<br>\n",
    "\n",
    "- 3행 * 4열 shape"
   ]
  },
  {
   "cell_type": "code",
   "execution_count": 50,
   "id": "ef597a43",
   "metadata": {},
   "outputs": [
    {
     "name": "stdout",
     "output_type": "stream",
     "text": [
      "\n",
      "    type : <class 'numpy.ndarray'>\n",
      "    shape : (3, 4)\n",
      "    ndim : 2\n",
      "    dtype : float64\n",
      "    array data : \n",
      " [[0. 0. 0. 0.]\n",
      " [0. 0. 0. 0.]\n",
      " [0. 0. 0. 0.]]\n"
     ]
    }
   ],
   "source": [
    "zeros_3_4 = np.zeros((3, 4))\n",
    "\n",
    "np_print(zeros_3_4)"
   ]
  },
  {
   "cell_type": "markdown",
   "id": "d7078ac2",
   "metadata": {},
   "source": [
    "<br>\n",
    "\n",
    "- `dtype`만 int로 바꿔서 생성"
   ]
  },
  {
   "cell_type": "code",
   "execution_count": 51,
   "id": "ad1dcc6d",
   "metadata": {},
   "outputs": [
    {
     "name": "stdout",
     "output_type": "stream",
     "text": [
      "\n",
      "    type : <class 'numpy.ndarray'>\n",
      "    shape : (3, 4)\n",
      "    ndim : 2\n",
      "    dtype : int32\n",
      "    array data : \n",
      " [[0 0 0 0]\n",
      " [0 0 0 0]\n",
      " [0 0 0 0]]\n"
     ]
    }
   ],
   "source": [
    "zeros_int = np.zeros((3, 4), dtype=int)\n",
    "\n",
    "np_print(zeros_int)"
   ]
  },
  {
   "cell_type": "markdown",
   "id": "343fb520",
   "metadata": {},
   "source": [
    "### 2.2. `np.ones(shape(row, col), dtype=float)`\n",
    "\n",
    "- 지정된 구조의 `ndarray`생성, 모든 `item == 1`로 초기화\n",
    "\n",
    "- `shape`: tuple type, `(row, col)` 구조 지정\n",
    "\n",
    "- `dtype`: 객체의 data type 지정, dedault == `numpy.float64`"
   ]
  },
  {
   "cell_type": "markdown",
   "id": "8b651c22",
   "metadata": {},
   "source": [
    "<br>\n",
    "\n",
    "- 3행 4열, 초기값 1로 가지는 배열"
   ]
  },
  {
   "cell_type": "code",
   "execution_count": 52,
   "id": "f0612856",
   "metadata": {},
   "outputs": [
    {
     "name": "stdout",
     "output_type": "stream",
     "text": [
      "\n",
      "    type : <class 'numpy.ndarray'>\n",
      "    shape : (3, 4)\n",
      "    ndim : 2\n",
      "    dtype : float64\n",
      "    array data : \n",
      " [[1. 1. 1. 1.]\n",
      " [1. 1. 1. 1.]\n",
      " [1. 1. 1. 1.]]\n"
     ]
    }
   ],
   "source": [
    "ndarr_ones = np.ones((3, 4))\n",
    "\n",
    "np_print(ndarr_ones)"
   ]
  },
  {
   "cell_type": "markdown",
   "id": "5e50f24e",
   "metadata": {},
   "source": [
    "<br>\n",
    "\n",
    "### 2.3. `np.full(shape, fill_value, dtype)`\n",
    "\n",
    "- 지정된 구조의 `ndarray`생성, 모든 `item == fill_value` 값으로 초기화\n",
    " \n",
    "- `shape`: tuple data type, 행*열 구조 지정\n",
    "\n",
    "- `dtype`: `ndarray`의 data type 지정, `default == input data type`"
   ]
  },
  {
   "cell_type": "markdown",
   "id": "db09857a",
   "metadata": {},
   "source": [
    "<br>\n",
    "\n",
    "- 3행 4열 초기값 5인 배열"
   ]
  },
  {
   "cell_type": "code",
   "execution_count": 53,
   "id": "7d70c564",
   "metadata": {},
   "outputs": [
    {
     "name": "stdout",
     "output_type": "stream",
     "text": [
      "\n",
      "    type : <class 'numpy.ndarray'>\n",
      "    shape : (3, 4)\n",
      "    ndim : 2\n",
      "    dtype : int32\n",
      "    array data : \n",
      " [[5 5 5 5]\n",
      " [5 5 5 5]\n",
      " [5 5 5 5]]\n"
     ]
    }
   ],
   "source": [
    "ndarr_full = np.full((3, 4), 5, int)\n",
    "\n",
    "np_print(ndarr_full)"
   ]
  },
  {
   "cell_type": "markdown",
   "id": "c5dff717",
   "metadata": {},
   "source": [
    "<br>\n",
    "\n",
    "### 2.4. `np.eye(N, M=None, dtype=float)`\n",
    "\n",
    "- `(N, M)`구조의 `단위 행렬` 생성 (N행 M열)\n",
    "\n",
    "- 단위 행렬: 주대각 성분만 값을 가지고, 그 값이 1인 행렬\n",
    "\n",
    "- `M`: col 개수 지정, `dafault = N`\n",
    "    \n",
    "- `dtype`: `ndarray`의 data type 지정, default = `numpy.float64`"
   ]
  },
  {
   "cell_type": "code",
   "execution_count": 54,
   "id": "7398dc1c",
   "metadata": {},
   "outputs": [
    {
     "name": "stdout",
     "output_type": "stream",
     "text": [
      "\n",
      "    type : <class 'numpy.ndarray'>\n",
      "    shape : (3, 3)\n",
      "    ndim : 2\n",
      "    dtype : float64\n",
      "    array data : \n",
      " [[1. 0. 0.]\n",
      " [0. 1. 0.]\n",
      " [0. 0. 1.]]\n"
     ]
    }
   ],
   "source": [
    "ndarr_eye = np.eye(3)\n",
    "\n",
    "np_print(ndarr_eye)"
   ]
  },
  {
   "cell_type": "markdown",
   "id": "e1f854fc",
   "metadata": {},
   "source": [
    "<br>\n",
    "\n",
    "- row = 5, col = 3인 단위행렬"
   ]
  },
  {
   "cell_type": "code",
   "execution_count": 55,
   "id": "08ca1581",
   "metadata": {},
   "outputs": [
    {
     "name": "stdout",
     "output_type": "stream",
     "text": [
      "\n",
      "    type : <class 'numpy.ndarray'>\n",
      "    shape : (5, 3)\n",
      "    ndim : 2\n",
      "    dtype : float64\n",
      "    array data : \n",
      " [[1. 0. 0.]\n",
      " [0. 1. 0.]\n",
      " [0. 0. 1.]\n",
      " [0. 0. 0.]\n",
      " [0. 0. 0.]]\n"
     ]
    }
   ],
   "source": [
    "eye_5_3 = np.eye(5, 3)\n",
    "\n",
    "np_print(eye_5_3)"
   ]
  },
  {
   "cell_type": "markdown",
   "id": "5b4ea90c",
   "metadata": {},
   "source": [
    "<br>\n",
    "\n",
    "### 2.5. `np.empty(shape, dtype=float)`\n",
    "\n",
    "- 지정된 `shape`의 `ndarray` 생성, 모든 item에 대해   \n",
    "초기화 없이 직전 memory에 저장된 값 사용\n",
    "\n",
    "- `ndarry` 생성 시 가장 빠르고 효율적인 방법\n",
    "\n",
    "- `shape`: data type tule, row * col 구조 지정\n",
    "    \n",
    "- `dtype`: `ndarray`의 data type 지정, default = `numpy.float64`"
   ]
  },
  {
   "cell_type": "markdown",
   "id": "abb0582d",
   "metadata": {},
   "source": [
    "<br>\n",
    "\n",
    "- 7 * 2, 초기값 == 1인 `ndarray` 생성"
   ]
  },
  {
   "cell_type": "code",
   "execution_count": 56,
   "id": "55745824",
   "metadata": {},
   "outputs": [
    {
     "name": "stdout",
     "output_type": "stream",
     "text": [
      "\n",
      "    type : <class 'numpy.ndarray'>\n",
      "    shape : (7, 2)\n",
      "    ndim : 2\n",
      "    dtype : float64\n",
      "    array data : \n",
      " [[1. 1.]\n",
      " [1. 1.]\n",
      " [1. 1.]\n",
      " [1. 1.]\n",
      " [1. 1.]\n",
      " [1. 1.]\n",
      " [1. 1.]]\n"
     ]
    }
   ],
   "source": [
    "ndarr_ones = np.ones((7, 2))\n",
    "\n",
    "np_print(ndarr_ones)"
   ]
  },
  {
   "cell_type": "markdown",
   "id": "6eebd8f9",
   "metadata": {},
   "source": [
    "<br>\n",
    "\n",
    "- `np.empty()` 사용해서 3 * 4 구조로 변형된 `ndarray` 생성"
   ]
  },
  {
   "cell_type": "code",
   "execution_count": 58,
   "id": "6216c975",
   "metadata": {},
   "outputs": [
    {
     "name": "stdout",
     "output_type": "stream",
     "text": [
      "\n",
      "    type : <class 'numpy.ndarray'>\n",
      "    shape : (3, 4)\n",
      "    ndim : 2\n",
      "    dtype : float64\n",
      "    array data : \n",
      " [[1. 1. 1. 1.]\n",
      " [1. 1. 1. 1.]\n",
      " [1. 1. 1. 1.]]\n"
     ]
    }
   ],
   "source": [
    "ndarr_empty = np.empty((3, 4))\n",
    "\n",
    "np_print(ndarr_empty)"
   ]
  },
  {
   "cell_type": "markdown",
   "id": "4785b391",
   "metadata": {},
   "source": [
    "<br>\n",
    "\n",
    "### 2.6. like method\n",
    "\n",
    "- 전달받은 `ndarray`와 `동일한 shape`으로 > 새로운 `ndarray` 생성\n",
    "    \n",
    "    1. `np.zeros_like()`: 초기값 == 0\n",
    "    \n",
    "    2. `np.ones_like()`: 초기값 == 1\n",
    "    \n",
    "    3. `np.full_like()`: 초기값 == fill_vaule"
   ]
  },
  {
   "cell_type": "markdown",
   "id": "835c9033",
   "metadata": {},
   "source": [
    "<br>\n",
    "\n",
    "- `ones_like()`\n",
    "\n",
    "- 2 * 3 구조, 1 ~ 6으로 구성된 `ndarray`"
   ]
  },
  {
   "cell_type": "code",
   "execution_count": 59,
   "id": "003fa370",
   "metadata": {},
   "outputs": [
    {
     "name": "stdout",
     "output_type": "stream",
     "text": [
      "\n",
      "    type : <class 'numpy.ndarray'>\n",
      "    shape : (2, 3)\n",
      "    ndim : 2\n",
      "    dtype : int32\n",
      "    array data : \n",
      " [[1 2 3]\n",
      " [4 5 6]]\n"
     ]
    }
   ],
   "source": [
    "data_list = [[1, 2, 3], [4, 5, 6]]\n",
    "\n",
    "my_ndarr = np.array(data_list)\n",
    "np_print(my_ndarr)"
   ]
  },
  {
   "cell_type": "code",
   "execution_count": 60,
   "id": "2a376083",
   "metadata": {},
   "outputs": [
    {
     "name": "stdout",
     "output_type": "stream",
     "text": [
      "\n",
      "    type : <class 'numpy.ndarray'>\n",
      "    shape : (2, 3)\n",
      "    ndim : 2\n",
      "    dtype : int32\n",
      "    array data : \n",
      " [[1 1 1]\n",
      " [1 1 1]]\n"
     ]
    }
   ],
   "source": [
    "ones_like_ndarr = np.ones_like(my_ndarr)\n",
    "\n",
    "np_print(ones_like_ndarr)"
   ]
  },
  {
   "cell_type": "markdown",
   "id": "e6bfffdd",
   "metadata": {},
   "source": [
    "## 3. 범위와 조건이 있는 1차원 배열 생성 및 초기화method\n",
    "\n",
    "- 범위와 조건이 있는 데이터를 가지는 1차원 배열 생성 및 초기화 method\n",
    "    \n",
    "    1. `np.linspace()`\n",
    "    \n",
    "    2. `np.arange()`\n",
    "    \n",
    "    3. `np.logspace()`\n",
    "\n",
    "<br>\n",
    "\n",
    "### 3.1. `np.linspace(start, stop)`\n",
    "\n",
    "> `np.linspace(start, stop, num=50, endpoint=True, retstep=False, dtype=None)`\n",
    "\n",
    "- 시작값(`start`)부터 마지막값(`stop`) 사이의 범위에서 **균등한 간격**으로 일정 개수(`num`)개의 데이터를 가지는 배열 생성\n",
    "\n",
    "- `num` : 데이터 개수, default == 50\n",
    "\n",
    "- `endpoint` : `ndarray`에 stop값을 포함/제외하는 조건 지정, default == True(포함)\n",
    "\n",
    "- `retstep` : True > `(배열, 데이터 사이의 간격)` tuple return, defalut == False\n",
    "\n",
    "- `dtype` : 배열의 데이터 타입을 지정, default == None"
   ]
  },
  {
   "cell_type": "markdown",
   "id": "df79ce9a",
   "metadata": {},
   "source": [
    "<br>\n",
    "\n",
    "- 기본값\n",
    "\n",
    "- 0이상 1이하의 범위에서 발생한 숫자 5개를 포함하는 배열"
   ]
  },
  {
   "cell_type": "code",
   "execution_count": 61,
   "id": "4f2ab64b",
   "metadata": {},
   "outputs": [
    {
     "name": "stdout",
     "output_type": "stream",
     "text": [
      "\n",
      "    type : <class 'numpy.ndarray'>\n",
      "    shape : (5,)\n",
      "    ndim : 1\n",
      "    dtype : float64\n",
      "    array data : \n",
      " [0.   0.25 0.5  0.75 1.  ]\n"
     ]
    }
   ],
   "source": [
    "ndarr_linspace = np.linspace(0, 1, num=5)\n",
    "\n",
    "np_print(ndarr_linspace)"
   ]
  },
  {
   "cell_type": "markdown",
   "id": "4f1ba5e9",
   "metadata": {},
   "source": [
    "<br>\n",
    "\n",
    "- `endpoint=False`일 때"
   ]
  },
  {
   "cell_type": "code",
   "execution_count": 62,
   "id": "b7b0725d",
   "metadata": {},
   "outputs": [
    {
     "name": "stdout",
     "output_type": "stream",
     "text": [
      "\n",
      "    type : <class 'numpy.ndarray'>\n",
      "    shape : (5,)\n",
      "    ndim : 1\n",
      "    dtype : float64\n",
      "    array data : \n",
      " [0.  0.2 0.4 0.6 0.8]\n"
     ]
    }
   ],
   "source": [
    "endpoint_false = np.linspace(0, 1, num=5, endpoint=False)\n",
    "\n",
    "np_print(endpoint_false)"
   ]
  },
  {
   "cell_type": "markdown",
   "id": "539c78ec",
   "metadata": {},
   "source": [
    "<br>\n",
    "\n",
    "- `retstep` 설정 > 반환값 tuple `(ndarray, 간격값)`"
   ]
  },
  {
   "cell_type": "code",
   "execution_count": 63,
   "id": "e956bde0",
   "metadata": {},
   "outputs": [
    {
     "name": "stdout",
     "output_type": "stream",
     "text": [
      "(array([0.  , 0.25, 0.5 , 0.75, 1.  ]), 0.25)\n"
     ]
    }
   ],
   "source": [
    "linspace_retstep = np.linspace(0, 1, num=5, retstep=True)\n",
    "\n",
    "print(linspace_retstep)"
   ]
  },
  {
   "cell_type": "markdown",
   "id": "03c82c68",
   "metadata": {},
   "source": [
    "<br>\n",
    "\n",
    "### 3.2. `np.arange(start=0, stop, step=1, dtype=None)`\n",
    "\n",
    "- 시작값(`start`)부터 마지막값(`stop`) 사이의 범위에서,   \n",
    "지정한 간격(`step`)으로 일정 개수(`num`)개의 데이터를 가지는 배열 생성\n",
    "\n",
    "- 파이썬 내장함수 `range()`와 유사\n",
    "\n",
    "- `start`: 시작값, default == 0\n",
    "\n",
    "- `stop`: 마지막값, **범위에 포함되지 않음**\n",
    "\n",
    "- `step`: 데이터 사이의 간격, default == 1\n",
    "\n",
    "- `dtype` : 배열의 데이터 타입을 지정, default == None"
   ]
  },
  {
   "cell_type": "code",
   "execution_count": 66,
   "id": "06454b3a",
   "metadata": {},
   "outputs": [
    {
     "data": {
      "text/plain": [
       "[0, 1, 2, 3, 4]"
      ]
     },
     "execution_count": 66,
     "metadata": {},
     "output_type": "execute_result"
    }
   ],
   "source": [
    "list(range(5))"
   ]
  },
  {
   "cell_type": "markdown",
   "id": "ed127cf7",
   "metadata": {},
   "source": [
    "<br>\n",
    "\n",
    "- 기본값\n",
    "\n",
    "- 0이상 5미만의 범위에서 1씩 증가하는 정수를 가지는 `ndarray` 생성"
   ]
  },
  {
   "cell_type": "code",
   "execution_count": 64,
   "id": "bd278faf",
   "metadata": {},
   "outputs": [
    {
     "name": "stdout",
     "output_type": "stream",
     "text": [
      "\n",
      "    type : <class 'numpy.ndarray'>\n",
      "    shape : (5,)\n",
      "    ndim : 1\n",
      "    dtype : int32\n",
      "    array data : \n",
      " [0 1 2 3 4]\n"
     ]
    }
   ],
   "source": [
    "ndarr_arange = np.arange(5)\n",
    "\n",
    "np_print(ndarr_arange)"
   ]
  },
  {
   "cell_type": "markdown",
   "id": "099ccc80",
   "metadata": {},
   "source": [
    "<br>\n",
    "\n",
    "- 시작값, 끝값, 간격 설정\n",
    "- 0 이상, 5 미만, 0.5씩 증가하는 숫자를 가진 `ndarray`"
   ]
  },
  {
   "cell_type": "code",
   "execution_count": 65,
   "id": "bf7fde0a",
   "metadata": {},
   "outputs": [
    {
     "name": "stdout",
     "output_type": "stream",
     "text": [
      "\n",
      "    type : <class 'numpy.ndarray'>\n",
      "    shape : (10,)\n",
      "    ndim : 1\n",
      "    dtype : float64\n",
      "    array data : \n",
      " [0.  0.5 1.  1.5 2.  2.5 3.  3.5 4.  4.5]\n"
     ]
    }
   ],
   "source": [
    "arange_5 = np.arange(0, 5, 0.5)\n",
    "\n",
    "np_print(arange_5)"
   ]
  },
  {
   "cell_type": "markdown",
   "id": "142e06a8",
   "metadata": {},
   "source": [
    "<br>\n",
    "\n",
    "- `arange()` method `ndarray` vs. `reshape(1, 4)` method `ndarray`   \n",
    "\\> `shape`와 `dimension`이 다르다"
   ]
  },
  {
   "cell_type": "code",
   "execution_count": 66,
   "id": "82eb348b",
   "metadata": {},
   "outputs": [
    {
     "name": "stdout",
     "output_type": "stream",
     "text": [
      "\n",
      "    type : <class 'numpy.ndarray'>\n",
      "    shape : (4,)\n",
      "    ndim : 1\n",
      "    dtype : int32\n",
      "    array data : \n",
      " [1 2 3 4]\n",
      "\n",
      "    type : <class 'numpy.ndarray'>\n",
      "    shape : (1, 4)\n",
      "    ndim : 2\n",
      "    dtype : int32\n",
      "    array data : \n",
      " [[1 2 3 4]]\n"
     ]
    }
   ],
   "source": [
    "arange_ndarr = np.arange(1, 5)\n",
    "\n",
    "tmp_list = [1, 2, 3, 4]\n",
    "my_ndarr = np.array(tmp_list)\n",
    "reshape_ndarr = my_ndarr.reshape(1, 4)\n",
    "\n",
    "np_print(arange_ndarr)\n",
    "np_print(reshape_ndarr)"
   ]
  },
  {
   "cell_type": "markdown",
   "id": "b57b4329",
   "metadata": {},
   "source": [
    "### 3.3. `np.logspace(start, stop, num=50, endpoint=True, dtype=None)`\n",
    "\n",
    "- 시작값(`start`)부터 마지막값(`stop`)사이의 log scale로 지정된 range에서   \n",
    "균등한 간격으로 일정 개수(`num`)개의 data를 가지는 `ndarray`생성\n",
    "\n",
    "- `num`: data 개수, default == 50\n",
    "\n",
    "- `endpoint`: 마지막값에 `stop`을 포함 or 제외하는 조건, default == True(포함)\n",
    "\n",
    "- `dtype`: `ndarray` data type, default == None"
   ]
  },
  {
   "cell_type": "markdown",
   "id": "095eabba",
   "metadata": {},
   "source": [
    "<br>\n",
    "\n",
    "- 기본값\n",
    "- 0이상 1이하 range > log scale 적용한 값(num=50)을 가진 `ndarray`\n",
    "- 밑 == 10인 log값 기준"
   ]
  },
  {
   "cell_type": "code",
   "execution_count": 79,
   "id": "03e1f96c",
   "metadata": {},
   "outputs": [
    {
     "name": "stdout",
     "output_type": "stream",
     "text": [
      "\n",
      "    type : <class 'numpy.ndarray'>\n",
      "    shape : (50,)\n",
      "    ndim : 1\n",
      "    dtype : float64\n",
      "    array data : \n",
      " [ 1.          1.04811313  1.09854114  1.1513954   1.20679264  1.26485522\n",
      "  1.32571137  1.38949549  1.45634848  1.52641797  1.59985872  1.67683294\n",
      "  1.75751062  1.84206997  1.93069773  2.02358965  2.12095089  2.22299648\n",
      "  2.32995181  2.44205309  2.55954792  2.6826958   2.8117687   2.9470517\n",
      "  3.0888436   3.23745754  3.39322177  3.55648031  3.72759372  3.90693994\n",
      "  4.09491506  4.29193426  4.49843267  4.71486636  4.94171336  5.17947468\n",
      "  5.42867544  5.68986603  5.96362332  6.25055193  6.55128557  6.86648845\n",
      "  7.19685673  7.54312006  7.90604321  8.28642773  8.68511374  9.10298178\n",
      "  9.54095476 10.        ]\n"
     ]
    }
   ],
   "source": [
    "log_ndarr = np.logspace(0, 1)\n",
    "\n",
    "np_print(log_ndarr)"
   ]
  },
  {
   "cell_type": "markdown",
   "id": "855c4fbc",
   "metadata": {},
   "source": [
    "<br>\n",
    "\n",
    "- `start` = 0, `stop` = 3, `num` = 4"
   ]
  },
  {
   "cell_type": "code",
   "execution_count": 81,
   "id": "818f9a69",
   "metadata": {},
   "outputs": [
    {
     "name": "stdout",
     "output_type": "stream",
     "text": [
      "\n",
      "    type : <class 'numpy.ndarray'>\n",
      "    shape : (4,)\n",
      "    ndim : 1\n",
      "    dtype : float64\n",
      "    array data : \n",
      " [   1.   10.  100. 1000.]\n"
     ]
    }
   ],
   "source": [
    "log_ndarr2 = np.logspace(0, 3, 4)\n",
    "\n",
    "np_print(log_ndarr2)"
   ]
  },
  {
   "cell_type": "markdown",
   "id": "26b5fae8",
   "metadata": {},
   "source": [
    "<br>\n",
    "\n",
    "- `endpoint=False` 설정"
   ]
  },
  {
   "cell_type": "code",
   "execution_count": 82,
   "id": "3467e58c",
   "metadata": {},
   "outputs": [
    {
     "name": "stdout",
     "output_type": "stream",
     "text": [
      "\n",
      "    type : <class 'numpy.ndarray'>\n",
      "    shape : (40,)\n",
      "    ndim : 1\n",
      "    dtype : float64\n",
      "    array data : \n",
      " [1.         1.05925373 1.12201845 1.18850223 1.25892541 1.33352143\n",
      " 1.41253754 1.49623566 1.58489319 1.67880402 1.77827941 1.88364909\n",
      " 1.99526231 2.11348904 2.23872114 2.37137371 2.51188643 2.66072506\n",
      " 2.81838293 2.98538262 3.16227766 3.34965439 3.54813389 3.75837404\n",
      " 3.98107171 4.21696503 4.46683592 4.73151259 5.01187234 5.30884444\n",
      " 5.62341325 5.95662144 6.30957344 6.68343918 7.07945784 7.49894209\n",
      " 7.94328235 8.41395142 8.91250938 9.44060876]\n"
     ]
    }
   ],
   "source": [
    "log_endpoint = np.logspace(0, 1, 40, endpoint=False)\n",
    "\n",
    "np_print(log_endpoint)"
   ]
  },
  {
   "cell_type": "markdown",
   "id": "f7c7f3cc",
   "metadata": {},
   "source": [
    "## 4. 난수 배열 생성 및 초기화\n",
    "\n",
    "- 난수(특정한 순서나 규칙을 가지지 않는 무작위의 수)를 데이터로 가지는 배열을 생성\n",
    "\n",
    "    1. `np.random.normal()`\n",
    "\n",
    "    2. `np.random.rand()`\n",
    "\n",
    "    3. `np.random.randn()`\n",
    "\n",
    "    4. `np.random.randint()`\n",
    "\n",
    "    5. `np.random.random()`"
   ]
  },
  {
   "cell_type": "markdown",
   "id": "1efae02f",
   "metadata": {},
   "source": [
    "### 4.1. `np.random.normal(loc=0.0, scale=1.0, size=None)`\n",
    "\n",
    "- 정규 분포 확률 밀도에서 표본을 추출하여 데이터로 가지는 배열을 생성\n",
    "\n",
    "- `loc` : 정규분포의 평균, default == 0.0\n",
    "\n",
    "- `scale` : 정규분포의 표준편차, default == 1.0\n",
    "\n",
    "- `size` : `(row, col, dim)`의 배열 구조, type = iterator,   \n",
    "default == single value(배열이 아닌 하나의 값을 반환)"
   ]
  },
  {
   "cell_type": "markdown",
   "id": "a02c2c6e",
   "metadata": {},
   "source": [
    "#### \\* 분포의 종류\n",
    "\n",
    "1. 균등분포: 모든 요소가 출력될 확률이 동등한 경우 e.g. 로또 번호\n",
    "\n",
    "2. 정규분포: 평균에 가까울수록 출력될 확률이 높고 평균에서 멀어질수록 확률이 낮아짐 e.g. 키, 시험 성적 "
   ]
  },
  {
   "cell_type": "markdown",
   "id": "c35b048f",
   "metadata": {},
   "source": [
    "<br>\n",
    "\n",
    "- 기본값\n",
    "- 평균 0, 표준편차 1로 난수 생성"
   ]
  },
  {
   "cell_type": "code",
   "execution_count": 83,
   "id": "34193eab",
   "metadata": {},
   "outputs": [
    {
     "name": "stdout",
     "output_type": "stream",
     "text": [
      "-0.22870178622453624\n"
     ]
    }
   ],
   "source": [
    "rand_normal = np.random.normal(0, 1)\n",
    "\n",
    "print(rand_normal)"
   ]
  },
  {
   "cell_type": "markdown",
   "id": "983c69b6",
   "metadata": {},
   "source": [
    "<br>\n",
    "\n",
    "#### \\* 분산과 표준편차\n",
    "\n",
    "- (어떤 집단간 평균이 같다) != (집단간 분포가 같다)\n",
    "\n",
    "- 분산 == 평균에서 어떤 요소가 얼마나 멀리 떨어져 있는지 나타내는 값, 척도 > (요소값 - 평균값)의 제곱 / 요소 개수\n",
    "\n",
    "- 분산의 제곱근 == 표준편차 > 분포 확인 가능 > 상대평가 가능"
   ]
  },
  {
   "cell_type": "markdown",
   "id": "e739752d",
   "metadata": {},
   "source": [
    "<br>\n",
    "\n",
    "- `size`설정 > 2행 3열"
   ]
  },
  {
   "cell_type": "code",
   "execution_count": 84,
   "id": "fcf8baf7",
   "metadata": {},
   "outputs": [
    {
     "name": "stdout",
     "output_type": "stream",
     "text": [
      "\n",
      "    type : <class 'numpy.ndarray'>\n",
      "    shape : (2, 3)\n",
      "    ndim : 2\n",
      "    dtype : float64\n",
      "    array data : \n",
      " [[-0.37252849  0.05619717 -0.17505914]\n",
      " [ 2.3531492  -0.32011335 -0.58016429]]\n"
     ]
    }
   ],
   "source": [
    "rand_normal_size = np.random.normal(size=(2, 3))\n",
    "\n",
    "np_print(rand_normal_size)"
   ]
  },
  {
   "cell_type": "markdown",
   "id": "9f5eff24",
   "metadata": {},
   "source": [
    "<br>\n",
    "\n",
    "- 정규분포 data로 이루어진 배열에 대한 시각화\n",
    "- 평균 == 10, 표준편차 == 2인 정규분포에서 추출한 10000개의 data"
   ]
  },
  {
   "cell_type": "code",
   "execution_count": 85,
   "id": "77869c93",
   "metadata": {},
   "outputs": [
    {
     "name": "stdout",
     "output_type": "stream",
     "text": [
      "[ 9.7813111  10.37750515 10.36458414 ...  8.88375993 10.37159069\n",
      " 12.03580846]\n"
     ]
    }
   ],
   "source": [
    "rand_normal_data = np.random.normal(10, 2, 10000)\n",
    "\n",
    "print(rand_normal_data)"
   ]
  },
  {
   "cell_type": "markdown",
   "id": "e9923bbd",
   "metadata": {},
   "source": [
    "- 평균 +- 표준편차 2 * 1 > 8 ~ 12 > 약 68%\n",
    "- 평균 +- 표준편차 2 * 1.96 > 6.08 ~ 13.92 > 약 95% "
   ]
  },
  {
   "cell_type": "markdown",
   "id": "f080b55f",
   "metadata": {},
   "source": [
    "<br>\n",
    "\n",
    "- 시각화 라이브러리"
   ]
  },
  {
   "cell_type": "code",
   "execution_count": 86,
   "id": "04da8235",
   "metadata": {},
   "outputs": [],
   "source": [
    "import matplotlib.pyplot as plt"
   ]
  },
  {
   "cell_type": "markdown",
   "id": "ad7a6556",
   "metadata": {},
   "source": [
    "<br>\n",
    "\n",
    "- `bins`: 구간의 개수 > bins가 커지면 막대 폭이 작아짐\n",
    "\n",
    "- 100개 구간으로 구분한 분포"
   ]
  },
  {
   "cell_type": "code",
   "execution_count": 87,
   "id": "a62b51f9",
   "metadata": {},
   "outputs": [
    {
     "data": {
      "text/plain": [
       "<function matplotlib.pyplot.show(close=None, block=None)>"
      ]
     },
     "execution_count": 87,
     "metadata": {},
     "output_type": "execute_result"
    },
    {
     "data": {
      "image/png": "[encoded data removed]",
      "text/plain": [
       "<Figure size 432x288 with 1 Axes>"
      ]
     },
     "metadata": {
      "needs_background": "light"
     },
     "output_type": "display_data"
    }
   ],
   "source": [
    "plt.hist(rand_normal_data, bins=100)\n",
    "plt.show"
   ]
  },
  {
   "cell_type": "markdown",
   "id": "cd46a9e8",
   "metadata": {},
   "source": [
    "<br>\n",
    "\n",
    "### 4.2. `np.random.rand(d0, d1, d2, ... , dn))`\n",
    "\n",
    "- `shape == (d0, d1, d2, ... , dn)`에 따라 `ndarray`를 생성 > 난수로 초기화\n",
    "\n",
    "- 사용되는 난수: 0이상 1미만의 범위, **균등 분포**로 추출"
   ]
  },
  {
   "cell_type": "markdown",
   "id": "bcbec54a",
   "metadata": {},
   "source": [
    "<br>\n",
    "\n",
    "- `d0` = 2, `d1` = 3 > 2행 3열 구조"
   ]
  },
  {
   "cell_type": "code",
   "execution_count": 88,
   "id": "c4348d0a",
   "metadata": {},
   "outputs": [
    {
     "name": "stdout",
     "output_type": "stream",
     "text": [
      "\n",
      "    type : <class 'numpy.ndarray'>\n",
      "    shape : (2, 3)\n",
      "    ndim : 2\n",
      "    dtype : float64\n",
      "    array data : \n",
      " [[0.24412599 0.29505819 0.0913975 ]\n",
      " [0.03475616 0.64614909 0.03705084]]\n"
     ]
    }
   ],
   "source": [
    "rand_rand = np.random.rand(2, 3)\n",
    "\n",
    "np_print(rand_rand)"
   ]
  },
  {
   "cell_type": "markdown",
   "id": "3af8ded0",
   "metadata": {},
   "source": [
    "<br>\n",
    "\n",
    "- 균등분포 data ndarray에 대한 시각화\n",
    "\n",
    "- 1000개의 data ndarray를 10개 구간으로 구분한 분포"
   ]
  },
  {
   "cell_type": "code",
   "execution_count": 90,
   "id": "9011acd4",
   "metadata": {},
   "outputs": [
    {
     "data": {
      "text/plain": [
       "<function matplotlib.pyplot.show(close=None, block=None)>"
      ]
     },
     "execution_count": 90,
     "metadata": {},
     "output_type": "execute_result"
    },
    {
     "data": {
      "image/png": "[encoded data removed]",
      "text/plain": [
       "<Figure size 432x288 with 1 Axes>"
      ]
     },
     "metadata": {
      "needs_background": "light"
     },
     "output_type": "display_data"
    }
   ],
   "source": [
    "rand_rand_data = np.random.random(1000)\n",
    "\n",
    "plt.hist(rand_rand_data, 10)\n",
    "plt.show"
   ]
  },
  {
   "cell_type": "markdown",
   "id": "6bff2b67",
   "metadata": {},
   "source": [
    "<br>\n",
    "\n",
    "- `Numpy.ndarray`: 곱연산(\\*) > 반복 연장X, 내장 data 하나하나에 곱연산"
   ]
  },
  {
   "cell_type": "code",
   "execution_count": 92,
   "id": "889552d6",
   "metadata": {},
   "outputs": [
    {
     "data": {
      "text/plain": [
       "array([10, 20, 30, 40])"
      ]
     },
     "execution_count": 92,
     "metadata": {},
     "output_type": "execute_result"
    }
   ],
   "source": [
    "np.array([1, 2, 3, 4]) * 10"
   ]
  },
  {
   "cell_type": "markdown",
   "id": "cebc50d8",
   "metadata": {},
   "source": [
    "<br>\n",
    "\n",
    "### 4.3. `np.random.randn(d0, d1, d2, ..., dn)`\n",
    "\n",
    "- 지정한 shape`(d0, d1, d2, ..., dn)`에 따라 배열 생성, 난수로 초기화\n",
    "\n",
    "- 사용되는 난수: `표준정규분포`에서 추출된 data"
   ]
  },
  {
   "cell_type": "code",
   "execution_count": 93,
   "id": "97861494",
   "metadata": {},
   "outputs": [
    {
     "name": "stdout",
     "output_type": "stream",
     "text": [
      "\n",
      "    type : <class 'numpy.ndarray'>\n",
      "    shape : (2, 4)\n",
      "    ndim : 2\n",
      "    dtype : float64\n",
      "    array data : \n",
      " [[ 0.68478587 -0.75881929 -0.01310558  1.39777607]\n",
      " [-1.50896708  0.4993551   0.05876583  0.8574554 ]]\n"
     ]
    }
   ],
   "source": [
    "rand_randn = np.random.randn(2, 4)\n",
    "\n",
    "np_print(rand_randn)"
   ]
  },
  {
   "cell_type": "markdown",
   "id": "866a84bf",
   "metadata": {},
   "source": [
    "<br>\n",
    "\n",
    "- 정규분포 데이터로 이루어진 배열에 대한 시각화\n",
    "\n",
    "- 평균 == 0, 표준편차 == 1인 표준정규분포에서 추출한 1000개의 data, 100개의 구간"
   ]
  },
  {
   "cell_type": "code",
   "execution_count": 97,
   "id": "f7c0ec3b",
   "metadata": {},
   "outputs": [
    {
     "data": {
      "text/plain": [
       "<function matplotlib.pyplot.show(close=None, block=None)>"
      ]
     },
     "execution_count": 97,
     "metadata": {},
     "output_type": "execute_result"
    },
    {
     "data": {
      "image/png": "[encoded data removed]",
      "text/plain": [
       "<Figure size 432x288 with 1 Axes>"
      ]
     },
     "metadata": {
      "needs_background": "light"
     },
     "output_type": "display_data"
    }
   ],
   "source": [
    "visual_randn = np.random.randn(1000)\n",
    "\n",
    "plt.hist(visual_randn, 100)\n",
    "plt.show"
   ]
  },
  {
   "cell_type": "markdown",
   "id": "c0acc33d",
   "metadata": {},
   "source": [
    "<br>\n",
    "\n",
    "### 4.4. `np.random.randint(low, high=None, size=None, dtype=I)`\n",
    "\n",
    "- `low`이상, `high`미만의 범위에서 정수로 구성된 data > `size`의 배열 생성\n",
    "\n",
    "- `low`: `high`값이 지정되지 않으면, `low`값이 최대값(포함X)로 설정\n",
    "\n",
    "- `high`:\n",
    "\n",
    "-"
   ]
  },
  {
   "cell_type": "markdown",
   "id": "33db8e1f",
   "metadata": {},
   "source": [
    "<br>\n",
    "\n",
    "- 1미만의 값 한 개 추출"
   ]
  },
  {
   "cell_type": "code",
   "execution_count": 103,
   "id": "3855fc3a",
   "metadata": {},
   "outputs": [
    {
     "ename": "AttributeError",
     "evalue": "'int' object has no attribute 'shape'",
     "output_type": "error",
     "traceback": [
      "\u001b[1;31m---------------------------------------------------------------------------\u001b[0m",
      "\u001b[1;31mAttributeError\u001b[0m                            Traceback (most recent call last)",
      "Input \u001b[1;32mIn [103]\u001b[0m, in \u001b[0;36m<cell line: 3>\u001b[1;34m()\u001b[0m\n\u001b[0;32m      1\u001b[0m rand_randint \u001b[38;5;241m=\u001b[39m np\u001b[38;5;241m.\u001b[39mrandom\u001b[38;5;241m.\u001b[39mrandint(\u001b[38;5;241m1\u001b[39m)\n\u001b[1;32m----> 3\u001b[0m \u001b[43mnp_print\u001b[49m\u001b[43m(\u001b[49m\u001b[43mrand_randint\u001b[49m\u001b[43m)\u001b[49m\n",
      "Input \u001b[1;32mIn [41]\u001b[0m, in \u001b[0;36mnp_print\u001b[1;34m(arr)\u001b[0m\n\u001b[0;32m      1\u001b[0m \u001b[38;5;28;01mdef\u001b[39;00m \u001b[38;5;21mnp_print\u001b[39m(arr):\n\u001b[0;32m      2\u001b[0m     text \u001b[38;5;241m=\u001b[39m \u001b[38;5;124m'''\u001b[39m\n\u001b[0;32m      3\u001b[0m \u001b[38;5;124m    type : \u001b[39m\u001b[38;5;132;01m{}\u001b[39;00m\n\u001b[0;32m      4\u001b[0m \u001b[38;5;124m    shape : \u001b[39m\u001b[38;5;132;01m{}\u001b[39;00m\n\u001b[0;32m      5\u001b[0m \u001b[38;5;124m    ndim : \u001b[39m\u001b[38;5;132;01m{}\u001b[39;00m\n\u001b[0;32m      6\u001b[0m \u001b[38;5;124m    dtype : \u001b[39m\u001b[38;5;132;01m{}\u001b[39;00m\n\u001b[1;32m----> 7\u001b[0m \u001b[38;5;124m    array data : \u001b[39m\u001b[38;5;130;01m\\n\u001b[39;00m\u001b[38;5;124m \u001b[39m\u001b[38;5;132;01m{}\u001b[39;00m\u001b[38;5;124m'''\u001b[39m\u001b[38;5;241m.\u001b[39mformat(\u001b[38;5;28mtype\u001b[39m(arr), \u001b[43marr\u001b[49m\u001b[38;5;241;43m.\u001b[39;49m\u001b[43mshape\u001b[49m, arr\u001b[38;5;241m.\u001b[39mndim, arr\u001b[38;5;241m.\u001b[39mdtype, arr)\n\u001b[0;32m      8\u001b[0m     \u001b[38;5;28mprint\u001b[39m(text)\n",
      "\u001b[1;31mAttributeError\u001b[0m: 'int' object has no attribute 'shape'"
     ]
    }
   ],
   "source": [
    "rand_randint = np.random.randint(1)\n",
    "\n",
    "np_print(rand_randint)"
   ]
  },
  {
   "cell_type": "markdown",
   "id": "4179eaa4",
   "metadata": {},
   "source": [
    "- `size` 미지정시 1차원 list로 인식 > shape item 존재하지 않음\n",
    "\n",
    "<br>"
   ]
  },
  {
   "cell_type": "markdown",
   "id": "b8f4db6b",
   "metadata": {},
   "source": [
    "<br>\n",
    "\n",
    "- 3미만 양수 10개 추출"
   ]
  },
  {
   "cell_type": "code",
   "execution_count": 105,
   "id": "119a8c67",
   "metadata": {},
   "outputs": [
    {
     "name": "stdout",
     "output_type": "stream",
     "text": [
      "\n",
      "    type : <class 'numpy.ndarray'>\n",
      "    shape : (10,)\n",
      "    ndim : 1\n",
      "    dtype : int32\n",
      "    array data : \n",
      " [2 1 0 2 1 2 2 2 2 1]\n"
     ]
    }
   ],
   "source": [
    "randint_under_3 = np.random.randint(0, 3, size=10)\n",
    "\n",
    "np_print(randint_under_3)"
   ]
  },
  {
   "cell_type": "markdown",
   "id": "ebfb3ce1",
   "metadata": {},
   "source": [
    "<br>\n",
    "\n",
    "- 3초과 10미만 정수 배열, 2행 * 3열"
   ]
  },
  {
   "cell_type": "code",
   "execution_count": 109,
   "id": "28aa044f",
   "metadata": {},
   "outputs": [
    {
     "name": "stdout",
     "output_type": "stream",
     "text": [
      "\n",
      "    type : <class 'numpy.ndarray'>\n",
      "    shape : (2, 4)\n",
      "    ndim : 2\n",
      "    dtype : int32\n",
      "    array data : \n",
      " [[6 4 9 4]\n",
      " [4 4 8 6]]\n"
     ]
    }
   ],
   "source": [
    "randint_2_3 = np.random.randint(4, 10, size=(2, 4))\n",
    "\n",
    "np_print(randint_2_3)"
   ]
  },
  {
   "cell_type": "markdown",
   "id": "d27612a2",
   "metadata": {},
   "source": [
    "<br>\n",
    "\n",
    "- 균등분포로 이루어진 배열에 대한 시각화\n",
    "- -100 ~ +100 범위, 10000개 data, 5개 구간"
   ]
  },
  {
   "cell_type": "code",
   "execution_count": 111,
   "id": "f186483f",
   "metadata": {},
   "outputs": [
    {
     "name": "stdout",
     "output_type": "stream",
     "text": [
      "\n",
      "    type : <class 'numpy.ndarray'>\n",
      "    shape : (10000,)\n",
      "    ndim : 1\n",
      "    dtype : int32\n",
      "    array data : \n",
      " [-89 -98  96 ... -38  40  28]\n"
     ]
    },
    {
     "data": {
      "text/plain": [
       "<function matplotlib.pyplot.show(close=None, block=None)>"
      ]
     },
     "execution_count": 111,
     "metadata": {},
     "output_type": "execute_result"
    },
    {
     "data": {
      "image/png": "[encoded data removed]",
      "text/plain": [
       "<Figure size 432x288 with 1 Axes>"
      ]
     },
     "metadata": {
      "needs_background": "light"
     },
     "output_type": "display_data"
    }
   ],
   "source": [
    "randint_data = np.random.randint(-100, 101, 10000)\n",
    "np_print(randint_data)\n",
    "\n",
    "plt.hist(randint_data, 5)\n",
    "plt.show"
   ]
  },
  {
   "cell_type": "markdown",
   "id": "9df3ca7a",
   "metadata": {},
   "source": [
    "<br>\n",
    "\n",
    "## 5. 난수 == 무작위의 숫자\n",
    "\n",
    "- programming에서 추출되는 난수는 무작위로 만들어진 것 처럼 보이지만 실제로는 고정된 기준(시작점)을 가지고 규칙적으로 생성\n",
    "\n",
    "- 고정된 기준(시작점)을 설정 > 동일한 난수 생성 가능\n",
    "\n",
    "- 난수의 시작점 설정 method: `np.random.seed()`"
   ]
  },
  {
   "cell_type": "markdown",
   "id": "e12f2e8a",
   "metadata": {},
   "source": [
    "<br>\n",
    "\n",
    "### 5.1. 난수 시작점 설정하기 > `np.random.seed(num)`   \n",
    "\\> num == 100"
   ]
  },
  {
   "cell_type": "code",
   "execution_count": 112,
   "id": "84ed2a93",
   "metadata": {},
   "outputs": [],
   "source": [
    "np.random.seed(100)"
   ]
  },
  {
   "cell_type": "markdown",
   "id": "9ca705c1",
   "metadata": {},
   "source": [
    "<br>\n",
    "\n",
    "- 0이상 1미만 고정범위에서 실수값을 가지는 3행 * 3열 난수 생성"
   ]
  },
  {
   "cell_type": "code",
   "execution_count": 115,
   "id": "edcd42d1",
   "metadata": {},
   "outputs": [
    {
     "name": "stdout",
     "output_type": "stream",
     "text": [
      "\n",
      "    type : <class 'numpy.ndarray'>\n",
      "    shape : (3, 3)\n",
      "    ndim : 2\n",
      "    dtype : float64\n",
      "    array data : \n",
      " [[0.54340494 0.27836939 0.42451759]\n",
      " [0.84477613 0.00471886 0.12156912]\n",
      " [0.67074908 0.82585276 0.13670659]]\n"
     ]
    }
   ],
   "source": [
    "np_print(np.random.random((3, 3)))"
   ]
  },
  {
   "cell_type": "markdown",
   "id": "c224ac48",
   "metadata": {},
   "source": [
    "<br>\n",
    "\n",
    "- 0이상 5미만의 지정범위에서 정수값을 가지는 2행*2열 난수 생성"
   ]
  },
  {
   "cell_type": "code",
   "execution_count": 116,
   "id": "168879e6",
   "metadata": {},
   "outputs": [
    {
     "name": "stdout",
     "output_type": "stream",
     "text": [
      "\n",
      "    type : <class 'numpy.ndarray'>\n",
      "    shape : (2, 2)\n",
      "    ndim : 2\n",
      "    dtype : int32\n",
      "    array data : \n",
      " [[0 4]\n",
      " [3 4]]\n"
     ]
    }
   ],
   "source": [
    "np_print(np.random.randint(0, 5, size=(2,2)))"
   ]
  },
  {
   "cell_type": "markdown",
   "id": "3697a38a",
   "metadata": {},
   "source": [
    "<br>\n",
    "\n",
    "### 5.2. 난수 시작점 초기화: `np.random.seed()` <br> parameter 기입하지 않고 실행 시 초기화"
   ]
  },
  {
   "cell_type": "code",
   "execution_count": 118,
   "id": "9cca15a1",
   "metadata": {},
   "outputs": [
    {
     "name": "stdout",
     "output_type": "stream",
     "text": [
      "\n",
      "    type : <class 'numpy.ndarray'>\n",
      "    shape : (2, 2)\n",
      "    ndim : 2\n",
      "    dtype : int32\n",
      "    array data : \n",
      " [[4 2]\n",
      " [1 2]]\n"
     ]
    }
   ],
   "source": [
    "np.random.seed()\n",
    "\n",
    "np_print(np.random.randint(0, 5, size=(2,2)))"
   ]
  },
  {
   "cell_type": "code",
   "execution_count": null,
   "id": "042ee3bf",
   "metadata": {},
   "outputs": [],
   "source": []
  }
 ],
 "metadata": {
  "kernelspec": {
   "display_name": "Python 3 (ipykernel)",
   "language": "python",
   "name": "python3"
  },
  "language_info": {
   "codemirror_mode": {
    "name": "ipython",
    "version": 3
   },
   "file_extension": ".py",
   "mimetype": "text/x-python",
   "name": "python",
   "nbconvert_exporter": "python",
   "pygments_lexer": "ipython3",
   "version": "3.9.12"
  }
 },
 "nbformat": 4,
 "nbformat_minor": 5
}
