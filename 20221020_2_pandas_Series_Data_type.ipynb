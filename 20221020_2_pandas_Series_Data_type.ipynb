{
 "cells": [
  {
   "cell_type": "markdown",
   "id": "0fe122b7",
   "metadata": {},
   "source": [
    "# pandas Series Data type 판다스 시리즈 자료형"
   ]
  },
  {
   "cell_type": "markdown",
   "id": "ecb1e29f",
   "metadata": {},
   "source": [
    "## 0. Pandas\n",
    "- 데이터 처리 및 분석을 위한 라이브러리\n",
    "- 대용량 데이터를 안정적이면서도 간편하게 처리\n",
    "- 서로 다른 데이터타입으로 열단위들을 구성할 수 있음\n",
    "(참고) Numpy : 전체 배열 원소를 동일한 타입으로 제한\n",
    "- 주요 기능\n",
    "    - 데이터 입출력 : csv, excel, RDB, JSON 등 다양한 포맷의 데이터를 효율적으로 처리할 수 있는 형식을 사용\n",
    "    - 데이터 가공 : 분리, 결합, 계층, 피봇 등\n",
    "    - 통계 분석 처리등"
   ]
  },
  {
   "cell_type": "code",
   "execution_count": 2,
   "id": "9a2d735f",
   "metadata": {},
   "outputs": [],
   "source": [
    "#pandas library, Series, DataFrame namespace 불러오기\n",
    "\n",
    "import pandas as pd"
   ]
  },
  {
   "cell_type": "markdown",
   "id": "bcbe03e3",
   "metadata": {},
   "source": [
    "## 1. Series Data type\n",
    "\n",
    "- 1차원 배열과 유사한 자료형\n",
    "    \n",
    "- 색인(index) : 행 번호\n",
    "    \n",
    "    - 각각의 데이터에 부여하는 속성으로 기본값은 0부터 1씩 증가하는 숫자 지정\n",
    "        \n",
    "    - index 파라미터를 통해 새로운 값으로 변경 가능\n",
    "    \n",
    "    - 리스트, 튜플 타입으로 새로운 값을 전달해야하며 다차원 자료형은 사용할 수 없음\n",
    "    \n",
    "    - 전달하는 색인의 개수와 데이터의 개수가 일치해야 함\n",
    "\n",
    "- 각각의 색인과 데이터가 매핑되어 있으므로 dictionary 자료형과 유사\n",
    "\n",
    "- dict + index\n",
    "\n",
    "- 여러 가지 데이터 타입 사용 가능\n",
    "    \n",
    "<img src=\"img/series_example.png\" width=\"250\" align=\"center\">"
   ]
  },
  {
   "cell_type": "markdown",
   "id": "40def89f",
   "metadata": {},
   "source": [
    "<br>\n",
    "\n",
    "- Series 생성"
   ]
  },
  {
   "cell_type": "code",
   "execution_count": 8,
   "id": "01f529a5",
   "metadata": {},
   "outputs": [
    {
     "name": "stderr",
     "output_type": "stream",
     "text": [
      "C:\\Users\\EthanJ\\AppData\\Local\\Temp\\ipykernel_6612\\2031691219.py:1: FutureWarning: The default dtype for empty Series will be 'object' instead of 'float64' in a future version. Specify a dtype explicitly to silence this warning.\n",
      "  pd.Series()\n"
     ]
    },
    {
     "data": {
      "text/plain": [
       "Series([], dtype: float64)"
      ]
     },
     "execution_count": 8,
     "metadata": {},
     "output_type": "execute_result"
    }
   ],
   "source": [
    "pd.Series()"
   ]
  },
  {
   "cell_type": "markdown",
   "id": "d1111e0d",
   "metadata": {},
   "source": [
    "### 1.1. Series 생성\n",
    "- 하나의 값(숫자, 문자) 또는 자료형(리스트, 튜플, np 배열)으로 데이터 전달\n",
    "\n",
    "### 1.2. Series 속성\n",
    "- 속성은 소괄호를 붙이지 않음\n",
    "- index : series 객체의 인덱스 배열을 반환\n",
    "- values : series 객체의 데이터(값) 배열을 반환\n",
    "- name : series 객체의 이름을 반환\n",
    "- dtype : series 객체의 데이터 타입을 반환\n",
    "- size : series 객체의 데이터 개수(길이)를 반환\n",
    "- shape : series 객체의 구조(행, 열, 차원)를 반환"
   ]
  },
  {
   "cell_type": "markdown",
   "id": "694153cc",
   "metadata": {},
   "source": [
    "<br>\n",
    "\n",
    "- 숫자 10을 data로 가지고 있는 Series\n",
    "\n",
    "- data 해석 > \n",
    "\n",
    "1. 왼쪽 0: 자동으로 생성되는 기본 index 번호 > 0부터 시작\n",
    "    \n",
    "2. 오른쪽 10: 입력한 data value"
   ]
  },
  {
   "cell_type": "code",
   "execution_count": 12,
   "id": "32cacf51",
   "metadata": {},
   "outputs": [
    {
     "data": {
      "text/plain": [
       "0    10\n",
       "dtype: int64"
      ]
     },
     "execution_count": 12,
     "metadata": {},
     "output_type": "execute_result"
    }
   ],
   "source": [
    "sre_1 = pd.Series(10)\n",
    "\n",
    "sre_1"
   ]
  },
  {
   "cell_type": "code",
   "execution_count": 13,
   "id": "9bb79215",
   "metadata": {},
   "outputs": [
    {
     "data": {
      "text/plain": [
       "10"
      ]
     },
     "execution_count": 13,
     "metadata": {},
     "output_type": "execute_result"
    }
   ],
   "source": [
    "# 값을 얻을때는 인덱싱이나 슬라이싱을 활용함\n",
    "sre_1[0]"
   ]
  },
  {
   "cell_type": "code",
   "execution_count": 14,
   "id": "2c7adb6d",
   "metadata": {},
   "outputs": [
    {
     "data": {
      "text/plain": [
       "array([10], dtype=int64)"
      ]
     },
     "execution_count": 14,
     "metadata": {},
     "output_type": "execute_result"
    }
   ],
   "source": [
    "# data 내부에 저장된  value 확인\n",
    "sre_1.values"
   ]
  },
  {
   "cell_type": "code",
   "execution_count": 15,
   "id": "b13d2cba",
   "metadata": {},
   "outputs": [
    {
     "data": {
      "text/plain": [
       "RangeIndex(start=0, stop=1, step=1)"
      ]
     },
     "execution_count": 15,
     "metadata": {},
     "output_type": "execute_result"
    }
   ],
   "source": [
    "# index 번호 확인\n",
    "# RangeIndex: dafault로 생성되는 index번호를 사용하는 경우 부여됨\n",
    "sre_1.index"
   ]
  },
  {
   "cell_type": "code",
   "execution_count": 16,
   "id": "a0ed009e",
   "metadata": {},
   "outputs": [
    {
     "data": {
      "text/plain": [
       "0    abc\n",
       "dtype: object"
      ]
     },
     "execution_count": 16,
     "metadata": {},
     "output_type": "execute_result"
    }
   ],
   "source": [
    "# 문자\n",
    "sre_2 = pd.Series(\"abc\")\n",
    "sre_2"
   ]
  },
  {
   "cell_type": "code",
   "execution_count": 17,
   "id": "3c29065d",
   "metadata": {},
   "outputs": [
    {
     "data": {
      "text/plain": [
       "array(['abc'], dtype=object)"
      ]
     },
     "execution_count": 17,
     "metadata": {},
     "output_type": "execute_result"
    }
   ],
   "source": [
    "# data check\n",
    "sre_2.values"
   ]
  },
  {
   "cell_type": "code",
   "execution_count": 18,
   "id": "44a07e05",
   "metadata": {},
   "outputs": [
    {
     "data": {
      "text/plain": [
       "RangeIndex(start=0, stop=1, step=1)"
      ]
     },
     "execution_count": 18,
     "metadata": {},
     "output_type": "execute_result"
    }
   ],
   "source": [
    "# index check\n",
    "sre_2.index"
   ]
  },
  {
   "cell_type": "code",
   "execution_count": 19,
   "id": "9b4bb983",
   "metadata": {},
   "outputs": [
    {
     "data": {
      "text/plain": [
       "0    10\n",
       "1    20\n",
       "2    30\n",
       "dtype: int64"
      ]
     },
     "execution_count": 19,
     "metadata": {},
     "output_type": "execute_result"
    }
   ],
   "source": [
    "# 리스트 자료형 Input\n",
    "sre_3 = pd.Series([10, 20, 30])\n",
    "sre_3"
   ]
  },
  {
   "cell_type": "code",
   "execution_count": 20,
   "id": "618b6561",
   "metadata": {},
   "outputs": [
    {
     "data": {
      "text/plain": [
       "array([10, 20, 30], dtype=int64)"
      ]
     },
     "execution_count": 20,
     "metadata": {},
     "output_type": "execute_result"
    }
   ],
   "source": [
    "# data check\n",
    "sre_3.values # NumPy.ndarray"
   ]
  },
  {
   "cell_type": "code",
   "execution_count": 21,
   "id": "c1d83a49",
   "metadata": {},
   "outputs": [
    {
     "data": {
      "text/plain": [
       "RangeIndex(start=0, stop=3, step=1)"
      ]
     },
     "execution_count": 21,
     "metadata": {},
     "output_type": "execute_result"
    }
   ],
   "source": [
    "# index check\n",
    "# 0 이상 3 미만 RangeIndex: 0, 1, 2\n",
    "sre_3.index"
   ]
  },
  {
   "cell_type": "code",
   "execution_count": 22,
   "id": "f4cd33de",
   "metadata": {},
   "outputs": [
    {
     "data": {
      "text/plain": [
       "0         10.3\n",
       "1         test\n",
       "2         2000\n",
       "3    [1, 2, 3]\n",
       "dtype: object"
      ]
     },
     "execution_count": 22,
     "metadata": {},
     "output_type": "execute_result"
    }
   ],
   "source": [
    "# item data type이 서로 다른 list data type input\n",
    "sre_4 = pd.Series([10.3, \"test\", 2000, [1, 2, 3]])\n",
    "sre_4"
   ]
  },
  {
   "cell_type": "code",
   "execution_count": 23,
   "id": "037e36b1",
   "metadata": {},
   "outputs": [],
   "source": [
    "# data type 특정지을 수 없을때 > dtype: object"
   ]
  },
  {
   "cell_type": "code",
   "execution_count": 24,
   "id": "e5583ea3",
   "metadata": {},
   "outputs": [
    {
     "data": {
      "text/plain": [
       "array([10.3, 'test', 2000, list([1, 2, 3])], dtype=object)"
      ]
     },
     "execution_count": 24,
     "metadata": {},
     "output_type": "execute_result"
    }
   ],
   "source": [
    "# data check\n",
    "sre_4.values"
   ]
  },
  {
   "cell_type": "code",
   "execution_count": 25,
   "id": "a25aad57",
   "metadata": {},
   "outputs": [
    {
     "data": {
      "text/plain": [
       "RangeIndex(start=0, stop=4, step=1)"
      ]
     },
     "execution_count": 25,
     "metadata": {},
     "output_type": "execute_result"
    }
   ],
   "source": [
    "# index check\n",
    "sre_4.index"
   ]
  },
  {
   "cell_type": "code",
   "execution_count": 26,
   "id": "ab8af0ef",
   "metadata": {},
   "outputs": [
    {
     "data": {
      "text/plain": [
       "a    10\n",
       "b    20\n",
       "c    30\n",
       "dtype: int64"
      ]
     },
     "execution_count": 26,
     "metadata": {},
     "output_type": "execute_result"
    }
   ],
   "source": [
    "# dict data type > 자동으로 라벨 부여, key > index, value > data\n",
    "sre_5 = pd.Series({'a':10, 'b':20, 'c':30})\n",
    "sre_5"
   ]
  },
  {
   "cell_type": "code",
   "execution_count": 27,
   "id": "088662c2",
   "metadata": {},
   "outputs": [
    {
     "data": {
      "text/plain": [
       "array([10, 20, 30], dtype=int64)"
      ]
     },
     "execution_count": 27,
     "metadata": {},
     "output_type": "execute_result"
    }
   ],
   "source": [
    "# data check\n",
    "sre_5.values"
   ]
  },
  {
   "cell_type": "code",
   "execution_count": 28,
   "id": "001a0574",
   "metadata": {},
   "outputs": [
    {
     "data": {
      "text/plain": [
       "Index(['a', 'b', 'c'], dtype='object')"
      ]
     },
     "execution_count": 28,
     "metadata": {},
     "output_type": "execute_result"
    }
   ],
   "source": [
    "# index check\n",
    "sre_5.index"
   ]
  },
  {
   "cell_type": "code",
   "execution_count": 29,
   "id": "56eb6445",
   "metadata": {},
   "outputs": [
    {
     "data": {
      "text/plain": [
       "10"
      ]
     },
     "execution_count": 29,
     "metadata": {},
     "output_type": "execute_result"
    }
   ],
   "source": [
    "# int index 병행 사용 가능\n",
    "sre_5[0]"
   ]
  },
  {
   "cell_type": "code",
   "execution_count": 30,
   "id": "9068c5b6",
   "metadata": {},
   "outputs": [
    {
     "data": {
      "text/plain": [
       "10"
      ]
     },
     "execution_count": 30,
     "metadata": {},
     "output_type": "execute_result"
    }
   ],
   "source": [
    "sre_5['a']"
   ]
  },
  {
   "cell_type": "code",
   "execution_count": null,
   "id": "44d865d1",
   "metadata": {},
   "outputs": [],
   "source": []
  }
 ],
 "metadata": {
  "kernelspec": {
   "display_name": "Python 3 (ipykernel)",
   "language": "python",
   "name": "python3"
  },
  "language_info": {
   "codemirror_mode": {
    "name": "ipython",
    "version": 3
   },
   "file_extension": ".py",
   "mimetype": "text/x-python",
   "name": "python",
   "nbconvert_exporter": "python",
   "pygments_lexer": "ipython3",
   "version": "3.9.12"
  }
 },
 "nbformat": 4,
 "nbformat_minor": 5
}
